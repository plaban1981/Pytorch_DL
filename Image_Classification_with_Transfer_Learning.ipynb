{
  "nbformat": 4,
  "nbformat_minor": 0,
  "metadata": {
    "colab": {
      "provenance": [],
      "authorship_tag": "ABX9TyMgnLrojXKVAdMh1+CJ2AyC",
      "include_colab_link": true
    },
    "kernelspec": {
      "name": "python3",
      "display_name": "Python 3"
    },
    "language_info": {
      "name": "python"
    },
    "accelerator": "GPU",
    "gpuClass": "standard",
    "widgets": {
      "application/vnd.jupyter.widget-state+json": {
        "343bf0afdc7a4a0db99c5cfaecfacd9f": {
          "model_module": "@jupyter-widgets/controls",
          "model_name": "HBoxModel",
          "model_module_version": "1.5.0",
          "state": {
            "_dom_classes": [],
            "_model_module": "@jupyter-widgets/controls",
            "_model_module_version": "1.5.0",
            "_model_name": "HBoxModel",
            "_view_count": null,
            "_view_module": "@jupyter-widgets/controls",
            "_view_module_version": "1.5.0",
            "_view_name": "HBoxView",
            "box_style": "",
            "children": [
              "IPY_MODEL_dbcfcb3d2d85486fb74475276fa65b16",
              "IPY_MODEL_498086ae77d143d39980a07ea86b8bb7",
              "IPY_MODEL_560bd7adff884d9f8f7140f96805c0c8"
            ],
            "layout": "IPY_MODEL_fbbb23966e6949ddaeb31d07b4a97b69"
          }
        },
        "dbcfcb3d2d85486fb74475276fa65b16": {
          "model_module": "@jupyter-widgets/controls",
          "model_name": "HTMLModel",
          "model_module_version": "1.5.0",
          "state": {
            "_dom_classes": [],
            "_model_module": "@jupyter-widgets/controls",
            "_model_module_version": "1.5.0",
            "_model_name": "HTMLModel",
            "_view_count": null,
            "_view_module": "@jupyter-widgets/controls",
            "_view_module_version": "1.5.0",
            "_view_name": "HTMLView",
            "description": "",
            "description_tooltip": null,
            "layout": "IPY_MODEL_0413b696dc8f4db28a04bfe5a315007c",
            "placeholder": "​",
            "style": "IPY_MODEL_cb63b0b35cdd47b8b3f77b64186c5461",
            "value": "100%"
          }
        },
        "498086ae77d143d39980a07ea86b8bb7": {
          "model_module": "@jupyter-widgets/controls",
          "model_name": "FloatProgressModel",
          "model_module_version": "1.5.0",
          "state": {
            "_dom_classes": [],
            "_model_module": "@jupyter-widgets/controls",
            "_model_module_version": "1.5.0",
            "_model_name": "FloatProgressModel",
            "_view_count": null,
            "_view_module": "@jupyter-widgets/controls",
            "_view_module_version": "1.5.0",
            "_view_name": "ProgressView",
            "bar_style": "success",
            "description": "",
            "description_tooltip": null,
            "layout": "IPY_MODEL_14ac0627d3554afc89def8538e3f1f40",
            "max": 170498071,
            "min": 0,
            "orientation": "horizontal",
            "style": "IPY_MODEL_ea8eb8470d3a4aeaa83c71af834dcb27",
            "value": 170498071
          }
        },
        "560bd7adff884d9f8f7140f96805c0c8": {
          "model_module": "@jupyter-widgets/controls",
          "model_name": "HTMLModel",
          "model_module_version": "1.5.0",
          "state": {
            "_dom_classes": [],
            "_model_module": "@jupyter-widgets/controls",
            "_model_module_version": "1.5.0",
            "_model_name": "HTMLModel",
            "_view_count": null,
            "_view_module": "@jupyter-widgets/controls",
            "_view_module_version": "1.5.0",
            "_view_name": "HTMLView",
            "description": "",
            "description_tooltip": null,
            "layout": "IPY_MODEL_74da18ce0340482cbb8c069dd1a0c67a",
            "placeholder": "​",
            "style": "IPY_MODEL_9afb5d565ad04c46a7a4b2ab10b3c40b",
            "value": " 170498071/170498071 [00:03&lt;00:00, 55942688.46it/s]"
          }
        },
        "fbbb23966e6949ddaeb31d07b4a97b69": {
          "model_module": "@jupyter-widgets/base",
          "model_name": "LayoutModel",
          "model_module_version": "1.2.0",
          "state": {
            "_model_module": "@jupyter-widgets/base",
            "_model_module_version": "1.2.0",
            "_model_name": "LayoutModel",
            "_view_count": null,
            "_view_module": "@jupyter-widgets/base",
            "_view_module_version": "1.2.0",
            "_view_name": "LayoutView",
            "align_content": null,
            "align_items": null,
            "align_self": null,
            "border": null,
            "bottom": null,
            "display": null,
            "flex": null,
            "flex_flow": null,
            "grid_area": null,
            "grid_auto_columns": null,
            "grid_auto_flow": null,
            "grid_auto_rows": null,
            "grid_column": null,
            "grid_gap": null,
            "grid_row": null,
            "grid_template_areas": null,
            "grid_template_columns": null,
            "grid_template_rows": null,
            "height": null,
            "justify_content": null,
            "justify_items": null,
            "left": null,
            "margin": null,
            "max_height": null,
            "max_width": null,
            "min_height": null,
            "min_width": null,
            "object_fit": null,
            "object_position": null,
            "order": null,
            "overflow": null,
            "overflow_x": null,
            "overflow_y": null,
            "padding": null,
            "right": null,
            "top": null,
            "visibility": null,
            "width": null
          }
        },
        "0413b696dc8f4db28a04bfe5a315007c": {
          "model_module": "@jupyter-widgets/base",
          "model_name": "LayoutModel",
          "model_module_version": "1.2.0",
          "state": {
            "_model_module": "@jupyter-widgets/base",
            "_model_module_version": "1.2.0",
            "_model_name": "LayoutModel",
            "_view_count": null,
            "_view_module": "@jupyter-widgets/base",
            "_view_module_version": "1.2.0",
            "_view_name": "LayoutView",
            "align_content": null,
            "align_items": null,
            "align_self": null,
            "border": null,
            "bottom": null,
            "display": null,
            "flex": null,
            "flex_flow": null,
            "grid_area": null,
            "grid_auto_columns": null,
            "grid_auto_flow": null,
            "grid_auto_rows": null,
            "grid_column": null,
            "grid_gap": null,
            "grid_row": null,
            "grid_template_areas": null,
            "grid_template_columns": null,
            "grid_template_rows": null,
            "height": null,
            "justify_content": null,
            "justify_items": null,
            "left": null,
            "margin": null,
            "max_height": null,
            "max_width": null,
            "min_height": null,
            "min_width": null,
            "object_fit": null,
            "object_position": null,
            "order": null,
            "overflow": null,
            "overflow_x": null,
            "overflow_y": null,
            "padding": null,
            "right": null,
            "top": null,
            "visibility": null,
            "width": null
          }
        },
        "cb63b0b35cdd47b8b3f77b64186c5461": {
          "model_module": "@jupyter-widgets/controls",
          "model_name": "DescriptionStyleModel",
          "model_module_version": "1.5.0",
          "state": {
            "_model_module": "@jupyter-widgets/controls",
            "_model_module_version": "1.5.0",
            "_model_name": "DescriptionStyleModel",
            "_view_count": null,
            "_view_module": "@jupyter-widgets/base",
            "_view_module_version": "1.2.0",
            "_view_name": "StyleView",
            "description_width": ""
          }
        },
        "14ac0627d3554afc89def8538e3f1f40": {
          "model_module": "@jupyter-widgets/base",
          "model_name": "LayoutModel",
          "model_module_version": "1.2.0",
          "state": {
            "_model_module": "@jupyter-widgets/base",
            "_model_module_version": "1.2.0",
            "_model_name": "LayoutModel",
            "_view_count": null,
            "_view_module": "@jupyter-widgets/base",
            "_view_module_version": "1.2.0",
            "_view_name": "LayoutView",
            "align_content": null,
            "align_items": null,
            "align_self": null,
            "border": null,
            "bottom": null,
            "display": null,
            "flex": null,
            "flex_flow": null,
            "grid_area": null,
            "grid_auto_columns": null,
            "grid_auto_flow": null,
            "grid_auto_rows": null,
            "grid_column": null,
            "grid_gap": null,
            "grid_row": null,
            "grid_template_areas": null,
            "grid_template_columns": null,
            "grid_template_rows": null,
            "height": null,
            "justify_content": null,
            "justify_items": null,
            "left": null,
            "margin": null,
            "max_height": null,
            "max_width": null,
            "min_height": null,
            "min_width": null,
            "object_fit": null,
            "object_position": null,
            "order": null,
            "overflow": null,
            "overflow_x": null,
            "overflow_y": null,
            "padding": null,
            "right": null,
            "top": null,
            "visibility": null,
            "width": null
          }
        },
        "ea8eb8470d3a4aeaa83c71af834dcb27": {
          "model_module": "@jupyter-widgets/controls",
          "model_name": "ProgressStyleModel",
          "model_module_version": "1.5.0",
          "state": {
            "_model_module": "@jupyter-widgets/controls",
            "_model_module_version": "1.5.0",
            "_model_name": "ProgressStyleModel",
            "_view_count": null,
            "_view_module": "@jupyter-widgets/base",
            "_view_module_version": "1.2.0",
            "_view_name": "StyleView",
            "bar_color": null,
            "description_width": ""
          }
        },
        "74da18ce0340482cbb8c069dd1a0c67a": {
          "model_module": "@jupyter-widgets/base",
          "model_name": "LayoutModel",
          "model_module_version": "1.2.0",
          "state": {
            "_model_module": "@jupyter-widgets/base",
            "_model_module_version": "1.2.0",
            "_model_name": "LayoutModel",
            "_view_count": null,
            "_view_module": "@jupyter-widgets/base",
            "_view_module_version": "1.2.0",
            "_view_name": "LayoutView",
            "align_content": null,
            "align_items": null,
            "align_self": null,
            "border": null,
            "bottom": null,
            "display": null,
            "flex": null,
            "flex_flow": null,
            "grid_area": null,
            "grid_auto_columns": null,
            "grid_auto_flow": null,
            "grid_auto_rows": null,
            "grid_column": null,
            "grid_gap": null,
            "grid_row": null,
            "grid_template_areas": null,
            "grid_template_columns": null,
            "grid_template_rows": null,
            "height": null,
            "justify_content": null,
            "justify_items": null,
            "left": null,
            "margin": null,
            "max_height": null,
            "max_width": null,
            "min_height": null,
            "min_width": null,
            "object_fit": null,
            "object_position": null,
            "order": null,
            "overflow": null,
            "overflow_x": null,
            "overflow_y": null,
            "padding": null,
            "right": null,
            "top": null,
            "visibility": null,
            "width": null
          }
        },
        "9afb5d565ad04c46a7a4b2ab10b3c40b": {
          "model_module": "@jupyter-widgets/controls",
          "model_name": "DescriptionStyleModel",
          "model_module_version": "1.5.0",
          "state": {
            "_model_module": "@jupyter-widgets/controls",
            "_model_module_version": "1.5.0",
            "_model_name": "DescriptionStyleModel",
            "_view_count": null,
            "_view_module": "@jupyter-widgets/base",
            "_view_module_version": "1.2.0",
            "_view_name": "StyleView",
            "description_width": ""
          }
        },
        "0a2a0a8b87794ca08d0af3b2051478e8": {
          "model_module": "@jupyter-widgets/controls",
          "model_name": "HBoxModel",
          "model_module_version": "1.5.0",
          "state": {
            "_dom_classes": [],
            "_model_module": "@jupyter-widgets/controls",
            "_model_module_version": "1.5.0",
            "_model_name": "HBoxModel",
            "_view_count": null,
            "_view_module": "@jupyter-widgets/controls",
            "_view_module_version": "1.5.0",
            "_view_name": "HBoxView",
            "box_style": "",
            "children": [
              "IPY_MODEL_a13f7107bc3d4c64bc64fa2b597fa6d0",
              "IPY_MODEL_32b68486406043f8ab62694735a95f9a",
              "IPY_MODEL_026283b9f36d438ba95f64883d381fff"
            ],
            "layout": "IPY_MODEL_9d6c2dcfb6a24dcf8ded3586620cdb0d"
          }
        },
        "a13f7107bc3d4c64bc64fa2b597fa6d0": {
          "model_module": "@jupyter-widgets/controls",
          "model_name": "HTMLModel",
          "model_module_version": "1.5.0",
          "state": {
            "_dom_classes": [],
            "_model_module": "@jupyter-widgets/controls",
            "_model_module_version": "1.5.0",
            "_model_name": "HTMLModel",
            "_view_count": null,
            "_view_module": "@jupyter-widgets/controls",
            "_view_module_version": "1.5.0",
            "_view_name": "HTMLView",
            "description": "",
            "description_tooltip": null,
            "layout": "IPY_MODEL_100c7d5b286d45df8871f41f9ca41d0a",
            "placeholder": "​",
            "style": "IPY_MODEL_cdf70bf1e67243608d5aa5238925d87b",
            "value": "100%"
          }
        },
        "32b68486406043f8ab62694735a95f9a": {
          "model_module": "@jupyter-widgets/controls",
          "model_name": "FloatProgressModel",
          "model_module_version": "1.5.0",
          "state": {
            "_dom_classes": [],
            "_model_module": "@jupyter-widgets/controls",
            "_model_module_version": "1.5.0",
            "_model_name": "FloatProgressModel",
            "_view_count": null,
            "_view_module": "@jupyter-widgets/controls",
            "_view_module_version": "1.5.0",
            "_view_name": "ProgressView",
            "bar_style": "success",
            "description": "",
            "description_tooltip": null,
            "layout": "IPY_MODEL_02923a8a0708457bbecb463f4c40c4e4",
            "max": 170498071,
            "min": 0,
            "orientation": "horizontal",
            "style": "IPY_MODEL_12aa182088f94d859028270e39a91c57",
            "value": 170498071
          }
        },
        "026283b9f36d438ba95f64883d381fff": {
          "model_module": "@jupyter-widgets/controls",
          "model_name": "HTMLModel",
          "model_module_version": "1.5.0",
          "state": {
            "_dom_classes": [],
            "_model_module": "@jupyter-widgets/controls",
            "_model_module_version": "1.5.0",
            "_model_name": "HTMLModel",
            "_view_count": null,
            "_view_module": "@jupyter-widgets/controls",
            "_view_module_version": "1.5.0",
            "_view_name": "HTMLView",
            "description": "",
            "description_tooltip": null,
            "layout": "IPY_MODEL_dae4017ee65940e68a18115ae61dd52f",
            "placeholder": "​",
            "style": "IPY_MODEL_37655605eb6b48868109d8a0acbb18e5",
            "value": " 170498071/170498071 [00:03&lt;00:00, 53871833.87it/s]"
          }
        },
        "9d6c2dcfb6a24dcf8ded3586620cdb0d": {
          "model_module": "@jupyter-widgets/base",
          "model_name": "LayoutModel",
          "model_module_version": "1.2.0",
          "state": {
            "_model_module": "@jupyter-widgets/base",
            "_model_module_version": "1.2.0",
            "_model_name": "LayoutModel",
            "_view_count": null,
            "_view_module": "@jupyter-widgets/base",
            "_view_module_version": "1.2.0",
            "_view_name": "LayoutView",
            "align_content": null,
            "align_items": null,
            "align_self": null,
            "border": null,
            "bottom": null,
            "display": null,
            "flex": null,
            "flex_flow": null,
            "grid_area": null,
            "grid_auto_columns": null,
            "grid_auto_flow": null,
            "grid_auto_rows": null,
            "grid_column": null,
            "grid_gap": null,
            "grid_row": null,
            "grid_template_areas": null,
            "grid_template_columns": null,
            "grid_template_rows": null,
            "height": null,
            "justify_content": null,
            "justify_items": null,
            "left": null,
            "margin": null,
            "max_height": null,
            "max_width": null,
            "min_height": null,
            "min_width": null,
            "object_fit": null,
            "object_position": null,
            "order": null,
            "overflow": null,
            "overflow_x": null,
            "overflow_y": null,
            "padding": null,
            "right": null,
            "top": null,
            "visibility": null,
            "width": null
          }
        },
        "100c7d5b286d45df8871f41f9ca41d0a": {
          "model_module": "@jupyter-widgets/base",
          "model_name": "LayoutModel",
          "model_module_version": "1.2.0",
          "state": {
            "_model_module": "@jupyter-widgets/base",
            "_model_module_version": "1.2.0",
            "_model_name": "LayoutModel",
            "_view_count": null,
            "_view_module": "@jupyter-widgets/base",
            "_view_module_version": "1.2.0",
            "_view_name": "LayoutView",
            "align_content": null,
            "align_items": null,
            "align_self": null,
            "border": null,
            "bottom": null,
            "display": null,
            "flex": null,
            "flex_flow": null,
            "grid_area": null,
            "grid_auto_columns": null,
            "grid_auto_flow": null,
            "grid_auto_rows": null,
            "grid_column": null,
            "grid_gap": null,
            "grid_row": null,
            "grid_template_areas": null,
            "grid_template_columns": null,
            "grid_template_rows": null,
            "height": null,
            "justify_content": null,
            "justify_items": null,
            "left": null,
            "margin": null,
            "max_height": null,
            "max_width": null,
            "min_height": null,
            "min_width": null,
            "object_fit": null,
            "object_position": null,
            "order": null,
            "overflow": null,
            "overflow_x": null,
            "overflow_y": null,
            "padding": null,
            "right": null,
            "top": null,
            "visibility": null,
            "width": null
          }
        },
        "cdf70bf1e67243608d5aa5238925d87b": {
          "model_module": "@jupyter-widgets/controls",
          "model_name": "DescriptionStyleModel",
          "model_module_version": "1.5.0",
          "state": {
            "_model_module": "@jupyter-widgets/controls",
            "_model_module_version": "1.5.0",
            "_model_name": "DescriptionStyleModel",
            "_view_count": null,
            "_view_module": "@jupyter-widgets/base",
            "_view_module_version": "1.2.0",
            "_view_name": "StyleView",
            "description_width": ""
          }
        },
        "02923a8a0708457bbecb463f4c40c4e4": {
          "model_module": "@jupyter-widgets/base",
          "model_name": "LayoutModel",
          "model_module_version": "1.2.0",
          "state": {
            "_model_module": "@jupyter-widgets/base",
            "_model_module_version": "1.2.0",
            "_model_name": "LayoutModel",
            "_view_count": null,
            "_view_module": "@jupyter-widgets/base",
            "_view_module_version": "1.2.0",
            "_view_name": "LayoutView",
            "align_content": null,
            "align_items": null,
            "align_self": null,
            "border": null,
            "bottom": null,
            "display": null,
            "flex": null,
            "flex_flow": null,
            "grid_area": null,
            "grid_auto_columns": null,
            "grid_auto_flow": null,
            "grid_auto_rows": null,
            "grid_column": null,
            "grid_gap": null,
            "grid_row": null,
            "grid_template_areas": null,
            "grid_template_columns": null,
            "grid_template_rows": null,
            "height": null,
            "justify_content": null,
            "justify_items": null,
            "left": null,
            "margin": null,
            "max_height": null,
            "max_width": null,
            "min_height": null,
            "min_width": null,
            "object_fit": null,
            "object_position": null,
            "order": null,
            "overflow": null,
            "overflow_x": null,
            "overflow_y": null,
            "padding": null,
            "right": null,
            "top": null,
            "visibility": null,
            "width": null
          }
        },
        "12aa182088f94d859028270e39a91c57": {
          "model_module": "@jupyter-widgets/controls",
          "model_name": "ProgressStyleModel",
          "model_module_version": "1.5.0",
          "state": {
            "_model_module": "@jupyter-widgets/controls",
            "_model_module_version": "1.5.0",
            "_model_name": "ProgressStyleModel",
            "_view_count": null,
            "_view_module": "@jupyter-widgets/base",
            "_view_module_version": "1.2.0",
            "_view_name": "StyleView",
            "bar_color": null,
            "description_width": ""
          }
        },
        "dae4017ee65940e68a18115ae61dd52f": {
          "model_module": "@jupyter-widgets/base",
          "model_name": "LayoutModel",
          "model_module_version": "1.2.0",
          "state": {
            "_model_module": "@jupyter-widgets/base",
            "_model_module_version": "1.2.0",
            "_model_name": "LayoutModel",
            "_view_count": null,
            "_view_module": "@jupyter-widgets/base",
            "_view_module_version": "1.2.0",
            "_view_name": "LayoutView",
            "align_content": null,
            "align_items": null,
            "align_self": null,
            "border": null,
            "bottom": null,
            "display": null,
            "flex": null,
            "flex_flow": null,
            "grid_area": null,
            "grid_auto_columns": null,
            "grid_auto_flow": null,
            "grid_auto_rows": null,
            "grid_column": null,
            "grid_gap": null,
            "grid_row": null,
            "grid_template_areas": null,
            "grid_template_columns": null,
            "grid_template_rows": null,
            "height": null,
            "justify_content": null,
            "justify_items": null,
            "left": null,
            "margin": null,
            "max_height": null,
            "max_width": null,
            "min_height": null,
            "min_width": null,
            "object_fit": null,
            "object_position": null,
            "order": null,
            "overflow": null,
            "overflow_x": null,
            "overflow_y": null,
            "padding": null,
            "right": null,
            "top": null,
            "visibility": null,
            "width": null
          }
        },
        "37655605eb6b48868109d8a0acbb18e5": {
          "model_module": "@jupyter-widgets/controls",
          "model_name": "DescriptionStyleModel",
          "model_module_version": "1.5.0",
          "state": {
            "_model_module": "@jupyter-widgets/controls",
            "_model_module_version": "1.5.0",
            "_model_name": "DescriptionStyleModel",
            "_view_count": null,
            "_view_module": "@jupyter-widgets/base",
            "_view_module_version": "1.2.0",
            "_view_name": "StyleView",
            "description_width": ""
          }
        },
        "ba2c7c62cca847a9b15ada4332917655": {
          "model_module": "@jupyter-widgets/controls",
          "model_name": "HBoxModel",
          "model_module_version": "1.5.0",
          "state": {
            "_dom_classes": [],
            "_model_module": "@jupyter-widgets/controls",
            "_model_module_version": "1.5.0",
            "_model_name": "HBoxModel",
            "_view_count": null,
            "_view_module": "@jupyter-widgets/controls",
            "_view_module_version": "1.5.0",
            "_view_name": "HBoxView",
            "box_style": "",
            "children": [
              "IPY_MODEL_2cdc75e954fe487d8e8790c8ed39e703",
              "IPY_MODEL_d5d54fbeccc342b392ffb32808231908",
              "IPY_MODEL_7431ab48ddc843caa4edfeaa953220e6"
            ],
            "layout": "IPY_MODEL_8a50fa2eb47642a1b41ff78e6ea57e60"
          }
        },
        "2cdc75e954fe487d8e8790c8ed39e703": {
          "model_module": "@jupyter-widgets/controls",
          "model_name": "HTMLModel",
          "model_module_version": "1.5.0",
          "state": {
            "_dom_classes": [],
            "_model_module": "@jupyter-widgets/controls",
            "_model_module_version": "1.5.0",
            "_model_name": "HTMLModel",
            "_view_count": null,
            "_view_module": "@jupyter-widgets/controls",
            "_view_module_version": "1.5.0",
            "_view_name": "HTMLView",
            "description": "",
            "description_tooltip": null,
            "layout": "IPY_MODEL_2b5e590d6c9140289b48a4b4f4bde3b5",
            "placeholder": "​",
            "style": "IPY_MODEL_355e024200224e948b3e2f9444c90384",
            "value": "100%"
          }
        },
        "d5d54fbeccc342b392ffb32808231908": {
          "model_module": "@jupyter-widgets/controls",
          "model_name": "FloatProgressModel",
          "model_module_version": "1.5.0",
          "state": {
            "_dom_classes": [],
            "_model_module": "@jupyter-widgets/controls",
            "_model_module_version": "1.5.0",
            "_model_name": "FloatProgressModel",
            "_view_count": null,
            "_view_module": "@jupyter-widgets/controls",
            "_view_module_version": "1.5.0",
            "_view_name": "ProgressView",
            "bar_style": "success",
            "description": "",
            "description_tooltip": null,
            "layout": "IPY_MODEL_42ef6ef7ce9644c886f46fedfd7afe6b",
            "max": 46830571,
            "min": 0,
            "orientation": "horizontal",
            "style": "IPY_MODEL_9b91f9f1ce95481bad3da4f072dba30a",
            "value": 46830571
          }
        },
        "7431ab48ddc843caa4edfeaa953220e6": {
          "model_module": "@jupyter-widgets/controls",
          "model_name": "HTMLModel",
          "model_module_version": "1.5.0",
          "state": {
            "_dom_classes": [],
            "_model_module": "@jupyter-widgets/controls",
            "_model_module_version": "1.5.0",
            "_model_name": "HTMLModel",
            "_view_count": null,
            "_view_module": "@jupyter-widgets/controls",
            "_view_module_version": "1.5.0",
            "_view_name": "HTMLView",
            "description": "",
            "description_tooltip": null,
            "layout": "IPY_MODEL_d9afc4bfedc34e3bbc77bcc56fb7961f",
            "placeholder": "​",
            "style": "IPY_MODEL_ee1225467ca34d418af04651749e5184",
            "value": " 44.7M/44.7M [00:00&lt;00:00, 115MB/s]"
          }
        },
        "8a50fa2eb47642a1b41ff78e6ea57e60": {
          "model_module": "@jupyter-widgets/base",
          "model_name": "LayoutModel",
          "model_module_version": "1.2.0",
          "state": {
            "_model_module": "@jupyter-widgets/base",
            "_model_module_version": "1.2.0",
            "_model_name": "LayoutModel",
            "_view_count": null,
            "_view_module": "@jupyter-widgets/base",
            "_view_module_version": "1.2.0",
            "_view_name": "LayoutView",
            "align_content": null,
            "align_items": null,
            "align_self": null,
            "border": null,
            "bottom": null,
            "display": null,
            "flex": null,
            "flex_flow": null,
            "grid_area": null,
            "grid_auto_columns": null,
            "grid_auto_flow": null,
            "grid_auto_rows": null,
            "grid_column": null,
            "grid_gap": null,
            "grid_row": null,
            "grid_template_areas": null,
            "grid_template_columns": null,
            "grid_template_rows": null,
            "height": null,
            "justify_content": null,
            "justify_items": null,
            "left": null,
            "margin": null,
            "max_height": null,
            "max_width": null,
            "min_height": null,
            "min_width": null,
            "object_fit": null,
            "object_position": null,
            "order": null,
            "overflow": null,
            "overflow_x": null,
            "overflow_y": null,
            "padding": null,
            "right": null,
            "top": null,
            "visibility": null,
            "width": null
          }
        },
        "2b5e590d6c9140289b48a4b4f4bde3b5": {
          "model_module": "@jupyter-widgets/base",
          "model_name": "LayoutModel",
          "model_module_version": "1.2.0",
          "state": {
            "_model_module": "@jupyter-widgets/base",
            "_model_module_version": "1.2.0",
            "_model_name": "LayoutModel",
            "_view_count": null,
            "_view_module": "@jupyter-widgets/base",
            "_view_module_version": "1.2.0",
            "_view_name": "LayoutView",
            "align_content": null,
            "align_items": null,
            "align_self": null,
            "border": null,
            "bottom": null,
            "display": null,
            "flex": null,
            "flex_flow": null,
            "grid_area": null,
            "grid_auto_columns": null,
            "grid_auto_flow": null,
            "grid_auto_rows": null,
            "grid_column": null,
            "grid_gap": null,
            "grid_row": null,
            "grid_template_areas": null,
            "grid_template_columns": null,
            "grid_template_rows": null,
            "height": null,
            "justify_content": null,
            "justify_items": null,
            "left": null,
            "margin": null,
            "max_height": null,
            "max_width": null,
            "min_height": null,
            "min_width": null,
            "object_fit": null,
            "object_position": null,
            "order": null,
            "overflow": null,
            "overflow_x": null,
            "overflow_y": null,
            "padding": null,
            "right": null,
            "top": null,
            "visibility": null,
            "width": null
          }
        },
        "355e024200224e948b3e2f9444c90384": {
          "model_module": "@jupyter-widgets/controls",
          "model_name": "DescriptionStyleModel",
          "model_module_version": "1.5.0",
          "state": {
            "_model_module": "@jupyter-widgets/controls",
            "_model_module_version": "1.5.0",
            "_model_name": "DescriptionStyleModel",
            "_view_count": null,
            "_view_module": "@jupyter-widgets/base",
            "_view_module_version": "1.2.0",
            "_view_name": "StyleView",
            "description_width": ""
          }
        },
        "42ef6ef7ce9644c886f46fedfd7afe6b": {
          "model_module": "@jupyter-widgets/base",
          "model_name": "LayoutModel",
          "model_module_version": "1.2.0",
          "state": {
            "_model_module": "@jupyter-widgets/base",
            "_model_module_version": "1.2.0",
            "_model_name": "LayoutModel",
            "_view_count": null,
            "_view_module": "@jupyter-widgets/base",
            "_view_module_version": "1.2.0",
            "_view_name": "LayoutView",
            "align_content": null,
            "align_items": null,
            "align_self": null,
            "border": null,
            "bottom": null,
            "display": null,
            "flex": null,
            "flex_flow": null,
            "grid_area": null,
            "grid_auto_columns": null,
            "grid_auto_flow": null,
            "grid_auto_rows": null,
            "grid_column": null,
            "grid_gap": null,
            "grid_row": null,
            "grid_template_areas": null,
            "grid_template_columns": null,
            "grid_template_rows": null,
            "height": null,
            "justify_content": null,
            "justify_items": null,
            "left": null,
            "margin": null,
            "max_height": null,
            "max_width": null,
            "min_height": null,
            "min_width": null,
            "object_fit": null,
            "object_position": null,
            "order": null,
            "overflow": null,
            "overflow_x": null,
            "overflow_y": null,
            "padding": null,
            "right": null,
            "top": null,
            "visibility": null,
            "width": null
          }
        },
        "9b91f9f1ce95481bad3da4f072dba30a": {
          "model_module": "@jupyter-widgets/controls",
          "model_name": "ProgressStyleModel",
          "model_module_version": "1.5.0",
          "state": {
            "_model_module": "@jupyter-widgets/controls",
            "_model_module_version": "1.5.0",
            "_model_name": "ProgressStyleModel",
            "_view_count": null,
            "_view_module": "@jupyter-widgets/base",
            "_view_module_version": "1.2.0",
            "_view_name": "StyleView",
            "bar_color": null,
            "description_width": ""
          }
        },
        "d9afc4bfedc34e3bbc77bcc56fb7961f": {
          "model_module": "@jupyter-widgets/base",
          "model_name": "LayoutModel",
          "model_module_version": "1.2.0",
          "state": {
            "_model_module": "@jupyter-widgets/base",
            "_model_module_version": "1.2.0",
            "_model_name": "LayoutModel",
            "_view_count": null,
            "_view_module": "@jupyter-widgets/base",
            "_view_module_version": "1.2.0",
            "_view_name": "LayoutView",
            "align_content": null,
            "align_items": null,
            "align_self": null,
            "border": null,
            "bottom": null,
            "display": null,
            "flex": null,
            "flex_flow": null,
            "grid_area": null,
            "grid_auto_columns": null,
            "grid_auto_flow": null,
            "grid_auto_rows": null,
            "grid_column": null,
            "grid_gap": null,
            "grid_row": null,
            "grid_template_areas": null,
            "grid_template_columns": null,
            "grid_template_rows": null,
            "height": null,
            "justify_content": null,
            "justify_items": null,
            "left": null,
            "margin": null,
            "max_height": null,
            "max_width": null,
            "min_height": null,
            "min_width": null,
            "object_fit": null,
            "object_position": null,
            "order": null,
            "overflow": null,
            "overflow_x": null,
            "overflow_y": null,
            "padding": null,
            "right": null,
            "top": null,
            "visibility": null,
            "width": null
          }
        },
        "ee1225467ca34d418af04651749e5184": {
          "model_module": "@jupyter-widgets/controls",
          "model_name": "DescriptionStyleModel",
          "model_module_version": "1.5.0",
          "state": {
            "_model_module": "@jupyter-widgets/controls",
            "_model_module_version": "1.5.0",
            "_model_name": "DescriptionStyleModel",
            "_view_count": null,
            "_view_module": "@jupyter-widgets/base",
            "_view_module_version": "1.2.0",
            "_view_name": "StyleView",
            "description_width": ""
          }
        }
      }
    }
  },
  "cells": [
    {
      "cell_type": "markdown",
      "metadata": {
        "id": "view-in-github",
        "colab_type": "text"
      },
      "source": [
        "<a href=\"https://colab.research.google.com/github/plaban1981/Pytorch_DL/blob/main/Image_Classification_with_Transfer_Learning.ipynb\" target=\"_parent\"><img src=\"https://colab.research.google.com/assets/colab-badge.svg\" alt=\"Open In Colab\"/></a>"
      ]
    },
    {
      "cell_type": "markdown",
      "source": [
        "## Basic Deep Learning Development Process\n",
        "![image.png](data:image/png;base64,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)"
      ],
      "metadata": {
        "id": "pEq43fRQrXz2"
      }
    },
    {
      "cell_type": "markdown",
      "source": [
        "## Data Loading"
      ],
      "metadata": {
        "id": "7Cj_a1-vr9Hw"
      }
    },
    {
      "cell_type": "code",
      "execution_count": 1,
      "metadata": {
        "id": "3P_Y4afNESei",
        "colab": {
          "base_uri": "https://localhost:8080/",
          "height": 158,
          "referenced_widgets": [
            "343bf0afdc7a4a0db99c5cfaecfacd9f",
            "dbcfcb3d2d85486fb74475276fa65b16",
            "498086ae77d143d39980a07ea86b8bb7",
            "560bd7adff884d9f8f7140f96805c0c8",
            "fbbb23966e6949ddaeb31d07b4a97b69",
            "0413b696dc8f4db28a04bfe5a315007c",
            "cb63b0b35cdd47b8b3f77b64186c5461",
            "14ac0627d3554afc89def8538e3f1f40",
            "ea8eb8470d3a4aeaa83c71af834dcb27",
            "74da18ce0340482cbb8c069dd1a0c67a",
            "9afb5d565ad04c46a7a4b2ab10b3c40b"
          ]
        },
        "outputId": "0ea6ff6e-95ee-40a1-aaef-51bd544e6daf"
      },
      "outputs": [
        {
          "output_type": "stream",
          "name": "stdout",
          "text": [
            "Downloading https://www.cs.toronto.edu/~kriz/cifar-10-python.tar.gz to ./train/cifar-10-python.tar.gz\n"
          ]
        },
        {
          "output_type": "display_data",
          "data": {
            "text/plain": [
              "  0%|          | 0/170498071 [00:00<?, ?it/s]"
            ],
            "application/vnd.jupyter.widget-view+json": {
              "version_major": 2,
              "version_minor": 0,
              "model_id": "343bf0afdc7a4a0db99c5cfaecfacd9f"
            }
          },
          "metadata": {}
        },
        {
          "output_type": "stream",
          "name": "stdout",
          "text": [
            "Extracting ./train/cifar-10-python.tar.gz to ./train/\n",
            "Dataset CIFAR10\n",
            "    Number of datapoints: 50000\n",
            "    Root location: ./train/\n",
            "    Split: Train\n"
          ]
        }
      ],
      "source": [
        "from torchvision.datasets import CIFAR10\n",
        "train_data = CIFAR10(root=\"./train/\",train=True,download=True)\n",
        "print(train_data)"
      ]
    },
    {
      "cell_type": "code",
      "source": [
        "print(len(train_data))"
      ],
      "metadata": {
        "colab": {
          "base_uri": "https://localhost:8080/"
        },
        "id": "0hQS_hEHsVq5",
        "outputId": "5d5713d1-4b3b-4249-b728-7e4dc7ef3b08"
      },
      "execution_count": 2,
      "outputs": [
        {
          "output_type": "stream",
          "name": "stdout",
          "text": [
            "50000\n"
          ]
        }
      ]
    },
    {
      "cell_type": "code",
      "source": [
        "print(train_data.data.shape)"
      ],
      "metadata": {
        "colab": {
          "base_uri": "https://localhost:8080/"
        },
        "id": "ZGpxvoGcs_z-",
        "outputId": "f38565b0-6893-4def-a33d-2b118535f612"
      },
      "execution_count": 4,
      "outputs": [
        {
          "output_type": "stream",
          "name": "stdout",
          "text": [
            "(50000, 32, 32, 3)\n"
          ]
        }
      ]
    },
    {
      "cell_type": "code",
      "source": [
        "print(train_data.targets)"
      ],
      "metadata": {
        "colab": {
          "base_uri": "https://localhost:8080/"
        },
        "id": "cvofUwJdtB3o",
        "outputId": "394c28b6-7e49-44f1-8420-965a20fc07fb"
      },
      "execution_count": 7,
      "outputs": [
        {
          "output_type": "stream",
          "name": "stdout",
          "text": [
            "[6, 9, 9, 4, 1, 1, 2, 7, 8, 3, 4, 7, 7, 2, 9, 9, 9, 3, 2, 6, 4, 3, 6, 6, 2, 6, 3, 5, 4, 0, 0, 9, 1, 3, 4, 0, 3, 7, 3, 3, 5, 2, 2, 7, 1, 1, 1, 2, 2, 0, 9, 5, 7, 9, 2, 2, 5, 2, 4, 3, 1, 1, 8, 2, 1, 1, 4, 9, 7, 8, 5, 9, 6, 7, 3, 1, 9, 0, 3, 1, 3, 5, 4, 5, 7, 7, 4, 7, 9, 4, 2, 3, 8, 0, 1, 6, 1, 1, 4, 1, 8, 3, 9, 6, 6, 1, 8, 5, 2, 9, 9, 8, 1, 7, 7, 0, 0, 6, 9, 1, 2, 2, 9, 2, 6, 6, 1, 9, 5, 0, 4, 7, 6, 7, 1, 8, 1, 1, 2, 8, 1, 3, 3, 6, 2, 4, 9, 9, 5, 4, 3, 6, 7, 4, 6, 8, 5, 5, 4, 3, 1, 8, 4, 7, 6, 0, 9, 5, 1, 3, 8, 2, 7, 5, 3, 4, 1, 5, 7, 0, 4, 7, 5, 5, 1, 0, 9, 6, 9, 0, 8, 7, 8, 8, 2, 5, 2, 3, 5, 0, 6, 1, 9, 3, 6, 9, 1, 3, 9, 6, 6, 7, 1, 0, 9, 5, 8, 5, 2, 9, 0, 8, 8, 0, 6, 9, 1, 1, 6, 3, 7, 6, 6, 0, 6, 6, 1, 7, 1, 5, 8, 3, 6, 6, 8, 6, 8, 4, 6, 6, 1, 3, 8, 3, 4, 1, 7, 1, 3, 8, 5, 1, 1, 4, 0, 9, 3, 7, 4, 9, 9, 2, 4, 9, 9, 1, 0, 5, 9, 0, 8, 2, 1, 2, 0, 5, 6, 3, 2, 7, 8, 8, 6, 0, 7, 9, 4, 5, 6, 4, 2, 1, 1, 2, 1, 5, 9, 9, 0, 8, 4, 1, 1, 6, 3, 3, 9, 0, 7, 9, 7, 7, 9, 1, 5, 1, 6, 6, 8, 7, 1, 3, 0, 3, 3, 2, 4, 5, 7, 5, 9, 0, 3, 4, 0, 4, 4, 6, 0, 0, 6, 6, 0, 8, 1, 6, 2, 9, 2, 5, 9, 6, 7, 4, 1, 8, 7, 3, 6, 9, 3, 0, 4, 0, 5, 1, 0, 3, 4, 8, 5, 4, 7, 2, 3, 9, 7, 6, 7, 1, 4, 7, 0, 1, 7, 3, 1, 8, 4, 4, 2, 0, 2, 2, 0, 0, 9, 0, 9, 6, 8, 2, 7, 7, 4, 0, 3, 0, 8, 9, 4, 2, 7, 2, 5, 2, 5, 1, 9, 4, 8, 5, 1, 7, 4, 4, 0, 6, 9, 0, 7, 8, 8, 9, 9, 3, 3, 4, 0, 4, 5, 6, 6, 0, 1, 0, 8, 0, 4, 8, 8, 1, 5, 2, 6, 8, 1, 0, 0, 7, 7, 5, 9, 6, 2, 8, 3, 4, 7, 3, 9, 0, 1, 2, 4, 8, 1, 8, 6, 4, 4, 5, 7, 1, 3, 9, 8, 0, 1, 7, 5, 8, 2, 8, 0, 4, 1, 8, 9, 8, 2, 9, 9, 2, 7, 5, 7, 3, 8, 8, 4, 4, 2, 7, 1, 6, 4, 0, 4, 6, 9, 7, 6, 2, 5, 5, 1, 7, 2, 2, 2, 9, 5, 4, 2, 7, 8, 1, 3, 4, 3, 7, 6, 9, 8, 0, 6, 0, 2, 2, 2, 1, 8, 4, 0, 1, 8, 8, 1, 5, 7, 6, 4, 5, 8, 7, 1, 9, 1, 9, 8, 4, 7, 3, 8, 8, 2, 6, 6, 7, 1, 6, 8, 1, 9, 7, 8, 3, 0, 1, 0, 8, 8, 3, 0, 0, 1, 5, 0, 8, 8, 7, 9, 9, 0, 9, 4, 1, 3, 6, 6, 4, 4, 7, 5, 6, 0, 8, 0, 3, 2, 8, 4, 6, 9, 9, 7, 0, 3, 3, 6, 7, 4, 9, 1, 6, 2, 7, 2, 2, 0, 6, 7, 5, 7, 6, 8, 9, 0, 9, 4, 4, 7, 0, 9, 4, 9, 6, 9, 4, 5, 7, 9, 2, 4, 5, 1, 4, 3, 9, 6, 5, 6, 9, 3, 3, 5, 0, 7, 2, 1, 3, 6, 4, 0, 0, 2, 5, 0, 1, 0, 2, 3, 9, 8, 4, 9, 8, 0, 2, 6, 4, 4, 0, 1, 8, 8, 3, 6, 9, 6, 6, 7, 8, 2, 4, 5, 7, 6, 5, 3, 0, 5, 0, 5, 0, 8, 2, 6, 7, 3, 8, 2, 1, 7, 6, 7, 1, 0, 9, 5, 5, 0, 1, 7, 6, 9, 0, 4, 7, 7, 1, 5, 9, 4, 0, 8, 5, 9, 9, 6, 7, 1, 8, 3, 2, 3, 8, 2, 2, 4, 6, 0, 0, 5, 3, 8, 2, 3, 7, 2, 9, 3, 8, 7, 8, 2, 7, 9, 0, 2, 3, 2, 2, 2, 3, 3, 6, 2, 3, 2, 8, 0, 5, 5, 1, 4, 5, 6, 6, 2, 7, 0, 1, 7, 7, 8, 2, 9, 2, 2, 4, 2, 1, 1, 1, 6, 6, 6, 5, 1, 1, 7, 0, 4, 3, 3, 7, 1, 2, 3, 5, 5, 5, 6, 1, 4, 3, 7, 8, 8, 3, 6, 6, 2, 3, 0, 9, 4, 3, 8, 0, 0, 1, 1, 5, 4, 9, 3, 1, 8, 9, 3, 9, 9, 2, 9, 4, 8, 2, 9, 8, 8, 1, 5, 3, 6, 8, 7, 6, 9, 8, 0, 6, 4, 0, 0, 2, 5, 8, 2, 0, 2, 7, 6, 9, 7, 1, 5, 5, 6, 6, 3, 6, 2, 4, 7, 0, 5, 6, 4, 6, 5, 2, 4, 6, 1, 6, 0, 4, 0, 3, 1, 8, 5, 4, 4, 1, 7, 3, 9, 4, 7, 9, 7, 3, 7, 2, 8, 4, 6, 6, 1, 2, 9, 0, 4, 8, 7, 3, 9, 8, 7, 7, 0, 2, 4, 1, 1, 4, 1, 5, 4, 0, 5, 6, 2, 8, 5, 0, 2, 1, 3, 5, 7, 3, 5, 1, 3, 5, 9, 4, 3, 2, 4, 4, 1, 4, 2, 2, 3, 8, 0, 6, 8, 5, 6, 6, 4, 7, 1, 1, 4, 6, 2, 3, 9, 6, 9, 1, 3, 6, 8, 5, 9, 6, 8, 1, 6, 0, 2, 3, 7, 9, 0, 9, 7, 6, 3, 9, 2, 6, 1, 6, 7, 3, 8, 3, 8, 3, 8, 5, 9, 6, 1, 2, 5, 2, 1, 4, 3, 7, 5, 9, 3, 9, 3, 2, 9, 1, 8, 5, 9, 7, 2, 6, 0, 8, 5, 7, 1, 5, 8, 5, 7, 1, 5, 0, 3, 9, 3, 6, 9, 1, 3, 9, 8, 2, 2, 3, 2, 5, 9, 7, 9, 9, 8, 9, 7, 0, 3, 3, 2, 0, 3, 7, 6, 3, 3, 2, 0, 6, 6, 5, 5, 7, 5, 9, 8, 2, 9, 8, 0, 4, 0, 1, 2, 0, 4, 7, 3, 8, 5, 1, 6, 6, 5, 5, 4, 6, 3, 6, 8, 2, 3, 7, 0, 7, 0, 4, 1, 9, 5, 7, 8, 6, 6, 8, 0, 7, 2, 8, 4, 8, 2, 0, 9, 0, 0, 2, 9, 6, 6, 5, 6, 0, 3, 7, 5, 5, 7, 9, 3, 4, 5, 0, 5, 2, 3, 2, 6, 0, 4, 9, 0, 7, 0, 9, 7, 2, 6, 4, 6, 9, 5, 4, 7, 0, 6, 8, 8, 9, 9, 9, 0, 9, 8, 6, 4, 8, 1, 9, 1, 0, 5, 8, 6, 9, 6, 0, 8, 1, 3, 9, 4, 8, 4, 3, 2, 6, 0, 8, 9, 9, 4, 3, 0, 2, 4, 4, 0, 3, 5, 7, 5, 7, 7, 9, 0, 9, 5, 3, 8, 2, 4, 2, 3, 1, 2, 8, 9, 2, 8, 1, 4, 2, 0, 4, 5, 4, 8, 1, 7, 4, 1, 1, 0, 2, 7, 7, 4, 4, 4, 4, 8, 4, 3, 6, 6, 0, 1, 3, 9, 8, 4, 8, 9, 6, 2, 0, 5, 5, 9, 4, 2, 0, 8, 8, 0, 4, 0, 7, 6, 9, 5, 3, 5, 4, 4, 4, 4, 3, 7, 9, 2, 5, 1, 8, 3, 2, 6, 9, 6, 3, 1, 7, 4, 6, 3, 7, 8, 6, 2, 4, 6, 8, 0, 1, 9, 9, 1, 0, 0, 8, 9, 4, 7, 4, 4, 1, 9, 8, 8, 6, 1, 7, 4, 8, 8, 8, 0, 5, 6, 6, 8, 3, 4, 4, 1, 2, 1, 5, 7, 1, 7, 2, 8, 5, 9, 5, 6, 1, 9, 5, 0, 4, 3, 3, 0, 8, 2, 8, 0, 9, 0, 4, 6, 9, 2, 8, 2, 7, 7, 2, 2, 7, 1, 6, 1, 3, 4, 4, 8, 6, 0, 1, 9, 4, 2, 7, 5, 3, 9, 0, 1, 9, 0, 9, 8, 7, 0, 4, 9, 0, 5, 2, 1, 0, 2, 8, 8, 0, 5, 7, 6, 6, 5, 3, 7, 7, 7, 4, 2, 0, 1, 7, 3, 2, 7, 3, 2, 2, 1, 5, 9, 9, 8, 0, 8, 4, 3, 3, 8, 5, 0, 8, 4, 5, 7, 5, 1, 5, 0, 2, 0, 5, 4, 2, 3, 6, 2, 6, 2, 2, 3, 4, 6, 6, 5, 3, 0, 1, 2, 7, 7, 5, 3, 1, 1, 7, 6, 1, 6, 3, 3, 3, 3, 4, 8, 1, 0, 7, 7, 6, 8, 1, 2, 5, 3, 4, 1, 1, 9, 3, 1, 4, 2, 7, 1, 6, 5, 7, 7, 7, 6, 6, 1, 9, 5, 0, 9, 5, 7, 0, 0, 4, 6, 8, 0, 1, 5, 0, 9, 3, 1, 1, 2, 0, 3, 2, 9, 1, 9, 6, 2, 4, 8, 8, 5, 9, 2, 1, 9, 4, 4, 3, 0, 6, 6, 0, 4, 1, 0, 9, 5, 6, 5, 6, 9, 4, 4, 2, 6, 8, 4, 7, 6, 5, 9, 8, 7, 1, 9, 5, 4, 3, 5, 4, 3, 4, 1, 5, 5, 4, 0, 8, 4, 4, 0, 9, 2, 8, 9, 8, 0, 2, 2, 2, 6, 7, 8, 1, 9, 8, 0, 3, 8, 6, 8, 1, 6, 5, 4, 2, 1, 4, 3, 9, 7, 8, 3, 0, 8, 3, 4, 2, 9, 1, 0, 0, 3, 0, 4, 5, 9, 0, 7, 5, 9, 5, 8, 8, 6, 3, 1, 9, 5, 2, 4, 7, 6, 1, 8, 6, 9, 3, 1, 3, 7, 4, 0, 6, 7, 6, 9, 2, 4, 1, 9, 8, 5, 8, 2, 2, 5, 0, 2, 0, 7, 0, 6, 6, 4, 8, 7, 9, 6, 9, 2, 3, 8, 8, 3, 9, 9, 8, 7, 2, 3, 5, 5, 1, 8, 7, 4, 3, 5, 2, 2, 2, 1, 4, 2, 2, 8, 4, 9, 8, 2, 1, 2, 5, 6, 3, 4, 5, 7, 6, 7, 6, 5, 0, 2, 4, 4, 3, 0, 4, 2, 6, 1, 8, 8, 3, 0, 7, 4, 9, 7, 9, 2, 0, 4, 7, 3, 7, 6, 6, 2, 3, 7, 3, 6, 8, 2, 3, 3, 5, 5, 5, 2, 4, 2, 8, 7, 4, 3, 7, 7, 8, 5, 2, 8, 4, 3, 5, 4, 2, 9, 1, 4, 0, 0, 5, 6, 5, 6, 8, 0, 3, 4, 4, 4, 2, 2, 0, 5, 0, 3, 4, 7, 7, 3, 9, 7, 3, 7, 3, 7, 7, 7, 1, 7, 4, 4, 7, 9, 1, 7, 7, 4, 5, 9, 0, 8, 7, 3, 6, 2, 3, 8, 2, 5, 4, 8, 4, 0, 7, 5, 2, 7, 7, 2, 6, 4, 0, 2, 4, 3, 8, 9, 4, 5, 5, 6, 7, 1, 9, 6, 5, 0, 3, 4, 4, 0, 6, 6, 8, 3, 6, 0, 3, 3, 3, 8, 3, 3, 8, 4, 3, 8, 2, 9, 1, 4, 9, 5, 0, 6, 5, 0, 2, 6, 5, 4, 1, 5, 9, 0, 6, 2, 5, 4, 5, 8, 2, 8, 7, 5, 0, 7, 9, 9, 8, 2, 1, 0, 2, 7, 5, 0, 3, 8, 5, 0, 7, 9, 5, 8, 6, 9, 0, 7, 1, 9, 3, 5, 0, 5, 1, 7, 8, 9, 2, 0, 0, 8, 1, 1, 1, 6, 2, 3, 6, 2, 7, 1, 9, 3, 7, 6, 3, 1, 0, 5, 9, 4, 3, 9, 5, 0, 9, 2, 7, 5, 8, 0, 1, 3, 4, 8, 5, 1, 5, 7, 7, 2, 8, 4, 2, 2, 5, 3, 3, 1, 4, 9, 2, 4, 5, 2, 2, 3, 2, 1, 5, 8, 9, 2, 6, 6, 1, 7, 7, 5, 4, 4, 0, 5, 8, 8, 6, 6, 7, 2, 6, 4, 5, 1, 7, 5, 2, 4, 4, 6, 5, 2, 3, 8, 9, 3, 4, 3, 2, 6, 7, 2, 3, 2, 7, 7, 3, 0, 1, 4, 0, 6, 5, 5, 1, 6, 7, 6, 1, 3, 4, 0, 9, 9, 6, 8, 8, 3, 2, 3, 3, 8, 5, 3, 0, 9, 0, 8, 1, 3, 4, 8, 2, 4, 6, 1, 3, 5, 5, 1, 1, 1, 9, 5, 0, 4, 2, 9, 2, 5, 7, 4, 3, 3, 9, 1, 7, 2, 6, 1, 2, 9, 7, 9, 0, 4, 7, 8, 4, 9, 9, 4, 2, 9, 9, 8, 8, 6, 3, 2, 4, 6, 1, 7, 8, 2, 5, 8, 0, 4, 4, 5, 2, 4, 6, 5, 6, 5, 7, 7, 4, 5, 2, 0, 1, 1, 9, 6, 4, 3, 8, 7, 4, 0, 1, 5, 5, 0, 7, 0, 8, 5, 6, 1, 2, 3, 5, 8, 9, 6, 7, 6, 0, 7, 3, 1, 9, 4, 1, 8, 8, 1, 0, 6, 1, 7, 2, 5, 4, 5, 6, 6, 4, 8, 6, 4, 7, 9, 9, 4, 5, 1, 3, 9, 8, 6, 7, 3, 9, 5, 2, 5, 2, 1, 7, 1, 7, 0, 8, 3, 8, 3, 4, 1, 4, 0, 7, 9, 8, 5, 5, 6, 3, 9, 1, 2, 0, 0, 2, 8, 0, 2, 9, 3, 2, 0, 9, 9, 3, 2, 0, 6, 9, 7, 3, 7, 5, 1, 4, 6, 0, 7, 5, 8, 6, 7, 5, 2, 5, 5, 3, 3, 2, 2, 9, 9, 8, 8, 3, 5, 4, 3, 2, 8, 1, 1, 0, 7, 2, 1, 8, 7, 7, 5, 7, 6, 0, 4, 0, 3, 7, 3, 6, 2, 6, 5, 6, 3, 0, 3, 4, 5, 8, 4, 4, 0, 0, 1, 0, 6, 3, 8, 0, 1, 0, 7, 1, 3, 1, 8, 0, 2, 9, 8, 6, 5, 8, 4, 3, 4, 1, 0, 3, 9, 7, 4, 0, 3, 0, 8, 1, 1, 5, 7, 0, 0, 4, 8, 8, 8, 4, 1, 2, 9, 1, 2, 8, 7, 0, 7, 6, 2, 9, 0, 6, 7, 7, 5, 8, 2, 4, 4, 8, 4, 8, 0, 2, 7, 7, 6, 9, 1, 9, 9, 7, 5, 3, 7, 6, 0, 3, 9, 2, 9, 5, 6, 1, 0, 0, 2, 4, 5, 6, 3, 6, 4, 3, 5, 8, 9, 3, 9, 3, 4, 9, 3, 9, 5, 2, 8, 2, 6, 2, 2, 7, 2, 7, 6, 2, 4, 1, 2, 9, 9, 5, 2, 9, 8, 7, 7, 5, 6, 2, 8, 3, 7, 2, 3, 7, 3, 3, 6, 2, 1, 1, 1, 6, 9, 4, 0, 2, 4, 8, 0, 5, 4, 3, 1, 6, 1, 9, 8, 1, 1, 2, 8, 4, 8, 8, 3, 2, 6, 1, 0, 8, 1, 7, 6, 8, 5, 6, 3, 6, 7, 9, 2, 7, 7, 0, 7, 1, 7, 0, 6, 2, 7, 5, 0, 6, 9, 6, 2, 3, 1, 4, 1, 6, 9, 0, 5, 8, 9, 9, 6, 0, 8, 2, 0, 8, 9, 9, 8, 4, 3, 3, 6, 7, 0, 6, 4, 9, 1, 5, 8, 0, 0, 1, 0, 8, 9, 3, 8, 9, 3, 7, 8, 9, 4, 4, 6, 0, 9, 7, 2, 8, 0, 6, 2, 0, 6, 5, 5, 8, 5, 8, 6, 4, 0, 2, 6, 4, 3, 6, 2, 3, 7, 7, 2, 4, 2, 4, 9, 0, 2, 5, 4, 5, 4, 6, 0, 7, 7, 5, 0, 2, 0, 8, 5, 3, 7, 4, 5, 1, 9, 6, 5, 1, 8, 5, 4, 8, 5, 2, 3, 3, 8, 2, 2, 8, 2, 5, 7, 5, 5, 8, 7, 6, 1, 1, 8, 5, 1, 9, 9, 2, 2, 9, 1, 5, 2, 1, 3, 9, 9, 1, 3, 1, 2, 0, 6, 1, 7, 6, 8, 4, 0, 3, 3, 7, 2, 3, 6, 4, 5, 2, 7, 2, 4, 9, 5, 1, 6, 8, 8, 2, 1, 7, 1, 8, 0, 8, 5, 7, 0, 3, 6, 4, 2, 7, 7, 8, 2, 8, 9, 8, 8, 4, 6, 7, 0, 1, 2, 1, 1, 9, 4, 6, 4, 2, 7, 4, 6, 1, 9, 4, 9, 1, 4, 5, 1, 9, 2, 8, 0, 1, 5, 1, 7, 9, 2, 0, 4, 8, 4, 0, 2, 0, 1, 0, 5, 3, 6, 2, 2, 2, 2, 6, 6, 8, 6, 2, 3, 5, 2, 8, 9, 8, 0, 1, 5, 0, 9, 1, 6, 7, 9, 7, 3, 6, 2, 0, 4, 7, 6, 4, 4, 5, 2, 3, 4, 4, 5, 2, 9, 6, 1, 4, 7, 4, 8, 6, 5, 9, 8, 9, 9, 4, 4, 8, 6, 6, 4, 2, 1, 8, 3, 3, 0, 3, 8, 9, 2, 6, 2, 6, 5, 6, 8, 4, 3, 5, 0, 3, 2, 0, 0, 4, 8, 9, 8, 6, 9, 2, 1, 0, 7, 9, 0, 5, 0, 6, 2, 0, 6, 7, 6, 2, 6, 7, 8, 2, 4, 7, 6, 8, 7, 7, 3, 2, 5, 9, 3, 8, 2, 6, 4, 9, 6, 2, 1, 4, 0, 6, 6, 4, 3, 4, 5, 3, 6, 5, 9, 9, 5, 1, 6, 0, 2, 7, 9, 5, 3, 5, 6, 2, 1, 5, 5, 9, 0, 1, 3, 4, 5, 7, 4, 5, 9, 6, 1, 7, 4, 2, 8, 8, 5, 6, 0, 3, 4, 9, 4, 5, 6, 0, 7, 0, 3, 0, 7, 5, 8, 3, 8, 1, 5, 9, 1, 0, 1, 8, 0, 8, 2, 5, 6, 7, 1, 0, 2, 9, 0, 4, 1, 9, 5, 3, 5, 7, 3, 1, 9, 3, 9, 4, 9, 6, 0, 8, 8, 6, 6, 9, 6, 9, 3, 2, 0, 1, 7, 3, 6, 5, 3, 3, 3, 6, 4, 0, 0, 8, 4, 2, 2, 2, 1, 8, 6, 8, 5, 3, 9, 9, 0, 9, 8, 1, 5, 4, 3, 7, 0, 9, 7, 6, 0, 4, 1, 9, 8, 4, 7, 7, 5, 9, 7, 7, 5, 5, 6, 8, 5, 7, 5, 8, 8, 2, 5, 5, 2, 8, 4, 5, 6, 8, 8, 5, 3, 5, 5, 9, 4, 3, 3, 9, 0, 2, 4, 1, 0, 2, 7, 5, 3, 4, 3, 7, 6, 2, 3, 5, 2, 0, 5, 9, 6, 3, 9, 6, 0, 2, 5, 6, 7, 7, 2, 0, 1, 7, 0, 8, 9, 4, 3, 4, 3, 5, 3, 6, 0, 4, 2, 6, 9, 5, 1, 1, 9, 1, 9, 2, 4, 9, 1, 9, 8, 6, 3, 6, 8, 2, 0, 9, 3, 5, 8, 7, 4, 2, 2, 7, 9, 1, 8, 2, 4, 7, 6, 0, 5, 5, 6, 9, 8, 8, 5, 5, 7, 1, 2, 7, 9, 0, 5, 7, 5, 2, 5, 4, 7, 1, 3, 3, 4, 3, 6, 2, 0, 5, 8, 0, 4, 2, 9, 2, 4, 2, 3, 8, 0, 8, 4, 6, 4, 2, 8, 6, 9, 8, 4, 1, 9, 7, 0, 8, 3, 2, 4, 6, 8, 2, 4, 1, 3, 0, 8, 2, 0, 8, 0, 0, 0, 0, 2, 2, 3, 6, 9, 7, 0, 9, 1, 0, 7, 2, 8, 3, 0, 8, 4, 3, 5, 8, 7, 8, 4, 0, 0, 9, 7, 3, 1, 5, 2, 6, 5, 3, 2, 3, 7, 0, 3, 4, 1, 1, 8, 9, 0, 4, 8, 3, 1, 1, 5, 7, 2, 3, 9, 4, 5, 2, 5, 4, 7, 1, 7, 6, 2, 6, 1, 8, 8, 9, 4, 9, 5, 6, 6, 7, 1, 1, 2, 2, 4, 8, 5, 5, 9, 2, 9, 8, 5, 7, 2, 3, 8, 5, 7, 4, 7, 6, 2, 6, 0, 6, 2, 0, 4, 0, 1, 4, 2, 3, 5, 8, 7, 5, 1, 5, 2, 2, 5, 3, 6, 5, 4, 3, 2, 9, 4, 4, 0, 1, 8, 8, 6, 5, 3, 7, 2, 3, 2, 9, 0, 9, 2, 7, 8, 1, 2, 1, 3, 7, 2, 9, 3, 5, 5, 8, 4, 5, 5, 8, 5, 5, 6, 9, 5, 8, 6, 1, 2, 4, 2, 4, 9, 2, 1, 9, 3, 0, 8, 2, 8, 4, 2, 6, 4, 1, 3, 6, 9, 4, 6, 8, 6, 9, 6, 4, 7, 2, 0, 9, 4, 4, 4, 8, 9, 7, 7, 9, 3, 5, 0, 0, 3, 3, 3, 7, 6, 1, 4, 5, 2, 4, 4, 8, 5, 6, 0, 3, 4, 6, 3, 2, 0, 3, 5, 7, 0, 3, 5, 4, 7, 8, 5, 7, 0, 2, 8, 0, 2, 4, 6, 6, 6, 3, 7, 6, 3, 5, 9, 9, 7, 4, 9, 1, 9, 6, 5, 1, 7, 0, 2, 0, 2, 7, 4, 9, 8, 3, 5, 3, 0, 5, 1, 6, 7, 7, 8, 8, 2, 7, 9, 2, 4, 6, 5, 9, 8, 4, 6, 7, 8, 2, 8, 5, 8, 9, 0, 2, 3, 0, 9, 7, 3, 7, 9, 5, 3, 6, 6, 9, 9, 1, 5, 1, 2, 2, 4, 0, 9, 5, 4, 2, 8, 9, 9, 2, 0, 2, 6, 9, 1, 3, 8, 8, 6, 6, 4, 9, 6, 4, 4, 0, 4, 9, 2, 2, 0, 4, 0, 9, 6, 7, 9, 0, 9, 3, 9, 9, 9, 6, 2, 3, 6, 7, 6, 0, 5, 7, 6, 4, 4, 9, 8, 0, 9, 4, 6, 0, 7, 1, 3, 6, 6, 0, 4, 7, 1, 1, 4, 9, 8, 6, 8, 0, 6, 1, 1, 8, 5, 5, 5, 3, 4, 5, 5, 8, 6, 9, 3, 4, 3, 4, 2, 4, 3, 3, 8, 8, 9, 5, 7, 2, 8, 2, 3, 1, 9, 6, 4, 8, 5, 1, 6, 1, 7, 6, 4, 3, 2, 3, 9, 0, 5, 2, 3, 9, 5, 3, 2, 4, 4, 5, 8, 3, 4, 5, 6, 6, 7, 3, 1, 6, 5, 9, 8, 3, 2, 0, 4, 7, 3, 9, 9, 4, 1, 6, 7, 6, 6, 1, 5, 8, 1, 0, 8, 6, 3, 7, 1, 5, 9, 4, 1, 6, 0, 3, 7, 2, 9, 2, 2, 6, 9, 1, 0, 5, 7, 4, 2, 8, 9, 0, 8, 6, 4, 3, 3, 6, 4, 5, 4, 2, 3, 1, 4, 6, 8, 3, 9, 7, 9, 4, 0, 8, 9, 8, 0, 8, 1, 9, 3, 2, 7, 0, 6, 0, 5, 9, 5, 4, 8, 1, 0, 2, 5, 0, 8, 3, 0, 1, 4, 0, 3, 1, 6, 4, 7, 9, 5, 5, 0, 4, 7, 9, 1, 9, 1, 4, 6, 3, 9, 9, 9, 8, 9, 7, 1, 1, 4, 1, 0, 7, 0, 9, 6, 6, 2, 4, 7, 6, 4, 5, 8, 0, 4, 7, 1, 7, 3, 4, 7, 5, 5, 2, 0, 2, 0, 5, 5, 8, 5, 8, 4, 0, 8, 4, 9, 7, 6, 9, 8, 0, 8, 4, 2, 9, 1, 4, 6, 0, 7, 7, 1, 6, 1, 5, 6, 5, 7, 3, 8, 4, 5, 8, 5, 8, 5, 9, 1, 3, 2, 5, 3, 1, 2, 1, 2, 6, 7, 2, 0, 5, 3, 1, 6, 2, 7, 3, 6, 0, 9, 8, 0, 6, 4, 3, 2, 6, 8, 7, 2, 1, 1, 9, 5, 4, 5, 8, 0, 1, 0, 9, 1, 8, 2, 4, 7, 4, 2, 4, 4, 7, 0, 0, 6, 4, 6, 7, 8, 5, 9, 9, 2, 9, 3, 3, 5, 7, 7, 6, 7, 0, 0, 0, 6, 3, 1, 2, 6, 3, 7, 3, 2, 2, 8, 8, 6, 6, 0, 0, 3, 1, 1, 1, 3, 4, 4, 6, 4, 7, 3, 2, 3, 9, 7, 2, 7, 9, 2, 3, 6, 7, 5, 9, 2, 6, 3, 5, 6, 5, 3, 4, 6, 9, 1, 7, 7, 5, 9, 4, 2, 3, 8, 0, 9, 6, 6, 1, 3, 6, 6, 3, 9, 3, 6, 5, 2, 0, 4, 7, 4, 8, 5, 5, 0, 0, 9, 0, 3, 6, 2, 9, 8, 1, 1, 4, 3, 4, 0, 3, 7, 3, 8, 6, 4, 2, 4, 1, 2, 7, 5, 2, 6, 8, 0, 4, 6, 4, 2, 3, 2, 4, 1, 6, 0, 5, 8, 8, 1, 8, 6, 2, 8, 2, 4, 4, 0, 9, 7, 6, 7, 4, 2, 3, 8, 9, 4, 8, 8, 4, 2, 0, 1, 4, 4, 8, 6, 6, 7, 2, 7, 0, 0, 7, 2, 3, 1, 8, 9, 7, 7, 0, 1, 7, 9, 7, 7, 5, 9, 2, 7, 5, 5, 1, 4, 4, 7, 1, 3, 6, 3, 0, 0, 0, 8, 0, 8, 5, 6, 8, 6, 6, 4, 0, 0, 8, 6, 7, 4, 8, 3, 9, 4, 9, 8, 2, 3, 0, 4, 4, 8, 1, 8, 4, 3, 8, 8, 4, 2, 4, 3, 6, 3, 0, 5, 8, 0, 7, 5, 4, 7, 5, 8, 9, 0, 4, 6, 7, 1, 1, 4, 3, 5, 7, 1, 7, 1, 9, 3, 0, 0, 8, 9, 7, 2, 8, 9, 9, 3, 5, 0, 3, 3, 2, 1, 0, 1, 5, 2, 7, 1, 4, 1, 3, 5, 1, 9, 8, 5, 2, 0, 7, 2, 9, 2, 0, 9, 2, 2, 6, 2, 1, 8, 4, 4, 8, 4, 1, 7, 0, 3, 6, 1, 6, 3, 7, 4, 4, 7, 8, 2, 7, 4, 7, 3, 6, 6, 3, 5, 9, 8, 6, 0, 0, 8, 4, 3, 6, 9, 6, 2, 5, 0, 6, 3, 1, 5, 2, 2, 7, 3, 4, 6, 2, 8, 7, 6, 3, 9, 3, 4, 3, 6, 7, 7, 1, 1, 7, 8, 4, 5, 3, 6, 5, 6, 2, 9, 2, 5, 9, 1, 1, 7, 8, 3, 5, 1, 3, 8, 5, 0, 8, 0, 2, 3, 9, 8, 3, 0, 0, 7, 5, 7, 3, 2, 3, 3, 7, 5, 5, 6, 9, 0, 2, 1, 2, 5, 5, 1, 4, 0, 7, 1, 8, 8, 4, 0, 1, 7, 8, 9, 0, 7, 2, 5, 7, 8, 3, 0, 1, 2, 3, 9, 2, 7, 0, 0, 2, 2, 4, 1, 5, 3, 3, 5, 1, 5, 5, 9, 0, 9, 8, 0, 9, 3, 0, 7, 9, 6, 5, 5, 2, 6, 8, 0, 1, 7, 7, 7, 1, 3, 0, 1, 4, 1, 0, 3, 1, 9, 0, 6, 3, 6, 0, 5, 4, 0, 8, 8, 0, 1, 5, 8, 3, 7, 2, 9, 1, 9, 9, 2, 7, 6, 1, 0, 9, 8, 8, 6, 0, 2, 0, 5, 0, 8, 9, 2, 6, 6, 1, 2, 1, 5, 8, 9, 7, 4, 1, 2, 8, 9, 0, 2, 0, 9, 9, 1, 1, 5, 5, 3, 9, 3, 1, 5, 2, 2, 5, 1, 6, 9, 5, 4, 5, 4, 9, 6, 0, 8, 2, 1, 9, 7, 0, 8, 0, 1, 0, 2, 3, 8, 6, 4, 1, 5, 6, 1, 9, 4, 9, 6, 3, 8, 7, 3, 0, 3, 9, 7, 2, 6, 2, 9, 4, 6, 0, 9, 6, 7, 4, 7, 0, 9, 9, 5, 6, 5, 4, 1, 3, 5, 5, 2, 9, 5, 2, 9, 7, 7, 4, 9, 4, 4, 8, 7, 8, 7, 4, 5, 0, 8, 2, 3, 0, 0, 8, 8, 4, 0, 2, 5, 7, 2, 6, 2, 5, 6, 9, 7, 3, 4, 1, 5, 4, 8, 8, 4, 3, 0, 7, 2, 9, 4, 6, 6, 4, 9, 2, 4, 8, 8, 0, 3, 8, 1, 4, 1, 0, 6, 6, 9, 1, 6, 2, 3, 4, 0, 1, 2, 2, 0, 8, 8, 4, 7, 9, 9, 6, 6, 0, 5, 6, 7, 3, 6, 7, 8, 7, 3, 1, 0, 3, 8, 4, 5, 1, 8, 6, 2, 8, 5, 7, 6, 2, 8, 6, 5, 8, 0, 5, 9, 2, 7, 0, 5, 8, 6, 8, 9, 3, 8, 3, 2, 6, 8, 7, 8, 3, 3, 8, 5, 4, 1, 2, 9, 6, 5, 9, 4, 3, 8, 5, 5, 8, 8, 2, 0, 3, 1, 4, 1, 0, 8, 0, 5, 8, 4, 9, 1, 8, 0, 0, 6, 7, 7, 7, 5, 6, 3, 6, 5, 8, 2, 6, 5, 7, 5, 4, 7, 3, 2, 9, 5, 8, 8, 5, 7, 2, 2, 8, 7, 6, 7, 7, 2, 7, 6, 4, 0, 6, 3, 1, 4, 6, 3, 9, 8, 3, 8, 1, 0, 0, 5, 3, 5, 8, 4, 0, 6, 1, 7, 0, 2, 2, 1, 7, 3, 0, 8, 6, 7, 7, 0, 0, 1, 4, 1, 1, 6, 6, 6, 1, 3, 6, 0, 1, 3, 8, 5, 0, 1, 6, 5, 5, 4, 3, 9, 8, 6, 0, 5, 4, 9, 2, 8, 4, 8, 8, 2, 1, 4, 8, 6, 7, 3, 1, 3, 4, 9, 4, 8, 4, 5, 0, 9, 1, 3, 8, 7, 5, 4, 6, 6, 7, 9, 0, 5, 2, 3, 3, 3, 9, 0, 9, 2, 9, 1, 0, 2, 3, 9, 6, 6, 1, 6, 3, 7, 6, 2, 7, 0, 4, 8, 9, 6, 0, 7, 7, 5, 0, 4, 5, 9, 6, 4, 5, 7, 9, 3, 7, 8, 5, 0, 4, 1, 3, 8, 6, 9, 5, 7, 6, 7, 7, 3, 4, 2, 3, 6, 4, 5, 0, 1, 9, 3, 8, 4, 4, 1, 9, 8, 9, 3, 6, 0, 9, 1, 6, 3, 2, 3, 0, 5, 8, 8, 0, 0, 6, 2, 3, 5, 1, 5, 7, 1, 0, 9, 8, 3, 3, 5, 6, 3, 2, 1, 3, 7, 0, 7, 7, 2, 4, 7, 7, 6, 2, 6, 1, 7, 2, 3, 3, 0, 2, 2, 9, 6, 5, 5, 1, 9, 7, 9, 4, 6, 4, 1, 9, 1, 3, 6, 1, 2, 2, 5, 8, 0, 8, 5, 1, 7, 6, 7, 9, 3, 0, 9, 2, 2, 6, 7, 6, 9, 1, 9, 4, 0, 5, 6, 6, 4, 4, 4, 1, 6, 3, 2, 8, 9, 4, 7, 2, 3, 9, 3, 4, 0, 1, 1, 1, 9, 9, 7, 5, 1, 9, 2, 5, 6, 1, 5, 3, 0, 1, 4, 9, 4, 2, 0, 8, 3, 2, 7, 3, 8, 6, 1, 4, 2, 4, 9, 4, 6, 9, 1, 5, 9, 9, 1, 4, 2, 7, 2, 7, 3, 1, 9, 8, 8, 1, 2, 0, 8, 8, 2, 8, 7, 8, 4, 1, 7, 4, 3, 1, 8, 6, 4, 5, 0, 5, 6, 7, 5, 9, 8, 8, 8, 9, 7, 3, 8, 7, 8, 2, 1, 8, 8, 4, 9, 1, 5, 4, 2, 6, 6, 9, 2, 7, 2, 8, 4, 2, 9, 1, 6, 5, 8, 5, 9, 7, 6, 2, 9, 1, 8, 7, 0, 9, 9, 7, 6, 3, 9, 3, 0, 0, 0, 7, 7, 0, 7, 3, 9, 0, 9, 2, 1, 5, 7, 1, 6, 8, 2, 0, 4, 2, 1, 4, 0, 4, 8, 0, 4, 9, 9, 6, 3, 6, 1, 7, 4, 6, 8, 6, 0, 7, 4, 8, 7, 5, 7, 5, 2, 0, 5, 8, 6, 6, 6, 8, 8, 5, 6, 6, 9, 9, 2, 7, 2, 1, 9, 3, 9, 0, 1, 5, 9, 9, 7, 9, 6, 5, 3, 7, 6, 7, 0, 4, 2, 3, 9, 6, 2, 5, 7, 5, 0, 2, 8, 2, 9, 6, 1, 5, 1, 3, 6, 3, 0, 8, 0, 6, 3, 5, 0, 1, 4, 6, 7, 9, 1, 5, 4, 0, 4, 6, 2, 3, 8, 7, 5, 7, 3, 4, 8, 9, 8, 3, 6, 0, 5, 1, 1, 9, 4, 8, 9, 9, 9, 5, 0, 8, 0, 2, 0, 3, 6, 3, 9, 0, 3, 3, 8, 0, 8, 8, 0, 9, 4, 8, 4, 6, 4, 4, 3, 3, 0, 4, 9, 6, 7, 9, 5, 4, 3, 5, 5, 5, 2, 3, 6, 5, 5, 9, 1, 6, 4, 1, 0, 5, 7, 9, 3, 0, 6, 8, 9, 7, 6, 2, 8, 0, 0, 2, 9, 0, 3, 2, 7, 2, 7, 3, 2, 3, 7, 7, 5, 3, 8, 5, 4, 0, 2, 9, 1, 3, 2, 5, 8, 0, 6, 1, 7, 5, 9, 7, 7, 5, 0, 1, 1, 9, 4, 2, 1, 8, 2, 2, 2, 7, 3, 7, 0, 4, 6, 6, 2, 9, 3, 0, 6, 0, 1, 9, 3, 5, 4, 9, 6, 7, 3, 6, 8, 3, 9, 2, 0, 9, 5, 4, 7, 2, 3, 9, 9, 5, 0, 3, 1, 7, 2, 4, 7, 9, 9, 0, 4, 4, 5, 1, 7, 1, 8, 4, 1, 4, 2, 1, 6, 9, 2, 2, 0, 8, 0, 8, 8, 5, 5, 2, 8, 0, 9, 5, 7, 4, 9, 5, 2, 0, 8, 0, 2, 6, 9, 1, 3, 0, 1, 8, 9, 4, 5, 9, 8, 0, 7, 8, 4, 4, 3, 6, 6, 5, 6, 1, 0, 1, 2, 8, 9, 6, 5, 9, 9, 9, 6, 5, 0, 9, 5, 0, 5, 8, 0, 0, 4, 3, 4, 2, 6, 1, 7, 6, 2, 3, 1, 2, 8, 2, 6, 0, 3, 4, 1, 6, 2, 3, 4, 2, 6, 5, 8, 9, 8, 3, 5, 7, 5, 7, 0, 4, 6, 3, 4, 0, 3, 6, 2, 1, 7, 5, 8, 5, 8, 7, 4, 5, 4, 0, 2, 1, 5, 7, 2, 6, 8, 0, 7, 7, 4, 1, 0, 7, 9, 2, 7, 0, 9, 8, 7, 7, 5, 2, 7, 9, 7, 6, 4, 8, 4, 6, 4, 1, 7, 9, 8, 8, 6, 3, 7, 3, 3, 9, 7, 0, 7, 1, 8, 8, 5, 7, 1, 1, 7, 4, 0, 4, 1, 2, 2, 9, 8, 7, 1, 3, 2, 2, 4, 1, 0, 4, 5, 1, 5, 6, 1, 8, 2, 5, 3, 9, 5, 1, 7, 0, 4, 6, 7, 2, 3, 5, 5, 9, 0, 5, 7, 8, 3, 6, 0, 3, 1, 9, 2, 7, 0, 9, 8, 2, 9, 8, 3, 2, 5, 0, 0, 8, 3, 3, 6, 6, 4, 9, 6, 0, 9, 1, 5, 7, 0, 2, 7, 8, 2, 9, 4, 1, 3, 1, 6, 5, 6, 2, 4, 2, 8, 5, 8, 6, 4, 4, 8, 8, 6, 2, 3, 3, 8, 1, 3, 4, 5, 6, 2, 9, 0, 7, 2, 7, 0, 8, 7, 4, 8, 2, 7, 7, 7, 9, 9, 1, 4, 8, 3, 7, 4, 3, 4, 1, 8, 8, 4, 1, 0, 8, 0, 0, 0, 4, 7, 1, 5, 5, 5, 3, 6, 5, 3, 2, 9, 0, 5, 1, 0, 0, 9, 1, 7, 8, 9, 2, 3, 5, 7, 1, 0, 8, 8, 8, 0, 7, 2, 7, 2, 5, 0, 7, 7, 9, 4, 8, 6, 5, 9, 6, 8, 6, 9, 4, 0, 4, 7, 2, 9, 0, 3, 0, 9, 5, 2, 2, 1, 4, 4, 2, 5, 6, 2, 4, 2, 5, 3, 1, 7, 5, 9, 6, 9, 5, 9, 4, 1, 2, 5, 9, 8, 3, 6, 5, 5, 4, 8, 7, 9, 5, 0, 8, 4, 9, 5, 7, 3, 3, 0, 2, 1, 5, 9, 0, 1, 2, 3, 3, 7, 2, 1, 0, 7, 7, 1, 3, 4, 2, 5, 9, 4, 0, 8, 9, 5, 3, 0, 5, 5, 6, 5, 6, 6, 2, 0, 8, 5, 6, 5, 4, 5, 5, 2, 6, 3, 1, 4, 9, 0, 0, 9, 4, 9, 7, 6, 7, 1, 1, 1, 8, 0, 6, 2, 6, 4, 9, 1, 5, 0, 2, 8, 3, 1, 1, 8, 8, 5, 1, 0, 8, 4, 6, 2, 7, 6, 9, 9, 3, 9, 8, 5, 5, 2, 7, 9, 8, 8, 1, 3, 9, 7, 0, 8, 3, 4, 3, 0, 9, 6, 4, 9, 4, 8, 2, 9, 6, 4, 4, 8, 9, 5, 3, 3, 0, 0, 7, 0, 1, 8, 6, 7, 9, 1, 7, 3, 3, 3, 9, 5, 4, 4, 3, 4, 3, 3, 2, 2, 4, 4, 6, 4, 5, 7, 3, 7, 8, 5, 0, 5, 3, 6, 8, 1, 2, 2, 3, 2, 1, 5, 1, 4, 7, 2, 9, 8, 7, 0, 1, 0, 4, 1, 9, 6, 8, 5, 4, 8, 4, 6, 5, 6, 7, 3, 7, 9, 5, 0, 7, 6, 3, 9, 2, 4, 6, 9, 1, 4, 7, 1, 6, 4, 9, 0, 6, 7, 5, 4, 4, 9, 7, 3, 1, 9, 7, 9, 4, 6, 7, 4, 9, 6, 1, 2, 6, 4, 7, 6, 7, 1, 4, 3, 2, 3, 7, 0, 3, 9, 4, 0, 0, 4, 2, 8, 2, 1, 3, 7, 7, 8, 2, 3, 1, 7, 2, 0, 7, 3, 4, 3, 5, 2, 7, 6, 8, 5, 4, 5, 2, 8, 3, 4, 5, 8, 1, 3, 1, 6, 3, 5, 1, 0, 5, 1, 9, 5, 2, 9, 4, 2, 7, 9, 9, 1, 6, 3, 2, 0, 1, 7, 0, 0, 1, 0, 5, 4, 8, 0, 9, 0, 1, 9, 3, 7, 4, 2, 4, 2, 6, 2, 0, 3, 6, 0, 8, 7, 0, 0, 7, 3, 8, 3, 3, 6, 8, 2, 7, 4, 1, 2, 9, 2, 4, 6, 6, 8, 5, 1, 4, 3, 7, 5, 0, 9, 2, 0, 1, 3, 9, 4, 3, 1, 8, 5, 4, 9, 9, 0, 7, 6, 5, 5, 2, 1, 6, 2, 7, 4, 6, 4, 1, 6, 5, 1, 9, 3, 8, 7, 2, 3, 6, 1, 4, 3, 2, 8, 2, 8, 6, 4, 6, 8, 4, 5, 2, 8, 0, 9, 7, 3, 5, 2, 4, 6, 7, 2, 1, 3, 3, 3, 3, 1, 1, 3, 7, 4, 2, 6, 8, 2, 0, 0, 4, 6, 3, 8, 4, 6, 3, 0, 7, 8, 1, 9, 6, 0, 5, 2, 6, 7, 6, 4, 9, 6, 4, 7, 8, 5, 9, 4, 5, 1, 4, 6, 6, 7, 9, 3, 8, 2, 0, 1, 6, 9, 2, 6, 2, 1, 6, 7, 0, 6, 3, 3, 3, 2, 1, 4, 5, 4, 0, 7, 8, 6, 3, 7, 4, 0, 9, 6, 7, 3, 5, 8, 5, 6, 9, 5, 6, 6, 2, 3, 3, 4, 9, 7, 1, 3, 4, 6, 2, 4, 3, 3, 0, 8, 6, 7, 7, 3, 4, 5, 4, 2, 3, 1, 0, 9, 4, 4, 4, 2, 5, 2, 0, 3, 3, 6, 2, 5, 1, 7, 9, 2, 8, 2, 0, 1, 8, 8, 7, 2, 3, 4, 3, 2, 1, 0, 7, 5, 9, 9, 6, 8, 6, 2, 3, 0, 8, 4, 7, 4, 7, 1, 9, 3, 1, 2, 1, 9, 0, 6, 0, 9, 8, 1, 3, 1, 9, 6, 1, 3, 5, 7, 7, 1, 8, 7, 4, 0, 1, 3, 2, 6, 0, 0, 5, 3, 2, 9, 9, 5, 7, 7, 5, 5, 7, 3, 1, 0, 1, 2, 9, 9, 5, 9, 1, 4, 0, 6, 7, 3, 7, 3, 8, 8, 0, 4, 6, 6, 5, 3, 1, 7, 9, 8, 3, 5, 1, 3, 1, 7, 0, 1, 1, 2, 7, 8, 6, 3, 0, 2, 6, 9, 6, 7, 6, 6, 1, 7, 3, 6, 6, 8, 2, 3, 7, 5, 0, 8, 7, 7, 1, 9, 3, 6, 1, 4, 5, 2, 8, 2, 8, 7, 6, 5, 1, 4, 5, 3, 3, 9, 4, 1, 3, 8, 8, 3, 8, 7, 7, 5, 6, 8, 5, 1, 2, 7, 2, 2, 8, 6, 2, 8, 5, 7, 4, 6, 9, 3, 1, 1, 5, 2, 8, 7, 1, 1, 7, 7, 8, 6, 8, 6, 7, 1, 6, 8, 1, 6, 0, 9, 9, 2, 3, 4, 7, 4, 7, 7, 2, 4, 9, 8, 3, 8, 3, 7, 1, 4, 5, 6, 3, 2, 2, 0, 6, 0, 9, 8, 4, 7, 7, 5, 0, 3, 1, 9, 1, 3, 5, 5, 4, 7, 4, 5, 4, 8, 8, 8, 3, 2, 1, 2, 9, 6, 1, 9, 4, 7, 6, 4, 1, 1, 4, 8, 1, 9, 2, 3, 9, 0, 3, 9, 4, 1, 8, 3, 4, 8, 3, 3, 1, 8, 2, 6, 0, 0, 2, 1, 0, 4, 6, 6, 2, 1, 0, 3, 1, 6, 1, 9, 6, 3, 9, 6, 7, 4, 6, 8, 4, 2, 3, 2, 0, 8, 6, 4, 9, 0, 7, 0, 1, 2, 5, 5, 1, 6, 3, 6, 2, 8, 5, 7, 1, 6, 1, 2, 1, 0, 0, 8, 8, 2, 8, 5, 7, 3, 3, 5, 4, 9, 4, 7, 6, 1, 8, 4, 9, 7, 4, 3, 8, 2, 9, 7, 7, 5, 6, 0, 6, 3, 1, 3, 8, 2, 2, 9, 7, 8, 8, 0, 0, 7, 5, 1, 1, 6, 5, 8, 7, 4, 6, 2, 7, 7, 8, 7, 5, 5, 7, 6, 4, 6, 2, 2, 8, 9, 6, 9, 4, 6, 8, 8, 2, 1, 3, 3, 8, 4, 0, 4, 7, 2, 5, 4, 4, 0, 8, 4, 3, 6, 3, 8, 8, 2, 9, 6, 9, 5, 6, 2, 3, 7, 1, 4, 7, 9, 0, 5, 8, 6, 7, 3, 1, 7, 2, 5, 6, 6, 0, 5, 0, 8, 4, 2, 4, 4, 7, 1, 5, 8, 5, 2, 3, 8, 8, 4, 9, 8, 5, 9, 5, 2, 5, 8, 4, 7, 3, 3, 3, 1, 3, 8, 9, 3, 8, 1, 8, 3, 6, 9, 2, 2, 6, 3, 5, 5, 7, 3, 6, 0, 1, 2, 1, 1, 8, 5, 2, 7, 3, 4, 4, 8, 5, 5, 6, 5, 3, 5, 4, 5, 2, 2, 9, 0, 8, 9, 3, 6, 1, 0, 6, 1, 1, 2, 0, 3, 5, 7, 0, 2, 7, 7, 0, 4, 5, 6, 7, 5, 7, 2, 5, 0, 7, 1, 9, 3, 7, 6, 0, 7, 3, 4, 4, 5, 2, 9, 2, 0, 3, 1, 6, 2, 2, 4, 7, 3, 1, 8, 7, 3, 0, 6, 5, 3, 5, 3, 8, 6, 8, 3, 3, 5, 8, 1, 6, 9, 5, 6, 0, 9, 9, 5, 6, 8, 9, 6, 0, 6, 3, 6, 1, 0, 6, 2, 3, 5, 1, 9, 0, 6, 6, 5, 6, 3, 4, 5, 1, 6, 7, 4, 2, 9, 6, 6, 2, 5, 8, 8, 4, 1, 7, 1, 8, 1, 1, 3, 7, 9, 5, 8, 4, 4, 1, 2, 0, 1, 4, 9, 2, 7, 5, 8, 3, 2, 3, 8, 0, 1, 3, 7, 6, 6, 4, 3, 5, 0, 6, 4, 7, 1, 7, 1, 0, 0, 8, 2, 7, 2, 7, 8, 6, 2, 9, 1, 6, 2, 6, 1, 3, 0, 5, 3, 0, 6, 1, 1, 5, 1, 7, 5, 3, 4, 1, 1, 4, 0, 8, 4, 2, 5, 4, 8, 3, 4, 3, 1, 1, 7, 9, 1, 1, 8, 0, 1, 1, 2, 1, 4, 4, 8, 7, 4, 8, 6, 3, 1, 9, 6, 6, 4, 4, 0, 2, 5, 9, 7, 1, 7, 6, 4, 7, 5, 4, 1, 0, 2, 3, 3, 8, 9, 9, 7, 5, 9, 9, 7, 9, 6, 0, 4, 5, 3, 3, 1, 5, 1, 8, 3, 8, 0, 5, 4, 8, 1, 3, 8, 9, 1, 8, 0, 0, 5, 8, 1, 2, 7, 8, 2, 9, 5, 8, 9, 9, 6, 4, 3, 9, 0, 7, 0, 2, 2, 3, 8, 3, 0, 9, 5, 6, 3, 1, 5, 2, 3, 9, 2, 6, 7, 3, 8, 3, 6, 3, 7, 3, 0, 6, 3, 3, 9, 1, 8, 8, 3, 8, 3, 3, 0, 1, 0, 0, 7, 8, 8, 0, 5, 0, 9, 1, 8, 5, 6, 3, 5, 3, 0, 2, 2, 8, 6, 2, 9, 0, 0, 1, 0, 4, 3, 3, 8, 8, 4, 0, 6, 3, 1, 6, 2, 0, 7, 5, 7, 0, 1, 6, 0, 3, 2, 6, 9, 2, 9, 4, 7, 4, 5, 8, 5, 4, 7, 7, 3, 3, 7, 8, 9, 9, 1, 0, 4, 6, 2, 7, 5, 1, 8, 0, 7, 9, 3, 4, 2, 1, 0, 2, 5, 6, 0, 3, 9, 4, 2, 1, 7, 0, 1, 5, 4, 3, 7, 1, 7, 1, 9, 7, 8, 7, 0, 7, 8, 3, 2, 8, 7, 4, 5, 7, 1, 4, 7, 4, 4, 8, 9, 9, 8, 0, 6, 2, 4, 2, 4, 7, 6, 8, 1, 7, 4, 0, 2, 9, 8, 0, 6, 1, 6, 3, 9, 2, 0, 0, 4, 9, 2, 1, 0, 2, 2, 0, 2, 3, 7, 3, 8, 6, 4, 3, 7, 1, 0, 6, 4, 5, 8, 5, 3, 3, 7, 1, 7, 5, 7, 9, 2, 3, 4, 9, 9, 8, 9, 8, 2, 5, 9, 5, 0, 6, 8, 9, 9, 6, 1, 1, 9, 1, 6, 9, 4, 2, 2, 6, 8, 7, 1, 3, 6, 1, 1, 1, 5, 7, 5, 0, 1, 5, 8, 0, 6, 4, 3, 1, 7, 8, 1, 2, 1, 2, 5, 4, 8, 2, 9, 0, 8, 3, 5, 4, 9, 3, 6, 5, 7, 0, 7, 9, 9, 2, 6, 9, 9, 3, 2, 4, 3, 5, 0, 3, 0, 5, 1, 4, 5, 1, 1, 5, 5, 7, 0, 2, 0, 5, 9, 4, 0, 3, 8, 9, 0, 9, 8, 6, 1, 2, 7, 6, 7, 0, 3, 3, 3, 0, 6, 2, 0, 7, 0, 4, 3, 7, 3, 5, 7, 7, 4, 7, 6, 1, 4, 6, 6, 6, 0, 1, 4, 7, 7, 7, 1, 7, 8, 3, 7, 3, 9, 3, 2, 1, 0, 6, 2, 7, 5, 0, 6, 7, 2, 4, 3, 2, 9, 4, 9, 8, 2, 0, 6, 1, 1, 7, 5, 0, 6, 6, 2, 3, 5, 8, 3, 5, 7, 1, 8, 2, 2, 1, 4, 6, 2, 0, 1, 7, 8, 1, 2, 0, 2, 9, 9, 3, 7, 7, 4, 2, 0, 6, 8, 5, 9, 4, 9, 2, 3, 0, 5, 3, 4, 6, 1, 1, 0, 1, 6, 9, 6, 2, 9, 5, 7, 7, 3, 0, 5, 6, 3, 2, 0, 3, 3, 4, 8, 5, 1, 6, 5, 7, 7, 8, 2, 9, 9, 7, 3, 8, 2, 8, 6, 2, 2, 1, 4, 7, 4, 4, 6, 6, 9, 7, 2, 4, 6, 0, 8, 6, 6, 7, 0, 0, 0, 8, 2, 6, 6, 1, 5, 0, 9, 5, 6, 1, 4, 0, 7, 3, 1, 7, 9, 0, 1, 6, 6, 8, 8, 3, 0, 3, 3, 1, 6, 9, 4, 8, 8, 8, 6, 6, 2, 3, 9, 3, 8, 6, 2, 2, 0, 2, 5, 6, 8, 0, 2, 2, 8, 8, 3, 3, 3, 8, 2, 6, 6, 1, 7, 2, 7, 5, 5, 3, 8, 2, 0, 8, 4, 4, 8, 4, 5, 5, 7, 6, 3, 2, 3, 8, 1, 1, 6, 9, 0, 6, 7, 2, 4, 3, 4, 6, 8, 6, 0, 8, 8, 9, 7, 2, 7, 0, 4, 2, 3, 0, 6, 1, 0, 9, 3, 9, 1, 6, 2, 1, 1, 1, 0, 0, 0, 0, 2, 3, 0, 9, 3, 3, 7, 1, 6, 7, 9, 8, 2, 8, 4, 7, 0, 4, 0, 1, 8, 2, 3, 8, 1, 9, 9, 1, 6, 7, 1, 4, 0, 3, 5, 1, 0, 4, 8, 3, 5, 9, 7, 4, 2, 9, 9, 0, 2, 1, 8, 3, 9, 3, 5, 0, 5, 2, 3, 9, 0, 3, 3, 8, 3, 2, 2, 5, 8, 2, 6, 6, 2, 2, 1, 1, 7, 4, 2, 3, 8, 1, 2, 3, 4, 0, 2, 7, 5, 1, 0, 1, 2, 3, 6, 2, 5, 1, 5, 0, 0, 1, 7, 7, 5, 5, 6, 0, 4, 0, 3, 8, 6, 9, 8, 6, 1, 0, 2, 2, 6, 1, 8, 5, 3, 1, 9, 1, 1, 8, 5, 6, 1, 4, 2, 8, 4, 2, 7, 5, 5, 8, 0, 5, 1, 9, 3, 4, 8, 0, 8, 3, 5, 6, 4, 3, 6, 4, 0, 3, 4, 5, 3, 4, 2, 5, 3, 8, 0, 5, 8, 4, 0, 8, 5, 2, 5, 7, 8, 4, 2, 9, 5, 8, 8, 3, 3, 5, 3, 4, 9, 5, 0, 6, 1, 9, 0, 0, 9, 7, 1, 8, 3, 9, 2, 1, 7, 1, 9, 6, 9, 7, 7, 0, 2, 7, 7, 9, 9, 3, 5, 2, 2, 9, 2, 5, 5, 9, 5, 8, 3, 4, 1, 2, 5, 6, 3, 8, 4, 1, 2, 2, 0, 7, 6, 7, 1, 2, 8, 3, 1, 7, 4, 5, 9, 0, 3, 7, 8, 0, 7, 4, 2, 6, 9, 0, 2, 7, 4, 7, 3, 1, 7, 5, 1, 4, 0, 2, 4, 4, 3, 3, 0, 0, 8, 3, 3, 0, 9, 1, 7, 7, 0, 6, 9, 2, 4, 8, 5, 8, 5, 8, 9, 4, 4, 4, 8, 5, 3, 7, 0, 2, 5, 9, 8, 4, 9, 4, 2, 1, 3, 0, 3, 4, 8, 0, 1, 1, 9, 8, 7, 6, 1, 6, 3, 9, 6, 0, 2, 9, 2, 9, 6, 0, 0, 8, 6, 4, 9, 1, 1, 0, 5, 0, 2, 8, 4, 5, 9, 2, 6, 7, 4, 5, 5, 7, 6, 3, 8, 7, 9, 8, 4, 4, 6, 1, 1, 2, 0, 9, 1, 7, 2, 8, 8, 2, 1, 4, 4, 8, 4, 4, 6, 9, 5, 8, 5, 5, 7, 7, 5, 9, 5, 3, 4, 9, 9, 3, 7, 6, 9, 5, 8, 6, 6, 0, 7, 9, 2, 8, 3, 7, 0, 4, 0, 8, 8, 6, 2, 1, 2, 8, 9, 7, 2, 0, 2, 7, 6, 9, 1, 4, 8, 2, 8, 6, 7, 1, 1, 0, 1, 4, 6, 0, 4, 7, 1, 6, 0, 1, 9, 9, 8, 1, 6, 9, 1, 9, 9, 0, 1, 1, 7, 1, 8, 9, 1, 0, 0, 5, 7, 4, 4, 6, 5, 2, 5, 9, 8, 6, 5, 5, 3, 7, 8, 7, 7, 6, 3, 3, 1, 5, 9, 6, 7, 7, 3, 1, 7, 3, 2, 6, 6, 9, 8, 7, 2, 6, 8, 7, 7, 5, 1, 0, 7, 1, 7, 2, 1, 3, 4, 4, 9, 6, 2, 3, 8, 8, 0, 4, 7, 2, 7, 7, 9, 3, 7, 6, 8, 3, 9, 6, 4, 7, 4, 0, 3, 8, 9, 7, 0, 0, 5, 0, 7, 8, 8, 1, 8, 2, 9, 5, 8, 9, 5, 5, 2, 4, 8, 6, 3, 7, 2, 5, 5, 0, 3, 7, 4, 8, 1, 5, 1, 1, 7, 0, 1, 6, 7, 6, 8, 4, 0, 6, 6, 4, 2, 8, 7, 6, 3, 3, 7, 2, 3, 8, 9, 8, 7, 7, 4, 8, 3, 8, 7, 9, 2, 9, 9, 1, 5, 5, 4, 0, 6, 1, 2, 6, 3, 3, 2, 0, 5, 9, 7, 7, 0, 5, 0, 9, 2, 7, 7, 0, 9, 5, 5, 1, 9, 0, 3, 3, 9, 6, 7, 4, 8, 2, 5, 8, 2, 1, 4, 9, 0, 8, 2, 4, 0, 1, 2, 3, 0, 9, 4, 8, 3, 8, 9, 2, 3, 1, 4, 5, 1, 5, 1, 0, 2, 5, 2, 1, 8, 6, 4, 5, 0, 9, 3, 1, 0, 9, 1, 0, 7, 6, 6, 7, 7, 2, 6, 9, 3, 4, 5, 1, 9, 6, 6, 4, 8, 8, 6, 0, 4, 9, 5, 9, 9, 3, 9, 9, 0, 2, 2, 7, 3, 5, 1, 0, 9, 5, 8, 0, 8, 1, 1, 0, 0, 7, 4, 8, 2, 3, 3, 2, 5, 6, 0, 1, 8, 2, 6, 6, 2, 1, 3, 6, 5, 8, 3, 2, 0, 8, 1, 7, 9, 7, 2, 0, 4, 6, 8, 1, 5, 7, 9, 7, 0, 4, 1, 7, 5, 8, 7, 4, 8, 7, 3, 7, 4, 4, 0, 4, 7, 4, 3, 5, 3, 8, 1, 7, 8, 5, 7, 0, 8, 7, 5, 5, 4, 7, 1, 9, 0, 5, 2, 6, 1, 4, 8, 0, 6, 3, 1, 9, 7, 3, 5, 6, 6, 9, 8, 0, 5, 9, 6, 2, 6, 9, 5, 8, 3, 0, 5, 1, 7, 2, 8, 0, 4, 0, 8, 1, 3, 9, 7, 1, 3, 6, 7, 4, 8, 6, 7, 5, 3, 4, 3, 5, 2, 6, 9, 5, 0, 1, 7, 4, 8, 9, 4, 2, 2, 9, 0, 3, 3, 1, 3, 0, 4, 2, 1, 4, 0, 8, 2, 1, 4, 4, 3, 6, 6, 8, 3, 9, 9, 9, 9, 6, 5, 0, 8, 2, 3, 5, 9, 8, 2, 8, 3, 4, 1, 1, 7, 6, 9, 2, 1, 4, 6, 3, 3, 2, 1, 8, 1, 0, 0, 0, 3, 4, 0, 8, 0, 9, 1, 2, 8, 0, 1, 7, 7, 3, 4, 7, 8, 0, 2, 7, 1, 3, 7, 4, 6, 1, 7, 6, 1, 2, 6, 9, 8, 2, 0, 1, 0, 9, 6, 5, 3, 2, 4, 6, 5, 4, 9, 3, 8, 8, 7, 3, 6, 1, 2, 9, 8, 8, 1, 0, 3, 0, 8, 0, 0, 6, 6, 1, 3, 3, 6, 6, 5, 7, 5, 3, 8, 2, 1, 9, 0, 4, 6, 9, 2, 3, 9, 4, 1, 4, 2, 2, 3, 4, 8, 4, 3, 0, 6, 8, 8, 6, 2, 3, 3, 7, 3, 5, 2, 9, 6, 0, 2, 3, 5, 2, 4, 9, 5, 1, 6, 0, 3, 3, 7, 3, 7, 9, 8, 1, 5, 2, 8, 0, 2, 9, 5, 6, 6, 2, 6, 7, 4, 2, 4, 5, 8, 7, 6, 1, 1, 9, 5, 9, 7, 2, 1, 2, 9, 6, 8, 0, 3, 7, 7, 7, 8, 2, 3, 9, 0, 4, 1, 6, 4, 5, 0, 6, 6, 7, 2, 6, 9, 7, 9, 6, 6, 1, 3, 2, 4, 1, 1, 0, 4, 2, 6, 0, 8, 4, 4, 9, 8, 1, 5, 8, 1, 1, 8, 8, 9, 7, 2, 4, 5, 6, 4, 9, 6, 7, 5, 0, 8, 3, 5, 4, 5, 0, 5, 0, 2, 3, 0, 3, 7, 5, 0, 2, 3, 2, 3, 5, 9, 6, 3, 3, 8, 3, 9, 1, 7, 3, 0, 2, 0, 7, 5, 1, 1, 2, 6, 6, 1, 6, 8, 0, 8, 1, 0, 7, 2, 7, 3, 2, 3, 1, 9, 5, 3, 6, 9, 2, 4, 3, 8, 3, 8, 7, 2, 4, 2, 8, 4, 4, 2, 5, 6, 3, 9, 4, 6, 7, 0, 4, 4, 1, 8, 6, 2, 7, 4, 3, 1, 0, 7, 0, 9, 5, 8, 0, 1, 6, 9, 5, 0, 0, 2, 8, 5, 4, 0, 5, 1, 3, 3, 4, 9, 5, 3, 3, 1, 0, 1, 2, 2, 3, 6, 1, 2, 7, 8, 1, 9, 0, 6, 8, 6, 0, 8, 9, 2, 3, 7, 6, 2, 9, 8, 8, 6, 3, 0, 6, 9, 5, 9, 0, 7, 2, 0, 1, 2, 4, 1, 7, 5, 5, 2, 9, 2, 0, 5, 7, 4, 7, 7, 2, 7, 6, 5, 1, 5, 9, 7, 2, 0, 8, 9, 8, 6, 8, 5, 0, 7, 7, 8, 2, 1, 6, 1, 3, 1, 6, 6, 8, 2, 3, 7, 9, 8, 3, 8, 5, 7, 0, 1, 0, 7, 4, 2, 0, 4, 9, 4, 2, 7, 7, 4, 4, 1, 1, 0, 9, 0, 9, 8, 6, 4, 7, 2, 2, 2, 6, 0, 2, 1, 0, 2, 8, 4, 4, 6, 5, 9, 0, 1, 1, 8, 5, 1, 1, 8, 9, 0, 6, 4, 8, 4, 5, 7, 1, 4, 6, 2, 2, 6, 8, 2, 9, 2, 2, 7, 1, 4, 5, 3, 1, 0, 8, 4, 4, 3, 7, 8, 9, 3, 6, 1, 2, 1, 2, 2, 7, 1, 1, 1, 2, 5, 7, 2, 2, 7, 3, 4, 4, 5, 1, 0, 2, 9, 8, 3, 9, 1, 2, 0, 5, 9, 5, 9, 3, 1, 0, 3, 3, 0, 4, 0, 8, 4, 0, 1, 7, 5, 8, 3, 6, 9, 8, 7, 2, 8, 2, 3, 4, 5, 2, 6, 7, 4, 2, 7, 5, 5, 4, 8, 8, 1, 3, 8, 5, 4, 8, 9, 6, 9, 4, 3, 0, 1, 2, 2, 4, 6, 8, 8, 5, 0, 3, 1, 8, 3, 0, 7, 9, 8, 8, 9, 5, 2, 6, 4, 6, 8, 9, 8, 4, 8, 0, 5, 7, 1, 4, 8, 8, 3, 4, 0, 0, 5, 8, 3, 9, 3, 5, 9, 9, 6, 5, 8, 6, 3, 7, 2, 4, 0, 9, 2, 1, 0, 7, 3, 9, 8, 8, 4, 7, 7, 6, 9, 5, 8, 4, 6, 2, 2, 7, 6, 3, 3, 9, 2, 7, 6, 8, 1, 1, 5, 8, 5, 4, 4, 0, 3, 6, 1, 0, 6, 2, 6, 0, 3, 4, 6, 2, 6, 1, 1, 0, 7, 6, 5, 4, 5, 7, 1, 4, 4, 4, 7, 4, 4, 1, 4, 3, 6, 6, 8, 9, 6, 7, 2, 4, 3, 5, 3, 7, 8, 6, 2, 0, 0, 0, 2, 2, 5, 7, 1, 9, 6, 1, 9, 5, 9, 0, 6, 5, 4, 3, 8, 0, 6, 7, 1, 7, 4, 9, 8, 2, 6, 7, 3, 0, 5, 6, 7, 5, 7, 1, 6, 6, 4, 3, 3, 9, 8, 4, 3, 6, 4, 1, 6, 7, 4, 0, 1, 6, 3, 1, 2, 0, 0, 8, 6, 1, 6, 3, 8, 5, 0, 9, 1, 5, 4, 4, 0, 5, 2, 6, 1, 5, 9, 0, 8, 8, 1, 4, 9, 4, 4, 1, 0, 7, 3, 9, 1, 0, 2, 3, 1, 5, 2, 6, 9, 2, 3, 0, 7, 4, 3, 3, 0, 9, 3, 8, 3, 4, 2, 2, 1, 9, 0, 2, 8, 6, 6, 0, 3, 3, 6, 5, 3, 4, 1, 2, 0, 8, 9, 4, 1, 7, 2, 6, 1, 3, 3, 0, 1, 9, 5, 4, 4, 8, 2, 6, 2, 9, 7, 7, 7, 9, 8, 9, 4, 4, 7, 1, 0, 4, 3, 6, 3, 9, 8, 3, 6, 8, 3, 6, 6, 2, 6, 7, 3, 0, 0, 0, 2, 5, 1, 2, 9, 2, 2, 1, 6, 3, 9, 1, 1, 5, 1, 6, 6, 8, 8, 3, 4, 6, 0, 6, 0, 3, 6, 6, 5, 4, 8, 3, 2, 6, 0, 3, 1, 4, 0, 6, 6, 2, 7, 6, 9, 0, 4, 5, 7, 1, 6, 7, 9, 1, 7, 7, 8, 0, 3, 7, 4, 7, 3, 1, 0, 4, 6, 6, 1, 4, 9, 2, 6, 4, 5, 0, 4, 6, 0, 8, 3, 4, 8, 8, 3, 9, 5, 7, 1, 9, 4, 7, 9, 1, 9, 7, 5, 2, 7, 3, 4, 8, 8, 2, 1, 5, 9, 2, 7, 8, 8, 6, 8, 8, 1, 3, 8, 8, 5, 4, 7, 1, 6, 6, 1, 6, 1, 6, 7, 0, 4, 6, 9, 5, 8, 7, 1, 9, 0, 3, 3, 7, 6, 9, 0, 4, 7, 1, 4, 3, 4, 3, 9, 8, 7, 0, 8, 3, 9, 1, 0, 8, 0, 9, 4, 0, 2, 1, 4, 2, 7, 1, 7, 0, 2, 9, 7, 9, 8, 6, 4, 4, 1, 1, 7, 8, 8, 6, 4, 5, 6, 3, 9, 4, 2, 5, 3, 6, 7, 7, 3, 9, 1, 3, 1, 8, 3, 3, 5, 6, 4, 0, 9, 6, 6, 5, 0, 6, 2, 0, 5, 4, 9, 3, 4, 6, 0, 6, 7, 0, 7, 2, 6, 9, 6, 5, 4, 5, 4, 7, 7, 6, 8, 1, 5, 9, 7, 8, 8, 7, 1, 4, 6, 4, 2, 2, 5, 0, 3, 8, 9, 4, 1, 1, 4, 1, 9, 6, 3, 3, 6, 9, 5, 7, 6, 9, 4, 2, 4, 0, 0, 0, 8, 7, 5, 1, 8, 6, 7, 0, 1, 7, 7, 8, 2, 7, 4, 8, 8, 9, 8, 9, 8, 2, 8, 9, 1, 3, 5, 7, 4, 0, 1, 4, 4, 0, 8, 4, 3, 7, 9, 7, 7, 9, 3, 6, 9, 8, 1, 5, 9, 8, 5, 5, 3, 3, 3, 0, 5, 1, 0, 6, 7, 3, 0, 9, 0, 7, 0, 4, 8, 8, 0, 7, 0, 3, 9, 0, 8, 6, 8, 7, 7, 6, 4, 9, 1, 0, 8, 0, 6, 6, 7, 1, 2, 8, 1, 1, 6, 0, 5, 4, 7, 8, 1, 7, 4, 9, 6, 9, 8, 1, 2, 6, 1, 8, 5, 3, 7, 4, 7, 1, 9, 2, 9, 2, 4, 1, 0, 8, 2, 5, 2, 0, 6, 0, 8, 1, 4, 9, 2, 5, 8, 2, 5, 8, 2, 5, 3, 4, 8, 2, 3, 4, 1, 9, 7, 5, 5, 0, 4, 3, 2, 5, 3, 6, 5, 2, 8, 7, 2, 8, 2, 3, 2, 3, 8, 8, 6, 8, 1, 4, 9, 7, 1, 4, 3, 1, 3, 0, 8, 2, 1, 7, 6, 2, 3, 3, 3, 7, 7, 9, 3, 2, 0, 5, 4, 9, 2, 8, 1, 4, 4, 1, 2, 7, 5, 8, 5, 4, 0, 0, 3, 4, 7, 1, 3, 0, 9, 1, 7, 9, 2, 0, 4, 3, 7, 5, 9, 2, 3, 7, 3, 5, 6, 8, 2, 0, 5, 5, 0, 6, 3, 4, 9, 5, 1, 9, 8, 4, 0, 3, 7, 7, 8, 1, 6, 9, 3, 1, 4, 8, 7, 4, 7, 5, 5, 8, 1, 0, 7, 7, 0, 5, 6, 6, 7, 0, 6, 5, 5, 3, 3, 9, 7, 4, 7, 6, 1, 3, 5, 2, 1, 1, 4, 1, 8, 7, 0, 3, 1, 0, 0, 6, 7, 9, 2, 7, 7, 8, 5, 3, 2, 0, 9, 2, 4, 4, 2, 3, 6, 5, 7, 5, 6, 0, 7, 5, 4, 4, 8, 0, 2, 4, 8, 3, 2, 8, 1, 4, 2, 0, 3, 3, 8, 7, 9, 7, 2, 8, 9, 1, 2, 4, 1, 6, 5, 4, 3, 6, 6, 0, 8, 8, 4, 4, 1, 7, 1, 8, 8, 6, 1, 6, 0, 2, 1, 3, 4, 1, 0, 5, 9, 9, 2, 4, 9, 8, 8, 6, 7, 0, 5, 5, 5, 2, 7, 8, 0, 0, 6, 8, 1, 1, 8, 0, 8, 2, 7, 7, 0, 7, 8, 0, 0, 5, 5, 1, 4, 7, 5, 4, 9, 4, 2, 4, 8, 5, 6, 3, 4, 4, 8, 5, 5, 1, 7, 0, 1, 5, 0, 9, 6, 4, 4, 8, 3, 9, 5, 2, 5, 7, 4, 0, 7, 3, 0, 6, 7, 7, 4, 5, 6, 5, 5, 0, 2, 9, 5, 3, 3, 1, 1, 3, 2, 9, 3, 3, 7, 1, 2, 6, 5, 5, 5, 0, 9, 8, 0, 4, 4, 2, 5, 9, 3, 1, 7, 8, 6, 8, 0, 0, 7, 7, 5, 9, 0, 6, 3, 8, 6, 0, 3, 7, 1, 9, 6, 9, 6, 1, 0, 1, 0, 9, 5, 2, 2, 5, 0, 8, 9, 2, 4, 3, 8, 0, 0, 7, 3, 6, 7, 8, 7, 1, 5, 6, 8, 7, 1, 3, 1, 9, 6, 9, 9, 5, 1, 2, 4, 5, 8, 6, 4, 1, 8, 6, 2, 3, 5, 9, 1, 0, 8, 4, 9, 4, 7, 9, 3, 0, 8, 3, 7, 9, 2, 4, 5, 5, 8, 4, 2, 0, 1, 3, 3, 7, 0, 7, 7, 4, 8, 4, 5, 7, 5, 9, 1, 3, 7, 2, 7, 7, 4, 6, 4, 7, 7, 0, 9, 1, 0, 5, 2, 9, 4, 2, 1, 8, 4, 7, 8, 5, 6, 6, 1, 0, 1, 4, 5, 9, 7, 8, 3, 8, 6, 5, 6, 8, 5, 4, 2, 7, 8, 3, 9, 3, 7, 2, 9, 2, 6, 3, 6, 6, 2, 9, 3, 9, 2, 5, 6, 4, 3, 3, 4, 4, 0, 1, 0, 0, 8, 7, 3, 2, 3, 6, 8, 1, 1, 8, 4, 3, 2, 1, 4, 5, 9, 4, 8, 8, 2, 1, 5, 4, 8, 3, 4, 9, 6, 6, 8, 0, 7, 0, 0, 2, 1, 3, 7, 5, 9, 8, 7, 3, 1, 8, 0, 2, 5, 8, 2, 1, 0, 6, 8, 3, 2, 8, 0, 2, 5, 2, 0, 7, 4, 4, 0, 0, 5, 3, 3, 8, 3, 0, 2, 0, 5, 4, 5, 2, 4, 1, 6, 7, 3, 6, 8, 5, 6, 4, 7, 3, 6, 8, 2, 7, 3, 7, 0, 3, 0, 7, 8, 7, 0, 5, 5, 8, 4, 7, 6, 3, 7, 8, 6, 5, 5, 0, 4, 1, 0, 5, 0, 3, 0, 4, 1, 5, 2, 9, 8, 2, 7, 2, 6, 8, 4, 6, 5, 8, 9, 5, 6, 2, 0, 6, 7, 3, 9, 3, 2, 0, 7, 1, 6, 9, 5, 6, 0, 2, 4, 8, 4, 3, 3, 5, 0, 2, 6, 4, 9, 9, 9, 4, 1, 3, 1, 1, 1, 6, 7, 2, 4, 9, 9, 8, 5, 5, 6, 5, 7, 6, 8, 8, 6, 0, 9, 5, 7, 5, 2, 9, 8, 8, 5, 4, 7, 1, 5, 5, 5, 7, 2, 0, 9, 2, 9, 9, 5, 2, 0, 8, 0, 1, 8, 6, 6, 3, 9, 5, 5, 2, 3, 5, 4, 6, 3, 2, 2, 3, 1, 2, 2, 3, 8, 5, 2, 7, 6, 3, 8, 8, 0, 4, 9, 3, 6, 9, 7, 6, 0, 5, 0, 6, 2, 2, 3, 1, 0, 9, 4, 9, 7, 0, 9, 3, 9, 6, 3, 4, 3, 0, 0, 6, 0, 2, 1, 1, 8, 5, 6, 5, 8, 4, 4, 0, 2, 8, 4, 0, 2, 3, 9, 5, 7, 8, 5, 0, 1, 8, 8, 5, 3, 5, 2, 3, 8, 6, 5, 9, 0, 8, 7, 4, 0, 7, 4, 0, 7, 5, 2, 6, 2, 7, 6, 3, 9, 3, 3, 2, 9, 0, 5, 4, 7, 1, 0, 6, 0, 0, 8, 3, 1, 8, 6, 9, 9, 2, 5, 4, 9, 5, 6, 6, 3, 7, 5, 7, 3, 0, 2, 8, 5, 7, 5, 6, 9, 3, 7, 2, 1, 3, 7, 3, 2, 5, 2, 8, 3, 8, 6, 5, 2, 2, 7, 5, 8, 3, 2, 7, 0, 3, 6, 3, 9, 1, 2, 6, 3, 5, 3, 1, 8, 6, 3, 6, 0, 9, 0, 5, 5, 7, 8, 3, 2, 6, 2, 9, 4, 2, 3, 3, 9, 3, 7, 7, 6, 7, 6, 1, 5, 6, 4, 9, 0, 4, 4, 1, 6, 5, 6, 1, 6, 3, 7, 7, 6, 8, 7, 2, 0, 7, 1, 3, 2, 1, 9, 4, 0, 0, 7, 1, 7, 6, 9, 0, 6, 2, 3, 4, 2, 5, 6, 6, 0, 5, 5, 2, 1, 6, 7, 3, 7, 3, 5, 0, 2, 9, 2, 2, 2, 9, 3, 6, 7, 8, 5, 5, 1, 5, 6, 2, 6, 7, 1, 2, 9, 1, 0, 0, 3, 3, 2, 0, 3, 4, 1, 7, 7, 9, 2, 0, 8, 6, 8, 5, 3, 5, 5, 5, 5, 1, 3, 4, 2, 8, 7, 8, 9, 8, 4, 5, 6, 0, 4, 2, 3, 5, 0, 1, 9, 9, 2, 5, 7, 4, 1, 5, 8, 5, 4, 7, 2, 8, 5, 3, 1, 9, 3, 0, 5, 6, 2, 6, 3, 9, 4, 1, 3, 2, 1, 9, 2, 9, 4, 5, 9, 7, 0, 9, 3, 9, 1, 8, 5, 7, 4, 0, 3, 4, 8, 4, 3, 8, 7, 1, 0, 4, 1, 5, 8, 8, 3, 1, 1, 7, 4, 0, 6, 1, 4, 2, 6, 9, 4, 8, 9, 8, 9, 7, 3, 9, 8, 9, 5, 9, 6, 5, 9, 7, 2, 9, 7, 6, 5, 7, 0, 8, 1, 0, 8, 3, 0, 1, 9, 7, 5, 3, 5, 3, 4, 8, 3, 2, 2, 1, 3, 0, 6, 4, 5, 5, 6, 3, 1, 2, 0, 0, 6, 1, 1, 6, 7, 4, 2, 6, 8, 3, 6, 3, 7, 6, 9, 9, 9, 0, 5, 1, 1, 8, 2, 8, 3, 7, 4, 0, 6, 8, 8, 6, 8, 9, 9, 1, 3, 9, 0, 1, 2, 9, 1, 6, 9, 0, 6, 0, 1, 8, 5, 1, 1, 7, 1, 6, 9, 5, 1, 9, 7, 2, 8, 1, 1, 0, 2, 6, 5, 2, 3, 9, 1, 9, 3, 6, 9, 0, 5, 5, 3, 5, 6, 3, 6, 6, 2, 2, 0, 6, 0, 5, 3, 5, 3, 3, 5, 7, 7, 3, 1, 2, 2, 9, 6, 7, 1, 6, 3, 5, 6, 9, 6, 4, 3, 4, 3, 7, 0, 3, 3, 4, 2, 1, 0, 4, 5, 9, 0, 9, 9, 0, 1, 9, 7, 2, 6, 7, 1, 0, 6, 4, 9, 1, 7, 2, 5, 1, 6, 8, 4, 5, 7, 9, 8, 1, 6, 9, 0, 9, 1, 3, 9, 4, 8, 3, 4, 2, 0, 2, 9, 2, 2, 1, 5, 5, 4, 6, 1, 6, 1, 2, 5, 6, 9, 1, 8, 1, 8, 6, 9, 0, 3, 7, 0, 4, 7, 7, 8, 2, 0, 4, 7, 5, 7, 0, 1, 6, 5, 5, 5, 3, 9, 1, 3, 4, 4, 5, 4, 8, 3, 9, 8, 7, 3, 4, 7, 4, 4, 2, 3, 6, 9, 7, 4, 0, 5, 7, 2, 9, 2, 2, 8, 0, 4, 9, 1, 2, 4, 5, 3, 1, 1, 0, 8, 5, 8, 9, 3, 6, 6, 5, 8, 8, 0, 7, 1, 6, 0, 0, 4, 2, 1, 6, 9, 0, 1, 2, 5, 2, 5, 4, 7, 4, 5, 3, 4, 9, 6, 5, 2, 7, 2, 0, 3, 0, 9, 9, 8, 2, 0, 4, 0, 5, 8, 5, 7, 7, 4, 5, 1, 1, 4, 4, 0, 2, 3, 2, 2, 0, 6, 8, 1, 4, 6, 3, 3, 1, 1, 2, 7, 0, 3, 8, 8, 0, 5, 6, 4, 4, 9, 2, 8, 6, 5, 0, 7, 2, 2, 8, 4, 5, 7, 4, 3, 6, 6, 9, 9, 6, 6, 5, 4, 3, 9, 0, 0, 9, 5, 3, 6, 5, 3, 6, 7, 6, 8, 2, 4, 7, 8, 1, 4, 1, 0, 0, 0, 6, 3, 3, 6, 9, 7, 0, 1, 3, 9, 8, 3, 2, 2, 3, 2, 1, 6, 1, 3, 5, 0, 5, 1, 6, 0, 6, 2, 4, 2, 9, 0, 9, 1, 8, 6, 2, 5, 5, 2, 1, 0, 0, 2, 4, 3, 6, 0, 0, 1, 6, 5, 0, 4, 9, 9, 8, 5, 5, 8, 3, 8, 8, 4, 0, 3, 7, 5, 7, 1, 6, 1, 4, 9, 3, 4, 2, 4, 2, 4, 3, 9, 3, 1, 8, 9, 4, 3, 5, 8, 0, 6, 1, 4, 8, 8, 1, 8, 0, 0, 0, 4, 0, 4, 5, 4, 2, 6, 0, 2, 2, 7, 4, 5, 3, 6, 3, 2, 0, 1, 6, 9, 8, 4, 3, 2, 7, 1, 9, 4, 2, 9, 7, 1, 0, 2, 1, 6, 1, 1, 6, 8, 2, 3, 8, 8, 5, 0, 4, 2, 0, 9, 1, 5, 1, 9, 9, 2, 8, 3, 2, 0, 6, 8, 3, 8, 8, 5, 6, 2, 8, 5, 6, 4, 5, 8, 8, 4, 0, 1, 3, 2, 4, 6, 3, 3, 4, 6, 2, 7, 6, 6, 5, 4, 3, 0, 7, 1, 7, 0, 1, 1, 8, 0, 5, 8, 3, 6, 5, 6, 3, 5, 7, 7, 9, 5, 1, 9, 8, 2, 8, 0, 4, 6, 3, 5, 0, 8, 9, 1, 4, 9, 6, 1, 0, 8, 2, 8, 7, 0, 7, 7, 6, 5, 1, 1, 8, 3, 9, 1, 5, 4, 1, 0, 4, 8, 2, 9, 3, 5, 1, 1, 6, 0, 1, 0, 0, 9, 1, 5, 4, 6, 1, 3, 6, 1, 4, 1, 4, 5, 1, 9, 4, 9, 9, 3, 2, 8, 8, 7, 6, 5, 2, 4, 0, 5, 7, 0, 3, 5, 4, 3, 4, 4, 1, 1, 6, 2, 6, 1, 5, 3, 4, 0, 0, 2, 9, 1, 5, 1, 8, 5, 8, 6, 0, 6, 5, 9, 6, 1, 2, 2, 0, 7, 7, 3, 6, 4, 6, 3, 5, 8, 1, 6, 0, 2, 3, 1, 6, 2, 7, 3, 9, 1, 9, 3, 2, 1, 1, 5, 3, 9, 0, 7, 8, 6, 7, 2, 2, 8, 8, 7, 8, 9, 9, 4, 6, 4, 0, 7, 6, 1, 9, 0, 7, 4, 4, 8, 0, 0, 2, 8, 2, 1, 3, 8, 9, 3, 0, 0, 5, 7, 6, 6, 0, 3, 7, 8, 7, 3, 6, 8, 8, 4, 6, 7, 6, 2, 3, 3, 1, 8, 4, 3, 2, 9, 8, 6, 6, 9, 0, 2, 7, 7, 2, 7, 9, 5, 0, 1, 2, 2, 2, 7, 3, 7, 0, 4, 7, 5, 8, 7, 9, 4, 5, 9, 8, 5, 4, 8, 6, 0, 0, 1, 6, 5, 9, 8, 0, 3, 2, 7, 8, 2, 4, 2, 0, 6, 0, 4, 4, 6, 8, 5, 5, 1, 3, 5, 2, 8, 1, 4, 1, 6, 6, 6, 7, 3, 7, 4, 9, 5, 2, 0, 7, 2, 1, 1, 4, 0, 9, 0, 8, 8, 5, 3, 7, 1, 2, 6, 1, 3, 0, 6, 9, 5, 8, 3, 5, 1, 6, 9, 9, 5, 7, 7, 5, 9, 5, 1, 5, 7, 5, 2, 1, 7, 4, 5, 7, 4, 5, 2, 2, 2, 8, 1, 6, 9, 2, 4, 4, 1, 5, 1, 3, 6, 6, 3, 8, 8, 3, 2, 4, 6, 8, 8, 2, 9, 6, 8, 4, 3, 9, 8, 8, 2, 7, 3, 6, 1, 5, 1, 2, 6, 7, 8, 7, 1, 1, 5, 3, 6, 7, 0, 6, 4, 9, 2, 3, 0, 6, 3, 1, 9, 4, 8, 3, 1, 5, 8, 2, 5, 9, 9, 5, 2, 6, 7, 0, 0, 5, 9, 4, 9, 4, 6, 2, 0, 2, 9, 3, 4, 3, 0, 2, 1, 7, 2, 6, 9, 3, 5, 7, 6, 1, 5, 5, 8, 6, 7, 4, 6, 2, 2, 7, 5, 2, 4, 8, 9, 5, 1, 2, 0, 7, 9, 3, 9, 9, 2, 2, 9, 7, 7, 9, 5, 4, 9, 1, 2, 2, 7, 4, 2, 8, 5, 4, 5, 9, 0, 8, 1, 7, 5, 6, 6, 4, 7, 6, 0, 1, 2, 1, 7, 9, 1, 8, 2, 0, 3, 7, 2, 2, 0, 1, 7, 0, 3, 7, 9, 0, 8, 7, 0, 6, 1, 0, 5, 5, 7, 8, 8, 1, 1, 9, 3, 0, 7, 6, 3, 6, 2, 3, 2, 0, 3, 7, 6, 9, 2, 5, 8, 9, 7, 4, 6, 4, 3, 6, 1, 8, 0, 4, 6, 4, 8, 0, 0, 0, 4, 3, 4, 8, 1, 3, 9, 0, 0, 2, 0, 3, 9, 3, 6, 5, 4, 9, 1, 5, 8, 6, 5, 5, 8, 9, 0, 3, 7, 5, 9, 1, 7, 4, 7, 7, 4, 2, 7, 1, 6, 5, 6, 3, 0, 8, 1, 8, 4, 4, 2, 8, 4, 9, 7, 1, 8, 8, 8, 7, 3, 2, 3, 9, 6, 1, 8, 2, 9, 6, 8, 1, 3, 0, 5, 6, 3, 6, 7, 7, 5, 8, 2, 1, 1, 9, 4, 6, 4, 7, 7, 7, 9, 1, 3, 8, 6, 8, 5, 7, 0, 0, 5, 5, 1, 0, 0, 1, 8, 1, 1, 4, 0, 1, 2, 7, 8, 1, 6, 1, 6, 5, 8, 6, 6, 8, 0, 5, 8, 6, 2, 7, 7, 3, 0, 2, 1, 5, 9, 1, 9, 8, 3, 3, 8, 9, 3, 9, 2, 4, 0, 7, 5, 1, 1, 3, 3, 0, 4, 3, 9, 3, 9, 3, 5, 4, 9, 1, 2, 9, 7, 1, 1, 7, 7, 7, 9, 5, 3, 4, 2, 0, 2, 0, 7, 7, 6, 4, 7, 1, 9, 3, 1, 9, 8, 4, 1, 2, 0, 7, 1, 0, 4, 3, 7, 8, 0, 9, 6, 3, 8, 4, 7, 4, 9, 4, 7, 8, 0, 6, 0, 0, 1, 2, 9, 2, 2, 1, 4, 7, 1, 8, 2, 0, 1, 5, 6, 2, 5, 6, 5, 0, 1, 3, 8, 0, 1, 5, 7, 2, 0, 3, 3, 9, 3, 1, 6, 5, 0, 0, 9, 2, 8, 5, 9, 2, 6, 6, 9, 8, 6, 2, 3, 7, 0, 3, 0, 5, 1, 3, 0, 3, 7, 3, 3, 8, 9, 5, 1, 1, 5, 6, 4, 5, 5, 7, 0, 2, 1, 8, 0, 5, 5, 7, 2, 8, 8, 6, 1, 7, 6, 5, 1, 6, 7, 9, 7, 6, 9, 1, 2, 8, 7, 9, 4, 7, 7, 6, 9, 8, 6, 2, 5, 6, 1, 4, 7, 7, 9, 1, 5, 5, 1, 6, 2, 9, 1, 8, 1, 5, 9, 5, 6, 2, 4, 0, 1, 3, 6, 8, 3, 7, 9, 5, 0, 8, 6, 2, 7, 2, 6, 0, 7, 4, 6, 7, 4, 5, 6, 3, 5, 1, 7, 7, 0, 2, 4, 8, 7, 9, 7, 3, 3, 5, 3, 3, 0, 1, 9, 6, 4, 9, 4, 6, 9, 4, 6, 1, 1, 7, 6, 3, 3, 0, 7, 0, 2, 8, 2, 0, 0, 4, 2, 8, 1, 3, 5, 7, 0, 1, 1, 8, 1, 2, 1, 5, 5, 3, 0, 5, 2, 5, 5, 3, 3, 9, 5, 5, 8, 3, 0, 6, 1, 9, 1, 9, 8, 7, 7, 4, 2, 7, 7, 2, 8, 2, 7, 1, 2, 4, 7, 3, 4, 5, 7, 5, 2, 3, 5, 0, 2, 6, 4, 8, 9, 7, 1, 3, 9, 7, 2, 1, 3, 4, 7, 8, 6, 4, 9, 4, 4, 1, 0, 3, 2, 8, 5, 1, 2, 4, 9, 2, 8, 1, 0, 8, 0, 1, 3, 3, 3, 6, 1, 7, 0, 6, 7, 9, 8, 7, 2, 2, 9, 9, 6, 5, 9, 7, 0, 3, 8, 7, 5, 7, 6, 8, 5, 0, 9, 5, 5, 5, 2, 4, 9, 6, 1, 6, 0, 8, 9, 3, 7, 7, 1, 5, 7, 7, 7, 9, 9, 9, 0, 6, 9, 4, 8, 5, 8, 6, 6, 4, 5, 3, 7, 4, 3, 2, 2, 9, 0, 0, 1, 6, 8, 5, 8, 9, 2, 7, 6, 5, 4, 2, 6, 2, 4, 1, 2, 0, 0, 9, 1, 7, 2, 8, 8, 4, 4, 9, 7, 2, 6, 2, 0, 2, 0, 2, 2, 3, 6, 6, 7, 3, 1, 7, 3, 2, 2, 8, 7, 4, 6, 4, 9, 6, 5, 0, 3, 0, 8, 5, 1, 3, 4, 2, 4, 0, 1, 4, 1, 3, 4, 0, 9, 9, 8, 2, 2, 6, 0, 8, 7, 0, 6, 2, 2, 2, 1, 0, 0, 9, 2, 7, 7, 6, 6, 0, 4, 5, 6, 8, 3, 9, 8, 1, 2, 0, 1, 1, 4, 6, 9, 4, 7, 6, 7, 5, 3, 8, 9, 7, 0, 1, 2, 7, 1, 5, 5, 9, 3, 9, 5, 3, 1, 8, 4, 6, 9, 7, 7, 3, 2, 1, 1, 8, 8, 7, 5, 0, 6, 5, 3, 8, 6, 1, 2, 2, 1, 2, 3, 0, 8, 1, 2, 8, 7, 2, 4, 7, 0, 1, 8, 6, 8, 0, 8, 9, 0, 5, 9, 3, 8, 0, 3, 2, 9, 8, 9, 6, 3, 8, 5, 3, 0, 3, 6, 7, 5, 9, 6, 3, 3, 6, 5, 7, 8, 6, 1, 9, 5, 6, 3, 0, 8, 1, 8, 6, 5, 6, 8, 2, 7, 8, 5, 9, 2, 0, 7, 0, 3, 7, 7, 8, 6, 6, 4, 2, 7, 2, 2, 8, 9, 2, 5, 7, 4, 1, 2, 0, 0, 5, 4, 3, 4, 2, 0, 9, 5, 2, 0, 3, 9, 4, 4, 9, 8, 1, 0, 9, 9, 2, 8, 5, 8, 2, 5, 2, 3, 5, 5, 4, 2, 6, 8, 5, 3, 6, 3, 5, 9, 4, 6, 8, 8, 8, 7, 1, 2, 9, 3, 1, 8, 7, 9, 9, 7, 0, 4, 7, 0, 9, 0, 1, 0, 4, 0, 9, 7, 6, 8, 5, 1, 6, 9, 3, 4, 2, 8, 8, 9, 8, 7, 3, 6, 2, 6, 7, 8, 9, 1, 7, 1, 8, 8, 9, 4, 0, 3, 7, 3, 0, 2, 6, 6, 1, 6, 2, 5, 2, 4, 2, 4, 1, 4, 5, 1, 9, 1, 4, 2, 9, 4, 5, 1, 7, 6, 2, 4, 9, 9, 5, 9, 6, 1, 4, 2, 4, 8, 7, 7, 9, 5, 3, 2, 9, 6, 6, 9, 7, 0, 0, 6, 4, 6, 5, 6, 9, 8, 9, 8, 3, 2, 3, 2, 4, 8, 0, 7, 2, 2, 1, 3, 1, 3, 6, 3, 9, 4, 5, 3, 2, 4, 0, 4, 0, 8, 2, 6, 1, 5, 0, 5, 1, 6, 1, 4, 6, 2, 1, 0, 8, 1, 2, 8, 4, 2, 3, 1, 8, 0, 0, 3, 4, 0, 5, 6, 9, 8, 9, 9, 4, 5, 3, 8, 4, 0, 1, 6, 2, 0, 9, 4, 8, 1, 5, 8, 4, 7, 9, 6, 2, 7, 8, 0, 1, 4, 1, 2, 1, 7, 2, 0, 4, 9, 4, 9, 3, 1, 4, 9, 5, 8, 3, 3, 0, 6, 9, 3, 9, 6, 6, 1, 8, 1, 3, 5, 4, 3, 8, 5, 3, 6, 4, 2, 7, 2, 0, 6, 6, 1, 3, 7, 4, 1, 4, 4, 7, 5, 6, 7, 0, 1, 3, 8, 2, 6, 3, 8, 4, 5, 7, 9, 9, 0, 6, 0, 8, 1, 9, 2, 3, 4, 1, 7, 7, 3, 7, 4, 0, 5, 8, 8, 5, 4, 2, 3, 4, 6, 2, 5, 3, 8, 4, 1, 4, 1, 1, 5, 1, 4, 5, 7, 6, 5, 1, 1, 1, 9, 6, 8, 8, 2, 2, 3, 5, 9, 2, 3, 4, 9, 2, 4, 0, 6, 0, 5, 6, 8, 2, 3, 3, 3, 5, 5, 1, 4, 8, 4, 6, 1, 4, 6, 6, 7, 8, 8, 3, 1, 8, 7, 4, 0, 9, 8, 1, 0, 7, 8, 9, 4, 1, 2, 2, 3, 6, 7, 1, 1, 0, 3, 9, 9, 4, 1, 4, 5, 9, 2, 0, 0, 7, 4, 9, 6, 2, 7, 4, 2, 3, 4, 3, 1, 5, 2, 7, 1, 9, 6, 9, 9, 1, 7, 5, 4, 4, 2, 3, 3, 7, 1, 4, 9, 4, 2, 3, 0, 1, 3, 5, 2, 5, 3, 8, 0, 3, 7, 2, 0, 1, 7, 6, 8, 6, 4, 2, 0, 0, 0, 6, 5, 8, 4, 7, 7, 1, 2, 4, 3, 8, 7, 4, 4, 0, 2, 3, 2, 2, 8, 5, 5, 3, 6, 6, 4, 1, 8, 1, 1, 0, 9, 3, 2, 9, 2, 2, 8, 9, 6, 9, 2, 4, 1, 8, 5, 5, 4, 3, 6, 9, 0, 7, 2, 0, 0, 2, 7, 9, 9, 2, 6, 1, 7, 0, 1, 9, 2, 8, 8, 1, 0, 8, 6, 0, 7, 7, 0, 9, 7, 7, 9, 5, 7, 5, 9, 3, 4, 5, 2, 2, 3, 6, 3, 7, 3, 4, 6, 3, 1, 3, 1, 6, 7, 4, 4, 8, 5, 1, 2, 1, 9, 4, 2, 3, 7, 4, 4, 6, 4, 5, 8, 7, 4, 4, 3, 9, 2, 6, 0, 3, 2, 9, 7, 5, 6, 0, 5, 8, 9, 9, 2, 8, 3, 4, 4, 2, 8, 8, 1, 3, 7, 6, 8, 6, 2, 9, 2, 3, 5, 2, 1, 7, 1, 4, 2, 4, 8, 0, 2, 0, 4, 1, 0, 3, 2, 3, 4, 2, 8, 7, 5, 3, 5, 9, 4, 0, 9, 2, 8, 0, 3, 5, 9, 7, 0, 0, 1, 5, 9, 1, 3, 0, 6, 0, 3, 6, 5, 0, 8, 7, 0, 1, 6, 2, 8, 5, 7, 9, 1, 4, 2, 9, 4, 7, 2, 0, 5, 1, 3, 8, 7, 2, 7, 3, 7, 7, 1, 4, 1, 1, 3, 1, 4, 2, 1, 4, 3, 9, 4, 8, 0, 5, 6, 0, 7, 6, 4, 4, 7, 2, 7, 9, 8, 7, 2, 5, 9, 0, 5, 1, 4, 6, 4, 0, 6, 4, 7, 1, 4, 3, 9, 2, 3, 2, 9, 1, 2, 8, 6, 4, 7, 7, 5, 9, 0, 2, 9, 5, 8, 2, 4, 0, 8, 6, 6, 1, 7, 4, 1, 7, 0, 1, 7, 5, 3, 1, 0, 6, 9, 2, 0, 1, 9, 2, 8, 5, 3, 9, 0, 4, 1, 9, 2, 2, 4, 9, 6, 5, 2, 0, 6, 1, 0, 8, 4, 3, 0, 0, 0, 7, 4, 3, 4, 7, 3, 5, 2, 8, 1, 0, 2, 1, 1, 7, 5, 6, 9, 1, 6, 0, 9, 3, 1, 6, 6, 9, 4, 7, 1, 1, 0, 4, 5, 9, 1, 9, 3, 3, 0, 8, 5, 7, 4, 5, 0, 4, 3, 7, 1, 8, 7, 9, 8, 3, 6, 9, 1, 6, 0, 1, 0, 8, 9, 6, 3, 4, 7, 4, 3, 2, 4, 7, 9, 9, 9, 8, 4, 0, 3, 2, 5, 9, 9, 4, 3, 3, 4, 7, 3, 5, 3, 8, 7, 2, 4, 0, 9, 8, 2, 7, 3, 0, 0, 1, 0, 2, 7, 0, 1, 9, 4, 2, 2, 7, 6, 3, 8, 4, 6, 9, 9, 7, 4, 8, 7, 0, 9, 9, 4, 2, 2, 6, 6, 3, 8, 6, 9, 5, 6, 6, 7, 6, 5, 7, 4, 4, 7, 8, 6, 6, 2, 7, 8, 1, 4, 4, 2, 3, 8, 4, 5, 3, 0, 7, 0, 2, 4, 5, 2, 1, 6, 9, 1, 5, 4, 8, 0, 4, 1, 5, 4, 7, 2, 5, 3, 2, 1, 5, 6, 6, 7, 5, 5, 9, 8, 3, 7, 9, 2, 0, 4, 5, 7, 8, 6, 9, 5, 2, 0, 4, 5, 6, 3, 3, 4, 9, 3, 5, 0, 3, 8, 8, 0, 1, 8, 2, 1, 1, 8, 6, 2, 1, 1, 9, 5, 7, 4, 0, 8, 8, 3, 9, 0, 7, 5, 3, 8, 4, 7, 2, 1, 7, 7, 9, 4, 7, 6, 4, 5, 6, 5, 3, 2, 8, 0, 6, 2, 7, 7, 5, 5, 2, 5, 5, 1, 9, 8, 8, 2, 2, 2, 7, 6, 4, 2, 7, 1, 4, 0, 3, 7, 4, 0, 9, 9, 2, 4, 4, 7, 4, 8, 5, 5, 2, 3, 1, 0, 5, 4, 7, 3, 7, 5, 9, 8, 1, 0, 0, 7, 9, 4, 2, 2, 9, 2, 4, 4, 3, 7, 2, 3, 8, 7, 8, 6, 9, 8, 4, 6, 2, 6, 8, 8, 6, 2, 2, 1, 7, 6, 2, 2, 5, 2, 2, 1, 6, 8, 9, 0, 1, 5, 1, 4, 4, 8, 1, 0, 4, 4, 1, 2, 3, 7, 7, 6, 7, 8, 0, 9, 4, 8, 1, 8, 6, 1, 5, 8, 0, 1, 4, 9, 5, 4, 8, 6, 9, 4, 2, 4, 6, 1, 8, 9, 4, 6, 9, 5, 7, 0, 2, 1, 8, 9, 2, 1, 4, 6, 4, 5, 0, 7, 4, 1, 9, 4, 2, 6, 9, 2, 3, 3, 4, 8, 4, 3, 4, 2, 1, 7, 5, 2, 5, 5, 4, 8, 4, 3, 4, 3, 7, 6, 3, 3, 4, 7, 0, 2, 7, 0, 0, 6, 6, 5, 9, 9, 7, 4, 4, 0, 6, 5, 5, 3, 5, 1, 5, 1, 1, 3, 8, 9, 8, 3, 6, 4, 5, 7, 7, 1, 8, 7, 6, 8, 7, 6, 9, 3, 5, 2, 7, 9, 8, 5, 3, 6, 1, 4, 4, 9, 6, 0, 6, 7, 0, 4, 9, 5, 8, 0, 4, 3, 8, 4, 7, 1, 8, 3, 5, 4, 5, 7, 4, 8, 6, 4, 8, 6, 9, 6, 5, 0, 9, 5, 9, 2, 6, 4, 7, 6, 6, 6, 6, 1, 8, 0, 7, 8, 7, 6, 8, 6, 1, 6, 3, 2, 7, 9, 3, 7, 1, 6, 1, 9, 6, 6, 2, 9, 7, 2, 1, 7, 6, 7, 7, 5, 6, 6, 0, 6, 7, 3, 7, 9, 3, 6, 9, 0, 0, 2, 5, 9, 2, 8, 6, 2, 4, 9, 0, 7, 7, 1, 9, 0, 5, 9, 4, 3, 6, 3, 2, 6, 8, 4, 0, 1, 0, 6, 7, 2, 9, 7, 2, 3, 9, 2, 2, 4, 3, 8, 3, 5, 4, 7, 5, 2, 8, 7, 0, 3, 2, 4, 9, 9, 4, 2, 3, 2, 0, 7, 0, 9, 1, 4, 0, 3, 4, 3, 7, 4, 9, 2, 8, 1, 6, 8, 6, 5, 7, 4, 3, 4, 9, 1, 2, 8, 3, 2, 5, 4, 6, 9, 3, 2, 1, 2, 6, 5, 9, 9, 2, 9, 0, 6, 6, 7, 1, 4, 9, 8, 4, 2, 4, 3, 4, 9, 1, 8, 5, 7, 9, 3, 6, 2, 5, 2, 9, 7, 3, 6, 5, 6, 9, 7, 8, 3, 0, 3, 6, 3, 5, 2, 6, 6, 5, 3, 7, 0, 8, 4, 8, 0, 8, 5, 4, 9, 7, 3, 3, 1, 9, 8, 3, 9, 4, 4, 0, 4, 5, 0, 4, 8, 1, 2, 9, 9, 3, 3, 4, 8, 3, 7, 7, 6, 1, 9, 1, 8, 2, 3, 3, 9, 1, 7, 7, 3, 2, 1, 9, 0, 2, 7, 6, 7, 5, 6, 1, 7, 2, 3, 1, 3, 5, 9, 2, 0, 3, 1, 4, 1, 0, 2, 3, 5, 3, 2, 1, 6, 7, 0, 5, 5, 3, 8, 8, 7, 7, 2, 7, 8, 8, 9, 9, 7, 0, 8, 3, 5, 9, 6, 4, 5, 3, 4, 6, 7, 3, 8, 5, 4, 6, 9, 6, 0, 0, 5, 7, 2, 1, 7, 7, 6, 3, 5, 1, 7, 5, 7, 8, 9, 2, 5, 5, 3, 9, 8, 9, 2, 4, 5, 0, 2, 1, 9, 3, 9, 6, 1, 6, 3, 1, 6, 7, 3, 5, 1, 4, 0, 3, 2, 4, 7, 9, 6, 5, 2, 8, 4, 8, 5, 4, 6, 3, 3, 7, 0, 4, 8, 3, 8, 2, 9, 3, 8, 1, 6, 1, 4, 7, 4, 8, 2, 5, 5, 7, 4, 0, 0, 1, 8, 0, 6, 4, 6, 2, 3, 6, 4, 1, 3, 5, 5, 1, 0, 3, 4, 8, 1, 6, 6, 7, 1, 1, 1, 9, 2, 0, 0, 3, 2, 1, 3, 3, 7, 0, 6, 5, 5, 2, 6, 6, 9, 7, 4, 0, 6, 5, 1, 4, 5, 6, 8, 8, 6, 3, 0, 9, 1, 6, 6, 5, 0, 9, 0, 4, 8, 2, 1, 9, 4, 0, 5, 7, 1, 6, 7, 4, 0, 6, 1, 4, 8, 7, 2, 3, 1, 4, 4, 5, 1, 2, 4, 6, 4, 4, 6, 1, 6, 4, 4, 7, 9, 0, 0, 7, 5, 3, 0, 7, 0, 5, 7, 7, 6, 8, 0, 3, 5, 1, 1, 1, 2, 9, 3, 2, 7, 2, 9, 7, 2, 6, 9, 0, 0, 8, 1, 5, 2, 1, 4, 7, 0, 0, 4, 1, 2, 2, 9, 4, 9, 2, 0, 5, 6, 2, 0, 3, 4, 9, 2, 7, 6, 1, 5, 3, 7, 8, 5, 8, 6, 1, 1, 2, 6, 7, 3, 8, 9, 8, 8, 8, 0, 2, 0, 0, 4, 4, 7, 4, 0, 8, 8, 6, 1, 1, 6, 8, 0, 9, 2, 2, 3, 3, 3, 4, 7, 4, 1, 7, 8, 2, 6, 6, 9, 5, 2, 1, 4, 6, 2, 3, 4, 0, 1, 4, 6, 1, 4, 4, 4, 1, 1, 8, 5, 2, 4, 6, 8, 0, 0, 7, 9, 8, 3, 4, 4, 5, 5, 9, 8, 0, 9, 7, 1, 9, 9, 2, 2, 2, 8, 8, 2, 5, 1, 4, 1, 2, 3, 0, 5, 5, 1, 1, 7, 5, 3, 4, 8, 2, 4, 6, 7, 8, 6, 4, 5, 9, 6, 8, 5, 9, 4, 2, 7, 5, 4, 0, 5, 4, 1, 3, 1, 3, 1, 8, 4, 8, 8, 5, 1, 1, 9, 2, 9, 3, 2, 0, 1, 8, 9, 8, 4, 5, 6, 9, 5, 2, 3, 0, 8, 7, 1, 6, 7, 4, 5, 5, 1, 4, 3, 1, 8, 4, 9, 1, 9, 9, 5, 6, 2, 2, 4, 7, 1, 3, 3, 8, 7, 1, 5, 3, 6, 1, 4, 8, 6, 6, 7, 3, 5, 1, 6, 8, 6, 2, 1, 5, 6, 9, 3, 3, 2, 9, 7, 6, 7, 9, 3, 0, 2, 3, 6, 0, 1, 6, 3, 8, 3, 2, 9, 0, 6, 9, 7, 8, 3, 5, 6, 2, 0, 5, 7, 0, 2, 7, 3, 1, 3, 9, 3, 7, 3, 5, 5, 0, 4, 8, 0, 1, 1, 2, 0, 0, 3, 3, 9, 6, 3, 3, 7, 6, 8, 7, 3, 1, 0, 1, 0, 0, 2, 7, 2, 1, 8, 0, 5, 2, 2, 1, 5, 2, 0, 9, 6, 1, 6, 1, 1, 2, 5, 4, 2, 8, 3, 2, 8, 5, 7, 4, 4, 4, 8, 9, 2, 0, 9, 4, 2, 8, 8, 2, 9, 0, 7, 7, 1, 8, 9, 3, 4, 5, 2, 3, 7, 5, 2, 6, 0, 4, 8, 0, 1, 8, 5, 3, 3, 8, 7, 3, 4, 0, 6, 1, 6, 4, 8, 9, 1, 3, 5, 7, 7, 6, 2, 5, 3, 2, 9, 2, 9, 7, 5, 2, 2, 6, 1, 5, 6, 5, 1, 5, 4, 6, 0, 9, 6, 2, 3, 7, 7, 7, 7, 9, 0, 6, 0, 7, 1, 4, 6, 5, 0, 0, 1, 3, 3, 0, 9, 1, 3, 1, 4, 7, 7, 1, 4, 7, 7, 8, 2, 1, 2, 7, 7, 4, 2, 3, 1, 1, 4, 7, 7, 2, 8, 5, 8, 2, 9, 5, 0, 8, 2, 9, 7, 2, 9, 9, 0, 2, 4, 6, 0, 9, 6, 1, 6, 0, 1, 6, 4, 6, 3, 8, 8, 4, 7, 0, 8, 1, 9, 5, 2, 5, 1, 1, 8, 4, 8, 1, 7, 1, 8, 7, 9, 2, 9, 7, 7, 6, 5, 2, 0, 4, 2, 0, 7, 4, 6, 9, 8, 7, 5, 2, 4, 0, 7, 0, 0, 9, 8, 3, 3, 8, 7, 2, 6, 8, 4, 8, 1, 6, 3, 3, 8, 1, 5, 4, 4, 0, 7, 4, 8, 8, 9, 9, 7, 7, 0, 8, 0, 7, 5, 4, 9, 6, 3, 4, 8, 3, 1, 8, 0, 8, 7, 9, 3, 2, 5, 8, 5, 0, 9, 7, 1, 4, 9, 7, 2, 6, 8, 4, 1, 4, 0, 7, 7, 5, 0, 7, 5, 1, 3, 0, 7, 8, 4, 4, 0, 1, 7, 5, 4, 6, 2, 9, 5, 9, 8, 2, 2, 3, 5, 1, 5, 0, 0, 2, 4, 8, 6, 0, 4, 2, 4, 1, 7, 0, 9, 7, 3, 7, 0, 3, 2, 1, 9, 0, 5, 9, 0, 8, 4, 4, 6, 3, 4, 0, 8, 5, 1, 2, 1, 7, 1, 0, 4, 9, 1, 8, 1, 8, 7, 1, 9, 4, 4, 7, 2, 9, 1, 5, 5, 3, 1, 3, 2, 1, 1, 5, 1, 2, 5, 8, 5, 6, 3, 6, 1, 6, 2, 3, 2, 5, 0, 9, 4, 3, 3, 0, 7, 1, 7, 3, 9, 2, 8, 0, 2, 9, 3, 1, 1, 5, 2, 0, 2, 8, 0, 9, 2, 2, 1, 5, 3, 4, 7, 1, 2, 2, 4, 9, 8, 1, 1, 6, 7, 3, 8, 6, 1, 3, 8, 3, 8, 9, 7, 3, 0, 9, 7, 2, 7, 5, 2, 6, 9, 7, 4, 2, 5, 9, 3, 5, 9, 3, 3, 1, 3, 6, 1, 9, 0, 0, 2, 9, 5, 0, 7, 5, 9, 2, 0, 8, 9, 4, 4, 1, 6, 6, 8, 6, 6, 0, 0, 6, 9, 8, 9, 0, 6, 7, 1, 3, 2, 5, 6, 3, 2, 9, 5, 6, 1, 3, 1, 9, 8, 2, 2, 7, 3, 5, 0, 3, 8, 0, 6, 8, 4, 3, 1, 6, 8, 5, 3, 4, 4, 8, 5, 1, 3, 2, 6, 2, 6, 8, 5, 4, 2, 9, 0, 3, 0, 6, 3, 5, 9, 6, 0, 8, 9, 5, 0, 4, 2, 4, 7, 4, 8, 7, 7, 5, 5, 1, 2, 8, 1, 6, 8, 7, 6, 8, 9, 4, 9, 8, 7, 4, 4, 0, 9, 6, 1, 9, 4, 6, 5, 3, 5, 0, 2, 6, 6, 0, 3, 4, 7, 4, 7, 6, 6, 8, 5, 0, 8, 0, 4, 4, 7, 9, 4, 9, 8, 0, 3, 9, 5, 4, 3, 4, 3, 0, 2, 0, 8, 9, 5, 9, 3, 7, 3, 6, 5, 0, 4, 1, 5, 6, 6, 3, 0, 1, 7, 9, 0, 0, 0, 1, 5, 7, 8, 0, 5, 3, 6, 1, 0, 7, 5, 0, 9, 2, 2, 2, 8, 3, 6, 1, 1, 1, 5, 0, 5, 2, 7, 3, 6, 6, 3, 4, 1, 7, 6, 9, 9, 2, 1, 9, 0, 8, 1, 9, 7, 9, 9, 6, 3, 4, 6, 8, 8, 2, 5, 6, 9, 1, 9, 4, 2, 9, 7, 3, 8, 6, 2, 5, 0, 0, 5, 3, 3, 1, 8, 9, 0, 7, 0, 3, 4, 0, 1, 6, 4, 9, 9, 5, 2, 7, 3, 0, 4, 8, 8, 8, 7, 5, 7, 9, 3, 8, 5, 4, 2, 3, 2, 6, 9, 7, 7, 7, 6, 4, 6, 2, 4, 1, 4, 6, 8, 0, 2, 1, 3, 9, 1, 2, 9, 6, 0, 6, 9, 4, 2, 2, 8, 2, 2, 2, 6, 8, 5, 9, 8, 5, 4, 3, 0, 3, 7, 9, 9, 4, 1, 1, 2, 6, 3, 2, 8, 9, 9, 7, 9, 0, 3, 1, 8, 9, 1, 8, 9, 8, 8, 3, 2, 0, 0, 9, 1, 9, 8, 2, 3, 5, 2, 2, 9, 1, 3, 2, 5, 4, 7, 3, 0, 1, 3, 1, 6, 2, 3, 3, 6, 2, 6, 0, 7, 1, 1, 5, 6, 9, 1, 5, 4, 9, 1, 8, 0, 1, 6, 8, 3, 5, 6, 2, 6, 0, 2, 3, 7, 6, 2, 3, 8, 0, 6, 5, 3, 5, 5, 5, 1, 0, 4, 9, 2, 3, 4, 2, 3, 9, 1, 7, 5, 1, 3, 7, 8, 3, 9, 2, 8, 9, 6, 5, 7, 0, 7, 3, 7, 1, 8, 0, 8, 2, 1, 5, 0, 3, 0, 7, 0, 6, 4, 7, 6, 4, 8, 8, 1, 9, 1, 3, 5, 1, 7, 1, 8, 4, 4, 5, 8, 8, 6, 6, 3, 4, 0, 2, 7, 3, 7, 3, 3, 5, 6, 2, 7, 7, 4, 7, 4, 7, 1, 6, 9, 9, 5, 6, 4, 4, 4, 4, 0, 4, 0, 2, 5, 4, 8, 5, 2, 9, 8, 0, 3, 4, 2, 3, 4, 9, 9, 9, 0, 6, 7, 6, 6, 9, 0, 2, 0, 7, 4, 9, 4, 1, 4, 6, 3, 1, 8, 5, 3, 5, 5, 5, 4, 1, 1, 0, 6, 7, 8, 9, 7, 6, 3, 1, 4, 5, 3, 4, 0, 1, 0, 5, 1, 5, 1, 4, 6, 4, 1, 0, 1, 0, 9, 4, 4, 5, 6, 3, 7, 9, 2, 9, 5, 9, 8, 5, 2, 1, 6, 3, 9, 1, 1, 3, 8, 1, 1, 8, 1, 9, 4, 7, 7, 1, 6, 9, 6, 7, 1, 3, 8, 7, 5, 8, 1, 5, 8, 0, 8, 8, 1, 0, 2, 1, 3, 6, 8, 9, 8, 7, 3, 6, 0, 5, 8, 6, 1, 1, 1, 4, 8, 6, 3, 7, 4, 4, 7, 3, 9, 2, 4, 4, 3, 3, 8, 4, 7, 3, 9, 3, 0, 5, 0, 2, 3, 7, 6, 9, 3, 8, 2, 5, 8, 3, 9, 7, 2, 0, 6, 8, 3, 6, 0, 4, 4, 5, 0, 7, 0, 4, 0, 2, 2, 6, 0, 2, 9, 1, 2, 0, 5, 7, 3, 9, 3, 9, 0, 0, 5, 0, 3, 6, 1, 0, 9, 9, 7, 1, 1, 7, 2, 0, 8, 2, 6, 7, 8, 5, 2, 4, 3, 8, 1, 2, 1, 7, 8, 4, 6, 0, 2, 1, 1, 3, 2, 9, 0, 5, 9, 6, 3, 4, 4, 4, 5, 8, 4, 6, 5, 6, 0, 3, 0, 7, 9, 7, 7, 4, 8, 9, 3, 5, 0, 8, 8, 1, 8, 9, 6, 6, 0, 5, 9, 7, 0, 4, 8, 7, 7, 0, 3, 2, 5, 9, 2, 5, 5, 6, 9, 4, 2, 3, 0, 4, 7, 4, 0, 9, 7, 0, 6, 1, 2, 2, 6, 1, 8, 4, 2, 9, 3, 9, 9, 2, 9, 1, 8, 0, 0, 1, 0, 8, 0, 2, 9, 9, 7, 6, 0, 0, 6, 6, 5, 0, 6, 2, 9, 9, 7, 3, 1, 6, 8, 0, 6, 2, 8, 3, 8, 0, 7, 1, 7, 0, 9, 5, 4, 9, 2, 9, 9, 5, 4, 2, 1, 1, 9, 8, 6, 2, 1, 1, 9, 8, 5, 1, 9, 8, 6, 6, 1, 6, 4, 6, 4, 9, 8, 2, 3, 5, 1, 6, 9, 5, 7, 4, 3, 6, 2, 0, 2, 5, 5, 4, 2, 1, 6, 0, 1, 9, 7, 5, 0, 6, 8, 1, 2, 3, 3, 4, 7, 2, 6, 8, 0, 2, 8, 1, 5, 3, 1, 8, 9, 3, 4, 2, 3, 9, 6, 5, 2, 8, 5, 2, 8, 0, 4, 6, 0, 0, 5, 0, 9, 0, 5, 9, 8, 1, 2, 2, 7, 3, 1, 9, 5, 3, 6, 9, 6, 2, 7, 5, 5, 7, 7, 2, 2, 3, 2, 0, 1, 3, 8, 0, 5, 6, 8, 3, 5, 9, 8, 0, 0, 1, 7, 5, 5, 3, 4, 2, 9, 8, 9, 2, 7, 1, 3, 7, 4, 3, 3, 2, 8, 6, 8, 2, 4, 2, 0, 8, 6, 5, 6, 6, 9, 9, 3, 5, 0, 9, 9, 9, 7, 4, 0, 7, 3, 3, 8, 7, 8, 5, 3, 9, 6, 3, 4, 3, 9, 0, 1, 3, 0, 1, 0, 8, 1, 1, 7, 7, 7, 0, 9, 7, 9, 7, 9, 1, 7, 7, 1, 1, 6, 7, 3, 1, 6, 2, 8, 4, 6, 0, 0, 2, 0, 7, 0, 6, 1, 5, 7, 5, 3, 3, 4, 7, 4, 5, 7, 7, 2, 3, 2, 4, 5, 0, 4, 0, 2, 4, 0, 1, 8, 0, 5, 8, 0, 7, 2, 6, 7, 0, 9, 5, 5, 3, 3, 8, 7, 8, 1, 9, 6, 7, 2, 1, 3, 3, 7, 3, 9, 3, 4, 5, 1, 7, 4, 9, 4, 1, 6, 6, 4, 3, 1, 2, 8, 2, 6, 7, 7, 3, 6, 3, 0, 7, 4, 2, 3, 0, 6, 7, 4, 6, 3, 9, 1, 7, 2, 6, 4, 4, 1, 7, 8, 7, 9, 5, 8, 1, 4, 5, 6, 6, 2, 5, 9, 8, 6, 6, 6, 7, 1, 9, 4, 1, 8, 5, 5, 4, 3, 3, 7, 8, 7, 5, 0, 1, 7, 4, 8, 8, 1, 7, 8, 9, 8, 3, 4, 0, 4, 4, 7, 8, 5, 9, 7, 3, 5, 7, 3, 5, 3, 1, 7, 7, 3, 2, 7, 8, 8, 3, 5, 2, 3, 5, 3, 3, 1, 6, 3, 5, 1, 4, 7, 2, 5, 4, 3, 1, 4, 6, 6, 0, 7, 9, 6, 4, 2, 8, 6, 8, 4, 9, 6, 2, 2, 6, 0, 2, 1, 2, 8, 6, 3, 3, 1, 1, 2, 9, 9, 8, 9, 4, 5, 9, 5, 5, 2, 4, 7, 6, 9, 0, 1, 4, 7, 5, 1, 6, 6, 4, 1, 4, 4, 8, 8, 9, 1, 5, 1, 2, 8, 7, 6, 2, 5, 2, 6, 0, 6, 2, 1, 9, 6, 2, 1, 6, 1, 8, 7, 1, 5, 2, 8, 6, 1, 2, 0, 0, 0, 9, 6, 2, 3, 2, 4, 1, 1, 5, 2, 7, 6, 4, 5, 2, 5, 1, 7, 8, 9, 3, 2, 4, 6, 8, 6, 4, 0, 6, 5, 5, 6, 5, 9, 8, 4, 4, 1, 3, 7, 7, 8, 7, 2, 5, 6, 5, 7, 8, 3, 1, 9, 2, 2, 4, 8, 3, 7, 4, 8, 5, 2, 9, 3, 0, 5, 3, 2, 5, 2, 3, 3, 7, 0, 4, 7, 3, 0, 1, 2, 4, 9, 6, 7, 9, 2, 2, 4, 8, 8, 5, 1, 6, 6, 2, 1, 1, 0, 3, 3, 0, 0, 1, 5, 9, 4, 5, 7, 6, 8, 9, 7, 4, 4, 3, 5, 8, 5, 2, 0, 9, 7, 2, 9, 5, 8, 8, 2, 1, 8, 9, 9, 3, 5, 8, 2, 1, 2, 9, 3, 9, 9, 9, 6, 3, 7, 7, 3, 7, 4, 2, 5, 0, 9, 3, 3, 5, 8, 8, 1, 6, 3, 9, 9, 7, 3, 5, 0, 8, 5, 8, 6, 4, 6, 3, 6, 9, 7, 7, 7, 9, 7, 0, 0, 2, 1, 7, 6, 4, 2, 2, 7, 6, 4, 0, 6, 9, 8, 0, 1, 0, 6, 4, 9, 0, 1, 5, 2, 9, 9, 9, 0, 9, 3, 7, 2, 2, 9, 0, 1, 7, 1, 9, 6, 7, 9, 9, 4, 7, 0, 1, 6, 7, 0, 6, 9, 5, 6, 5, 5, 6, 3, 1, 4, 0, 7, 4, 0, 0, 4, 3, 5, 7, 0, 9, 9, 6, 7, 7, 6, 6, 2, 2, 4, 6, 9, 7, 4, 6, 4, 1, 8, 7, 5, 6, 2, 7, 4, 4, 4, 8, 6, 0, 1, 2, 6, 7, 4, 2, 4, 8, 4, 1, 7, 5, 4, 5, 1, 1, 5, 4, 1, 8, 9, 1, 6, 9, 3, 0, 5, 2, 8, 5, 1, 7, 0, 8, 5, 5, 2, 6, 2, 5, 2, 3, 6, 7, 2, 1, 9, 7, 5, 1, 6, 4, 0, 2, 0, 6, 8, 0, 0, 8, 7, 3, 4, 3, 8, 9, 4, 4, 9, 1, 8, 3, 9, 5, 8, 1, 7, 8, 6, 3, 5, 6, 4, 5, 8, 0, 1, 4, 4, 5, 2, 7, 8, 8, 4, 2, 7, 8, 2, 3, 3, 2, 5, 5, 7, 8, 8, 4, 5, 3, 6, 8, 1, 4, 2, 2, 2, 7, 9, 5, 8, 3, 5, 8, 6, 6, 5, 9, 5, 8, 1, 6, 3, 1, 8, 9, 2, 4, 3, 3, 3, 5, 8, 2, 0, 8, 5, 7, 4, 4, 2, 5, 0, 8, 5, 0, 2, 9, 1, 4, 6, 9, 2, 0, 5, 9, 0, 0, 3, 6, 0, 7, 8, 8, 3, 1, 6, 2, 9, 7, 1, 5, 5, 0, 8, 3, 2, 9, 8, 5, 1, 2, 3, 2, 2, 5, 9, 5, 1, 1, 2, 0, 6, 4, 9, 8, 6, 7, 6, 6, 7, 3, 9, 6, 5, 1, 4, 6, 8, 5, 7, 2, 6, 0, 4, 0, 8, 2, 1, 5, 5, 4, 5, 5, 6, 3, 6, 2, 3, 2, 5, 4, 4, 0, 7, 4, 5, 8, 2, 9, 0, 0, 4, 9, 0, 1, 4, 8, 0, 8, 6, 6, 9, 1, 8, 7, 4, 0, 1, 5, 5, 5, 4, 1, 2, 7, 3, 6, 7, 8, 2, 3, 6, 1, 1, 1, 6, 3, 6, 9, 6, 7, 4, 4, 6, 9, 9, 1, 5, 5, 3, 8, 7, 6, 7, 6, 1, 9, 3, 9, 0, 6, 2, 9, 3, 4, 2, 4, 3, 8, 0, 9, 6, 3, 2, 3, 4, 2, 2, 1, 8, 8, 6, 0, 8, 0, 4, 2, 0, 3, 1, 3, 0, 0, 9, 3, 9, 8, 6, 8, 4, 5, 3, 7, 0, 4, 4, 7, 0, 6, 3, 4, 3, 7, 3, 1, 3, 1, 5, 7, 4, 2, 6, 8, 3, 9, 0, 1, 6, 5, 7, 9, 9, 7, 8, 6, 4, 7, 0, 4, 1, 9, 5, 5, 3, 7, 8, 0, 3, 7, 7, 3, 4, 0, 3, 9, 6, 4, 1, 2, 1, 5, 2, 8, 3, 5, 2, 4, 2, 9, 7, 3, 5, 1, 5, 4, 3, 5, 4, 2, 5, 3, 1, 7, 3, 1, 7, 2, 3, 3, 9, 2, 4, 7, 8, 4, 6, 1, 2, 3, 9, 3, 7, 8, 4, 2, 7, 0, 3, 4, 0, 6, 2, 5, 4, 9, 8, 8, 5, 7, 1, 7, 3, 5, 8, 4, 7, 0, 1, 1, 7, 2, 8, 3, 6, 6, 7, 8, 4, 7, 0, 9, 6, 5, 6, 6, 4, 0, 8, 9, 8, 7, 4, 1, 5, 4, 6, 1, 7, 9, 8, 4, 4, 8, 1, 5, 2, 8, 4, 9, 5, 5, 3, 6, 0, 2, 5, 5, 5, 7, 0, 7, 9, 5, 3, 1, 3, 6, 2, 5, 2, 7, 7, 0, 4, 8, 1, 6, 6, 6, 5, 0, 5, 7, 4, 0, 6, 0, 4, 8, 5, 8, 6, 6, 2, 5, 0, 6, 8, 8, 6, 3, 7, 6, 4, 8, 0, 1, 5, 4, 4, 5, 0, 8, 5, 4, 5, 2, 7, 4, 3, 1, 9, 7, 9, 5, 8, 8, 2, 3, 9, 1, 2, 3, 2, 6, 1, 6, 6, 0, 4, 0, 8, 2, 3, 3, 4, 6, 9, 7, 9, 4, 1, 1, 8, 3, 2, 8, 6, 0, 2, 3, 0, 9, 6, 1, 3, 5, 7, 5, 7, 9, 4, 8, 9, 8, 0, 7, 1, 0, 1, 4, 8, 7, 1, 9, 0, 4, 0, 8, 5, 8, 0, 7, 7, 0, 5, 9, 1, 2, 8, 1, 2, 5, 6, 7, 6, 8, 8, 2, 8, 5, 4, 5, 5, 2, 4, 0, 6, 0, 4, 4, 9, 8, 6, 5, 1, 0, 2, 2, 5, 9, 9, 7, 1, 2, 1, 3, 2, 2, 5, 9, 9, 9, 5, 0, 5, 0, 4, 0, 0, 3, 5, 3, 5, 5, 8, 7, 1, 8, 9, 9, 3, 7, 0, 8, 1, 9, 9, 3, 2, 9, 2, 7, 9, 7, 6, 8, 9, 8, 3, 5, 9, 6, 7, 0, 7, 9, 8, 4, 0, 6, 1, 4, 8, 4, 3, 5, 6, 9, 4, 2, 6, 4, 8, 7, 4, 1, 6, 8, 7, 4, 5, 0, 1, 3, 4, 7, 4, 2, 3, 0, 8, 4, 8, 7, 1, 5, 9, 0, 8, 0, 9, 6, 5, 8, 0, 2, 5, 0, 3, 1, 9, 0, 3, 2, 0, 3, 6, 3, 6, 7, 6, 6, 2, 5, 7, 4, 4, 9, 9, 1, 2, 7, 2, 5, 6, 1, 2, 3, 2, 3, 1, 4, 8, 0, 5, 6, 3, 8, 9, 9, 0, 2, 1, 6, 6, 0, 0, 1, 1, 6, 6, 7, 4, 5, 7, 5, 7, 8, 4, 5, 0, 5, 7, 7, 6, 0, 1, 1, 5, 9, 9, 4, 1, 8, 5, 0, 6, 9, 7, 5, 0, 7, 3, 9, 6, 5, 5, 9, 2, 3, 8, 0, 2, 0, 3, 0, 7, 9, 5, 8, 3, 1, 5, 9, 2, 6, 5, 9, 9, 3, 3, 5, 7, 7, 6, 7, 6, 4, 6, 0, 8, 5, 9, 5, 4, 5, 5, 2, 6, 9, 6, 8, 6, 3, 1, 2, 8, 7, 3, 0, 6, 2, 1, 5, 0, 3, 4, 5, 7, 0, 7, 0, 5, 6, 4, 0, 8, 0, 1, 6, 8, 5, 5, 5, 5, 3, 7, 0, 8, 5, 0, 1, 4, 4, 9, 8, 8, 7, 6, 2, 6, 0, 5, 4, 2, 4, 1, 4, 9, 3, 9, 8, 2, 9, 1, 9, 2, 2, 7, 4, 3, 3, 7, 1, 7, 0, 0, 0, 3, 8, 2, 5, 9, 9, 7, 3, 9, 6, 9, 1, 3, 8, 0, 5, 0, 7, 9, 6, 3, 7, 8, 2, 6, 3, 0, 1, 5, 8, 4, 3, 9, 3, 8, 0, 0, 5, 0, 6, 2, 6, 2, 9, 4, 3, 9, 0, 0, 3, 4, 7, 9, 7, 9, 8, 8, 1, 3, 0, 6, 8, 2, 8, 8, 8, 4, 6, 4, 2, 6, 6, 3, 8, 4, 1, 1, 4, 9, 8, 6, 8, 5, 3, 8, 2, 5, 7, 5, 2, 2, 7, 5, 4, 7, 2, 1, 1, 1, 8, 4, 5, 4, 8, 8, 0, 9, 8, 5, 5, 4, 7, 4, 1, 5, 3, 6, 1, 8, 3, 0, 6, 9, 5, 7, 9, 4, 8, 0, 4, 7, 9, 7, 5, 1, 9, 2, 2, 7, 2, 4, 5, 0, 5, 7, 2, 8, 4, 0, 2, 2, 8, 2, 3, 5, 2, 2, 2, 1, 8, 6, 3, 6, 2, 0, 6, 3, 7, 2, 0, 8, 6, 5, 2, 1, 9, 7, 3, 3, 7, 9, 3, 7, 8, 5, 8, 8, 3, 4, 2, 2, 7, 9, 4, 4, 7, 4, 1, 9, 2, 6, 8, 2, 5, 6, 0, 5, 6, 3, 0, 7, 9, 2, 6, 0, 8, 4, 4, 0, 2, 7, 9, 9, 3, 1, 5, 0, 2, 2, 8, 2, 9, 7, 1, 9, 6, 7, 0, 7, 4, 6, 8, 1, 9, 3, 1, 8, 4, 5, 0, 0, 5, 5, 7, 6, 9, 1, 7, 7, 3, 2, 0, 2, 4, 0, 9, 5, 5, 8, 2, 5, 0, 4, 1, 8, 2, 3, 4, 7, 0, 7, 7, 5, 1, 3, 9, 1, 9, 9, 8, 4, 2, 4, 7, 5, 1, 2, 9, 6, 9, 5, 9, 0, 0, 7, 2, 8, 3, 2, 9, 4, 8, 9, 3, 1, 7, 2, 4, 0, 3, 3, 7, 0, 7, 2, 7, 7, 0, 7, 5, 8, 1, 4, 5, 8, 6, 5, 1, 4, 4, 7, 0, 9, 9, 3, 8, 3, 8, 8, 7, 7, 6, 6, 6, 3, 5, 9, 2, 4, 3, 2, 9, 6, 7, 9, 3, 5, 2, 7, 5, 0, 2, 2, 4, 9, 7, 0, 0, 1, 3, 1, 3, 1, 6, 4, 2, 1, 3, 6, 1, 4, 5, 4, 7, 4, 2, 8, 3, 7, 7, 3, 9, 9, 4, 8, 2, 9, 4, 5, 6, 7, 8, 0, 1, 6, 5, 1, 1, 9, 5, 9, 6, 1, 5, 0, 0, 4, 6, 3, 3, 9, 1, 1, 6, 8, 0, 2, 9, 5, 7, 6, 8, 4, 6, 4, 8, 3, 5, 4, 9, 3, 7, 4, 4, 1, 9, 5, 9, 1, 0, 4, 0, 8, 8, 4, 1, 9, 7, 2, 5, 9, 1, 5, 0, 7, 4, 3, 6, 1, 8, 4, 9, 1, 2, 6, 7, 0, 7, 6, 8, 2, 6, 7, 5, 6, 9, 1, 1, 3, 8, 4, 4, 1, 1, 1, 0, 1, 1, 2, 3, 3, 2, 3, 1, 7, 5, 4, 4, 6, 8, 6, 3, 9, 7, 8, 9, 1, 5, 5, 9, 1, 7, 7, 9, 5, 8, 6, 8, 5, 3, 6, 1, 5, 2, 5, 3, 4, 2, 1, 3, 8, 1, 9, 8, 8, 5, 5, 9, 1, 4, 1, 7, 0, 3, 0, 0, 0, 5, 7, 2, 7, 0, 9, 6, 7, 4, 0, 6, 6, 3, 8, 3, 4, 7, 5, 6, 4, 2, 8, 4, 8, 9, 9, 9, 0, 5, 0, 6, 8, 1, 1, 9, 9, 9, 2, 3, 9, 6, 6, 0, 1, 9, 9, 3, 0, 5, 4, 6, 2, 9, 9, 4, 5, 7, 6, 5, 2, 2, 8, 0, 5, 1, 2, 6, 4, 9, 4, 6, 8, 6, 5, 9, 1, 4, 7, 8, 2, 6, 0, 3, 8, 9, 8, 4, 9, 5, 9, 8, 3, 3, 0, 2, 0, 6, 6, 8, 2, 5, 1, 2, 3, 7, 0, 0, 4, 2, 7, 1, 4, 7, 8, 0, 3, 9, 3, 0, 5, 7, 5, 5, 4, 7, 1, 0, 6, 6, 1, 1, 9, 6, 8, 1, 6, 3, 7, 1, 4, 8, 9, 7, 0, 7, 3, 3, 3, 1, 4, 2, 5, 3, 8, 2, 4, 7, 1, 1, 7, 3, 9, 4, 6, 3, 5, 9, 7, 4, 0, 9, 2, 0, 3, 5, 1, 2, 0, 4, 0, 2, 7, 8, 0, 5, 3, 7, 4, 6, 9, 5, 9, 3, 0, 8, 3, 9, 7, 4, 6, 5, 8, 3, 3, 3, 9, 9, 9, 8, 7, 2, 4, 3, 4, 7, 7, 8, 4, 3, 8, 6, 5, 4, 0, 0, 0, 5, 1, 5, 3, 1, 1, 1, 2, 1, 6, 3, 3, 9, 2, 3, 9, 6, 0, 7, 1, 3, 4, 7, 0, 4, 1, 8, 2, 5, 1, 9, 5, 9, 0, 3, 5, 4, 1, 2, 5, 2, 3, 4, 0, 7, 4, 6, 5, 7, 8, 1, 4, 3, 2, 2, 2, 4, 2, 9, 3, 8, 3, 9, 6, 5, 6, 6, 0, 3, 1, 7, 2, 5, 9, 1, 4, 8, 5, 1, 7, 6, 0, 4, 2, 0, 1, 1, 8, 6, 2, 7, 4, 9, 8, 6, 7, 4, 5, 6, 7, 0, 7, 2, 2, 5, 6, 6, 7, 2, 6, 1, 5, 7, 0, 8, 9, 2, 7, 8, 4, 2, 0, 1, 6, 2, 7, 8, 0, 1, 4, 8, 9, 5, 3, 8, 8, 7, 2, 5, 8, 5, 0, 6, 9, 2, 8, 3, 6, 2, 7, 4, 6, 9, 0, 0, 7, 3, 7, 2, 5, 6, 6, 0, 9, 6, 8, 6, 7, 2, 7, 5, 3, 3, 3, 0, 6, 5, 2, 0, 8, 8, 1, 5, 4, 0, 4, 1, 2, 4, 3, 2, 8, 5, 4, 2, 1, 1, 3, 5, 4, 2, 7, 7, 8, 2, 5, 3, 9, 9, 0, 6, 7, 2, 1, 5, 5, 2, 7, 1, 3, 8, 8, 5, 5, 4, 0, 5, 1, 8, 5, 3, 5, 6, 7, 9, 4, 0, 6, 7, 8, 5, 2, 4, 6, 0, 6, 1, 4, 7, 8, 3, 2, 6, 1, 6, 4, 3, 8, 1, 4, 3, 5, 4, 0, 2, 5, 0, 8, 9, 2, 3, 0, 4, 9, 6, 4, 4, 2, 3, 5, 6, 4, 3, 3, 2, 6, 4, 6, 2, 8, 3, 3, 3, 4, 1, 5, 4, 7, 3, 6, 8, 1, 3, 5, 9, 7, 9, 1, 0, 7, 5, 9, 4, 3, 7, 9, 6, 5, 7, 0, 9, 8, 2, 3, 5, 7, 9, 0, 2, 0, 7, 4, 6, 3, 1, 3, 1, 8, 1, 5, 5, 7, 3, 3, 0, 4, 5, 3, 8, 3, 9, 2, 9, 1, 3, 2, 0, 7, 8, 2, 8, 1, 7, 9, 6, 2, 8, 8, 9, 7, 9, 9, 0, 3, 7, 0, 8, 6, 8, 6, 9, 0, 4, 1, 1, 8, 7, 9, 7, 9, 7, 3, 4, 6, 3, 0, 0, 6, 8, 2, 3, 0, 6, 9, 0, 2, 0, 6, 3, 4, 3, 2, 1, 4, 0, 4, 5, 6, 5, 4, 3, 4, 2, 2, 2, 2, 0, 8, 3, 8, 7, 5, 6, 4, 0, 9, 6, 8, 7, 8, 3, 0, 4, 1, 9, 4, 1, 2, 7, 6, 1, 1, 1, 7, 5, 6, 2, 2, 0, 5, 4, 5, 2, 6, 4, 3, 1, 0, 3, 3, 1, 6, 6, 0, 3, 1, 3, 3, 3, 4, 4, 4, 4, 3, 3, 3, 7, 5, 0, 8, 1, 8, 1, 9, 0, 7, 7, 8, 8, 8, 5, 6, 4, 7, 5, 1, 3, 1, 7, 8, 3, 6, 4, 4, 8, 1, 6, 3, 0, 9, 1, 5, 0, 6, 9, 6, 5, 9, 7, 3, 1, 7, 0, 5, 8, 0, 3, 0, 7, 8, 3, 9, 2, 0, 8, 4, 4, 6, 4, 3, 4, 4, 3, 5, 5, 5, 7, 3, 8, 9, 5, 5, 7, 0, 3, 2, 9, 9, 7, 9, 3, 6, 7, 0, 4, 7, 6, 1, 4, 1, 9, 1, 7, 1, 5, 4, 3, 3, 0, 4, 5, 0, 1, 0, 8, 9, 2, 0, 8, 5, 8, 9, 1, 7, 3, 8, 8, 2, 3, 4, 0, 9, 0, 0, 1, 7, 5, 5, 8, 6, 9, 6, 5, 5, 4, 1, 6, 3, 7, 2, 8, 8, 5, 1, 5, 3, 1, 4, 7, 8, 6, 8, 6, 6, 3, 6, 3, 8, 8, 1, 4, 5, 1, 6, 4, 9, 9, 9, 9, 3, 4, 3, 0, 3, 3, 2, 6, 3, 3, 8, 3, 0, 2, 3, 6, 1, 0, 2, 0, 8, 6, 5, 4, 7, 2, 1, 2, 6, 1, 7, 2, 9, 4, 1, 0, 2, 1, 2, 9, 2, 6, 5, 2, 4, 7, 0, 7, 0, 3, 2, 3, 2, 4, 0, 4, 7, 3, 9, 2, 2, 7, 6, 3, 0, 4, 6, 9, 4, 2, 7, 3, 1, 3, 8, 1, 8, 6, 8, 9, 9, 3, 0, 5, 8, 1, 0, 7, 4, 6, 4, 0, 8, 9, 7, 5, 1, 8, 7, 1, 8, 2, 0, 6, 3, 3, 3, 5, 6, 4, 3, 3, 3, 2, 9, 9, 9, 1, 3, 3, 4, 6, 4, 1, 5, 2, 7, 5, 3, 1, 8, 2, 8, 9, 4, 4, 2, 9, 0, 4, 2, 1, 8, 6, 8, 9, 6, 1, 8, 5, 9, 2, 5, 2, 1, 9, 9, 8, 7, 9, 1, 7, 0, 9, 5, 3, 0, 6, 5, 6, 7, 3, 5, 9, 0, 2, 2, 9, 4, 7, 2, 7, 8, 2, 3, 8, 6, 7, 0, 0, 0, 8, 2, 9, 3, 5, 8, 6, 9, 8, 9, 3, 0, 0, 2, 1, 8, 8, 8, 9, 4, 1, 5, 5, 6, 9, 1, 2, 7, 8, 8, 7, 1, 0, 7, 1, 1, 5, 7, 8, 1, 0, 1, 1, 2, 6, 8, 7, 0, 0, 3, 1, 8, 0, 1, 9, 6, 6, 5, 4, 3, 6, 4, 7, 1, 6, 5, 1, 4, 2, 7, 1, 4, 1, 3, 4, 8, 9, 6, 6, 0, 7, 7, 2, 5, 0, 1, 2, 4, 9, 6, 5, 6, 6, 9, 2, 3, 5, 7, 5, 4, 1, 8, 0, 6, 4, 0, 0, 2, 7, 3, 6, 8, 4, 0, 9, 4, 9, 4, 1, 6, 0, 4, 4, 0, 1, 5, 5, 2, 2, 1, 8, 2, 1, 1, 2, 7, 6, 7, 3, 2, 9, 0, 6, 9, 9, 1, 1, 1, 2, 5, 5, 0, 8, 2, 1, 1, 8, 3, 9, 4, 4, 3, 8, 1, 8, 2, 3, 6, 7, 2, 6, 3, 7, 7, 6, 7, 6, 4, 8, 4, 0, 3, 7, 9, 1, 1, 1, 8, 5, 7, 9, 0, 7, 4, 5, 4, 1, 2, 8, 0, 1, 9, 8, 1, 9, 0, 3, 3, 6, 3, 6, 5, 4, 0, 9, 6, 6, 0, 3, 6, 1, 3, 1, 6, 6, 8, 1, 5, 5, 5, 2, 8, 9, 9, 6, 8, 9, 4, 8, 6, 1, 5, 3, 8, 9, 4, 2, 8, 2, 7, 3, 8, 3, 4, 3, 4, 4, 3, 0, 1, 7, 6, 0, 9, 6, 0, 6, 4, 7, 0, 6, 5, 0, 8, 0, 6, 4, 1, 7, 2, 5, 7, 6, 1, 9, 2, 0, 7, 8, 0, 7, 4, 1, 6, 8, 5, 7, 9, 5, 9, 5, 0, 8, 1, 3, 4, 3, 2, 6, 1, 4, 3, 0, 6, 7, 8, 1, 8, 5, 6, 2, 6, 4, 2, 5, 8, 6, 6, 2, 2, 4, 8, 0, 0, 9, 5, 6, 4, 3, 8, 7, 4, 3, 0, 3, 1, 2, 8, 5, 7, 5, 5, 2, 0, 9, 4, 9, 4, 7, 3, 0, 6, 1, 0, 5, 2, 5, 4, 6, 1, 4, 7, 7, 6, 3, 7, 0, 1, 5, 2, 6, 0, 9, 1, 0, 7, 6, 9, 2, 7, 7, 2, 3, 1, 0, 3, 7, 7, 7, 9, 8, 1, 7, 9, 2, 3, 4, 1, 0, 7, 9, 3, 8, 5, 6, 5, 5, 5, 9, 5, 2, 6, 9, 8, 2, 7, 1, 9, 2, 8, 1, 1, 0, 0, 2, 6, 3, 5, 1, 1, 1, 1, 1, 1, 6, 3, 8, 0, 9, 8, 4, 2, 2, 8, 8, 0, 2, 2, 8, 9, 4, 8, 4, 3, 8, 4, 6, 1, 5, 1, 1, 9, 6, 9, 7, 5, 4, 4, 2, 5, 4, 6, 3, 4, 0, 1, 4, 5, 1, 6, 4, 8, 9, 0, 2, 1, 3, 2, 9, 2, 7, 9, 9, 5, 1, 6, 0, 1, 9, 5, 9, 4, 2, 2, 7, 8, 0, 6, 4, 1, 0, 0, 5, 1, 5, 9, 9, 1, 3, 2, 8, 9, 0, 7, 1, 8, 2, 0, 8, 3, 4, 4, 8, 4, 7, 3, 8, 5, 0, 4, 5, 2, 8, 6, 5, 5, 8, 7, 7, 1, 5, 0, 9, 3, 0, 7, 3, 5, 5, 1, 4, 9, 1, 2, 2, 5, 3, 0, 9, 9, 9, 6, 1, 8, 8, 8, 0, 8, 3, 9, 7, 7, 4, 4, 0, 0, 4, 0, 1, 0, 6, 8, 6, 7, 3, 2, 7, 5, 8, 5, 2, 0, 4, 7, 5, 3, 4, 1, 7, 9, 1, 2, 1, 9, 7, 9, 8, 0, 8, 7, 4, 8, 7, 7, 0, 4, 3, 2, 6, 9, 3, 5, 7, 4, 9, 5, 6, 6, 6, 0, 8, 6, 2, 4, 2, 3, 7, 3, 1, 5, 7, 9, 3, 8, 9, 9, 8, 7, 5, 9, 7, 4, 8, 1, 4, 0, 0, 7, 4, 9, 4, 2, 0, 7, 8, 7, 1, 1, 2, 3, 9, 3, 2, 0, 4, 9, 1, 9, 7, 7, 9, 2, 0, 8, 3, 1, 4, 1, 4, 3, 5, 1, 1, 6, 4, 2, 8, 5, 1, 7, 8, 8, 2, 8, 6, 5, 1, 6, 0, 0, 7, 2, 8, 8, 9, 2, 6, 1, 5, 5, 8, 2, 4, 4, 1, 8, 8, 0, 3, 4, 9, 3, 6, 8, 5, 0, 0, 3, 0, 9, 9, 0, 4, 1, 6, 2, 8, 9, 8, 4, 6, 7, 8, 8, 9, 2, 2, 0, 9, 2, 2, 4, 7, 5, 4, 9, 6, 1, 8, 2, 3, 5, 8, 2, 8, 9, 9, 7, 6, 3, 9, 7, 2, 6, 8, 9, 3, 9, 9, 9, 2, 0, 9, 3, 4, 2, 3, 1, 1, 1, 0, 2, 0, 5, 7, 3, 9, 1, 0, 1, 8, 9, 5, 3, 8, 8, 1, 5, 3, 2, 3, 3, 7, 5, 9, 5, 7, 1, 9, 6, 5, 9, 1, 0, 8, 4, 3, 8, 5, 4, 9, 6, 0, 3, 9, 7, 2, 3, 8, 6, 6, 4, 9, 9, 1, 5, 2, 6, 7, 2, 2, 9, 1, 0, 5, 8, 4, 5, 7, 9, 7, 0, 4, 1, 0, 3, 4, 8, 9, 5, 8, 6, 7, 9, 1, 5, 7, 9, 4, 6, 6, 7, 2, 1, 3, 4, 1, 9, 4, 2, 1, 9, 0, 0, 8, 6, 2, 8, 0, 3, 7, 4, 2, 6, 9, 8, 0, 9, 4, 2, 1, 3, 1, 2, 3, 2, 7, 9, 4, 7, 1, 1, 2, 8, 8, 4, 8, 2, 5, 5, 8, 3, 6, 0, 1, 4, 5, 5, 8, 9, 8, 5, 9, 4, 1, 3, 3, 9, 5, 9, 7, 7, 4, 4, 7, 9, 3, 6, 8, 9, 2, 4, 3, 6, 5, 1, 5, 4, 5, 8, 2, 3, 9, 9, 7, 8, 6, 7, 6, 1, 0, 6, 0, 3, 2, 5, 3, 3, 9, 6, 3, 0, 4, 5, 7, 3, 5, 9, 3, 5, 8, 7, 0, 3, 9, 2, 6, 2, 3, 2, 7, 1, 4, 7, 8, 6, 4, 0, 8, 0, 0, 8, 6, 8, 2, 9, 5, 4, 3, 8, 4, 4, 7, 0, 9, 5, 0, 2, 4, 5, 4, 0, 3, 7, 8, 9, 7, 4, 4, 6, 6, 5, 9, 4, 1, 1, 5, 0, 9, 6, 9, 8, 0, 5, 2, 6, 6, 1, 5, 5, 6, 8, 1, 7, 0, 7, 9, 3, 2, 7, 7, 7, 8, 2, 0, 3, 3, 6, 1, 8, 6, 3, 7, 5, 3, 2, 9, 4, 5, 8, 2, 8, 7, 8, 4, 6, 9, 1, 2, 1, 3, 7, 4, 9, 5, 8, 7, 5, 2, 2, 1, 8, 0, 3, 0, 9, 2, 4, 0, 1, 1, 6, 3, 0, 7, 7, 1, 0, 5, 8, 0, 3, 9, 8, 2, 2, 9, 1, 5, 1, 7, 0, 1, 9, 9, 4, 2, 3, 4, 2, 8, 7, 0, 7, 8, 2, 9, 6, 3, 5, 5, 4, 3, 3, 5, 5, 6, 7, 8, 5, 3, 2, 9, 0, 2, 9, 7, 5, 4, 0, 8, 0, 1, 6, 6, 8, 6, 1, 9, 2, 6, 2, 8, 5, 0, 4, 1, 3, 4, 4, 4, 3, 8, 9, 4, 6, 5, 6, 1, 9, 5, 3, 7, 0, 6, 4, 7, 9, 3, 6, 1, 8, 2, 0, 0, 1, 5, 4, 6, 4, 2, 3, 0, 1, 1, 5, 2, 9, 6, 3, 3, 1, 9, 7, 7, 5, 0, 8, 9, 8, 1, 6, 5, 6, 4, 2, 3, 3, 9, 8, 3, 2, 1, 2, 7, 9, 9, 4, 7, 2, 5, 8, 8, 9, 3, 0, 6, 3, 6, 3, 7, 2, 9, 0, 2, 7, 1, 9, 6, 0, 1, 3, 1, 6, 2, 7, 5, 1, 3, 4, 9, 7, 4, 1, 1, 8, 4, 6, 5, 1, 5, 0, 1, 8, 6, 6, 1, 6, 7, 1, 3, 1, 5, 2, 9, 7, 9, 7, 5, 0, 6, 6, 5, 0, 6, 5, 6, 1, 1, 1, 9, 6, 1, 8, 9, 8, 7, 4, 5, 6, 6, 9, 5, 2, 3, 7, 2, 1, 0, 3, 1, 0, 6, 2, 7, 7, 9, 0, 5, 7, 7, 2, 0, 4, 3, 7, 9, 7, 0, 7, 5, 8, 4, 9, 3, 7, 4, 7, 4, 9, 8, 0, 3, 4, 1, 0, 8, 4, 4, 9, 1, 9, 4, 1, 2, 9, 6, 5, 0, 9, 3, 9, 1, 0, 1, 9, 0, 2, 7, 2, 3, 8, 4, 5, 1, 6, 8, 0, 7, 7, 9, 9, 4, 5, 4, 9, 9, 5, 0, 0, 6, 4, 3, 0, 4, 9, 9, 7, 9, 0, 7, 4, 4, 7, 4, 9, 7, 9, 3, 4, 2, 1, 4, 8, 2, 3, 1, 8, 7, 9, 1, 7, 3, 5, 5, 3, 1, 2, 5, 4, 3, 5, 9, 8, 5, 6, 6, 0, 3, 9, 4, 6, 4, 3, 3, 4, 4, 2, 0, 2, 3, 9, 3, 0, 8, 6, 0, 0, 4, 6, 1, 8, 6, 0, 1, 6, 7, 8, 1, 1, 0, 7, 3, 4, 2, 0, 6, 3, 2, 2, 2, 6, 6, 4, 9, 0, 2, 4, 5, 6, 7, 1, 0, 3, 6, 9, 2, 1, 0, 8, 5, 3, 1, 0, 5, 1, 2, 0, 7, 2, 9, 7, 2, 1, 9, 1, 0, 4, 7, 0, 5, 2, 7, 7, 7, 0, 7, 6, 0, 9, 2, 6, 9, 1, 1, 5, 6, 5, 6, 8, 7, 5, 4, 7, 6, 9, 6, 9, 1, 0, 6, 4, 6, 6, 5, 6, 5, 1, 7, 4, 4, 6, 6, 3, 1, 9, 9, 3, 4, 0, 4, 1, 2, 8, 2, 2, 3, 4, 1, 7, 7, 1, 0, 6, 4, 4, 5, 1, 6, 5, 4, 5, 6, 1, 1, 1, 2, 7, 1, 8, 8, 3, 7, 6, 7, 3, 5, 0, 8, 0, 3, 5, 3, 7, 9, 5, 4, 0, 1, 3, 1, 1, 5, 5, 3, 8, 5, 6, 7, 5, 4, 2, 9, 5, 0, 5, 1, 4, 6, 8, 2, 9, 4, 7, 5, 2, 9, 2, 0, 1, 1, 9, 3, 7, 8, 3, 7, 0, 2, 3, 4, 8, 3, 9, 8, 9, 3, 4, 5, 5, 8, 1, 5, 1, 9, 6, 8, 5, 1, 4, 3, 9, 5, 3, 7, 2, 5, 6, 3, 1, 4, 8, 5, 9, 2, 8, 9, 4, 1, 1, 7, 6, 1, 8, 3, 0, 3, 2, 4, 2, 2, 3, 4, 8, 2, 1, 3, 8, 4, 7, 0, 1, 3, 8, 6, 7, 7, 6, 1, 6, 8, 1, 1, 6, 2, 4, 8, 9, 2, 0, 7, 3, 9, 4, 1, 4, 5, 3, 3, 6, 8, 1, 1, 7, 3, 9, 0, 5, 6, 3, 2, 3, 2, 1, 3, 7, 6, 3, 7, 2, 2, 6, 9, 7, 4, 8, 3, 8, 0, 4, 8, 4, 8, 8, 7, 1, 2, 0, 8, 5, 2, 7, 3, 2, 7, 1, 8, 9, 7, 8, 7, 2, 2, 0, 9, 4, 1, 0, 0, 6, 3, 7, 5, 9, 7, 8, 4, 2, 4, 3, 4, 0, 9, 7, 7, 7, 1, 0, 9, 5, 6, 5, 9, 3, 8, 1, 9, 3, 2, 6, 0, 4, 9, 8, 0, 4, 7, 0, 8, 5, 9, 9, 7, 6, 7, 1, 5, 1, 1, 3, 8, 3, 9, 3, 0, 5, 2, 8, 7, 6, 5, 2, 4, 0, 1, 2, 4, 7, 5, 0, 5, 8, 4, 0, 9, 6, 7, 0, 1, 0, 2, 0, 0, 9, 3, 8, 1, 4, 0, 3, 3, 2, 7, 7, 8, 7, 5, 2, 6, 1, 4, 8, 0, 8, 5, 0, 4, 9, 9, 4, 6, 5, 7, 0, 7, 2, 4, 2, 2, 7, 5, 2, 2, 2, 6, 8, 5, 2, 7, 4, 7, 5, 4, 4, 1, 6, 1, 3, 4, 4, 8, 6, 9, 1, 2, 9, 5, 8, 3, 8, 3, 1, 1, 6, 4, 5, 6, 3, 0, 2, 5, 7, 0, 8, 5, 8, 0, 3, 5, 2, 2, 7, 4, 8, 6, 6, 6, 1, 7, 1, 8, 7, 3, 3, 6, 0, 2, 4, 0, 0, 6, 9, 2, 6, 9, 7, 9, 2, 3, 2, 8, 7, 8, 5, 9, 1, 1, 1, 5, 4, 7, 1, 4, 1, 4, 3, 8, 6, 1, 5, 2, 3, 1, 5, 2, 6, 4, 4, 6, 5, 2, 3, 2, 0, 2, 7, 0, 5, 8, 3, 3, 7, 5, 7, 3, 9, 4, 0, 1, 6, 3, 8, 6, 2, 3, 3, 1, 3, 2, 5, 7, 6, 0, 2, 0, 5, 2, 6, 5, 9, 0, 1, 7, 1, 6, 4, 7, 8, 6, 5, 3, 7, 5, 7, 5, 7, 2, 9, 1, 1, 7, 4, 2, 0, 3, 1, 0, 5, 6, 6, 5, 5, 3, 3, 9, 3, 9, 9, 3, 8, 9, 3, 3, 0, 9, 6, 7, 7, 3, 1, 2, 5, 3, 7, 9, 1, 5, 1, 0, 6, 5, 7, 1, 4, 8, 4, 6, 8, 4, 9, 0, 1, 2, 8, 7, 9, 1, 7, 9, 2, 5, 0, 4, 4, 7, 2, 0, 6, 4, 0, 4, 4, 0, 2, 1, 8, 2, 5, 3, 7, 4, 1, 1, 1, 4, 6, 2, 2, 9, 4, 0, 8, 0, 3, 9, 4, 0, 1, 5, 7, 9, 0, 2, 0, 6, 1, 5, 6, 9, 0, 8, 1, 4, 2, 1, 0, 4, 3, 9, 1, 0, 4, 9, 0, 6, 6, 3, 9, 4, 6, 8, 1, 3, 7, 0, 6, 7, 2, 5, 6, 2, 5, 0, 5, 8, 5, 9, 3, 8, 6, 6, 1, 7, 6, 5, 0, 4, 1, 5, 1, 0, 2, 3, 2, 3, 6, 5, 3, 2, 2, 4, 4, 8, 2, 9, 4, 0, 4, 0, 8, 8, 6, 3, 6, 8, 6, 6, 1, 9, 5, 9, 5, 5, 3, 2, 0, 6, 7, 0, 1, 6, 2, 9, 3, 6, 0, 1, 6, 8, 8, 9, 3, 0, 3, 9, 1, 8, 2, 5, 3, 5, 3, 2, 7, 8, 0, 1, 2, 9, 6, 7, 7, 4, 4, 6, 3, 9, 2, 1, 7, 9, 1, 6, 6, 3, 5, 2, 8, 8, 5, 1, 6, 8, 6, 0, 1, 0, 2, 2, 1, 4, 5, 0, 1, 2, 9, 7, 3, 9, 7, 0, 8, 5, 5, 0, 5, 8, 7, 4, 6, 2, 0, 8, 5, 5, 7, 4, 2, 3, 1, 4, 1, 6, 0, 1, 7, 3, 1, 8, 4, 8, 3, 1, 7, 8, 5, 5, 6, 2, 1, 4, 7, 1, 8, 8, 6, 2, 3, 8, 1, 0, 2, 4, 0, 9, 7, 5, 3, 9, 6, 4, 1, 5, 5, 3, 7, 2, 5, 3, 0, 2, 9, 9, 6, 0, 7, 4, 1, 5, 3, 6, 4, 3, 0, 4, 3, 6, 8, 7, 1, 3, 7, 1, 2, 7, 3, 8, 5, 6, 3, 9, 8, 5, 9, 1, 4, 1, 3, 4, 1, 8, 8, 2, 9, 5, 3, 9, 2, 2, 7, 9, 7, 2, 8, 3, 7, 0, 7, 9, 1, 8, 9, 9, 7, 9, 3, 8, 7, 4, 7, 1, 8, 1, 3, 2, 5, 1, 5, 8, 0, 8, 3, 6, 6, 9, 3, 4, 6, 4, 7, 7, 1, 9, 4, 5, 9, 4, 1, 6, 2, 9, 8, 2, 7, 1, 2, 2, 3, 5, 4, 8, 0, 3, 4, 8, 7, 1, 9, 9, 5, 1, 4, 6, 7, 3, 6, 4, 9, 5, 6, 0, 3, 6, 8, 6, 3, 0, 3, 1, 3, 7, 3, 9, 8, 5, 0, 6, 2, 3, 6, 1, 5, 4, 4, 2, 1, 9, 0, 8, 9, 3, 7, 9, 5, 8, 6, 1, 8, 3, 9, 6, 6, 6, 2, 7, 2, 3, 6, 0, 4, 4, 9, 1, 4, 1, 9, 9, 1, 9, 3, 1, 5, 9, 8, 7, 8, 5, 8, 1, 8, 2, 2, 3, 9, 4, 0, 4, 5, 0, 2, 6, 2, 2, 8, 4, 7, 5, 6, 5, 4, 3, 0, 1, 9, 3, 8, 9, 4, 6, 6, 9, 8, 4, 4, 3, 4, 1, 0, 6, 8, 0, 5, 3, 7, 0, 7, 9, 5, 1, 7, 0, 2, 2, 5, 2, 2, 8, 3, 6, 1, 7, 6, 5, 1, 7, 7, 0, 2, 8, 5, 4, 4, 8, 1, 5, 6, 6, 5, 2, 6, 6, 0, 5, 1, 4, 3, 6, 0, 1, 2, 9, 4, 1, 8, 8, 3, 2, 8, 6, 8, 3, 6, 7, 5, 4, 1, 7, 1, 6, 9, 9, 2, 3, 5, 9, 5, 5, 2, 2, 8, 7, 9, 6, 1, 8, 0, 8, 8, 9, 6, 7, 8, 8, 4, 9, 7, 7, 1, 6, 9, 0, 6, 8, 3, 7, 2, 5, 2, 3, 3, 4, 6, 6, 3, 8, 6, 2, 1, 7, 7, 1, 0, 4, 4, 6, 6, 1, 9, 7, 0, 4, 7, 9, 5, 9, 6, 8, 6, 5, 7, 7, 3, 5, 9, 8, 7, 7, 6, 0, 6, 8, 2, 9, 4, 1, 2, 4, 4, 5, 8, 5, 2, 7, 0, 9, 1, 9, 1, 7, 2, 9, 0, 2, 4, 4, 2, 9, 3, 0, 0, 5, 1, 5, 9, 5, 8, 0, 5, 8, 2, 4, 8, 2, 0, 7, 7, 2, 6, 9, 6, 8, 7, 6, 0, 1, 6, 9, 3, 5, 3, 6, 2, 8, 5, 3, 2, 6, 6, 7, 3, 9, 3, 1, 6, 2, 6, 8, 6, 1, 7, 1, 5, 9, 1, 3, 2, 9, 7, 2, 9, 5, 9, 8, 5, 8, 9, 7, 8, 4, 9, 8, 0, 5, 6, 3, 8, 4, 0, 4, 8, 5, 2, 4, 7, 6, 0, 6, 4, 9, 7, 9, 1, 7, 0, 4, 5, 8, 9, 9, 6, 3, 6, 3, 6, 8, 8, 0, 1, 5, 9, 6, 3, 7, 5, 2, 0, 5, 7, 4, 6, 0, 5, 9, 7, 7, 0, 6, 2, 1, 4, 0, 4, 8, 7, 6, 0, 0, 9, 8, 5, 5, 5, 5, 0, 0, 1, 3, 0, 9, 5, 7, 1, 9, 4, 3, 4, 4, 8, 9, 8, 6, 0, 4, 3, 0, 4, 8, 7, 7, 0, 5, 1, 1, 7, 7, 0, 1, 8, 8, 9, 9, 7, 2, 7, 8, 9, 0, 0, 5, 1, 0, 7, 4, 0, 8, 9, 3, 8, 3, 7, 9, 3, 0, 1, 8, 0, 7, 9, 4, 8, 8, 8, 7, 5, 9, 6, 9, 6, 4, 7, 6, 4, 8, 3, 3, 9, 1, 6, 7, 8, 0, 7, 8, 9, 1, 6, 1, 5, 0, 1, 1, 5, 7, 9, 2, 5, 8, 9, 7, 7, 2, 6, 3, 5, 6, 5, 6, 2, 2, 4, 1, 3, 1, 0, 7, 9, 6, 7, 1, 2, 9, 4, 1, 6, 3, 1, 4, 0, 6, 7, 5, 3, 4, 2, 6, 8, 5, 3, 5, 2, 2, 0, 8, 4, 6, 6, 9, 4, 1, 8, 9, 8, 3, 0, 8, 7, 5, 4, 1, 7, 5, 0, 8, 3, 9, 5, 3, 0, 9, 3, 5, 1, 1, 0, 4, 3, 6, 7, 4, 9, 9, 3, 7, 4, 3, 3, 0, 3, 0, 6, 9, 2, 1, 7, 3, 5, 2, 1, 9, 1, 9, 7, 7, 7, 5, 2, 3, 1, 2, 0, 0, 3, 5, 1, 7, 7, 9, 5, 9, 2, 3, 9, 2, 4, 4, 3, 5, 1, 8, 4, 1, 9, 1, 1, 8, 4, 3, 9, 6, 7, 0, 7, 8, 7, 9, 5, 0, 0, 8, 3, 2, 8, 9, 2, 3, 9, 4, 1, 2, 9, 3, 0, 3, 2, 1, 9, 3, 9, 0, 4, 3, 3, 8, 4, 8, 9, 9, 7, 9, 7, 7, 3, 8, 0, 8, 0, 2, 5, 3, 3, 0, 8, 6, 0, 5, 3, 9, 4, 1, 1, 0, 3, 0, 9, 2, 9, 6, 3, 1, 5, 1, 7, 4, 3, 9, 5, 8, 5, 7, 5, 8, 8, 9, 2, 3, 2, 1, 8, 8, 8, 7, 8, 6, 0, 6, 1, 3, 3, 9, 8, 1, 9, 5, 3, 6, 6, 1, 0, 7, 5, 1, 9, 0, 8, 2, 2, 8, 2, 0, 2, 4, 7, 9, 3, 9, 6, 3, 8, 0, 6, 7, 9, 8, 6, 8, 6, 6, 9, 3, 5, 1, 3, 3, 1, 2, 5, 7, 6, 2, 1, 2, 8, 9, 6, 4, 1, 7, 3, 5, 2, 9, 0, 6, 9, 6, 8, 1, 2, 1, 1, 4, 4, 2, 1, 6, 5, 7, 1, 0, 4, 6, 6, 7, 9, 7, 4, 7, 5, 4, 1, 4, 6, 5, 5, 9, 9, 1, 9, 6, 4, 8, 0, 9, 2, 1, 0, 0, 0, 7, 8, 6, 3, 1, 2, 4, 6, 7, 1, 1, 8, 8, 2, 9, 5, 6, 3, 8, 9, 6, 1, 8, 6, 5, 1, 0, 8, 5, 1, 6, 4, 0, 1, 7, 1, 5, 9, 1, 6, 9, 0, 3, 5, 5, 9, 3, 4, 6, 4, 5, 9, 7, 6, 2, 5, 8, 9, 3, 4, 0, 9, 6, 2, 5, 9, 0, 5, 7, 8, 1, 3, 9, 3, 0, 2, 3, 1, 3, 1, 5, 5, 0, 1, 9, 5, 9, 7, 8, 3, 0, 8, 0, 5, 5, 6, 0, 0, 5, 3, 6, 0, 0, 8, 5, 3, 0, 2, 0, 7, 4, 7, 7, 9, 2, 0, 1, 8, 4, 5, 2, 5, 1, 6, 0, 3, 1, 8, 0, 9, 6, 7, 9, 2, 4, 6, 0, 4, 6, 1, 2, 1, 6, 3, 2, 0, 4, 7, 9, 9, 2, 9, 3, 8, 2, 8, 5, 7, 1, 6, 4, 0, 4, 7, 6, 6, 1, 8, 7, 1, 2, 4, 6, 2, 5, 3, 8, 9, 2, 8, 7, 5, 1, 5, 3, 8, 0, 1, 0, 4, 7, 1, 8, 5, 9, 4, 8, 8, 2, 9, 5, 3, 2, 1, 1, 4, 2, 1, 2, 7, 7, 1, 8, 7, 5, 9, 6, 0, 9, 6, 6, 1, 8, 5, 9, 1, 4, 1, 5, 0, 5, 3, 0, 0, 9, 9, 5, 2, 6, 4, 7, 2, 8, 0, 5, 4, 7, 5, 0, 7, 8, 6, 0, 1, 4, 0, 1, 5, 7, 3, 6, 1, 0, 3, 9, 4, 4, 8, 1, 1, 4, 9, 6, 5, 2, 0, 2, 7, 9, 3, 1, 1, 1, 9, 0, 1, 7, 5, 7, 4, 0, 9, 3, 6, 5, 8, 2, 6, 0, 5, 7, 3, 1, 3, 8, 8, 3, 1, 0, 7, 2, 9, 3, 4, 7, 7, 5, 2, 6, 8, 1, 1, 0, 4, 0, 4, 5, 8, 0, 8, 0, 1, 1, 0, 7, 4, 1, 7, 3, 3, 7, 0, 9, 1, 9, 9, 0, 3, 1, 8, 9, 2, 3, 7, 7, 9, 9, 1, 2, 3, 9, 1, 7, 0, 2, 4, 1, 6, 9, 5, 8, 4, 8, 8, 2, 3, 6, 2, 5, 9, 0, 9, 0, 0, 2, 0, 7, 6, 9, 5, 6, 5, 5, 3, 4, 1, 2, 5, 9, 4, 4, 6, 0, 5, 5, 4, 1, 3, 3, 0, 3, 2, 6, 6, 6, 4, 7, 0, 0, 1, 0, 1, 0, 7, 9, 2, 0, 4, 5, 8, 8, 0, 3, 8, 9, 2, 0, 3, 8, 7, 2, 0, 6, 5, 5, 3, 3, 2, 3, 7, 9, 2, 5, 9, 0, 5, 7, 8, 6, 9, 2, 0, 0, 6, 9, 6, 1, 3, 3, 6, 7, 9, 9, 6, 3, 2, 0, 2, 4, 9, 2, 8, 5, 2, 6, 5, 0, 1, 2, 8, 3, 0, 3, 8, 0, 5, 0, 2, 3, 7, 8, 8, 8, 1, 5, 0, 8, 8, 1, 7, 4, 9, 2, 2, 2, 1, 3, 4, 2, 4, 3, 2, 6, 7, 6, 7, 4, 7, 8, 9, 2, 4, 0, 0, 0, 7, 0, 5, 4, 2, 4, 6, 3, 0, 3, 4, 2, 4, 1, 6, 6, 4, 8, 7, 5, 0, 7, 9, 3, 0, 5, 7, 8, 5, 4, 7, 8, 5, 4, 1, 4, 4, 5, 5, 1, 0, 2, 4, 0, 5, 3, 5, 8, 3, 6, 0, 7, 4, 3, 4, 9, 7, 0, 6, 7, 6, 8, 7, 2, 7, 0, 8, 4, 7, 1, 6, 2, 4, 5, 3, 3, 6, 3, 6, 1, 4, 5, 8, 5, 8, 6, 9, 0, 6, 4, 4, 2, 6, 0, 6, 4, 5, 1, 7, 9, 8, 6, 3, 6, 7, 5, 4, 7, 2, 3, 2, 8, 3, 8, 7, 5, 3, 2, 6, 7, 5, 7, 7, 7, 6, 2, 4, 6, 3, 1, 9, 4, 2, 2, 6, 8, 7, 0, 1, 4, 8, 2, 1, 5, 9, 0, 7, 7, 4, 0, 7, 8, 6, 5, 7, 3, 6, 5, 5, 5, 7, 6, 6, 0, 3, 5, 9, 3, 2, 1, 9, 1, 6, 4, 1, 5, 7, 0, 6, 6, 7, 1, 8, 2, 2, 1, 2, 5, 7, 0, 8, 9, 1, 9, 7, 6, 8, 3, 6, 2, 2, 7, 4, 4, 5, 1, 6, 9, 8, 4, 0, 6, 3, 1, 3, 9, 9, 8, 5, 8, 4, 5, 0, 4, 2, 3, 1, 9, 2, 0, 4, 6, 5, 0, 3, 8, 2, 8, 6, 7, 2, 6, 9, 0, 2, 6, 8, 2, 8, 7, 1, 7, 1, 8, 1, 2, 1, 9, 2, 5, 8, 3, 5, 5, 3, 6, 9, 1, 3, 1, 2, 5, 0, 6, 7, 1, 0, 1, 8, 3, 3, 5, 6, 3, 8, 7, 7, 3, 0, 0, 3, 6, 2, 5, 8, 2, 7, 9, 0, 8, 9, 2, 8, 0, 4, 4, 1, 2, 7, 3, 8, 1, 0, 7, 7, 7, 0, 8, 9, 4, 4, 2, 7, 1, 8, 8, 9, 6, 7, 8, 8, 2, 8, 5, 8, 9, 2, 7, 7, 8, 6, 1, 3, 1, 3, 6, 0, 5, 4, 9, 0, 2, 6, 4, 2, 2, 1, 1, 6, 4, 7, 6, 7, 5, 7, 9, 0, 2, 1, 8, 7, 1, 2, 0, 6, 6, 5, 5, 2, 9, 2, 2, 8, 0, 0, 3, 5, 1, 7, 2, 3, 3, 9, 0, 8, 0, 0, 0, 2, 5, 3, 2, 1, 7, 0, 0, 2, 1, 5, 2, 5, 5, 1, 8, 1, 1, 1, 3, 0, 7, 3, 3, 4, 2, 3, 3, 0, 3, 2, 6, 1, 8, 7, 7, 7, 6, 5, 4, 4, 5, 6, 3, 0, 8, 8, 8, 5, 7, 0, 0, 0, 1, 3, 3, 5, 5, 4, 0, 5, 3, 3, 6, 3, 3, 8, 3, 5, 0, 5, 2, 1, 5, 7, 0, 2, 7, 0, 7, 5, 3, 2, 0, 2, 3, 1, 1, 1, 3, 2, 7, 5, 9, 4, 5, 0, 4, 0, 6, 4, 6, 6, 2, 2, 9, 6, 4, 1, 4, 2, 9, 7, 3, 1, 3, 9, 3, 7, 5, 2, 4, 1, 3, 0, 9, 0, 9, 8, 6, 7, 1, 3, 9, 2, 8, 7, 7, 0, 1, 4, 5, 7, 4, 8, 0, 9, 0, 6, 2, 7, 7, 6, 6, 4, 4, 8, 7, 0, 4, 0, 5, 2, 4, 5, 6, 6, 3, 9, 9, 0, 1, 8, 7, 2, 2, 8, 7, 7, 4, 5, 6, 8, 9, 3, 1, 3, 2, 3, 2, 6, 4, 3, 0, 8, 9, 1, 1, 5, 0, 8, 9, 5, 8, 6, 6, 2, 8, 2, 4, 4, 4, 9, 1, 6, 9, 5, 9, 7, 7, 8, 7, 4, 2, 6, 6, 5, 0, 0, 9, 0, 4, 3, 5, 2, 2, 1, 4, 6, 0, 5, 9, 4, 4, 4, 4, 1, 0, 2, 4, 6, 3, 4, 5, 2, 3, 6, 2, 8, 7, 5, 7, 7, 2, 6, 0, 4, 1, 0, 9, 0, 1, 7, 5, 7, 2, 9, 6, 8, 3, 8, 6, 4, 6, 9, 0, 2, 1, 4, 4, 6, 9, 2, 7, 9, 8, 1, 0, 3, 2, 3, 6, 4, 2, 2, 7, 4, 9, 6, 8, 0, 8, 3, 5, 9, 9, 8, 3, 9, 6, 2, 8, 0, 5, 2, 5, 8, 6, 3, 8, 5, 1, 8, 4, 6, 3, 2, 4, 2, 0, 0, 8, 1, 3, 2, 7, 0, 7, 8, 3, 9, 2, 1, 3, 0, 3, 9, 0, 5, 6, 5, 7, 7, 5, 4, 8, 1, 3, 9, 3, 7, 3, 2, 6, 8, 1, 7, 6, 3, 0, 7, 8, 0, 7, 4, 8, 0, 4, 8, 0, 1, 5, 7, 4, 9, 2, 5, 5, 9, 2, 7, 2, 7, 6, 1, 5, 7, 0, 1, 7, 2, 5, 9, 0, 5, 5, 1, 0, 5, 1, 6, 7, 1, 0, 0, 7, 8, 1, 4, 1, 6, 9, 0, 1, 2, 3, 2, 8, 9, 9, 8, 3, 5, 4, 4, 7, 6, 3, 3, 6, 3, 4, 0, 6, 2, 9, 9, 3, 2, 0, 1, 8, 9, 5, 5, 6, 5, 0, 8, 5, 5, 3, 3, 2, 4, 3, 0, 8, 5, 2, 4, 3, 4, 4, 3, 5, 6, 7, 6, 6, 1, 3, 3, 1, 3, 3, 3, 1, 4, 8, 4, 5, 8, 2, 0, 1, 5, 5, 1, 7, 5, 4, 6, 3, 3, 5, 9, 6, 1, 7, 0, 3, 0, 4, 3, 8, 1, 0, 5, 8, 5, 6, 7, 8, 3, 5, 8, 6, 5, 1, 5, 5, 2, 5, 9, 8, 3, 9, 5, 7, 7, 2, 8, 3, 0, 6, 0, 8, 1, 5, 9, 4, 8, 7, 8, 2, 8, 9, 8, 6, 0, 0, 7, 3, 9, 4, 4, 3, 7, 3, 3, 3, 5, 5, 4, 5, 7, 4, 8, 4, 3, 8, 9, 4, 0, 0, 7, 0, 8, 7, 0, 6, 8, 6, 8, 0, 4, 1, 9, 2, 3, 4, 7, 5, 4, 0, 0, 7, 0, 7, 3, 4, 0, 6, 0, 1, 4, 6, 0, 5, 2, 8, 5, 3, 5, 1, 6, 6, 2, 2, 9, 2, 4, 6, 7, 9, 0, 9, 5, 6, 1, 0, 6, 5, 4, 2, 7, 5, 6, 6, 1, 0, 5, 8, 1, 1, 5, 2, 4, 2, 0, 4, 5, 7, 6, 9, 7, 8, 5, 4, 1, 7, 1, 5, 7, 6, 6, 4, 0, 1, 3, 9, 2, 3, 5, 2, 8, 7, 7, 0, 6, 4, 5, 7, 7, 9, 4, 3, 6, 2, 8, 5, 6, 0, 8, 9, 8, 1, 1, 2, 2, 6, 6, 1, 7, 7, 5, 5, 0, 2, 3, 3, 8, 5, 1, 7, 2, 2, 0, 4, 6, 3, 3, 6, 9, 7, 8, 2, 6, 4, 0, 3, 8, 9, 9, 3, 7, 4, 3, 8, 7, 3, 4, 4, 2, 7, 3, 4, 9, 1, 4, 9, 6, 9, 6, 6, 7, 0, 0, 3, 6, 9, 1, 1, 0, 4, 9, 6, 5, 5, 2, 3, 2, 6, 3, 8, 9, 2, 6, 9, 4, 1, 9, 0, 3, 3, 2, 6, 0, 2, 9, 0, 8, 3, 7, 0, 1, 3, 5, 9, 9, 9, 5, 8, 9, 7, 0, 2, 6, 9, 3, 4, 5, 6, 1, 0, 5, 3, 5, 7, 7, 5, 2, 8, 3, 7, 8, 9, 0, 9, 6, 3, 3, 0, 7, 4, 4, 0, 9, 2, 5, 9, 6, 8, 7, 9, 2, 1, 0, 9, 4, 6, 3, 1, 6, 7, 4, 9, 2, 5, 5, 5, 1, 6, 0, 1, 9, 5, 1, 0, 1, 0, 6, 6, 7, 3, 0, 6, 1, 6, 0, 1, 8, 5, 2, 3, 8, 4, 4, 9, 5, 6, 7, 8, 3, 7, 8, 8, 2, 3, 8, 9, 4, 1, 3, 9, 4, 2, 6, 9, 6, 3, 0, 5, 3, 1, 2, 4, 4, 8, 3, 7, 5, 6, 9, 0, 5, 6, 8, 1, 4, 5, 0, 4, 2, 8, 2, 8, 9, 6, 9, 5, 3, 2, 8, 6, 1, 9, 3, 3, 0, 7, 0, 7, 7, 5, 1, 2, 8, 5, 8, 5, 5, 2, 2, 0, 0, 5, 1, 2, 8, 3, 0, 5, 2, 2, 8, 3, 6, 8, 6, 7, 5, 8, 7, 6, 8, 6, 0, 9, 3, 7, 2, 6, 6, 0, 7, 9, 3, 6, 4, 2, 8, 2, 8, 7, 9, 2, 8, 5, 9, 2, 3, 8, 0, 9, 6, 9, 1, 6, 6, 4, 2, 6, 5, 5, 8, 8, 6, 1, 2, 6, 3, 6, 8, 6, 1, 7, 8, 5, 9, 3, 8, 5, 7, 1, 0, 7, 3, 3, 9, 2, 7, 2, 2, 1, 6, 0, 7, 2, 6, 4, 2, 6, 7, 5, 5, 2, 5, 5, 2, 3, 9, 7, 0, 2, 1, 9, 1, 7, 1, 1, 1, 1, 0, 4, 1, 2, 0, 4, 3, 5, 1, 2, 8, 4, 2, 6, 1, 0, 0, 5, 7, 1, 8, 7, 7, 6, 1, 2, 0, 3, 6, 5, 4, 3, 8, 4, 5, 1, 0, 6, 8, 6, 3, 8, 8, 6, 6, 0, 0, 7, 1, 7, 4, 9, 9, 5, 1, 4, 8, 4, 5, 6, 7, 3, 7, 7, 4, 0, 1, 5, 6, 5, 6, 4, 1, 8, 5, 8, 3, 9, 9, 1, 0, 5, 4, 6, 4, 8, 5, 6, 9, 9, 2, 6, 5, 7, 2, 0, 7, 9, 9, 6, 2, 7, 2, 3, 2, 7, 8, 6, 1, 1, 7, 3, 3, 6, 5, 7, 0, 6, 2, 6, 0, 4, 5, 6, 7, 0, 7, 4, 1, 2, 2, 0, 6, 6, 0, 6, 6, 1, 4, 9, 3, 8, 8, 9, 8, 7, 2, 5, 7, 9, 9, 9, 6, 2, 1, 7, 1, 3, 8, 3, 1, 8, 9, 4, 4, 6, 3, 8, 7, 1, 9, 1, 9, 6, 1, 1, 3, 5, 1, 4, 6, 4, 6, 5, 9, 8, 3, 9, 8, 3, 5, 8, 0, 9, 7, 1, 6, 0, 7, 0, 9, 4, 1, 0, 2, 5, 6, 5, 5, 0, 9, 0, 9, 1, 8, 9, 4, 6, 8, 7, 6, 6, 9, 1, 5, 1, 0, 2, 6, 3, 1, 2, 8, 5, 9, 9, 1, 7, 3, 3, 2, 6, 8, 3, 4, 2, 6, 5, 3, 5, 0, 8, 5, 2, 1, 2, 0, 7, 3, 4, 3, 3, 3, 3, 5, 9, 7, 8, 3, 0, 6, 7, 2, 6, 2, 0, 2, 3, 9, 3, 1, 2, 1, 8, 8, 5, 8, 8, 4, 9, 4, 5, 2, 5, 8, 5, 0, 2, 8, 6, 9, 9, 3, 0, 9, 1, 4, 8, 8, 2, 7, 0, 8, 3, 9, 6, 4, 3, 1, 7, 9, 1, 6, 6, 9, 8, 9, 8, 3, 9, 3, 9, 7, 2, 2, 4, 0, 7, 6, 9, 1, 1, 4, 8, 5, 2, 3, 8, 0, 4, 1, 9, 2, 4, 9, 2, 1, 4, 9, 9, 0, 3, 9, 9, 3, 7, 0, 2, 8, 3, 8, 0, 9, 7, 7, 8, 8, 7, 9, 3, 5, 9, 8, 5, 5, 9, 5, 7, 0, 6, 5, 7, 3, 3, 3, 9, 7, 0, 8, 2, 2, 7, 6, 7, 5, 6, 7, 8, 0, 5, 4, 3, 0, 7, 4, 3, 1, 4, 8, 4, 3, 4, 8, 6, 8, 3, 0, 0, 0, 6, 3, 6, 5, 1, 2, 5, 7, 7, 2, 5, 3, 1, 5, 5, 1, 1, 1, 0, 0, 4, 1, 5, 6, 7, 2, 5, 7, 5, 4, 5, 9, 2, 2, 9, 2, 0, 2, 9, 0, 2, 9, 7, 2, 9, 3, 6, 4, 2, 9, 5, 0, 8, 0, 7, 9, 4, 6, 0, 8, 5, 2, 1, 7, 1, 9, 5, 2, 6, 1, 2, 7, 3, 6, 5, 6, 8, 9, 2, 5, 9, 8, 2, 5, 4, 7, 7, 4, 3, 7, 0, 7, 9, 1, 4, 7, 7, 9, 4, 0, 9, 7, 5, 9, 6, 4, 7, 9, 2, 6, 7, 5, 2, 4, 9, 0, 6, 0, 1, 4, 5, 0, 9, 9, 3, 4, 7, 9, 1, 4, 2, 8, 5, 7, 3, 4, 7, 3, 8, 2, 4, 7, 5, 9, 9, 1, 5, 6, 2, 5, 9, 3, 1, 1, 0, 9, 1, 4, 3, 5, 6, 4, 7, 9, 5, 4, 2, 4, 2, 4, 7, 5, 4, 8, 1, 3, 7, 4, 7, 3, 1, 3, 3, 9, 5, 7, 4, 3, 0, 5, 1, 7, 5, 0, 6, 5, 6, 0, 8, 4, 8, 4, 8, 3, 4, 1, 7, 9, 5, 3, 1, 4, 1, 8, 3, 6, 9, 9, 4, 8, 9, 4, 7, 8, 5, 1, 8, 9, 4, 5, 9, 2, 2, 5, 4, 2, 2, 5, 7, 3, 3, 6, 8, 2, 5, 9, 5, 9, 7, 3, 4, 2, 8, 4, 4, 8, 8, 2, 7, 7, 0, 1, 5, 8, 9, 2, 7, 2, 8, 1, 2, 5, 4, 5, 2, 0, 2, 1, 4, 0, 9, 7, 0, 6, 1, 6, 9, 3, 3, 4, 7, 5, 4, 9, 1, 3, 3, 6, 4, 1, 9, 0, 8, 4, 4, 9, 4, 5, 8, 8, 7, 7, 1, 7, 7, 9, 9, 0, 7, 4, 9, 2, 0, 0, 2, 4, 6, 1, 5, 7, 7, 8, 8, 9, 0, 7, 8, 4, 4, 3, 5, 5, 8, 8, 3, 9, 0, 2, 1, 4, 0, 2, 3, 7, 7, 0, 2, 6, 9, 1, 9, 7, 6, 6, 1, 3, 2, 5, 5, 5, 6, 3, 2, 7, 1, 4, 1, 6, 2, 0, 4, 4, 5, 3, 5, 2, 9, 9, 7, 3, 3, 7, 6, 3, 9, 6, 2, 9, 7, 8, 5, 6, 6, 0, 1, 1, 2, 1, 9, 6, 4, 3, 0, 3, 4, 5, 5, 3, 1, 4, 7, 9, 0, 9, 2, 5, 9, 3, 8, 6, 0, 3, 7, 5, 5, 9, 7, 9, 2, 6, 3, 4, 4, 9, 2, 0, 8, 7, 4, 1, 0, 0, 6, 1, 0, 4, 4, 7, 6, 9, 2, 2, 7, 5, 7, 9, 2, 2, 4, 1, 1, 9, 2, 9, 4, 1, 2, 0, 3, 2, 4, 4, 5, 3, 3, 3, 0, 3, 4, 4, 1, 0, 7, 6, 5, 4, 4, 3, 5, 5, 5, 7, 4, 1, 6, 7, 0, 7, 3, 4, 3, 4, 9, 1, 2, 6, 8, 7, 8, 7, 9, 3, 4, 7, 9, 3, 1, 8, 2, 3, 7, 9, 5, 4, 4, 1, 8, 1, 3, 2, 5, 2, 0, 1, 5, 3, 8, 1, 1, 3, 3, 4, 9, 0, 5, 0, 8, 4, 5, 1, 4, 0, 9, 7, 5, 5, 9, 5, 8, 7, 6, 7, 3, 3, 9, 5, 0, 4, 4, 3, 5, 1, 9, 2, 2, 8, 9, 0, 4, 2, 0, 5, 3, 1, 1, 7, 1, 4, 0, 0, 2, 2, 7, 2, 6, 1, 3, 6, 2, 4, 7, 9, 8, 0, 8, 9, 9, 4, 9, 9, 5, 6, 5, 5, 5, 9, 3, 8, 6, 1, 5, 2, 6, 0, 5, 9, 3, 6, 7, 8, 9, 4, 6, 2, 9, 8, 1, 4, 2, 7, 0, 6, 5, 8, 6, 9, 7, 1, 5, 4, 6, 8, 5, 4, 6, 4, 4, 5, 2, 4, 9, 7, 5, 8, 2, 7, 5, 1, 6, 1, 1, 7, 3, 5, 4, 8, 7, 4, 3, 6, 0, 2, 4, 3, 1, 9, 7, 5, 7, 3, 0, 0, 0, 4, 4, 2, 0, 3, 3, 0, 9, 8, 6, 0, 9, 0, 3, 1, 5, 0, 5, 4, 1, 9, 8, 6, 7, 7, 4, 6, 4, 5, 9, 8, 5, 0, 4, 5, 5, 6, 1, 4, 3, 4, 4, 2, 9, 5, 6, 6, 3, 2, 2, 6, 4, 2, 7, 2, 9, 2, 3, 6, 0, 1, 4, 8, 4, 2, 4, 4, 5, 8, 0, 2, 2, 4, 4, 0, 6, 6, 7, 1, 8, 6, 1, 1, 7, 1, 4, 5, 8, 0, 2, 4, 4, 5, 2, 0, 9, 9, 3, 6, 9, 5, 7, 5, 4, 8, 0, 4, 4, 8, 0, 1, 7, 3, 8, 2, 8, 3, 1, 2, 4, 9, 2, 8, 9, 0, 0, 6, 2, 3, 2, 4, 3, 2, 8, 0, 6, 9, 7, 9, 6, 7, 9, 9, 0, 4, 7, 7, 9, 1, 6, 2, 4, 2, 9, 1, 7, 1, 3, 3, 2, 9, 9, 5, 9, 2, 9, 2, 6, 4, 2, 5, 2, 7, 1, 6, 9, 4, 3, 6, 1, 3, 0, 6, 6, 8, 4, 4, 8, 9, 9, 8, 3, 3, 8, 9, 0, 4, 1, 6, 1, 3, 4, 4, 4, 6, 5, 7, 7, 1, 7, 0, 0, 8, 3, 1, 8, 4, 0, 0, 4, 6, 4, 1, 6, 3, 5, 9, 8, 1, 7, 3, 4, 6, 8, 3, 4, 5, 3, 5, 6, 9, 8, 8, 5, 7, 3, 8, 9, 2, 5, 6, 5, 6, 0, 7, 3, 2, 2, 0, 6, 6, 5, 5, 5, 8, 9, 9, 9, 2, 7, 3, 8, 1, 5, 3, 0, 2, 2, 0, 9, 6, 1, 0, 5, 7, 5, 3, 8, 1, 9, 4, 9, 5, 2, 3, 4, 0, 4, 7, 8, 8, 2, 1, 1, 5, 9, 3, 3, 9, 2, 2, 6, 9, 6, 3, 2, 2, 1, 2, 8, 7, 0, 2, 0, 9, 3, 4, 9, 7, 4, 0, 3, 0, 3, 4, 7, 2, 6, 3, 6, 0, 1, 5, 5, 3, 1, 7, 7, 5, 0, 7, 3, 0, 7, 7, 8, 9, 9, 3, 4, 9, 4, 4, 9, 1, 6, 1, 2, 3, 5, 9, 9, 2, 4, 1, 6, 5, 5, 5, 9, 8, 1, 9, 9, 4, 0, 1, 9, 2, 4, 9, 5, 8, 9, 7, 2, 7, 2, 3, 7, 5, 1, 6, 3, 0, 5, 6, 5, 7, 9, 5, 8, 7, 8, 8, 6, 5, 2, 8, 4, 4, 7, 0, 8, 4, 4, 8, 0, 6, 8, 8, 5, 4, 8, 0, 2, 8, 2, 8, 0, 1, 5, 8, 1, 6, 0, 2, 4, 3, 2, 2, 5, 3, 6, 4, 7, 2, 5, 8, 8, 4, 9, 5, 4, 5, 5, 7, 2, 8, 4, 4, 9, 9, 0, 8, 5, 3, 1, 3, 9, 0, 3, 7, 0, 5, 7, 4, 7, 7, 9, 5, 8, 3, 4, 5, 4, 8, 5, 6, 6, 6, 7, 7, 0, 8, 6, 0, 4, 7, 6, 3, 4, 0, 5, 1, 5, 0, 5, 4, 5, 2, 9, 5, 7, 7, 1, 0, 8, 5, 9, 8, 9, 8, 0, 0, 3, 4, 9, 2, 3, 5, 7, 1, 6, 9, 2, 5, 9, 8, 5, 8, 9, 2, 0, 8, 9, 2, 7, 0, 7, 8, 1, 4, 5, 6, 3, 1, 9, 6, 9, 7, 5, 0, 1, 4, 0, 9, 1, 8, 5, 1, 0, 9, 6, 8, 4, 0, 7, 8, 0, 1, 9, 3, 6, 5, 7, 1, 0, 2, 1, 3, 3, 7, 2, 6, 0, 3, 0, 0, 8, 1, 4, 4, 1, 6, 2, 7, 1, 9, 5, 7, 4, 3, 2, 0, 9, 1, 3, 6, 2, 3, 1, 6, 6, 5, 0, 1, 9, 8, 3, 0, 5, 5, 9, 4, 7, 4, 3, 4, 1, 3, 5, 0, 1, 7, 3, 4, 8, 1, 7, 6, 1, 5, 3, 0, 5, 5, 2, 1, 4, 1, 5, 4, 7, 7, 8, 7, 1, 6, 2, 2, 3, 1, 7, 2, 0, 2, 8, 2, 7, 7, 9, 9, 3, 1, 9, 2, 8, 0, 1, 8, 9, 5, 3, 7, 0, 8, 3, 6, 1, 0, 6, 0, 9, 3, 6, 5, 7, 4, 5, 1, 3, 7, 4, 7, 8, 8, 3, 7, 3, 2, 9, 4, 2, 3, 1, 2, 4, 9, 4, 7, 6, 4, 6, 5, 2, 4, 1, 2, 6, 0, 0, 8, 6, 7, 1, 7, 0, 4, 1, 6, 9, 3, 4, 1, 1, 6, 7, 1, 7, 7, 9, 4, 7, 7, 6, 8, 8, 7, 9, 0, 3, 1, 7, 0, 4, 3, 9, 0, 5, 5, 4, 1, 5, 6, 0, 2, 2, 4, 2, 4, 9, 8, 0, 4, 9, 7, 9, 6, 3, 2, 8, 7, 5, 3, 7, 1, 1, 4, 5, 1, 7, 4, 5, 6, 3, 6, 4, 7, 7, 6, 9, 4, 9, 7, 5, 7, 1, 8, 0, 1, 8, 0, 4, 0, 0, 1, 6, 1, 6, 4, 8, 1, 2, 5, 5, 8, 9, 5, 8, 1, 4, 4, 2, 1, 7, 5, 8, 7, 1, 1, 5, 0, 2, 0, 6, 9, 0, 5, 2, 3, 9, 8, 0, 3, 4, 1, 4, 3, 4, 9, 4, 0, 5, 6, 8, 8, 6, 1, 2, 7, 9, 3, 3, 8, 2, 4, 1, 5, 9, 4, 5, 5, 5, 5, 2, 1, 2, 4, 1, 2, 4, 5, 9, 1, 9, 0, 6, 3, 2, 9, 9, 0, 3, 1, 0, 7, 9, 7, 6, 3, 7, 6, 9, 4, 3, 6, 4, 9, 2, 6, 9, 0, 1, 6, 1, 8, 7, 5, 4, 4, 5, 9, 9, 7, 1, 1, 6, 8, 2, 7, 2, 0, 0, 0, 2, 5, 9, 9, 4, 0, 5, 2, 5, 8, 6, 4, 9, 6, 1, 8, 3, 1, 6, 2, 3, 8, 5, 2, 5, 0, 7, 5, 8, 6, 3, 1, 8, 8, 3, 5, 5, 5, 1, 5, 2, 0, 6, 7, 3, 9, 0, 8, 9, 2, 7, 6, 7, 0, 3, 2, 9, 5, 8, 6, 7, 4, 7, 6, 0, 7, 0, 4, 5, 3, 7, 1, 5, 1, 3, 4, 2, 7, 6, 6, 9, 5, 4, 7, 0, 3, 4, 6, 8, 6, 8, 6, 9, 7, 2, 7, 8, 4, 6, 7, 6, 6, 5, 6, 8, 5, 4, 5, 9, 0, 3, 9, 0, 5, 2, 2, 5, 7, 2, 4, 3, 7, 0, 1, 9, 7, 3, 1, 5, 1, 6, 9, 1, 5, 8, 1, 1, 6, 1, 6, 9, 9, 2, 8, 9, 0, 9, 5, 2, 1, 7, 3, 4, 3, 2, 0, 1, 9, 4, 8, 3, 2, 6, 7, 9, 2, 7, 0, 9, 9, 7, 3, 5, 4, 4, 7, 7, 1, 9, 3, 4, 0, 1, 8, 3, 6, 7, 4, 9, 3, 2, 2, 5, 4, 3, 1, 8, 4, 9, 5, 4, 9, 1, 6, 6, 3, 3, 6, 2, 5, 4, 4, 1, 5, 1, 2, 0, 4, 6, 1, 1, 9, 0, 1, 0, 2, 5, 6, 3, 5, 5, 1, 9, 0, 7, 7, 7, 1, 2, 8, 1, 6, 2, 2, 4, 2, 4, 0, 6, 5, 0, 4, 1, 9, 3, 4, 5, 5, 5, 2, 6, 2, 0, 4, 2, 6, 3, 7, 1, 6, 2, 9, 0, 4, 5, 6, 5, 2, 0, 8, 8, 9, 1, 2, 8, 1, 2, 6, 5, 6, 5, 1, 7, 4, 3, 3, 0, 3, 9, 9, 0, 3, 2, 8, 8, 2, 9, 7, 4, 3, 9, 9, 7, 0, 3, 5, 7, 5, 7, 6, 5, 0, 3, 5, 7, 8, 4, 5, 3, 6, 0, 2, 7, 5, 6, 3, 4, 5, 5, 0, 8, 4, 6, 5, 9, 2, 6, 0, 4, 4, 9, 5, 4, 5, 5, 5, 7, 6, 1, 8, 1, 7, 0, 4, 0, 8, 4, 2, 7, 3, 3, 9, 8, 6, 5, 9, 5, 1, 9, 8, 9, 1, 4, 3, 3, 2, 4, 1, 0, 3, 4, 0, 4, 4, 4, 1, 4, 8, 7, 2, 4, 1, 1, 6, 8, 3, 4, 1, 3, 7, 3, 2, 7, 6, 0, 1, 3, 6, 1, 1, 4, 3, 5, 0, 2, 0, 8, 4, 5, 7, 0, 2, 3, 7, 4, 3, 3, 1, 8, 8, 5, 1, 5, 9, 1, 1, 2, 9, 5, 5, 7, 5, 8, 2, 5, 1, 6, 6, 1, 2, 9, 3, 0, 0, 2, 7, 6, 5, 9, 2, 1, 8, 4, 1, 5, 2, 9, 3, 4, 1, 0, 7, 4, 9, 0, 9, 5, 2, 3, 4, 2, 7, 7, 1, 0, 8, 9, 5, 9, 5, 4, 4, 7, 1, 9, 9, 5, 1, 7, 0, 4, 7, 9, 7, 0, 8, 0, 7, 0, 8, 7, 0, 6, 1, 2, 8, 8, 0, 9, 9, 2, 2, 2, 7, 1, 1, 4, 8, 1, 3, 6, 2, 7, 5, 5, 2, 9, 8, 7, 5, 3, 8, 8, 6, 1, 1, 9, 9, 5, 4, 1, 3, 7, 0, 5, 9, 7, 2, 4, 0, 5, 9, 1, 5, 7, 0, 8, 6, 1, 5, 3, 3, 8, 6, 7, 9, 1, 6, 3, 6, 6, 2, 5, 3, 5, 6, 5, 9, 3, 9, 0, 3, 2, 5, 1, 4, 6, 3, 3, 3, 9, 8, 3, 7, 7, 7, 1, 5, 3, 5, 1, 4, 9, 7, 8, 3, 1, 8, 5, 5, 2, 4, 7, 7, 5, 3, 0, 5, 4, 2, 9, 1, 9, 4, 7, 2, 1, 3, 8, 4, 0, 9, 8, 8, 0, 2, 9, 0, 5, 7, 6, 7, 4, 1, 8, 1, 4, 4, 4, 9, 9, 3, 8, 2, 5, 8, 2, 6, 7, 3, 4, 3, 9, 4, 2, 1, 6, 2, 9, 0, 6, 9, 6, 3, 6, 4, 0, 4, 4, 4, 6, 0, 9, 6, 6, 6, 3, 5, 4, 9, 3, 9, 9, 9, 1, 0, 6, 1, 1, 9, 6, 7, 4, 2, 5, 4, 4, 9, 4, 5, 1, 8, 2, 6, 7, 4, 3, 0, 6, 9, 1, 5, 5, 1, 8, 9, 1, 2, 0, 4, 0, 3, 7, 2, 9, 7, 3, 0, 4, 2, 4, 6, 3, 7, 9, 9, 9, 8, 1, 4, 0, 0, 8, 1, 3, 7, 9, 2, 2, 9, 4, 4, 7, 9, 3, 1, 0, 0, 6, 4, 9, 6, 7, 7, 9, 2, 8, 3, 3, 4, 1, 5, 1, 7, 9, 7, 1, 9, 7, 1, 3, 6, 3, 6, 6, 4, 0, 2, 9, 9, 6, 9, 0, 1, 8, 9, 2, 1, 1, 0, 6, 9, 3, 7, 4, 9, 8, 4, 6, 5, 2, 0, 7, 0, 3, 9, 2, 4, 5, 1, 6, 4, 3, 5, 0, 9, 6, 3, 1, 8, 3, 1, 4, 5, 4, 5, 2, 1, 5, 7, 3, 0, 1, 5, 1, 4, 6, 0, 7, 6, 1, 6, 1, 0, 8, 1, 0, 1, 4, 6, 0, 6, 0, 6, 2, 2, 1, 2, 9, 5, 2, 5, 7, 9, 0, 1, 1, 6, 1, 7, 3, 1, 1, 8, 8, 1, 8, 7, 5, 3, 7, 3, 1, 7, 6, 8, 4, 1, 7, 6, 8, 9, 9, 0, 3, 0, 6, 8, 0, 5, 0, 8, 2, 1, 1, 0, 9, 7, 2, 9, 4, 2, 7, 9, 6, 5, 7, 6, 4, 8, 2, 0, 7, 4, 0, 4, 7, 7, 8, 6, 5, 2, 6, 4, 4, 0, 2, 0, 6, 5, 6, 9, 6, 5, 7, 6, 2, 5, 6, 5, 5, 1, 3, 4, 3, 5, 8, 0, 9, 5, 2, 4, 4, 7, 8, 6, 1, 1, 5, 0, 0, 8, 2, 7, 2, 9, 4, 4, 8, 5, 3, 2, 5, 6, 6, 8, 1, 1, 9, 5, 2, 6, 9, 6, 8, 9, 3, 9, 7, 3, 7, 0, 4, 8, 1, 2, 3, 5, 3, 5, 7, 5, 8, 6, 6, 9, 5, 3, 7, 9, 5, 3, 6, 4, 3, 0, 1, 2, 4, 9, 1, 5, 8, 8, 8, 3, 8, 0, 7, 5, 2, 3, 1, 7, 0, 3, 4, 8, 5, 0, 8, 1, 9, 4, 0, 3, 7, 8, 2, 3, 2, 9, 0, 6, 9, 5, 5, 8, 2, 1, 0, 9, 0, 6, 2, 0, 9, 3, 5, 1, 3, 8, 4, 7, 1, 4, 9, 8, 2, 2, 7, 7, 7, 1, 8, 6, 4, 0, 2, 0, 1, 0, 1, 1, 6, 2, 5, 6, 9, 1, 8, 5, 1, 8, 7, 5, 8, 6, 3, 5, 2, 8, 9, 5, 3, 6, 3, 2, 1, 6, 6, 9, 5, 1, 5, 0, 5, 9, 2, 4, 3, 8, 9, 7, 0, 7, 1, 9, 1, 7, 0, 2, 2, 0, 4, 8, 0, 8, 8, 9, 5, 9, 4, 0, 3, 5, 9, 4, 2, 2, 4, 7, 5, 1, 8, 7, 7, 0, 7, 7, 0, 5, 2, 7, 6, 9, 4, 5, 5, 4, 1, 0, 4, 2, 2, 3, 1, 6, 0, 9, 3, 7, 2, 7, 8, 7, 5, 2, 9, 7, 0, 3, 0, 7, 4, 2, 0, 5, 8, 3, 4, 7, 0, 0, 7, 9, 7, 4, 7, 9, 2, 8, 1, 8, 6, 2, 4, 6, 2, 2, 5, 3, 3, 7, 6, 7, 8, 8, 6, 3, 1, 8, 8, 6, 9, 4, 1, 9, 3, 7, 1, 0, 3, 2, 2, 8, 2, 1, 1, 5, 5, 2, 2, 1, 0, 7, 7, 6, 9, 8, 4, 0, 8, 8, 7, 2, 0, 2, 6, 0, 7, 8, 0, 6, 4, 4, 9, 7, 7, 2, 4, 1, 7, 8, 8, 0, 6, 9, 6, 6, 9, 0, 5, 4, 5, 5, 0, 5, 1, 8, 1, 8, 1, 8, 6, 3, 5, 4, 4, 0, 8, 5, 5, 9, 1, 7, 2, 3, 8, 8, 0, 9, 5, 8, 4, 8, 7, 6, 1, 1, 3, 1, 5, 5, 6, 6, 4, 7, 1, 6, 0, 5, 9, 1, 1, 1, 1, 3, 8, 2, 1, 2, 6, 5, 5, 5, 0, 9, 4, 1, 7, 7, 9, 8, 4, 1, 1, 4, 6, 5, 6, 3, 4, 5, 0, 6, 3, 7, 4, 5, 9, 0, 2, 6, 6, 3, 4, 8, 9, 4, 2, 0, 3, 0, 5, 5, 7, 0, 3, 4, 8, 0, 3, 3, 9, 8, 4, 2, 3, 7, 8, 1, 1, 1, 8, 6, 0, 0, 0, 8, 5, 0, 2, 7, 3, 0, 6, 5, 4, 7, 0, 1, 8, 5, 2, 6, 7, 7, 1, 2, 8, 7, 1, 2, 2, 1, 9, 7, 1, 2, 6, 7, 8, 7, 0, 9, 8, 2, 5, 4, 3, 9, 2, 9, 0, 8, 8, 8, 6, 1, 8, 8, 6, 3, 7, 9, 4, 0, 0, 2, 2, 0, 5, 5, 4, 2, 8, 3, 8, 1, 1, 8, 5, 9, 7, 6, 1, 3, 5, 7, 1, 8, 6, 1, 1, 8, 5, 5, 6, 9, 6, 1, 7, 6, 0, 9, 3, 0, 8, 3, 4, 8, 9, 1, 9, 2, 2, 9, 8, 9, 7, 6, 2, 5, 3, 7, 1, 0, 6, 0, 2, 7, 2, 1, 2, 4, 1, 5, 6, 6, 3, 1, 3, 5, 5, 8, 1, 4, 2, 3, 2, 1, 2, 8, 9, 5, 0, 7, 6, 7, 6, 8, 8, 7, 4, 9, 1, 2, 6, 5, 9, 4, 2, 5, 1, 0, 1, 1, 9, 0, 7, 5, 3, 9, 6, 3, 3, 3, 4, 1, 5, 9, 7, 7, 2, 9, 0, 2, 8, 5, 9, 6, 7, 8, 4, 0, 4, 9, 2, 7, 1, 0, 5, 1, 8, 1, 6, 5, 9, 7, 0, 4, 5, 2, 3, 5, 5, 6, 0, 2, 1, 1, 5, 8, 5, 2, 4, 2, 2, 5, 3, 0, 3, 0, 2, 9, 1, 1, 7, 3, 8, 5, 4, 5, 9, 6, 5, 6, 4, 4, 5, 5, 1, 1, 5, 6, 2, 5, 0, 8, 6, 2, 2, 6, 8, 8, 6, 7, 4, 0, 4, 1, 5, 4, 2, 0, 3, 0, 9, 5, 7, 8, 1, 1, 7, 8, 8, 3, 0, 0, 4, 7, 9, 6, 0, 9, 9, 9, 2, 1, 1, 7, 4, 3, 7, 5, 5, 7, 9, 3, 6, 9, 7, 5, 7, 1, 7, 0, 5, 6, 7, 3, 0, 4, 5, 1, 1, 8, 8, 6, 3, 2, 9, 7, 8, 1, 3, 9, 8, 6, 9, 2, 4, 4, 1, 4, 2, 4, 5, 2, 0, 1, 5, 1, 2, 1, 2, 0, 2, 4, 4, 1, 1, 2, 9, 5, 6, 4, 2, 8, 7, 2, 7, 4, 0, 2, 6, 5, 8, 8, 9, 7, 7, 3, 0, 4, 1, 3, 0, 0, 8, 7, 5, 9, 8, 7, 5, 0, 1, 4, 5, 6, 9, 2, 2, 3, 4, 5, 4, 6, 1, 8, 0, 7, 0, 7, 8, 4, 5, 6, 8, 0, 3, 4, 4, 5, 9, 5, 3, 2, 1, 1, 2, 1, 2, 3, 7, 8, 0, 8, 6, 0, 2, 4, 9, 8, 8, 7, 0, 3, 2, 6, 8, 6, 5, 3, 3, 7, 4, 5, 9, 1, 4, 3, 3, 7, 5, 6, 9, 2, 4, 4, 0, 5, 8, 4, 5, 9, 3, 1, 9, 9, 2, 8, 6, 7, 9, 5, 2, 5, 8, 1, 5, 0, 2, 0, 9, 8, 5, 7, 0, 4, 7, 3, 5, 8, 3, 6, 2, 9, 5, 6, 5, 2, 7, 8, 1, 0, 7, 2, 2, 9, 2, 8, 1, 0, 7, 7, 8, 9, 4, 4, 0, 9, 7, 1, 7, 9, 7, 7, 8, 3, 4, 0, 6, 0, 0, 7, 7, 3, 8, 7, 4, 4, 2, 8, 1, 0, 5, 4, 8, 8, 1, 1, 7, 8, 4, 4, 2, 3, 2, 2, 7, 5, 1, 1, 3, 8, 3, 9, 1, 4, 9, 2, 0, 4, 6, 2, 1, 8, 5, 4, 2, 3, 5, 2, 3, 2, 6, 5, 8, 7, 6, 1, 0, 8, 1, 3, 6, 1, 2, 6, 1, 6, 0, 7, 4, 5, 4, 5, 9, 8, 2, 5, 4, 8, 8, 8, 2, 6, 2, 8, 8, 1, 0, 4, 5, 0, 0, 4, 5, 2, 9, 6, 4, 4, 8, 1, 2, 2, 8, 1, 0, 6, 0, 7, 0, 5, 3, 2, 5, 8, 1, 9, 4, 7, 7, 8, 4, 7, 1, 5, 9, 7, 8, 9, 4, 1, 4, 7, 6, 0, 9, 9, 5, 7, 6, 1, 3, 2, 3, 3, 0, 6, 8, 9, 5, 9, 7, 1, 6, 2, 4, 3, 3, 6, 4, 5, 0, 7, 4, 6, 0, 2, 0, 9, 7, 4, 8, 2, 6, 0, 0, 3, 8, 6, 0, 6, 3, 2, 1, 4, 9, 4, 7, 5, 9, 9, 6, 5, 9, 3, 6, 6, 4, 2, 5, 4, 2, 2, 8, 3, 0, 0, 9, 4, 8, 8, 1, 5, 0, 6, 0, 1, 8, 9, 9, 1, 7, 0, 3, 2, 4, 9, 5, 9, 7, 8, 1, 5, 2, 8, 2, 6, 0, 3, 2, 7, 7, 2, 1, 4, 9, 1, 4, 9, 7, 2, 4, 6, 3, 5, 6, 8, 3, 2, 5, 2, 8, 9, 1, 2, 0, 1, 9, 5, 0, 2, 5, 9, 5, 3, 2, 6, 4, 3, 0, 0, 5, 1, 5, 1, 4, 1, 9, 5, 4, 7, 3, 9, 5, 6, 4, 2, 6, 9, 9, 0, 2, 5, 9, 4, 5, 9, 3, 1, 6, 2, 6, 5, 0, 0, 8, 2, 1, 6, 0, 1, 2, 1, 3, 3, 8, 3, 5, 9, 6, 7, 7, 8, 5, 9, 2, 5, 2, 1, 0, 8, 9, 3, 9, 3, 9, 9, 3, 2, 3, 9, 7, 1, 1, 3, 9, 2, 2, 8, 3, 4, 2, 1, 5, 4, 2, 9, 7, 6, 4, 6, 4, 4, 7, 1, 7, 3, 8, 8, 3, 1, 0, 6, 6, 1, 4, 6, 3, 2, 5, 0, 1, 4, 9, 7, 7, 4, 0, 6, 0, 0, 5, 4, 6, 2, 8, 2, 0, 3, 3, 1, 4, 6, 9, 8, 7, 8, 5, 3, 2, 9, 1, 7, 9, 8, 2, 1, 4, 2, 8, 8, 9, 3, 8, 6, 1, 3, 5, 3, 4, 4, 5, 8, 9, 2, 4, 7, 6, 2, 1, 3, 4, 8, 7, 4, 4, 3, 2, 0, 5, 7, 1, 4, 2, 2, 0, 3, 7, 9, 9, 4, 9, 1, 9, 0, 2, 6, 4, 6, 0, 6, 4, 1, 0, 0, 4, 8, 4, 6, 7, 6, 4, 6, 1, 0, 7, 8, 5, 7, 0, 0, 5, 9, 3, 9, 7, 9, 8, 6, 7, 2, 8, 4, 1, 6, 1, 9, 3, 8, 1, 4, 1, 5, 6, 9, 8, 7, 8, 4, 0, 3, 8, 4, 0, 3, 5, 9, 4, 0, 2, 4, 0, 7, 9, 2, 3, 6, 0, 5, 0, 2, 7, 6, 3, 7, 9, 3, 7, 2, 5, 8, 7, 1, 7, 5, 3, 7, 8, 9, 1, 0, 8, 2, 4, 0, 2, 4, 2, 9, 9, 9, 1, 9, 3, 9, 0, 3, 5, 8, 1, 2, 5, 3, 0, 7, 6, 2, 4, 5, 0, 4, 5, 8, 4, 7, 2, 7, 8, 5, 9, 2, 2, 6, 5, 5, 2, 1, 5, 0, 7, 3, 8, 8, 4, 2, 5, 9, 2, 2, 5, 4, 4, 5, 2, 5, 3, 8, 9, 9, 8, 8, 6, 1, 7, 2, 4, 8, 9, 3, 1, 6, 3, 7, 0, 4, 8, 0, 0, 4, 9, 2, 5, 4, 7, 3, 9, 9, 8, 0, 6, 1, 1, 1, 3, 8, 0, 9, 1, 6, 5, 1, 5, 6, 1, 9, 9, 5, 7, 6, 0, 5, 8, 1, 7, 4, 8, 1, 0, 6, 5, 2, 8, 5, 6, 3, 6, 3, 5, 1, 6, 6, 3, 6, 4, 0, 5, 3, 1, 3, 5, 3, 1, 1, 4, 7, 5, 7, 8, 1, 6, 4, 3, 9, 4, 0, 0, 1, 4, 8, 2, 8, 2, 7, 2, 9, 6, 9, 2, 3, 3, 5, 6, 8, 8, 8, 5, 9, 8, 8, 8, 5, 2, 7, 1, 3, 1, 8, 6, 3, 3, 5, 0, 8, 1, 3, 9, 7, 0, 1, 1, 9, 4, 7, 0, 0, 7, 9, 7, 5, 8, 8, 5, 5, 2, 7, 5, 5, 4, 6, 2, 2, 2, 6, 9, 5, 6, 7, 2, 6, 4, 5, 1, 3, 5, 8, 1, 0, 7, 5, 0, 8, 1, 9, 1, 3, 5, 4, 6, 8, 8, 3, 3, 7, 7, 5, 7, 8, 8, 1, 2, 6, 4, 2, 5, 1, 2, 7, 4, 8, 6, 2, 4, 1, 9, 0, 2, 0, 9, 1, 2, 4, 9, 5, 2, 2, 3, 9, 1, 9, 6, 1, 6, 5, 5, 7, 4, 4, 2, 2, 5, 4, 1, 6, 8, 8, 6, 7, 8, 2, 1, 7, 7, 1, 1, 9, 6, 7, 8, 8, 1, 5, 7, 8, 2, 6, 9, 7, 3, 1, 0, 8, 7, 6, 2, 3, 1, 3, 5, 1, 4, 7, 1, 1, 6, 8, 5, 6, 7, 0, 7, 7, 2, 8, 1, 7, 4, 3, 8, 7, 0, 8, 2, 8, 6, 2, 2, 5, 2, 9, 8, 3, 7, 6, 3, 6, 9, 8, 9, 9, 7, 8, 0, 8, 4, 2, 1, 6, 0, 6, 9, 3, 2, 3, 9, 3, 6, 3, 1, 6, 5, 2, 2, 0, 6, 3, 3, 6, 8, 2, 2, 2, 6, 9, 8, 8, 8, 8, 6, 2, 4, 6, 4, 7, 4, 4, 0, 7, 3, 2, 5, 3, 9, 5, 8, 7, 1, 4, 6, 6, 3, 0, 6, 7, 9, 2, 6, 8, 6, 9, 0, 3, 7, 8, 3, 4, 6, 6, 2, 7, 2, 4, 0, 7, 1, 5, 2, 4, 7, 2, 3, 8, 0, 7, 9, 4, 5, 2, 6, 0, 8, 9, 7, 2, 2, 5, 2, 2, 8, 8, 3, 6, 2, 1, 3, 7, 4, 0, 4, 6, 9, 1, 8, 1, 7, 4, 4, 5, 9, 7, 2, 7, 0, 1, 1, 9, 5, 8, 3, 7, 7, 8, 2, 2, 9, 1, 3, 4, 8, 9, 1, 9, 8, 3, 5, 3, 9, 2, 4, 5, 4, 2, 5, 1, 8, 7, 5, 0, 5, 6, 5, 3, 5, 2, 8, 6, 8, 9, 3, 5, 7, 6, 9, 2, 7, 5, 6, 8, 6, 5, 4, 6, 8, 5, 1, 3, 4, 0, 1, 4, 7, 8, 0, 5, 0, 8, 7, 8, 7, 6, 1, 0, 6, 3, 3, 1, 9, 3, 1, 8, 4, 3, 5, 4, 9, 2, 4, 6, 8, 9, 1, 5, 2, 6, 2, 7, 8, 3, 4, 8, 6, 9, 5, 3, 3, 1, 0, 2, 9, 9, 6, 8, 5, 4, 9, 8, 1, 5, 5, 0, 3, 5, 6, 8, 7, 0, 1, 6, 1, 0, 7, 6, 8, 9, 8, 9, 1, 4, 5, 4, 1, 8, 7, 6, 5, 0, 8, 3, 2, 0, 4, 8, 6, 6, 4, 2, 6, 9, 2, 5, 4, 9, 2, 8, 0, 1, 8, 5, 8, 3, 4, 0, 4, 4, 1, 2, 2, 6, 2, 5, 4, 5, 1, 3, 9, 8, 0, 5, 8, 7, 7, 1, 2, 9, 7, 1, 8, 0, 6, 0, 5, 8, 3, 8, 4, 6, 4, 7, 1, 7, 7, 3, 2, 9, 2, 9, 8, 7, 1, 6, 1, 4, 4, 6, 6, 3, 4, 0, 0, 9, 2, 9, 1, 8, 8, 7, 1, 2, 4, 9, 4, 2, 9, 9, 2, 9, 4, 1, 7, 8, 7, 6, 5, 5, 1, 6, 2, 1, 8, 3, 7, 9, 5, 6, 5, 6, 8, 4, 3, 6, 4, 7, 5, 2, 2, 4, 9, 6, 7, 6, 2, 8, 9, 6, 2, 8, 9, 8, 5, 7, 0, 6, 2, 7, 2, 9, 3, 6, 9, 7, 9, 1, 1, 8, 5, 6, 6, 5, 0, 9, 7, 4, 8, 6, 4, 3, 9, 8, 7, 4, 4, 2, 7, 6, 8, 1, 0, 5, 6, 6, 6, 4, 3, 9, 0, 5, 0, 4, 5, 3, 9, 9, 7, 8, 7, 2, 5, 7, 5, 9, 8, 0, 9, 2, 5, 2, 9, 3, 2, 0, 6, 1, 6, 5, 4, 6, 6, 0, 2, 4, 1, 3, 5, 4, 8, 0, 9, 6, 3, 3, 9, 3, 9, 3, 3, 7, 8, 4, 8, 9, 8, 9, 7, 5, 3, 7, 1, 2, 0, 6, 8, 8, 6, 4, 6, 3, 1, 3, 9, 8, 4, 3, 2, 6, 6, 7, 1, 8, 0, 6, 5, 8, 1, 7, 4, 4, 0, 9, 1, 7, 1, 5, 0, 9, 6, 6, 7, 8, 7, 8, 1, 0, 9, 6, 5, 3, 3, 0, 5, 3, 2, 7, 8, 7, 9, 6, 1, 9, 0, 1, 9, 7, 0, 7, 4, 5, 5, 8, 2, 4, 2, 7, 5, 0, 1, 7, 4, 3, 4, 9, 0, 6, 1, 5, 2, 8, 5, 0, 4, 4, 8, 7, 3, 0, 8, 4, 0, 4, 6, 2, 4, 2, 5, 7, 0, 8, 6, 2, 8, 8, 9, 9, 9, 1, 3, 5, 2, 3, 2, 5, 2, 4, 8, 3, 7, 3, 5, 0, 2, 0, 2, 6, 7, 0, 6, 9, 9, 4, 2, 7, 4, 0, 2, 9, 7, 6, 3, 0, 8, 0, 5, 6, 0, 6, 1, 9, 3, 8, 1, 4, 8, 0, 0, 8, 5, 4, 4, 9, 7, 3, 1, 4, 2, 9, 2, 9, 6, 2, 0, 3, 0, 9, 8, 9, 3, 8, 9, 7, 4, 5, 4, 4, 1, 5, 9, 5, 6, 6, 2, 3, 9, 4, 0, 8, 9, 3, 1, 2, 5, 8, 3, 0, 2, 3, 3, 0, 3, 9, 1, 7, 0, 7, 2, 7, 2, 7, 3, 9, 7, 9, 1, 3, 1, 7, 9, 9, 8, 2, 2, 1, 4, 6, 8, 3, 0, 6, 9, 9, 7, 8, 4, 3, 2, 8, 8, 5, 7, 4, 7, 0, 1, 0, 6, 9, 6, 0, 5, 5, 6, 6, 5, 8, 4, 1, 8, 0, 8, 0, 8, 7, 9, 1, 7, 6, 8, 4, 3, 5, 0, 0, 3, 0, 9, 3, 9, 4, 4, 1, 5, 6, 4, 3, 5, 0, 0, 8, 1, 7, 6, 5, 7, 6, 7, 9, 8, 4, 9, 8, 0, 6, 9, 3, 0, 1, 4, 9, 5, 0, 2, 1, 8, 4, 3, 1, 0, 3, 8, 9, 0, 4, 7, 4, 8, 5, 9, 2, 8, 4, 5, 2, 8, 4, 8, 7, 0, 4, 4, 7, 7, 4, 2, 0, 2, 9, 3, 1, 1, 7, 3, 7, 2, 4, 9, 4, 4, 3, 1, 8, 7, 2, 0, 2, 1, 3, 8, 6, 4, 0, 7, 0, 1, 3, 2, 8, 8, 5, 3, 0, 8, 2, 7, 2, 8, 2, 5, 6, 7, 5, 9, 6, 6, 6, 0, 5, 7, 6, 6, 0, 7, 1, 8, 3, 8, 5, 2, 7, 9, 8, 8, 3, 6, 8, 2, 6, 0, 5, 0, 1, 1, 4, 0, 8, 3, 3, 4, 7, 2, 0, 2, 0, 3, 9, 6, 7, 7, 4, 6, 5, 2, 4, 3, 6, 4, 3, 5, 8, 7, 6, 6, 0, 7, 3, 0, 1, 0, 3, 3, 2, 9, 7, 2, 1, 0, 6, 4, 7, 4, 3, 7, 1, 2, 2, 8, 6, 3, 8, 5, 8, 5, 7, 8, 2, 5, 0, 7, 6, 6, 0, 2, 1, 9, 7, 8, 9, 3, 0, 4, 4, 8, 8, 3, 4, 3, 5, 1, 6, 0, 2, 2, 1, 4, 0, 8, 1, 8, 8, 8, 9, 2, 5, 7, 2, 0, 1, 9, 1, 8, 9, 2, 4, 0, 2, 5, 2, 0, 0, 7, 1, 7, 1, 9, 7, 4, 1, 6, 4, 9, 4, 6, 7, 2, 6, 8, 1, 7, 3, 0, 8, 7, 0, 3, 3, 5, 8, 2, 7, 6, 5, 3, 4, 4, 3, 6, 0, 4, 3, 4, 2, 3, 7, 5, 5, 7, 8, 4, 6, 4, 6, 6, 0, 4, 8, 3, 4, 8, 2, 7, 7, 8, 5, 9, 9, 8, 9, 4, 5, 3, 5, 3, 3, 5, 8, 7, 8, 9, 1, 6, 5, 8, 7, 6, 2, 4, 6, 0, 8, 9, 5, 8, 8, 7, 1, 6, 2, 3, 1, 4, 7, 2, 9, 9, 4, 9, 0, 4, 7, 9, 3, 7, 5, 6, 9, 1, 0, 1, 2, 9, 6, 3, 4, 8, 7, 8, 9, 0, 3, 4, 6, 0, 8, 8, 4, 3, 8, 1, 1, 5, 0, 0, 6, 0, 3, 0, 7, 7, 4, 9, 5, 6, 7, 2, 7, 5, 2, 4, 8, 4, 7, 1, 6, 3, 4, 8, 1, 9, 4, 4, 5, 4, 5, 0, 7, 0, 0, 8, 9, 1, 9, 5, 7, 0, 0, 8, 3, 7, 6, 6, 8, 5, 2, 1, 4, 1, 3, 0, 1, 3, 3, 2, 7, 6, 6, 8, 4, 2, 6, 3, 7, 2, 8, 6, 7, 9, 3, 0, 7, 2, 2, 6, 0, 6, 6, 2, 9, 0, 8, 3, 8, 9, 0, 5, 1, 0, 4, 2, 9, 3, 8, 8, 8, 9, 2, 4, 3, 7, 0, 9, 1, 1, 8, 6, 7, 2, 9, 1, 0, 9, 6, 5, 8, 1, 7, 5, 6, 5, 4, 9, 4, 4, 5, 6, 8, 0, 6, 2, 5, 8, 9, 8, 6, 5, 5, 1, 6, 5, 3, 0, 4, 8, 9, 7, 5, 6, 5, 8, 4, 5, 4, 1, 5, 4, 0, 2, 2, 6, 3, 5, 5, 4, 5, 4, 8, 5, 6, 4, 5, 5, 1, 2, 3, 2, 9, 1, 6, 3, 8, 7, 2, 5, 4, 8, 9, 5, 4, 8, 5, 3, 3, 1, 6, 2, 0, 0, 8, 5, 8, 5, 8, 1, 9, 0, 8, 9, 4, 3, 3, 5, 3, 1, 9, 5, 2, 9, 8, 6, 4, 6, 6, 0, 2, 6, 1, 8, 5, 5, 5, 8, 6, 4, 6, 6, 0, 6, 8, 0, 0, 7, 8, 5, 9, 9, 6, 3, 4, 1, 0, 0, 1, 8, 7, 5, 4, 5, 4, 4, 6, 5, 8, 8, 7, 2, 5, 4, 9, 0, 6, 0, 5, 6, 2, 4, 5, 7, 5, 1, 3, 8, 2, 3, 6, 5, 7, 9, 6, 3, 5, 9, 5, 8, 4, 4, 4, 0, 7, 8, 0, 5, 3, 1, 3, 3, 9, 1, 5, 2, 5, 9, 5, 4, 7, 6, 5, 2, 9, 6, 0, 8, 2, 5, 6, 1, 4, 4, 9, 3, 9, 9, 6, 0, 0, 4, 6, 0, 2, 7, 8, 6, 5, 8, 5, 1, 3, 2, 3, 1, 9, 6, 3, 8, 1, 4, 0, 2, 7, 6, 1, 7, 2, 4, 3, 5, 0, 5, 4, 0, 4, 8, 5, 3, 3, 7, 9, 0, 6, 4, 8, 4, 4, 5, 6, 7, 4, 2, 8, 2, 9, 9, 7, 4, 9, 8, 2, 3, 2, 3, 1, 5, 7, 4, 4, 5, 7, 3, 2, 3, 6, 7, 7, 2, 7, 3, 1, 2, 0, 9, 2, 8, 5, 4, 0, 1, 6, 8, 0, 1, 5, 6, 4, 5, 4, 6, 4, 7, 8, 4, 7, 9, 0, 9, 8, 5, 4, 2, 7, 2, 2, 1, 6, 0, 9, 9, 2, 6, 3, 8, 4, 4, 7, 1, 3, 4, 3, 3, 7, 2, 8, 1, 7, 2, 2, 8, 9, 8, 1, 3, 1, 4, 5, 0, 1, 8, 7, 2, 1, 6, 8, 5, 1, 0, 0, 4, 0, 3, 3, 3, 2, 2, 5, 2, 5, 7, 4, 6, 5, 8, 9, 8, 0, 9, 0, 9, 7, 7, 2, 0, 5, 7, 8, 9, 8, 3, 0, 5, 0, 5, 1, 8, 5, 4, 3, 3, 2, 4, 5, 6, 7, 2, 7, 3, 6, 0, 4, 1, 9, 2, 8, 4, 0, 4, 1, 7, 8, 7, 6, 5, 1, 8, 1, 4, 1, 5, 9, 6, 0, 7, 2, 2, 1, 1, 9, 4, 3, 3, 6, 6, 0, 4, 6, 1, 2, 9, 7, 4, 4, 4, 9, 8, 4, 8, 1, 0, 1, 8, 4, 2, 2, 0, 3, 1, 3, 4, 8, 1, 0, 0, 6, 4, 5, 6, 9, 0, 1, 6, 1, 4, 7, 0, 6, 1, 0, 5, 6, 1, 3, 2, 8, 7, 4, 3, 0, 5, 2, 1, 4, 4, 6, 3, 2, 2, 6, 4, 3, 9, 2, 5, 9, 1, 2, 8, 4, 5, 4, 2, 1, 2, 5, 5, 4, 5, 6, 7, 2, 3, 4, 2, 5, 1, 5, 1, 7, 6, 2, 5, 4, 5, 1, 0, 9, 8, 3, 5, 5, 1, 8, 2, 7, 0, 9, 1, 0, 3, 7, 5, 6, 5, 4, 8, 0, 3, 5, 0, 7, 7, 4, 7, 9, 3, 3, 0, 7, 7, 2, 1, 4, 3, 5, 3, 8, 4, 3, 4, 0, 2, 9, 0, 6, 4, 6, 6, 0, 4, 4, 3, 8, 4, 7, 3, 9, 2, 4, 2, 0, 6, 7, 4, 8, 8, 0, 3, 7, 7, 1, 9, 1, 3, 5, 2, 2, 7, 8, 1, 6, 4, 6, 2, 9, 6, 8, 8, 4, 3, 8, 6, 2, 9, 0, 1, 0, 9, 8, 0, 6, 0, 3, 5, 5, 6, 1, 3, 3, 5, 5, 9, 9, 9, 4, 5, 6, 9, 0, 7, 1, 8, 2, 3, 9, 2, 8, 0, 2, 2, 7, 0, 1, 0, 5, 5, 8, 2, 4, 8, 9, 0, 2, 3, 5, 4, 6, 5, 6, 7, 6, 0, 9, 4, 2, 7, 5, 5, 0, 4, 4, 2, 4, 9, 3, 7, 9, 9, 6, 0, 2, 6, 6, 2, 5, 7, 7, 6, 2, 4, 8, 4, 0, 2, 5, 1, 6, 4, 2, 0, 0, 3, 4, 2, 0, 4, 0, 6, 2, 2, 9, 8, 7, 4, 7, 3, 3, 7, 6, 4, 0, 2, 1, 8, 5, 2, 6, 8, 9, 1, 1, 6, 0, 6, 2, 1, 3, 9, 6, 8, 2, 6, 5, 7, 8, 5, 7, 6, 0, 7, 3, 1, 8, 9, 2, 6, 6, 5, 9, 1, 8, 8, 0, 0, 4, 2, 5, 8, 5, 5, 2, 4, 3, 7, 0, 7, 4, 2, 9, 0, 4, 7, 7, 9, 6, 6, 0, 4, 1, 1, 3, 3, 2, 0, 6, 7, 5, 3, 6, 5, 4, 1, 3, 8, 4, 1, 2, 0, 7, 6, 9, 2, 5, 6, 1, 1, 8, 6, 5, 5, 6, 5, 2, 3, 5, 3, 7, 9, 0, 9, 1, 8, 3, 1, 2, 5, 1, 0, 7, 2, 1, 8, 7, 3, 0, 8, 9, 4, 1, 7, 7, 8, 0, 6, 4, 9, 4, 4, 9, 4, 0, 9, 9, 4, 4, 4, 9, 2, 7, 9, 2, 7, 5, 0, 7, 4, 1, 6, 4, 7, 6, 3, 4, 1, 0, 8, 6, 4, 7, 2, 0, 6, 5, 4, 6, 1, 5, 5, 2, 3, 5, 0, 7, 8, 3, 6, 8, 3, 1, 4, 5, 3, 7, 5, 1, 4, 6, 7, 0, 9, 2, 6, 0, 6, 1, 4, 9, 5, 6, 9, 4, 2, 1, 4, 4, 1, 9, 5, 1, 4, 0, 1, 8, 4, 1, 7, 8, 5, 6, 6, 8, 8, 1, 7, 0, 5, 9, 0, 5, 6, 0, 2, 1, 7, 9, 7, 2, 2, 9, 3, 0, 0, 9, 8, 9, 6, 9, 6, 3, 3, 9, 6, 2, 2, 9, 5, 4, 0, 4, 6, 5, 3, 8, 4, 7, 7, 9, 4, 1, 9, 3, 2, 6, 9, 3, 8, 4, 8, 5, 0, 5, 7, 2, 4, 6, 7, 4, 4, 3, 2, 9, 0, 1, 3, 2, 5, 2, 5, 1, 9, 8, 3, 2, 7, 7, 1, 2, 1, 6, 2, 7, 2, 8, 5, 2, 7, 9, 0, 9, 1, 7, 8, 4, 4, 0, 9, 1, 0, 9, 8, 1, 2, 4, 5, 3, 5, 3, 7, 5, 3, 3, 2, 3, 6, 7, 6, 9, 9, 8, 5, 2, 5, 8, 9, 3, 0, 9, 1, 9, 2, 9, 2, 7, 3, 7, 0, 4, 1, 7, 9, 1, 2, 5, 9, 3, 3, 3, 3, 5, 0, 4, 7, 0, 0, 6, 3, 0, 5, 9, 2, 9, 5, 2, 0, 0, 7, 7, 9, 6, 1, 3, 1, 8, 0, 3, 7, 8, 4, 6, 7, 0, 1, 3, 6, 8, 3, 3, 5, 9, 4, 0, 4, 5, 1, 3, 5, 9, 6, 7, 8, 1, 4, 3, 6, 1, 0, 3, 2, 3, 4, 3, 7, 9, 0, 2, 1, 5, 2, 6, 5, 6, 9, 8, 4, 9, 7, 0, 5, 4, 0, 3, 8, 0, 5, 8, 3, 9, 5, 5, 0, 7, 3, 0, 6, 3, 7, 3, 0, 0, 0, 6, 8, 0, 2, 9, 7, 0, 5, 6, 3, 8, 6, 0, 6, 9, 6, 0, 0, 4, 6, 0, 8, 3, 1, 7, 6, 7, 3, 5, 9, 2, 4, 1, 2, 5, 3, 6, 5, 6, 5, 4, 3, 2, 1, 1, 1, 1, 7, 1, 1, 0, 2, 9, 9, 5, 6, 6, 9, 9, 2, 1, 1, 4, 0, 5, 9, 2, 4, 2, 8, 1, 6, 6, 8, 8, 5, 8, 1, 8, 3, 8, 0, 2, 4, 8, 5, 0, 7, 1, 0, 9, 5, 5, 7, 4, 2, 3, 5, 1, 4, 8, 0, 5, 0, 2, 0, 7, 4, 1, 9, 2, 0, 5, 5, 9, 8, 3, 8, 1, 6, 8, 6, 6, 6, 4, 1, 3, 9, 6, 2, 0, 7, 8, 1, 9, 3, 6, 6, 9, 3, 3, 7, 1, 1, 1, 7, 2, 4, 0, 4, 3, 8, 3, 0, 4, 9, 1, 9, 2, 1, 5, 2, 4, 5, 3, 3, 5, 2, 5, 0, 0, 7, 5, 4, 1, 6, 2, 3, 8, 3, 2, 0, 1, 2, 3, 9, 1, 5, 8, 6, 8, 6, 8, 4, 9, 4, 5, 4, 2, 2, 5, 5, 2, 9, 8, 3, 7, 4, 7, 4, 6, 0, 9, 1, 0, 0, 3, 5, 1, 7, 7, 7, 6, 3, 3, 6, 1, 4, 8, 1, 0, 9, 5, 7, 2, 4, 2, 7, 1, 0, 7, 4, 2, 1, 6, 6, 2, 4, 2, 1, 0, 9, 6, 7, 8, 7, 8, 7, 1, 0, 0, 3, 7, 0, 8, 9, 6, 1, 6, 0, 9, 7, 8, 2, 3, 8, 8, 3, 4, 5, 1, 1, 5, 5, 6, 2, 4, 2, 7, 9, 8, 6, 5, 0, 9, 8, 4, 3, 0, 8, 2, 0, 6, 5, 6, 2, 6, 1, 4, 7, 3, 4, 7, 8, 3, 7, 1, 4, 6, 7, 2, 0, 8, 4, 4, 3, 2, 1, 9, 1, 4, 8, 4, 5, 3, 9, 7, 7, 1, 8, 3, 3, 6, 2, 1, 4, 9, 7, 6, 8, 9, 8, 7, 2, 5, 1, 1, 2, 7, 3, 7, 0, 5, 5, 4, 1, 9, 8, 6, 5, 9, 5, 7, 2, 6, 9, 2, 3, 2, 9, 1, 7, 9, 5, 8, 8, 4, 3, 2, 9, 4, 5, 7, 2, 2, 6, 1, 0, 4, 8, 1, 0, 6, 9, 5, 4, 1, 9, 7, 1, 6, 4, 6, 2, 0, 9, 5, 3, 7, 3, 7, 8, 1, 6, 5, 1, 7, 6, 0, 2, 4, 5, 3, 1, 0, 8, 9, 2, 5, 0, 0, 3, 8, 2, 4, 3, 2, 6, 8, 7, 7, 8, 5, 8, 9, 9, 5, 4, 5, 3, 9, 9, 2, 9, 1, 9, 3, 7, 2, 1, 3, 8, 3, 1, 5, 2, 3, 2, 3, 2, 0, 3, 9, 2, 4, 6, 7, 9, 2, 7, 3, 7, 5, 2, 8, 9, 5, 3, 7, 1, 7, 8, 8, 8, 5, 9, 9, 8, 7, 2, 1, 5, 9, 1, 5, 9, 3, 0, 9, 6, 1, 5, 6, 6, 7, 3, 8, 0, 1, 9, 6, 5, 6, 2, 1, 2, 4, 9, 0, 7, 8, 4, 4, 6, 6, 5, 2, 0, 0, 7, 4, 1, 9, 9, 4, 4, 8, 8, 0, 3, 2, 3, 8, 7, 7, 4, 9, 9, 1, 4, 3, 7, 7, 3, 6, 1, 1, 2, 1, 7, 2, 0, 6, 6, 4, 7, 3, 0, 2, 2, 8, 2, 6, 7, 2, 8, 1, 4, 1, 8, 2, 6, 9, 3, 2, 9, 5, 0, 9, 1, 2, 7, 6, 9, 5, 5, 8, 1, 4, 2, 9, 8, 4, 6, 6, 9, 0, 3, 7, 3, 3, 2, 6, 2, 2, 8, 8, 8, 3, 5, 5, 3, 6, 2, 0, 9, 9, 9, 4, 2, 4, 4, 7, 1, 6, 1, 0, 8, 6, 6, 4, 8, 3, 8, 6, 2, 6, 5, 7, 3, 1, 8, 4, 0, 6, 8, 6, 1, 2, 4, 1, 1, 5, 3, 5, 0, 6, 7, 7, 7, 3, 0, 8, 9, 3, 0, 6, 7, 8, 7, 1, 1, 0, 1, 0, 6, 9, 4, 5, 2, 9, 9, 5, 7, 2, 2, 5, 4, 5, 5, 6, 3, 3, 8, 4, 0, 0, 2, 0, 8, 0, 4, 4, 9, 6, 5, 3, 5, 0, 8, 4, 0, 6, 5, 6, 6, 0, 9, 3, 2, 4, 3, 9, 9, 9, 6, 4, 4, 1, 3, 0, 0, 7, 0, 4, 8, 6, 0, 7, 2, 5, 1, 8, 4, 1, 6, 9, 5, 6, 0, 9, 3, 1, 5, 6, 6, 3, 7, 4, 1, 1, 9, 5, 1, 8, 8, 4, 6, 5, 4, 6, 1, 3, 6, 4, 8, 7, 2, 0, 6, 1, 0, 1, 5, 8, 3, 2, 5, 5, 5, 4, 5, 9, 9, 7, 1, 5, 7, 7, 6, 1, 3, 4, 3, 5, 0, 0, 6, 3, 5, 9, 6, 1, 9, 7, 3, 2, 9, 7, 8, 8, 1, 9, 2, 6, 6, 7, 5, 9, 5, 5, 4, 4, 9, 5, 2, 3, 5, 5, 3, 1, 5, 8, 8, 8, 4, 2, 8, 6, 7, 7, 3, 1, 9, 7, 1, 1, 2, 9, 1, 8, 1, 6, 1, 3, 7, 9, 0, 7, 0, 6, 6, 6, 1, 5, 2, 6, 1, 2, 7, 2, 5, 6, 3, 3, 5, 4, 7, 0, 4, 1, 5, 6, 9, 0, 5, 3, 4, 0, 0, 4, 6, 3, 6, 5, 7, 4, 9, 9, 2, 2, 6, 1, 8, 0, 6, 9, 3, 2, 4, 9, 2, 5, 9, 2, 9, 6, 8, 3, 8, 3, 2, 1, 8, 3, 2, 6, 3, 5, 0, 7, 9, 6, 1, 4, 9, 2, 3, 0, 3, 5, 6, 7, 7, 1, 7, 9, 3, 7, 3, 2, 1, 1, 8, 8, 5, 3, 6, 8, 9, 7, 1, 2, 4, 3, 7, 3, 4, 0, 5, 9, 2, 3, 1, 5, 8, 8, 1, 9, 0, 3, 1, 0, 9, 5, 4, 7, 9, 1, 5, 4, 1, 5, 5, 4, 5, 7, 9, 1, 0, 6, 5, 7, 2, 9, 2, 4, 7, 1, 2, 1, 3, 4, 9, 8, 2, 1, 4, 8, 0, 9, 1, 7, 3, 8, 9, 1, 6, 8, 0, 6, 6, 3, 7, 6, 0, 2, 9, 6, 6, 3, 3, 3, 6, 2, 1, 1, 2, 7, 8, 7, 2, 5, 4, 6, 8, 9, 6, 6, 6, 7, 0, 7, 6, 3, 5, 2, 9, 3, 1, 3, 6, 0, 7, 1, 4, 6, 7, 9, 8, 2, 3, 8, 4, 3, 1, 2, 0, 2, 0, 8, 4, 5, 7, 3, 5, 4, 2, 7, 9, 8, 2, 0, 3, 7, 5, 5, 9, 2, 8, 6, 8, 2, 8, 1, 4, 7, 8, 9, 0, 4, 8, 0, 9, 9, 4, 4, 4, 1, 5, 5, 2, 8, 5, 5, 0, 0, 9, 4, 8, 5, 0, 0, 9, 3, 3, 9, 1, 6, 0, 8, 8, 4, 6, 7, 3, 2, 7, 9, 6, 7, 6, 6, 3, 8, 6, 2, 5, 4, 3, 2, 9, 5, 9, 5, 1, 8, 5, 7, 7, 6, 7, 4, 2, 8, 3, 3, 5, 0, 8, 4, 9, 7, 7, 5, 2, 0, 9, 0, 2, 9, 6, 9, 0, 1, 5, 8, 2, 8, 0, 6, 3, 3, 5, 8, 7, 4, 7, 6, 0, 9, 0, 0, 0, 7, 0, 0, 3, 9, 5, 7, 1, 3, 3, 2, 8, 3, 9, 3, 3, 8, 8, 8, 6, 4, 9, 2, 3, 4, 2, 2, 2, 6, 3, 3, 8, 7, 0, 4, 2, 2, 8, 1, 3, 4, 0, 0, 0, 5, 7, 9, 9, 6, 7, 5, 1, 7, 2, 1, 1, 6, 7, 6, 0, 1, 8, 9, 2, 2, 6, 2, 6, 8, 2, 0, 1, 1, 1, 9, 3, 2, 8, 2, 2, 1, 8, 1, 8, 3, 0, 6, 1, 9, 0, 8, 3, 7, 0, 4, 9, 3, 0, 9, 7, 9, 7, 5, 2, 8, 5, 5, 0, 7, 9, 5, 4, 6, 4, 3, 1, 7, 1, 9, 0, 1, 2, 1, 7, 8, 5, 5, 0, 6, 4, 0, 4, 8, 0, 0, 8, 2, 7, 0, 9, 5, 8, 7, 3, 3, 4, 0, 4, 4, 9, 0, 6, 8, 3, 5, 6, 1, 8, 3, 4, 6, 5, 0, 8, 2, 3, 4, 2, 5, 1, 1, 6, 0, 4, 6, 3, 2, 9, 7, 3, 3, 1, 2, 4, 8, 5, 0, 5, 3, 7, 4, 0, 9, 2, 3, 3, 6, 3, 2, 7, 4, 7, 2, 5, 2, 8, 0, 8, 6, 2, 4, 5, 8, 5, 9, 6, 3, 5, 7, 2, 9, 8, 6, 5, 1, 0, 5, 7, 7, 5, 4, 4, 1, 4, 8, 2, 9, 9, 4, 7, 0, 3, 4, 7, 0, 0, 1, 1, 3, 9, 5, 6, 8, 2, 4, 8, 8, 3, 9, 5, 0, 9, 0, 5, 0, 3, 1, 0, 5, 0, 0, 3, 1, 3, 9, 6, 4, 6, 8, 4, 4, 6, 4, 1, 9, 2, 0, 6, 8, 4, 9, 2, 1, 6, 8, 9, 5, 3, 3, 3, 7, 6, 8, 1, 8, 7, 5, 6, 9, 8, 0, 3, 2, 2, 4, 0, 6, 4, 5, 0, 5, 1, 5, 9, 0, 5, 9, 4, 9, 1, 6, 6, 2, 8, 9, 8, 6, 8, 4, 7, 4, 9, 0, 5, 8, 3, 4, 7, 7, 0, 4, 1, 9, 6, 2, 5, 5, 4, 9, 2, 1, 2, 8, 7, 4, 1, 7, 1, 5, 2, 9, 2, 2, 9, 0, 6, 5, 8, 0, 8, 6, 0, 1, 9, 1, 3, 9, 8, 6, 2, 1, 4, 9, 2, 8, 8, 5, 2, 7, 0, 5, 0, 2, 8, 1, 7, 0, 1, 1, 8, 1, 5, 7, 3, 7, 9, 0, 0, 9, 6, 3, 1, 9, 8, 2, 7, 7, 2, 5, 0, 4, 3, 6, 9, 2, 8, 9, 2, 2, 2, 7, 0, 8, 8, 1, 7, 8, 0, 6, 9, 2, 5, 8, 9, 0, 6, 2, 9, 6, 4, 0, 6, 9, 6, 5, 9, 0, 5, 5, 1, 3, 3, 1, 1, 0, 3, 4, 0, 5, 0, 2, 2, 8, 7, 7, 3, 3, 2, 3, 9, 4, 5, 7, 4, 8, 1, 6, 6, 0, 1, 7, 2, 5, 2, 0, 1, 3, 4, 2, 7, 3, 9, 0, 4, 0, 1, 2, 5, 5, 1, 3, 1, 4, 9, 8, 4, 1, 4, 7, 9, 7, 7, 7, 6, 7, 5, 0, 5, 5, 2, 2, 8, 8, 1, 8, 9, 6, 6, 3, 2, 2, 0, 3, 2, 6, 4, 1, 2, 5, 4, 9, 6, 0, 1, 6, 2, 1, 6, 9, 2, 4, 0, 9, 2, 0, 0, 2, 1, 2, 1, 8, 7, 1, 5, 4, 7, 2, 2, 6, 0, 2, 3, 8, 4, 1, 5, 2, 8, 2, 0, 1, 8, 9, 2, 7, 3, 7, 6, 5, 9, 8, 8, 8, 9, 5, 3, 6, 2, 5, 6, 6, 5, 5, 4, 7, 8, 1, 8, 8, 3, 1, 4, 0, 8, 5, 3, 6, 6, 7, 3, 7, 4, 1, 0, 6, 0, 6, 3, 5, 1, 0, 3, 2, 3, 8, 1, 2, 5, 4, 9, 5, 1, 4, 2, 1, 5, 6, 6, 0, 1, 4, 2, 4, 2, 2, 2, 3, 9, 7, 0, 5, 1, 1, 2, 4, 7, 4, 6, 7, 0, 9, 7, 3, 6, 4, 1, 7, 9, 7, 6, 9, 8, 7, 7, 7, 5, 1, 0, 8, 5, 3, 8, 0, 4, 3, 8, 3, 8, 5, 4, 0, 1, 2, 0, 4, 2, 9, 2, 6, 8, 3, 1, 5, 7, 0, 4, 2, 1, 5, 6, 8, 2, 3, 3, 1, 9, 5, 9, 4, 1, 7, 5, 3, 7, 0, 1, 1, 5, 9, 3, 6, 9, 1, 4, 5, 0, 9, 3, 0, 1, 3, 0, 5, 5, 1, 9, 6, 6, 6, 3, 9, 7, 3, 1, 0, 6, 2, 4, 2, 5, 3, 5, 9, 3, 7, 6, 3, 1, 5, 4, 4, 1, 1, 3, 9, 6, 4, 8, 2, 5, 2, 2, 4, 8, 7, 9, 0, 1, 1, 5, 5, 4, 0, 1, 8, 9, 6, 6, 2, 3, 7, 9, 2, 9, 9, 0, 5, 5, 2, 5, 3, 2, 5, 5, 1, 1, 2, 8, 5, 7, 0, 7, 7, 2, 2, 5, 3, 2, 4, 9, 7, 3, 8, 6, 0, 0, 5, 8, 2, 1, 2, 0, 4, 3, 1, 3, 4, 3, 2, 0, 6, 9, 5, 4, 4, 2, 2, 5, 7, 2, 7, 0, 6, 4, 4, 9, 0, 1, 4, 0, 2, 2, 2, 8, 6, 7, 7, 5, 6, 2, 1, 0, 5, 2, 9, 4, 8, 0, 5, 7, 4, 7, 5, 5, 1, 8, 9, 3, 3, 2, 8, 1, 3, 5, 9, 3, 8, 8, 3, 9, 5, 4, 3, 5, 0, 8, 3, 0, 6, 5, 4, 5, 1, 1, 1, 7, 3, 6, 2, 6, 3, 2, 5, 4, 7, 3, 9, 1, 0, 8, 0, 8, 7, 6, 1, 5, 7, 2, 8, 6, 3, 7, 9, 8, 2, 3, 7, 9, 4, 3, 6, 3, 4, 9, 7, 0, 9, 7, 6, 9, 6, 6, 0, 0, 9, 0, 6, 9, 4, 2, 4, 8, 6, 8, 1, 8, 2, 5, 4, 7, 6, 2, 7, 2, 5, 9, 6, 0, 0, 6, 0, 9, 2, 4, 6, 4, 3, 9, 0, 0, 8, 0, 4, 4, 7, 9, 2, 1, 5, 1, 1, 5, 4, 0, 7, 2, 2, 8, 7, 1, 2, 4, 7, 5, 6, 2, 5, 3, 7, 0, 5, 2, 0, 0, 0, 1, 6, 4, 5, 0, 7, 6, 3, 2, 6, 7, 0, 8, 4, 6, 0, 8, 1, 2, 5, 1, 6, 9, 2, 4, 9, 2, 0, 5, 1, 0, 8, 8, 5, 0, 7, 0, 6, 9, 2, 7, 1, 9, 2, 8, 0, 8, 4, 7, 2, 7, 2, 5, 7, 9, 3, 0, 5, 7, 3, 6, 4, 5, 3, 2, 8, 3, 2, 0, 4, 7, 6, 3, 9, 7, 9, 5, 2, 4, 8, 5, 3, 2, 4, 8, 8, 1, 0, 2, 3, 2, 2, 8, 7, 5, 5, 1, 9, 4, 9, 9, 6, 9, 6, 6, 0, 2, 4, 4, 2, 2, 0, 5, 6, 1, 3, 9, 3, 3, 6, 9, 4, 2, 0, 1, 8, 1, 6, 5, 4, 3, 1, 0, 2, 6, 2, 7, 2, 0, 8, 7, 1, 0, 2, 3, 9, 8, 0, 9, 9, 1, 2, 3, 9, 7, 4, 6, 2, 4, 3, 9, 1, 9, 6, 4, 2, 6, 8, 3, 5, 9, 0, 0, 5, 4, 8, 7, 4, 1, 7, 2, 5, 9, 1, 3, 6, 0, 1, 8, 3, 9, 1, 8, 4, 8, 3, 8, 5, 9, 0, 9, 8, 6, 7, 6, 6, 7, 4, 3, 1, 7, 2, 8, 4, 0, 0, 4, 6, 9, 1, 8, 7, 2, 6, 2, 8, 2, 6, 5, 3, 7, 9, 1, 7, 1, 1, 1, 6, 7, 2, 3, 4, 3, 6, 5, 3, 3, 0, 6, 7, 3, 0, 1, 7, 6, 1, 0, 2, 5, 1, 7, 6, 0, 2, 0, 3, 6, 2, 0, 8, 5, 4, 4, 0, 3, 0, 2, 8, 7, 6, 2, 9, 1, 6, 3, 8, 6, 4, 3, 1, 9, 8, 2, 4, 5, 7, 4, 6, 2, 2, 9, 5, 6, 4, 1, 3, 4, 6, 4, 9, 5, 8, 4, 1, 5, 9, 2, 3, 7, 8, 1, 7, 2, 2, 9, 9, 3, 1, 6, 6, 6, 4, 7, 5, 0, 4, 9, 6, 9, 0, 2, 2, 4, 6, 1, 6, 9, 0, 3, 8, 3, 2, 4, 6, 9, 3, 1, 6, 9, 7, 9, 6, 1, 8, 0, 6, 3, 2, 2, 3, 7, 7, 4, 1, 8, 9, 8, 1, 0, 3, 8, 4, 9, 8, 3, 8, 3, 8, 8, 9, 6, 0, 1, 2, 9, 9, 4, 2, 5, 8, 2, 8, 3, 3, 0, 4, 8, 8, 3, 6, 5, 8, 0, 3, 7, 1, 7, 7, 4, 2, 3, 8, 3, 5, 8, 7, 2, 0, 9, 6, 0, 6, 1, 8, 4, 9, 3, 5, 9, 8, 8, 3, 2, 8, 8, 8, 7, 7, 9, 6, 3, 5, 7, 3, 1, 5, 7, 6, 4, 9, 0, 7, 6, 3, 6, 7, 2, 6, 9, 3, 7, 5, 7, 2, 7, 9, 2, 0, 9, 1, 7, 5, 6, 6, 4, 1, 2, 9, 6, 1, 2, 1, 5, 3, 1, 5, 4, 8, 5, 0, 9, 2, 6, 0, 2, 8, 9, 9, 4, 1, 5, 3, 5, 1, 4, 8, 9, 8, 6, 9, 1, 6, 6, 8, 2, 4, 2, 0, 9, 9, 0, 3, 1, 8, 8, 3, 7, 4, 7, 9, 5, 3, 0, 8, 6, 7, 1, 6, 1, 6, 0, 9, 8, 5, 6, 4, 4, 4, 3, 9, 2, 2, 2, 6, 4, 0, 0, 3, 0, 9, 1, 3, 8, 7, 8, 4, 1, 7, 4, 1, 8, 8, 1, 8, 6, 5, 4, 3, 6, 3, 8, 1, 3, 5, 8, 5, 0, 5, 7, 5, 7, 4, 3, 5, 7, 5, 4, 8, 9, 4, 3, 3, 7, 2, 3, 8, 1, 4, 7, 9, 3, 3, 0, 4, 9, 6, 8, 6, 7, 5, 4, 3, 1, 4, 0, 2, 6, 4, 5, 6, 7, 7, 7, 8, 5, 4, 3, 5, 1, 2, 2, 7, 5, 1, 6, 9, 2, 7, 9, 4, 7, 9, 6, 0, 8, 1, 4, 2, 1, 4, 8, 1, 9, 0, 6, 0, 0, 8, 7, 3, 0, 9, 0, 8, 1, 8, 6, 5, 1, 6, 0, 9, 8, 8, 4, 2, 7, 5, 3, 9, 5, 8, 0, 0, 0, 8, 0, 0, 9, 0, 4, 9, 9, 8, 4, 9, 4, 2, 6, 0, 0, 3, 1, 7, 0, 6, 5, 5, 0, 9, 4, 9, 3, 1, 4, 9, 3, 5, 6, 1, 5, 7, 5, 0, 0, 8, 3, 6, 6, 5, 3, 3, 2, 9, 6, 5, 9, 4, 3, 7, 6, 3, 2, 7, 4, 4, 5, 9, 2, 2, 2, 0, 7, 9, 3, 6, 3, 1, 2, 9, 9, 6, 9, 7, 2, 8, 1, 0, 8, 8, 6, 7, 5, 5, 1, 4, 9, 3, 9, 7, 7, 0, 3, 3, 3, 2, 0, 2, 3, 4, 5, 9, 4, 4, 3, 5, 3, 3, 0, 0, 1, 3, 0, 0, 1, 5, 2, 7, 3, 6, 0, 7, 0, 4, 4, 3, 9, 5, 9, 2, 0, 7, 9, 7, 1, 3, 7, 6, 8, 2, 3, 5, 7, 2, 1, 4, 3, 5, 3, 5, 6, 9, 6, 7, 3, 5, 9, 9, 6, 7, 5, 7, 6, 2, 0, 4, 1, 3, 4, 6, 1, 0, 4, 9, 2, 7, 9, 0, 2, 1, 9, 0, 3, 5, 1, 7, 2, 6, 1, 8, 1, 1, 6, 7, 3, 1, 0, 7, 7, 2, 1, 6, 3, 5, 7, 4, 6, 0, 2, 2, 0, 2, 4, 5, 2, 6, 9, 7, 6, 4, 6, 4, 5, 7, 7, 4, 9, 1, 3, 2, 8, 3, 1, 7, 1, 3, 2, 7, 8, 8, 1, 5, 3, 5, 4, 9, 2, 5, 5, 8, 7, 1, 2, 0, 8, 0, 0, 9, 1, 0, 8, 0, 5, 6, 2, 0, 8, 2, 2, 5, 2, 4, 5, 4, 2, 6, 4, 7, 9, 8, 9, 3, 6, 2, 2, 1, 0, 6, 3, 0, 5, 5, 2, 8, 9, 5, 1, 5, 3, 2, 5, 3, 0, 6, 2, 2, 5, 9, 0, 6, 7, 6, 5, 1, 9, 8, 1, 4, 9, 4, 4, 1, 5, 9, 8, 8, 5, 5, 2, 8, 3, 9, 1, 5, 2, 6, 7, 8, 9, 3, 2, 3, 8, 1, 9, 3, 3, 8, 3, 1, 5, 8, 3, 1, 7, 2, 3, 6, 9, 1, 3, 7, 4, 0, 9, 5, 2, 5, 8, 4, 0, 1, 5, 4, 9, 9, 3, 2, 9, 7, 7, 4, 5, 9, 3, 9, 1, 0, 6, 7, 7, 1, 1, 5, 4, 2, 4, 4, 7, 1, 4, 5, 5, 7, 6, 7, 3, 1, 8, 9, 6, 1, 6, 7, 8, 5, 2, 5, 6, 2, 7, 9, 1, 8, 0, 1, 0, 7, 7, 5, 9, 3, 5, 2, 2, 0, 1, 1, 4, 5, 9, 3, 2, 1, 3, 3, 2, 8, 0, 6, 0, 7, 5, 0, 3, 8, 7, 8, 5, 4, 7, 4, 5, 0, 1, 8, 9, 9, 5, 9, 9, 9, 5, 6, 6, 9, 2, 3, 9, 3, 2, 8, 1, 9, 4, 3, 8, 7, 8, 0, 5, 2, 0, 3, 4, 6, 8, 0, 8, 5, 4, 1, 9, 2, 7, 6, 9, 4, 4, 2, 6, 9, 2, 9, 8, 3, 4, 2, 8, 1, 5, 1, 4, 1, 6, 2, 7, 1, 9, 5, 4, 9, 7, 4, 6, 9, 0, 9, 9, 7, 6, 5, 1, 5, 2, 4, 2, 1, 6, 1, 0, 1, 5, 5, 5, 7, 6, 2, 4, 0, 9, 1, 3, 5, 8, 9, 7, 7, 7, 6, 4, 3, 8, 8, 8, 3, 2, 0, 2, 0, 4, 1, 7, 1, 8, 6, 7, 4, 3, 7, 8, 7, 7, 3, 2, 0, 4, 1, 9, 3, 3, 7, 7, 0, 0, 0, 3, 5, 4, 9, 7, 5, 8, 6, 7, 2, 5, 2, 1, 4, 1, 0, 4, 8, 0, 6, 7, 4, 3, 1, 6, 3, 6, 1, 8, 0, 6, 5, 4, 5, 9, 8, 8, 0, 2, 6, 6, 7, 6, 0, 4, 5, 4, 8, 9, 7, 6, 8, 1, 0, 0, 9, 4, 5, 3, 6, 6, 5, 9, 0, 9, 5, 4, 2, 1, 7, 2, 5, 0, 6, 5, 5, 9, 3, 3, 2, 1, 3, 4, 0, 6, 7, 0, 9, 7, 6, 3, 2, 7, 5, 3, 3, 8, 0, 3, 6, 4, 3, 4, 4, 1, 9, 2, 9, 0, 5, 3, 8, 7, 0, 6, 5, 7, 1, 9, 8, 5, 6, 2, 8, 1, 7, 1, 7, 8, 3, 4, 0, 7, 8, 3, 7, 2, 3, 5, 8, 5, 2, 3, 6, 9, 2, 2, 6, 8, 9, 6, 1, 4, 2, 3, 1, 6, 8, 9, 5, 6, 7, 7, 2, 4, 2, 0, 7, 0, 1, 8, 6, 1, 2, 1, 4, 6, 5, 4, 4, 2, 2, 9, 8, 7, 5, 3, 7, 3, 9, 6, 1, 0, 5, 0, 0, 4, 0, 8, 5, 4, 5, 0, 2, 0, 5, 0, 7, 0, 7, 5, 4, 6, 8, 7, 6, 4, 7, 7, 5, 2, 7, 7, 7, 5, 5, 4, 7, 4, 3, 0, 3, 6, 7, 0, 3, 5, 3, 1, 5, 5, 1, 6, 6, 7, 1, 5, 6, 4, 3, 2, 6, 9, 4, 1, 7, 0, 2, 6, 2, 7, 5, 1, 1, 3, 6, 2, 4, 2, 0, 0, 5, 2, 7, 0, 0, 3, 2, 8, 4, 0, 6, 7, 5, 8, 4, 9, 0, 4, 3, 3, 3, 3, 9, 2, 6, 7, 2, 3, 6, 9, 0, 4, 0, 1, 7, 1, 3, 3, 0, 7, 5, 4, 8, 1, 2, 8, 6, 9, 8, 1, 4, 6, 3, 0, 0, 2, 8, 0, 5, 9, 3, 2, 8, 8, 0, 0, 3, 5, 4, 4, 2, 9, 9, 4, 6, 5, 2, 0, 9, 7, 6, 9, 1, 0, 2, 1, 2, 4, 8, 9, 0, 1, 2, 0, 3, 0, 7, 0, 0, 8, 2, 1, 3, 2, 6, 0, 0, 0, 2, 2, 9, 7, 2, 5, 2, 6, 7, 2, 1, 8, 3, 7, 3, 6, 4, 9, 2, 7, 5, 1, 4, 4, 1, 5, 2, 8, 9, 0, 1, 3, 1, 3, 6, 8, 4, 0, 4, 3, 7, 3, 2, 3, 0, 5, 3, 4, 2, 4, 7, 8, 5, 8, 5, 7, 7, 8, 0, 7, 5, 4, 9, 9, 5, 4, 8, 7, 6, 4, 4, 6, 3, 3, 7, 2, 0, 7, 9, 8, 4, 4, 8, 6, 8, 9, 5, 6, 7, 7, 5, 7, 4, 3, 6, 3, 2, 6, 1, 9, 0, 7, 6, 1, 8, 9, 5, 4, 8, 7, 8, 5, 6, 1, 9, 6, 2, 3, 5, 4, 1, 1, 7, 1, 7, 0, 7, 6, 2, 1, 8, 0, 2, 0, 4, 6, 0, 9, 1, 3, 7, 7, 7, 6, 0, 5, 3, 7, 5, 7, 1, 0, 8, 1, 0, 3, 5, 1, 7, 4, 8, 3, 2, 0, 8, 2, 7, 8, 0, 1, 0, 7, 9, 6, 4, 3, 6, 1, 7, 0, 2, 0, 7, 8, 0, 8, 5, 5, 4, 7, 2, 5, 3, 4, 4, 7, 6, 6, 7, 5, 0, 8, 7, 1, 5, 4, 1, 1, 1, 4, 8, 7, 1, 9, 6, 4, 1, 1, 5, 9, 8, 3, 8, 9, 1, 7, 9, 4, 1, 4, 7, 0, 7, 2, 8, 0, 6, 2, 3, 4, 4, 5, 4, 6, 6, 0, 9, 8, 5, 5, 3, 5, 5, 0, 7, 6, 6, 2, 0, 5, 9, 8, 4, 3, 6, 3, 0, 0, 8, 8, 9, 7, 0, 1, 9, 2, 1, 9, 8, 1, 0, 0, 6, 6, 3, 8, 0, 0, 0, 5, 0, 0, 5, 1, 8, 2, 4, 4, 2, 4, 4, 6, 7, 9, 7, 5, 3, 5, 8, 9, 3, 2, 5, 7, 0, 5, 9, 8, 6, 5, 8, 4, 4, 3, 9, 9, 9, 8, 8, 3, 8, 5, 4, 0, 7, 2, 3, 6, 5, 9, 7, 4, 6, 6, 2, 2, 3, 6, 9, 5, 4, 9, 9, 2, 8, 6, 0, 5, 8, 8, 9, 7, 8, 5, 4, 0, 1, 8, 7, 3, 5, 7, 9, 5, 6, 3, 9, 0, 3, 0, 2, 7, 8, 5, 6, 2, 7, 8, 3, 8, 3, 3, 1, 5, 1, 3, 6, 2, 1, 8, 4, 4, 2, 2, 8, 2, 8, 6, 6, 1, 1, 4, 0, 8, 7, 8, 6, 5, 3, 9, 7, 6, 2, 8, 0, 0, 2, 9, 1, 9, 1, 3, 7, 1, 2, 5, 6, 1, 4, 1, 9, 8, 4, 4, 5, 0, 7, 9, 2, 5, 3, 7, 8, 5, 6, 2, 7, 4, 7, 5, 1, 1, 9, 4, 0, 0, 2, 3, 1, 8, 8, 8, 4, 6, 7, 5, 9, 2, 9, 0, 6, 2, 0, 6, 7, 7, 8, 9, 1, 4, 8, 0, 2, 0, 6, 1, 7, 0, 3, 7, 8, 5, 2, 3, 2, 6, 2, 9, 1, 2, 5, 2, 0, 8, 6, 9, 5, 1, 6, 2, 0, 7, 0, 1, 4, 1, 0, 0, 5, 6, 4, 9, 0, 8, 6, 8, 1, 0, 2, 4, 2, 7, 1, 7, 4, 8, 5, 9, 9, 4, 7, 2, 6, 8, 8, 3, 1, 7, 6, 0, 3, 7, 7, 0, 0, 8, 3, 9, 2, 2, 5, 8, 3, 5, 0, 5, 1, 8, 5, 0, 3, 0, 5, 1, 2, 0, 4, 6, 1, 1, 9, 8, 1, 3, 3, 3, 1, 9, 3, 7, 3, 2, 0, 5, 1, 6, 4, 4, 6, 9, 2, 6, 8, 7, 4, 9, 0, 6, 5, 3, 6, 0, 2, 6, 7, 3, 5, 0, 1, 0, 3, 4, 8, 9, 7, 8, 6, 1, 5, 7, 8, 5, 5, 3, 6, 3, 8, 4, 3, 7, 2, 2, 3, 6, 4, 5, 1, 0, 4, 7, 4, 8, 0, 5, 0, 1, 4, 6, 2, 6, 8, 1, 8, 8, 4, 7, 4, 2, 7, 8, 8, 1, 6, 7, 6, 5, 9, 2, 9, 8, 1, 2, 2, 6, 0, 7, 2, 6, 9, 0, 8, 4, 1, 6, 5, 9, 7, 3, 4, 6, 3, 2, 2, 7, 9, 6, 0, 6, 0, 6, 4, 5, 4, 9, 9, 8, 7, 3, 0, 0, 5, 1, 6, 4, 5, 9, 5, 0, 5, 9, 4, 1, 0, 8, 7, 1, 8, 2, 4, 7, 1, 4, 2, 5, 8, 8, 4, 3, 1, 2, 7, 8, 1, 8, 1, 5, 9, 4, 1, 0, 4, 3, 7, 9, 0, 3, 2, 6, 8, 7, 6, 8, 9, 7, 1, 5, 5, 1, 1, 6, 6, 6, 5, 0, 9, 0, 8, 5, 4, 6, 5, 0, 6, 8, 1, 5, 5, 2, 8, 9, 6, 6, 6, 8, 9, 4, 8, 9, 1, 9, 5, 7, 4, 4, 1, 3, 3, 8, 5, 2, 7, 0, 5, 3, 5, 2, 7, 3, 1, 6, 3, 4, 5, 3, 0, 8, 0, 8, 1, 3, 8, 2, 4, 2, 1, 4, 4, 1, 3, 0, 8, 7, 9, 6, 7, 1, 7, 0, 6, 4, 5, 8, 9, 8, 9, 1, 4, 3, 3, 9, 7, 1, 6, 0, 7, 2, 4, 4, 3, 0, 5, 3, 1, 7, 0, 8, 1, 3, 8, 4, 5, 7, 3, 6, 1, 6, 3, 9, 7, 0, 4, 7, 5, 4, 6, 8, 0, 2, 4, 6, 1, 5, 3, 0, 8, 4, 0, 2, 3, 4, 3, 9, 9, 8, 5, 2, 5, 2, 3, 6, 3, 4, 2, 5, 9, 3, 6, 2, 5, 4, 5, 4, 0, 6, 2, 4, 6, 8, 0, 3, 9, 8, 9, 7, 5, 2, 6, 3, 8, 1, 3, 9, 0, 0, 6, 5, 7, 6, 8, 3, 6, 8, 4, 0, 8, 1, 1, 9, 5, 9, 0, 3, 6, 4, 9, 0, 9, 2, 6, 7, 6, 2, 0, 6, 1, 0, 2, 4, 2, 9, 7, 9, 5, 4, 6, 8, 5, 3, 8, 3, 3, 8, 0, 7, 7, 8, 0, 7, 2, 0, 9, 7, 6, 6, 7, 8, 5, 6, 5, 9, 8, 3, 2, 1, 8, 9, 3, 3, 1, 5, 0, 4, 8, 7, 3, 1, 2, 7, 2, 0, 8, 9, 5, 9, 1, 8, 6, 0, 6, 5, 5, 4, 4, 4, 2, 3, 3, 5, 1, 6, 6, 3, 7, 9, 0, 8, 3, 1, 8, 4, 7, 2, 4, 5, 6, 0, 3, 3, 3, 0, 8, 7, 9, 5, 3, 6, 5, 6, 4, 3, 7, 3, 3, 5, 7, 4, 0, 3, 7, 4, 9, 3, 5, 4, 2, 0, 7, 7, 4, 9, 8, 2, 4, 3, 6, 6, 6, 8, 1, 8, 3, 1, 0, 6, 8, 9, 6, 0, 4, 6, 1, 6, 6, 8, 1, 4, 8, 3, 9, 0, 5, 7, 5, 4, 1, 7, 3, 4, 2, 0, 6, 5, 6, 6, 5, 5, 0, 7, 8, 2, 1, 3, 0, 2, 9, 8, 1, 0, 2, 8, 4, 0, 7, 7, 2, 4, 1, 7, 6, 8, 8, 7, 1, 7, 6, 7, 0, 7, 7, 8, 9, 4, 7, 8, 1, 2, 7, 0, 3, 2, 9, 1, 7, 1, 8, 1, 9, 0, 5, 8, 4, 5, 0, 3, 0, 3, 4, 1, 4, 4, 3, 6, 4, 7, 8, 8, 3, 0, 4, 7, 7, 6, 7, 7, 2, 2, 2, 0, 2, 3, 7, 6, 5, 8, 5, 9, 9, 3, 1, 6, 2, 3, 6, 9, 7, 0, 9, 9, 5, 1, 8, 8, 8, 6, 1, 2, 1, 3, 8, 6, 4, 7, 5, 5, 4, 1, 8, 7, 1, 1, 7, 3, 4, 6, 8, 9, 2, 9, 8, 1, 8, 8, 3, 8, 2, 4, 6, 9, 0, 1, 3, 3, 9, 4, 7, 0, 0, 5, 2, 8, 3, 8, 0, 1, 4, 2, 2, 1, 0, 8, 5, 7, 0, 0, 3, 3, 7, 6, 1, 5, 1, 1, 7, 2, 7, 0, 3, 5, 2, 4, 5, 6, 4, 6, 9, 8, 3, 7, 1, 3, 8, 7, 2, 9, 3, 7, 4, 0, 7, 8, 9, 0, 2, 1, 3, 4, 9, 5, 8, 7, 8, 5, 5, 0, 8, 9, 9, 4, 6, 9, 8, 1, 5, 6, 5, 4, 8, 3, 8, 5, 6, 7, 2, 4, 8, 6, 4, 0, 7, 4, 1, 5, 1, 0, 2, 5, 0, 4, 3, 6, 1, 7, 0, 5, 4, 1, 1, 4, 2, 9, 7, 4, 3, 5, 7, 2, 3, 4, 8, 7, 0, 4, 3, 8, 2, 4, 9, 6, 6, 7, 2, 2, 6, 9, 7, 0, 2, 0, 9, 6, 1, 5, 3, 6, 2, 7, 0, 0, 1, 3, 8, 2, 7, 6, 5, 5, 2, 4, 6, 3, 6, 8, 9, 7, 9, 1, 2, 5, 3, 0, 3, 6, 9, 9, 5, 6, 1, 4, 6, 8, 9, 4, 1, 9, 6, 5, 9, 8, 9, 4, 0, 3, 4, 8, 8, 8, 2, 9, 7, 9, 0, 9, 9, 5, 4, 0, 8, 5, 8, 8, 2, 7, 4, 9, 8, 3, 9, 0, 5, 5, 3, 8, 0, 4, 3, 3, 2, 9, 8, 8, 3, 4, 3, 6, 4, 0, 9, 8, 1, 9, 5, 9, 4, 8, 0, 7, 6, 0, 2, 7, 3, 9, 6, 6, 1, 6, 3, 3, 5, 6, 3, 5, 2, 5, 2, 5, 0, 3, 1, 8, 1, 2, 4, 6, 8, 3, 5, 2, 5, 5, 0, 3, 0, 7, 1, 5, 0, 2, 9, 9, 1, 2, 4, 5, 6, 1, 6, 3, 5, 2, 8, 9, 2, 2, 9, 3, 4, 0, 1, 2, 5, 5, 1, 6, 4, 9, 7, 4, 8, 4, 8, 4, 5, 8, 7, 0, 6, 7, 5, 9, 5, 8, 0, 7, 5, 0, 7, 9, 5, 0, 1, 0, 7, 7, 2, 2, 5, 9, 2, 5, 4, 1, 9, 1, 8, 0, 4, 9, 5, 9, 2, 1, 9, 2, 5, 1, 7, 3, 4, 2, 9, 7, 6, 5, 7, 6, 0, 3, 7, 0, 9, 2, 8, 7, 4, 1, 8, 1, 4, 3, 0, 9, 8, 3, 3, 5, 0, 9, 7, 5, 9, 4, 2, 8, 5, 3, 5, 6, 1, 0, 2, 8, 7, 7, 7, 7, 1, 9, 8, 4, 9, 1, 9, 7, 6, 2, 7, 1, 7, 9, 6, 0, 9, 5, 1, 0, 1, 2, 3, 6, 1, 1, 0, 9, 1, 4, 9, 9, 9, 4, 2, 7, 2, 9, 8, 9, 8, 9, 6, 1, 9, 5, 5, 2, 1, 4, 3, 5, 3, 4, 2, 9, 9, 2, 6, 9, 9, 2, 3, 0, 8, 3, 4, 6, 3, 5, 9, 3, 9, 6, 6, 0, 9, 0, 4, 9, 5, 2, 2, 0, 9, 3, 0, 2, 7, 6, 9, 4, 1, 5, 9, 8, 8, 3, 3, 0, 6, 2, 1, 3, 0, 1, 1, 0, 8, 6, 3, 1, 1, 6, 0, 8, 8, 9, 8, 3, 5, 3, 6, 5, 3, 2, 0, 0, 2, 5, 9, 2, 4, 1, 9, 2, 1, 8, 6, 6, 1, 3, 4, 2, 7, 4, 4, 4, 1, 7, 3, 2, 2, 1, 6, 9, 8, 0, 4, 0, 2, 7, 7, 6, 1, 1, 0, 5, 6, 6, 8, 8, 3, 5, 1, 5, 2, 4, 6, 3, 3, 8, 6, 2, 9, 7, 6, 1, 7, 3, 1, 2, 8, 9, 6, 0, 1, 6, 2, 8, 1, 8, 5, 1, 5, 7, 4, 3, 8, 2, 7, 2, 0, 1, 5, 9, 6, 2, 0, 8, 2, 7, 0, 4, 1, 7, 7, 4, 4, 9, 9, 6, 2, 4, 1, 6, 4, 9, 6, 6, 9, 6, 9, 9, 5, 7, 1, 6, 8, 2, 9, 5, 9, 5, 3, 7, 1, 3, 3, 9, 1, 7, 8, 9, 7, 4, 3, 4, 9, 5, 8, 4, 9, 3, 6, 1, 1, 4, 3, 9, 9, 1, 9, 9, 2, 4, 3, 2, 4, 7, 1, 5, 1, 8, 6, 3, 6, 3, 4, 4, 9, 9, 9, 7, 0, 5, 7, 7, 4, 8, 8, 4, 2, 0, 5, 2, 4, 9, 1, 7, 7, 4, 8, 8, 8, 0, 2, 3, 6, 3, 9, 0, 8, 2, 2, 4, 8, 8, 1, 8, 5, 7, 6, 0, 9, 1, 4, 8, 2, 1, 0, 5, 1, 6, 5, 3, 4, 9, 9, 0, 3, 5, 4, 2, 6, 3, 9, 4, 9, 8, 6, 4, 1, 1, 9, 8, 2, 2, 1, 8, 5, 9, 7, 8, 1, 1, 4, 2, 4, 2, 0, 8, 8, 0, 0, 4, 3, 0, 7, 7, 6, 1, 6, 7, 1, 5, 6, 1, 7, 2, 4, 0, 2, 2, 5, 9, 3, 2, 1, 4, 1, 2, 9, 8, 5, 2, 3, 3, 4, 9, 7, 2, 3, 9, 7, 6, 2, 9, 7, 5, 4, 0, 8, 7, 2, 0, 3, 5, 1, 3, 1, 7, 8, 7, 9, 8, 2, 9, 1, 4, 8, 6, 7, 3, 6, 9, 7, 9, 4, 5, 8, 0, 5, 6, 6, 0, 8, 4, 6, 1, 4, 2, 2, 1, 8, 4, 4, 0, 2, 4, 1, 9, 8, 9, 0, 7, 1, 1, 6, 4, 7, 4, 6, 9, 3, 2, 7, 3, 7, 4, 5, 1, 9, 6, 3, 9, 6, 0, 7, 0, 0, 0, 6, 6, 9, 7, 3, 2, 0, 6, 7, 5, 0, 2, 0, 3, 8, 6, 9, 9, 7, 1, 2, 0, 8, 8, 0, 8, 2, 0, 9, 5, 1, 3, 3, 0, 7, 6, 1, 0, 7, 9, 3, 1, 6, 3, 5, 1, 8, 3, 3, 2, 2, 5, 7, 4, 8, 4, 3, 0, 5, 9, 5, 4, 3, 2, 1, 9, 2, 8, 7, 8, 2, 9, 1, 8, 6, 4, 2, 3, 3, 0, 8, 2, 3, 5, 7, 1, 8, 8, 1, 0, 9, 9, 9, 8, 7, 5, 0, 5, 0, 5, 1, 1, 4, 6, 7, 1, 2, 8, 5, 1, 0, 3, 5, 8, 6, 6, 6, 7, 7, 4, 0, 5, 2, 8, 3, 7, 0, 1, 9, 9, 2, 1, 7, 6, 5, 3, 8, 3, 0, 7, 6, 2, 7, 7, 6, 5, 6, 4, 8, 5, 1, 4, 9, 1, 0, 5, 7, 0, 2, 5, 0, 8, 1, 0, 4, 2, 2, 5, 5, 8, 0, 8, 9, 8, 4, 7, 6, 4, 8, 6, 7, 5, 0, 1, 3, 9, 9, 1, 4, 3, 8, 6, 6, 2, 0, 7, 1, 6, 1, 6, 4, 4, 8, 0, 0, 2, 5, 4, 4, 4, 3, 7, 2, 0, 5, 1, 5, 7, 9, 7, 0, 5, 6, 2, 3, 8, 0, 6, 4, 6, 8, 4, 1, 5, 0, 6, 3, 9, 4, 5, 4, 7, 9, 6, 2, 7, 6, 1, 7, 8, 5, 1, 9, 8, 1, 3, 8, 7, 4, 8, 1, 2, 3, 7, 0, 3, 4, 0, 0, 4, 8, 4, 1, 1, 9, 4, 8, 9, 5, 8, 1, 3, 7, 9, 8, 0, 5, 8, 4, 3, 0, 6, 8, 1, 5, 6, 0, 0, 5, 0, 9, 2, 3, 2, 7, 6, 6, 4, 7, 4, 5, 1, 3, 0, 8, 7, 9, 0, 6, 8, 4, 3, 0, 8, 7, 4, 0, 0, 4, 3, 0, 6, 0, 1, 1, 5, 4, 7, 4, 2, 5, 4, 6, 4, 6, 8, 3, 8, 3, 8, 7, 6, 4, 6, 9, 6, 1, 0, 0, 5, 4, 8, 7, 6, 5, 2, 5, 7, 3, 8, 7, 9, 7, 8, 6, 5, 9, 9, 8, 2, 8, 0, 2, 4, 2, 4, 0, 7, 6, 9, 3, 1, 2, 6, 2, 5, 4, 9, 2, 5, 9, 7, 9, 6, 3, 2, 8, 9, 7, 7, 3, 0, 9, 9, 2, 3, 8, 4, 0, 0, 9, 7, 7, 4, 0, 0, 6, 1, 9, 1, 0, 9, 5, 6, 3, 4, 1, 1, 6, 0, 1, 5, 3, 5, 9, 6, 0, 4, 4, 5, 5, 5, 9, 3, 5, 9, 8, 5, 8, 9, 6, 5, 8, 8, 2, 2, 3, 8, 9, 2, 3, 4, 4, 9, 0, 6, 4, 5, 5, 9, 0, 4, 6, 8, 0, 0, 1, 3, 9, 6, 9, 5, 1, 1, 7, 7, 0, 9, 7, 7, 1, 6, 6, 9, 3, 4, 2, 7, 0, 5, 2, 9, 7, 4, 6, 7, 1, 3, 4, 2, 4, 0, 4, 9, 4, 3, 4, 2, 6, 0, 3, 7, 4, 9, 6, 5, 9, 7, 2, 0, 4, 3, 8, 2, 7, 0, 5, 3, 3, 5, 0, 0, 6, 9, 0, 3, 5, 6, 1, 8, 6, 8, 6, 9, 8, 5, 3, 5, 0, 3, 7, 7, 6, 9, 0, 7, 9, 8, 2, 7, 9, 9, 5, 5, 0, 3, 2, 6, 0, 2, 7, 8, 3, 9, 7, 2, 2, 8, 6, 6, 3, 9, 2, 8, 8, 6, 0, 6, 7, 9, 5, 4, 5, 1, 1, 4, 5, 8, 5, 2, 7, 4, 5, 0, 6, 8, 9, 4, 3, 5, 6, 1, 3, 7, 0, 5, 1, 6, 2, 2, 4, 8, 1, 2, 2, 1, 2, 5, 9, 1, 1, 3, 4, 2, 9, 7, 0, 8, 2, 4, 6, 8, 0, 3, 7, 1, 8, 5, 8, 6, 5, 6, 2, 2, 3, 5, 7, 7, 7, 7, 8, 4, 6, 4, 1, 2, 8, 6, 1, 9, 3, 3, 2, 1, 3, 1, 2, 0, 3, 3, 5, 4, 2, 5, 1, 3, 8, 6, 0, 4, 1, 4, 5, 3, 0, 5, 0, 7, 0, 8, 8, 4, 9, 6, 5, 8, 8, 6, 7, 1, 7, 3, 9, 0, 4, 3, 4, 8, 3, 1, 5, 1, 6, 7, 3, 1, 0, 5, 8, 2, 1, 0, 6, 1, 7, 4, 8, 9, 2, 5, 5, 8, 2, 2, 4, 1, 6, 9, 6, 1, 1, 4, 5, 7, 5, 4, 5, 5, 4, 4, 3, 4, 2, 1, 6, 4, 3, 8, 1, 7, 8, 5, 1, 5, 3, 3, 0, 5, 4, 0, 8, 7, 0, 2, 9, 4, 9, 7, 5, 0, 8, 1, 3, 9, 4, 3, 1, 5, 6, 5, 6, 2, 3, 2, 0, 1, 4, 9, 7, 0, 0, 1, 3, 1, 9, 2, 3, 3, 6, 9, 4, 8, 0, 8, 9, 0, 3, 9, 1, 4, 8, 9, 2, 5, 5, 6, 4, 0, 7, 9, 3, 9, 6, 7, 4, 8, 6, 1, 5, 4, 1, 4, 2, 7, 6, 7, 2, 2, 0, 8, 4, 6, 9, 7, 5, 8, 2, 1, 5, 2, 0, 3, 2, 1, 4, 1, 8, 4, 0, 5, 0, 2, 8, 8, 9, 7, 9, 3, 1, 2, 5, 0, 0, 0, 2, 4, 0, 7, 8, 1, 0, 0, 9, 9, 4, 8, 1, 4, 8, 8, 4, 8, 1, 2, 8, 1, 0, 1, 6, 9, 1, 4, 8, 4, 0, 9, 4, 3, 4, 3, 6, 2, 0, 6, 9, 0, 9, 1, 9, 8, 9, 4, 9, 3, 4, 6, 8, 1, 6, 1, 8, 6, 4, 2, 1, 6, 8, 2, 0, 4, 4, 6, 7, 4, 3, 1, 2, 6, 9, 6, 2, 9, 8, 8, 9, 7, 5, 7, 6, 2, 1, 3, 0, 2, 6, 6, 6, 9, 3, 6, 7, 2, 3, 8, 1, 4, 1, 5, 5, 6, 2, 3, 7, 0, 2, 7, 9, 3, 6, 3, 0, 3, 9, 0, 1, 9, 5, 9, 5, 9, 2, 9, 3, 5, 8, 5, 1, 3, 7, 5, 3, 8, 6, 8, 5, 4, 1, 6, 4, 7, 4, 9, 3, 2, 9, 6, 4, 3, 7, 9, 1, 7, 3, 9, 9, 7, 1, 6, 5, 2, 4, 8, 1, 2, 5, 2, 9, 9, 0, 2, 3, 8, 0, 9, 7, 4, 7, 9, 5, 3, 2, 2, 8, 5, 7, 9, 3, 8, 7, 6, 0, 1, 8, 0, 9, 7, 7, 1, 8, 4, 5, 6, 6, 1, 3, 8, 6, 7, 8, 4, 0, 4, 2, 1, 0, 0, 2, 2, 0, 3, 7, 1, 6, 8, 6, 0, 9, 2, 2, 1, 1, 7, 2, 5, 6, 9, 3, 7, 5, 2, 4, 4, 0, 8, 3, 6, 2, 1, 0, 6, 7, 3, 9, 9, 7, 3, 2, 5, 4, 5, 1, 9, 9, 9, 7, 8, 9, 8, 0, 3, 2, 3, 3, 6, 6, 7, 4, 1, 1, 3, 4, 4, 0, 1, 7, 3, 6, 1, 4, 5, 1, 6, 6, 9, 3, 6, 2, 9, 3, 9, 2, 8, 9, 3, 0, 4, 2, 6, 1, 2, 6, 6, 4, 8, 2, 0, 6, 5, 9, 6, 2, 1, 5, 5, 5, 8, 1, 3, 8, 9, 8, 4, 0, 7, 1, 2, 3, 1, 9, 3, 4, 5, 7, 8, 1, 5, 0, 3, 4, 2, 9, 6, 3, 4, 7, 3, 8, 2, 0, 3, 1, 6, 2, 9, 0, 1, 4, 0, 4, 9, 8, 0, 9, 8, 8, 1, 4, 2, 7, 6, 6, 4, 7, 4, 7, 1, 0, 8, 9, 9, 6, 9, 9, 4, 0, 1, 5, 3, 9, 6, 4, 1, 2, 6, 5, 8, 4, 4, 6, 0, 6, 1, 1, 7, 6, 4, 3, 4, 7, 2, 2, 1, 0, 4, 1, 2, 6, 4, 7, 6, 6, 3, 8, 4, 8, 0, 8, 7, 5, 2, 0, 9, 6, 8, 1, 5, 4, 8, 1, 4, 5, 7, 3, 1, 0, 5, 9, 4, 7, 1, 0, 5, 7, 3, 1, 6, 5, 6, 1, 4, 8, 3, 8, 3, 2, 7, 5, 3, 5, 2, 6, 1, 7, 3, 4, 8, 5, 7, 8, 0, 8, 1, 3, 7, 1, 4, 3, 1, 0, 0, 1, 5, 8, 0, 9, 3, 1, 6, 4, 0, 5, 8, 7, 7, 0, 8, 7, 5, 1, 8, 0, 2, 2, 9, 4, 2, 1, 8, 4, 9, 0, 8, 0, 2, 9, 4, 6, 8, 7, 7, 3, 7, 7, 6, 9, 9, 4, 5, 2, 7, 0, 5, 1, 7, 6, 0, 5, 6, 0, 6, 2, 7, 4, 7, 0, 1, 8, 6, 4, 9, 5, 9, 4, 3, 7, 5, 0, 4, 4, 0, 4, 4, 4, 4, 3, 3, 5, 8, 6, 3, 5, 8, 2, 8, 4, 1, 7, 4, 9, 7, 0, 7, 1, 3, 7, 1, 0, 1, 7, 0, 4, 3, 7, 0, 2, 1, 0, 1, 2, 1, 1, 0, 8, 2, 3, 8, 0, 1, 6, 3, 3, 6, 3, 5, 9, 7, 4, 0, 0, 7, 0, 7, 2, 9, 5, 6, 1, 8, 2, 2, 3, 8, 2, 9, 1, 4, 7, 9, 0, 9, 8, 3, 9, 9, 9, 0, 1, 6, 3, 1, 2, 8, 3, 5, 6, 3, 3, 4, 9, 6, 1, 6, 6, 2, 9, 4, 5, 0, 2, 4, 0, 2, 4, 8, 6, 3, 5, 2, 6, 8, 5, 8, 3, 3, 1, 2, 1, 7, 8, 3, 3, 4, 8, 4, 7, 8, 4, 7, 0, 4, 8, 1, 1, 6, 1, 9, 7, 6, 2, 0, 2, 7, 7, 0, 9, 9, 1, 1, 8, 6, 4, 6, 1, 7, 1, 4, 8, 3, 2, 2, 3, 3, 9, 2, 9, 5, 3, 2, 9, 5, 8, 7, 8, 5, 8, 1, 3, 6, 0, 3, 3, 6, 2, 6, 5, 8, 7, 0, 2, 3, 4, 3, 8, 9, 0, 6, 3, 3, 4, 1, 8, 5, 7, 4, 4, 3, 5, 0, 4, 5, 9, 2, 0, 2, 6, 9, 8, 6, 8, 7, 7, 1, 5, 9, 3, 0, 9, 4, 1, 7, 2, 7, 5, 1, 8, 6, 8, 0, 4, 3, 4, 0, 3, 7, 5, 6, 7, 6, 4, 1, 7, 0, 3, 1, 3, 4, 5, 5, 2, 2, 5, 6, 2, 7, 4, 7, 2, 6, 5, 9, 9, 0, 4, 0, 9, 2, 6, 4, 0, 5, 2, 1, 7, 5, 1, 7, 7, 1, 2, 1, 3, 9, 1, 7, 7, 9, 9, 3, 1, 3, 2, 3, 3, 8, 6, 7, 4, 9, 9, 3, 4, 1, 2, 6, 4, 2, 0, 9, 1, 0, 5, 3, 9, 2, 6, 9, 2, 9, 4, 8, 8, 1, 4, 0, 0, 6, 2, 6, 5, 1, 2, 9, 5, 0, 3, 5, 5, 0, 2, 2, 8, 0, 7, 2, 6, 3, 1, 3, 0, 9, 3, 2, 5, 3, 6, 2, 3, 0, 2, 0, 8, 8, 0, 0, 3, 8, 9, 6, 1, 1, 5, 9, 9, 8, 4, 2, 5, 4, 8, 1, 5, 3, 9, 4, 0, 2, 1, 4, 2, 0, 6, 3, 2, 0, 8, 1, 7, 1, 5, 0, 5, 5, 9, 8, 9, 8, 0, 8, 6, 7, 3, 9, 8, 7, 5, 6, 3, 7, 1, 6, 9, 9, 9, 8, 8, 2, 7, 2, 8, 2, 0, 5, 5, 8, 1, 4, 9, 9, 8, 1, 1, 0, 7, 4, 5, 1, 0, 9, 7, 6, 1, 5, 1, 9, 4, 6, 0, 7, 8, 0, 2, 4, 7, 1, 9, 1, 6, 0, 4, 6, 4, 4, 4, 4, 8, 5, 1, 4, 0, 3, 7, 5, 8, 8, 9, 6, 2, 2, 7, 8, 0, 8, 6, 1, 3, 5, 7, 7, 6, 1, 4, 9, 5, 2, 9, 1, 5, 9, 4, 3, 1, 7, 3, 7, 5, 3, 6, 8, 7, 0, 9, 5, 0, 3, 7, 8, 7, 9, 3, 8, 0, 3, 6, 4, 0, 5, 7, 0, 6, 7, 3, 4, 5, 9, 7, 9, 8, 8, 7, 6, 1, 5, 2, 9, 5, 5, 4, 0, 0, 4, 1, 4, 6, 5, 9, 9, 3, 5, 1, 3, 2, 1, 9, 6, 6, 3, 4, 4, 9, 7, 9, 7, 1, 1, 7, 2, 2, 8, 2, 4, 5, 3, 4, 0, 6, 1, 1, 0, 7, 9, 4, 1, 6, 3, 0, 6, 1, 8, 2, 5, 9, 7, 9, 3, 0, 7, 9, 6, 6, 5, 9, 7, 1, 0, 7, 8, 2, 8, 7, 9, 2, 9, 3, 1, 0, 8, 7, 3, 2, 3, 3, 2, 6, 7, 4, 4, 8, 2, 1, 5, 3, 0, 5, 9, 3, 8, 1, 8, 7, 3, 8, 5, 3, 5, 8, 1, 3, 6, 6, 5, 4, 5, 7, 8, 4, 0, 5, 0, 5, 8, 3, 2, 5, 6, 4, 6, 5, 6, 5, 1, 2, 5, 8, 4, 2, 5, 5, 1, 6, 3, 2, 0, 4, 3, 7, 3, 3, 5, 7, 3, 6, 4, 9, 7, 9, 8, 3, 0, 9, 9, 6, 0, 2, 6, 0, 6, 2, 0, 4, 8, 0, 0, 8, 4, 0, 6, 5, 8, 5, 2, 5, 8, 6, 3, 9, 0, 2, 0, 3, 9, 6, 7, 2, 7, 7, 0, 7, 9, 2, 2, 2, 4, 3, 2, 1, 8, 7, 8, 6, 8, 7, 5, 6, 2, 6, 8, 0, 6, 5, 0, 0, 5, 9, 1, 7, 9, 0, 4, 0, 4, 9, 3, 7, 5, 4, 1, 9, 2, 4, 6, 5, 4, 0, 5, 3, 3, 2, 0, 3, 7, 1, 4, 3, 1, 4, 3, 1, 7, 6, 2, 4, 1, 4, 4, 1, 9, 7, 1, 3, 6, 9, 1, 0, 4, 8, 8, 0, 6, 7, 9, 3, 8, 1, 7, 5, 2, 0, 9, 6, 5, 8, 8, 2, 4, 2, 1, 5, 8, 4, 8, 4, 9, 9, 8, 2, 1, 3, 1, 1, 0, 6, 8, 9, 1, 4, 2, 4, 7, 8, 5, 0, 6, 6, 4, 1, 9, 5, 4, 8, 5, 6, 9, 1, 1, 3, 3, 3, 9, 3, 9, 6, 2, 3, 5, 2, 7, 6, 8, 4, 7, 3, 1, 0, 0, 6, 3, 1, 0, 4, 1, 6, 8, 9, 2, 3, 9, 8, 4, 8, 7, 5, 3, 2, 2, 5, 6, 6, 3, 6, 8, 5, 3, 0, 1, 0, 3, 7, 3, 6, 6, 2, 1, 8, 4, 0, 0, 5, 8, 3, 3, 1, 2, 0, 1, 3, 8, 0, 4, 8, 4, 7, 5, 7, 2, 7, 5, 5, 6, 5, 2, 8, 1, 9, 3, 8, 3, 5, 0, 4, 7, 2, 1, 1, 8, 6, 3, 5, 2, 8, 9, 8, 9, 0, 3, 5, 8, 2, 4, 6, 9, 0, 3, 2, 9, 2, 9, 6, 6, 1, 2, 5, 4, 8, 3, 5, 0, 7, 0, 8, 4, 6, 6, 7, 9, 6, 1, 0, 1, 3, 6, 3, 0, 8, 9, 7, 7, 6, 2, 9, 2, 0, 6, 2, 7, 6, 8, 8, 1, 9, 6, 5, 4, 4, 9, 6, 4, 0, 7, 4, 9, 1, 1, 3, 4, 1, 8, 1, 5, 3, 1, 8, 6, 5, 1, 8, 1, 2, 0, 3, 0, 5, 8, 0, 1, 7, 5, 4, 7, 5, 9, 2, 5, 8, 0, 5, 2, 6, 3, 5, 7, 0, 3, 1, 7, 6, 8, 1, 7, 6, 5, 7, 8, 7, 8, 5, 4, 6, 4, 3, 9, 0, 9, 4, 6, 1, 4, 1, 4, 6, 9, 4, 4, 0, 4, 2, 5, 2, 5, 2, 1, 0, 2, 9, 2, 7, 3, 0, 3, 5, 8, 0, 8, 6, 5, 1, 8, 9, 5, 2, 5, 0, 3, 8, 1, 9, 3, 3, 2, 1, 6, 6, 6, 4, 5, 6, 6, 6, 8, 4, 4, 4, 4, 3, 8, 7, 0, 5, 9, 3, 2, 9, 3, 4, 0, 8, 8, 8, 4, 1, 7, 3, 5, 0, 4, 5, 2, 5, 2, 7, 1, 9, 5, 1, 3, 7, 9, 1, 6, 6, 5, 3, 0, 6, 5, 0, 0, 2, 7, 2, 9, 2, 7, 3, 1, 8, 5, 5, 1, 4, 7, 0, 5, 7, 2, 8, 4, 1, 2, 8, 8, 1, 5, 9, 3, 2, 5, 9, 8, 3, 6, 9, 8, 6, 5, 2, 6, 2, 8, 5, 9, 2, 3, 7, 0, 3, 2, 7, 5, 7, 9, 1, 5, 2, 2, 8, 9, 0, 4, 5, 9, 5, 6, 7, 1, 4, 4, 1, 8, 7, 4, 7, 5, 2, 6, 5, 6, 7, 8, 0, 8, 2, 7, 1, 9, 6, 1, 7, 9, 4, 9, 4, 2, 6, 8, 9, 2, 1, 2, 4, 5, 6, 8, 0, 7, 1, 3, 4, 5, 2, 8, 2, 7, 0, 1, 4, 9, 8, 9, 9, 6, 4, 4, 3, 1, 1, 1, 5, 5, 6, 0, 8, 5, 1, 7, 2, 1, 9, 0, 0, 5, 4, 7, 4, 5, 9, 7, 4, 7, 7, 4, 1, 3, 4, 1, 6, 3, 4, 4, 1, 4, 7, 3, 2, 0, 7, 7, 5, 5, 6, 1, 0, 0, 3, 7, 7, 3, 6, 5, 7, 2, 3, 2, 6, 9, 0, 1, 6, 6, 7, 9, 7, 5, 1, 5, 4, 0, 8, 0, 1, 9, 9, 3, 6, 2, 2, 2, 0, 0, 1, 8, 0, 7, 4, 3, 4, 1, 6, 4, 2, 0, 6, 0, 4, 7, 4, 5, 6, 7, 9, 9, 2, 3, 2, 5, 7, 1, 3, 2, 7, 5, 7, 5, 0, 9, 9, 4, 3, 9, 5, 2, 9, 9, 8, 4, 3, 4, 5, 3, 5, 9, 0, 7, 8, 5, 9, 5, 8, 3, 8, 4, 3, 6, 9, 7, 1, 8, 7, 1, 7, 2, 8, 0, 4, 2, 5, 2, 0, 1, 7, 1, 1, 6, 4, 0, 9, 9, 0, 6, 6, 8, 3, 8, 9, 3, 4, 5, 6, 6, 6, 4, 6, 7, 1, 5, 7, 5, 1, 5, 8, 9, 3, 0, 5, 9, 9, 6, 8, 8, 4, 3, 5, 1, 6, 6, 1, 1, 5, 9, 4, 2, 2, 8, 6, 5, 6, 0, 3, 8, 3, 6, 8, 5, 6, 7, 7, 9, 3, 6, 3, 2, 0, 2, 8, 7, 5, 1, 4, 7, 2, 0, 6, 1, 0, 5, 3, 1, 0, 6, 4, 6, 3, 7, 3, 2, 5, 5, 5, 2, 4, 8, 3, 4, 9, 0, 2, 6, 2, 0, 1, 6, 6, 0, 2, 8, 4, 3, 6, 8, 3, 7, 8, 3, 4, 5, 9, 3, 7, 4, 3, 6, 4, 2, 0, 8, 4, 2, 0, 4, 7, 9, 7, 2, 1, 7, 4, 4, 1, 1, 1, 6, 9, 2, 4, 0, 5, 2, 7, 4, 7, 7, 7, 3, 8, 5, 7, 7, 6, 9, 8, 2, 0, 5, 7, 2, 6, 1, 0, 4, 4, 3, 9, 4, 3, 1, 7, 4, 9, 9, 9, 6, 3, 4, 0, 3, 9, 4, 7, 2, 2, 2, 2, 3, 2, 4, 3, 6, 9, 7, 7, 6, 4, 1, 4, 1, 4, 7, 6, 2, 5, 9, 0, 2, 6, 4, 9, 6, 3, 5, 1, 6, 1, 6, 9, 1, 3, 2, 1, 1, 0, 6, 8, 5, 9, 5, 9, 7, 1, 9, 4, 4, 8, 8, 6, 7, 3, 4, 0, 7, 3, 2, 4, 3, 9, 9, 1, 4, 1, 0, 4, 1, 9, 7, 8, 6, 1, 7, 9, 0, 4, 5, 9, 5, 5, 1, 7, 0, 2, 0, 0, 6, 8, 6, 0, 2, 6, 0, 1, 1, 0, 7, 2, 9, 8, 8, 6, 7, 8, 9, 2, 4, 4, 4, 1, 3, 5, 1, 6, 9, 3, 6, 2, 5, 4, 9, 9, 6, 0, 8, 0, 3, 2, 5, 3, 8, 7, 3, 0, 0, 1, 1, 6, 8, 4, 2, 3, 7, 4, 9, 3, 9, 3, 7, 7, 8, 3, 0, 1, 9, 3, 0, 4, 3, 6, 3, 6, 3, 2, 9, 0, 4, 3, 4, 3, 2, 4, 2, 7, 3, 0, 3, 3, 5, 0, 8, 4, 0, 4, 5, 9, 6, 3, 2, 6, 4, 2, 3, 7, 6, 5, 0, 8, 3, 7, 0, 3, 0, 4, 3, 9, 2, 7, 0, 3, 9, 1, 9, 9, 1, 5, 7, 7, 4, 8, 2, 5, 1, 5, 3, 3, 5, 9, 9, 1, 8, 1, 8, 4, 5, 4, 0, 3, 3, 0, 9, 5, 8, 1, 5, 6, 9, 2, 2, 9, 1, 2, 3, 0, 0, 7, 0, 3, 7, 4, 4, 3, 6, 0, 9, 5, 3, 5, 3, 7, 3, 8, 1, 7, 0, 3, 5, 5, 1, 1, 8, 2, 4, 8, 1, 4, 1, 6, 9, 6, 1, 5, 0, 5, 6, 4, 6, 8, 2, 4, 0, 7, 3, 5, 5, 6, 5, 9, 8, 7, 4, 5, 6, 6, 8, 5, 1, 7, 1, 7, 8, 7, 4, 2, 8, 9, 9, 7, 9, 2, 6, 7, 0, 1, 0, 9, 1, 6, 8, 4, 7, 8, 6, 1, 7, 5, 9, 3, 4, 0, 4, 4, 4, 4, 7, 2, 7, 1, 6, 4, 1, 7, 6, 9, 8, 7, 7, 9, 9, 0, 0, 9, 0, 1, 0, 4, 0, 7, 3, 1, 3, 5, 4, 6, 2, 9, 2, 5, 0, 7, 0, 2, 0, 3, 1, 2, 3, 1, 6, 4, 4, 1, 6, 3, 5, 0, 3, 8, 4, 1, 8, 6, 2, 1, 0, 2, 5, 0, 0, 5, 6, 0, 9, 0, 5, 7, 0, 4, 4, 1, 2, 7, 4, 2, 9, 9, 6, 6, 9, 6, 6, 7, 0, 6, 1, 3, 5, 8, 6, 5, 7, 1, 0, 6, 3, 1, 0, 4, 5, 1, 0, 9, 0, 2, 3, 4, 6, 7, 8, 4, 0, 5, 3, 2, 7, 9, 1, 9, 2, 8, 6, 9, 8, 9, 8, 8, 4, 6, 7, 7, 9, 9, 0, 6, 6, 2, 4, 9, 6, 0, 2, 7, 6, 6, 4, 1, 7, 0, 8, 3, 5, 7, 5, 9, 5, 2, 7, 8, 3, 5, 4, 6, 1, 7, 6, 8, 7, 1, 3, 5, 7, 5, 1, 3, 1, 3, 7, 5, 2, 8, 7, 0, 1, 5, 5, 3, 2, 0, 7, 3, 4, 0, 3, 6, 8, 7, 6, 9, 7, 1, 7, 0, 8, 1, 3, 2, 0, 3, 0, 3, 0, 1, 4, 0, 0, 5, 7, 3, 3, 5, 9, 8, 9, 1, 2, 5, 2, 4, 6, 5, 0, 7, 0, 1, 7, 0, 4, 4, 3, 2, 0, 0, 2, 0, 5, 8, 2, 9, 1, 6, 1, 2, 6, 9, 5, 9, 3, 3, 2, 6, 2, 5, 3, 1, 8, 4, 9, 4, 2, 1, 8, 9, 2, 2, 6, 1, 5, 9, 8, 5, 4, 2, 1, 2, 3, 1, 7, 7, 5, 6, 1, 3, 5, 7, 5, 2, 1, 3, 3, 3, 1, 8, 5, 2, 6, 9, 2, 9, 0, 6, 0, 1, 9, 6, 7, 6, 6, 3, 2, 4, 6, 2, 0, 6, 6, 5, 7, 7, 3, 9, 5, 1, 3, 5, 1, 4, 8, 1, 1, 6, 0, 3, 2, 7, 2, 9, 1, 1, 4, 5, 8, 7, 9, 2, 9, 5, 4, 7, 5, 0, 7, 0, 7, 0, 0, 5, 5, 2, 0, 8, 2, 5, 0, 1, 1, 8, 1, 5, 3, 6, 9, 4, 8, 3, 0, 0, 9, 3, 3, 4, 5, 7, 2, 2, 6, 5, 8, 9, 8, 2, 2, 4, 5, 7, 9, 2, 1, 6, 5, 2, 5, 6, 7, 7, 5, 0, 2, 9, 7, 3, 3, 7, 8, 5, 1, 4, 5, 8, 7, 8, 6, 7, 1, 4, 0, 4, 5, 9, 8, 7, 8, 3, 5, 7, 6, 9, 3, 8, 3, 8, 1, 7, 6, 5, 4, 3, 9, 2, 6, 9, 1, 5, 4, 7, 3, 4, 9, 6, 5, 9, 6, 7, 5, 3, 3, 9, 1, 1, 7, 8, 1, 8, 6, 1, 3, 8, 5, 6, 1, 7, 1, 0, 2, 6, 3, 0, 6, 5, 1, 5, 5, 1, 5, 8, 5, 7, 5, 8, 0, 8, 5, 4, 7, 1, 9, 4, 3, 5, 7, 0, 3, 3, 7, 8, 5, 9, 0, 9, 0, 0, 4, 1, 2, 0, 9, 0, 7, 1, 4, 1, 1, 0, 8, 6, 9, 2, 3, 2, 1, 0, 5, 6, 1, 1, 6, 8, 2, 6, 7, 0, 2, 5, 5, 0, 1, 0, 8, 9, 4, 8, 7, 5, 3, 0, 7, 2, 9, 2, 3, 7, 9, 4, 4, 6, 4, 1, 9, 6, 2, 1, 4, 1, 8, 8, 1, 3, 7, 5, 6, 8, 2, 6, 1, 5, 2, 2, 1, 2, 3, 2, 0, 0, 9, 9, 1, 3, 5, 0, 4, 9, 5, 8, 1, 4, 7, 7, 5, 3, 4, 9, 4, 6, 7, 0, 8, 8, 1, 4, 6, 2, 1, 3, 8, 7, 6, 0, 5, 0, 5, 2, 3, 4, 4, 9, 1, 6, 1, 0, 5, 8, 2, 5, 6, 1, 0, 6, 1, 6, 5, 7, 9, 9, 7, 2, 0, 7, 6, 6, 1, 4, 8, 0, 7, 0, 0, 1, 3, 2, 5, 0, 1, 6, 2, 3, 4, 0, 3, 5, 8, 2, 3, 3, 0, 9, 6, 9, 4, 7, 1, 2, 0, 9, 1, 2, 8, 6, 9, 2, 0, 6, 7, 4, 3, 2, 8, 2, 7, 0, 3, 7, 5, 0, 5, 0, 9, 2, 1, 8, 3, 1, 6, 5, 3, 9, 1, 0, 8, 9, 9, 6, 8, 1, 5, 2, 4, 8, 8, 9, 3, 7, 6, 6, 4, 9, 9, 5, 8, 7, 4, 3, 4, 5, 3, 6, 0, 9, 8, 6, 9, 9, 0, 9, 4, 7, 0, 8, 0, 9, 9, 8, 1, 1, 8, 8, 4, 2, 0, 2, 6, 5, 6, 2, 4, 5, 2, 5, 0, 0, 0, 9, 3, 0, 4, 5, 0, 4, 1, 4, 7, 1, 9, 5, 1, 2, 8, 4, 4, 7, 8, 0, 2, 2, 1, 3, 7, 0, 0, 6, 0, 2, 9, 2, 1, 0, 6, 4, 5, 8, 2, 7, 0, 9, 8, 5, 7, 4, 5, 5, 9, 0, 6, 7, 2, 7, 0, 3, 7, 3, 4, 4, 0, 0, 8, 3, 9, 9, 8, 9, 5, 6, 7, 4, 6, 1, 3, 0, 5, 8, 5, 1, 6, 7, 1, 1, 9, 0, 2, 5, 8, 4, 1, 9, 2, 5, 7, 4, 1, 2, 7, 4, 7, 4, 5, 5, 0, 4, 4, 3, 5, 1, 3, 3, 4, 7, 3, 9, 2, 6, 4, 0, 3, 0, 2, 3, 1, 1, 9, 6, 9, 7, 0, 1, 8, 7, 2, 8, 9, 8, 6, 0, 2, 1, 0, 8, 1, 8, 4, 7, 3, 4, 9, 3, 3, 3, 5, 4, 9, 9, 5, 5, 2, 0, 8, 9, 2, 2, 7, 9, 3, 5, 6, 4, 6, 2, 9, 9, 7, 7, 7, 0, 0, 3, 8, 9, 5, 0, 5, 0, 5, 5, 7, 1, 8, 2, 4, 0, 4, 4, 3, 3, 9, 0, 9, 2, 9, 3, 8, 9, 3, 1, 5, 0, 3, 7, 6, 1, 0, 4, 4, 9, 1, 1, 0, 0, 9, 0, 1, 6, 3, 4, 0, 3, 4, 4, 5, 3, 8, 7, 9, 8, 6, 7, 3, 5, 6, 5, 1, 1, 1, 4, 2, 9, 1, 5, 6, 7, 1, 4, 1, 0, 2, 2, 5, 9, 6, 0, 1, 3, 1, 1, 2, 1, 8, 5, 6, 9, 2, 4, 2, 8, 8, 3, 7, 1, 7, 1, 7, 5, 9, 7, 0, 7, 8, 3, 6, 1, 2, 2, 5, 9, 8, 4, 8, 9, 4, 2, 5, 9, 3, 7, 9, 9, 3, 7, 9, 2, 7, 8, 9, 0, 7, 3, 0, 1, 7, 1, 4, 6, 8, 2, 3, 4, 1, 6, 2, 6, 0, 3, 5, 1, 0, 9, 7, 0, 0, 9, 3, 4, 9, 8, 8, 0, 1, 6, 1, 4, 9, 0, 7, 8, 1, 0, 9, 5, 2, 4, 4, 7, 0, 4, 8, 9, 3, 1, 2, 2, 4, 4, 0, 4, 5, 1, 7, 3, 5, 7, 2, 4, 4, 5, 6, 4, 3, 8, 4, 6, 6, 5, 0, 4, 9, 9, 7, 8, 6, 7, 3, 3, 5, 9, 6, 0, 1, 3, 8, 9, 8, 8, 0, 6, 6, 0, 9, 8, 6, 4, 7, 7, 9, 9, 3, 0, 9, 5, 5, 6, 5, 0, 9, 5, 8, 0, 1, 0, 4, 0, 3, 3, 2, 1, 1, 4, 9, 9, 4, 2, 1, 1, 2, 7, 4, 5, 5, 6, 3, 1, 3, 1, 2, 1, 5, 3, 3, 2, 5, 6, 4, 5, 2, 7, 6, 4, 6, 1, 2, 7, 9, 0, 0, 4, 9, 3, 5, 2, 4, 8, 9, 0, 8, 2, 5, 1, 6, 6, 3, 3, 3, 2, 6, 6, 4, 7, 5, 1, 0, 5, 9, 0, 4, 0, 0, 6, 6, 1, 5, 0, 5, 2, 5, 4, 3, 7, 2, 5, 4, 6, 7, 3, 1, 9, 7, 4, 9, 0, 1, 5, 1, 7, 4, 7, 6, 1, 0, 6, 4, 6, 0, 9, 2, 0, 6, 2, 9, 1, 8, 3, 4, 5, 0, 0, 4, 1, 1, 8, 3, 2, 5, 1, 4, 1, 8, 5, 8, 2, 1, 3, 5, 1, 4, 2, 2, 7, 7, 8, 0, 4, 2, 2, 7, 0, 5, 2, 0, 0, 0, 6, 3, 7, 7, 8, 6, 9, 0, 0, 2, 2, 6, 3, 4, 0, 7, 6, 2, 5, 6, 1, 8, 8, 0, 5, 8, 7, 1, 9, 3, 3, 4, 3, 6, 0, 6, 8, 0, 9, 3, 0, 0, 6, 0, 7, 3, 4, 4, 8, 1, 4, 9, 3, 1, 2, 9, 1, 7, 4, 7, 4, 2, 0, 0, 2, 3, 7, 5, 9, 0, 6, 5, 5, 0, 2, 1, 9, 1, 2, 6, 6, 9, 7, 3, 1, 9, 5, 2, 0, 3, 5, 4, 8, 6, 1, 0, 8, 8, 5, 7, 5, 2, 6, 6, 3, 1, 3, 0, 3, 7, 2, 8, 8, 9, 9, 9, 1, 3, 7, 5, 1, 3, 9, 5, 6, 1, 7, 5, 8, 3, 7, 5, 5, 1, 0, 1, 8, 1, 1, 2, 7, 4, 5, 7, 2, 9, 4, 9, 9, 5, 1, 5, 3, 5, 5, 7, 7, 0, 3, 0, 4, 5, 4, 0, 3, 4, 0, 4, 6, 5, 9, 2, 2, 7, 6, 0, 6, 7, 9, 2, 7, 5, 2, 2, 6, 1, 8, 8, 9, 9, 7, 4, 3, 6, 5, 5, 0, 9, 1, 7, 2, 8, 3, 5, 5, 4, 0, 5, 2, 0, 9, 7, 9, 7, 0, 1, 4, 1, 3, 1, 2, 4, 7, 9, 1, 6, 7, 9, 8, 5, 1, 5, 6, 5, 1, 6, 4, 5, 2, 7, 3, 4, 6, 9, 0, 4, 7, 6, 4, 1, 1, 0, 1, 4, 0, 4, 2, 6, 8, 4, 7, 4, 9, 1, 9, 0, 4, 8, 4, 8, 8, 0, 6, 4, 4, 3, 8, 5, 1, 5, 7, 3, 3, 5, 3, 8, 5, 6, 6, 2, 9, 3, 1, 7, 4, 4, 3, 2, 8, 8, 8, 8, 0, 5, 2, 1, 0, 7, 9, 8, 2, 3, 2, 6, 5, 4, 0, 3, 4, 7, 3, 9, 1, 9, 5, 1, 6, 1, 5, 0, 8, 2, 7, 4, 9, 1, 6, 1, 4, 4, 4, 3, 2, 6, 4, 8, 9, 8, 5, 7, 3, 4, 4, 2, 1, 5, 8, 9, 7, 2, 2, 3, 4, 2, 1, 1, 0, 8, 8, 6, 6, 4, 7, 4, 7, 7, 8, 8, 5, 4, 6, 5, 3, 8, 9, 9, 1, 0, 2, 6, 9, 6, 5, 8, 2, 7, 5, 7, 2, 4, 6, 6, 3, 6, 3, 9, 4, 3, 7, 6, 8, 2, 5, 0, 4, 6, 9, 4, 1, 1, 6, 8, 5, 4, 6, 4, 8, 8, 3, 8, 1, 9, 4, 3, 8, 2, 4, 1, 8, 3, 7, 9, 9, 6, 6, 2, 6, 9, 9, 6, 0, 4, 9, 2, 4, 2, 6, 8, 7, 8, 1, 4, 4, 9, 5, 8, 3, 7, 2, 5, 4, 1, 2, 6, 7, 9, 6, 0, 5, 9, 8, 5, 9, 7, 1, 6, 6, 2, 2, 8, 9, 9, 9, 7, 9, 0, 7, 2, 9, 2, 3, 7, 2, 8, 3, 2, 1, 3, 7, 1, 9, 7, 6, 6, 2, 9, 1, 4, 8, 4, 5, 9, 8, 4, 7, 2, 9, 1, 6, 8, 9, 4, 5, 7, 5, 3, 0, 5, 7, 6, 8, 5, 8, 2, 4, 6, 3, 3, 8, 1, 6, 3, 4, 5, 0, 9, 9, 8, 3, 3, 1, 4, 8, 4, 3, 5, 7, 8, 6, 0, 9, 3, 9, 1, 8, 6, 2, 0, 3, 7, 4, 3, 7, 3, 7, 4, 0, 8, 4, 7, 2, 5, 5, 9, 6, 7, 1, 3, 3, 3, 7, 2, 5, 2, 8, 7, 0, 4, 6, 9, 5, 9, 4, 5, 6, 4, 8, 2, 1, 2, 6, 6, 1, 5, 8, 9, 6, 1, 6, 1, 2, 4, 0, 5, 9, 8, 5, 4, 1, 5, 2, 5, 5, 9, 8, 7, 9, 2, 2, 7, 2, 8, 3, 1, 9, 2, 5, 6, 8, 6, 5, 4, 8, 3, 2, 8, 2, 5, 7, 0, 8, 4, 5, 3, 9, 7, 1, 7, 8, 8, 5, 8, 7, 8, 7, 5, 4, 3, 8, 9, 7, 0, 6, 6, 8, 7, 0, 4, 8, 4, 6, 1, 6, 2, 0, 7, 3, 5, 3, 9, 1, 4, 3, 5, 7, 5, 6, 7, 8, 5, 3, 5, 9, 6, 5, 6, 4, 4, 1, 9, 3, 3, 2, 5, 5, 3, 0, 5, 2, 2, 9, 8, 6, 4, 3, 5, 5, 7, 7, 1, 8, 8, 8, 7, 9, 6, 2, 1, 0, 3, 3, 8, 5, 0, 2, 2, 0, 7, 2, 4, 8, 3, 6, 6, 6, 2, 6, 1, 8, 7, 5, 9, 4, 4, 6, 1, 3, 0, 8, 8, 1, 3, 8, 5, 6, 4, 5, 1, 0, 3, 4, 8, 8, 4, 7, 3, 6, 3, 7, 0, 3, 7, 1, 9, 4, 5, 9, 7, 7, 5, 6, 9, 7, 1, 4, 8, 8, 1, 9, 2, 6, 9, 3, 2, 7, 4, 9, 5, 6, 9, 9, 6, 0, 6, 1, 9, 3, 8, 3, 8, 0, 5, 2, 5, 3, 3, 1, 1, 6, 5, 8, 7, 8, 1, 2, 3, 2, 5, 4, 1, 4, 9, 5, 8, 0, 9, 3, 9, 7, 3, 3, 3, 3, 1, 4, 2, 9, 1, 1, 5, 1, 4, 2, 9, 2, 4, 5, 5, 8, 8, 4, 4, 6, 4, 2, 4, 6, 6, 2, 1, 8, 2, 3, 6, 5, 3, 7, 5, 1, 9, 7, 6, 8, 6, 5, 5, 4, 0, 9, 1, 9, 1, 7, 7, 2, 4, 3, 0, 5, 5, 3, 2, 8, 2, 0, 3, 9, 0, 9, 2, 7, 7, 9, 0, 1, 9, 6, 6, 3, 8, 5, 6, 6, 8, 8, 2, 5, 6, 5, 4, 6, 4, 6, 1, 0, 3, 2, 9, 1, 5, 1, 4, 1, 4, 6, 9, 6, 3, 0, 4, 6, 3, 6, 0, 0, 9, 9, 3, 7, 3, 5, 9, 3, 7, 3, 9, 9, 1, 1, 1, 5, 5, 0, 8, 7, 2, 0, 0, 7, 0, 7, 3, 4, 2, 3, 9, 1, 6, 5, 6, 0, 5, 4, 7, 4, 6, 8, 8, 6, 2, 9, 7, 8, 5, 0, 8, 1, 7, 4, 3, 7, 9, 3, 6, 6, 2, 1, 6, 1, 0, 2, 3, 7, 8, 3, 4, 4, 3, 6, 0, 0, 1, 5, 3, 3, 3, 9, 1, 5, 6, 0, 8, 3, 3, 0, 8, 5, 3, 9, 0, 5, 5, 8, 3, 8, 8, 4, 6, 1, 8, 2, 2, 4, 8, 7, 7, 7, 2, 0, 3, 4, 1, 8, 1, 8, 7, 3, 2, 3, 6, 4, 5, 3, 6, 0, 2, 4, 8, 2, 8, 0, 2, 5, 5, 7, 9, 0, 5, 8, 5, 4, 2, 6, 3, 5, 6, 3, 4, 8, 8, 3, 2, 4, 3, 8, 8, 4, 1, 7, 2, 5, 4, 3, 0, 1, 3, 2, 7, 7, 1, 1, 4, 2, 0, 7, 5, 4, 2, 4, 3, 2, 4, 5, 6, 5, 6, 5, 9, 8, 6, 8, 2, 3, 8, 1, 6, 5, 1, 0, 7, 6, 8, 8, 0, 0, 3, 7, 7, 6, 9, 2, 3, 2, 2, 2, 5, 4, 9, 3, 8, 4, 3, 7, 4, 9, 2, 0, 6, 4, 9, 8, 7, 8, 7, 2, 0, 0, 6, 1, 2, 3, 4, 1, 0, 3, 3, 3, 5, 1, 9, 6, 7, 6, 0, 3, 3, 5, 2, 5, 6, 1, 9, 6, 0, 0, 8, 4, 8, 4, 0, 7, 5, 6, 9, 8, 0, 8, 3, 5, 9, 2, 0, 0, 2, 1, 5, 8, 0, 5, 9, 7, 7, 2, 1, 4, 9, 9, 9, 4, 1, 4, 9, 2, 3, 9, 0, 9, 3, 1, 3, 4, 2, 9, 4, 9, 2, 7, 5, 8, 5, 8, 7, 7, 2, 1, 8, 5, 6, 0, 1, 0, 2, 3, 2, 5, 9, 2, 9, 3, 0, 5, 7, 0, 1, 7, 4, 9, 3, 9, 8, 5, 0, 2, 4, 8, 9, 0, 8, 5, 7, 8, 7, 3, 9, 8, 5, 5, 1, 1, 7, 5, 6, 4, 9, 2, 0, 7, 3, 2, 3, 1, 1, 1, 2, 5, 8, 8, 8, 0, 8, 0, 1, 3, 6, 9, 3, 4, 7, 1, 0, 0, 8, 9, 4, 7, 9, 0, 3, 8, 2, 6, 8, 5, 0, 8, 6, 2, 5, 8, 4, 0, 2, 6, 4, 9, 9, 4, 9, 4, 4, 5, 9, 0, 7, 2, 5, 1, 8, 9, 4, 4, 6, 7, 5, 1, 2, 1, 7, 2, 3, 2, 3, 0, 4, 6, 3, 7, 0, 9, 5, 2, 5, 3, 2, 4, 3, 7, 3, 7, 2, 5, 8, 0, 4, 4, 3, 2, 1, 1, 8, 9, 0, 2, 9, 7, 6, 5, 2, 3, 0, 1, 3, 5, 0, 9, 4, 6, 5, 9, 7, 6, 4, 9, 5, 8, 3, 6, 7, 1, 1, 7, 9, 3, 8, 0, 1, 1, 5, 6, 7, 2, 1, 0, 0, 2, 7, 0, 2, 9, 2, 3, 0, 3, 4, 4, 6, 3, 2, 8, 1, 5, 4, 8, 1, 3, 2, 7, 0, 0, 5, 1, 5, 0, 5, 1, 6, 1, 2, 1, 2, 0, 5, 6, 6, 1, 6, 5, 8, 5, 3, 1, 6, 0, 3, 5, 5, 8, 5, 1, 5, 5, 2, 3, 2, 0, 0, 0, 8, 8, 3, 4, 7, 7, 2, 8, 0, 7, 4, 6, 0, 3, 6, 6, 1, 7, 9, 1, 2, 3, 9, 6, 5, 3, 8, 0, 9, 1, 2, 4, 0, 6, 6, 2, 5, 6, 8, 3, 3, 9, 6, 5, 0, 7, 2, 5, 8, 9, 0, 7, 3, 0, 6, 0, 1, 4, 6, 7, 5, 4, 9, 8, 1, 9, 7, 4, 9, 6, 9, 3, 2, 2, 5, 5, 9, 3, 4, 2, 0, 5, 8, 9, 8, 0, 8, 5, 9, 1, 7, 9, 5, 1, 9, 8, 1, 2, 1, 9, 5, 5, 7, 1, 7, 0, 5, 3, 4, 7, 6, 0, 3, 0, 7, 8, 4, 5, 7, 7, 5, 7, 5, 1, 0, 3, 8, 4, 5, 9, 3, 0, 9, 5, 6, 4, 9, 2, 3, 9, 8, 9, 4, 5, 9, 7, 9, 9, 9, 9, 7, 1, 0, 5, 8, 7, 0, 8, 5, 6, 8, 3, 7, 3, 9, 0, 5, 0, 0, 0, 5, 1, 1, 7, 5, 8, 1, 8, 6, 6, 7, 8, 8, 4, 9, 2, 2, 9, 7, 4, 2, 9, 7, 8, 3, 3, 2, 5, 6, 1, 7, 3, 4, 0, 4, 2, 0, 4, 6, 3, 4, 9, 4, 6, 1, 2, 7, 9, 4, 9, 5, 5, 9, 5, 6, 1, 0, 8, 6, 4, 5, 1, 7, 7, 2, 2, 5, 9, 9, 0, 9, 1, 8, 2, 8, 1, 5, 7, 7, 8, 9, 4, 7, 1, 6, 5, 8, 2, 2, 3, 7, 3, 2, 2, 0, 8, 5, 3, 4, 8, 0, 1, 5, 3, 5, 8, 1, 8, 0, 4, 3, 5, 3, 0, 5, 6, 5, 2, 5, 1, 0, 4, 5, 5, 4, 4, 7, 3, 5, 8, 1, 9, 4, 6, 7, 0, 0, 4, 8, 7, 9, 2, 7, 3, 8, 2, 0, 1, 2, 1, 4, 5, 8, 2, 5, 9, 7, 1, 8, 1, 0, 5, 9, 7, 0, 7, 2, 0, 7, 6, 1, 9, 1, 1, 2, 2, 6, 3, 7, 7, 4, 1, 5, 1, 8, 3, 4, 2, 4, 9, 6, 0, 9, 4, 7, 6, 9, 2, 4, 3, 9, 7, 2, 1, 4, 4, 3, 1, 9, 2, 0, 4, 7, 0, 7, 3, 7, 0, 7, 0, 3, 0, 0, 3, 6, 0, 5, 5, 2, 0, 0, 9, 0, 9, 8, 8, 9, 4, 4, 7, 6, 4, 1, 8, 5, 6, 2, 6, 0, 7, 5, 5, 5, 2, 6, 1, 9, 1, 1, 7, 9, 2, 6, 1, 2, 7, 8, 4, 0, 8, 1, 8, 0, 8, 0, 7, 7, 4, 4, 5, 7, 5, 8, 1, 8, 2, 8, 3, 8, 6, 2, 0, 4, 8, 0, 0, 4, 0, 9, 7, 6, 4, 8, 3, 2, 9, 3, 8, 4, 5, 7, 0, 9, 9, 0, 7, 1, 5, 4, 9, 9, 0, 9, 8, 0, 2, 0, 6, 9, 4, 9, 7, 3, 5, 4, 4, 6, 0, 8, 0, 5, 9, 2, 2, 6, 2, 1, 6, 7, 0, 1, 0, 7, 7, 9, 3, 5, 6, 6, 7, 3, 0, 9, 1, 6, 6, 0, 6, 3, 8, 5, 3, 6, 5, 2, 4, 0, 6, 5, 0, 4, 4, 5, 3, 2, 2, 5, 3, 1, 5, 6, 2, 6, 2, 9, 3, 4, 9, 5, 8, 5, 2, 5, 4, 9, 9, 6, 7, 9, 7, 4, 3, 1, 0, 9, 7, 3, 5, 0, 3, 8, 5, 1, 4, 8, 1, 2, 4, 1, 6, 9, 4, 3, 1, 3, 1, 8, 5, 6, 6, 3, 2, 1, 0, 7, 6, 3, 3, 5, 7, 0, 7, 7, 0, 8, 8, 2, 1, 2, 1, 6, 1, 9, 4, 4, 7, 4, 9, 7, 4, 9, 6, 0, 6, 0, 1, 9, 2, 0, 3, 2, 1, 2, 7, 4, 9, 2, 2, 6, 8, 8, 7, 0, 6, 2, 5, 3, 7, 4, 1, 7, 8, 8, 8, 4, 8, 4, 9, 8, 1, 0, 1, 9, 5, 5, 4, 4, 6, 5, 4, 6, 8, 5, 4, 2, 2, 1, 6, 8, 9, 9, 7, 1, 6, 9, 1, 3, 4, 0, 8, 5, 9, 6, 6, 0, 8, 6, 3, 8, 9, 7, 8, 5, 9, 5, 5, 9, 4, 7, 3, 3, 2, 8, 1, 6, 5, 7, 2, 2, 0, 0, 0, 8, 1, 3, 7, 3, 3, 0, 1, 9, 5, 0, 9, 0, 9, 0, 8, 2, 7, 9, 2, 9, 9, 1, 3, 1, 1, 3, 1, 6, 8, 9, 2, 0, 6, 8, 5, 9, 4, 3, 2, 2, 5, 3, 3, 8, 7, 5, 0, 2, 6, 5, 2, 7, 5, 8, 6, 4, 3, 3, 4, 5, 0, 3, 2, 9, 8, 1, 8, 7, 7, 1, 2, 8, 6, 5, 0, 9, 6, 5, 8, 9, 6, 1, 8, 0, 6, 9, 0, 9, 5, 5, 8, 0, 1, 5, 1, 3, 8, 7, 5, 1, 8, 5, 8, 5, 8, 9, 5, 9, 3, 9, 6, 8, 6, 8, 7, 4, 4, 3, 4, 0, 2, 3, 0, 2, 3, 0, 8, 8, 2, 6, 5, 6, 3, 4, 8, 5, 2, 7, 8, 3, 5, 6, 8, 3, 1, 8, 2, 8, 7, 8, 3, 9, 8, 6, 0, 7, 1, 4, 3, 1, 3, 9, 8, 8, 7, 1, 2, 5, 3, 0, 2, 3, 0, 2, 8, 4, 7, 4, 6, 4, 8, 4, 0, 1, 7, 0, 3, 4, 4, 4, 6, 8, 2, 6, 6, 9, 9, 8, 6, 8, 7, 8, 0, 4, 5, 2, 8, 7, 6, 8, 7, 4, 3, 5, 8, 9, 9, 3, 7, 5, 1, 3, 3, 2, 2, 5, 0, 4, 4, 4, 2, 5, 0, 5, 6, 3, 0, 4, 3, 5, 5, 4, 4, 7, 7, 0, 1, 9, 4, 5, 1, 0, 2, 3, 6, 2, 2, 6, 5, 1, 2, 7, 3, 0, 9, 8, 0, 8, 2, 5, 3, 4, 5, 6, 5, 1, 2, 2, 2, 9, 8, 6, 6, 3, 5, 6, 0, 9, 1, 0, 3, 8, 4, 3, 8, 4, 6, 5, 8, 6, 1, 0, 3, 7, 6, 9, 8, 1, 5, 1, 8, 0, 8, 8, 0, 3, 7, 3, 3, 8, 1, 0, 2, 1, 5, 3, 5, 3, 4, 0, 5, 5, 2, 0, 2, 2, 4, 9, 4, 3, 7, 1, 6, 4, 0, 2, 0, 6, 3, 7, 1, 9, 0, 9, 9, 7, 1, 3, 4, 3, 3, 7, 8, 6, 8, 3, 4, 6, 5, 6, 5, 9, 3, 1, 0, 7, 5, 6, 3, 0, 7, 9, 3, 3, 2, 6, 7, 6, 4, 0, 6, 0, 6, 2, 2, 1, 8, 5, 1, 6, 4, 8, 2, 5, 9, 3, 1, 4, 3, 2, 2, 4, 2, 2, 0, 2, 0, 3, 9, 7, 0, 2, 2, 6, 7, 0, 9, 8, 0, 0, 5, 7, 3, 1, 5, 1, 9, 2, 3, 0, 8, 9, 1, 9, 8, 8, 9, 8, 1, 9, 0, 3, 3, 8, 3, 5, 0, 2, 1, 5, 9, 1, 6, 4, 3, 0, 2, 0, 0, 7, 9, 9, 9, 7, 6, 5, 8, 3, 8, 4, 6, 5, 3, 4, 8, 9, 7, 6, 8, 2, 3, 9, 4, 1, 0, 8, 6, 7, 9, 4, 7, 5, 1, 3, 6, 1, 3, 0, 6, 5, 6, 4, 9, 5, 2, 4, 9, 0, 7, 5, 3, 6, 4, 6, 7, 2, 6, 5, 5, 0, 9, 4, 0, 8, 6, 1, 4, 0, 6, 7, 5, 4, 2, 4, 1, 8, 9, 8, 4, 6, 6, 9, 2, 3, 1, 4, 7, 7, 9, 0, 5, 6, 2, 3, 2, 5, 0, 8, 3, 8, 2, 2, 0, 8, 0, 7, 7, 0, 7, 2, 9, 8, 3, 1, 1, 7, 0, 6, 9, 1, 2, 8, 7, 8, 5, 1, 9, 6, 9, 1, 0, 8, 2, 7, 9, 3, 8, 2, 2, 0, 2, 0, 9, 1, 1, 0, 3, 8, 6, 8, 2, 5, 5, 5, 7, 4, 3, 7, 9, 4, 1, 8, 1, 9, 2, 3, 8, 0, 0, 5, 8, 2, 1, 2, 0, 6, 3, 0, 5, 9, 5, 3, 9, 8, 4, 8, 8, 6, 4, 9, 9, 5, 8, 7, 2, 9, 3, 0, 2, 7, 0, 4, 6, 9, 2, 0, 5, 7, 1, 0, 4, 6, 5, 0, 2, 2, 2, 4, 3, 6, 2, 9, 8, 6, 8, 1, 3, 3, 0, 8, 8, 5, 7, 5, 2, 9, 7, 9, 2, 0, 3, 2, 2, 8, 4, 5, 6, 5, 5, 4, 6, 6, 3, 5, 2, 9, 6, 4, 9, 3, 3, 5, 5, 4, 2, 0, 0, 2, 5, 0, 7, 5, 5, 7, 0, 4, 3, 2, 0, 4, 0, 9, 8, 4, 9, 9, 7, 5, 7, 9, 8, 1, 9, 3, 5, 8, 6, 4, 6, 9, 9, 9, 3, 7, 5, 9, 7, 8, 0, 8, 6, 9, 8, 6, 7, 1, 7, 7, 9, 8, 0, 9, 2, 6, 5, 8, 0, 5, 4, 3, 2, 8, 2, 6, 4, 0, 7, 7, 4, 0, 7, 8, 0, 2, 3, 5, 1, 6, 2, 2, 8, 2, 4, 9, 2, 4, 3, 3, 0, 9, 5, 6, 6, 4, 0, 1, 0, 3, 2, 6, 0, 4, 2, 7, 3, 6, 6, 7, 1, 4, 2, 2, 6, 4, 8, 5, 3, 5, 4, 1, 3, 8, 6, 3, 9, 2, 0, 2, 7, 2, 8, 7, 8, 2, 0, 5, 0, 0, 8, 9, 0, 3, 8, 4, 1, 6, 5, 7, 9, 8, 1, 5, 3, 5, 1, 6, 7, 9, 7, 7, 0, 7, 6, 8, 1, 3, 7, 0, 4, 2, 9, 4, 3, 6, 2, 1, 7, 8, 2, 3, 6, 3, 8, 1, 8, 4, 9, 6, 2, 3, 1, 8, 1, 4, 3, 9, 4, 1, 0, 6, 7, 4, 9, 9, 5, 5, 9, 6, 2, 3, 5, 1, 5, 9, 4, 0, 1, 4, 3, 1, 1, 8, 7, 0, 1, 5, 9, 8, 9, 7, 6, 2, 9, 0, 9, 1, 1, 3, 6, 6, 5, 7, 9, 0, 6, 6, 5, 1, 8, 1, 8, 0, 9, 5, 5, 1, 2, 0, 8, 7, 9, 1, 9, 5, 7, 5, 3, 0, 7, 4, 8, 0, 2, 5, 2, 7, 9, 7, 8, 4, 8, 5, 2, 2, 5, 9, 1, 4, 5, 1, 6, 5, 2, 9, 7, 5, 4, 7, 9, 3, 7, 2, 3, 6, 5, 8, 8, 7, 1, 0, 5, 4, 7, 2, 9, 2, 5, 8, 4, 2, 1, 7, 3, 9, 8, 2, 1, 6, 0, 1, 5, 9, 8, 6, 5, 8, 8, 8, 3, 7, 4, 3, 3, 3, 2, 6, 9, 7, 3, 9, 6, 6, 3, 7, 8, 5, 3, 0, 0, 2, 4, 4, 0, 2, 2, 5, 5, 4, 0, 6, 2, 1, 0, 8, 8, 6, 4, 5, 3, 1, 2, 4, 6, 7, 6, 8, 1, 4, 3, 9, 9, 7, 4, 7, 3, 7, 9, 5, 1, 6, 1, 8, 5, 7, 4, 4, 7, 9, 5, 7, 3, 2, 5, 2, 3, 2, 8, 7, 8, 9, 1, 6, 0, 5, 0, 1, 3, 0, 7, 3, 0, 0, 0, 7, 6, 6, 0, 7, 7, 0, 4, 0, 4, 9, 8, 7, 6, 3, 9, 0, 2, 8, 8, 2, 8, 4, 4, 8, 4, 4, 3, 4, 5, 5, 4, 2, 6, 9, 6, 4, 5, 0, 4, 2, 2, 6, 4, 6, 1, 1, 5, 1, 4, 7, 6, 8, 2, 3, 0, 3, 5, 8, 3, 6, 3, 1, 9, 1, 7, 9, 8, 9, 2, 7, 0, 6, 0, 7, 3, 6, 0, 3, 6, 3, 5, 5, 8, 4, 7, 0, 6, 6, 6, 8, 2, 4, 3, 6, 7, 9, 4, 2, 3, 8, 1, 4, 6, 3, 0, 8, 7, 4, 1, 9, 8, 8, 3, 5, 0, 4, 1, 0, 1, 2, 6, 1, 3, 6, 0, 0, 5, 6, 9, 6, 8, 4, 0, 9, 2, 2, 8, 5, 5, 3, 2, 1, 9, 4, 9, 3, 8, 9, 4, 9, 0, 5, 0, 8, 2, 3, 7, 8, 9, 4, 5, 3, 2, 5, 0, 7, 2, 1, 1, 4, 4, 8, 9, 4, 6, 9, 4, 9, 3, 5, 6, 9, 9, 7, 7, 6, 1, 6, 8, 8, 3, 1, 6, 7, 7, 2, 0, 7, 5, 2, 3, 4, 6, 9, 7, 6, 1, 6, 6, 7, 9, 9, 1, 0, 2, 2, 5, 7, 9, 9, 9, 1, 6, 4, 3, 3, 1, 3, 6, 3, 1, 1, 9, 9, 6, 3, 8, 0, 0, 2, 6, 6, 1, 4, 4, 2, 0, 2, 8, 7, 2, 5, 2, 0, 8, 7, 6, 5, 9, 5, 4, 8, 7, 3, 5, 6, 5, 1, 1, 9, 9, 9, 7, 8, 0, 6, 0, 3, 7, 7, 8, 6, 1, 1, 4, 7, 3, 7, 3, 3, 8, 6, 3, 9, 1, 0, 1, 1, 8, 2, 4, 5, 2, 3, 9, 2, 8, 8, 7, 1, 0, 8, 8, 9, 0, 0, 3, 6, 5, 1, 0, 7, 0, 8, 3, 2, 8, 9, 8, 7, 8, 5, 1, 4, 5, 0, 3, 8, 6, 9, 9, 8, 1, 3, 7, 4, 6, 8, 7, 7, 4, 0, 9, 4, 9, 6, 6, 9, 6, 4, 6, 5, 8, 9, 3, 0, 8, 1, 3, 3, 2, 1, 7, 3, 9, 7, 1, 7, 1, 3, 1, 8, 0, 4, 9, 1, 3, 7, 5, 4, 9, 0, 7, 8, 2, 9, 8, 4, 4, 8, 5, 0, 2, 8, 8, 5, 9, 6, 7, 0, 7, 6, 9, 5, 2, 1, 7, 5, 7, 3, 2, 2, 0, 7, 9, 6, 3, 7, 2, 1, 9, 6, 1, 9, 5, 6, 2, 8, 4, 7, 5, 9, 6, 2, 3, 3, 9, 5, 6, 0, 5, 6, 3, 6, 0, 7, 7, 6, 6, 1, 1, 5, 5, 4, 4, 3, 6, 8, 3, 7, 5, 3, 1, 5, 2, 2, 8, 2, 7, 5, 5, 7, 3, 1, 9, 0, 0, 7, 2, 6, 0, 1, 0, 8, 1, 0, 7, 6, 4, 6, 1, 4, 1, 2, 8, 0, 9, 6, 1, 7, 6, 4, 3, 3, 3, 9, 9, 0, 8, 0, 8, 0, 1, 7, 8, 8, 5, 1, 6, 1, 3, 9, 3, 0, 8, 8, 4, 7, 1, 8, 6, 2, 7, 2, 9, 5, 8, 1, 4, 9, 6, 9, 6, 7, 3, 1, 0, 1, 6, 7, 4, 8, 1, 9, 6, 2, 0, 4, 5, 0, 3, 9, 1, 9, 5, 8, 3, 5, 2, 6, 8, 1, 1, 5, 1, 0, 6, 0, 9, 3, 3, 8, 8, 1, 3, 2, 2, 7, 5, 9, 7, 5, 7, 2, 2, 6, 9, 9, 6, 3, 6, 8, 3, 5, 3, 1, 7, 2, 5, 8, 5, 4, 7, 9, 3, 8, 4, 3, 5, 1, 5, 7, 1, 1, 4, 1, 0, 1, 3, 5, 1, 5, 6, 0, 0, 3, 3, 8, 9, 1, 4, 1, 4, 0, 5, 1, 0, 0, 6, 0, 5, 4, 6, 0, 4, 5, 9, 8, 5, 5, 7, 0, 1, 2, 0, 7, 0, 5, 8, 6, 9, 0, 2, 6, 2, 1, 9, 5, 8, 8, 3, 3, 9, 5, 5, 2, 6, 8, 5, 8, 1, 0, 0, 0, 2, 0, 2, 1, 1, 3, 4, 5, 1, 8, 8, 1, 8, 8, 1, 2, 3, 4, 3, 5, 7, 5, 9, 6, 3, 9, 6, 1, 4, 1, 1, 1, 1, 8, 7, 1, 1, 4, 9, 4, 4, 3, 3, 9, 3, 6, 1, 4, 7, 6, 4, 3, 7, 9, 5, 1, 3, 0, 1, 2, 3, 3, 7, 6, 4, 6, 6, 8, 3, 7, 0, 1, 7, 8, 3, 0, 9, 0, 6, 9, 5, 6, 7, 0, 9, 1, 5, 4, 3, 5, 7, 5, 7, 0, 1, 6, 8, 6, 0, 8, 1, 7, 0, 5, 9, 1, 9, 5, 2, 6, 3, 4, 9, 0, 0, 7, 1, 5, 1, 8, 2, 8, 5, 8, 5, 2, 2, 4, 2, 4, 9, 7, 4, 3, 3, 2, 9, 7, 8, 8, 6, 4, 2, 3, 1, 5, 6, 1, 7, 5, 6, 5, 2, 0, 8, 3, 5, 5, 1, 0, 4, 4, 5, 2, 5, 0, 2, 2, 3, 4, 7, 5, 2, 7, 9, 1, 0, 0, 2, 7, 7, 0, 4, 3, 3, 4, 8, 7, 8, 6, 1, 4, 9, 4, 8, 5, 6, 2, 2, 8, 4, 1, 7, 0, 3, 7, 8, 7, 9, 8, 1, 1, 3, 6, 7, 3, 7, 3, 6, 1, 8, 9, 9, 2, 8, 9, 2, 9, 3, 1, 8, 8, 3, 3, 3, 9, 7, 1, 7, 5, 6, 0, 2, 7, 2, 5, 6, 4, 4, 3, 6, 7, 5, 7, 4, 6, 7, 7, 9, 2, 6, 3, 1, 8, 3, 9, 4, 3, 5, 8, 8, 6, 8, 9, 3, 9, 6, 3, 6, 0, 8, 3, 3, 7, 9, 7, 9, 5, 7, 1, 5, 1, 7, 8, 8, 6, 6, 3, 0, 8, 2, 5, 9, 8, 6, 0, 9, 8, 5, 5, 0, 0, 2, 1, 3, 1, 6, 1, 8, 2, 9, 9, 9, 2, 5, 5, 5, 7, 1, 8, 2, 9, 5, 0, 6, 7, 1, 4, 3, 8, 4, 8, 3, 3, 4, 7, 9, 8, 3, 7, 9, 6, 8, 9, 7, 1, 2, 8, 8, 9, 3, 1, 5, 0, 3, 6, 8, 7, 9, 5, 6, 6, 0, 9, 1, 1, 3, 7, 8, 1, 5, 7, 3, 0, 7, 7, 3, 9, 4, 4, 6, 6, 4, 4, 6, 8, 4, 8, 2, 5, 3, 1, 8, 7, 6, 9, 5, 7, 6, 8, 8, 2, 3, 9, 2, 1, 4, 3, 8, 1, 7, 3, 5, 4, 3, 3, 4, 8, 7, 2, 5, 1, 4, 2, 0, 1, 0, 2, 6, 9, 1, 1]\n"
          ]
        }
      ]
    },
    {
      "cell_type": "code",
      "source": [
        "print(train_data.classes)"
      ],
      "metadata": {
        "colab": {
          "base_uri": "https://localhost:8080/"
        },
        "id": "Nlw2N1z8tK6m",
        "outputId": "328fedd5-e2a5-41df-d430-a5dea3487b22"
      },
      "execution_count": 8,
      "outputs": [
        {
          "output_type": "stream",
          "name": "stdout",
          "text": [
            "['airplane', 'automobile', 'bird', 'cat', 'deer', 'dog', 'frog', 'horse', 'ship', 'truck']\n"
          ]
        }
      ]
    },
    {
      "cell_type": "code",
      "source": [
        "print(train_data.class_to_idx)"
      ],
      "metadata": {
        "colab": {
          "base_uri": "https://localhost:8080/"
        },
        "id": "k5PPqfNpuBVu",
        "outputId": "7b3176bf-0105-435a-9404-87b9a9cb7ddc"
      },
      "execution_count": 9,
      "outputs": [
        {
          "output_type": "stream",
          "name": "stdout",
          "text": [
            "{'airplane': 0, 'automobile': 1, 'bird': 2, 'cat': 3, 'deer': 4, 'dog': 5, 'frog': 6, 'horse': 7, 'ship': 8, 'truck': 9}\n"
          ]
        }
      ]
    },
    {
      "cell_type": "code",
      "source": [
        "print(type(train_data[0]))"
      ],
      "metadata": {
        "colab": {
          "base_uri": "https://localhost:8080/"
        },
        "id": "Fhom2Ft1uxgs",
        "outputId": "f32e9794-9f4c-44c3-e4e3-a68527675f5f"
      },
      "execution_count": 10,
      "outputs": [
        {
          "output_type": "stream",
          "name": "stdout",
          "text": [
            "<class 'tuple'>\n"
          ]
        }
      ]
    },
    {
      "cell_type": "code",
      "source": [
        "train_data[0]"
      ],
      "metadata": {
        "colab": {
          "base_uri": "https://localhost:8080/"
        },
        "id": "KQ0FYLfsuz6w",
        "outputId": "fb3aaed9-7df9-47fc-a09e-0bf882a924a4"
      },
      "execution_count": 11,
      "outputs": [
        {
          "output_type": "execute_result",
          "data": {
            "text/plain": [
              "(<PIL.Image.Image image mode=RGB size=32x32 at 0x7F816C8EB050>, 6)"
            ]
          },
          "metadata": {},
          "execution_count": 11
        }
      ]
    },
    {
      "cell_type": "code",
      "source": [
        "data,label = train_data[0]"
      ],
      "metadata": {
        "id": "QCXGYexLu2uw"
      },
      "execution_count": 12,
      "outputs": []
    },
    {
      "cell_type": "code",
      "source": [
        "print(data)"
      ],
      "metadata": {
        "colab": {
          "base_uri": "https://localhost:8080/"
        },
        "id": "hdJgPA57vRk1",
        "outputId": "c8d07229-e85f-4407-f619-b0237253f6bc"
      },
      "execution_count": 13,
      "outputs": [
        {
          "output_type": "stream",
          "name": "stdout",
          "text": [
            "<PIL.Image.Image image mode=RGB size=32x32 at 0x7F816C855210>\n"
          ]
        }
      ]
    },
    {
      "cell_type": "code",
      "source": [
        "print(type(data))"
      ],
      "metadata": {
        "colab": {
          "base_uri": "https://localhost:8080/"
        },
        "id": "MFftb4uOvWRW",
        "outputId": "a35a3b99-17a0-4188-da10-5b0c50e6ad91"
      },
      "execution_count": 14,
      "outputs": [
        {
          "output_type": "stream",
          "name": "stdout",
          "text": [
            "<class 'PIL.Image.Image'>\n"
          ]
        }
      ]
    },
    {
      "cell_type": "markdown",
      "source": [
        "* The data consists of a PIL image object. \n",
        "* PIL is a common\n",
        "image format that uses the Pillow library to store image pixel\n",
        "values in the format of height × width × channels."
      ],
      "metadata": {
        "id": "YeaS8SlJvf2K"
      }
    },
    {
      "cell_type": "markdown",
      "source": [
        "## Sample Image"
      ],
      "metadata": {
        "id": "ar9TV7Pmv6X8"
      }
    },
    {
      "cell_type": "code",
      "source": [
        "import matplotlib.pyplot as plt\n",
        "plt.imshow(data)\n",
        "plt.title(train_data.classes[label])"
      ],
      "metadata": {
        "colab": {
          "base_uri": "https://localhost:8080/",
          "height": 299
        },
        "id": "4e7l0DKVvYlu",
        "outputId": "50f618e9-b444-4b30-ee61-35917c8cef11"
      },
      "execution_count": 16,
      "outputs": [
        {
          "output_type": "execute_result",
          "data": {
            "text/plain": [
              "Text(0.5, 1.0, 'frog')"
            ]
          },
          "metadata": {},
          "execution_count": 16
        },
        {
          "output_type": "display_data",
          "data": {
            "text/plain": [
              "<Figure size 432x288 with 1 Axes>"
            ],
            "image/png": "[encoded data removed]"
          },
          "metadata": {
            "needs_background": "light"
          }
        }
      ]
    },
    {
      "cell_type": "markdown",
      "source": [
        "## load the test data"
      ],
      "metadata": {
        "id": "Hxu3gaCJwYeg"
      }
    },
    {
      "cell_type": "code",
      "source": [
        "test_data = CIFAR10(root=\"./test/\",train=False,download=True)\n",
        "print(test_data)"
      ],
      "metadata": {
        "colab": {
          "base_uri": "https://localhost:8080/",
          "height": 158,
          "referenced_widgets": [
            "0a2a0a8b87794ca08d0af3b2051478e8",
            "a13f7107bc3d4c64bc64fa2b597fa6d0",
            "32b68486406043f8ab62694735a95f9a",
            "026283b9f36d438ba95f64883d381fff",
            "9d6c2dcfb6a24dcf8ded3586620cdb0d",
            "100c7d5b286d45df8871f41f9ca41d0a",
            "cdf70bf1e67243608d5aa5238925d87b",
            "02923a8a0708457bbecb463f4c40c4e4",
            "12aa182088f94d859028270e39a91c57",
            "dae4017ee65940e68a18115ae61dd52f",
            "37655605eb6b48868109d8a0acbb18e5"
          ]
        },
        "id": "wvzTdWa6v3Du",
        "outputId": "6ada17b7-2480-4105-b172-0aa5ffa47bf2"
      },
      "execution_count": 17,
      "outputs": [
        {
          "output_type": "stream",
          "name": "stdout",
          "text": [
            "Downloading https://www.cs.toronto.edu/~kriz/cifar-10-python.tar.gz to ./test/cifar-10-python.tar.gz\n"
          ]
        },
        {
          "output_type": "display_data",
          "data": {
            "text/plain": [
              "  0%|          | 0/170498071 [00:00<?, ?it/s]"
            ],
            "application/vnd.jupyter.widget-view+json": {
              "version_major": 2,
              "version_minor": 0,
              "model_id": "0a2a0a8b87794ca08d0af3b2051478e8"
            }
          },
          "metadata": {}
        },
        {
          "output_type": "stream",
          "name": "stdout",
          "text": [
            "Extracting ./test/cifar-10-python.tar.gz to ./test/\n",
            "Dataset CIFAR10\n",
            "    Number of datapoints: 10000\n",
            "    Root location: ./test/\n",
            "    Split: Test\n"
          ]
        }
      ]
    },
    {
      "cell_type": "code",
      "source": [
        "print(len(test_data))"
      ],
      "metadata": {
        "colab": {
          "base_uri": "https://localhost:8080/"
        },
        "id": "e-ZMNsJFwgW8",
        "outputId": "fff4c9d7-169f-4bae-a0d3-d957c82fbf05"
      },
      "execution_count": 18,
      "outputs": [
        {
          "output_type": "stream",
          "name": "stdout",
          "text": [
            "10000\n"
          ]
        }
      ]
    },
    {
      "cell_type": "markdown",
      "source": [
        "## Data Transforms\n",
        "* The data might need to be adjusted\n",
        "before it is passed into the NN model for training and testing\n",
        "* These adjustments are accomplished by applying transforms.\n",
        "* Using transforms in PyTorch we can\n",
        "define a sequence of transforms and apply it when the data is\n",
        "accessed."
      ],
      "metadata": {
        "id": "fKe_Yk6Gxdyj"
      }
    },
    {
      "cell_type": "code",
      "source": [
        "from torchvision import transforms\n",
        "train_transforms = transforms.Compose([\n",
        "                transforms.RandomCrop(32, padding=4),\n",
        "                transforms.RandomHorizontalFlip(),\n",
        "                transforms.ToTensor(),\n",
        "                transforms.Normalize(mean=(0.4914, 0.4822, 0.4465),\n",
        "                                     std=(0.2023, 0.1994, 0.2010))\n",
        "                ])"
      ],
      "metadata": {
        "id": "jYGwXtkxxFY1"
      },
      "execution_count": 19,
      "outputs": []
    },
    {
      "cell_type": "code",
      "source": [
        "train_data = CIFAR10(root=\"./train/\",train=True,download=True,transform=train_transforms)"
      ],
      "metadata": {
        "colab": {
          "base_uri": "https://localhost:8080/"
        },
        "id": "4jat0YzAyqtB",
        "outputId": "eb74150c-755d-41ee-abb2-b78287a65140"
      },
      "execution_count": 20,
      "outputs": [
        {
          "output_type": "stream",
          "name": "stdout",
          "text": [
            "Files already downloaded and verified\n"
          ]
        }
      ]
    },
    {
      "cell_type": "code",
      "source": [
        "print(train_data)"
      ],
      "metadata": {
        "colab": {
          "base_uri": "https://localhost:8080/"
        },
        "id": "omTdtvQcy74l",
        "outputId": "fe521a8a-3537-44d0-db2c-1fa070db7b05"
      },
      "execution_count": 21,
      "outputs": [
        {
          "output_type": "stream",
          "name": "stdout",
          "text": [
            "Dataset CIFAR10\n",
            "    Number of datapoints: 50000\n",
            "    Root location: ./train/\n",
            "    Split: Train\n",
            "    StandardTransform\n",
            "Transform: Compose(\n",
            "               RandomCrop(size=(32, 32), padding=4)\n",
            "               RandomHorizontalFlip(p=0.5)\n",
            "               ToTensor()\n",
            "               Normalize(mean=(0.4914, 0.4822, 0.4465), std=(0.2023, 0.1994, 0.201))\n",
            "           )\n"
          ]
        }
      ]
    },
    {
      "cell_type": "code",
      "source": [
        "print(train_data.transforms)"
      ],
      "metadata": {
        "colab": {
          "base_uri": "https://localhost:8080/"
        },
        "id": "UQHIvTZxzJF9",
        "outputId": "28478fd1-1767-41d3-c04a-10a409c36dd4"
      },
      "execution_count": 22,
      "outputs": [
        {
          "output_type": "stream",
          "name": "stdout",
          "text": [
            "StandardTransform\n",
            "Transform: Compose(\n",
            "               RandomCrop(size=(32, 32), padding=4)\n",
            "               RandomHorizontalFlip(p=0.5)\n",
            "               ToTensor()\n",
            "               Normalize(mean=(0.4914, 0.4822, 0.4465), std=(0.2023, 0.1994, 0.201))\n",
            "           )\n"
          ]
        }
      ]
    },
    {
      "cell_type": "code",
      "source": [
        "data, label = train_data[0]"
      ],
      "metadata": {
        "id": "STzK-hRyzdZV"
      },
      "execution_count": 23,
      "outputs": []
    },
    {
      "cell_type": "code",
      "source": [
        "print(data.size())"
      ],
      "metadata": {
        "colab": {
          "base_uri": "https://localhost:8080/"
        },
        "id": "c1ShaCNJzrG5",
        "outputId": "3593ea1e-a762-4cb5-8d46-e089c666d11a"
      },
      "execution_count": 25,
      "outputs": [
        {
          "output_type": "stream",
          "name": "stdout",
          "text": [
            "torch.Size([3, 32, 32])\n"
          ]
        }
      ]
    },
    {
      "cell_type": "code",
      "source": [
        "import matplotlib.pyplot as plt\n",
        "# Set the color channel as the third dimension\n",
        "image = data.numpy().transpose((1, 2, 0))\n",
        "plt.imshow(image)\n",
        "plt.title(train_data.classes[label])"
      ],
      "metadata": {
        "colab": {
          "base_uri": "https://localhost:8080/",
          "height": 317
        },
        "id": "6g8IH72-zf5y",
        "outputId": "998064b3-786b-485f-ac01-cb62d018559c"
      },
      "execution_count": 26,
      "outputs": [
        {
          "output_type": "stream",
          "name": "stderr",
          "text": [
            "WARNING:matplotlib.image:Clipping input data to the valid range for imshow with RGB data ([0..1] for floats or [0..255] for integers).\n"
          ]
        },
        {
          "output_type": "execute_result",
          "data": {
            "text/plain": [
              "Text(0.5, 1.0, 'frog')"
            ]
          },
          "metadata": {},
          "execution_count": 26
        },
        {
          "output_type": "display_data",
          "data": {
            "text/plain": [
              "<Figure size 432x288 with 1 Axes>"
            ],
            "image/png": "[encoded data removed]"
          },
          "metadata": {
            "needs_background": "light"
          }
        }
      ]
    },
    {
      "cell_type": "markdown",
      "source": [
        "## Image Classification with Transfer Learning"
      ],
      "metadata": {
        "id": "yRksJDLO0v2n"
      }
    },
    {
      "cell_type": "markdown",
      "source": [
        "* Transfer learning, a process in which\n",
        "we fine-tune pretrained models with a much smaller dataset of\n",
        "new images"
      ],
      "metadata": {
        "id": "cvmIJNGc0-Z4"
      }
    },
    {
      "cell_type": "markdown",
      "source": [
        "To train our new classifier, we will fine-tune another famous\n",
        "model, called **ResNet18**, by loading the pretrained model and\n",
        "training it with 120 new training images of bees and ants—a\n",
        "much smaller set compared to the millions of images in\n",
        "ImageNet."
      ],
      "metadata": {
        "id": "HG-c27ox1k1z"
      }
    },
    {
      "cell_type": "markdown",
      "source": [
        "## Data Processing"
      ],
      "metadata": {
        "id": "UsyWh63c1qRD"
      }
    },
    {
      "cell_type": "code",
      "source": [
        "import torch\n",
        "import torch.nn as nn\n",
        "import torch.optim as optim\n",
        "import numpy as np\n",
        "import torchvision\n",
        "from torchvision import datasets, models\n",
        "from torchvision import transforms"
      ],
      "metadata": {
        "id": "Crrh-L9f0xKH"
      },
      "execution_count": 27,
      "outputs": []
    },
    {
      "cell_type": "markdown",
      "source": [
        "## Download the data that we’ll use for training and validation:"
      ],
      "metadata": {
        "id": "Nqg0UGoQ2NNG"
      }
    },
    {
      "cell_type": "code",
      "source": [
        "from io import BytesIO\n",
        "from urllib.request import urlopen\n",
        "from zipfile import ZipFile\n",
        "zipurl = 'https://pytorch.tips/bee-zip'\n",
        "with urlopen(zipurl) as zipresp:\n",
        "  with ZipFile(BytesIO(zipresp.read())) as zfile:\n",
        "    zfile.extractall('./data')"
      ],
      "metadata": {
        "id": "100dzAwA2QeQ"
      },
      "execution_count": 28,
      "outputs": []
    },
    {
      "cell_type": "markdown",
      "source": [
        "## Data\n",
        "\n",
        "* Data is loaded as images in your local data/ folder. \n",
        "\n",
        "* They are located in\n",
        "data/hymenoptera_data/train and data/hymenoptera_data/val,\n",
        "respectively."
      ],
      "metadata": {
        "id": "FRYsfKnZ2hGL"
      }
    },
    {
      "cell_type": "markdown",
      "source": [
        "## Define our transforms, load the data, and configure batch samplers."
      ],
      "metadata": {
        "id": "6-odIZE42ymU"
      }
    },
    {
      "cell_type": "code",
      "source": [
        "train_transforms = transforms.Compose([\n",
        "                                      transforms.RandomResizedCrop(224),\n",
        "                                      transforms.RandomHorizontalFlip(),\n",
        "                                      transforms.ToTensor(),\n",
        "                                      transforms.Normalize(mean=[0.485, 0.456,0.406],\n",
        "                                                           std=[0.229, 0.224, 0.225])\n",
        "                                      ])\n",
        "val_transforms = transforms.Compose([\n",
        "                                    transforms.Resize(256),\n",
        "                                    transforms.CenterCrop(224),\n",
        "                                    transforms.ToTensor(),\n",
        "                                    transforms.Normalize(mean=[0.485, 0.456, 0.406],\n",
        "                                                        std=[0.229, 0.224, 0.225])\n",
        "                                    ])"
      ],
      "metadata": {
        "id": "ZqeeBo1z2q1i"
      },
      "execution_count": 29,
      "outputs": []
    },
    {
      "cell_type": "markdown",
      "source": [
        "## Define Dataset"
      ],
      "metadata": {
        "id": "8a6-uSQx4emM"
      }
    },
    {
      "cell_type": "code",
      "source": [
        "train_dataset = datasets.ImageFolder(root='data/hymenoptera_data/train',transform=train_transforms)\n",
        "val_dataset = datasets.ImageFolder(root='data/hymenoptera_data/val',transform=val_transforms)"
      ],
      "metadata": {
        "id": "9AVBKDlv4hfj"
      },
      "execution_count": 30,
      "outputs": []
    },
    {
      "cell_type": "markdown",
      "source": [
        "## Define dataloaders for batch iteration:"
      ],
      "metadata": {
        "id": "CJMp-WZx4tzW"
      }
    },
    {
      "cell_type": "markdown",
      "source": [
        "* num_workers --> configure that many CPU processes to handle the parallel processing"
      ],
      "metadata": {
        "id": "zDO3TFj95cE8"
      }
    },
    {
      "cell_type": "code",
      "source": [
        "train_loader = torch.utils.data.DataLoader(train_dataset,\n",
        "                                           batch_size=4,\n",
        "                                           shuffle=True,\n",
        "                                           num_workers=0)\n",
        "val_loader = torch.utils.data.DataLoader(val_dataset,\n",
        "                                         batch_size=4,\n",
        "                                         shuffle=True,\n",
        "                                        num_workers=0)"
      ],
      "metadata": {
        "id": "E28LJjN84xf6"
      },
      "execution_count": 31,
      "outputs": []
    },
    {
      "cell_type": "markdown",
      "source": [
        "## Model Design"
      ],
      "metadata": {
        "id": "mI9cO3q65h-b"
      }
    },
    {
      "cell_type": "code",
      "source": [
        "model = models.resnet18(pretrained=True)"
      ],
      "metadata": {
        "colab": {
          "base_uri": "https://localhost:8080/",
          "height": 160,
          "referenced_widgets": [
            "ba2c7c62cca847a9b15ada4332917655",
            "2cdc75e954fe487d8e8790c8ed39e703",
            "d5d54fbeccc342b392ffb32808231908",
            "7431ab48ddc843caa4edfeaa953220e6",
            "8a50fa2eb47642a1b41ff78e6ea57e60",
            "2b5e590d6c9140289b48a4b4f4bde3b5",
            "355e024200224e948b3e2f9444c90384",
            "42ef6ef7ce9644c886f46fedfd7afe6b",
            "9b91f9f1ce95481bad3da4f072dba30a",
            "d9afc4bfedc34e3bbc77bcc56fb7961f",
            "ee1225467ca34d418af04651749e5184"
          ]
        },
        "id": "gvwUkOxU5jpd",
        "outputId": "1ca96ec6-1df7-4a81-ceff-7f0716accff7"
      },
      "execution_count": 32,
      "outputs": [
        {
          "output_type": "stream",
          "name": "stderr",
          "text": [
            "/usr/local/lib/python3.7/dist-packages/torchvision/models/_utils.py:209: UserWarning: The parameter 'pretrained' is deprecated since 0.13 and will be removed in 0.15, please use 'weights' instead.\n",
            "  f\"The parameter '{pretrained_param}' is deprecated since 0.13 and will be removed in 0.15, \"\n",
            "/usr/local/lib/python3.7/dist-packages/torchvision/models/_utils.py:223: UserWarning: Arguments other than a weight enum or `None` for 'weights' are deprecated since 0.13 and will be removed in 0.15. The current behavior is equivalent to passing `weights=ResNet18_Weights.IMAGENET1K_V1`. You can also use `weights=ResNet18_Weights.DEFAULT` to get the most up-to-date weights.\n",
            "  warnings.warn(msg)\n",
            "Downloading: \"https://download.pytorch.org/models/resnet18-f37072fd.pth\" to /root/.cache/torch/hub/checkpoints/resnet18-f37072fd.pth\n"
          ]
        },
        {
          "output_type": "display_data",
          "data": {
            "text/plain": [
              "  0%|          | 0.00/44.7M [00:00<?, ?B/s]"
            ],
            "application/vnd.jupyter.widget-view+json": {
              "version_major": 2,
              "version_minor": 0,
              "model_id": "ba2c7c62cca847a9b15ada4332917655"
            }
          },
          "metadata": {}
        }
      ]
    },
    {
      "cell_type": "code",
      "source": [
        "print(model.fc)"
      ],
      "metadata": {
        "colab": {
          "base_uri": "https://localhost:8080/"
        },
        "id": "btVj4jlQ5mOK",
        "outputId": "bff4b046-a719-4917-ee17-baee4b14a5d3"
      },
      "execution_count": 33,
      "outputs": [
        {
          "output_type": "stream",
          "name": "stdout",
          "text": [
            "Linear(in_features=512, out_features=1000, bias=True)\n"
          ]
        }
      ]
    },
    {
      "cell_type": "code",
      "source": [
        "num_ftrs = model.fc.in_features\n",
        "model.fc = nn.Linear(num_ftrs, 2)\n",
        "print(model.fc)"
      ],
      "metadata": {
        "colab": {
          "base_uri": "https://localhost:8080/"
        },
        "id": "7TZj7umi5u2b",
        "outputId": "0ce4f133-9a9a-457d-cf88-4ad20c68ced4"
      },
      "execution_count": 34,
      "outputs": [
        {
          "output_type": "stream",
          "name": "stdout",
          "text": [
            "Linear(in_features=512, out_features=2, bias=True)\n"
          ]
        }
      ]
    },
    {
      "cell_type": "markdown",
      "source": [
        "## Training and Validation"
      ],
      "metadata": {
        "id": "IcWpBS-u53xc"
      }
    },
    {
      "cell_type": "code",
      "source": [],
      "metadata": {
        "id": "DeKtSutZ55Bq"
      },
      "execution_count": null,
      "outputs": []
    }
  ]
}