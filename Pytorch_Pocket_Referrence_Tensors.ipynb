{
  "nbformat": 4,
  "nbformat_minor": 0,
  "metadata": {
    "colab": {
      "provenance": [],
      "authorship_tag": "ABX9TyNaPalwWPBYoiOhnyJ/INMd",
      "include_colab_link": true
    },
    "kernelspec": {
      "name": "python3",
      "display_name": "Python 3"
    },
    "language_info": {
      "name": "python"
    }
  },
  "cells": [
    {
      "cell_type": "markdown",
      "metadata": {
        "id": "view-in-github",
        "colab_type": "text"
      },
      "source": [
        "<a href=\"https://colab.research.google.com/github/plaban1981/Pytorch_DL/blob/main/Pytorch_Pocket_Referrence_Tensors.ipynb\" target=\"_parent\"><img src=\"https://colab.research.google.com/assets/colab-badge.svg\" alt=\"Open In Colab\"/></a>"
      ]
    },
    {
      "cell_type": "code",
      "execution_count": 1,
      "metadata": {
        "id": "_f2ttPEgQWZa"
      },
      "outputs": [],
      "source": [
        "import torch\n",
        "import numpy as np"
      ]
    },
    {
      "cell_type": "code",
      "source": [
        "# Created from preexisting arrays\n",
        "w = torch.tensor([1,2,3]) #list\n",
        "print(w)\n",
        "w = torch.tensor((1,2,3)) # Tuple\n",
        "print(w)\n",
        "w = torch.tensor(np.array([1,2,3])) #numpy array\n",
        "print(w)\n",
        "# Initialized by size\n",
        "w = torch.empty(100,200)\n",
        "print(w)\n",
        "w = torch.zeros(100,200)\n",
        "print(w)\n",
        "w = torch.ones(100,200)\n",
        "print(w)"
      ],
      "metadata": {
        "colab": {
          "base_uri": "https://localhost:8080/"
        },
        "id": "GiMungFmQrcF",
        "outputId": "68023b06-d4b9-4951-eaf4-69492aa09f62"
      },
      "execution_count": 2,
      "outputs": [
        {
          "output_type": "stream",
          "name": "stdout",
          "text": [
            "tensor([1, 2, 3])\n",
            "tensor([1, 2, 3])\n",
            "tensor([1, 2, 3])\n",
            "tensor([[0., 0., 0.,  ..., 0., 0., 0.],\n",
            "        [0., 0., 0.,  ..., 0., 0., 0.],\n",
            "        [0., 0., 0.,  ..., 0., 0., 0.],\n",
            "        ...,\n",
            "        [0., 0., 0.,  ..., 0., 0., 0.],\n",
            "        [0., 0., 0.,  ..., 0., 0., 0.],\n",
            "        [0., 0., 0.,  ..., 0., 0., 0.]])\n",
            "tensor([[0., 0., 0.,  ..., 0., 0., 0.],\n",
            "        [0., 0., 0.,  ..., 0., 0., 0.],\n",
            "        [0., 0., 0.,  ..., 0., 0., 0.],\n",
            "        ...,\n",
            "        [0., 0., 0.,  ..., 0., 0., 0.],\n",
            "        [0., 0., 0.,  ..., 0., 0., 0.],\n",
            "        [0., 0., 0.,  ..., 0., 0., 0.]])\n",
            "tensor([[1., 1., 1.,  ..., 1., 1., 1.],\n",
            "        [1., 1., 1.,  ..., 1., 1., 1.],\n",
            "        [1., 1., 1.,  ..., 1., 1., 1.],\n",
            "        ...,\n",
            "        [1., 1., 1.,  ..., 1., 1., 1.],\n",
            "        [1., 1., 1.,  ..., 1., 1., 1.],\n",
            "        [1., 1., 1.,  ..., 1., 1., 1.]])\n"
          ]
        }
      ]
    },
    {
      "cell_type": "code",
      "source": [
        "# Initialized by size with random values\n",
        "w = torch.rand(100,200)\n",
        "print(w)\n",
        "w = torch.randn(100,200)\n",
        "print(w)\n",
        "w = torch.randint(5,10,(100,200))\n",
        "print(w)\n",
        "# Initialized with specified data type or device\n",
        "w = torch.empty((100,200), dtype=torch.float64,device=\"cpu\")\n",
        "print(w)\n",
        "# Initialized to have the same size, data type,\n",
        "# and device as another tensor\n",
        "x = torch.empty_like(w)\n",
        "print(x)"
      ],
      "metadata": {
        "colab": {
          "base_uri": "https://localhost:8080/"
        },
        "id": "FXOIQBXAQ_QP",
        "outputId": "3220ae6d-6fe7-47e6-dbec-13fb65818f34"
      },
      "execution_count": 3,
      "outputs": [
        {
          "output_type": "stream",
          "name": "stdout",
          "text": [
            "tensor([[0.2225, 0.6783, 0.4923,  ..., 0.0805, 0.1880, 0.0098],\n",
            "        [0.0916, 0.4093, 0.8508,  ..., 0.6457, 0.8968, 0.5150],\n",
            "        [0.0268, 0.4077, 0.1794,  ..., 0.3196, 0.3250, 0.1898],\n",
            "        ...,\n",
            "        [0.3910, 0.1441, 0.1026,  ..., 0.2273, 0.6439, 0.9102],\n",
            "        [0.5851, 0.8153, 0.6320,  ..., 0.2890, 0.6013, 0.0564],\n",
            "        [0.3327, 0.5044, 0.2245,  ..., 0.4684, 0.8679, 0.2474]])\n",
            "tensor([[ 1.2882e+00, -9.1558e-01,  7.8231e-01,  ..., -1.0210e-01,\n",
            "         -8.5493e-01, -1.4500e+00],\n",
            "        [-1.1089e-03,  5.9136e-01, -2.5820e-01,  ...,  9.9834e-01,\n",
            "          8.0106e-02, -4.9474e-01],\n",
            "        [ 1.0670e+00,  1.5238e+00,  3.2759e-01,  ...,  1.1444e+00,\n",
            "          1.2477e+00, -5.1907e-01],\n",
            "        ...,\n",
            "        [-6.2720e-01, -3.5206e-01, -6.2252e-01,  ..., -4.1726e-02,\n",
            "          9.7799e-01,  5.0047e-01],\n",
            "        [-3.9310e-01,  2.4846e-02, -8.2506e-01,  ...,  1.3258e+00,\n",
            "         -3.5108e-01, -7.9355e-01],\n",
            "        [ 1.4121e+00,  1.9977e-01,  6.1446e-01,  ..., -7.2942e-01,\n",
            "          4.8187e-01,  8.9395e-01]])\n",
            "tensor([[7, 8, 8,  ..., 8, 5, 6],\n",
            "        [7, 5, 8,  ..., 8, 8, 7],\n",
            "        [5, 9, 6,  ..., 6, 8, 9],\n",
            "        ...,\n",
            "        [6, 6, 9,  ..., 8, 5, 8],\n",
            "        [9, 7, 8,  ..., 9, 5, 8],\n",
            "        [5, 6, 5,  ..., 9, 6, 5]])\n",
            "tensor([[0., 0., 0.,  ..., 0., 0., 0.],\n",
            "        [0., 0., 0.,  ..., 0., 0., 0.],\n",
            "        [0., 0., 0.,  ..., 0., 0., 0.],\n",
            "        ...,\n",
            "        [0., 0., 0.,  ..., 0., 0., 0.],\n",
            "        [0., 0., 0.,  ..., 0., 0., 0.],\n",
            "        [0., 0., 0.,  ..., 0., 0., 0.]], dtype=torch.float64)\n",
            "tensor([[ 0.0000e+00, 3.9525e-323, 3.9525e-323,  ..., 3.9525e-323,\n",
            "         2.4703e-323, 2.9644e-323],\n",
            "        [3.4585e-323, 2.4703e-323, 3.9525e-323,  ..., 3.9525e-323,\n",
            "         3.9525e-323, 3.4585e-323],\n",
            "        [2.4703e-323, 4.4466e-323, 2.9644e-323,  ..., 2.9644e-323,\n",
            "         3.9525e-323, 4.4466e-323],\n",
            "        ...,\n",
            "        [2.9644e-323, 2.9644e-323, 4.4466e-323,  ..., 3.9525e-323,\n",
            "         2.4703e-323, 3.9525e-323],\n",
            "        [4.4466e-323, 3.4585e-323, 3.9525e-323,  ..., 4.4466e-323,\n",
            "         2.4703e-323, 3.9525e-323],\n",
            "        [2.4703e-323, 2.9644e-323, 2.4703e-323,  ..., 4.4466e-323,\n",
            "         2.9644e-323, 2.4703e-323]], dtype=torch.float64)\n"
          ]
        }
      ]
    },
    {
      "cell_type": "code",
      "source": [
        "x.dtype"
      ],
      "metadata": {
        "colab": {
          "base_uri": "https://localhost:8080/"
        },
        "id": "NetQkoXwRbbm",
        "outputId": "e392afb5-8f3f-4a35-bb59-65aadc596cb0"
      },
      "execution_count": 4,
      "outputs": [
        {
          "output_type": "execute_result",
          "data": {
            "text/plain": [
              "torch.float64"
            ]
          },
          "metadata": {},
          "execution_count": 4
        }
      ]
    },
    {
      "cell_type": "code",
      "source": [
        "x.device"
      ],
      "metadata": {
        "colab": {
          "base_uri": "https://localhost:8080/"
        },
        "id": "c_9B7Y_UR7sG",
        "outputId": "6238955e-df09-454f-a1b2-15061984824c"
      },
      "execution_count": 5,
      "outputs": [
        {
          "output_type": "execute_result",
          "data": {
            "text/plain": [
              "device(type='cpu')"
            ]
          },
          "metadata": {},
          "execution_count": 5
        }
      ]
    },
    {
      "cell_type": "code",
      "source": [
        "x.shape"
      ],
      "metadata": {
        "colab": {
          "base_uri": "https://localhost:8080/"
        },
        "id": "Lya_dQTNR9l-",
        "outputId": "2c2b55ce-76eb-4a4b-f192-ccba22dd7167"
      },
      "execution_count": 6,
      "outputs": [
        {
          "output_type": "execute_result",
          "data": {
            "text/plain": [
              "torch.Size([100, 200])"
            ]
          },
          "metadata": {},
          "execution_count": 6
        }
      ]
    },
    {
      "cell_type": "code",
      "source": [
        "x.ndim"
      ],
      "metadata": {
        "colab": {
          "base_uri": "https://localhost:8080/"
        },
        "id": "yrYplEnqR_1f",
        "outputId": "40fe5a15-e8d4-43af-a83d-ed50c99eb2c2"
      },
      "execution_count": 7,
      "outputs": [
        {
          "output_type": "execute_result",
          "data": {
            "text/plain": [
              "2"
            ]
          },
          "metadata": {},
          "execution_count": 7
        }
      ]
    },
    {
      "cell_type": "code",
      "source": [
        "x.requires_grad"
      ],
      "metadata": {
        "colab": {
          "base_uri": "https://localhost:8080/"
        },
        "id": "JInZqFMrymRq",
        "outputId": "6c51be11-d9ba-4587-f0c0-fcf45c72ae99"
      },
      "execution_count": 8,
      "outputs": [
        {
          "output_type": "execute_result",
          "data": {
            "text/plain": [
              "False"
            ]
          },
          "metadata": {},
          "execution_count": 8
        }
      ]
    },
    {
      "cell_type": "code",
      "source": [
        "x.grad #Contains the actual gradients if requires_grad is True"
      ],
      "metadata": {
        "id": "EHIOsdk_L8mb"
      },
      "execution_count": 9,
      "outputs": []
    },
    {
      "cell_type": "code",
      "source": [
        "torch.eye(3,4) #Creates a 2D tensor with ones on thediagonal and zeros everywhere else"
      ],
      "metadata": {
        "id": "4gDVR9BBypp6",
        "colab": {
          "base_uri": "https://localhost:8080/"
        },
        "outputId": "074b62ac-759b-46a0-e78b-defe593007bf"
      },
      "execution_count": 10,
      "outputs": [
        {
          "output_type": "execute_result",
          "data": {
            "text/plain": [
              "tensor([[1., 0., 0., 0.],\n",
              "        [0., 1., 0., 0.],\n",
              "        [0., 0., 1., 0.]])"
            ]
          },
          "metadata": {},
          "execution_count": 10
        }
      ]
    },
    {
      "cell_type": "code",
      "source": [
        "torch.full((2,3),1.5) # Creates a tensor filled with fill_value=1.5"
      ],
      "metadata": {
        "colab": {
          "base_uri": "https://localhost:8080/"
        },
        "id": "8pvIowOHHtG7",
        "outputId": "0803becf-e11b-4ddd-b0df-fef532217eaf"
      },
      "execution_count": 11,
      "outputs": [
        {
          "output_type": "execute_result",
          "data": {
            "text/plain": [
              "tensor([[1.5000, 1.5000, 1.5000],\n",
              "        [1.5000, 1.5000, 1.5000]])"
            ]
          },
          "metadata": {},
          "execution_count": 11
        }
      ]
    },
    {
      "cell_type": "code",
      "source": [
        "x.grad_fn #Stores the graph computation function used if requires_grad is True"
      ],
      "metadata": {
        "id": "xlJj9FSaKQGy"
      },
      "execution_count": 12,
      "outputs": []
    },
    {
      "cell_type": "markdown",
      "source": [
        "## Data Types"
      ],
      "metadata": {
        "id": "R3I-fTZFN2e6"
      }
    },
    {
      "cell_type": "code",
      "source": [
        "# Specify the data type at creation using dtype\n",
        "w = torch.tensor([1,2,3], dtype=torch.float32)\n",
        "w"
      ],
      "metadata": {
        "colab": {
          "base_uri": "https://localhost:8080/"
        },
        "id": "iC0mZGhCNOsQ",
        "outputId": "b3d861f3-1a00-463c-8389-9854d1bb19b2"
      },
      "execution_count": 13,
      "outputs": [
        {
          "output_type": "execute_result",
          "data": {
            "text/plain": [
              "tensor([1., 2., 3.])"
            ]
          },
          "metadata": {},
          "execution_count": 13
        }
      ]
    },
    {
      "cell_type": "code",
      "source": [
        "# Use the casting method to cast to a new data type\n",
        "w.int() # w remains a float32 after the cast\n",
        "w = w.int() # w changes to an int32 after the cast\n",
        "w"
      ],
      "metadata": {
        "colab": {
          "base_uri": "https://localhost:8080/"
        },
        "id": "97vr1g4eONjl",
        "outputId": "5d2883d0-6918-4e86-e726-f77a68b5e6e0"
      },
      "execution_count": 14,
      "outputs": [
        {
          "output_type": "execute_result",
          "data": {
            "text/plain": [
              "tensor([1, 2, 3], dtype=torch.int32)"
            ]
          },
          "metadata": {},
          "execution_count": 14
        }
      ]
    },
    {
      "cell_type": "code",
      "source": [
        "# Use the to() method to cast to a new type\n",
        "w = w.to(torch.float64)\n",
        "w = w.to(dtype=torch.float64)\n",
        "w"
      ],
      "metadata": {
        "colab": {
          "base_uri": "https://localhost:8080/"
        },
        "id": "6yZFPjTgOyuZ",
        "outputId": "388f9908-f6bc-489a-aae0-0f5b61a487e2"
      },
      "execution_count": 15,
      "outputs": [
        {
          "output_type": "execute_result",
          "data": {
            "text/plain": [
              "tensor([1., 2., 3.], dtype=torch.float64)"
            ]
          },
          "metadata": {},
          "execution_count": 15
        }
      ]
    },
    {
      "cell_type": "code",
      "source": [
        "# Python automatically converts data types during\n",
        "# operations\n",
        "x = torch.tensor([1,2,3], dtype=torch.int32)\n",
        "y = torch.tensor([1,2,3], dtype=torch.float32)\n",
        "print(x)\n",
        "print(y)\n",
        "z = x + y\n",
        "\n",
        "print(z.dtype)"
      ],
      "metadata": {
        "colab": {
          "base_uri": "https://localhost:8080/"
        },
        "id": "Xd5Ci1m_Pfox",
        "outputId": "7796277d-c415-444f-d1b5-30d915821aa6"
      },
      "execution_count": 16,
      "outputs": [
        {
          "output_type": "stream",
          "name": "stdout",
          "text": [
            "tensor([1, 2, 3], dtype=torch.int32)\n",
            "tensor([1., 2., 3.])\n",
            "torch.float32\n"
          ]
        }
      ]
    },
    {
      "cell_type": "markdown",
      "source": [
        "## Indexing, Slicing, Combining, and Splitting Tensors"
      ],
      "metadata": {
        "id": "FVy3UVADd7_z"
      }
    },
    {
      "cell_type": "code",
      "source": [
        "x = torch.tensor([[1,2],[3,4],[5,6],[7,8]])\n",
        "print(x)"
      ],
      "metadata": {
        "colab": {
          "base_uri": "https://localhost:8080/"
        },
        "id": "ddS4aVCuRENh",
        "outputId": "35f6ff04-953d-4270-b164-959e01de6068"
      },
      "execution_count": 17,
      "outputs": [
        {
          "output_type": "stream",
          "name": "stdout",
          "text": [
            "tensor([[1, 2],\n",
            "        [3, 4],\n",
            "        [5, 6],\n",
            "        [7, 8]])\n"
          ]
        }
      ]
    },
    {
      "cell_type": "code",
      "source": [
        "# Indexing, returns a tensor\n",
        "print(x[1,1])"
      ],
      "metadata": {
        "colab": {
          "base_uri": "https://localhost:8080/"
        },
        "id": "8jcYMVxqeUUR",
        "outputId": "dc73bfa7-6ee6-493f-935f-11e6c9bebd82"
      },
      "execution_count": 18,
      "outputs": [
        {
          "output_type": "stream",
          "name": "stdout",
          "text": [
            "tensor(4)\n"
          ]
        }
      ]
    },
    {
      "cell_type": "code",
      "source": [
        "# Indexing, returns a value as a Python number\n",
        "print(x[1,1].item())"
      ],
      "metadata": {
        "colab": {
          "base_uri": "https://localhost:8080/"
        },
        "id": "fqtd6Wi8ehJl",
        "outputId": "f6449c4c-71ca-4b71-acba-a5722aee3ad1"
      },
      "execution_count": 19,
      "outputs": [
        {
          "output_type": "stream",
          "name": "stdout",
          "text": [
            "4\n"
          ]
        }
      ]
    },
    {
      "cell_type": "code",
      "source": [
        "# Slicing\n",
        "print(x[:2,1])"
      ],
      "metadata": {
        "colab": {
          "base_uri": "https://localhost:8080/"
        },
        "id": "TAAc4kHXew1A",
        "outputId": "1f47af74-2940-41e7-b838-b8898c453045"
      },
      "execution_count": 20,
      "outputs": [
        {
          "output_type": "stream",
          "name": "stdout",
          "text": [
            "tensor([2, 4])\n"
          ]
        }
      ]
    },
    {
      "cell_type": "code",
      "source": [
        "# Boolean indexing\n",
        "# Only keep elements less than 5\n",
        "print(x[x<5])"
      ],
      "metadata": {
        "colab": {
          "base_uri": "https://localhost:8080/"
        },
        "id": "Nvt-A2WHgElD",
        "outputId": "18164a12-e0b7-4744-a766-4eae421c533e"
      },
      "execution_count": 21,
      "outputs": [
        {
          "output_type": "stream",
          "name": "stdout",
          "text": [
            "tensor([1, 2, 3, 4])\n"
          ]
        }
      ]
    },
    {
      "cell_type": "code",
      "source": [
        "# Transpose array; x.t() or x.T can be used\n",
        "print(x.t())"
      ],
      "metadata": {
        "colab": {
          "base_uri": "https://localhost:8080/"
        },
        "id": "BtmYxwQJgRPp",
        "outputId": "b3b37593-d219-44af-c39c-31a37a61f0f7"
      },
      "execution_count": 22,
      "outputs": [
        {
          "output_type": "stream",
          "name": "stdout",
          "text": [
            "tensor([[1, 3, 5, 7],\n",
            "        [2, 4, 6, 8]])\n"
          ]
        }
      ]
    },
    {
      "cell_type": "code",
      "source": [
        "# Change shape; usually view() is preferred over\n",
        "# reshape()\n",
        "print(x.view((2,4)))"
      ],
      "metadata": {
        "colab": {
          "base_uri": "https://localhost:8080/"
        },
        "id": "It3_t-mXhjXs",
        "outputId": "803d98a4-c50b-4f15-e619-8fe4720cce30"
      },
      "execution_count": 23,
      "outputs": [
        {
          "output_type": "stream",
          "name": "stdout",
          "text": [
            "tensor([[1, 2, 3, 4],\n",
            "        [5, 6, 7, 8]])\n"
          ]
        }
      ]
    },
    {
      "cell_type": "code",
      "source": [
        "# Combining tensors\n",
        "y = torch.stack((x, x))\n",
        "print(y)"
      ],
      "metadata": {
        "colab": {
          "base_uri": "https://localhost:8080/"
        },
        "id": "X3oiiF9zh2Sl",
        "outputId": "b528d8d0-417c-4064-d3ef-72f02b589a59"
      },
      "execution_count": 24,
      "outputs": [
        {
          "output_type": "stream",
          "name": "stdout",
          "text": [
            "tensor([[[1, 2],\n",
            "         [3, 4],\n",
            "         [5, 6],\n",
            "         [7, 8]],\n",
            "\n",
            "        [[1, 2],\n",
            "         [3, 4],\n",
            "         [5, 6],\n",
            "         [7, 8]]])\n"
          ]
        }
      ]
    },
    {
      "cell_type": "code",
      "source": [
        "x"
      ],
      "metadata": {
        "colab": {
          "base_uri": "https://localhost:8080/"
        },
        "id": "38bkGkmsnE9-",
        "outputId": "2bbf5088-ce7f-43c9-caa5-293b661372e5"
      },
      "execution_count": 32,
      "outputs": [
        {
          "output_type": "execute_result",
          "data": {
            "text/plain": [
              "tensor([[1, 2],\n",
              "        [3, 4],\n",
              "        [5, 6],\n",
              "        [7, 8]])"
            ]
          },
          "metadata": {},
          "execution_count": 32
        }
      ]
    },
    {
      "cell_type": "code",
      "source": [
        "x.squeeze()"
      ],
      "metadata": {
        "colab": {
          "base_uri": "https://localhost:8080/"
        },
        "id": "Lk7v6uy1nMGD",
        "outputId": "8f63daec-e018-48b9-a61a-615462658c4d"
      },
      "execution_count": 33,
      "outputs": [
        {
          "output_type": "execute_result",
          "data": {
            "text/plain": [
              "tensor([[1, 2],\n",
              "        [3, 4],\n",
              "        [5, 6],\n",
              "        [7, 8]])"
            ]
          },
          "metadata": {},
          "execution_count": 33
        }
      ]
    },
    {
      "cell_type": "code",
      "source": [
        "# Splitting tensors\n",
        "a,b = x.unbind(dim=1)\n",
        "print(a,b)"
      ],
      "metadata": {
        "colab": {
          "base_uri": "https://localhost:8080/"
        },
        "id": "6jVNImvKh7tS",
        "outputId": "4b25b95a-db13-469e-9310-d83d390e4984"
      },
      "execution_count": 25,
      "outputs": [
        {
          "output_type": "stream",
          "name": "stdout",
          "text": [
            "tensor([1, 3, 5, 7]) tensor([2, 4, 6, 8])\n"
          ]
        }
      ]
    },
    {
      "cell_type": "code",
      "source": [
        "c,d = y.unbind(dim=0)"
      ],
      "metadata": {
        "id": "ntTnNE0imvK-"
      },
      "execution_count": 26,
      "outputs": []
    },
    {
      "cell_type": "code",
      "source": [
        "print(c,d)"
      ],
      "metadata": {
        "colab": {
          "base_uri": "https://localhost:8080/"
        },
        "id": "-jgZmeVym0c7",
        "outputId": "117ff850-e971-41f8-d6c5-1ac29463fa3c"
      },
      "execution_count": 27,
      "outputs": [
        {
          "output_type": "stream",
          "name": "stdout",
          "text": [
            "tensor([[1, 2],\n",
            "        [3, 4],\n",
            "        [5, 6],\n",
            "        [7, 8]]) tensor([[1, 2],\n",
            "        [3, 4],\n",
            "        [5, 6],\n",
            "        [7, 8]])\n"
          ]
        }
      ]
    },
    {
      "cell_type": "code",
      "source": [
        "c,d = y.unbind()"
      ],
      "metadata": {
        "id": "WTumJYEsm3gb"
      },
      "execution_count": 30,
      "outputs": []
    },
    {
      "cell_type": "code",
      "source": [
        "c"
      ],
      "metadata": {
        "colab": {
          "base_uri": "https://localhost:8080/"
        },
        "id": "4CzRPuyKm-Tz",
        "outputId": "b5d362b0-6391-46cd-f8ba-809e81782dc0"
      },
      "execution_count": 29,
      "outputs": [
        {
          "output_type": "execute_result",
          "data": {
            "text/plain": [
              "tensor([[1, 2],\n",
              "        [3, 4],\n",
              "        [5, 6],\n",
              "        [7, 8]])"
            ]
          },
          "metadata": {},
          "execution_count": 29
        }
      ]
    },
    {
      "cell_type": "code",
      "source": [
        "d"
      ],
      "metadata": {
        "colab": {
          "base_uri": "https://localhost:8080/"
        },
        "id": "q_YfVowHm-58",
        "outputId": "e74014a5-4254-4e3e-e148-42591f5d8a08"
      },
      "execution_count": 31,
      "outputs": [
        {
          "output_type": "execute_result",
          "data": {
            "text/plain": [
              "tensor([[1, 2],\n",
              "        [3, 4],\n",
              "        [5, 6],\n",
              "        [7, 8]])"
            ]
          },
          "metadata": {},
          "execution_count": 31
        }
      ]
    },
    {
      "cell_type": "code",
      "source": [
        "y.shape"
      ],
      "metadata": {
        "colab": {
          "base_uri": "https://localhost:8080/"
        },
        "id": "KoMG1ejTnTfE",
        "outputId": "562017fa-73bd-4266-e15d-abedd65a0ecf"
      },
      "execution_count": 36,
      "outputs": [
        {
          "output_type": "execute_result",
          "data": {
            "text/plain": [
              "torch.Size([2, 4, 2])"
            ]
          },
          "metadata": {},
          "execution_count": 36
        }
      ]
    },
    {
      "cell_type": "code",
      "source": [
        "y.squeeze().shape"
      ],
      "metadata": {
        "colab": {
          "base_uri": "https://localhost:8080/"
        },
        "id": "4D32Zp-gnDXE",
        "outputId": "786c487c-15bd-4e58-b304-3587ed383f9d"
      },
      "execution_count": 35,
      "outputs": [
        {
          "output_type": "execute_result",
          "data": {
            "text/plain": [
              "torch.Size([2, 4, 2])"
            ]
          },
          "metadata": {},
          "execution_count": 35
        }
      ]
    },
    {
      "cell_type": "code",
      "source": [
        "#torch.item()=> returns return Python number from a tensor containing a single value.\n",
        "x = torch.tensor([1], dtype=torch.int32)\n",
        "x.item()"
      ],
      "metadata": {
        "colab": {
          "base_uri": "https://localhost:8080/"
        },
        "id": "xJaJEQ2ynQ3L",
        "outputId": "d0a92574-1ec0-4391-8e49-2ec7860a352d"
      },
      "execution_count": 40,
      "outputs": [
        {
          "output_type": "execute_result",
          "data": {
            "text/plain": [
              "1"
            ]
          },
          "metadata": {},
          "execution_count": 40
        }
      ]
    },
    {
      "cell_type": "markdown",
      "source": [
        "* Use view() instead of reshape() for reshaping tensors in\n",
        "most cases. \n",
        "* Using reshape() may cause the tensor to be\n",
        "copied, depending on its layout in memory. \n",
        "* view()\n",
        "ensures that will not cause the tensor to be copied.\n",
        "* The **torch.squeeze()** function is used often in deep learning\n",
        "to remove an unused dimension. For example, a batch\n",
        "of images with a single image can be reduced from 4D to\n",
        "3D using squeeze().\n",
        "* The **torch.unsqueeze()** function is often used in deep\n",
        "learning to add a dimension of size 1. Since most PyTorch\n",
        "models expect a batch of data as an input, you could apply\n",
        "unsqueeze() when you only have one data sample. For\n",
        "example, you can pass a 3D image into torch.unsqueeze()\n",
        "to create a batch of one image."
      ],
      "metadata": {
        "id": "2ag_BuuSo6GQ"
      }
    },
    {
      "cell_type": "markdown",
      "source": [
        "## Automatic Differentiation (Autograd)"
      ],
      "metadata": {
        "id": "F3WA-SjbpgeT"
      }
    },
    {
      "cell_type": "code",
      "source": [
        "x = torch.tensor([[1,2,3],[4,5,6]],dtype=torch.float, requires_grad=True)\n",
        "print(x)"
      ],
      "metadata": {
        "colab": {
          "base_uri": "https://localhost:8080/"
        },
        "id": "f3PUFtDAoP_b",
        "outputId": "bd44c667-7143-4498-d66e-d14681205041"
      },
      "execution_count": 46,
      "outputs": [
        {
          "output_type": "stream",
          "name": "stdout",
          "text": [
            "tensor([[1., 2., 3.],\n",
            "        [4., 5., 6.]], requires_grad=True)\n"
          ]
        }
      ]
    },
    {
      "cell_type": "code",
      "source": [
        "print(x.grad)"
      ],
      "metadata": {
        "colab": {
          "base_uri": "https://localhost:8080/"
        },
        "id": "sSmwVJhuucSl",
        "outputId": "fcb36f91-8c3a-4589-cd27-95e50b64aeda"
      },
      "execution_count": 47,
      "outputs": [
        {
          "output_type": "stream",
          "name": "stdout",
          "text": [
            "None\n"
          ]
        }
      ]
    },
    {
      "cell_type": "code",
      "source": [
        "x"
      ],
      "metadata": {
        "colab": {
          "base_uri": "https://localhost:8080/"
        },
        "id": "bMrJlkcHudgK",
        "outputId": "d62729d0-57d1-4505-d39e-f1440e68cc34"
      },
      "execution_count": 48,
      "outputs": [
        {
          "output_type": "execute_result",
          "data": {
            "text/plain": [
              "tensor([[1., 2., 3.],\n",
              "        [4., 5., 6.]], requires_grad=True)"
            ]
          },
          "metadata": {},
          "execution_count": 48
        }
      ]
    },
    {
      "cell_type": "code",
      "source": [
        "f = x.pow(2).sum()\n",
        "print(f)"
      ],
      "metadata": {
        "colab": {
          "base_uri": "https://localhost:8080/"
        },
        "id": "q7HPDaPcuey5",
        "outputId": "d5277c39-607d-423f-bf2c-1cf8f6bc6dbd"
      },
      "execution_count": 49,
      "outputs": [
        {
          "output_type": "stream",
          "name": "stdout",
          "text": [
            "tensor(91., grad_fn=<SumBackward0>)\n"
          ]
        }
      ]
    },
    {
      "cell_type": "code",
      "source": [
        "f.backward()\n",
        "print(x.grad)"
      ],
      "metadata": {
        "colab": {
          "base_uri": "https://localhost:8080/"
        },
        "id": "dTzuJfXJumCC",
        "outputId": "b7a62f1c-0b93-4d73-a531-227cf6cc8855"
      },
      "execution_count": 50,
      "outputs": [
        {
          "output_type": "stream",
          "name": "stdout",
          "text": [
            "tensor([[ 2.,  4.,  6.],\n",
            "        [ 8., 10., 12.]])\n"
          ]
        }
      ]
    },
    {
      "cell_type": "markdown",
      "source": [
        "* The f.backward() function performs the differentiation with\n",
        "respect to f and stores df / dx in the x.grad attribute\n",
        "* df / dx = 2x"
      ],
      "metadata": {
        "id": "q5EDPFFzu0mc"
      }
    }
  ]
}