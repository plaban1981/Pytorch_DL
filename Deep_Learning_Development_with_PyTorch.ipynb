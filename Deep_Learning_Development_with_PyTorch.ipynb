{
  "nbformat": 4,
  "nbformat_minor": 0,
  "metadata": {
    "colab": {
      "provenance": [],
      "authorship_tag": "ABX9TyMe7v1aQxiKqOsuJ8iZLm8d",
      "include_colab_link": true
    },
    "kernelspec": {
      "name": "python3",
      "display_name": "Python 3"
    },
    "language_info": {
      "name": "python"
    },
    "accelerator": "GPU",
    "widgets": {
      "application/vnd.jupyter.widget-state+json": {
        "fd11514d59404198b16f7a6bf97ef4f6": {
          "model_module": "@jupyter-widgets/controls",
          "model_name": "HBoxModel",
          "model_module_version": "1.5.0",
          "state": {
            "_dom_classes": [],
            "_model_module": "@jupyter-widgets/controls",
            "_model_module_version": "1.5.0",
            "_model_name": "HBoxModel",
            "_view_count": null,
            "_view_module": "@jupyter-widgets/controls",
            "_view_module_version": "1.5.0",
            "_view_name": "HBoxView",
            "box_style": "",
            "children": [
              "IPY_MODEL_13746ced1e324ca1ae6b9007c20944fb",
              "IPY_MODEL_5f20d43d0616446683874d68a06ae33d",
              "IPY_MODEL_f1b8bb98cd434288ad80d4d95fd71543"
            ],
            "layout": "IPY_MODEL_911b2fe3ad5e471eabf07554747407d0"
          }
        },
        "13746ced1e324ca1ae6b9007c20944fb": {
          "model_module": "@jupyter-widgets/controls",
          "model_name": "HTMLModel",
          "model_module_version": "1.5.0",
          "state": {
            "_dom_classes": [],
            "_model_module": "@jupyter-widgets/controls",
            "_model_module_version": "1.5.0",
            "_model_name": "HTMLModel",
            "_view_count": null,
            "_view_module": "@jupyter-widgets/controls",
            "_view_module_version": "1.5.0",
            "_view_name": "HTMLView",
            "description": "",
            "description_tooltip": null,
            "layout": "IPY_MODEL_5c875b0cf3ae45d98fb3ab83a0bc1aac",
            "placeholder": "​",
            "style": "IPY_MODEL_642f5f2678b34940b692764b67be6d6d",
            "value": "100%"
          }
        },
        "5f20d43d0616446683874d68a06ae33d": {
          "model_module": "@jupyter-widgets/controls",
          "model_name": "FloatProgressModel",
          "model_module_version": "1.5.0",
          "state": {
            "_dom_classes": [],
            "_model_module": "@jupyter-widgets/controls",
            "_model_module_version": "1.5.0",
            "_model_name": "FloatProgressModel",
            "_view_count": null,
            "_view_module": "@jupyter-widgets/controls",
            "_view_module_version": "1.5.0",
            "_view_name": "ProgressView",
            "bar_style": "success",
            "description": "",
            "description_tooltip": null,
            "layout": "IPY_MODEL_cfcfc001b73e4d0782059005a5624634",
            "max": 170498071,
            "min": 0,
            "orientation": "horizontal",
            "style": "IPY_MODEL_f6811f6432d24b60ac49903108d678bc",
            "value": 170498071
          }
        },
        "f1b8bb98cd434288ad80d4d95fd71543": {
          "model_module": "@jupyter-widgets/controls",
          "model_name": "HTMLModel",
          "model_module_version": "1.5.0",
          "state": {
            "_dom_classes": [],
            "_model_module": "@jupyter-widgets/controls",
            "_model_module_version": "1.5.0",
            "_model_name": "HTMLModel",
            "_view_count": null,
            "_view_module": "@jupyter-widgets/controls",
            "_view_module_version": "1.5.0",
            "_view_name": "HTMLView",
            "description": "",
            "description_tooltip": null,
            "layout": "IPY_MODEL_a50feaf92ef44eb2acaaafceccedf06a",
            "placeholder": "​",
            "style": "IPY_MODEL_d5bd40248dd54a428862e1fa5cb18385",
            "value": " 170498071/170498071 [00:10&lt;00:00, 16868032.10it/s]"
          }
        },
        "911b2fe3ad5e471eabf07554747407d0": {
          "model_module": "@jupyter-widgets/base",
          "model_name": "LayoutModel",
          "model_module_version": "1.2.0",
          "state": {
            "_model_module": "@jupyter-widgets/base",
            "_model_module_version": "1.2.0",
            "_model_name": "LayoutModel",
            "_view_count": null,
            "_view_module": "@jupyter-widgets/base",
            "_view_module_version": "1.2.0",
            "_view_name": "LayoutView",
            "align_content": null,
            "align_items": null,
            "align_self": null,
            "border": null,
            "bottom": null,
            "display": null,
            "flex": null,
            "flex_flow": null,
            "grid_area": null,
            "grid_auto_columns": null,
            "grid_auto_flow": null,
            "grid_auto_rows": null,
            "grid_column": null,
            "grid_gap": null,
            "grid_row": null,
            "grid_template_areas": null,
            "grid_template_columns": null,
            "grid_template_rows": null,
            "height": null,
            "justify_content": null,
            "justify_items": null,
            "left": null,
            "margin": null,
            "max_height": null,
            "max_width": null,
            "min_height": null,
            "min_width": null,
            "object_fit": null,
            "object_position": null,
            "order": null,
            "overflow": null,
            "overflow_x": null,
            "overflow_y": null,
            "padding": null,
            "right": null,
            "top": null,
            "visibility": null,
            "width": null
          }
        },
        "5c875b0cf3ae45d98fb3ab83a0bc1aac": {
          "model_module": "@jupyter-widgets/base",
          "model_name": "LayoutModel",
          "model_module_version": "1.2.0",
          "state": {
            "_model_module": "@jupyter-widgets/base",
            "_model_module_version": "1.2.0",
            "_model_name": "LayoutModel",
            "_view_count": null,
            "_view_module": "@jupyter-widgets/base",
            "_view_module_version": "1.2.0",
            "_view_name": "LayoutView",
            "align_content": null,
            "align_items": null,
            "align_self": null,
            "border": null,
            "bottom": null,
            "display": null,
            "flex": null,
            "flex_flow": null,
            "grid_area": null,
            "grid_auto_columns": null,
            "grid_auto_flow": null,
            "grid_auto_rows": null,
            "grid_column": null,
            "grid_gap": null,
            "grid_row": null,
            "grid_template_areas": null,
            "grid_template_columns": null,
            "grid_template_rows": null,
            "height": null,
            "justify_content": null,
            "justify_items": null,
            "left": null,
            "margin": null,
            "max_height": null,
            "max_width": null,
            "min_height": null,
            "min_width": null,
            "object_fit": null,
            "object_position": null,
            "order": null,
            "overflow": null,
            "overflow_x": null,
            "overflow_y": null,
            "padding": null,
            "right": null,
            "top": null,
            "visibility": null,
            "width": null
          }
        },
        "642f5f2678b34940b692764b67be6d6d": {
          "model_module": "@jupyter-widgets/controls",
          "model_name": "DescriptionStyleModel",
          "model_module_version": "1.5.0",
          "state": {
            "_model_module": "@jupyter-widgets/controls",
            "_model_module_version": "1.5.0",
            "_model_name": "DescriptionStyleModel",
            "_view_count": null,
            "_view_module": "@jupyter-widgets/base",
            "_view_module_version": "1.2.0",
            "_view_name": "StyleView",
            "description_width": ""
          }
        },
        "cfcfc001b73e4d0782059005a5624634": {
          "model_module": "@jupyter-widgets/base",
          "model_name": "LayoutModel",
          "model_module_version": "1.2.0",
          "state": {
            "_model_module": "@jupyter-widgets/base",
            "_model_module_version": "1.2.0",
            "_model_name": "LayoutModel",
            "_view_count": null,
            "_view_module": "@jupyter-widgets/base",
            "_view_module_version": "1.2.0",
            "_view_name": "LayoutView",
            "align_content": null,
            "align_items": null,
            "align_self": null,
            "border": null,
            "bottom": null,
            "display": null,
            "flex": null,
            "flex_flow": null,
            "grid_area": null,
            "grid_auto_columns": null,
            "grid_auto_flow": null,
            "grid_auto_rows": null,
            "grid_column": null,
            "grid_gap": null,
            "grid_row": null,
            "grid_template_areas": null,
            "grid_template_columns": null,
            "grid_template_rows": null,
            "height": null,
            "justify_content": null,
            "justify_items": null,
            "left": null,
            "margin": null,
            "max_height": null,
            "max_width": null,
            "min_height": null,
            "min_width": null,
            "object_fit": null,
            "object_position": null,
            "order": null,
            "overflow": null,
            "overflow_x": null,
            "overflow_y": null,
            "padding": null,
            "right": null,
            "top": null,
            "visibility": null,
            "width": null
          }
        },
        "f6811f6432d24b60ac49903108d678bc": {
          "model_module": "@jupyter-widgets/controls",
          "model_name": "ProgressStyleModel",
          "model_module_version": "1.5.0",
          "state": {
            "_model_module": "@jupyter-widgets/controls",
            "_model_module_version": "1.5.0",
            "_model_name": "ProgressStyleModel",
            "_view_count": null,
            "_view_module": "@jupyter-widgets/base",
            "_view_module_version": "1.2.0",
            "_view_name": "StyleView",
            "bar_color": null,
            "description_width": ""
          }
        },
        "a50feaf92ef44eb2acaaafceccedf06a": {
          "model_module": "@jupyter-widgets/base",
          "model_name": "LayoutModel",
          "model_module_version": "1.2.0",
          "state": {
            "_model_module": "@jupyter-widgets/base",
            "_model_module_version": "1.2.0",
            "_model_name": "LayoutModel",
            "_view_count": null,
            "_view_module": "@jupyter-widgets/base",
            "_view_module_version": "1.2.0",
            "_view_name": "LayoutView",
            "align_content": null,
            "align_items": null,
            "align_self": null,
            "border": null,
            "bottom": null,
            "display": null,
            "flex": null,
            "flex_flow": null,
            "grid_area": null,
            "grid_auto_columns": null,
            "grid_auto_flow": null,
            "grid_auto_rows": null,
            "grid_column": null,
            "grid_gap": null,
            "grid_row": null,
            "grid_template_areas": null,
            "grid_template_columns": null,
            "grid_template_rows": null,
            "height": null,
            "justify_content": null,
            "justify_items": null,
            "left": null,
            "margin": null,
            "max_height": null,
            "max_width": null,
            "min_height": null,
            "min_width": null,
            "object_fit": null,
            "object_position": null,
            "order": null,
            "overflow": null,
            "overflow_x": null,
            "overflow_y": null,
            "padding": null,
            "right": null,
            "top": null,
            "visibility": null,
            "width": null
          }
        },
        "d5bd40248dd54a428862e1fa5cb18385": {
          "model_module": "@jupyter-widgets/controls",
          "model_name": "DescriptionStyleModel",
          "model_module_version": "1.5.0",
          "state": {
            "_model_module": "@jupyter-widgets/controls",
            "_model_module_version": "1.5.0",
            "_model_name": "DescriptionStyleModel",
            "_view_count": null,
            "_view_module": "@jupyter-widgets/base",
            "_view_module_version": "1.2.0",
            "_view_name": "StyleView",
            "description_width": ""
          }
        },
        "d7561062823440708d5a5ce4f44df3ff": {
          "model_module": "@jupyter-widgets/controls",
          "model_name": "HBoxModel",
          "model_module_version": "1.5.0",
          "state": {
            "_dom_classes": [],
            "_model_module": "@jupyter-widgets/controls",
            "_model_module_version": "1.5.0",
            "_model_name": "HBoxModel",
            "_view_count": null,
            "_view_module": "@jupyter-widgets/controls",
            "_view_module_version": "1.5.0",
            "_view_name": "HBoxView",
            "box_style": "",
            "children": [
              "IPY_MODEL_d8a73ada9ce8485abb47de6e39785b6e",
              "IPY_MODEL_e5d3b6d90b384d16a727cfa5810da088",
              "IPY_MODEL_a0ce5717bc29447bae0fca51d0f2dde7"
            ],
            "layout": "IPY_MODEL_f605792ade7442e1898cf808d6ec7623"
          }
        },
        "d8a73ada9ce8485abb47de6e39785b6e": {
          "model_module": "@jupyter-widgets/controls",
          "model_name": "HTMLModel",
          "model_module_version": "1.5.0",
          "state": {
            "_dom_classes": [],
            "_model_module": "@jupyter-widgets/controls",
            "_model_module_version": "1.5.0",
            "_model_name": "HTMLModel",
            "_view_count": null,
            "_view_module": "@jupyter-widgets/controls",
            "_view_module_version": "1.5.0",
            "_view_name": "HTMLView",
            "description": "",
            "description_tooltip": null,
            "layout": "IPY_MODEL_ea660b0b8dea41d8a3837ffcaedccdd3",
            "placeholder": "​",
            "style": "IPY_MODEL_efc3fa9bbaf1493894bbcc4d3337c9a1",
            "value": "100%"
          }
        },
        "e5d3b6d90b384d16a727cfa5810da088": {
          "model_module": "@jupyter-widgets/controls",
          "model_name": "FloatProgressModel",
          "model_module_version": "1.5.0",
          "state": {
            "_dom_classes": [],
            "_model_module": "@jupyter-widgets/controls",
            "_model_module_version": "1.5.0",
            "_model_name": "FloatProgressModel",
            "_view_count": null,
            "_view_module": "@jupyter-widgets/controls",
            "_view_module_version": "1.5.0",
            "_view_name": "ProgressView",
            "bar_style": "success",
            "description": "",
            "description_tooltip": null,
            "layout": "IPY_MODEL_8027ffc85045465fbfba65d58fac3951",
            "max": 170498071,
            "min": 0,
            "orientation": "horizontal",
            "style": "IPY_MODEL_491d14e43519499991d11cab41c8e843",
            "value": 170498071
          }
        },
        "a0ce5717bc29447bae0fca51d0f2dde7": {
          "model_module": "@jupyter-widgets/controls",
          "model_name": "HTMLModel",
          "model_module_version": "1.5.0",
          "state": {
            "_dom_classes": [],
            "_model_module": "@jupyter-widgets/controls",
            "_model_module_version": "1.5.0",
            "_model_name": "HTMLModel",
            "_view_count": null,
            "_view_module": "@jupyter-widgets/controls",
            "_view_module_version": "1.5.0",
            "_view_name": "HTMLView",
            "description": "",
            "description_tooltip": null,
            "layout": "IPY_MODEL_33cbdfa8ad584d08b447c2074cc1f128",
            "placeholder": "​",
            "style": "IPY_MODEL_47abfaa030f34c4a947c9f18bcf473e8",
            "value": " 170498071/170498071 [00:10&lt;00:00, 16365384.24it/s]"
          }
        },
        "f605792ade7442e1898cf808d6ec7623": {
          "model_module": "@jupyter-widgets/base",
          "model_name": "LayoutModel",
          "model_module_version": "1.2.0",
          "state": {
            "_model_module": "@jupyter-widgets/base",
            "_model_module_version": "1.2.0",
            "_model_name": "LayoutModel",
            "_view_count": null,
            "_view_module": "@jupyter-widgets/base",
            "_view_module_version": "1.2.0",
            "_view_name": "LayoutView",
            "align_content": null,
            "align_items": null,
            "align_self": null,
            "border": null,
            "bottom": null,
            "display": null,
            "flex": null,
            "flex_flow": null,
            "grid_area": null,
            "grid_auto_columns": null,
            "grid_auto_flow": null,
            "grid_auto_rows": null,
            "grid_column": null,
            "grid_gap": null,
            "grid_row": null,
            "grid_template_areas": null,
            "grid_template_columns": null,
            "grid_template_rows": null,
            "height": null,
            "justify_content": null,
            "justify_items": null,
            "left": null,
            "margin": null,
            "max_height": null,
            "max_width": null,
            "min_height": null,
            "min_width": null,
            "object_fit": null,
            "object_position": null,
            "order": null,
            "overflow": null,
            "overflow_x": null,
            "overflow_y": null,
            "padding": null,
            "right": null,
            "top": null,
            "visibility": null,
            "width": null
          }
        },
        "ea660b0b8dea41d8a3837ffcaedccdd3": {
          "model_module": "@jupyter-widgets/base",
          "model_name": "LayoutModel",
          "model_module_version": "1.2.0",
          "state": {
            "_model_module": "@jupyter-widgets/base",
            "_model_module_version": "1.2.0",
            "_model_name": "LayoutModel",
            "_view_count": null,
            "_view_module": "@jupyter-widgets/base",
            "_view_module_version": "1.2.0",
            "_view_name": "LayoutView",
            "align_content": null,
            "align_items": null,
            "align_self": null,
            "border": null,
            "bottom": null,
            "display": null,
            "flex": null,
            "flex_flow": null,
            "grid_area": null,
            "grid_auto_columns": null,
            "grid_auto_flow": null,
            "grid_auto_rows": null,
            "grid_column": null,
            "grid_gap": null,
            "grid_row": null,
            "grid_template_areas": null,
            "grid_template_columns": null,
            "grid_template_rows": null,
            "height": null,
            "justify_content": null,
            "justify_items": null,
            "left": null,
            "margin": null,
            "max_height": null,
            "max_width": null,
            "min_height": null,
            "min_width": null,
            "object_fit": null,
            "object_position": null,
            "order": null,
            "overflow": null,
            "overflow_x": null,
            "overflow_y": null,
            "padding": null,
            "right": null,
            "top": null,
            "visibility": null,
            "width": null
          }
        },
        "efc3fa9bbaf1493894bbcc4d3337c9a1": {
          "model_module": "@jupyter-widgets/controls",
          "model_name": "DescriptionStyleModel",
          "model_module_version": "1.5.0",
          "state": {
            "_model_module": "@jupyter-widgets/controls",
            "_model_module_version": "1.5.0",
            "_model_name": "DescriptionStyleModel",
            "_view_count": null,
            "_view_module": "@jupyter-widgets/base",
            "_view_module_version": "1.2.0",
            "_view_name": "StyleView",
            "description_width": ""
          }
        },
        "8027ffc85045465fbfba65d58fac3951": {
          "model_module": "@jupyter-widgets/base",
          "model_name": "LayoutModel",
          "model_module_version": "1.2.0",
          "state": {
            "_model_module": "@jupyter-widgets/base",
            "_model_module_version": "1.2.0",
            "_model_name": "LayoutModel",
            "_view_count": null,
            "_view_module": "@jupyter-widgets/base",
            "_view_module_version": "1.2.0",
            "_view_name": "LayoutView",
            "align_content": null,
            "align_items": null,
            "align_self": null,
            "border": null,
            "bottom": null,
            "display": null,
            "flex": null,
            "flex_flow": null,
            "grid_area": null,
            "grid_auto_columns": null,
            "grid_auto_flow": null,
            "grid_auto_rows": null,
            "grid_column": null,
            "grid_gap": null,
            "grid_row": null,
            "grid_template_areas": null,
            "grid_template_columns": null,
            "grid_template_rows": null,
            "height": null,
            "justify_content": null,
            "justify_items": null,
            "left": null,
            "margin": null,
            "max_height": null,
            "max_width": null,
            "min_height": null,
            "min_width": null,
            "object_fit": null,
            "object_position": null,
            "order": null,
            "overflow": null,
            "overflow_x": null,
            "overflow_y": null,
            "padding": null,
            "right": null,
            "top": null,
            "visibility": null,
            "width": null
          }
        },
        "491d14e43519499991d11cab41c8e843": {
          "model_module": "@jupyter-widgets/controls",
          "model_name": "ProgressStyleModel",
          "model_module_version": "1.5.0",
          "state": {
            "_model_module": "@jupyter-widgets/controls",
            "_model_module_version": "1.5.0",
            "_model_name": "ProgressStyleModel",
            "_view_count": null,
            "_view_module": "@jupyter-widgets/base",
            "_view_module_version": "1.2.0",
            "_view_name": "StyleView",
            "bar_color": null,
            "description_width": ""
          }
        },
        "33cbdfa8ad584d08b447c2074cc1f128": {
          "model_module": "@jupyter-widgets/base",
          "model_name": "LayoutModel",
          "model_module_version": "1.2.0",
          "state": {
            "_model_module": "@jupyter-widgets/base",
            "_model_module_version": "1.2.0",
            "_model_name": "LayoutModel",
            "_view_count": null,
            "_view_module": "@jupyter-widgets/base",
            "_view_module_version": "1.2.0",
            "_view_name": "LayoutView",
            "align_content": null,
            "align_items": null,
            "align_self": null,
            "border": null,
            "bottom": null,
            "display": null,
            "flex": null,
            "flex_flow": null,
            "grid_area": null,
            "grid_auto_columns": null,
            "grid_auto_flow": null,
            "grid_auto_rows": null,
            "grid_column": null,
            "grid_gap": null,
            "grid_row": null,
            "grid_template_areas": null,
            "grid_template_columns": null,
            "grid_template_rows": null,
            "height": null,
            "justify_content": null,
            "justify_items": null,
            "left": null,
            "margin": null,
            "max_height": null,
            "max_width": null,
            "min_height": null,
            "min_width": null,
            "object_fit": null,
            "object_position": null,
            "order": null,
            "overflow": null,
            "overflow_x": null,
            "overflow_y": null,
            "padding": null,
            "right": null,
            "top": null,
            "visibility": null,
            "width": null
          }
        },
        "47abfaa030f34c4a947c9f18bcf473e8": {
          "model_module": "@jupyter-widgets/controls",
          "model_name": "DescriptionStyleModel",
          "model_module_version": "1.5.0",
          "state": {
            "_model_module": "@jupyter-widgets/controls",
            "_model_module_version": "1.5.0",
            "_model_name": "DescriptionStyleModel",
            "_view_count": null,
            "_view_module": "@jupyter-widgets/base",
            "_view_module_version": "1.2.0",
            "_view_name": "StyleView",
            "description_width": ""
          }
        },
        "81dcfe23b17848939f8983f2d39c88eb": {
          "model_module": "@jupyter-widgets/controls",
          "model_name": "HBoxModel",
          "model_module_version": "1.5.0",
          "state": {
            "_dom_classes": [],
            "_model_module": "@jupyter-widgets/controls",
            "_model_module_version": "1.5.0",
            "_model_name": "HBoxModel",
            "_view_count": null,
            "_view_module": "@jupyter-widgets/controls",
            "_view_module_version": "1.5.0",
            "_view_name": "HBoxView",
            "box_style": "",
            "children": [
              "IPY_MODEL_a31fd6dfdcd54a3ba34de6973a314759",
              "IPY_MODEL_e7febcda257545d897016d00981ce314",
              "IPY_MODEL_21a87fd2d7a1453ba37ac7fa5d0eca86"
            ],
            "layout": "IPY_MODEL_9bbd53d7271a42b692f6908b3d628244"
          }
        },
        "a31fd6dfdcd54a3ba34de6973a314759": {
          "model_module": "@jupyter-widgets/controls",
          "model_name": "HTMLModel",
          "model_module_version": "1.5.0",
          "state": {
            "_dom_classes": [],
            "_model_module": "@jupyter-widgets/controls",
            "_model_module_version": "1.5.0",
            "_model_name": "HTMLModel",
            "_view_count": null,
            "_view_module": "@jupyter-widgets/controls",
            "_view_module_version": "1.5.0",
            "_view_name": "HTMLView",
            "description": "",
            "description_tooltip": null,
            "layout": "IPY_MODEL_726a5f4e919647fb85b0f706b5030ec2",
            "placeholder": "​",
            "style": "IPY_MODEL_3c3527a7339b4799aeffd1eda2375ecf",
            "value": "100%"
          }
        },
        "e7febcda257545d897016d00981ce314": {
          "model_module": "@jupyter-widgets/controls",
          "model_name": "FloatProgressModel",
          "model_module_version": "1.5.0",
          "state": {
            "_dom_classes": [],
            "_model_module": "@jupyter-widgets/controls",
            "_model_module_version": "1.5.0",
            "_model_name": "FloatProgressModel",
            "_view_count": null,
            "_view_module": "@jupyter-widgets/controls",
            "_view_module_version": "1.5.0",
            "_view_name": "ProgressView",
            "bar_style": "success",
            "description": "",
            "description_tooltip": null,
            "layout": "IPY_MODEL_ab59d13890a84063888b226feba7ab16",
            "max": 553433881,
            "min": 0,
            "orientation": "horizontal",
            "style": "IPY_MODEL_538430c898864815bfec7fe13d306151",
            "value": 553433881
          }
        },
        "21a87fd2d7a1453ba37ac7fa5d0eca86": {
          "model_module": "@jupyter-widgets/controls",
          "model_name": "HTMLModel",
          "model_module_version": "1.5.0",
          "state": {
            "_dom_classes": [],
            "_model_module": "@jupyter-widgets/controls",
            "_model_module_version": "1.5.0",
            "_model_name": "HTMLModel",
            "_view_count": null,
            "_view_module": "@jupyter-widgets/controls",
            "_view_module_version": "1.5.0",
            "_view_name": "HTMLView",
            "description": "",
            "description_tooltip": null,
            "layout": "IPY_MODEL_afae98020e7442b4a4e9724a015e587b",
            "placeholder": "​",
            "style": "IPY_MODEL_a4a1ed24f65a4c61beeae1e2eca39ae4",
            "value": " 528M/528M [00:05&lt;00:00, 110MB/s]"
          }
        },
        "9bbd53d7271a42b692f6908b3d628244": {
          "model_module": "@jupyter-widgets/base",
          "model_name": "LayoutModel",
          "model_module_version": "1.2.0",
          "state": {
            "_model_module": "@jupyter-widgets/base",
            "_model_module_version": "1.2.0",
            "_model_name": "LayoutModel",
            "_view_count": null,
            "_view_module": "@jupyter-widgets/base",
            "_view_module_version": "1.2.0",
            "_view_name": "LayoutView",
            "align_content": null,
            "align_items": null,
            "align_self": null,
            "border": null,
            "bottom": null,
            "display": null,
            "flex": null,
            "flex_flow": null,
            "grid_area": null,
            "grid_auto_columns": null,
            "grid_auto_flow": null,
            "grid_auto_rows": null,
            "grid_column": null,
            "grid_gap": null,
            "grid_row": null,
            "grid_template_areas": null,
            "grid_template_columns": null,
            "grid_template_rows": null,
            "height": null,
            "justify_content": null,
            "justify_items": null,
            "left": null,
            "margin": null,
            "max_height": null,
            "max_width": null,
            "min_height": null,
            "min_width": null,
            "object_fit": null,
            "object_position": null,
            "order": null,
            "overflow": null,
            "overflow_x": null,
            "overflow_y": null,
            "padding": null,
            "right": null,
            "top": null,
            "visibility": null,
            "width": null
          }
        },
        "726a5f4e919647fb85b0f706b5030ec2": {
          "model_module": "@jupyter-widgets/base",
          "model_name": "LayoutModel",
          "model_module_version": "1.2.0",
          "state": {
            "_model_module": "@jupyter-widgets/base",
            "_model_module_version": "1.2.0",
            "_model_name": "LayoutModel",
            "_view_count": null,
            "_view_module": "@jupyter-widgets/base",
            "_view_module_version": "1.2.0",
            "_view_name": "LayoutView",
            "align_content": null,
            "align_items": null,
            "align_self": null,
            "border": null,
            "bottom": null,
            "display": null,
            "flex": null,
            "flex_flow": null,
            "grid_area": null,
            "grid_auto_columns": null,
            "grid_auto_flow": null,
            "grid_auto_rows": null,
            "grid_column": null,
            "grid_gap": null,
            "grid_row": null,
            "grid_template_areas": null,
            "grid_template_columns": null,
            "grid_template_rows": null,
            "height": null,
            "justify_content": null,
            "justify_items": null,
            "left": null,
            "margin": null,
            "max_height": null,
            "max_width": null,
            "min_height": null,
            "min_width": null,
            "object_fit": null,
            "object_position": null,
            "order": null,
            "overflow": null,
            "overflow_x": null,
            "overflow_y": null,
            "padding": null,
            "right": null,
            "top": null,
            "visibility": null,
            "width": null
          }
        },
        "3c3527a7339b4799aeffd1eda2375ecf": {
          "model_module": "@jupyter-widgets/controls",
          "model_name": "DescriptionStyleModel",
          "model_module_version": "1.5.0",
          "state": {
            "_model_module": "@jupyter-widgets/controls",
            "_model_module_version": "1.5.0",
            "_model_name": "DescriptionStyleModel",
            "_view_count": null,
            "_view_module": "@jupyter-widgets/base",
            "_view_module_version": "1.2.0",
            "_view_name": "StyleView",
            "description_width": ""
          }
        },
        "ab59d13890a84063888b226feba7ab16": {
          "model_module": "@jupyter-widgets/base",
          "model_name": "LayoutModel",
          "model_module_version": "1.2.0",
          "state": {
            "_model_module": "@jupyter-widgets/base",
            "_model_module_version": "1.2.0",
            "_model_name": "LayoutModel",
            "_view_count": null,
            "_view_module": "@jupyter-widgets/base",
            "_view_module_version": "1.2.0",
            "_view_name": "LayoutView",
            "align_content": null,
            "align_items": null,
            "align_self": null,
            "border": null,
            "bottom": null,
            "display": null,
            "flex": null,
            "flex_flow": null,
            "grid_area": null,
            "grid_auto_columns": null,
            "grid_auto_flow": null,
            "grid_auto_rows": null,
            "grid_column": null,
            "grid_gap": null,
            "grid_row": null,
            "grid_template_areas": null,
            "grid_template_columns": null,
            "grid_template_rows": null,
            "height": null,
            "justify_content": null,
            "justify_items": null,
            "left": null,
            "margin": null,
            "max_height": null,
            "max_width": null,
            "min_height": null,
            "min_width": null,
            "object_fit": null,
            "object_position": null,
            "order": null,
            "overflow": null,
            "overflow_x": null,
            "overflow_y": null,
            "padding": null,
            "right": null,
            "top": null,
            "visibility": null,
            "width": null
          }
        },
        "538430c898864815bfec7fe13d306151": {
          "model_module": "@jupyter-widgets/controls",
          "model_name": "ProgressStyleModel",
          "model_module_version": "1.5.0",
          "state": {
            "_model_module": "@jupyter-widgets/controls",
            "_model_module_version": "1.5.0",
            "_model_name": "ProgressStyleModel",
            "_view_count": null,
            "_view_module": "@jupyter-widgets/base",
            "_view_module_version": "1.2.0",
            "_view_name": "StyleView",
            "bar_color": null,
            "description_width": ""
          }
        },
        "afae98020e7442b4a4e9724a015e587b": {
          "model_module": "@jupyter-widgets/base",
          "model_name": "LayoutModel",
          "model_module_version": "1.2.0",
          "state": {
            "_model_module": "@jupyter-widgets/base",
            "_model_module_version": "1.2.0",
            "_model_name": "LayoutModel",
            "_view_count": null,
            "_view_module": "@jupyter-widgets/base",
            "_view_module_version": "1.2.0",
            "_view_name": "LayoutView",
            "align_content": null,
            "align_items": null,
            "align_self": null,
            "border": null,
            "bottom": null,
            "display": null,
            "flex": null,
            "flex_flow": null,
            "grid_area": null,
            "grid_auto_columns": null,
            "grid_auto_flow": null,
            "grid_auto_rows": null,
            "grid_column": null,
            "grid_gap": null,
            "grid_row": null,
            "grid_template_areas": null,
            "grid_template_columns": null,
            "grid_template_rows": null,
            "height": null,
            "justify_content": null,
            "justify_items": null,
            "left": null,
            "margin": null,
            "max_height": null,
            "max_width": null,
            "min_height": null,
            "min_width": null,
            "object_fit": null,
            "object_position": null,
            "order": null,
            "overflow": null,
            "overflow_x": null,
            "overflow_y": null,
            "padding": null,
            "right": null,
            "top": null,
            "visibility": null,
            "width": null
          }
        },
        "a4a1ed24f65a4c61beeae1e2eca39ae4": {
          "model_module": "@jupyter-widgets/controls",
          "model_name": "DescriptionStyleModel",
          "model_module_version": "1.5.0",
          "state": {
            "_model_module": "@jupyter-widgets/controls",
            "_model_module_version": "1.5.0",
            "_model_name": "DescriptionStyleModel",
            "_view_count": null,
            "_view_module": "@jupyter-widgets/base",
            "_view_module_version": "1.2.0",
            "_view_name": "StyleView",
            "description_width": ""
          }
        }
      }
    }
  },
  "cells": [
    {
      "cell_type": "markdown",
      "metadata": {
        "id": "view-in-github",
        "colab_type": "text"
      },
      "source": [
        "<a href=\"https://colab.research.google.com/github/plaban1981/Pytorch_DL/blob/main/Deep_Learning_Development_with_PyTorch.ipynb\" target=\"_parent\"><img src=\"https://colab.research.google.com/assets/colab-badge.svg\" alt=\"Open In Colab\"/></a>"
      ]
    },
    {
      "cell_type": "markdown",
      "source": [
        "## Data Preparation\n",
        "* The first stage of deep learning development starts with data\n",
        "preparation."
      ],
      "metadata": {
        "id": "xpCElEbiQk06"
      }
    },
    {
      "cell_type": "markdown",
      "source": [
        "## Data Loading\n",
        "\n",
        "* PyTorch provides powerful built-in classes and utilities, such as\n",
        "the **Dataset**, **DataLoader**, and **Sampler classes**, for loading various\n",
        "types of data.\n",
        "\n",
        "* The **Dataset** class defines how to access and\n",
        "preprocess data from a file or data sources.\n",
        "\n",
        "* The **Sampler** class defines how to sample data from a dataset in order to create batches\n",
        "\n",
        "* The **DataLoader class** combines **a dataset with a\n",
        "sampler** and allows you to iterate over a set of batches."
      ],
      "metadata": {
        "id": "EHkVPHLIRMrC"
      }
    },
    {
      "cell_type": "code",
      "execution_count": 1,
      "metadata": {
        "colab": {
          "base_uri": "https://localhost:8080/",
          "height": 153,
          "referenced_widgets": [
            "fd11514d59404198b16f7a6bf97ef4f6",
            "13746ced1e324ca1ae6b9007c20944fb",
            "5f20d43d0616446683874d68a06ae33d",
            "f1b8bb98cd434288ad80d4d95fd71543",
            "911b2fe3ad5e471eabf07554747407d0",
            "5c875b0cf3ae45d98fb3ab83a0bc1aac",
            "642f5f2678b34940b692764b67be6d6d",
            "cfcfc001b73e4d0782059005a5624634",
            "f6811f6432d24b60ac49903108d678bc",
            "a50feaf92ef44eb2acaaafceccedf06a",
            "d5bd40248dd54a428862e1fa5cb18385"
          ]
        },
        "id": "8XqW6_8LQTMl",
        "outputId": "c3149c31-0af7-4c3b-c728-10e2d49bccbc"
      },
      "outputs": [
        {
          "output_type": "stream",
          "name": "stdout",
          "text": [
            "Downloading https://www.cs.toronto.edu/~kriz/cifar-10-python.tar.gz to ./train/cifar-10-python.tar.gz\n"
          ]
        },
        {
          "output_type": "display_data",
          "data": {
            "text/plain": [
              "  0%|          | 0/170498071 [00:00<?, ?it/s]"
            ],
            "application/vnd.jupyter.widget-view+json": {
              "version_major": 2,
              "version_minor": 0,
              "model_id": "fd11514d59404198b16f7a6bf97ef4f6"
            }
          },
          "metadata": {}
        },
        {
          "output_type": "stream",
          "name": "stdout",
          "text": [
            "Extracting ./train/cifar-10-python.tar.gz to ./train/\n",
            "Dataset CIFAR10\n",
            "    Number of datapoints: 50000\n",
            "    Root location: ./train/\n",
            "    Split: Train\n"
          ]
        }
      ],
      "source": [
        "from torchvision.datasets import CIFAR10\n",
        "train_data = CIFAR10(root=\"./train/\",train=True,download=True)\n",
        "print(train_data)"
      ]
    },
    {
      "cell_type": "code",
      "source": [
        "print(len(train_data))"
      ],
      "metadata": {
        "colab": {
          "base_uri": "https://localhost:8080/"
        },
        "id": "ekquD4GWUs64",
        "outputId": "8fc04289-508e-406c-97e3-9e5f188cb3e1"
      },
      "execution_count": 2,
      "outputs": [
        {
          "output_type": "stream",
          "name": "stdout",
          "text": [
            "50000\n"
          ]
        }
      ]
    },
    {
      "cell_type": "code",
      "source": [
        "print(train_data.data.shape)"
      ],
      "metadata": {
        "colab": {
          "base_uri": "https://localhost:8080/"
        },
        "id": "vTkPXjOiVMtn",
        "outputId": "1cb50a96-c07e-4ed9-c789-8395e7a87c8a"
      },
      "execution_count": 3,
      "outputs": [
        {
          "output_type": "stream",
          "name": "stdout",
          "text": [
            "(50000, 32, 32, 3)\n"
          ]
        }
      ]
    },
    {
      "cell_type": "code",
      "source": [
        "print(train_data.targets)"
      ],
      "metadata": {
        "colab": {
          "base_uri": "https://localhost:8080/"
        },
        "id": "N6yPp2RHYGPZ",
        "outputId": "7fd5c082-8f77-4b20-956f-2ba4bf0db286"
      },
      "execution_count": 4,
      "outputs": [
        {
          "output_type": "stream",
          "name": "stdout",
          "text": [
            "[6, 9, 9, 4, 1, 1, 2, 7, 8, 3, 4, 7, 7, 2, 9, 9, 9, 3, 2, 6, 4, 3, 6, 6, 2, 6, 3, 5, 4, 0, 0, 9, 1, 3, 4, 0, 3, 7, 3, 3, 5, 2, 2, 7, 1, 1, 1, 2, 2, 0, 9, 5, 7, 9, 2, 2, 5, 2, 4, 3, 1, 1, 8, 2, 1, 1, 4, 9, 7, 8, 5, 9, 6, 7, 3, 1, 9, 0, 3, 1, 3, 5, 4, 5, 7, 7, 4, 7, 9, 4, 2, 3, 8, 0, 1, 6, 1, 1, 4, 1, 8, 3, 9, 6, 6, 1, 8, 5, 2, 9, 9, 8, 1, 7, 7, 0, 0, 6, 9, 1, 2, 2, 9, 2, 6, 6, 1, 9, 5, 0, 4, 7, 6, 7, 1, 8, 1, 1, 2, 8, 1, 3, 3, 6, 2, 4, 9, 9, 5, 4, 3, 6, 7, 4, 6, 8, 5, 5, 4, 3, 1, 8, 4, 7, 6, 0, 9, 5, 1, 3, 8, 2, 7, 5, 3, 4, 1, 5, 7, 0, 4, 7, 5, 5, 1, 0, 9, 6, 9, 0, 8, 7, 8, 8, 2, 5, 2, 3, 5, 0, 6, 1, 9, 3, 6, 9, 1, 3, 9, 6, 6, 7, 1, 0, 9, 5, 8, 5, 2, 9, 0, 8, 8, 0, 6, 9, 1, 1, 6, 3, 7, 6, 6, 0, 6, 6, 1, 7, 1, 5, 8, 3, 6, 6, 8, 6, 8, 4, 6, 6, 1, 3, 8, 3, 4, 1, 7, 1, 3, 8, 5, 1, 1, 4, 0, 9, 3, 7, 4, 9, 9, 2, 4, 9, 9, 1, 0, 5, 9, 0, 8, 2, 1, 2, 0, 5, 6, 3, 2, 7, 8, 8, 6, 0, 7, 9, 4, 5, 6, 4, 2, 1, 1, 2, 1, 5, 9, 9, 0, 8, 4, 1, 1, 6, 3, 3, 9, 0, 7, 9, 7, 7, 9, 1, 5, 1, 6, 6, 8, 7, 1, 3, 0, 3, 3, 2, 4, 5, 7, 5, 9, 0, 3, 4, 0, 4, 4, 6, 0, 0, 6, 6, 0, 8, 1, 6, 2, 9, 2, 5, 9, 6, 7, 4, 1, 8, 7, 3, 6, 9, 3, 0, 4, 0, 5, 1, 0, 3, 4, 8, 5, 4, 7, 2, 3, 9, 7, 6, 7, 1, 4, 7, 0, 1, 7, 3, 1, 8, 4, 4, 2, 0, 2, 2, 0, 0, 9, 0, 9, 6, 8, 2, 7, 7, 4, 0, 3, 0, 8, 9, 4, 2, 7, 2, 5, 2, 5, 1, 9, 4, 8, 5, 1, 7, 4, 4, 0, 6, 9, 0, 7, 8, 8, 9, 9, 3, 3, 4, 0, 4, 5, 6, 6, 0, 1, 0, 8, 0, 4, 8, 8, 1, 5, 2, 6, 8, 1, 0, 0, 7, 7, 5, 9, 6, 2, 8, 3, 4, 7, 3, 9, 0, 1, 2, 4, 8, 1, 8, 6, 4, 4, 5, 7, 1, 3, 9, 8, 0, 1, 7, 5, 8, 2, 8, 0, 4, 1, 8, 9, 8, 2, 9, 9, 2, 7, 5, 7, 3, 8, 8, 4, 4, 2, 7, 1, 6, 4, 0, 4, 6, 9, 7, 6, 2, 5, 5, 1, 7, 2, 2, 2, 9, 5, 4, 2, 7, 8, 1, 3, 4, 3, 7, 6, 9, 8, 0, 6, 0, 2, 2, 2, 1, 8, 4, 0, 1, 8, 8, 1, 5, 7, 6, 4, 5, 8, 7, 1, 9, 1, 9, 8, 4, 7, 3, 8, 8, 2, 6, 6, 7, 1, 6, 8, 1, 9, 7, 8, 3, 0, 1, 0, 8, 8, 3, 0, 0, 1, 5, 0, 8, 8, 7, 9, 9, 0, 9, 4, 1, 3, 6, 6, 4, 4, 7, 5, 6, 0, 8, 0, 3, 2, 8, 4, 6, 9, 9, 7, 0, 3, 3, 6, 7, 4, 9, 1, 6, 2, 7, 2, 2, 0, 6, 7, 5, 7, 6, 8, 9, 0, 9, 4, 4, 7, 0, 9, 4, 9, 6, 9, 4, 5, 7, 9, 2, 4, 5, 1, 4, 3, 9, 6, 5, 6, 9, 3, 3, 5, 0, 7, 2, 1, 3, 6, 4, 0, 0, 2, 5, 0, 1, 0, 2, 3, 9, 8, 4, 9, 8, 0, 2, 6, 4, 4, 0, 1, 8, 8, 3, 6, 9, 6, 6, 7, 8, 2, 4, 5, 7, 6, 5, 3, 0, 5, 0, 5, 0, 8, 2, 6, 7, 3, 8, 2, 1, 7, 6, 7, 1, 0, 9, 5, 5, 0, 1, 7, 6, 9, 0, 4, 7, 7, 1, 5, 9, 4, 0, 8, 5, 9, 9, 6, 7, 1, 8, 3, 2, 3, 8, 2, 2, 4, 6, 0, 0, 5, 3, 8, 2, 3, 7, 2, 9, 3, 8, 7, 8, 2, 7, 9, 0, 2, 3, 2, 2, 2, 3, 3, 6, 2, 3, 2, 8, 0, 5, 5, 1, 4, 5, 6, 6, 2, 7, 0, 1, 7, 7, 8, 2, 9, 2, 2, 4, 2, 1, 1, 1, 6, 6, 6, 5, 1, 1, 7, 0, 4, 3, 3, 7, 1, 2, 3, 5, 5, 5, 6, 1, 4, 3, 7, 8, 8, 3, 6, 6, 2, 3, 0, 9, 4, 3, 8, 0, 0, 1, 1, 5, 4, 9, 3, 1, 8, 9, 3, 9, 9, 2, 9, 4, 8, 2, 9, 8, 8, 1, 5, 3, 6, 8, 7, 6, 9, 8, 0, 6, 4, 0, 0, 2, 5, 8, 2, 0, 2, 7, 6, 9, 7, 1, 5, 5, 6, 6, 3, 6, 2, 4, 7, 0, 5, 6, 4, 6, 5, 2, 4, 6, 1, 6, 0, 4, 0, 3, 1, 8, 5, 4, 4, 1, 7, 3, 9, 4, 7, 9, 7, 3, 7, 2, 8, 4, 6, 6, 1, 2, 9, 0, 4, 8, 7, 3, 9, 8, 7, 7, 0, 2, 4, 1, 1, 4, 1, 5, 4, 0, 5, 6, 2, 8, 5, 0, 2, 1, 3, 5, 7, 3, 5, 1, 3, 5, 9, 4, 3, 2, 4, 4, 1, 4, 2, 2, 3, 8, 0, 6, 8, 5, 6, 6, 4, 7, 1, 1, 4, 6, 2, 3, 9, 6, 9, 1, 3, 6, 8, 5, 9, 6, 8, 1, 6, 0, 2, 3, 7, 9, 0, 9, 7, 6, 3, 9, 2, 6, 1, 6, 7, 3, 8, 3, 8, 3, 8, 5, 9, 6, 1, 2, 5, 2, 1, 4, 3, 7, 5, 9, 3, 9, 3, 2, 9, 1, 8, 5, 9, 7, 2, 6, 0, 8, 5, 7, 1, 5, 8, 5, 7, 1, 5, 0, 3, 9, 3, 6, 9, 1, 3, 9, 8, 2, 2, 3, 2, 5, 9, 7, 9, 9, 8, 9, 7, 0, 3, 3, 2, 0, 3, 7, 6, 3, 3, 2, 0, 6, 6, 5, 5, 7, 5, 9, 8, 2, 9, 8, 0, 4, 0, 1, 2, 0, 4, 7, 3, 8, 5, 1, 6, 6, 5, 5, 4, 6, 3, 6, 8, 2, 3, 7, 0, 7, 0, 4, 1, 9, 5, 7, 8, 6, 6, 8, 0, 7, 2, 8, 4, 8, 2, 0, 9, 0, 0, 2, 9, 6, 6, 5, 6, 0, 3, 7, 5, 5, 7, 9, 3, 4, 5, 0, 5, 2, 3, 2, 6, 0, 4, 9, 0, 7, 0, 9, 7, 2, 6, 4, 6, 9, 5, 4, 7, 0, 6, 8, 8, 9, 9, 9, 0, 9, 8, 6, 4, 8, 1, 9, 1, 0, 5, 8, 6, 9, 6, 0, 8, 1, 3, 9, 4, 8, 4, 3, 2, 6, 0, 8, 9, 9, 4, 3, 0, 2, 4, 4, 0, 3, 5, 7, 5, 7, 7, 9, 0, 9, 5, 3, 8, 2, 4, 2, 3, 1, 2, 8, 9, 2, 8, 1, 4, 2, 0, 4, 5, 4, 8, 1, 7, 4, 1, 1, 0, 2, 7, 7, 4, 4, 4, 4, 8, 4, 3, 6, 6, 0, 1, 3, 9, 8, 4, 8, 9, 6, 2, 0, 5, 5, 9, 4, 2, 0, 8, 8, 0, 4, 0, 7, 6, 9, 5, 3, 5, 4, 4, 4, 4, 3, 7, 9, 2, 5, 1, 8, 3, 2, 6, 9, 6, 3, 1, 7, 4, 6, 3, 7, 8, 6, 2, 4, 6, 8, 0, 1, 9, 9, 1, 0, 0, 8, 9, 4, 7, 4, 4, 1, 9, 8, 8, 6, 1, 7, 4, 8, 8, 8, 0, 5, 6, 6, 8, 3, 4, 4, 1, 2, 1, 5, 7, 1, 7, 2, 8, 5, 9, 5, 6, 1, 9, 5, 0, 4, 3, 3, 0, 8, 2, 8, 0, 9, 0, 4, 6, 9, 2, 8, 2, 7, 7, 2, 2, 7, 1, 6, 1, 3, 4, 4, 8, 6, 0, 1, 9, 4, 2, 7, 5, 3, 9, 0, 1, 9, 0, 9, 8, 7, 0, 4, 9, 0, 5, 2, 1, 0, 2, 8, 8, 0, 5, 7, 6, 6, 5, 3, 7, 7, 7, 4, 2, 0, 1, 7, 3, 2, 7, 3, 2, 2, 1, 5, 9, 9, 8, 0, 8, 4, 3, 3, 8, 5, 0, 8, 4, 5, 7, 5, 1, 5, 0, 2, 0, 5, 4, 2, 3, 6, 2, 6, 2, 2, 3, 4, 6, 6, 5, 3, 0, 1, 2, 7, 7, 5, 3, 1, 1, 7, 6, 1, 6, 3, 3, 3, 3, 4, 8, 1, 0, 7, 7, 6, 8, 1, 2, 5, 3, 4, 1, 1, 9, 3, 1, 4, 2, 7, 1, 6, 5, 7, 7, 7, 6, 6, 1, 9, 5, 0, 9, 5, 7, 0, 0, 4, 6, 8, 0, 1, 5, 0, 9, 3, 1, 1, 2, 0, 3, 2, 9, 1, 9, 6, 2, 4, 8, 8, 5, 9, 2, 1, 9, 4, 4, 3, 0, 6, 6, 0, 4, 1, 0, 9, 5, 6, 5, 6, 9, 4, 4, 2, 6, 8, 4, 7, 6, 5, 9, 8, 7, 1, 9, 5, 4, 3, 5, 4, 3, 4, 1, 5, 5, 4, 0, 8, 4, 4, 0, 9, 2, 8, 9, 8, 0, 2, 2, 2, 6, 7, 8, 1, 9, 8, 0, 3, 8, 6, 8, 1, 6, 5, 4, 2, 1, 4, 3, 9, 7, 8, 3, 0, 8, 3, 4, 2, 9, 1, 0, 0, 3, 0, 4, 5, 9, 0, 7, 5, 9, 5, 8, 8, 6, 3, 1, 9, 5, 2, 4, 7, 6, 1, 8, 6, 9, 3, 1, 3, 7, 4, 0, 6, 7, 6, 9, 2, 4, 1, 9, 8, 5, 8, 2, 2, 5, 0, 2, 0, 7, 0, 6, 6, 4, 8, 7, 9, 6, 9, 2, 3, 8, 8, 3, 9, 9, 8, 7, 2, 3, 5, 5, 1, 8, 7, 4, 3, 5, 2, 2, 2, 1, 4, 2, 2, 8, 4, 9, 8, 2, 1, 2, 5, 6, 3, 4, 5, 7, 6, 7, 6, 5, 0, 2, 4, 4, 3, 0, 4, 2, 6, 1, 8, 8, 3, 0, 7, 4, 9, 7, 9, 2, 0, 4, 7, 3, 7, 6, 6, 2, 3, 7, 3, 6, 8, 2, 3, 3, 5, 5, 5, 2, 4, 2, 8, 7, 4, 3, 7, 7, 8, 5, 2, 8, 4, 3, 5, 4, 2, 9, 1, 4, 0, 0, 5, 6, 5, 6, 8, 0, 3, 4, 4, 4, 2, 2, 0, 5, 0, 3, 4, 7, 7, 3, 9, 7, 3, 7, 3, 7, 7, 7, 1, 7, 4, 4, 7, 9, 1, 7, 7, 4, 5, 9, 0, 8, 7, 3, 6, 2, 3, 8, 2, 5, 4, 8, 4, 0, 7, 5, 2, 7, 7, 2, 6, 4, 0, 2, 4, 3, 8, 9, 4, 5, 5, 6, 7, 1, 9, 6, 5, 0, 3, 4, 4, 0, 6, 6, 8, 3, 6, 0, 3, 3, 3, 8, 3, 3, 8, 4, 3, 8, 2, 9, 1, 4, 9, 5, 0, 6, 5, 0, 2, 6, 5, 4, 1, 5, 9, 0, 6, 2, 5, 4, 5, 8, 2, 8, 7, 5, 0, 7, 9, 9, 8, 2, 1, 0, 2, 7, 5, 0, 3, 8, 5, 0, 7, 9, 5, 8, 6, 9, 0, 7, 1, 9, 3, 5, 0, 5, 1, 7, 8, 9, 2, 0, 0, 8, 1, 1, 1, 6, 2, 3, 6, 2, 7, 1, 9, 3, 7, 6, 3, 1, 0, 5, 9, 4, 3, 9, 5, 0, 9, 2, 7, 5, 8, 0, 1, 3, 4, 8, 5, 1, 5, 7, 7, 2, 8, 4, 2, 2, 5, 3, 3, 1, 4, 9, 2, 4, 5, 2, 2, 3, 2, 1, 5, 8, 9, 2, 6, 6, 1, 7, 7, 5, 4, 4, 0, 5, 8, 8, 6, 6, 7, 2, 6, 4, 5, 1, 7, 5, 2, 4, 4, 6, 5, 2, 3, 8, 9, 3, 4, 3, 2, 6, 7, 2, 3, 2, 7, 7, 3, 0, 1, 4, 0, 6, 5, 5, 1, 6, 7, 6, 1, 3, 4, 0, 9, 9, 6, 8, 8, 3, 2, 3, 3, 8, 5, 3, 0, 9, 0, 8, 1, 3, 4, 8, 2, 4, 6, 1, 3, 5, 5, 1, 1, 1, 9, 5, 0, 4, 2, 9, 2, 5, 7, 4, 3, 3, 9, 1, 7, 2, 6, 1, 2, 9, 7, 9, 0, 4, 7, 8, 4, 9, 9, 4, 2, 9, 9, 8, 8, 6, 3, 2, 4, 6, 1, 7, 8, 2, 5, 8, 0, 4, 4, 5, 2, 4, 6, 5, 6, 5, 7, 7, 4, 5, 2, 0, 1, 1, 9, 6, 4, 3, 8, 7, 4, 0, 1, 5, 5, 0, 7, 0, 8, 5, 6, 1, 2, 3, 5, 8, 9, 6, 7, 6, 0, 7, 3, 1, 9, 4, 1, 8, 8, 1, 0, 6, 1, 7, 2, 5, 4, 5, 6, 6, 4, 8, 6, 4, 7, 9, 9, 4, 5, 1, 3, 9, 8, 6, 7, 3, 9, 5, 2, 5, 2, 1, 7, 1, 7, 0, 8, 3, 8, 3, 4, 1, 4, 0, 7, 9, 8, 5, 5, 6, 3, 9, 1, 2, 0, 0, 2, 8, 0, 2, 9, 3, 2, 0, 9, 9, 3, 2, 0, 6, 9, 7, 3, 7, 5, 1, 4, 6, 0, 7, 5, 8, 6, 7, 5, 2, 5, 5, 3, 3, 2, 2, 9, 9, 8, 8, 3, 5, 4, 3, 2, 8, 1, 1, 0, 7, 2, 1, 8, 7, 7, 5, 7, 6, 0, 4, 0, 3, 7, 3, 6, 2, 6, 5, 6, 3, 0, 3, 4, 5, 8, 4, 4, 0, 0, 1, 0, 6, 3, 8, 0, 1, 0, 7, 1, 3, 1, 8, 0, 2, 9, 8, 6, 5, 8, 4, 3, 4, 1, 0, 3, 9, 7, 4, 0, 3, 0, 8, 1, 1, 5, 7, 0, 0, 4, 8, 8, 8, 4, 1, 2, 9, 1, 2, 8, 7, 0, 7, 6, 2, 9, 0, 6, 7, 7, 5, 8, 2, 4, 4, 8, 4, 8, 0, 2, 7, 7, 6, 9, 1, 9, 9, 7, 5, 3, 7, 6, 0, 3, 9, 2, 9, 5, 6, 1, 0, 0, 2, 4, 5, 6, 3, 6, 4, 3, 5, 8, 9, 3, 9, 3, 4, 9, 3, 9, 5, 2, 8, 2, 6, 2, 2, 7, 2, 7, 6, 2, 4, 1, 2, 9, 9, 5, 2, 9, 8, 7, 7, 5, 6, 2, 8, 3, 7, 2, 3, 7, 3, 3, 6, 2, 1, 1, 1, 6, 9, 4, 0, 2, 4, 8, 0, 5, 4, 3, 1, 6, 1, 9, 8, 1, 1, 2, 8, 4, 8, 8, 3, 2, 6, 1, 0, 8, 1, 7, 6, 8, 5, 6, 3, 6, 7, 9, 2, 7, 7, 0, 7, 1, 7, 0, 6, 2, 7, 5, 0, 6, 9, 6, 2, 3, 1, 4, 1, 6, 9, 0, 5, 8, 9, 9, 6, 0, 8, 2, 0, 8, 9, 9, 8, 4, 3, 3, 6, 7, 0, 6, 4, 9, 1, 5, 8, 0, 0, 1, 0, 8, 9, 3, 8, 9, 3, 7, 8, 9, 4, 4, 6, 0, 9, 7, 2, 8, 0, 6, 2, 0, 6, 5, 5, 8, 5, 8, 6, 4, 0, 2, 6, 4, 3, 6, 2, 3, 7, 7, 2, 4, 2, 4, 9, 0, 2, 5, 4, 5, 4, 6, 0, 7, 7, 5, 0, 2, 0, 8, 5, 3, 7, 4, 5, 1, 9, 6, 5, 1, 8, 5, 4, 8, 5, 2, 3, 3, 8, 2, 2, 8, 2, 5, 7, 5, 5, 8, 7, 6, 1, 1, 8, 5, 1, 9, 9, 2, 2, 9, 1, 5, 2, 1, 3, 9, 9, 1, 3, 1, 2, 0, 6, 1, 7, 6, 8, 4, 0, 3, 3, 7, 2, 3, 6, 4, 5, 2, 7, 2, 4, 9, 5, 1, 6, 8, 8, 2, 1, 7, 1, 8, 0, 8, 5, 7, 0, 3, 6, 4, 2, 7, 7, 8, 2, 8, 9, 8, 8, 4, 6, 7, 0, 1, 2, 1, 1, 9, 4, 6, 4, 2, 7, 4, 6, 1, 9, 4, 9, 1, 4, 5, 1, 9, 2, 8, 0, 1, 5, 1, 7, 9, 2, 0, 4, 8, 4, 0, 2, 0, 1, 0, 5, 3, 6, 2, 2, 2, 2, 6, 6, 8, 6, 2, 3, 5, 2, 8, 9, 8, 0, 1, 5, 0, 9, 1, 6, 7, 9, 7, 3, 6, 2, 0, 4, 7, 6, 4, 4, 5, 2, 3, 4, 4, 5, 2, 9, 6, 1, 4, 7, 4, 8, 6, 5, 9, 8, 9, 9, 4, 4, 8, 6, 6, 4, 2, 1, 8, 3, 3, 0, 3, 8, 9, 2, 6, 2, 6, 5, 6, 8, 4, 3, 5, 0, 3, 2, 0, 0, 4, 8, 9, 8, 6, 9, 2, 1, 0, 7, 9, 0, 5, 0, 6, 2, 0, 6, 7, 6, 2, 6, 7, 8, 2, 4, 7, 6, 8, 7, 7, 3, 2, 5, 9, 3, 8, 2, 6, 4, 9, 6, 2, 1, 4, 0, 6, 6, 4, 3, 4, 5, 3, 6, 5, 9, 9, 5, 1, 6, 0, 2, 7, 9, 5, 3, 5, 6, 2, 1, 5, 5, 9, 0, 1, 3, 4, 5, 7, 4, 5, 9, 6, 1, 7, 4, 2, 8, 8, 5, 6, 0, 3, 4, 9, 4, 5, 6, 0, 7, 0, 3, 0, 7, 5, 8, 3, 8, 1, 5, 9, 1, 0, 1, 8, 0, 8, 2, 5, 6, 7, 1, 0, 2, 9, 0, 4, 1, 9, 5, 3, 5, 7, 3, 1, 9, 3, 9, 4, 9, 6, 0, 8, 8, 6, 6, 9, 6, 9, 3, 2, 0, 1, 7, 3, 6, 5, 3, 3, 3, 6, 4, 0, 0, 8, 4, 2, 2, 2, 1, 8, 6, 8, 5, 3, 9, 9, 0, 9, 8, 1, 5, 4, 3, 7, 0, 9, 7, 6, 0, 4, 1, 9, 8, 4, 7, 7, 5, 9, 7, 7, 5, 5, 6, 8, 5, 7, 5, 8, 8, 2, 5, 5, 2, 8, 4, 5, 6, 8, 8, 5, 3, 5, 5, 9, 4, 3, 3, 9, 0, 2, 4, 1, 0, 2, 7, 5, 3, 4, 3, 7, 6, 2, 3, 5, 2, 0, 5, 9, 6, 3, 9, 6, 0, 2, 5, 6, 7, 7, 2, 0, 1, 7, 0, 8, 9, 4, 3, 4, 3, 5, 3, 6, 0, 4, 2, 6, 9, 5, 1, 1, 9, 1, 9, 2, 4, 9, 1, 9, 8, 6, 3, 6, 8, 2, 0, 9, 3, 5, 8, 7, 4, 2, 2, 7, 9, 1, 8, 2, 4, 7, 6, 0, 5, 5, 6, 9, 8, 8, 5, 5, 7, 1, 2, 7, 9, 0, 5, 7, 5, 2, 5, 4, 7, 1, 3, 3, 4, 3, 6, 2, 0, 5, 8, 0, 4, 2, 9, 2, 4, 2, 3, 8, 0, 8, 4, 6, 4, 2, 8, 6, 9, 8, 4, 1, 9, 7, 0, 8, 3, 2, 4, 6, 8, 2, 4, 1, 3, 0, 8, 2, 0, 8, 0, 0, 0, 0, 2, 2, 3, 6, 9, 7, 0, 9, 1, 0, 7, 2, 8, 3, 0, 8, 4, 3, 5, 8, 7, 8, 4, 0, 0, 9, 7, 3, 1, 5, 2, 6, 5, 3, 2, 3, 7, 0, 3, 4, 1, 1, 8, 9, 0, 4, 8, 3, 1, 1, 5, 7, 2, 3, 9, 4, 5, 2, 5, 4, 7, 1, 7, 6, 2, 6, 1, 8, 8, 9, 4, 9, 5, 6, 6, 7, 1, 1, 2, 2, 4, 8, 5, 5, 9, 2, 9, 8, 5, 7, 2, 3, 8, 5, 7, 4, 7, 6, 2, 6, 0, 6, 2, 0, 4, 0, 1, 4, 2, 3, 5, 8, 7, 5, 1, 5, 2, 2, 5, 3, 6, 5, 4, 3, 2, 9, 4, 4, 0, 1, 8, 8, 6, 5, 3, 7, 2, 3, 2, 9, 0, 9, 2, 7, 8, 1, 2, 1, 3, 7, 2, 9, 3, 5, 5, 8, 4, 5, 5, 8, 5, 5, 6, 9, 5, 8, 6, 1, 2, 4, 2, 4, 9, 2, 1, 9, 3, 0, 8, 2, 8, 4, 2, 6, 4, 1, 3, 6, 9, 4, 6, 8, 6, 9, 6, 4, 7, 2, 0, 9, 4, 4, 4, 8, 9, 7, 7, 9, 3, 5, 0, 0, 3, 3, 3, 7, 6, 1, 4, 5, 2, 4, 4, 8, 5, 6, 0, 3, 4, 6, 3, 2, 0, 3, 5, 7, 0, 3, 5, 4, 7, 8, 5, 7, 0, 2, 8, 0, 2, 4, 6, 6, 6, 3, 7, 6, 3, 5, 9, 9, 7, 4, 9, 1, 9, 6, 5, 1, 7, 0, 2, 0, 2, 7, 4, 9, 8, 3, 5, 3, 0, 5, 1, 6, 7, 7, 8, 8, 2, 7, 9, 2, 4, 6, 5, 9, 8, 4, 6, 7, 8, 2, 8, 5, 8, 9, 0, 2, 3, 0, 9, 7, 3, 7, 9, 5, 3, 6, 6, 9, 9, 1, 5, 1, 2, 2, 4, 0, 9, 5, 4, 2, 8, 9, 9, 2, 0, 2, 6, 9, 1, 3, 8, 8, 6, 6, 4, 9, 6, 4, 4, 0, 4, 9, 2, 2, 0, 4, 0, 9, 6, 7, 9, 0, 9, 3, 9, 9, 9, 6, 2, 3, 6, 7, 6, 0, 5, 7, 6, 4, 4, 9, 8, 0, 9, 4, 6, 0, 7, 1, 3, 6, 6, 0, 4, 7, 1, 1, 4, 9, 8, 6, 8, 0, 6, 1, 1, 8, 5, 5, 5, 3, 4, 5, 5, 8, 6, 9, 3, 4, 3, 4, 2, 4, 3, 3, 8, 8, 9, 5, 7, 2, 8, 2, 3, 1, 9, 6, 4, 8, 5, 1, 6, 1, 7, 6, 4, 3, 2, 3, 9, 0, 5, 2, 3, 9, 5, 3, 2, 4, 4, 5, 8, 3, 4, 5, 6, 6, 7, 3, 1, 6, 5, 9, 8, 3, 2, 0, 4, 7, 3, 9, 9, 4, 1, 6, 7, 6, 6, 1, 5, 8, 1, 0, 8, 6, 3, 7, 1, 5, 9, 4, 1, 6, 0, 3, 7, 2, 9, 2, 2, 6, 9, 1, 0, 5, 7, 4, 2, 8, 9, 0, 8, 6, 4, 3, 3, 6, 4, 5, 4, 2, 3, 1, 4, 6, 8, 3, 9, 7, 9, 4, 0, 8, 9, 8, 0, 8, 1, 9, 3, 2, 7, 0, 6, 0, 5, 9, 5, 4, 8, 1, 0, 2, 5, 0, 8, 3, 0, 1, 4, 0, 3, 1, 6, 4, 7, 9, 5, 5, 0, 4, 7, 9, 1, 9, 1, 4, 6, 3, 9, 9, 9, 8, 9, 7, 1, 1, 4, 1, 0, 7, 0, 9, 6, 6, 2, 4, 7, 6, 4, 5, 8, 0, 4, 7, 1, 7, 3, 4, 7, 5, 5, 2, 0, 2, 0, 5, 5, 8, 5, 8, 4, 0, 8, 4, 9, 7, 6, 9, 8, 0, 8, 4, 2, 9, 1, 4, 6, 0, 7, 7, 1, 6, 1, 5, 6, 5, 7, 3, 8, 4, 5, 8, 5, 8, 5, 9, 1, 3, 2, 5, 3, 1, 2, 1, 2, 6, 7, 2, 0, 5, 3, 1, 6, 2, 7, 3, 6, 0, 9, 8, 0, 6, 4, 3, 2, 6, 8, 7, 2, 1, 1, 9, 5, 4, 5, 8, 0, 1, 0, 9, 1, 8, 2, 4, 7, 4, 2, 4, 4, 7, 0, 0, 6, 4, 6, 7, 8, 5, 9, 9, 2, 9, 3, 3, 5, 7, 7, 6, 7, 0, 0, 0, 6, 3, 1, 2, 6, 3, 7, 3, 2, 2, 8, 8, 6, 6, 0, 0, 3, 1, 1, 1, 3, 4, 4, 6, 4, 7, 3, 2, 3, 9, 7, 2, 7, 9, 2, 3, 6, 7, 5, 9, 2, 6, 3, 5, 6, 5, 3, 4, 6, 9, 1, 7, 7, 5, 9, 4, 2, 3, 8, 0, 9, 6, 6, 1, 3, 6, 6, 3, 9, 3, 6, 5, 2, 0, 4, 7, 4, 8, 5, 5, 0, 0, 9, 0, 3, 6, 2, 9, 8, 1, 1, 4, 3, 4, 0, 3, 7, 3, 8, 6, 4, 2, 4, 1, 2, 7, 5, 2, 6, 8, 0, 4, 6, 4, 2, 3, 2, 4, 1, 6, 0, 5, 8, 8, 1, 8, 6, 2, 8, 2, 4, 4, 0, 9, 7, 6, 7, 4, 2, 3, 8, 9, 4, 8, 8, 4, 2, 0, 1, 4, 4, 8, 6, 6, 7, 2, 7, 0, 0, 7, 2, 3, 1, 8, 9, 7, 7, 0, 1, 7, 9, 7, 7, 5, 9, 2, 7, 5, 5, 1, 4, 4, 7, 1, 3, 6, 3, 0, 0, 0, 8, 0, 8, 5, 6, 8, 6, 6, 4, 0, 0, 8, 6, 7, 4, 8, 3, 9, 4, 9, 8, 2, 3, 0, 4, 4, 8, 1, 8, 4, 3, 8, 8, 4, 2, 4, 3, 6, 3, 0, 5, 8, 0, 7, 5, 4, 7, 5, 8, 9, 0, 4, 6, 7, 1, 1, 4, 3, 5, 7, 1, 7, 1, 9, 3, 0, 0, 8, 9, 7, 2, 8, 9, 9, 3, 5, 0, 3, 3, 2, 1, 0, 1, 5, 2, 7, 1, 4, 1, 3, 5, 1, 9, 8, 5, 2, 0, 7, 2, 9, 2, 0, 9, 2, 2, 6, 2, 1, 8, 4, 4, 8, 4, 1, 7, 0, 3, 6, 1, 6, 3, 7, 4, 4, 7, 8, 2, 7, 4, 7, 3, 6, 6, 3, 5, 9, 8, 6, 0, 0, 8, 4, 3, 6, 9, 6, 2, 5, 0, 6, 3, 1, 5, 2, 2, 7, 3, 4, 6, 2, 8, 7, 6, 3, 9, 3, 4, 3, 6, 7, 7, 1, 1, 7, 8, 4, 5, 3, 6, 5, 6, 2, 9, 2, 5, 9, 1, 1, 7, 8, 3, 5, 1, 3, 8, 5, 0, 8, 0, 2, 3, 9, 8, 3, 0, 0, 7, 5, 7, 3, 2, 3, 3, 7, 5, 5, 6, 9, 0, 2, 1, 2, 5, 5, 1, 4, 0, 7, 1, 8, 8, 4, 0, 1, 7, 8, 9, 0, 7, 2, 5, 7, 8, 3, 0, 1, 2, 3, 9, 2, 7, 0, 0, 2, 2, 4, 1, 5, 3, 3, 5, 1, 5, 5, 9, 0, 9, 8, 0, 9, 3, 0, 7, 9, 6, 5, 5, 2, 6, 8, 0, 1, 7, 7, 7, 1, 3, 0, 1, 4, 1, 0, 3, 1, 9, 0, 6, 3, 6, 0, 5, 4, 0, 8, 8, 0, 1, 5, 8, 3, 7, 2, 9, 1, 9, 9, 2, 7, 6, 1, 0, 9, 8, 8, 6, 0, 2, 0, 5, 0, 8, 9, 2, 6, 6, 1, 2, 1, 5, 8, 9, 7, 4, 1, 2, 8, 9, 0, 2, 0, 9, 9, 1, 1, 5, 5, 3, 9, 3, 1, 5, 2, 2, 5, 1, 6, 9, 5, 4, 5, 4, 9, 6, 0, 8, 2, 1, 9, 7, 0, 8, 0, 1, 0, 2, 3, 8, 6, 4, 1, 5, 6, 1, 9, 4, 9, 6, 3, 8, 7, 3, 0, 3, 9, 7, 2, 6, 2, 9, 4, 6, 0, 9, 6, 7, 4, 7, 0, 9, 9, 5, 6, 5, 4, 1, 3, 5, 5, 2, 9, 5, 2, 9, 7, 7, 4, 9, 4, 4, 8, 7, 8, 7, 4, 5, 0, 8, 2, 3, 0, 0, 8, 8, 4, 0, 2, 5, 7, 2, 6, 2, 5, 6, 9, 7, 3, 4, 1, 5, 4, 8, 8, 4, 3, 0, 7, 2, 9, 4, 6, 6, 4, 9, 2, 4, 8, 8, 0, 3, 8, 1, 4, 1, 0, 6, 6, 9, 1, 6, 2, 3, 4, 0, 1, 2, 2, 0, 8, 8, 4, 7, 9, 9, 6, 6, 0, 5, 6, 7, 3, 6, 7, 8, 7, 3, 1, 0, 3, 8, 4, 5, 1, 8, 6, 2, 8, 5, 7, 6, 2, 8, 6, 5, 8, 0, 5, 9, 2, 7, 0, 5, 8, 6, 8, 9, 3, 8, 3, 2, 6, 8, 7, 8, 3, 3, 8, 5, 4, 1, 2, 9, 6, 5, 9, 4, 3, 8, 5, 5, 8, 8, 2, 0, 3, 1, 4, 1, 0, 8, 0, 5, 8, 4, 9, 1, 8, 0, 0, 6, 7, 7, 7, 5, 6, 3, 6, 5, 8, 2, 6, 5, 7, 5, 4, 7, 3, 2, 9, 5, 8, 8, 5, 7, 2, 2, 8, 7, 6, 7, 7, 2, 7, 6, 4, 0, 6, 3, 1, 4, 6, 3, 9, 8, 3, 8, 1, 0, 0, 5, 3, 5, 8, 4, 0, 6, 1, 7, 0, 2, 2, 1, 7, 3, 0, 8, 6, 7, 7, 0, 0, 1, 4, 1, 1, 6, 6, 6, 1, 3, 6, 0, 1, 3, 8, 5, 0, 1, 6, 5, 5, 4, 3, 9, 8, 6, 0, 5, 4, 9, 2, 8, 4, 8, 8, 2, 1, 4, 8, 6, 7, 3, 1, 3, 4, 9, 4, 8, 4, 5, 0, 9, 1, 3, 8, 7, 5, 4, 6, 6, 7, 9, 0, 5, 2, 3, 3, 3, 9, 0, 9, 2, 9, 1, 0, 2, 3, 9, 6, 6, 1, 6, 3, 7, 6, 2, 7, 0, 4, 8, 9, 6, 0, 7, 7, 5, 0, 4, 5, 9, 6, 4, 5, 7, 9, 3, 7, 8, 5, 0, 4, 1, 3, 8, 6, 9, 5, 7, 6, 7, 7, 3, 4, 2, 3, 6, 4, 5, 0, 1, 9, 3, 8, 4, 4, 1, 9, 8, 9, 3, 6, 0, 9, 1, 6, 3, 2, 3, 0, 5, 8, 8, 0, 0, 6, 2, 3, 5, 1, 5, 7, 1, 0, 9, 8, 3, 3, 5, 6, 3, 2, 1, 3, 7, 0, 7, 7, 2, 4, 7, 7, 6, 2, 6, 1, 7, 2, 3, 3, 0, 2, 2, 9, 6, 5, 5, 1, 9, 7, 9, 4, 6, 4, 1, 9, 1, 3, 6, 1, 2, 2, 5, 8, 0, 8, 5, 1, 7, 6, 7, 9, 3, 0, 9, 2, 2, 6, 7, 6, 9, 1, 9, 4, 0, 5, 6, 6, 4, 4, 4, 1, 6, 3, 2, 8, 9, 4, 7, 2, 3, 9, 3, 4, 0, 1, 1, 1, 9, 9, 7, 5, 1, 9, 2, 5, 6, 1, 5, 3, 0, 1, 4, 9, 4, 2, 0, 8, 3, 2, 7, 3, 8, 6, 1, 4, 2, 4, 9, 4, 6, 9, 1, 5, 9, 9, 1, 4, 2, 7, 2, 7, 3, 1, 9, 8, 8, 1, 2, 0, 8, 8, 2, 8, 7, 8, 4, 1, 7, 4, 3, 1, 8, 6, 4, 5, 0, 5, 6, 7, 5, 9, 8, 8, 8, 9, 7, 3, 8, 7, 8, 2, 1, 8, 8, 4, 9, 1, 5, 4, 2, 6, 6, 9, 2, 7, 2, 8, 4, 2, 9, 1, 6, 5, 8, 5, 9, 7, 6, 2, 9, 1, 8, 7, 0, 9, 9, 7, 6, 3, 9, 3, 0, 0, 0, 7, 7, 0, 7, 3, 9, 0, 9, 2, 1, 5, 7, 1, 6, 8, 2, 0, 4, 2, 1, 4, 0, 4, 8, 0, 4, 9, 9, 6, 3, 6, 1, 7, 4, 6, 8, 6, 0, 7, 4, 8, 7, 5, 7, 5, 2, 0, 5, 8, 6, 6, 6, 8, 8, 5, 6, 6, 9, 9, 2, 7, 2, 1, 9, 3, 9, 0, 1, 5, 9, 9, 7, 9, 6, 5, 3, 7, 6, 7, 0, 4, 2, 3, 9, 6, 2, 5, 7, 5, 0, 2, 8, 2, 9, 6, 1, 5, 1, 3, 6, 3, 0, 8, 0, 6, 3, 5, 0, 1, 4, 6, 7, 9, 1, 5, 4, 0, 4, 6, 2, 3, 8, 7, 5, 7, 3, 4, 8, 9, 8, 3, 6, 0, 5, 1, 1, 9, 4, 8, 9, 9, 9, 5, 0, 8, 0, 2, 0, 3, 6, 3, 9, 0, 3, 3, 8, 0, 8, 8, 0, 9, 4, 8, 4, 6, 4, 4, 3, 3, 0, 4, 9, 6, 7, 9, 5, 4, 3, 5, 5, 5, 2, 3, 6, 5, 5, 9, 1, 6, 4, 1, 0, 5, 7, 9, 3, 0, 6, 8, 9, 7, 6, 2, 8, 0, 0, 2, 9, 0, 3, 2, 7, 2, 7, 3, 2, 3, 7, 7, 5, 3, 8, 5, 4, 0, 2, 9, 1, 3, 2, 5, 8, 0, 6, 1, 7, 5, 9, 7, 7, 5, 0, 1, 1, 9, 4, 2, 1, 8, 2, 2, 2, 7, 3, 7, 0, 4, 6, 6, 2, 9, 3, 0, 6, 0, 1, 9, 3, 5, 4, 9, 6, 7, 3, 6, 8, 3, 9, 2, 0, 9, 5, 4, 7, 2, 3, 9, 9, 5, 0, 3, 1, 7, 2, 4, 7, 9, 9, 0, 4, 4, 5, 1, 7, 1, 8, 4, 1, 4, 2, 1, 6, 9, 2, 2, 0, 8, 0, 8, 8, 5, 5, 2, 8, 0, 9, 5, 7, 4, 9, 5, 2, 0, 8, 0, 2, 6, 9, 1, 3, 0, 1, 8, 9, 4, 5, 9, 8, 0, 7, 8, 4, 4, 3, 6, 6, 5, 6, 1, 0, 1, 2, 8, 9, 6, 5, 9, 9, 9, 6, 5, 0, 9, 5, 0, 5, 8, 0, 0, 4, 3, 4, 2, 6, 1, 7, 6, 2, 3, 1, 2, 8, 2, 6, 0, 3, 4, 1, 6, 2, 3, 4, 2, 6, 5, 8, 9, 8, 3, 5, 7, 5, 7, 0, 4, 6, 3, 4, 0, 3, 6, 2, 1, 7, 5, 8, 5, 8, 7, 4, 5, 4, 0, 2, 1, 5, 7, 2, 6, 8, 0, 7, 7, 4, 1, 0, 7, 9, 2, 7, 0, 9, 8, 7, 7, 5, 2, 7, 9, 7, 6, 4, 8, 4, 6, 4, 1, 7, 9, 8, 8, 6, 3, 7, 3, 3, 9, 7, 0, 7, 1, 8, 8, 5, 7, 1, 1, 7, 4, 0, 4, 1, 2, 2, 9, 8, 7, 1, 3, 2, 2, 4, 1, 0, 4, 5, 1, 5, 6, 1, 8, 2, 5, 3, 9, 5, 1, 7, 0, 4, 6, 7, 2, 3, 5, 5, 9, 0, 5, 7, 8, 3, 6, 0, 3, 1, 9, 2, 7, 0, 9, 8, 2, 9, 8, 3, 2, 5, 0, 0, 8, 3, 3, 6, 6, 4, 9, 6, 0, 9, 1, 5, 7, 0, 2, 7, 8, 2, 9, 4, 1, 3, 1, 6, 5, 6, 2, 4, 2, 8, 5, 8, 6, 4, 4, 8, 8, 6, 2, 3, 3, 8, 1, 3, 4, 5, 6, 2, 9, 0, 7, 2, 7, 0, 8, 7, 4, 8, 2, 7, 7, 7, 9, 9, 1, 4, 8, 3, 7, 4, 3, 4, 1, 8, 8, 4, 1, 0, 8, 0, 0, 0, 4, 7, 1, 5, 5, 5, 3, 6, 5, 3, 2, 9, 0, 5, 1, 0, 0, 9, 1, 7, 8, 9, 2, 3, 5, 7, 1, 0, 8, 8, 8, 0, 7, 2, 7, 2, 5, 0, 7, 7, 9, 4, 8, 6, 5, 9, 6, 8, 6, 9, 4, 0, 4, 7, 2, 9, 0, 3, 0, 9, 5, 2, 2, 1, 4, 4, 2, 5, 6, 2, 4, 2, 5, 3, 1, 7, 5, 9, 6, 9, 5, 9, 4, 1, 2, 5, 9, 8, 3, 6, 5, 5, 4, 8, 7, 9, 5, 0, 8, 4, 9, 5, 7, 3, 3, 0, 2, 1, 5, 9, 0, 1, 2, 3, 3, 7, 2, 1, 0, 7, 7, 1, 3, 4, 2, 5, 9, 4, 0, 8, 9, 5, 3, 0, 5, 5, 6, 5, 6, 6, 2, 0, 8, 5, 6, 5, 4, 5, 5, 2, 6, 3, 1, 4, 9, 0, 0, 9, 4, 9, 7, 6, 7, 1, 1, 1, 8, 0, 6, 2, 6, 4, 9, 1, 5, 0, 2, 8, 3, 1, 1, 8, 8, 5, 1, 0, 8, 4, 6, 2, 7, 6, 9, 9, 3, 9, 8, 5, 5, 2, 7, 9, 8, 8, 1, 3, 9, 7, 0, 8, 3, 4, 3, 0, 9, 6, 4, 9, 4, 8, 2, 9, 6, 4, 4, 8, 9, 5, 3, 3, 0, 0, 7, 0, 1, 8, 6, 7, 9, 1, 7, 3, 3, 3, 9, 5, 4, 4, 3, 4, 3, 3, 2, 2, 4, 4, 6, 4, 5, 7, 3, 7, 8, 5, 0, 5, 3, 6, 8, 1, 2, 2, 3, 2, 1, 5, 1, 4, 7, 2, 9, 8, 7, 0, 1, 0, 4, 1, 9, 6, 8, 5, 4, 8, 4, 6, 5, 6, 7, 3, 7, 9, 5, 0, 7, 6, 3, 9, 2, 4, 6, 9, 1, 4, 7, 1, 6, 4, 9, 0, 6, 7, 5, 4, 4, 9, 7, 3, 1, 9, 7, 9, 4, 6, 7, 4, 9, 6, 1, 2, 6, 4, 7, 6, 7, 1, 4, 3, 2, 3, 7, 0, 3, 9, 4, 0, 0, 4, 2, 8, 2, 1, 3, 7, 7, 8, 2, 3, 1, 7, 2, 0, 7, 3, 4, 3, 5, 2, 7, 6, 8, 5, 4, 5, 2, 8, 3, 4, 5, 8, 1, 3, 1, 6, 3, 5, 1, 0, 5, 1, 9, 5, 2, 9, 4, 2, 7, 9, 9, 1, 6, 3, 2, 0, 1, 7, 0, 0, 1, 0, 5, 4, 8, 0, 9, 0, 1, 9, 3, 7, 4, 2, 4, 2, 6, 2, 0, 3, 6, 0, 8, 7, 0, 0, 7, 3, 8, 3, 3, 6, 8, 2, 7, 4, 1, 2, 9, 2, 4, 6, 6, 8, 5, 1, 4, 3, 7, 5, 0, 9, 2, 0, 1, 3, 9, 4, 3, 1, 8, 5, 4, 9, 9, 0, 7, 6, 5, 5, 2, 1, 6, 2, 7, 4, 6, 4, 1, 6, 5, 1, 9, 3, 8, 7, 2, 3, 6, 1, 4, 3, 2, 8, 2, 8, 6, 4, 6, 8, 4, 5, 2, 8, 0, 9, 7, 3, 5, 2, 4, 6, 7, 2, 1, 3, 3, 3, 3, 1, 1, 3, 7, 4, 2, 6, 8, 2, 0, 0, 4, 6, 3, 8, 4, 6, 3, 0, 7, 8, 1, 9, 6, 0, 5, 2, 6, 7, 6, 4, 9, 6, 4, 7, 8, 5, 9, 4, 5, 1, 4, 6, 6, 7, 9, 3, 8, 2, 0, 1, 6, 9, 2, 6, 2, 1, 6, 7, 0, 6, 3, 3, 3, 2, 1, 4, 5, 4, 0, 7, 8, 6, 3, 7, 4, 0, 9, 6, 7, 3, 5, 8, 5, 6, 9, 5, 6, 6, 2, 3, 3, 4, 9, 7, 1, 3, 4, 6, 2, 4, 3, 3, 0, 8, 6, 7, 7, 3, 4, 5, 4, 2, 3, 1, 0, 9, 4, 4, 4, 2, 5, 2, 0, 3, 3, 6, 2, 5, 1, 7, 9, 2, 8, 2, 0, 1, 8, 8, 7, 2, 3, 4, 3, 2, 1, 0, 7, 5, 9, 9, 6, 8, 6, 2, 3, 0, 8, 4, 7, 4, 7, 1, 9, 3, 1, 2, 1, 9, 0, 6, 0, 9, 8, 1, 3, 1, 9, 6, 1, 3, 5, 7, 7, 1, 8, 7, 4, 0, 1, 3, 2, 6, 0, 0, 5, 3, 2, 9, 9, 5, 7, 7, 5, 5, 7, 3, 1, 0, 1, 2, 9, 9, 5, 9, 1, 4, 0, 6, 7, 3, 7, 3, 8, 8, 0, 4, 6, 6, 5, 3, 1, 7, 9, 8, 3, 5, 1, 3, 1, 7, 0, 1, 1, 2, 7, 8, 6, 3, 0, 2, 6, 9, 6, 7, 6, 6, 1, 7, 3, 6, 6, 8, 2, 3, 7, 5, 0, 8, 7, 7, 1, 9, 3, 6, 1, 4, 5, 2, 8, 2, 8, 7, 6, 5, 1, 4, 5, 3, 3, 9, 4, 1, 3, 8, 8, 3, 8, 7, 7, 5, 6, 8, 5, 1, 2, 7, 2, 2, 8, 6, 2, 8, 5, 7, 4, 6, 9, 3, 1, 1, 5, 2, 8, 7, 1, 1, 7, 7, 8, 6, 8, 6, 7, 1, 6, 8, 1, 6, 0, 9, 9, 2, 3, 4, 7, 4, 7, 7, 2, 4, 9, 8, 3, 8, 3, 7, 1, 4, 5, 6, 3, 2, 2, 0, 6, 0, 9, 8, 4, 7, 7, 5, 0, 3, 1, 9, 1, 3, 5, 5, 4, 7, 4, 5, 4, 8, 8, 8, 3, 2, 1, 2, 9, 6, 1, 9, 4, 7, 6, 4, 1, 1, 4, 8, 1, 9, 2, 3, 9, 0, 3, 9, 4, 1, 8, 3, 4, 8, 3, 3, 1, 8, 2, 6, 0, 0, 2, 1, 0, 4, 6, 6, 2, 1, 0, 3, 1, 6, 1, 9, 6, 3, 9, 6, 7, 4, 6, 8, 4, 2, 3, 2, 0, 8, 6, 4, 9, 0, 7, 0, 1, 2, 5, 5, 1, 6, 3, 6, 2, 8, 5, 7, 1, 6, 1, 2, 1, 0, 0, 8, 8, 2, 8, 5, 7, 3, 3, 5, 4, 9, 4, 7, 6, 1, 8, 4, 9, 7, 4, 3, 8, 2, 9, 7, 7, 5, 6, 0, 6, 3, 1, 3, 8, 2, 2, 9, 7, 8, 8, 0, 0, 7, 5, 1, 1, 6, 5, 8, 7, 4, 6, 2, 7, 7, 8, 7, 5, 5, 7, 6, 4, 6, 2, 2, 8, 9, 6, 9, 4, 6, 8, 8, 2, 1, 3, 3, 8, 4, 0, 4, 7, 2, 5, 4, 4, 0, 8, 4, 3, 6, 3, 8, 8, 2, 9, 6, 9, 5, 6, 2, 3, 7, 1, 4, 7, 9, 0, 5, 8, 6, 7, 3, 1, 7, 2, 5, 6, 6, 0, 5, 0, 8, 4, 2, 4, 4, 7, 1, 5, 8, 5, 2, 3, 8, 8, 4, 9, 8, 5, 9, 5, 2, 5, 8, 4, 7, 3, 3, 3, 1, 3, 8, 9, 3, 8, 1, 8, 3, 6, 9, 2, 2, 6, 3, 5, 5, 7, 3, 6, 0, 1, 2, 1, 1, 8, 5, 2, 7, 3, 4, 4, 8, 5, 5, 6, 5, 3, 5, 4, 5, 2, 2, 9, 0, 8, 9, 3, 6, 1, 0, 6, 1, 1, 2, 0, 3, 5, 7, 0, 2, 7, 7, 0, 4, 5, 6, 7, 5, 7, 2, 5, 0, 7, 1, 9, 3, 7, 6, 0, 7, 3, 4, 4, 5, 2, 9, 2, 0, 3, 1, 6, 2, 2, 4, 7, 3, 1, 8, 7, 3, 0, 6, 5, 3, 5, 3, 8, 6, 8, 3, 3, 5, 8, 1, 6, 9, 5, 6, 0, 9, 9, 5, 6, 8, 9, 6, 0, 6, 3, 6, 1, 0, 6, 2, 3, 5, 1, 9, 0, 6, 6, 5, 6, 3, 4, 5, 1, 6, 7, 4, 2, 9, 6, 6, 2, 5, 8, 8, 4, 1, 7, 1, 8, 1, 1, 3, 7, 9, 5, 8, 4, 4, 1, 2, 0, 1, 4, 9, 2, 7, 5, 8, 3, 2, 3, 8, 0, 1, 3, 7, 6, 6, 4, 3, 5, 0, 6, 4, 7, 1, 7, 1, 0, 0, 8, 2, 7, 2, 7, 8, 6, 2, 9, 1, 6, 2, 6, 1, 3, 0, 5, 3, 0, 6, 1, 1, 5, 1, 7, 5, 3, 4, 1, 1, 4, 0, 8, 4, 2, 5, 4, 8, 3, 4, 3, 1, 1, 7, 9, 1, 1, 8, 0, 1, 1, 2, 1, 4, 4, 8, 7, 4, 8, 6, 3, 1, 9, 6, 6, 4, 4, 0, 2, 5, 9, 7, 1, 7, 6, 4, 7, 5, 4, 1, 0, 2, 3, 3, 8, 9, 9, 7, 5, 9, 9, 7, 9, 6, 0, 4, 5, 3, 3, 1, 5, 1, 8, 3, 8, 0, 5, 4, 8, 1, 3, 8, 9, 1, 8, 0, 0, 5, 8, 1, 2, 7, 8, 2, 9, 5, 8, 9, 9, 6, 4, 3, 9, 0, 7, 0, 2, 2, 3, 8, 3, 0, 9, 5, 6, 3, 1, 5, 2, 3, 9, 2, 6, 7, 3, 8, 3, 6, 3, 7, 3, 0, 6, 3, 3, 9, 1, 8, 8, 3, 8, 3, 3, 0, 1, 0, 0, 7, 8, 8, 0, 5, 0, 9, 1, 8, 5, 6, 3, 5, 3, 0, 2, 2, 8, 6, 2, 9, 0, 0, 1, 0, 4, 3, 3, 8, 8, 4, 0, 6, 3, 1, 6, 2, 0, 7, 5, 7, 0, 1, 6, 0, 3, 2, 6, 9, 2, 9, 4, 7, 4, 5, 8, 5, 4, 7, 7, 3, 3, 7, 8, 9, 9, 1, 0, 4, 6, 2, 7, 5, 1, 8, 0, 7, 9, 3, 4, 2, 1, 0, 2, 5, 6, 0, 3, 9, 4, 2, 1, 7, 0, 1, 5, 4, 3, 7, 1, 7, 1, 9, 7, 8, 7, 0, 7, 8, 3, 2, 8, 7, 4, 5, 7, 1, 4, 7, 4, 4, 8, 9, 9, 8, 0, 6, 2, 4, 2, 4, 7, 6, 8, 1, 7, 4, 0, 2, 9, 8, 0, 6, 1, 6, 3, 9, 2, 0, 0, 4, 9, 2, 1, 0, 2, 2, 0, 2, 3, 7, 3, 8, 6, 4, 3, 7, 1, 0, 6, 4, 5, 8, 5, 3, 3, 7, 1, 7, 5, 7, 9, 2, 3, 4, 9, 9, 8, 9, 8, 2, 5, 9, 5, 0, 6, 8, 9, 9, 6, 1, 1, 9, 1, 6, 9, 4, 2, 2, 6, 8, 7, 1, 3, 6, 1, 1, 1, 5, 7, 5, 0, 1, 5, 8, 0, 6, 4, 3, 1, 7, 8, 1, 2, 1, 2, 5, 4, 8, 2, 9, 0, 8, 3, 5, 4, 9, 3, 6, 5, 7, 0, 7, 9, 9, 2, 6, 9, 9, 3, 2, 4, 3, 5, 0, 3, 0, 5, 1, 4, 5, 1, 1, 5, 5, 7, 0, 2, 0, 5, 9, 4, 0, 3, 8, 9, 0, 9, 8, 6, 1, 2, 7, 6, 7, 0, 3, 3, 3, 0, 6, 2, 0, 7, 0, 4, 3, 7, 3, 5, 7, 7, 4, 7, 6, 1, 4, 6, 6, 6, 0, 1, 4, 7, 7, 7, 1, 7, 8, 3, 7, 3, 9, 3, 2, 1, 0, 6, 2, 7, 5, 0, 6, 7, 2, 4, 3, 2, 9, 4, 9, 8, 2, 0, 6, 1, 1, 7, 5, 0, 6, 6, 2, 3, 5, 8, 3, 5, 7, 1, 8, 2, 2, 1, 4, 6, 2, 0, 1, 7, 8, 1, 2, 0, 2, 9, 9, 3, 7, 7, 4, 2, 0, 6, 8, 5, 9, 4, 9, 2, 3, 0, 5, 3, 4, 6, 1, 1, 0, 1, 6, 9, 6, 2, 9, 5, 7, 7, 3, 0, 5, 6, 3, 2, 0, 3, 3, 4, 8, 5, 1, 6, 5, 7, 7, 8, 2, 9, 9, 7, 3, 8, 2, 8, 6, 2, 2, 1, 4, 7, 4, 4, 6, 6, 9, 7, 2, 4, 6, 0, 8, 6, 6, 7, 0, 0, 0, 8, 2, 6, 6, 1, 5, 0, 9, 5, 6, 1, 4, 0, 7, 3, 1, 7, 9, 0, 1, 6, 6, 8, 8, 3, 0, 3, 3, 1, 6, 9, 4, 8, 8, 8, 6, 6, 2, 3, 9, 3, 8, 6, 2, 2, 0, 2, 5, 6, 8, 0, 2, 2, 8, 8, 3, 3, 3, 8, 2, 6, 6, 1, 7, 2, 7, 5, 5, 3, 8, 2, 0, 8, 4, 4, 8, 4, 5, 5, 7, 6, 3, 2, 3, 8, 1, 1, 6, 9, 0, 6, 7, 2, 4, 3, 4, 6, 8, 6, 0, 8, 8, 9, 7, 2, 7, 0, 4, 2, 3, 0, 6, 1, 0, 9, 3, 9, 1, 6, 2, 1, 1, 1, 0, 0, 0, 0, 2, 3, 0, 9, 3, 3, 7, 1, 6, 7, 9, 8, 2, 8, 4, 7, 0, 4, 0, 1, 8, 2, 3, 8, 1, 9, 9, 1, 6, 7, 1, 4, 0, 3, 5, 1, 0, 4, 8, 3, 5, 9, 7, 4, 2, 9, 9, 0, 2, 1, 8, 3, 9, 3, 5, 0, 5, 2, 3, 9, 0, 3, 3, 8, 3, 2, 2, 5, 8, 2, 6, 6, 2, 2, 1, 1, 7, 4, 2, 3, 8, 1, 2, 3, 4, 0, 2, 7, 5, 1, 0, 1, 2, 3, 6, 2, 5, 1, 5, 0, 0, 1, 7, 7, 5, 5, 6, 0, 4, 0, 3, 8, 6, 9, 8, 6, 1, 0, 2, 2, 6, 1, 8, 5, 3, 1, 9, 1, 1, 8, 5, 6, 1, 4, 2, 8, 4, 2, 7, 5, 5, 8, 0, 5, 1, 9, 3, 4, 8, 0, 8, 3, 5, 6, 4, 3, 6, 4, 0, 3, 4, 5, 3, 4, 2, 5, 3, 8, 0, 5, 8, 4, 0, 8, 5, 2, 5, 7, 8, 4, 2, 9, 5, 8, 8, 3, 3, 5, 3, 4, 9, 5, 0, 6, 1, 9, 0, 0, 9, 7, 1, 8, 3, 9, 2, 1, 7, 1, 9, 6, 9, 7, 7, 0, 2, 7, 7, 9, 9, 3, 5, 2, 2, 9, 2, 5, 5, 9, 5, 8, 3, 4, 1, 2, 5, 6, 3, 8, 4, 1, 2, 2, 0, 7, 6, 7, 1, 2, 8, 3, 1, 7, 4, 5, 9, 0, 3, 7, 8, 0, 7, 4, 2, 6, 9, 0, 2, 7, 4, 7, 3, 1, 7, 5, 1, 4, 0, 2, 4, 4, 3, 3, 0, 0, 8, 3, 3, 0, 9, 1, 7, 7, 0, 6, 9, 2, 4, 8, 5, 8, 5, 8, 9, 4, 4, 4, 8, 5, 3, 7, 0, 2, 5, 9, 8, 4, 9, 4, 2, 1, 3, 0, 3, 4, 8, 0, 1, 1, 9, 8, 7, 6, 1, 6, 3, 9, 6, 0, 2, 9, 2, 9, 6, 0, 0, 8, 6, 4, 9, 1, 1, 0, 5, 0, 2, 8, 4, 5, 9, 2, 6, 7, 4, 5, 5, 7, 6, 3, 8, 7, 9, 8, 4, 4, 6, 1, 1, 2, 0, 9, 1, 7, 2, 8, 8, 2, 1, 4, 4, 8, 4, 4, 6, 9, 5, 8, 5, 5, 7, 7, 5, 9, 5, 3, 4, 9, 9, 3, 7, 6, 9, 5, 8, 6, 6, 0, 7, 9, 2, 8, 3, 7, 0, 4, 0, 8, 8, 6, 2, 1, 2, 8, 9, 7, 2, 0, 2, 7, 6, 9, 1, 4, 8, 2, 8, 6, 7, 1, 1, 0, 1, 4, 6, 0, 4, 7, 1, 6, 0, 1, 9, 9, 8, 1, 6, 9, 1, 9, 9, 0, 1, 1, 7, 1, 8, 9, 1, 0, 0, 5, 7, 4, 4, 6, 5, 2, 5, 9, 8, 6, 5, 5, 3, 7, 8, 7, 7, 6, 3, 3, 1, 5, 9, 6, 7, 7, 3, 1, 7, 3, 2, 6, 6, 9, 8, 7, 2, 6, 8, 7, 7, 5, 1, 0, 7, 1, 7, 2, 1, 3, 4, 4, 9, 6, 2, 3, 8, 8, 0, 4, 7, 2, 7, 7, 9, 3, 7, 6, 8, 3, 9, 6, 4, 7, 4, 0, 3, 8, 9, 7, 0, 0, 5, 0, 7, 8, 8, 1, 8, 2, 9, 5, 8, 9, 5, 5, 2, 4, 8, 6, 3, 7, 2, 5, 5, 0, 3, 7, 4, 8, 1, 5, 1, 1, 7, 0, 1, 6, 7, 6, 8, 4, 0, 6, 6, 4, 2, 8, 7, 6, 3, 3, 7, 2, 3, 8, 9, 8, 7, 7, 4, 8, 3, 8, 7, 9, 2, 9, 9, 1, 5, 5, 4, 0, 6, 1, 2, 6, 3, 3, 2, 0, 5, 9, 7, 7, 0, 5, 0, 9, 2, 7, 7, 0, 9, 5, 5, 1, 9, 0, 3, 3, 9, 6, 7, 4, 8, 2, 5, 8, 2, 1, 4, 9, 0, 8, 2, 4, 0, 1, 2, 3, 0, 9, 4, 8, 3, 8, 9, 2, 3, 1, 4, 5, 1, 5, 1, 0, 2, 5, 2, 1, 8, 6, 4, 5, 0, 9, 3, 1, 0, 9, 1, 0, 7, 6, 6, 7, 7, 2, 6, 9, 3, 4, 5, 1, 9, 6, 6, 4, 8, 8, 6, 0, 4, 9, 5, 9, 9, 3, 9, 9, 0, 2, 2, 7, 3, 5, 1, 0, 9, 5, 8, 0, 8, 1, 1, 0, 0, 7, 4, 8, 2, 3, 3, 2, 5, 6, 0, 1, 8, 2, 6, 6, 2, 1, 3, 6, 5, 8, 3, 2, 0, 8, 1, 7, 9, 7, 2, 0, 4, 6, 8, 1, 5, 7, 9, 7, 0, 4, 1, 7, 5, 8, 7, 4, 8, 7, 3, 7, 4, 4, 0, 4, 7, 4, 3, 5, 3, 8, 1, 7, 8, 5, 7, 0, 8, 7, 5, 5, 4, 7, 1, 9, 0, 5, 2, 6, 1, 4, 8, 0, 6, 3, 1, 9, 7, 3, 5, 6, 6, 9, 8, 0, 5, 9, 6, 2, 6, 9, 5, 8, 3, 0, 5, 1, 7, 2, 8, 0, 4, 0, 8, 1, 3, 9, 7, 1, 3, 6, 7, 4, 8, 6, 7, 5, 3, 4, 3, 5, 2, 6, 9, 5, 0, 1, 7, 4, 8, 9, 4, 2, 2, 9, 0, 3, 3, 1, 3, 0, 4, 2, 1, 4, 0, 8, 2, 1, 4, 4, 3, 6, 6, 8, 3, 9, 9, 9, 9, 6, 5, 0, 8, 2, 3, 5, 9, 8, 2, 8, 3, 4, 1, 1, 7, 6, 9, 2, 1, 4, 6, 3, 3, 2, 1, 8, 1, 0, 0, 0, 3, 4, 0, 8, 0, 9, 1, 2, 8, 0, 1, 7, 7, 3, 4, 7, 8, 0, 2, 7, 1, 3, 7, 4, 6, 1, 7, 6, 1, 2, 6, 9, 8, 2, 0, 1, 0, 9, 6, 5, 3, 2, 4, 6, 5, 4, 9, 3, 8, 8, 7, 3, 6, 1, 2, 9, 8, 8, 1, 0, 3, 0, 8, 0, 0, 6, 6, 1, 3, 3, 6, 6, 5, 7, 5, 3, 8, 2, 1, 9, 0, 4, 6, 9, 2, 3, 9, 4, 1, 4, 2, 2, 3, 4, 8, 4, 3, 0, 6, 8, 8, 6, 2, 3, 3, 7, 3, 5, 2, 9, 6, 0, 2, 3, 5, 2, 4, 9, 5, 1, 6, 0, 3, 3, 7, 3, 7, 9, 8, 1, 5, 2, 8, 0, 2, 9, 5, 6, 6, 2, 6, 7, 4, 2, 4, 5, 8, 7, 6, 1, 1, 9, 5, 9, 7, 2, 1, 2, 9, 6, 8, 0, 3, 7, 7, 7, 8, 2, 3, 9, 0, 4, 1, 6, 4, 5, 0, 6, 6, 7, 2, 6, 9, 7, 9, 6, 6, 1, 3, 2, 4, 1, 1, 0, 4, 2, 6, 0, 8, 4, 4, 9, 8, 1, 5, 8, 1, 1, 8, 8, 9, 7, 2, 4, 5, 6, 4, 9, 6, 7, 5, 0, 8, 3, 5, 4, 5, 0, 5, 0, 2, 3, 0, 3, 7, 5, 0, 2, 3, 2, 3, 5, 9, 6, 3, 3, 8, 3, 9, 1, 7, 3, 0, 2, 0, 7, 5, 1, 1, 2, 6, 6, 1, 6, 8, 0, 8, 1, 0, 7, 2, 7, 3, 2, 3, 1, 9, 5, 3, 6, 9, 2, 4, 3, 8, 3, 8, 7, 2, 4, 2, 8, 4, 4, 2, 5, 6, 3, 9, 4, 6, 7, 0, 4, 4, 1, 8, 6, 2, 7, 4, 3, 1, 0, 7, 0, 9, 5, 8, 0, 1, 6, 9, 5, 0, 0, 2, 8, 5, 4, 0, 5, 1, 3, 3, 4, 9, 5, 3, 3, 1, 0, 1, 2, 2, 3, 6, 1, 2, 7, 8, 1, 9, 0, 6, 8, 6, 0, 8, 9, 2, 3, 7, 6, 2, 9, 8, 8, 6, 3, 0, 6, 9, 5, 9, 0, 7, 2, 0, 1, 2, 4, 1, 7, 5, 5, 2, 9, 2, 0, 5, 7, 4, 7, 7, 2, 7, 6, 5, 1, 5, 9, 7, 2, 0, 8, 9, 8, 6, 8, 5, 0, 7, 7, 8, 2, 1, 6, 1, 3, 1, 6, 6, 8, 2, 3, 7, 9, 8, 3, 8, 5, 7, 0, 1, 0, 7, 4, 2, 0, 4, 9, 4, 2, 7, 7, 4, 4, 1, 1, 0, 9, 0, 9, 8, 6, 4, 7, 2, 2, 2, 6, 0, 2, 1, 0, 2, 8, 4, 4, 6, 5, 9, 0, 1, 1, 8, 5, 1, 1, 8, 9, 0, 6, 4, 8, 4, 5, 7, 1, 4, 6, 2, 2, 6, 8, 2, 9, 2, 2, 7, 1, 4, 5, 3, 1, 0, 8, 4, 4, 3, 7, 8, 9, 3, 6, 1, 2, 1, 2, 2, 7, 1, 1, 1, 2, 5, 7, 2, 2, 7, 3, 4, 4, 5, 1, 0, 2, 9, 8, 3, 9, 1, 2, 0, 5, 9, 5, 9, 3, 1, 0, 3, 3, 0, 4, 0, 8, 4, 0, 1, 7, 5, 8, 3, 6, 9, 8, 7, 2, 8, 2, 3, 4, 5, 2, 6, 7, 4, 2, 7, 5, 5, 4, 8, 8, 1, 3, 8, 5, 4, 8, 9, 6, 9, 4, 3, 0, 1, 2, 2, 4, 6, 8, 8, 5, 0, 3, 1, 8, 3, 0, 7, 9, 8, 8, 9, 5, 2, 6, 4, 6, 8, 9, 8, 4, 8, 0, 5, 7, 1, 4, 8, 8, 3, 4, 0, 0, 5, 8, 3, 9, 3, 5, 9, 9, 6, 5, 8, 6, 3, 7, 2, 4, 0, 9, 2, 1, 0, 7, 3, 9, 8, 8, 4, 7, 7, 6, 9, 5, 8, 4, 6, 2, 2, 7, 6, 3, 3, 9, 2, 7, 6, 8, 1, 1, 5, 8, 5, 4, 4, 0, 3, 6, 1, 0, 6, 2, 6, 0, 3, 4, 6, 2, 6, 1, 1, 0, 7, 6, 5, 4, 5, 7, 1, 4, 4, 4, 7, 4, 4, 1, 4, 3, 6, 6, 8, 9, 6, 7, 2, 4, 3, 5, 3, 7, 8, 6, 2, 0, 0, 0, 2, 2, 5, 7, 1, 9, 6, 1, 9, 5, 9, 0, 6, 5, 4, 3, 8, 0, 6, 7, 1, 7, 4, 9, 8, 2, 6, 7, 3, 0, 5, 6, 7, 5, 7, 1, 6, 6, 4, 3, 3, 9, 8, 4, 3, 6, 4, 1, 6, 7, 4, 0, 1, 6, 3, 1, 2, 0, 0, 8, 6, 1, 6, 3, 8, 5, 0, 9, 1, 5, 4, 4, 0, 5, 2, 6, 1, 5, 9, 0, 8, 8, 1, 4, 9, 4, 4, 1, 0, 7, 3, 9, 1, 0, 2, 3, 1, 5, 2, 6, 9, 2, 3, 0, 7, 4, 3, 3, 0, 9, 3, 8, 3, 4, 2, 2, 1, 9, 0, 2, 8, 6, 6, 0, 3, 3, 6, 5, 3, 4, 1, 2, 0, 8, 9, 4, 1, 7, 2, 6, 1, 3, 3, 0, 1, 9, 5, 4, 4, 8, 2, 6, 2, 9, 7, 7, 7, 9, 8, 9, 4, 4, 7, 1, 0, 4, 3, 6, 3, 9, 8, 3, 6, 8, 3, 6, 6, 2, 6, 7, 3, 0, 0, 0, 2, 5, 1, 2, 9, 2, 2, 1, 6, 3, 9, 1, 1, 5, 1, 6, 6, 8, 8, 3, 4, 6, 0, 6, 0, 3, 6, 6, 5, 4, 8, 3, 2, 6, 0, 3, 1, 4, 0, 6, 6, 2, 7, 6, 9, 0, 4, 5, 7, 1, 6, 7, 9, 1, 7, 7, 8, 0, 3, 7, 4, 7, 3, 1, 0, 4, 6, 6, 1, 4, 9, 2, 6, 4, 5, 0, 4, 6, 0, 8, 3, 4, 8, 8, 3, 9, 5, 7, 1, 9, 4, 7, 9, 1, 9, 7, 5, 2, 7, 3, 4, 8, 8, 2, 1, 5, 9, 2, 7, 8, 8, 6, 8, 8, 1, 3, 8, 8, 5, 4, 7, 1, 6, 6, 1, 6, 1, 6, 7, 0, 4, 6, 9, 5, 8, 7, 1, 9, 0, 3, 3, 7, 6, 9, 0, 4, 7, 1, 4, 3, 4, 3, 9, 8, 7, 0, 8, 3, 9, 1, 0, 8, 0, 9, 4, 0, 2, 1, 4, 2, 7, 1, 7, 0, 2, 9, 7, 9, 8, 6, 4, 4, 1, 1, 7, 8, 8, 6, 4, 5, 6, 3, 9, 4, 2, 5, 3, 6, 7, 7, 3, 9, 1, 3, 1, 8, 3, 3, 5, 6, 4, 0, 9, 6, 6, 5, 0, 6, 2, 0, 5, 4, 9, 3, 4, 6, 0, 6, 7, 0, 7, 2, 6, 9, 6, 5, 4, 5, 4, 7, 7, 6, 8, 1, 5, 9, 7, 8, 8, 7, 1, 4, 6, 4, 2, 2, 5, 0, 3, 8, 9, 4, 1, 1, 4, 1, 9, 6, 3, 3, 6, 9, 5, 7, 6, 9, 4, 2, 4, 0, 0, 0, 8, 7, 5, 1, 8, 6, 7, 0, 1, 7, 7, 8, 2, 7, 4, 8, 8, 9, 8, 9, 8, 2, 8, 9, 1, 3, 5, 7, 4, 0, 1, 4, 4, 0, 8, 4, 3, 7, 9, 7, 7, 9, 3, 6, 9, 8, 1, 5, 9, 8, 5, 5, 3, 3, 3, 0, 5, 1, 0, 6, 7, 3, 0, 9, 0, 7, 0, 4, 8, 8, 0, 7, 0, 3, 9, 0, 8, 6, 8, 7, 7, 6, 4, 9, 1, 0, 8, 0, 6, 6, 7, 1, 2, 8, 1, 1, 6, 0, 5, 4, 7, 8, 1, 7, 4, 9, 6, 9, 8, 1, 2, 6, 1, 8, 5, 3, 7, 4, 7, 1, 9, 2, 9, 2, 4, 1, 0, 8, 2, 5, 2, 0, 6, 0, 8, 1, 4, 9, 2, 5, 8, 2, 5, 8, 2, 5, 3, 4, 8, 2, 3, 4, 1, 9, 7, 5, 5, 0, 4, 3, 2, 5, 3, 6, 5, 2, 8, 7, 2, 8, 2, 3, 2, 3, 8, 8, 6, 8, 1, 4, 9, 7, 1, 4, 3, 1, 3, 0, 8, 2, 1, 7, 6, 2, 3, 3, 3, 7, 7, 9, 3, 2, 0, 5, 4, 9, 2, 8, 1, 4, 4, 1, 2, 7, 5, 8, 5, 4, 0, 0, 3, 4, 7, 1, 3, 0, 9, 1, 7, 9, 2, 0, 4, 3, 7, 5, 9, 2, 3, 7, 3, 5, 6, 8, 2, 0, 5, 5, 0, 6, 3, 4, 9, 5, 1, 9, 8, 4, 0, 3, 7, 7, 8, 1, 6, 9, 3, 1, 4, 8, 7, 4, 7, 5, 5, 8, 1, 0, 7, 7, 0, 5, 6, 6, 7, 0, 6, 5, 5, 3, 3, 9, 7, 4, 7, 6, 1, 3, 5, 2, 1, 1, 4, 1, 8, 7, 0, 3, 1, 0, 0, 6, 7, 9, 2, 7, 7, 8, 5, 3, 2, 0, 9, 2, 4, 4, 2, 3, 6, 5, 7, 5, 6, 0, 7, 5, 4, 4, 8, 0, 2, 4, 8, 3, 2, 8, 1, 4, 2, 0, 3, 3, 8, 7, 9, 7, 2, 8, 9, 1, 2, 4, 1, 6, 5, 4, 3, 6, 6, 0, 8, 8, 4, 4, 1, 7, 1, 8, 8, 6, 1, 6, 0, 2, 1, 3, 4, 1, 0, 5, 9, 9, 2, 4, 9, 8, 8, 6, 7, 0, 5, 5, 5, 2, 7, 8, 0, 0, 6, 8, 1, 1, 8, 0, 8, 2, 7, 7, 0, 7, 8, 0, 0, 5, 5, 1, 4, 7, 5, 4, 9, 4, 2, 4, 8, 5, 6, 3, 4, 4, 8, 5, 5, 1, 7, 0, 1, 5, 0, 9, 6, 4, 4, 8, 3, 9, 5, 2, 5, 7, 4, 0, 7, 3, 0, 6, 7, 7, 4, 5, 6, 5, 5, 0, 2, 9, 5, 3, 3, 1, 1, 3, 2, 9, 3, 3, 7, 1, 2, 6, 5, 5, 5, 0, 9, 8, 0, 4, 4, 2, 5, 9, 3, 1, 7, 8, 6, 8, 0, 0, 7, 7, 5, 9, 0, 6, 3, 8, 6, 0, 3, 7, 1, 9, 6, 9, 6, 1, 0, 1, 0, 9, 5, 2, 2, 5, 0, 8, 9, 2, 4, 3, 8, 0, 0, 7, 3, 6, 7, 8, 7, 1, 5, 6, 8, 7, 1, 3, 1, 9, 6, 9, 9, 5, 1, 2, 4, 5, 8, 6, 4, 1, 8, 6, 2, 3, 5, 9, 1, 0, 8, 4, 9, 4, 7, 9, 3, 0, 8, 3, 7, 9, 2, 4, 5, 5, 8, 4, 2, 0, 1, 3, 3, 7, 0, 7, 7, 4, 8, 4, 5, 7, 5, 9, 1, 3, 7, 2, 7, 7, 4, 6, 4, 7, 7, 0, 9, 1, 0, 5, 2, 9, 4, 2, 1, 8, 4, 7, 8, 5, 6, 6, 1, 0, 1, 4, 5, 9, 7, 8, 3, 8, 6, 5, 6, 8, 5, 4, 2, 7, 8, 3, 9, 3, 7, 2, 9, 2, 6, 3, 6, 6, 2, 9, 3, 9, 2, 5, 6, 4, 3, 3, 4, 4, 0, 1, 0, 0, 8, 7, 3, 2, 3, 6, 8, 1, 1, 8, 4, 3, 2, 1, 4, 5, 9, 4, 8, 8, 2, 1, 5, 4, 8, 3, 4, 9, 6, 6, 8, 0, 7, 0, 0, 2, 1, 3, 7, 5, 9, 8, 7, 3, 1, 8, 0, 2, 5, 8, 2, 1, 0, 6, 8, 3, 2, 8, 0, 2, 5, 2, 0, 7, 4, 4, 0, 0, 5, 3, 3, 8, 3, 0, 2, 0, 5, 4, 5, 2, 4, 1, 6, 7, 3, 6, 8, 5, 6, 4, 7, 3, 6, 8, 2, 7, 3, 7, 0, 3, 0, 7, 8, 7, 0, 5, 5, 8, 4, 7, 6, 3, 7, 8, 6, 5, 5, 0, 4, 1, 0, 5, 0, 3, 0, 4, 1, 5, 2, 9, 8, 2, 7, 2, 6, 8, 4, 6, 5, 8, 9, 5, 6, 2, 0, 6, 7, 3, 9, 3, 2, 0, 7, 1, 6, 9, 5, 6, 0, 2, 4, 8, 4, 3, 3, 5, 0, 2, 6, 4, 9, 9, 9, 4, 1, 3, 1, 1, 1, 6, 7, 2, 4, 9, 9, 8, 5, 5, 6, 5, 7, 6, 8, 8, 6, 0, 9, 5, 7, 5, 2, 9, 8, 8, 5, 4, 7, 1, 5, 5, 5, 7, 2, 0, 9, 2, 9, 9, 5, 2, 0, 8, 0, 1, 8, 6, 6, 3, 9, 5, 5, 2, 3, 5, 4, 6, 3, 2, 2, 3, 1, 2, 2, 3, 8, 5, 2, 7, 6, 3, 8, 8, 0, 4, 9, 3, 6, 9, 7, 6, 0, 5, 0, 6, 2, 2, 3, 1, 0, 9, 4, 9, 7, 0, 9, 3, 9, 6, 3, 4, 3, 0, 0, 6, 0, 2, 1, 1, 8, 5, 6, 5, 8, 4, 4, 0, 2, 8, 4, 0, 2, 3, 9, 5, 7, 8, 5, 0, 1, 8, 8, 5, 3, 5, 2, 3, 8, 6, 5, 9, 0, 8, 7, 4, 0, 7, 4, 0, 7, 5, 2, 6, 2, 7, 6, 3, 9, 3, 3, 2, 9, 0, 5, 4, 7, 1, 0, 6, 0, 0, 8, 3, 1, 8, 6, 9, 9, 2, 5, 4, 9, 5, 6, 6, 3, 7, 5, 7, 3, 0, 2, 8, 5, 7, 5, 6, 9, 3, 7, 2, 1, 3, 7, 3, 2, 5, 2, 8, 3, 8, 6, 5, 2, 2, 7, 5, 8, 3, 2, 7, 0, 3, 6, 3, 9, 1, 2, 6, 3, 5, 3, 1, 8, 6, 3, 6, 0, 9, 0, 5, 5, 7, 8, 3, 2, 6, 2, 9, 4, 2, 3, 3, 9, 3, 7, 7, 6, 7, 6, 1, 5, 6, 4, 9, 0, 4, 4, 1, 6, 5, 6, 1, 6, 3, 7, 7, 6, 8, 7, 2, 0, 7, 1, 3, 2, 1, 9, 4, 0, 0, 7, 1, 7, 6, 9, 0, 6, 2, 3, 4, 2, 5, 6, 6, 0, 5, 5, 2, 1, 6, 7, 3, 7, 3, 5, 0, 2, 9, 2, 2, 2, 9, 3, 6, 7, 8, 5, 5, 1, 5, 6, 2, 6, 7, 1, 2, 9, 1, 0, 0, 3, 3, 2, 0, 3, 4, 1, 7, 7, 9, 2, 0, 8, 6, 8, 5, 3, 5, 5, 5, 5, 1, 3, 4, 2, 8, 7, 8, 9, 8, 4, 5, 6, 0, 4, 2, 3, 5, 0, 1, 9, 9, 2, 5, 7, 4, 1, 5, 8, 5, 4, 7, 2, 8, 5, 3, 1, 9, 3, 0, 5, 6, 2, 6, 3, 9, 4, 1, 3, 2, 1, 9, 2, 9, 4, 5, 9, 7, 0, 9, 3, 9, 1, 8, 5, 7, 4, 0, 3, 4, 8, 4, 3, 8, 7, 1, 0, 4, 1, 5, 8, 8, 3, 1, 1, 7, 4, 0, 6, 1, 4, 2, 6, 9, 4, 8, 9, 8, 9, 7, 3, 9, 8, 9, 5, 9, 6, 5, 9, 7, 2, 9, 7, 6, 5, 7, 0, 8, 1, 0, 8, 3, 0, 1, 9, 7, 5, 3, 5, 3, 4, 8, 3, 2, 2, 1, 3, 0, 6, 4, 5, 5, 6, 3, 1, 2, 0, 0, 6, 1, 1, 6, 7, 4, 2, 6, 8, 3, 6, 3, 7, 6, 9, 9, 9, 0, 5, 1, 1, 8, 2, 8, 3, 7, 4, 0, 6, 8, 8, 6, 8, 9, 9, 1, 3, 9, 0, 1, 2, 9, 1, 6, 9, 0, 6, 0, 1, 8, 5, 1, 1, 7, 1, 6, 9, 5, 1, 9, 7, 2, 8, 1, 1, 0, 2, 6, 5, 2, 3, 9, 1, 9, 3, 6, 9, 0, 5, 5, 3, 5, 6, 3, 6, 6, 2, 2, 0, 6, 0, 5, 3, 5, 3, 3, 5, 7, 7, 3, 1, 2, 2, 9, 6, 7, 1, 6, 3, 5, 6, 9, 6, 4, 3, 4, 3, 7, 0, 3, 3, 4, 2, 1, 0, 4, 5, 9, 0, 9, 9, 0, 1, 9, 7, 2, 6, 7, 1, 0, 6, 4, 9, 1, 7, 2, 5, 1, 6, 8, 4, 5, 7, 9, 8, 1, 6, 9, 0, 9, 1, 3, 9, 4, 8, 3, 4, 2, 0, 2, 9, 2, 2, 1, 5, 5, 4, 6, 1, 6, 1, 2, 5, 6, 9, 1, 8, 1, 8, 6, 9, 0, 3, 7, 0, 4, 7, 7, 8, 2, 0, 4, 7, 5, 7, 0, 1, 6, 5, 5, 5, 3, 9, 1, 3, 4, 4, 5, 4, 8, 3, 9, 8, 7, 3, 4, 7, 4, 4, 2, 3, 6, 9, 7, 4, 0, 5, 7, 2, 9, 2, 2, 8, 0, 4, 9, 1, 2, 4, 5, 3, 1, 1, 0, 8, 5, 8, 9, 3, 6, 6, 5, 8, 8, 0, 7, 1, 6, 0, 0, 4, 2, 1, 6, 9, 0, 1, 2, 5, 2, 5, 4, 7, 4, 5, 3, 4, 9, 6, 5, 2, 7, 2, 0, 3, 0, 9, 9, 8, 2, 0, 4, 0, 5, 8, 5, 7, 7, 4, 5, 1, 1, 4, 4, 0, 2, 3, 2, 2, 0, 6, 8, 1, 4, 6, 3, 3, 1, 1, 2, 7, 0, 3, 8, 8, 0, 5, 6, 4, 4, 9, 2, 8, 6, 5, 0, 7, 2, 2, 8, 4, 5, 7, 4, 3, 6, 6, 9, 9, 6, 6, 5, 4, 3, 9, 0, 0, 9, 5, 3, 6, 5, 3, 6, 7, 6, 8, 2, 4, 7, 8, 1, 4, 1, 0, 0, 0, 6, 3, 3, 6, 9, 7, 0, 1, 3, 9, 8, 3, 2, 2, 3, 2, 1, 6, 1, 3, 5, 0, 5, 1, 6, 0, 6, 2, 4, 2, 9, 0, 9, 1, 8, 6, 2, 5, 5, 2, 1, 0, 0, 2, 4, 3, 6, 0, 0, 1, 6, 5, 0, 4, 9, 9, 8, 5, 5, 8, 3, 8, 8, 4, 0, 3, 7, 5, 7, 1, 6, 1, 4, 9, 3, 4, 2, 4, 2, 4, 3, 9, 3, 1, 8, 9, 4, 3, 5, 8, 0, 6, 1, 4, 8, 8, 1, 8, 0, 0, 0, 4, 0, 4, 5, 4, 2, 6, 0, 2, 2, 7, 4, 5, 3, 6, 3, 2, 0, 1, 6, 9, 8, 4, 3, 2, 7, 1, 9, 4, 2, 9, 7, 1, 0, 2, 1, 6, 1, 1, 6, 8, 2, 3, 8, 8, 5, 0, 4, 2, 0, 9, 1, 5, 1, 9, 9, 2, 8, 3, 2, 0, 6, 8, 3, 8, 8, 5, 6, 2, 8, 5, 6, 4, 5, 8, 8, 4, 0, 1, 3, 2, 4, 6, 3, 3, 4, 6, 2, 7, 6, 6, 5, 4, 3, 0, 7, 1, 7, 0, 1, 1, 8, 0, 5, 8, 3, 6, 5, 6, 3, 5, 7, 7, 9, 5, 1, 9, 8, 2, 8, 0, 4, 6, 3, 5, 0, 8, 9, 1, 4, 9, 6, 1, 0, 8, 2, 8, 7, 0, 7, 7, 6, 5, 1, 1, 8, 3, 9, 1, 5, 4, 1, 0, 4, 8, 2, 9, 3, 5, 1, 1, 6, 0, 1, 0, 0, 9, 1, 5, 4, 6, 1, 3, 6, 1, 4, 1, 4, 5, 1, 9, 4, 9, 9, 3, 2, 8, 8, 7, 6, 5, 2, 4, 0, 5, 7, 0, 3, 5, 4, 3, 4, 4, 1, 1, 6, 2, 6, 1, 5, 3, 4, 0, 0, 2, 9, 1, 5, 1, 8, 5, 8, 6, 0, 6, 5, 9, 6, 1, 2, 2, 0, 7, 7, 3, 6, 4, 6, 3, 5, 8, 1, 6, 0, 2, 3, 1, 6, 2, 7, 3, 9, 1, 9, 3, 2, 1, 1, 5, 3, 9, 0, 7, 8, 6, 7, 2, 2, 8, 8, 7, 8, 9, 9, 4, 6, 4, 0, 7, 6, 1, 9, 0, 7, 4, 4, 8, 0, 0, 2, 8, 2, 1, 3, 8, 9, 3, 0, 0, 5, 7, 6, 6, 0, 3, 7, 8, 7, 3, 6, 8, 8, 4, 6, 7, 6, 2, 3, 3, 1, 8, 4, 3, 2, 9, 8, 6, 6, 9, 0, 2, 7, 7, 2, 7, 9, 5, 0, 1, 2, 2, 2, 7, 3, 7, 0, 4, 7, 5, 8, 7, 9, 4, 5, 9, 8, 5, 4, 8, 6, 0, 0, 1, 6, 5, 9, 8, 0, 3, 2, 7, 8, 2, 4, 2, 0, 6, 0, 4, 4, 6, 8, 5, 5, 1, 3, 5, 2, 8, 1, 4, 1, 6, 6, 6, 7, 3, 7, 4, 9, 5, 2, 0, 7, 2, 1, 1, 4, 0, 9, 0, 8, 8, 5, 3, 7, 1, 2, 6, 1, 3, 0, 6, 9, 5, 8, 3, 5, 1, 6, 9, 9, 5, 7, 7, 5, 9, 5, 1, 5, 7, 5, 2, 1, 7, 4, 5, 7, 4, 5, 2, 2, 2, 8, 1, 6, 9, 2, 4, 4, 1, 5, 1, 3, 6, 6, 3, 8, 8, 3, 2, 4, 6, 8, 8, 2, 9, 6, 8, 4, 3, 9, 8, 8, 2, 7, 3, 6, 1, 5, 1, 2, 6, 7, 8, 7, 1, 1, 5, 3, 6, 7, 0, 6, 4, 9, 2, 3, 0, 6, 3, 1, 9, 4, 8, 3, 1, 5, 8, 2, 5, 9, 9, 5, 2, 6, 7, 0, 0, 5, 9, 4, 9, 4, 6, 2, 0, 2, 9, 3, 4, 3, 0, 2, 1, 7, 2, 6, 9, 3, 5, 7, 6, 1, 5, 5, 8, 6, 7, 4, 6, 2, 2, 7, 5, 2, 4, 8, 9, 5, 1, 2, 0, 7, 9, 3, 9, 9, 2, 2, 9, 7, 7, 9, 5, 4, 9, 1, 2, 2, 7, 4, 2, 8, 5, 4, 5, 9, 0, 8, 1, 7, 5, 6, 6, 4, 7, 6, 0, 1, 2, 1, 7, 9, 1, 8, 2, 0, 3, 7, 2, 2, 0, 1, 7, 0, 3, 7, 9, 0, 8, 7, 0, 6, 1, 0, 5, 5, 7, 8, 8, 1, 1, 9, 3, 0, 7, 6, 3, 6, 2, 3, 2, 0, 3, 7, 6, 9, 2, 5, 8, 9, 7, 4, 6, 4, 3, 6, 1, 8, 0, 4, 6, 4, 8, 0, 0, 0, 4, 3, 4, 8, 1, 3, 9, 0, 0, 2, 0, 3, 9, 3, 6, 5, 4, 9, 1, 5, 8, 6, 5, 5, 8, 9, 0, 3, 7, 5, 9, 1, 7, 4, 7, 7, 4, 2, 7, 1, 6, 5, 6, 3, 0, 8, 1, 8, 4, 4, 2, 8, 4, 9, 7, 1, 8, 8, 8, 7, 3, 2, 3, 9, 6, 1, 8, 2, 9, 6, 8, 1, 3, 0, 5, 6, 3, 6, 7, 7, 5, 8, 2, 1, 1, 9, 4, 6, 4, 7, 7, 7, 9, 1, 3, 8, 6, 8, 5, 7, 0, 0, 5, 5, 1, 0, 0, 1, 8, 1, 1, 4, 0, 1, 2, 7, 8, 1, 6, 1, 6, 5, 8, 6, 6, 8, 0, 5, 8, 6, 2, 7, 7, 3, 0, 2, 1, 5, 9, 1, 9, 8, 3, 3, 8, 9, 3, 9, 2, 4, 0, 7, 5, 1, 1, 3, 3, 0, 4, 3, 9, 3, 9, 3, 5, 4, 9, 1, 2, 9, 7, 1, 1, 7, 7, 7, 9, 5, 3, 4, 2, 0, 2, 0, 7, 7, 6, 4, 7, 1, 9, 3, 1, 9, 8, 4, 1, 2, 0, 7, 1, 0, 4, 3, 7, 8, 0, 9, 6, 3, 8, 4, 7, 4, 9, 4, 7, 8, 0, 6, 0, 0, 1, 2, 9, 2, 2, 1, 4, 7, 1, 8, 2, 0, 1, 5, 6, 2, 5, 6, 5, 0, 1, 3, 8, 0, 1, 5, 7, 2, 0, 3, 3, 9, 3, 1, 6, 5, 0, 0, 9, 2, 8, 5, 9, 2, 6, 6, 9, 8, 6, 2, 3, 7, 0, 3, 0, 5, 1, 3, 0, 3, 7, 3, 3, 8, 9, 5, 1, 1, 5, 6, 4, 5, 5, 7, 0, 2, 1, 8, 0, 5, 5, 7, 2, 8, 8, 6, 1, 7, 6, 5, 1, 6, 7, 9, 7, 6, 9, 1, 2, 8, 7, 9, 4, 7, 7, 6, 9, 8, 6, 2, 5, 6, 1, 4, 7, 7, 9, 1, 5, 5, 1, 6, 2, 9, 1, 8, 1, 5, 9, 5, 6, 2, 4, 0, 1, 3, 6, 8, 3, 7, 9, 5, 0, 8, 6, 2, 7, 2, 6, 0, 7, 4, 6, 7, 4, 5, 6, 3, 5, 1, 7, 7, 0, 2, 4, 8, 7, 9, 7, 3, 3, 5, 3, 3, 0, 1, 9, 6, 4, 9, 4, 6, 9, 4, 6, 1, 1, 7, 6, 3, 3, 0, 7, 0, 2, 8, 2, 0, 0, 4, 2, 8, 1, 3, 5, 7, 0, 1, 1, 8, 1, 2, 1, 5, 5, 3, 0, 5, 2, 5, 5, 3, 3, 9, 5, 5, 8, 3, 0, 6, 1, 9, 1, 9, 8, 7, 7, 4, 2, 7, 7, 2, 8, 2, 7, 1, 2, 4, 7, 3, 4, 5, 7, 5, 2, 3, 5, 0, 2, 6, 4, 8, 9, 7, 1, 3, 9, 7, 2, 1, 3, 4, 7, 8, 6, 4, 9, 4, 4, 1, 0, 3, 2, 8, 5, 1, 2, 4, 9, 2, 8, 1, 0, 8, 0, 1, 3, 3, 3, 6, 1, 7, 0, 6, 7, 9, 8, 7, 2, 2, 9, 9, 6, 5, 9, 7, 0, 3, 8, 7, 5, 7, 6, 8, 5, 0, 9, 5, 5, 5, 2, 4, 9, 6, 1, 6, 0, 8, 9, 3, 7, 7, 1, 5, 7, 7, 7, 9, 9, 9, 0, 6, 9, 4, 8, 5, 8, 6, 6, 4, 5, 3, 7, 4, 3, 2, 2, 9, 0, 0, 1, 6, 8, 5, 8, 9, 2, 7, 6, 5, 4, 2, 6, 2, 4, 1, 2, 0, 0, 9, 1, 7, 2, 8, 8, 4, 4, 9, 7, 2, 6, 2, 0, 2, 0, 2, 2, 3, 6, 6, 7, 3, 1, 7, 3, 2, 2, 8, 7, 4, 6, 4, 9, 6, 5, 0, 3, 0, 8, 5, 1, 3, 4, 2, 4, 0, 1, 4, 1, 3, 4, 0, 9, 9, 8, 2, 2, 6, 0, 8, 7, 0, 6, 2, 2, 2, 1, 0, 0, 9, 2, 7, 7, 6, 6, 0, 4, 5, 6, 8, 3, 9, 8, 1, 2, 0, 1, 1, 4, 6, 9, 4, 7, 6, 7, 5, 3, 8, 9, 7, 0, 1, 2, 7, 1, 5, 5, 9, 3, 9, 5, 3, 1, 8, 4, 6, 9, 7, 7, 3, 2, 1, 1, 8, 8, 7, 5, 0, 6, 5, 3, 8, 6, 1, 2, 2, 1, 2, 3, 0, 8, 1, 2, 8, 7, 2, 4, 7, 0, 1, 8, 6, 8, 0, 8, 9, 0, 5, 9, 3, 8, 0, 3, 2, 9, 8, 9, 6, 3, 8, 5, 3, 0, 3, 6, 7, 5, 9, 6, 3, 3, 6, 5, 7, 8, 6, 1, 9, 5, 6, 3, 0, 8, 1, 8, 6, 5, 6, 8, 2, 7, 8, 5, 9, 2, 0, 7, 0, 3, 7, 7, 8, 6, 6, 4, 2, 7, 2, 2, 8, 9, 2, 5, 7, 4, 1, 2, 0, 0, 5, 4, 3, 4, 2, 0, 9, 5, 2, 0, 3, 9, 4, 4, 9, 8, 1, 0, 9, 9, 2, 8, 5, 8, 2, 5, 2, 3, 5, 5, 4, 2, 6, 8, 5, 3, 6, 3, 5, 9, 4, 6, 8, 8, 8, 7, 1, 2, 9, 3, 1, 8, 7, 9, 9, 7, 0, 4, 7, 0, 9, 0, 1, 0, 4, 0, 9, 7, 6, 8, 5, 1, 6, 9, 3, 4, 2, 8, 8, 9, 8, 7, 3, 6, 2, 6, 7, 8, 9, 1, 7, 1, 8, 8, 9, 4, 0, 3, 7, 3, 0, 2, 6, 6, 1, 6, 2, 5, 2, 4, 2, 4, 1, 4, 5, 1, 9, 1, 4, 2, 9, 4, 5, 1, 7, 6, 2, 4, 9, 9, 5, 9, 6, 1, 4, 2, 4, 8, 7, 7, 9, 5, 3, 2, 9, 6, 6, 9, 7, 0, 0, 6, 4, 6, 5, 6, 9, 8, 9, 8, 3, 2, 3, 2, 4, 8, 0, 7, 2, 2, 1, 3, 1, 3, 6, 3, 9, 4, 5, 3, 2, 4, 0, 4, 0, 8, 2, 6, 1, 5, 0, 5, 1, 6, 1, 4, 6, 2, 1, 0, 8, 1, 2, 8, 4, 2, 3, 1, 8, 0, 0, 3, 4, 0, 5, 6, 9, 8, 9, 9, 4, 5, 3, 8, 4, 0, 1, 6, 2, 0, 9, 4, 8, 1, 5, 8, 4, 7, 9, 6, 2, 7, 8, 0, 1, 4, 1, 2, 1, 7, 2, 0, 4, 9, 4, 9, 3, 1, 4, 9, 5, 8, 3, 3, 0, 6, 9, 3, 9, 6, 6, 1, 8, 1, 3, 5, 4, 3, 8, 5, 3, 6, 4, 2, 7, 2, 0, 6, 6, 1, 3, 7, 4, 1, 4, 4, 7, 5, 6, 7, 0, 1, 3, 8, 2, 6, 3, 8, 4, 5, 7, 9, 9, 0, 6, 0, 8, 1, 9, 2, 3, 4, 1, 7, 7, 3, 7, 4, 0, 5, 8, 8, 5, 4, 2, 3, 4, 6, 2, 5, 3, 8, 4, 1, 4, 1, 1, 5, 1, 4, 5, 7, 6, 5, 1, 1, 1, 9, 6, 8, 8, 2, 2, 3, 5, 9, 2, 3, 4, 9, 2, 4, 0, 6, 0, 5, 6, 8, 2, 3, 3, 3, 5, 5, 1, 4, 8, 4, 6, 1, 4, 6, 6, 7, 8, 8, 3, 1, 8, 7, 4, 0, 9, 8, 1, 0, 7, 8, 9, 4, 1, 2, 2, 3, 6, 7, 1, 1, 0, 3, 9, 9, 4, 1, 4, 5, 9, 2, 0, 0, 7, 4, 9, 6, 2, 7, 4, 2, 3, 4, 3, 1, 5, 2, 7, 1, 9, 6, 9, 9, 1, 7, 5, 4, 4, 2, 3, 3, 7, 1, 4, 9, 4, 2, 3, 0, 1, 3, 5, 2, 5, 3, 8, 0, 3, 7, 2, 0, 1, 7, 6, 8, 6, 4, 2, 0, 0, 0, 6, 5, 8, 4, 7, 7, 1, 2, 4, 3, 8, 7, 4, 4, 0, 2, 3, 2, 2, 8, 5, 5, 3, 6, 6, 4, 1, 8, 1, 1, 0, 9, 3, 2, 9, 2, 2, 8, 9, 6, 9, 2, 4, 1, 8, 5, 5, 4, 3, 6, 9, 0, 7, 2, 0, 0, 2, 7, 9, 9, 2, 6, 1, 7, 0, 1, 9, 2, 8, 8, 1, 0, 8, 6, 0, 7, 7, 0, 9, 7, 7, 9, 5, 7, 5, 9, 3, 4, 5, 2, 2, 3, 6, 3, 7, 3, 4, 6, 3, 1, 3, 1, 6, 7, 4, 4, 8, 5, 1, 2, 1, 9, 4, 2, 3, 7, 4, 4, 6, 4, 5, 8, 7, 4, 4, 3, 9, 2, 6, 0, 3, 2, 9, 7, 5, 6, 0, 5, 8, 9, 9, 2, 8, 3, 4, 4, 2, 8, 8, 1, 3, 7, 6, 8, 6, 2, 9, 2, 3, 5, 2, 1, 7, 1, 4, 2, 4, 8, 0, 2, 0, 4, 1, 0, 3, 2, 3, 4, 2, 8, 7, 5, 3, 5, 9, 4, 0, 9, 2, 8, 0, 3, 5, 9, 7, 0, 0, 1, 5, 9, 1, 3, 0, 6, 0, 3, 6, 5, 0, 8, 7, 0, 1, 6, 2, 8, 5, 7, 9, 1, 4, 2, 9, 4, 7, 2, 0, 5, 1, 3, 8, 7, 2, 7, 3, 7, 7, 1, 4, 1, 1, 3, 1, 4, 2, 1, 4, 3, 9, 4, 8, 0, 5, 6, 0, 7, 6, 4, 4, 7, 2, 7, 9, 8, 7, 2, 5, 9, 0, 5, 1, 4, 6, 4, 0, 6, 4, 7, 1, 4, 3, 9, 2, 3, 2, 9, 1, 2, 8, 6, 4, 7, 7, 5, 9, 0, 2, 9, 5, 8, 2, 4, 0, 8, 6, 6, 1, 7, 4, 1, 7, 0, 1, 7, 5, 3, 1, 0, 6, 9, 2, 0, 1, 9, 2, 8, 5, 3, 9, 0, 4, 1, 9, 2, 2, 4, 9, 6, 5, 2, 0, 6, 1, 0, 8, 4, 3, 0, 0, 0, 7, 4, 3, 4, 7, 3, 5, 2, 8, 1, 0, 2, 1, 1, 7, 5, 6, 9, 1, 6, 0, 9, 3, 1, 6, 6, 9, 4, 7, 1, 1, 0, 4, 5, 9, 1, 9, 3, 3, 0, 8, 5, 7, 4, 5, 0, 4, 3, 7, 1, 8, 7, 9, 8, 3, 6, 9, 1, 6, 0, 1, 0, 8, 9, 6, 3, 4, 7, 4, 3, 2, 4, 7, 9, 9, 9, 8, 4, 0, 3, 2, 5, 9, 9, 4, 3, 3, 4, 7, 3, 5, 3, 8, 7, 2, 4, 0, 9, 8, 2, 7, 3, 0, 0, 1, 0, 2, 7, 0, 1, 9, 4, 2, 2, 7, 6, 3, 8, 4, 6, 9, 9, 7, 4, 8, 7, 0, 9, 9, 4, 2, 2, 6, 6, 3, 8, 6, 9, 5, 6, 6, 7, 6, 5, 7, 4, 4, 7, 8, 6, 6, 2, 7, 8, 1, 4, 4, 2, 3, 8, 4, 5, 3, 0, 7, 0, 2, 4, 5, 2, 1, 6, 9, 1, 5, 4, 8, 0, 4, 1, 5, 4, 7, 2, 5, 3, 2, 1, 5, 6, 6, 7, 5, 5, 9, 8, 3, 7, 9, 2, 0, 4, 5, 7, 8, 6, 9, 5, 2, 0, 4, 5, 6, 3, 3, 4, 9, 3, 5, 0, 3, 8, 8, 0, 1, 8, 2, 1, 1, 8, 6, 2, 1, 1, 9, 5, 7, 4, 0, 8, 8, 3, 9, 0, 7, 5, 3, 8, 4, 7, 2, 1, 7, 7, 9, 4, 7, 6, 4, 5, 6, 5, 3, 2, 8, 0, 6, 2, 7, 7, 5, 5, 2, 5, 5, 1, 9, 8, 8, 2, 2, 2, 7, 6, 4, 2, 7, 1, 4, 0, 3, 7, 4, 0, 9, 9, 2, 4, 4, 7, 4, 8, 5, 5, 2, 3, 1, 0, 5, 4, 7, 3, 7, 5, 9, 8, 1, 0, 0, 7, 9, 4, 2, 2, 9, 2, 4, 4, 3, 7, 2, 3, 8, 7, 8, 6, 9, 8, 4, 6, 2, 6, 8, 8, 6, 2, 2, 1, 7, 6, 2, 2, 5, 2, 2, 1, 6, 8, 9, 0, 1, 5, 1, 4, 4, 8, 1, 0, 4, 4, 1, 2, 3, 7, 7, 6, 7, 8, 0, 9, 4, 8, 1, 8, 6, 1, 5, 8, 0, 1, 4, 9, 5, 4, 8, 6, 9, 4, 2, 4, 6, 1, 8, 9, 4, 6, 9, 5, 7, 0, 2, 1, 8, 9, 2, 1, 4, 6, 4, 5, 0, 7, 4, 1, 9, 4, 2, 6, 9, 2, 3, 3, 4, 8, 4, 3, 4, 2, 1, 7, 5, 2, 5, 5, 4, 8, 4, 3, 4, 3, 7, 6, 3, 3, 4, 7, 0, 2, 7, 0, 0, 6, 6, 5, 9, 9, 7, 4, 4, 0, 6, 5, 5, 3, 5, 1, 5, 1, 1, 3, 8, 9, 8, 3, 6, 4, 5, 7, 7, 1, 8, 7, 6, 8, 7, 6, 9, 3, 5, 2, 7, 9, 8, 5, 3, 6, 1, 4, 4, 9, 6, 0, 6, 7, 0, 4, 9, 5, 8, 0, 4, 3, 8, 4, 7, 1, 8, 3, 5, 4, 5, 7, 4, 8, 6, 4, 8, 6, 9, 6, 5, 0, 9, 5, 9, 2, 6, 4, 7, 6, 6, 6, 6, 1, 8, 0, 7, 8, 7, 6, 8, 6, 1, 6, 3, 2, 7, 9, 3, 7, 1, 6, 1, 9, 6, 6, 2, 9, 7, 2, 1, 7, 6, 7, 7, 5, 6, 6, 0, 6, 7, 3, 7, 9, 3, 6, 9, 0, 0, 2, 5, 9, 2, 8, 6, 2, 4, 9, 0, 7, 7, 1, 9, 0, 5, 9, 4, 3, 6, 3, 2, 6, 8, 4, 0, 1, 0, 6, 7, 2, 9, 7, 2, 3, 9, 2, 2, 4, 3, 8, 3, 5, 4, 7, 5, 2, 8, 7, 0, 3, 2, 4, 9, 9, 4, 2, 3, 2, 0, 7, 0, 9, 1, 4, 0, 3, 4, 3, 7, 4, 9, 2, 8, 1, 6, 8, 6, 5, 7, 4, 3, 4, 9, 1, 2, 8, 3, 2, 5, 4, 6, 9, 3, 2, 1, 2, 6, 5, 9, 9, 2, 9, 0, 6, 6, 7, 1, 4, 9, 8, 4, 2, 4, 3, 4, 9, 1, 8, 5, 7, 9, 3, 6, 2, 5, 2, 9, 7, 3, 6, 5, 6, 9, 7, 8, 3, 0, 3, 6, 3, 5, 2, 6, 6, 5, 3, 7, 0, 8, 4, 8, 0, 8, 5, 4, 9, 7, 3, 3, 1, 9, 8, 3, 9, 4, 4, 0, 4, 5, 0, 4, 8, 1, 2, 9, 9, 3, 3, 4, 8, 3, 7, 7, 6, 1, 9, 1, 8, 2, 3, 3, 9, 1, 7, 7, 3, 2, 1, 9, 0, 2, 7, 6, 7, 5, 6, 1, 7, 2, 3, 1, 3, 5, 9, 2, 0, 3, 1, 4, 1, 0, 2, 3, 5, 3, 2, 1, 6, 7, 0, 5, 5, 3, 8, 8, 7, 7, 2, 7, 8, 8, 9, 9, 7, 0, 8, 3, 5, 9, 6, 4, 5, 3, 4, 6, 7, 3, 8, 5, 4, 6, 9, 6, 0, 0, 5, 7, 2, 1, 7, 7, 6, 3, 5, 1, 7, 5, 7, 8, 9, 2, 5, 5, 3, 9, 8, 9, 2, 4, 5, 0, 2, 1, 9, 3, 9, 6, 1, 6, 3, 1, 6, 7, 3, 5, 1, 4, 0, 3, 2, 4, 7, 9, 6, 5, 2, 8, 4, 8, 5, 4, 6, 3, 3, 7, 0, 4, 8, 3, 8, 2, 9, 3, 8, 1, 6, 1, 4, 7, 4, 8, 2, 5, 5, 7, 4, 0, 0, 1, 8, 0, 6, 4, 6, 2, 3, 6, 4, 1, 3, 5, 5, 1, 0, 3, 4, 8, 1, 6, 6, 7, 1, 1, 1, 9, 2, 0, 0, 3, 2, 1, 3, 3, 7, 0, 6, 5, 5, 2, 6, 6, 9, 7, 4, 0, 6, 5, 1, 4, 5, 6, 8, 8, 6, 3, 0, 9, 1, 6, 6, 5, 0, 9, 0, 4, 8, 2, 1, 9, 4, 0, 5, 7, 1, 6, 7, 4, 0, 6, 1, 4, 8, 7, 2, 3, 1, 4, 4, 5, 1, 2, 4, 6, 4, 4, 6, 1, 6, 4, 4, 7, 9, 0, 0, 7, 5, 3, 0, 7, 0, 5, 7, 7, 6, 8, 0, 3, 5, 1, 1, 1, 2, 9, 3, 2, 7, 2, 9, 7, 2, 6, 9, 0, 0, 8, 1, 5, 2, 1, 4, 7, 0, 0, 4, 1, 2, 2, 9, 4, 9, 2, 0, 5, 6, 2, 0, 3, 4, 9, 2, 7, 6, 1, 5, 3, 7, 8, 5, 8, 6, 1, 1, 2, 6, 7, 3, 8, 9, 8, 8, 8, 0, 2, 0, 0, 4, 4, 7, 4, 0, 8, 8, 6, 1, 1, 6, 8, 0, 9, 2, 2, 3, 3, 3, 4, 7, 4, 1, 7, 8, 2, 6, 6, 9, 5, 2, 1, 4, 6, 2, 3, 4, 0, 1, 4, 6, 1, 4, 4, 4, 1, 1, 8, 5, 2, 4, 6, 8, 0, 0, 7, 9, 8, 3, 4, 4, 5, 5, 9, 8, 0, 9, 7, 1, 9, 9, 2, 2, 2, 8, 8, 2, 5, 1, 4, 1, 2, 3, 0, 5, 5, 1, 1, 7, 5, 3, 4, 8, 2, 4, 6, 7, 8, 6, 4, 5, 9, 6, 8, 5, 9, 4, 2, 7, 5, 4, 0, 5, 4, 1, 3, 1, 3, 1, 8, 4, 8, 8, 5, 1, 1, 9, 2, 9, 3, 2, 0, 1, 8, 9, 8, 4, 5, 6, 9, 5, 2, 3, 0, 8, 7, 1, 6, 7, 4, 5, 5, 1, 4, 3, 1, 8, 4, 9, 1, 9, 9, 5, 6, 2, 2, 4, 7, 1, 3, 3, 8, 7, 1, 5, 3, 6, 1, 4, 8, 6, 6, 7, 3, 5, 1, 6, 8, 6, 2, 1, 5, 6, 9, 3, 3, 2, 9, 7, 6, 7, 9, 3, 0, 2, 3, 6, 0, 1, 6, 3, 8, 3, 2, 9, 0, 6, 9, 7, 8, 3, 5, 6, 2, 0, 5, 7, 0, 2, 7, 3, 1, 3, 9, 3, 7, 3, 5, 5, 0, 4, 8, 0, 1, 1, 2, 0, 0, 3, 3, 9, 6, 3, 3, 7, 6, 8, 7, 3, 1, 0, 1, 0, 0, 2, 7, 2, 1, 8, 0, 5, 2, 2, 1, 5, 2, 0, 9, 6, 1, 6, 1, 1, 2, 5, 4, 2, 8, 3, 2, 8, 5, 7, 4, 4, 4, 8, 9, 2, 0, 9, 4, 2, 8, 8, 2, 9, 0, 7, 7, 1, 8, 9, 3, 4, 5, 2, 3, 7, 5, 2, 6, 0, 4, 8, 0, 1, 8, 5, 3, 3, 8, 7, 3, 4, 0, 6, 1, 6, 4, 8, 9, 1, 3, 5, 7, 7, 6, 2, 5, 3, 2, 9, 2, 9, 7, 5, 2, 2, 6, 1, 5, 6, 5, 1, 5, 4, 6, 0, 9, 6, 2, 3, 7, 7, 7, 7, 9, 0, 6, 0, 7, 1, 4, 6, 5, 0, 0, 1, 3, 3, 0, 9, 1, 3, 1, 4, 7, 7, 1, 4, 7, 7, 8, 2, 1, 2, 7, 7, 4, 2, 3, 1, 1, 4, 7, 7, 2, 8, 5, 8, 2, 9, 5, 0, 8, 2, 9, 7, 2, 9, 9, 0, 2, 4, 6, 0, 9, 6, 1, 6, 0, 1, 6, 4, 6, 3, 8, 8, 4, 7, 0, 8, 1, 9, 5, 2, 5, 1, 1, 8, 4, 8, 1, 7, 1, 8, 7, 9, 2, 9, 7, 7, 6, 5, 2, 0, 4, 2, 0, 7, 4, 6, 9, 8, 7, 5, 2, 4, 0, 7, 0, 0, 9, 8, 3, 3, 8, 7, 2, 6, 8, 4, 8, 1, 6, 3, 3, 8, 1, 5, 4, 4, 0, 7, 4, 8, 8, 9, 9, 7, 7, 0, 8, 0, 7, 5, 4, 9, 6, 3, 4, 8, 3, 1, 8, 0, 8, 7, 9, 3, 2, 5, 8, 5, 0, 9, 7, 1, 4, 9, 7, 2, 6, 8, 4, 1, 4, 0, 7, 7, 5, 0, 7, 5, 1, 3, 0, 7, 8, 4, 4, 0, 1, 7, 5, 4, 6, 2, 9, 5, 9, 8, 2, 2, 3, 5, 1, 5, 0, 0, 2, 4, 8, 6, 0, 4, 2, 4, 1, 7, 0, 9, 7, 3, 7, 0, 3, 2, 1, 9, 0, 5, 9, 0, 8, 4, 4, 6, 3, 4, 0, 8, 5, 1, 2, 1, 7, 1, 0, 4, 9, 1, 8, 1, 8, 7, 1, 9, 4, 4, 7, 2, 9, 1, 5, 5, 3, 1, 3, 2, 1, 1, 5, 1, 2, 5, 8, 5, 6, 3, 6, 1, 6, 2, 3, 2, 5, 0, 9, 4, 3, 3, 0, 7, 1, 7, 3, 9, 2, 8, 0, 2, 9, 3, 1, 1, 5, 2, 0, 2, 8, 0, 9, 2, 2, 1, 5, 3, 4, 7, 1, 2, 2, 4, 9, 8, 1, 1, 6, 7, 3, 8, 6, 1, 3, 8, 3, 8, 9, 7, 3, 0, 9, 7, 2, 7, 5, 2, 6, 9, 7, 4, 2, 5, 9, 3, 5, 9, 3, 3, 1, 3, 6, 1, 9, 0, 0, 2, 9, 5, 0, 7, 5, 9, 2, 0, 8, 9, 4, 4, 1, 6, 6, 8, 6, 6, 0, 0, 6, 9, 8, 9, 0, 6, 7, 1, 3, 2, 5, 6, 3, 2, 9, 5, 6, 1, 3, 1, 9, 8, 2, 2, 7, 3, 5, 0, 3, 8, 0, 6, 8, 4, 3, 1, 6, 8, 5, 3, 4, 4, 8, 5, 1, 3, 2, 6, 2, 6, 8, 5, 4, 2, 9, 0, 3, 0, 6, 3, 5, 9, 6, 0, 8, 9, 5, 0, 4, 2, 4, 7, 4, 8, 7, 7, 5, 5, 1, 2, 8, 1, 6, 8, 7, 6, 8, 9, 4, 9, 8, 7, 4, 4, 0, 9, 6, 1, 9, 4, 6, 5, 3, 5, 0, 2, 6, 6, 0, 3, 4, 7, 4, 7, 6, 6, 8, 5, 0, 8, 0, 4, 4, 7, 9, 4, 9, 8, 0, 3, 9, 5, 4, 3, 4, 3, 0, 2, 0, 8, 9, 5, 9, 3, 7, 3, 6, 5, 0, 4, 1, 5, 6, 6, 3, 0, 1, 7, 9, 0, 0, 0, 1, 5, 7, 8, 0, 5, 3, 6, 1, 0, 7, 5, 0, 9, 2, 2, 2, 8, 3, 6, 1, 1, 1, 5, 0, 5, 2, 7, 3, 6, 6, 3, 4, 1, 7, 6, 9, 9, 2, 1, 9, 0, 8, 1, 9, 7, 9, 9, 6, 3, 4, 6, 8, 8, 2, 5, 6, 9, 1, 9, 4, 2, 9, 7, 3, 8, 6, 2, 5, 0, 0, 5, 3, 3, 1, 8, 9, 0, 7, 0, 3, 4, 0, 1, 6, 4, 9, 9, 5, 2, 7, 3, 0, 4, 8, 8, 8, 7, 5, 7, 9, 3, 8, 5, 4, 2, 3, 2, 6, 9, 7, 7, 7, 6, 4, 6, 2, 4, 1, 4, 6, 8, 0, 2, 1, 3, 9, 1, 2, 9, 6, 0, 6, 9, 4, 2, 2, 8, 2, 2, 2, 6, 8, 5, 9, 8, 5, 4, 3, 0, 3, 7, 9, 9, 4, 1, 1, 2, 6, 3, 2, 8, 9, 9, 7, 9, 0, 3, 1, 8, 9, 1, 8, 9, 8, 8, 3, 2, 0, 0, 9, 1, 9, 8, 2, 3, 5, 2, 2, 9, 1, 3, 2, 5, 4, 7, 3, 0, 1, 3, 1, 6, 2, 3, 3, 6, 2, 6, 0, 7, 1, 1, 5, 6, 9, 1, 5, 4, 9, 1, 8, 0, 1, 6, 8, 3, 5, 6, 2, 6, 0, 2, 3, 7, 6, 2, 3, 8, 0, 6, 5, 3, 5, 5, 5, 1, 0, 4, 9, 2, 3, 4, 2, 3, 9, 1, 7, 5, 1, 3, 7, 8, 3, 9, 2, 8, 9, 6, 5, 7, 0, 7, 3, 7, 1, 8, 0, 8, 2, 1, 5, 0, 3, 0, 7, 0, 6, 4, 7, 6, 4, 8, 8, 1, 9, 1, 3, 5, 1, 7, 1, 8, 4, 4, 5, 8, 8, 6, 6, 3, 4, 0, 2, 7, 3, 7, 3, 3, 5, 6, 2, 7, 7, 4, 7, 4, 7, 1, 6, 9, 9, 5, 6, 4, 4, 4, 4, 0, 4, 0, 2, 5, 4, 8, 5, 2, 9, 8, 0, 3, 4, 2, 3, 4, 9, 9, 9, 0, 6, 7, 6, 6, 9, 0, 2, 0, 7, 4, 9, 4, 1, 4, 6, 3, 1, 8, 5, 3, 5, 5, 5, 4, 1, 1, 0, 6, 7, 8, 9, 7, 6, 3, 1, 4, 5, 3, 4, 0, 1, 0, 5, 1, 5, 1, 4, 6, 4, 1, 0, 1, 0, 9, 4, 4, 5, 6, 3, 7, 9, 2, 9, 5, 9, 8, 5, 2, 1, 6, 3, 9, 1, 1, 3, 8, 1, 1, 8, 1, 9, 4, 7, 7, 1, 6, 9, 6, 7, 1, 3, 8, 7, 5, 8, 1, 5, 8, 0, 8, 8, 1, 0, 2, 1, 3, 6, 8, 9, 8, 7, 3, 6, 0, 5, 8, 6, 1, 1, 1, 4, 8, 6, 3, 7, 4, 4, 7, 3, 9, 2, 4, 4, 3, 3, 8, 4, 7, 3, 9, 3, 0, 5, 0, 2, 3, 7, 6, 9, 3, 8, 2, 5, 8, 3, 9, 7, 2, 0, 6, 8, 3, 6, 0, 4, 4, 5, 0, 7, 0, 4, 0, 2, 2, 6, 0, 2, 9, 1, 2, 0, 5, 7, 3, 9, 3, 9, 0, 0, 5, 0, 3, 6, 1, 0, 9, 9, 7, 1, 1, 7, 2, 0, 8, 2, 6, 7, 8, 5, 2, 4, 3, 8, 1, 2, 1, 7, 8, 4, 6, 0, 2, 1, 1, 3, 2, 9, 0, 5, 9, 6, 3, 4, 4, 4, 5, 8, 4, 6, 5, 6, 0, 3, 0, 7, 9, 7, 7, 4, 8, 9, 3, 5, 0, 8, 8, 1, 8, 9, 6, 6, 0, 5, 9, 7, 0, 4, 8, 7, 7, 0, 3, 2, 5, 9, 2, 5, 5, 6, 9, 4, 2, 3, 0, 4, 7, 4, 0, 9, 7, 0, 6, 1, 2, 2, 6, 1, 8, 4, 2, 9, 3, 9, 9, 2, 9, 1, 8, 0, 0, 1, 0, 8, 0, 2, 9, 9, 7, 6, 0, 0, 6, 6, 5, 0, 6, 2, 9, 9, 7, 3, 1, 6, 8, 0, 6, 2, 8, 3, 8, 0, 7, 1, 7, 0, 9, 5, 4, 9, 2, 9, 9, 5, 4, 2, 1, 1, 9, 8, 6, 2, 1, 1, 9, 8, 5, 1, 9, 8, 6, 6, 1, 6, 4, 6, 4, 9, 8, 2, 3, 5, 1, 6, 9, 5, 7, 4, 3, 6, 2, 0, 2, 5, 5, 4, 2, 1, 6, 0, 1, 9, 7, 5, 0, 6, 8, 1, 2, 3, 3, 4, 7, 2, 6, 8, 0, 2, 8, 1, 5, 3, 1, 8, 9, 3, 4, 2, 3, 9, 6, 5, 2, 8, 5, 2, 8, 0, 4, 6, 0, 0, 5, 0, 9, 0, 5, 9, 8, 1, 2, 2, 7, 3, 1, 9, 5, 3, 6, 9, 6, 2, 7, 5, 5, 7, 7, 2, 2, 3, 2, 0, 1, 3, 8, 0, 5, 6, 8, 3, 5, 9, 8, 0, 0, 1, 7, 5, 5, 3, 4, 2, 9, 8, 9, 2, 7, 1, 3, 7, 4, 3, 3, 2, 8, 6, 8, 2, 4, 2, 0, 8, 6, 5, 6, 6, 9, 9, 3, 5, 0, 9, 9, 9, 7, 4, 0, 7, 3, 3, 8, 7, 8, 5, 3, 9, 6, 3, 4, 3, 9, 0, 1, 3, 0, 1, 0, 8, 1, 1, 7, 7, 7, 0, 9, 7, 9, 7, 9, 1, 7, 7, 1, 1, 6, 7, 3, 1, 6, 2, 8, 4, 6, 0, 0, 2, 0, 7, 0, 6, 1, 5, 7, 5, 3, 3, 4, 7, 4, 5, 7, 7, 2, 3, 2, 4, 5, 0, 4, 0, 2, 4, 0, 1, 8, 0, 5, 8, 0, 7, 2, 6, 7, 0, 9, 5, 5, 3, 3, 8, 7, 8, 1, 9, 6, 7, 2, 1, 3, 3, 7, 3, 9, 3, 4, 5, 1, 7, 4, 9, 4, 1, 6, 6, 4, 3, 1, 2, 8, 2, 6, 7, 7, 3, 6, 3, 0, 7, 4, 2, 3, 0, 6, 7, 4, 6, 3, 9, 1, 7, 2, 6, 4, 4, 1, 7, 8, 7, 9, 5, 8, 1, 4, 5, 6, 6, 2, 5, 9, 8, 6, 6, 6, 7, 1, 9, 4, 1, 8, 5, 5, 4, 3, 3, 7, 8, 7, 5, 0, 1, 7, 4, 8, 8, 1, 7, 8, 9, 8, 3, 4, 0, 4, 4, 7, 8, 5, 9, 7, 3, 5, 7, 3, 5, 3, 1, 7, 7, 3, 2, 7, 8, 8, 3, 5, 2, 3, 5, 3, 3, 1, 6, 3, 5, 1, 4, 7, 2, 5, 4, 3, 1, 4, 6, 6, 0, 7, 9, 6, 4, 2, 8, 6, 8, 4, 9, 6, 2, 2, 6, 0, 2, 1, 2, 8, 6, 3, 3, 1, 1, 2, 9, 9, 8, 9, 4, 5, 9, 5, 5, 2, 4, 7, 6, 9, 0, 1, 4, 7, 5, 1, 6, 6, 4, 1, 4, 4, 8, 8, 9, 1, 5, 1, 2, 8, 7, 6, 2, 5, 2, 6, 0, 6, 2, 1, 9, 6, 2, 1, 6, 1, 8, 7, 1, 5, 2, 8, 6, 1, 2, 0, 0, 0, 9, 6, 2, 3, 2, 4, 1, 1, 5, 2, 7, 6, 4, 5, 2, 5, 1, 7, 8, 9, 3, 2, 4, 6, 8, 6, 4, 0, 6, 5, 5, 6, 5, 9, 8, 4, 4, 1, 3, 7, 7, 8, 7, 2, 5, 6, 5, 7, 8, 3, 1, 9, 2, 2, 4, 8, 3, 7, 4, 8, 5, 2, 9, 3, 0, 5, 3, 2, 5, 2, 3, 3, 7, 0, 4, 7, 3, 0, 1, 2, 4, 9, 6, 7, 9, 2, 2, 4, 8, 8, 5, 1, 6, 6, 2, 1, 1, 0, 3, 3, 0, 0, 1, 5, 9, 4, 5, 7, 6, 8, 9, 7, 4, 4, 3, 5, 8, 5, 2, 0, 9, 7, 2, 9, 5, 8, 8, 2, 1, 8, 9, 9, 3, 5, 8, 2, 1, 2, 9, 3, 9, 9, 9, 6, 3, 7, 7, 3, 7, 4, 2, 5, 0, 9, 3, 3, 5, 8, 8, 1, 6, 3, 9, 9, 7, 3, 5, 0, 8, 5, 8, 6, 4, 6, 3, 6, 9, 7, 7, 7, 9, 7, 0, 0, 2, 1, 7, 6, 4, 2, 2, 7, 6, 4, 0, 6, 9, 8, 0, 1, 0, 6, 4, 9, 0, 1, 5, 2, 9, 9, 9, 0, 9, 3, 7, 2, 2, 9, 0, 1, 7, 1, 9, 6, 7, 9, 9, 4, 7, 0, 1, 6, 7, 0, 6, 9, 5, 6, 5, 5, 6, 3, 1, 4, 0, 7, 4, 0, 0, 4, 3, 5, 7, 0, 9, 9, 6, 7, 7, 6, 6, 2, 2, 4, 6, 9, 7, 4, 6, 4, 1, 8, 7, 5, 6, 2, 7, 4, 4, 4, 8, 6, 0, 1, 2, 6, 7, 4, 2, 4, 8, 4, 1, 7, 5, 4, 5, 1, 1, 5, 4, 1, 8, 9, 1, 6, 9, 3, 0, 5, 2, 8, 5, 1, 7, 0, 8, 5, 5, 2, 6, 2, 5, 2, 3, 6, 7, 2, 1, 9, 7, 5, 1, 6, 4, 0, 2, 0, 6, 8, 0, 0, 8, 7, 3, 4, 3, 8, 9, 4, 4, 9, 1, 8, 3, 9, 5, 8, 1, 7, 8, 6, 3, 5, 6, 4, 5, 8, 0, 1, 4, 4, 5, 2, 7, 8, 8, 4, 2, 7, 8, 2, 3, 3, 2, 5, 5, 7, 8, 8, 4, 5, 3, 6, 8, 1, 4, 2, 2, 2, 7, 9, 5, 8, 3, 5, 8, 6, 6, 5, 9, 5, 8, 1, 6, 3, 1, 8, 9, 2, 4, 3, 3, 3, 5, 8, 2, 0, 8, 5, 7, 4, 4, 2, 5, 0, 8, 5, 0, 2, 9, 1, 4, 6, 9, 2, 0, 5, 9, 0, 0, 3, 6, 0, 7, 8, 8, 3, 1, 6, 2, 9, 7, 1, 5, 5, 0, 8, 3, 2, 9, 8, 5, 1, 2, 3, 2, 2, 5, 9, 5, 1, 1, 2, 0, 6, 4, 9, 8, 6, 7, 6, 6, 7, 3, 9, 6, 5, 1, 4, 6, 8, 5, 7, 2, 6, 0, 4, 0, 8, 2, 1, 5, 5, 4, 5, 5, 6, 3, 6, 2, 3, 2, 5, 4, 4, 0, 7, 4, 5, 8, 2, 9, 0, 0, 4, 9, 0, 1, 4, 8, 0, 8, 6, 6, 9, 1, 8, 7, 4, 0, 1, 5, 5, 5, 4, 1, 2, 7, 3, 6, 7, 8, 2, 3, 6, 1, 1, 1, 6, 3, 6, 9, 6, 7, 4, 4, 6, 9, 9, 1, 5, 5, 3, 8, 7, 6, 7, 6, 1, 9, 3, 9, 0, 6, 2, 9, 3, 4, 2, 4, 3, 8, 0, 9, 6, 3, 2, 3, 4, 2, 2, 1, 8, 8, 6, 0, 8, 0, 4, 2, 0, 3, 1, 3, 0, 0, 9, 3, 9, 8, 6, 8, 4, 5, 3, 7, 0, 4, 4, 7, 0, 6, 3, 4, 3, 7, 3, 1, 3, 1, 5, 7, 4, 2, 6, 8, 3, 9, 0, 1, 6, 5, 7, 9, 9, 7, 8, 6, 4, 7, 0, 4, 1, 9, 5, 5, 3, 7, 8, 0, 3, 7, 7, 3, 4, 0, 3, 9, 6, 4, 1, 2, 1, 5, 2, 8, 3, 5, 2, 4, 2, 9, 7, 3, 5, 1, 5, 4, 3, 5, 4, 2, 5, 3, 1, 7, 3, 1, 7, 2, 3, 3, 9, 2, 4, 7, 8, 4, 6, 1, 2, 3, 9, 3, 7, 8, 4, 2, 7, 0, 3, 4, 0, 6, 2, 5, 4, 9, 8, 8, 5, 7, 1, 7, 3, 5, 8, 4, 7, 0, 1, 1, 7, 2, 8, 3, 6, 6, 7, 8, 4, 7, 0, 9, 6, 5, 6, 6, 4, 0, 8, 9, 8, 7, 4, 1, 5, 4, 6, 1, 7, 9, 8, 4, 4, 8, 1, 5, 2, 8, 4, 9, 5, 5, 3, 6, 0, 2, 5, 5, 5, 7, 0, 7, 9, 5, 3, 1, 3, 6, 2, 5, 2, 7, 7, 0, 4, 8, 1, 6, 6, 6, 5, 0, 5, 7, 4, 0, 6, 0, 4, 8, 5, 8, 6, 6, 2, 5, 0, 6, 8, 8, 6, 3, 7, 6, 4, 8, 0, 1, 5, 4, 4, 5, 0, 8, 5, 4, 5, 2, 7, 4, 3, 1, 9, 7, 9, 5, 8, 8, 2, 3, 9, 1, 2, 3, 2, 6, 1, 6, 6, 0, 4, 0, 8, 2, 3, 3, 4, 6, 9, 7, 9, 4, 1, 1, 8, 3, 2, 8, 6, 0, 2, 3, 0, 9, 6, 1, 3, 5, 7, 5, 7, 9, 4, 8, 9, 8, 0, 7, 1, 0, 1, 4, 8, 7, 1, 9, 0, 4, 0, 8, 5, 8, 0, 7, 7, 0, 5, 9, 1, 2, 8, 1, 2, 5, 6, 7, 6, 8, 8, 2, 8, 5, 4, 5, 5, 2, 4, 0, 6, 0, 4, 4, 9, 8, 6, 5, 1, 0, 2, 2, 5, 9, 9, 7, 1, 2, 1, 3, 2, 2, 5, 9, 9, 9, 5, 0, 5, 0, 4, 0, 0, 3, 5, 3, 5, 5, 8, 7, 1, 8, 9, 9, 3, 7, 0, 8, 1, 9, 9, 3, 2, 9, 2, 7, 9, 7, 6, 8, 9, 8, 3, 5, 9, 6, 7, 0, 7, 9, 8, 4, 0, 6, 1, 4, 8, 4, 3, 5, 6, 9, 4, 2, 6, 4, 8, 7, 4, 1, 6, 8, 7, 4, 5, 0, 1, 3, 4, 7, 4, 2, 3, 0, 8, 4, 8, 7, 1, 5, 9, 0, 8, 0, 9, 6, 5, 8, 0, 2, 5, 0, 3, 1, 9, 0, 3, 2, 0, 3, 6, 3, 6, 7, 6, 6, 2, 5, 7, 4, 4, 9, 9, 1, 2, 7, 2, 5, 6, 1, 2, 3, 2, 3, 1, 4, 8, 0, 5, 6, 3, 8, 9, 9, 0, 2, 1, 6, 6, 0, 0, 1, 1, 6, 6, 7, 4, 5, 7, 5, 7, 8, 4, 5, 0, 5, 7, 7, 6, 0, 1, 1, 5, 9, 9, 4, 1, 8, 5, 0, 6, 9, 7, 5, 0, 7, 3, 9, 6, 5, 5, 9, 2, 3, 8, 0, 2, 0, 3, 0, 7, 9, 5, 8, 3, 1, 5, 9, 2, 6, 5, 9, 9, 3, 3, 5, 7, 7, 6, 7, 6, 4, 6, 0, 8, 5, 9, 5, 4, 5, 5, 2, 6, 9, 6, 8, 6, 3, 1, 2, 8, 7, 3, 0, 6, 2, 1, 5, 0, 3, 4, 5, 7, 0, 7, 0, 5, 6, 4, 0, 8, 0, 1, 6, 8, 5, 5, 5, 5, 3, 7, 0, 8, 5, 0, 1, 4, 4, 9, 8, 8, 7, 6, 2, 6, 0, 5, 4, 2, 4, 1, 4, 9, 3, 9, 8, 2, 9, 1, 9, 2, 2, 7, 4, 3, 3, 7, 1, 7, 0, 0, 0, 3, 8, 2, 5, 9, 9, 7, 3, 9, 6, 9, 1, 3, 8, 0, 5, 0, 7, 9, 6, 3, 7, 8, 2, 6, 3, 0, 1, 5, 8, 4, 3, 9, 3, 8, 0, 0, 5, 0, 6, 2, 6, 2, 9, 4, 3, 9, 0, 0, 3, 4, 7, 9, 7, 9, 8, 8, 1, 3, 0, 6, 8, 2, 8, 8, 8, 4, 6, 4, 2, 6, 6, 3, 8, 4, 1, 1, 4, 9, 8, 6, 8, 5, 3, 8, 2, 5, 7, 5, 2, 2, 7, 5, 4, 7, 2, 1, 1, 1, 8, 4, 5, 4, 8, 8, 0, 9, 8, 5, 5, 4, 7, 4, 1, 5, 3, 6, 1, 8, 3, 0, 6, 9, 5, 7, 9, 4, 8, 0, 4, 7, 9, 7, 5, 1, 9, 2, 2, 7, 2, 4, 5, 0, 5, 7, 2, 8, 4, 0, 2, 2, 8, 2, 3, 5, 2, 2, 2, 1, 8, 6, 3, 6, 2, 0, 6, 3, 7, 2, 0, 8, 6, 5, 2, 1, 9, 7, 3, 3, 7, 9, 3, 7, 8, 5, 8, 8, 3, 4, 2, 2, 7, 9, 4, 4, 7, 4, 1, 9, 2, 6, 8, 2, 5, 6, 0, 5, 6, 3, 0, 7, 9, 2, 6, 0, 8, 4, 4, 0, 2, 7, 9, 9, 3, 1, 5, 0, 2, 2, 8, 2, 9, 7, 1, 9, 6, 7, 0, 7, 4, 6, 8, 1, 9, 3, 1, 8, 4, 5, 0, 0, 5, 5, 7, 6, 9, 1, 7, 7, 3, 2, 0, 2, 4, 0, 9, 5, 5, 8, 2, 5, 0, 4, 1, 8, 2, 3, 4, 7, 0, 7, 7, 5, 1, 3, 9, 1, 9, 9, 8, 4, 2, 4, 7, 5, 1, 2, 9, 6, 9, 5, 9, 0, 0, 7, 2, 8, 3, 2, 9, 4, 8, 9, 3, 1, 7, 2, 4, 0, 3, 3, 7, 0, 7, 2, 7, 7, 0, 7, 5, 8, 1, 4, 5, 8, 6, 5, 1, 4, 4, 7, 0, 9, 9, 3, 8, 3, 8, 8, 7, 7, 6, 6, 6, 3, 5, 9, 2, 4, 3, 2, 9, 6, 7, 9, 3, 5, 2, 7, 5, 0, 2, 2, 4, 9, 7, 0, 0, 1, 3, 1, 3, 1, 6, 4, 2, 1, 3, 6, 1, 4, 5, 4, 7, 4, 2, 8, 3, 7, 7, 3, 9, 9, 4, 8, 2, 9, 4, 5, 6, 7, 8, 0, 1, 6, 5, 1, 1, 9, 5, 9, 6, 1, 5, 0, 0, 4, 6, 3, 3, 9, 1, 1, 6, 8, 0, 2, 9, 5, 7, 6, 8, 4, 6, 4, 8, 3, 5, 4, 9, 3, 7, 4, 4, 1, 9, 5, 9, 1, 0, 4, 0, 8, 8, 4, 1, 9, 7, 2, 5, 9, 1, 5, 0, 7, 4, 3, 6, 1, 8, 4, 9, 1, 2, 6, 7, 0, 7, 6, 8, 2, 6, 7, 5, 6, 9, 1, 1, 3, 8, 4, 4, 1, 1, 1, 0, 1, 1, 2, 3, 3, 2, 3, 1, 7, 5, 4, 4, 6, 8, 6, 3, 9, 7, 8, 9, 1, 5, 5, 9, 1, 7, 7, 9, 5, 8, 6, 8, 5, 3, 6, 1, 5, 2, 5, 3, 4, 2, 1, 3, 8, 1, 9, 8, 8, 5, 5, 9, 1, 4, 1, 7, 0, 3, 0, 0, 0, 5, 7, 2, 7, 0, 9, 6, 7, 4, 0, 6, 6, 3, 8, 3, 4, 7, 5, 6, 4, 2, 8, 4, 8, 9, 9, 9, 0, 5, 0, 6, 8, 1, 1, 9, 9, 9, 2, 3, 9, 6, 6, 0, 1, 9, 9, 3, 0, 5, 4, 6, 2, 9, 9, 4, 5, 7, 6, 5, 2, 2, 8, 0, 5, 1, 2, 6, 4, 9, 4, 6, 8, 6, 5, 9, 1, 4, 7, 8, 2, 6, 0, 3, 8, 9, 8, 4, 9, 5, 9, 8, 3, 3, 0, 2, 0, 6, 6, 8, 2, 5, 1, 2, 3, 7, 0, 0, 4, 2, 7, 1, 4, 7, 8, 0, 3, 9, 3, 0, 5, 7, 5, 5, 4, 7, 1, 0, 6, 6, 1, 1, 9, 6, 8, 1, 6, 3, 7, 1, 4, 8, 9, 7, 0, 7, 3, 3, 3, 1, 4, 2, 5, 3, 8, 2, 4, 7, 1, 1, 7, 3, 9, 4, 6, 3, 5, 9, 7, 4, 0, 9, 2, 0, 3, 5, 1, 2, 0, 4, 0, 2, 7, 8, 0, 5, 3, 7, 4, 6, 9, 5, 9, 3, 0, 8, 3, 9, 7, 4, 6, 5, 8, 3, 3, 3, 9, 9, 9, 8, 7, 2, 4, 3, 4, 7, 7, 8, 4, 3, 8, 6, 5, 4, 0, 0, 0, 5, 1, 5, 3, 1, 1, 1, 2, 1, 6, 3, 3, 9, 2, 3, 9, 6, 0, 7, 1, 3, 4, 7, 0, 4, 1, 8, 2, 5, 1, 9, 5, 9, 0, 3, 5, 4, 1, 2, 5, 2, 3, 4, 0, 7, 4, 6, 5, 7, 8, 1, 4, 3, 2, 2, 2, 4, 2, 9, 3, 8, 3, 9, 6, 5, 6, 6, 0, 3, 1, 7, 2, 5, 9, 1, 4, 8, 5, 1, 7, 6, 0, 4, 2, 0, 1, 1, 8, 6, 2, 7, 4, 9, 8, 6, 7, 4, 5, 6, 7, 0, 7, 2, 2, 5, 6, 6, 7, 2, 6, 1, 5, 7, 0, 8, 9, 2, 7, 8, 4, 2, 0, 1, 6, 2, 7, 8, 0, 1, 4, 8, 9, 5, 3, 8, 8, 7, 2, 5, 8, 5, 0, 6, 9, 2, 8, 3, 6, 2, 7, 4, 6, 9, 0, 0, 7, 3, 7, 2, 5, 6, 6, 0, 9, 6, 8, 6, 7, 2, 7, 5, 3, 3, 3, 0, 6, 5, 2, 0, 8, 8, 1, 5, 4, 0, 4, 1, 2, 4, 3, 2, 8, 5, 4, 2, 1, 1, 3, 5, 4, 2, 7, 7, 8, 2, 5, 3, 9, 9, 0, 6, 7, 2, 1, 5, 5, 2, 7, 1, 3, 8, 8, 5, 5, 4, 0, 5, 1, 8, 5, 3, 5, 6, 7, 9, 4, 0, 6, 7, 8, 5, 2, 4, 6, 0, 6, 1, 4, 7, 8, 3, 2, 6, 1, 6, 4, 3, 8, 1, 4, 3, 5, 4, 0, 2, 5, 0, 8, 9, 2, 3, 0, 4, 9, 6, 4, 4, 2, 3, 5, 6, 4, 3, 3, 2, 6, 4, 6, 2, 8, 3, 3, 3, 4, 1, 5, 4, 7, 3, 6, 8, 1, 3, 5, 9, 7, 9, 1, 0, 7, 5, 9, 4, 3, 7, 9, 6, 5, 7, 0, 9, 8, 2, 3, 5, 7, 9, 0, 2, 0, 7, 4, 6, 3, 1, 3, 1, 8, 1, 5, 5, 7, 3, 3, 0, 4, 5, 3, 8, 3, 9, 2, 9, 1, 3, 2, 0, 7, 8, 2, 8, 1, 7, 9, 6, 2, 8, 8, 9, 7, 9, 9, 0, 3, 7, 0, 8, 6, 8, 6, 9, 0, 4, 1, 1, 8, 7, 9, 7, 9, 7, 3, 4, 6, 3, 0, 0, 6, 8, 2, 3, 0, 6, 9, 0, 2, 0, 6, 3, 4, 3, 2, 1, 4, 0, 4, 5, 6, 5, 4, 3, 4, 2, 2, 2, 2, 0, 8, 3, 8, 7, 5, 6, 4, 0, 9, 6, 8, 7, 8, 3, 0, 4, 1, 9, 4, 1, 2, 7, 6, 1, 1, 1, 7, 5, 6, 2, 2, 0, 5, 4, 5, 2, 6, 4, 3, 1, 0, 3, 3, 1, 6, 6, 0, 3, 1, 3, 3, 3, 4, 4, 4, 4, 3, 3, 3, 7, 5, 0, 8, 1, 8, 1, 9, 0, 7, 7, 8, 8, 8, 5, 6, 4, 7, 5, 1, 3, 1, 7, 8, 3, 6, 4, 4, 8, 1, 6, 3, 0, 9, 1, 5, 0, 6, 9, 6, 5, 9, 7, 3, 1, 7, 0, 5, 8, 0, 3, 0, 7, 8, 3, 9, 2, 0, 8, 4, 4, 6, 4, 3, 4, 4, 3, 5, 5, 5, 7, 3, 8, 9, 5, 5, 7, 0, 3, 2, 9, 9, 7, 9, 3, 6, 7, 0, 4, 7, 6, 1, 4, 1, 9, 1, 7, 1, 5, 4, 3, 3, 0, 4, 5, 0, 1, 0, 8, 9, 2, 0, 8, 5, 8, 9, 1, 7, 3, 8, 8, 2, 3, 4, 0, 9, 0, 0, 1, 7, 5, 5, 8, 6, 9, 6, 5, 5, 4, 1, 6, 3, 7, 2, 8, 8, 5, 1, 5, 3, 1, 4, 7, 8, 6, 8, 6, 6, 3, 6, 3, 8, 8, 1, 4, 5, 1, 6, 4, 9, 9, 9, 9, 3, 4, 3, 0, 3, 3, 2, 6, 3, 3, 8, 3, 0, 2, 3, 6, 1, 0, 2, 0, 8, 6, 5, 4, 7, 2, 1, 2, 6, 1, 7, 2, 9, 4, 1, 0, 2, 1, 2, 9, 2, 6, 5, 2, 4, 7, 0, 7, 0, 3, 2, 3, 2, 4, 0, 4, 7, 3, 9, 2, 2, 7, 6, 3, 0, 4, 6, 9, 4, 2, 7, 3, 1, 3, 8, 1, 8, 6, 8, 9, 9, 3, 0, 5, 8, 1, 0, 7, 4, 6, 4, 0, 8, 9, 7, 5, 1, 8, 7, 1, 8, 2, 0, 6, 3, 3, 3, 5, 6, 4, 3, 3, 3, 2, 9, 9, 9, 1, 3, 3, 4, 6, 4, 1, 5, 2, 7, 5, 3, 1, 8, 2, 8, 9, 4, 4, 2, 9, 0, 4, 2, 1, 8, 6, 8, 9, 6, 1, 8, 5, 9, 2, 5, 2, 1, 9, 9, 8, 7, 9, 1, 7, 0, 9, 5, 3, 0, 6, 5, 6, 7, 3, 5, 9, 0, 2, 2, 9, 4, 7, 2, 7, 8, 2, 3, 8, 6, 7, 0, 0, 0, 8, 2, 9, 3, 5, 8, 6, 9, 8, 9, 3, 0, 0, 2, 1, 8, 8, 8, 9, 4, 1, 5, 5, 6, 9, 1, 2, 7, 8, 8, 7, 1, 0, 7, 1, 1, 5, 7, 8, 1, 0, 1, 1, 2, 6, 8, 7, 0, 0, 3, 1, 8, 0, 1, 9, 6, 6, 5, 4, 3, 6, 4, 7, 1, 6, 5, 1, 4, 2, 7, 1, 4, 1, 3, 4, 8, 9, 6, 6, 0, 7, 7, 2, 5, 0, 1, 2, 4, 9, 6, 5, 6, 6, 9, 2, 3, 5, 7, 5, 4, 1, 8, 0, 6, 4, 0, 0, 2, 7, 3, 6, 8, 4, 0, 9, 4, 9, 4, 1, 6, 0, 4, 4, 0, 1, 5, 5, 2, 2, 1, 8, 2, 1, 1, 2, 7, 6, 7, 3, 2, 9, 0, 6, 9, 9, 1, 1, 1, 2, 5, 5, 0, 8, 2, 1, 1, 8, 3, 9, 4, 4, 3, 8, 1, 8, 2, 3, 6, 7, 2, 6, 3, 7, 7, 6, 7, 6, 4, 8, 4, 0, 3, 7, 9, 1, 1, 1, 8, 5, 7, 9, 0, 7, 4, 5, 4, 1, 2, 8, 0, 1, 9, 8, 1, 9, 0, 3, 3, 6, 3, 6, 5, 4, 0, 9, 6, 6, 0, 3, 6, 1, 3, 1, 6, 6, 8, 1, 5, 5, 5, 2, 8, 9, 9, 6, 8, 9, 4, 8, 6, 1, 5, 3, 8, 9, 4, 2, 8, 2, 7, 3, 8, 3, 4, 3, 4, 4, 3, 0, 1, 7, 6, 0, 9, 6, 0, 6, 4, 7, 0, 6, 5, 0, 8, 0, 6, 4, 1, 7, 2, 5, 7, 6, 1, 9, 2, 0, 7, 8, 0, 7, 4, 1, 6, 8, 5, 7, 9, 5, 9, 5, 0, 8, 1, 3, 4, 3, 2, 6, 1, 4, 3, 0, 6, 7, 8, 1, 8, 5, 6, 2, 6, 4, 2, 5, 8, 6, 6, 2, 2, 4, 8, 0, 0, 9, 5, 6, 4, 3, 8, 7, 4, 3, 0, 3, 1, 2, 8, 5, 7, 5, 5, 2, 0, 9, 4, 9, 4, 7, 3, 0, 6, 1, 0, 5, 2, 5, 4, 6, 1, 4, 7, 7, 6, 3, 7, 0, 1, 5, 2, 6, 0, 9, 1, 0, 7, 6, 9, 2, 7, 7, 2, 3, 1, 0, 3, 7, 7, 7, 9, 8, 1, 7, 9, 2, 3, 4, 1, 0, 7, 9, 3, 8, 5, 6, 5, 5, 5, 9, 5, 2, 6, 9, 8, 2, 7, 1, 9, 2, 8, 1, 1, 0, 0, 2, 6, 3, 5, 1, 1, 1, 1, 1, 1, 6, 3, 8, 0, 9, 8, 4, 2, 2, 8, 8, 0, 2, 2, 8, 9, 4, 8, 4, 3, 8, 4, 6, 1, 5, 1, 1, 9, 6, 9, 7, 5, 4, 4, 2, 5, 4, 6, 3, 4, 0, 1, 4, 5, 1, 6, 4, 8, 9, 0, 2, 1, 3, 2, 9, 2, 7, 9, 9, 5, 1, 6, 0, 1, 9, 5, 9, 4, 2, 2, 7, 8, 0, 6, 4, 1, 0, 0, 5, 1, 5, 9, 9, 1, 3, 2, 8, 9, 0, 7, 1, 8, 2, 0, 8, 3, 4, 4, 8, 4, 7, 3, 8, 5, 0, 4, 5, 2, 8, 6, 5, 5, 8, 7, 7, 1, 5, 0, 9, 3, 0, 7, 3, 5, 5, 1, 4, 9, 1, 2, 2, 5, 3, 0, 9, 9, 9, 6, 1, 8, 8, 8, 0, 8, 3, 9, 7, 7, 4, 4, 0, 0, 4, 0, 1, 0, 6, 8, 6, 7, 3, 2, 7, 5, 8, 5, 2, 0, 4, 7, 5, 3, 4, 1, 7, 9, 1, 2, 1, 9, 7, 9, 8, 0, 8, 7, 4, 8, 7, 7, 0, 4, 3, 2, 6, 9, 3, 5, 7, 4, 9, 5, 6, 6, 6, 0, 8, 6, 2, 4, 2, 3, 7, 3, 1, 5, 7, 9, 3, 8, 9, 9, 8, 7, 5, 9, 7, 4, 8, 1, 4, 0, 0, 7, 4, 9, 4, 2, 0, 7, 8, 7, 1, 1, 2, 3, 9, 3, 2, 0, 4, 9, 1, 9, 7, 7, 9, 2, 0, 8, 3, 1, 4, 1, 4, 3, 5, 1, 1, 6, 4, 2, 8, 5, 1, 7, 8, 8, 2, 8, 6, 5, 1, 6, 0, 0, 7, 2, 8, 8, 9, 2, 6, 1, 5, 5, 8, 2, 4, 4, 1, 8, 8, 0, 3, 4, 9, 3, 6, 8, 5, 0, 0, 3, 0, 9, 9, 0, 4, 1, 6, 2, 8, 9, 8, 4, 6, 7, 8, 8, 9, 2, 2, 0, 9, 2, 2, 4, 7, 5, 4, 9, 6, 1, 8, 2, 3, 5, 8, 2, 8, 9, 9, 7, 6, 3, 9, 7, 2, 6, 8, 9, 3, 9, 9, 9, 2, 0, 9, 3, 4, 2, 3, 1, 1, 1, 0, 2, 0, 5, 7, 3, 9, 1, 0, 1, 8, 9, 5, 3, 8, 8, 1, 5, 3, 2, 3, 3, 7, 5, 9, 5, 7, 1, 9, 6, 5, 9, 1, 0, 8, 4, 3, 8, 5, 4, 9, 6, 0, 3, 9, 7, 2, 3, 8, 6, 6, 4, 9, 9, 1, 5, 2, 6, 7, 2, 2, 9, 1, 0, 5, 8, 4, 5, 7, 9, 7, 0, 4, 1, 0, 3, 4, 8, 9, 5, 8, 6, 7, 9, 1, 5, 7, 9, 4, 6, 6, 7, 2, 1, 3, 4, 1, 9, 4, 2, 1, 9, 0, 0, 8, 6, 2, 8, 0, 3, 7, 4, 2, 6, 9, 8, 0, 9, 4, 2, 1, 3, 1, 2, 3, 2, 7, 9, 4, 7, 1, 1, 2, 8, 8, 4, 8, 2, 5, 5, 8, 3, 6, 0, 1, 4, 5, 5, 8, 9, 8, 5, 9, 4, 1, 3, 3, 9, 5, 9, 7, 7, 4, 4, 7, 9, 3, 6, 8, 9, 2, 4, 3, 6, 5, 1, 5, 4, 5, 8, 2, 3, 9, 9, 7, 8, 6, 7, 6, 1, 0, 6, 0, 3, 2, 5, 3, 3, 9, 6, 3, 0, 4, 5, 7, 3, 5, 9, 3, 5, 8, 7, 0, 3, 9, 2, 6, 2, 3, 2, 7, 1, 4, 7, 8, 6, 4, 0, 8, 0, 0, 8, 6, 8, 2, 9, 5, 4, 3, 8, 4, 4, 7, 0, 9, 5, 0, 2, 4, 5, 4, 0, 3, 7, 8, 9, 7, 4, 4, 6, 6, 5, 9, 4, 1, 1, 5, 0, 9, 6, 9, 8, 0, 5, 2, 6, 6, 1, 5, 5, 6, 8, 1, 7, 0, 7, 9, 3, 2, 7, 7, 7, 8, 2, 0, 3, 3, 6, 1, 8, 6, 3, 7, 5, 3, 2, 9, 4, 5, 8, 2, 8, 7, 8, 4, 6, 9, 1, 2, 1, 3, 7, 4, 9, 5, 8, 7, 5, 2, 2, 1, 8, 0, 3, 0, 9, 2, 4, 0, 1, 1, 6, 3, 0, 7, 7, 1, 0, 5, 8, 0, 3, 9, 8, 2, 2, 9, 1, 5, 1, 7, 0, 1, 9, 9, 4, 2, 3, 4, 2, 8, 7, 0, 7, 8, 2, 9, 6, 3, 5, 5, 4, 3, 3, 5, 5, 6, 7, 8, 5, 3, 2, 9, 0, 2, 9, 7, 5, 4, 0, 8, 0, 1, 6, 6, 8, 6, 1, 9, 2, 6, 2, 8, 5, 0, 4, 1, 3, 4, 4, 4, 3, 8, 9, 4, 6, 5, 6, 1, 9, 5, 3, 7, 0, 6, 4, 7, 9, 3, 6, 1, 8, 2, 0, 0, 1, 5, 4, 6, 4, 2, 3, 0, 1, 1, 5, 2, 9, 6, 3, 3, 1, 9, 7, 7, 5, 0, 8, 9, 8, 1, 6, 5, 6, 4, 2, 3, 3, 9, 8, 3, 2, 1, 2, 7, 9, 9, 4, 7, 2, 5, 8, 8, 9, 3, 0, 6, 3, 6, 3, 7, 2, 9, 0, 2, 7, 1, 9, 6, 0, 1, 3, 1, 6, 2, 7, 5, 1, 3, 4, 9, 7, 4, 1, 1, 8, 4, 6, 5, 1, 5, 0, 1, 8, 6, 6, 1, 6, 7, 1, 3, 1, 5, 2, 9, 7, 9, 7, 5, 0, 6, 6, 5, 0, 6, 5, 6, 1, 1, 1, 9, 6, 1, 8, 9, 8, 7, 4, 5, 6, 6, 9, 5, 2, 3, 7, 2, 1, 0, 3, 1, 0, 6, 2, 7, 7, 9, 0, 5, 7, 7, 2, 0, 4, 3, 7, 9, 7, 0, 7, 5, 8, 4, 9, 3, 7, 4, 7, 4, 9, 8, 0, 3, 4, 1, 0, 8, 4, 4, 9, 1, 9, 4, 1, 2, 9, 6, 5, 0, 9, 3, 9, 1, 0, 1, 9, 0, 2, 7, 2, 3, 8, 4, 5, 1, 6, 8, 0, 7, 7, 9, 9, 4, 5, 4, 9, 9, 5, 0, 0, 6, 4, 3, 0, 4, 9, 9, 7, 9, 0, 7, 4, 4, 7, 4, 9, 7, 9, 3, 4, 2, 1, 4, 8, 2, 3, 1, 8, 7, 9, 1, 7, 3, 5, 5, 3, 1, 2, 5, 4, 3, 5, 9, 8, 5, 6, 6, 0, 3, 9, 4, 6, 4, 3, 3, 4, 4, 2, 0, 2, 3, 9, 3, 0, 8, 6, 0, 0, 4, 6, 1, 8, 6, 0, 1, 6, 7, 8, 1, 1, 0, 7, 3, 4, 2, 0, 6, 3, 2, 2, 2, 6, 6, 4, 9, 0, 2, 4, 5, 6, 7, 1, 0, 3, 6, 9, 2, 1, 0, 8, 5, 3, 1, 0, 5, 1, 2, 0, 7, 2, 9, 7, 2, 1, 9, 1, 0, 4, 7, 0, 5, 2, 7, 7, 7, 0, 7, 6, 0, 9, 2, 6, 9, 1, 1, 5, 6, 5, 6, 8, 7, 5, 4, 7, 6, 9, 6, 9, 1, 0, 6, 4, 6, 6, 5, 6, 5, 1, 7, 4, 4, 6, 6, 3, 1, 9, 9, 3, 4, 0, 4, 1, 2, 8, 2, 2, 3, 4, 1, 7, 7, 1, 0, 6, 4, 4, 5, 1, 6, 5, 4, 5, 6, 1, 1, 1, 2, 7, 1, 8, 8, 3, 7, 6, 7, 3, 5, 0, 8, 0, 3, 5, 3, 7, 9, 5, 4, 0, 1, 3, 1, 1, 5, 5, 3, 8, 5, 6, 7, 5, 4, 2, 9, 5, 0, 5, 1, 4, 6, 8, 2, 9, 4, 7, 5, 2, 9, 2, 0, 1, 1, 9, 3, 7, 8, 3, 7, 0, 2, 3, 4, 8, 3, 9, 8, 9, 3, 4, 5, 5, 8, 1, 5, 1, 9, 6, 8, 5, 1, 4, 3, 9, 5, 3, 7, 2, 5, 6, 3, 1, 4, 8, 5, 9, 2, 8, 9, 4, 1, 1, 7, 6, 1, 8, 3, 0, 3, 2, 4, 2, 2, 3, 4, 8, 2, 1, 3, 8, 4, 7, 0, 1, 3, 8, 6, 7, 7, 6, 1, 6, 8, 1, 1, 6, 2, 4, 8, 9, 2, 0, 7, 3, 9, 4, 1, 4, 5, 3, 3, 6, 8, 1, 1, 7, 3, 9, 0, 5, 6, 3, 2, 3, 2, 1, 3, 7, 6, 3, 7, 2, 2, 6, 9, 7, 4, 8, 3, 8, 0, 4, 8, 4, 8, 8, 7, 1, 2, 0, 8, 5, 2, 7, 3, 2, 7, 1, 8, 9, 7, 8, 7, 2, 2, 0, 9, 4, 1, 0, 0, 6, 3, 7, 5, 9, 7, 8, 4, 2, 4, 3, 4, 0, 9, 7, 7, 7, 1, 0, 9, 5, 6, 5, 9, 3, 8, 1, 9, 3, 2, 6, 0, 4, 9, 8, 0, 4, 7, 0, 8, 5, 9, 9, 7, 6, 7, 1, 5, 1, 1, 3, 8, 3, 9, 3, 0, 5, 2, 8, 7, 6, 5, 2, 4, 0, 1, 2, 4, 7, 5, 0, 5, 8, 4, 0, 9, 6, 7, 0, 1, 0, 2, 0, 0, 9, 3, 8, 1, 4, 0, 3, 3, 2, 7, 7, 8, 7, 5, 2, 6, 1, 4, 8, 0, 8, 5, 0, 4, 9, 9, 4, 6, 5, 7, 0, 7, 2, 4, 2, 2, 7, 5, 2, 2, 2, 6, 8, 5, 2, 7, 4, 7, 5, 4, 4, 1, 6, 1, 3, 4, 4, 8, 6, 9, 1, 2, 9, 5, 8, 3, 8, 3, 1, 1, 6, 4, 5, 6, 3, 0, 2, 5, 7, 0, 8, 5, 8, 0, 3, 5, 2, 2, 7, 4, 8, 6, 6, 6, 1, 7, 1, 8, 7, 3, 3, 6, 0, 2, 4, 0, 0, 6, 9, 2, 6, 9, 7, 9, 2, 3, 2, 8, 7, 8, 5, 9, 1, 1, 1, 5, 4, 7, 1, 4, 1, 4, 3, 8, 6, 1, 5, 2, 3, 1, 5, 2, 6, 4, 4, 6, 5, 2, 3, 2, 0, 2, 7, 0, 5, 8, 3, 3, 7, 5, 7, 3, 9, 4, 0, 1, 6, 3, 8, 6, 2, 3, 3, 1, 3, 2, 5, 7, 6, 0, 2, 0, 5, 2, 6, 5, 9, 0, 1, 7, 1, 6, 4, 7, 8, 6, 5, 3, 7, 5, 7, 5, 7, 2, 9, 1, 1, 7, 4, 2, 0, 3, 1, 0, 5, 6, 6, 5, 5, 3, 3, 9, 3, 9, 9, 3, 8, 9, 3, 3, 0, 9, 6, 7, 7, 3, 1, 2, 5, 3, 7, 9, 1, 5, 1, 0, 6, 5, 7, 1, 4, 8, 4, 6, 8, 4, 9, 0, 1, 2, 8, 7, 9, 1, 7, 9, 2, 5, 0, 4, 4, 7, 2, 0, 6, 4, 0, 4, 4, 0, 2, 1, 8, 2, 5, 3, 7, 4, 1, 1, 1, 4, 6, 2, 2, 9, 4, 0, 8, 0, 3, 9, 4, 0, 1, 5, 7, 9, 0, 2, 0, 6, 1, 5, 6, 9, 0, 8, 1, 4, 2, 1, 0, 4, 3, 9, 1, 0, 4, 9, 0, 6, 6, 3, 9, 4, 6, 8, 1, 3, 7, 0, 6, 7, 2, 5, 6, 2, 5, 0, 5, 8, 5, 9, 3, 8, 6, 6, 1, 7, 6, 5, 0, 4, 1, 5, 1, 0, 2, 3, 2, 3, 6, 5, 3, 2, 2, 4, 4, 8, 2, 9, 4, 0, 4, 0, 8, 8, 6, 3, 6, 8, 6, 6, 1, 9, 5, 9, 5, 5, 3, 2, 0, 6, 7, 0, 1, 6, 2, 9, 3, 6, 0, 1, 6, 8, 8, 9, 3, 0, 3, 9, 1, 8, 2, 5, 3, 5, 3, 2, 7, 8, 0, 1, 2, 9, 6, 7, 7, 4, 4, 6, 3, 9, 2, 1, 7, 9, 1, 6, 6, 3, 5, 2, 8, 8, 5, 1, 6, 8, 6, 0, 1, 0, 2, 2, 1, 4, 5, 0, 1, 2, 9, 7, 3, 9, 7, 0, 8, 5, 5, 0, 5, 8, 7, 4, 6, 2, 0, 8, 5, 5, 7, 4, 2, 3, 1, 4, 1, 6, 0, 1, 7, 3, 1, 8, 4, 8, 3, 1, 7, 8, 5, 5, 6, 2, 1, 4, 7, 1, 8, 8, 6, 2, 3, 8, 1, 0, 2, 4, 0, 9, 7, 5, 3, 9, 6, 4, 1, 5, 5, 3, 7, 2, 5, 3, 0, 2, 9, 9, 6, 0, 7, 4, 1, 5, 3, 6, 4, 3, 0, 4, 3, 6, 8, 7, 1, 3, 7, 1, 2, 7, 3, 8, 5, 6, 3, 9, 8, 5, 9, 1, 4, 1, 3, 4, 1, 8, 8, 2, 9, 5, 3, 9, 2, 2, 7, 9, 7, 2, 8, 3, 7, 0, 7, 9, 1, 8, 9, 9, 7, 9, 3, 8, 7, 4, 7, 1, 8, 1, 3, 2, 5, 1, 5, 8, 0, 8, 3, 6, 6, 9, 3, 4, 6, 4, 7, 7, 1, 9, 4, 5, 9, 4, 1, 6, 2, 9, 8, 2, 7, 1, 2, 2, 3, 5, 4, 8, 0, 3, 4, 8, 7, 1, 9, 9, 5, 1, 4, 6, 7, 3, 6, 4, 9, 5, 6, 0, 3, 6, 8, 6, 3, 0, 3, 1, 3, 7, 3, 9, 8, 5, 0, 6, 2, 3, 6, 1, 5, 4, 4, 2, 1, 9, 0, 8, 9, 3, 7, 9, 5, 8, 6, 1, 8, 3, 9, 6, 6, 6, 2, 7, 2, 3, 6, 0, 4, 4, 9, 1, 4, 1, 9, 9, 1, 9, 3, 1, 5, 9, 8, 7, 8, 5, 8, 1, 8, 2, 2, 3, 9, 4, 0, 4, 5, 0, 2, 6, 2, 2, 8, 4, 7, 5, 6, 5, 4, 3, 0, 1, 9, 3, 8, 9, 4, 6, 6, 9, 8, 4, 4, 3, 4, 1, 0, 6, 8, 0, 5, 3, 7, 0, 7, 9, 5, 1, 7, 0, 2, 2, 5, 2, 2, 8, 3, 6, 1, 7, 6, 5, 1, 7, 7, 0, 2, 8, 5, 4, 4, 8, 1, 5, 6, 6, 5, 2, 6, 6, 0, 5, 1, 4, 3, 6, 0, 1, 2, 9, 4, 1, 8, 8, 3, 2, 8, 6, 8, 3, 6, 7, 5, 4, 1, 7, 1, 6, 9, 9, 2, 3, 5, 9, 5, 5, 2, 2, 8, 7, 9, 6, 1, 8, 0, 8, 8, 9, 6, 7, 8, 8, 4, 9, 7, 7, 1, 6, 9, 0, 6, 8, 3, 7, 2, 5, 2, 3, 3, 4, 6, 6, 3, 8, 6, 2, 1, 7, 7, 1, 0, 4, 4, 6, 6, 1, 9, 7, 0, 4, 7, 9, 5, 9, 6, 8, 6, 5, 7, 7, 3, 5, 9, 8, 7, 7, 6, 0, 6, 8, 2, 9, 4, 1, 2, 4, 4, 5, 8, 5, 2, 7, 0, 9, 1, 9, 1, 7, 2, 9, 0, 2, 4, 4, 2, 9, 3, 0, 0, 5, 1, 5, 9, 5, 8, 0, 5, 8, 2, 4, 8, 2, 0, 7, 7, 2, 6, 9, 6, 8, 7, 6, 0, 1, 6, 9, 3, 5, 3, 6, 2, 8, 5, 3, 2, 6, 6, 7, 3, 9, 3, 1, 6, 2, 6, 8, 6, 1, 7, 1, 5, 9, 1, 3, 2, 9, 7, 2, 9, 5, 9, 8, 5, 8, 9, 7, 8, 4, 9, 8, 0, 5, 6, 3, 8, 4, 0, 4, 8, 5, 2, 4, 7, 6, 0, 6, 4, 9, 7, 9, 1, 7, 0, 4, 5, 8, 9, 9, 6, 3, 6, 3, 6, 8, 8, 0, 1, 5, 9, 6, 3, 7, 5, 2, 0, 5, 7, 4, 6, 0, 5, 9, 7, 7, 0, 6, 2, 1, 4, 0, 4, 8, 7, 6, 0, 0, 9, 8, 5, 5, 5, 5, 0, 0, 1, 3, 0, 9, 5, 7, 1, 9, 4, 3, 4, 4, 8, 9, 8, 6, 0, 4, 3, 0, 4, 8, 7, 7, 0, 5, 1, 1, 7, 7, 0, 1, 8, 8, 9, 9, 7, 2, 7, 8, 9, 0, 0, 5, 1, 0, 7, 4, 0, 8, 9, 3, 8, 3, 7, 9, 3, 0, 1, 8, 0, 7, 9, 4, 8, 8, 8, 7, 5, 9, 6, 9, 6, 4, 7, 6, 4, 8, 3, 3, 9, 1, 6, 7, 8, 0, 7, 8, 9, 1, 6, 1, 5, 0, 1, 1, 5, 7, 9, 2, 5, 8, 9, 7, 7, 2, 6, 3, 5, 6, 5, 6, 2, 2, 4, 1, 3, 1, 0, 7, 9, 6, 7, 1, 2, 9, 4, 1, 6, 3, 1, 4, 0, 6, 7, 5, 3, 4, 2, 6, 8, 5, 3, 5, 2, 2, 0, 8, 4, 6, 6, 9, 4, 1, 8, 9, 8, 3, 0, 8, 7, 5, 4, 1, 7, 5, 0, 8, 3, 9, 5, 3, 0, 9, 3, 5, 1, 1, 0, 4, 3, 6, 7, 4, 9, 9, 3, 7, 4, 3, 3, 0, 3, 0, 6, 9, 2, 1, 7, 3, 5, 2, 1, 9, 1, 9, 7, 7, 7, 5, 2, 3, 1, 2, 0, 0, 3, 5, 1, 7, 7, 9, 5, 9, 2, 3, 9, 2, 4, 4, 3, 5, 1, 8, 4, 1, 9, 1, 1, 8, 4, 3, 9, 6, 7, 0, 7, 8, 7, 9, 5, 0, 0, 8, 3, 2, 8, 9, 2, 3, 9, 4, 1, 2, 9, 3, 0, 3, 2, 1, 9, 3, 9, 0, 4, 3, 3, 8, 4, 8, 9, 9, 7, 9, 7, 7, 3, 8, 0, 8, 0, 2, 5, 3, 3, 0, 8, 6, 0, 5, 3, 9, 4, 1, 1, 0, 3, 0, 9, 2, 9, 6, 3, 1, 5, 1, 7, 4, 3, 9, 5, 8, 5, 7, 5, 8, 8, 9, 2, 3, 2, 1, 8, 8, 8, 7, 8, 6, 0, 6, 1, 3, 3, 9, 8, 1, 9, 5, 3, 6, 6, 1, 0, 7, 5, 1, 9, 0, 8, 2, 2, 8, 2, 0, 2, 4, 7, 9, 3, 9, 6, 3, 8, 0, 6, 7, 9, 8, 6, 8, 6, 6, 9, 3, 5, 1, 3, 3, 1, 2, 5, 7, 6, 2, 1, 2, 8, 9, 6, 4, 1, 7, 3, 5, 2, 9, 0, 6, 9, 6, 8, 1, 2, 1, 1, 4, 4, 2, 1, 6, 5, 7, 1, 0, 4, 6, 6, 7, 9, 7, 4, 7, 5, 4, 1, 4, 6, 5, 5, 9, 9, 1, 9, 6, 4, 8, 0, 9, 2, 1, 0, 0, 0, 7, 8, 6, 3, 1, 2, 4, 6, 7, 1, 1, 8, 8, 2, 9, 5, 6, 3, 8, 9, 6, 1, 8, 6, 5, 1, 0, 8, 5, 1, 6, 4, 0, 1, 7, 1, 5, 9, 1, 6, 9, 0, 3, 5, 5, 9, 3, 4, 6, 4, 5, 9, 7, 6, 2, 5, 8, 9, 3, 4, 0, 9, 6, 2, 5, 9, 0, 5, 7, 8, 1, 3, 9, 3, 0, 2, 3, 1, 3, 1, 5, 5, 0, 1, 9, 5, 9, 7, 8, 3, 0, 8, 0, 5, 5, 6, 0, 0, 5, 3, 6, 0, 0, 8, 5, 3, 0, 2, 0, 7, 4, 7, 7, 9, 2, 0, 1, 8, 4, 5, 2, 5, 1, 6, 0, 3, 1, 8, 0, 9, 6, 7, 9, 2, 4, 6, 0, 4, 6, 1, 2, 1, 6, 3, 2, 0, 4, 7, 9, 9, 2, 9, 3, 8, 2, 8, 5, 7, 1, 6, 4, 0, 4, 7, 6, 6, 1, 8, 7, 1, 2, 4, 6, 2, 5, 3, 8, 9, 2, 8, 7, 5, 1, 5, 3, 8, 0, 1, 0, 4, 7, 1, 8, 5, 9, 4, 8, 8, 2, 9, 5, 3, 2, 1, 1, 4, 2, 1, 2, 7, 7, 1, 8, 7, 5, 9, 6, 0, 9, 6, 6, 1, 8, 5, 9, 1, 4, 1, 5, 0, 5, 3, 0, 0, 9, 9, 5, 2, 6, 4, 7, 2, 8, 0, 5, 4, 7, 5, 0, 7, 8, 6, 0, 1, 4, 0, 1, 5, 7, 3, 6, 1, 0, 3, 9, 4, 4, 8, 1, 1, 4, 9, 6, 5, 2, 0, 2, 7, 9, 3, 1, 1, 1, 9, 0, 1, 7, 5, 7, 4, 0, 9, 3, 6, 5, 8, 2, 6, 0, 5, 7, 3, 1, 3, 8, 8, 3, 1, 0, 7, 2, 9, 3, 4, 7, 7, 5, 2, 6, 8, 1, 1, 0, 4, 0, 4, 5, 8, 0, 8, 0, 1, 1, 0, 7, 4, 1, 7, 3, 3, 7, 0, 9, 1, 9, 9, 0, 3, 1, 8, 9, 2, 3, 7, 7, 9, 9, 1, 2, 3, 9, 1, 7, 0, 2, 4, 1, 6, 9, 5, 8, 4, 8, 8, 2, 3, 6, 2, 5, 9, 0, 9, 0, 0, 2, 0, 7, 6, 9, 5, 6, 5, 5, 3, 4, 1, 2, 5, 9, 4, 4, 6, 0, 5, 5, 4, 1, 3, 3, 0, 3, 2, 6, 6, 6, 4, 7, 0, 0, 1, 0, 1, 0, 7, 9, 2, 0, 4, 5, 8, 8, 0, 3, 8, 9, 2, 0, 3, 8, 7, 2, 0, 6, 5, 5, 3, 3, 2, 3, 7, 9, 2, 5, 9, 0, 5, 7, 8, 6, 9, 2, 0, 0, 6, 9, 6, 1, 3, 3, 6, 7, 9, 9, 6, 3, 2, 0, 2, 4, 9, 2, 8, 5, 2, 6, 5, 0, 1, 2, 8, 3, 0, 3, 8, 0, 5, 0, 2, 3, 7, 8, 8, 8, 1, 5, 0, 8, 8, 1, 7, 4, 9, 2, 2, 2, 1, 3, 4, 2, 4, 3, 2, 6, 7, 6, 7, 4, 7, 8, 9, 2, 4, 0, 0, 0, 7, 0, 5, 4, 2, 4, 6, 3, 0, 3, 4, 2, 4, 1, 6, 6, 4, 8, 7, 5, 0, 7, 9, 3, 0, 5, 7, 8, 5, 4, 7, 8, 5, 4, 1, 4, 4, 5, 5, 1, 0, 2, 4, 0, 5, 3, 5, 8, 3, 6, 0, 7, 4, 3, 4, 9, 7, 0, 6, 7, 6, 8, 7, 2, 7, 0, 8, 4, 7, 1, 6, 2, 4, 5, 3, 3, 6, 3, 6, 1, 4, 5, 8, 5, 8, 6, 9, 0, 6, 4, 4, 2, 6, 0, 6, 4, 5, 1, 7, 9, 8, 6, 3, 6, 7, 5, 4, 7, 2, 3, 2, 8, 3, 8, 7, 5, 3, 2, 6, 7, 5, 7, 7, 7, 6, 2, 4, 6, 3, 1, 9, 4, 2, 2, 6, 8, 7, 0, 1, 4, 8, 2, 1, 5, 9, 0, 7, 7, 4, 0, 7, 8, 6, 5, 7, 3, 6, 5, 5, 5, 7, 6, 6, 0, 3, 5, 9, 3, 2, 1, 9, 1, 6, 4, 1, 5, 7, 0, 6, 6, 7, 1, 8, 2, 2, 1, 2, 5, 7, 0, 8, 9, 1, 9, 7, 6, 8, 3, 6, 2, 2, 7, 4, 4, 5, 1, 6, 9, 8, 4, 0, 6, 3, 1, 3, 9, 9, 8, 5, 8, 4, 5, 0, 4, 2, 3, 1, 9, 2, 0, 4, 6, 5, 0, 3, 8, 2, 8, 6, 7, 2, 6, 9, 0, 2, 6, 8, 2, 8, 7, 1, 7, 1, 8, 1, 2, 1, 9, 2, 5, 8, 3, 5, 5, 3, 6, 9, 1, 3, 1, 2, 5, 0, 6, 7, 1, 0, 1, 8, 3, 3, 5, 6, 3, 8, 7, 7, 3, 0, 0, 3, 6, 2, 5, 8, 2, 7, 9, 0, 8, 9, 2, 8, 0, 4, 4, 1, 2, 7, 3, 8, 1, 0, 7, 7, 7, 0, 8, 9, 4, 4, 2, 7, 1, 8, 8, 9, 6, 7, 8, 8, 2, 8, 5, 8, 9, 2, 7, 7, 8, 6, 1, 3, 1, 3, 6, 0, 5, 4, 9, 0, 2, 6, 4, 2, 2, 1, 1, 6, 4, 7, 6, 7, 5, 7, 9, 0, 2, 1, 8, 7, 1, 2, 0, 6, 6, 5, 5, 2, 9, 2, 2, 8, 0, 0, 3, 5, 1, 7, 2, 3, 3, 9, 0, 8, 0, 0, 0, 2, 5, 3, 2, 1, 7, 0, 0, 2, 1, 5, 2, 5, 5, 1, 8, 1, 1, 1, 3, 0, 7, 3, 3, 4, 2, 3, 3, 0, 3, 2, 6, 1, 8, 7, 7, 7, 6, 5, 4, 4, 5, 6, 3, 0, 8, 8, 8, 5, 7, 0, 0, 0, 1, 3, 3, 5, 5, 4, 0, 5, 3, 3, 6, 3, 3, 8, 3, 5, 0, 5, 2, 1, 5, 7, 0, 2, 7, 0, 7, 5, 3, 2, 0, 2, 3, 1, 1, 1, 3, 2, 7, 5, 9, 4, 5, 0, 4, 0, 6, 4, 6, 6, 2, 2, 9, 6, 4, 1, 4, 2, 9, 7, 3, 1, 3, 9, 3, 7, 5, 2, 4, 1, 3, 0, 9, 0, 9, 8, 6, 7, 1, 3, 9, 2, 8, 7, 7, 0, 1, 4, 5, 7, 4, 8, 0, 9, 0, 6, 2, 7, 7, 6, 6, 4, 4, 8, 7, 0, 4, 0, 5, 2, 4, 5, 6, 6, 3, 9, 9, 0, 1, 8, 7, 2, 2, 8, 7, 7, 4, 5, 6, 8, 9, 3, 1, 3, 2, 3, 2, 6, 4, 3, 0, 8, 9, 1, 1, 5, 0, 8, 9, 5, 8, 6, 6, 2, 8, 2, 4, 4, 4, 9, 1, 6, 9, 5, 9, 7, 7, 8, 7, 4, 2, 6, 6, 5, 0, 0, 9, 0, 4, 3, 5, 2, 2, 1, 4, 6, 0, 5, 9, 4, 4, 4, 4, 1, 0, 2, 4, 6, 3, 4, 5, 2, 3, 6, 2, 8, 7, 5, 7, 7, 2, 6, 0, 4, 1, 0, 9, 0, 1, 7, 5, 7, 2, 9, 6, 8, 3, 8, 6, 4, 6, 9, 0, 2, 1, 4, 4, 6, 9, 2, 7, 9, 8, 1, 0, 3, 2, 3, 6, 4, 2, 2, 7, 4, 9, 6, 8, 0, 8, 3, 5, 9, 9, 8, 3, 9, 6, 2, 8, 0, 5, 2, 5, 8, 6, 3, 8, 5, 1, 8, 4, 6, 3, 2, 4, 2, 0, 0, 8, 1, 3, 2, 7, 0, 7, 8, 3, 9, 2, 1, 3, 0, 3, 9, 0, 5, 6, 5, 7, 7, 5, 4, 8, 1, 3, 9, 3, 7, 3, 2, 6, 8, 1, 7, 6, 3, 0, 7, 8, 0, 7, 4, 8, 0, 4, 8, 0, 1, 5, 7, 4, 9, 2, 5, 5, 9, 2, 7, 2, 7, 6, 1, 5, 7, 0, 1, 7, 2, 5, 9, 0, 5, 5, 1, 0, 5, 1, 6, 7, 1, 0, 0, 7, 8, 1, 4, 1, 6, 9, 0, 1, 2, 3, 2, 8, 9, 9, 8, 3, 5, 4, 4, 7, 6, 3, 3, 6, 3, 4, 0, 6, 2, 9, 9, 3, 2, 0, 1, 8, 9, 5, 5, 6, 5, 0, 8, 5, 5, 3, 3, 2, 4, 3, 0, 8, 5, 2, 4, 3, 4, 4, 3, 5, 6, 7, 6, 6, 1, 3, 3, 1, 3, 3, 3, 1, 4, 8, 4, 5, 8, 2, 0, 1, 5, 5, 1, 7, 5, 4, 6, 3, 3, 5, 9, 6, 1, 7, 0, 3, 0, 4, 3, 8, 1, 0, 5, 8, 5, 6, 7, 8, 3, 5, 8, 6, 5, 1, 5, 5, 2, 5, 9, 8, 3, 9, 5, 7, 7, 2, 8, 3, 0, 6, 0, 8, 1, 5, 9, 4, 8, 7, 8, 2, 8, 9, 8, 6, 0, 0, 7, 3, 9, 4, 4, 3, 7, 3, 3, 3, 5, 5, 4, 5, 7, 4, 8, 4, 3, 8, 9, 4, 0, 0, 7, 0, 8, 7, 0, 6, 8, 6, 8, 0, 4, 1, 9, 2, 3, 4, 7, 5, 4, 0, 0, 7, 0, 7, 3, 4, 0, 6, 0, 1, 4, 6, 0, 5, 2, 8, 5, 3, 5, 1, 6, 6, 2, 2, 9, 2, 4, 6, 7, 9, 0, 9, 5, 6, 1, 0, 6, 5, 4, 2, 7, 5, 6, 6, 1, 0, 5, 8, 1, 1, 5, 2, 4, 2, 0, 4, 5, 7, 6, 9, 7, 8, 5, 4, 1, 7, 1, 5, 7, 6, 6, 4, 0, 1, 3, 9, 2, 3, 5, 2, 8, 7, 7, 0, 6, 4, 5, 7, 7, 9, 4, 3, 6, 2, 8, 5, 6, 0, 8, 9, 8, 1, 1, 2, 2, 6, 6, 1, 7, 7, 5, 5, 0, 2, 3, 3, 8, 5, 1, 7, 2, 2, 0, 4, 6, 3, 3, 6, 9, 7, 8, 2, 6, 4, 0, 3, 8, 9, 9, 3, 7, 4, 3, 8, 7, 3, 4, 4, 2, 7, 3, 4, 9, 1, 4, 9, 6, 9, 6, 6, 7, 0, 0, 3, 6, 9, 1, 1, 0, 4, 9, 6, 5, 5, 2, 3, 2, 6, 3, 8, 9, 2, 6, 9, 4, 1, 9, 0, 3, 3, 2, 6, 0, 2, 9, 0, 8, 3, 7, 0, 1, 3, 5, 9, 9, 9, 5, 8, 9, 7, 0, 2, 6, 9, 3, 4, 5, 6, 1, 0, 5, 3, 5, 7, 7, 5, 2, 8, 3, 7, 8, 9, 0, 9, 6, 3, 3, 0, 7, 4, 4, 0, 9, 2, 5, 9, 6, 8, 7, 9, 2, 1, 0, 9, 4, 6, 3, 1, 6, 7, 4, 9, 2, 5, 5, 5, 1, 6, 0, 1, 9, 5, 1, 0, 1, 0, 6, 6, 7, 3, 0, 6, 1, 6, 0, 1, 8, 5, 2, 3, 8, 4, 4, 9, 5, 6, 7, 8, 3, 7, 8, 8, 2, 3, 8, 9, 4, 1, 3, 9, 4, 2, 6, 9, 6, 3, 0, 5, 3, 1, 2, 4, 4, 8, 3, 7, 5, 6, 9, 0, 5, 6, 8, 1, 4, 5, 0, 4, 2, 8, 2, 8, 9, 6, 9, 5, 3, 2, 8, 6, 1, 9, 3, 3, 0, 7, 0, 7, 7, 5, 1, 2, 8, 5, 8, 5, 5, 2, 2, 0, 0, 5, 1, 2, 8, 3, 0, 5, 2, 2, 8, 3, 6, 8, 6, 7, 5, 8, 7, 6, 8, 6, 0, 9, 3, 7, 2, 6, 6, 0, 7, 9, 3, 6, 4, 2, 8, 2, 8, 7, 9, 2, 8, 5, 9, 2, 3, 8, 0, 9, 6, 9, 1, 6, 6, 4, 2, 6, 5, 5, 8, 8, 6, 1, 2, 6, 3, 6, 8, 6, 1, 7, 8, 5, 9, 3, 8, 5, 7, 1, 0, 7, 3, 3, 9, 2, 7, 2, 2, 1, 6, 0, 7, 2, 6, 4, 2, 6, 7, 5, 5, 2, 5, 5, 2, 3, 9, 7, 0, 2, 1, 9, 1, 7, 1, 1, 1, 1, 0, 4, 1, 2, 0, 4, 3, 5, 1, 2, 8, 4, 2, 6, 1, 0, 0, 5, 7, 1, 8, 7, 7, 6, 1, 2, 0, 3, 6, 5, 4, 3, 8, 4, 5, 1, 0, 6, 8, 6, 3, 8, 8, 6, 6, 0, 0, 7, 1, 7, 4, 9, 9, 5, 1, 4, 8, 4, 5, 6, 7, 3, 7, 7, 4, 0, 1, 5, 6, 5, 6, 4, 1, 8, 5, 8, 3, 9, 9, 1, 0, 5, 4, 6, 4, 8, 5, 6, 9, 9, 2, 6, 5, 7, 2, 0, 7, 9, 9, 6, 2, 7, 2, 3, 2, 7, 8, 6, 1, 1, 7, 3, 3, 6, 5, 7, 0, 6, 2, 6, 0, 4, 5, 6, 7, 0, 7, 4, 1, 2, 2, 0, 6, 6, 0, 6, 6, 1, 4, 9, 3, 8, 8, 9, 8, 7, 2, 5, 7, 9, 9, 9, 6, 2, 1, 7, 1, 3, 8, 3, 1, 8, 9, 4, 4, 6, 3, 8, 7, 1, 9, 1, 9, 6, 1, 1, 3, 5, 1, 4, 6, 4, 6, 5, 9, 8, 3, 9, 8, 3, 5, 8, 0, 9, 7, 1, 6, 0, 7, 0, 9, 4, 1, 0, 2, 5, 6, 5, 5, 0, 9, 0, 9, 1, 8, 9, 4, 6, 8, 7, 6, 6, 9, 1, 5, 1, 0, 2, 6, 3, 1, 2, 8, 5, 9, 9, 1, 7, 3, 3, 2, 6, 8, 3, 4, 2, 6, 5, 3, 5, 0, 8, 5, 2, 1, 2, 0, 7, 3, 4, 3, 3, 3, 3, 5, 9, 7, 8, 3, 0, 6, 7, 2, 6, 2, 0, 2, 3, 9, 3, 1, 2, 1, 8, 8, 5, 8, 8, 4, 9, 4, 5, 2, 5, 8, 5, 0, 2, 8, 6, 9, 9, 3, 0, 9, 1, 4, 8, 8, 2, 7, 0, 8, 3, 9, 6, 4, 3, 1, 7, 9, 1, 6, 6, 9, 8, 9, 8, 3, 9, 3, 9, 7, 2, 2, 4, 0, 7, 6, 9, 1, 1, 4, 8, 5, 2, 3, 8, 0, 4, 1, 9, 2, 4, 9, 2, 1, 4, 9, 9, 0, 3, 9, 9, 3, 7, 0, 2, 8, 3, 8, 0, 9, 7, 7, 8, 8, 7, 9, 3, 5, 9, 8, 5, 5, 9, 5, 7, 0, 6, 5, 7, 3, 3, 3, 9, 7, 0, 8, 2, 2, 7, 6, 7, 5, 6, 7, 8, 0, 5, 4, 3, 0, 7, 4, 3, 1, 4, 8, 4, 3, 4, 8, 6, 8, 3, 0, 0, 0, 6, 3, 6, 5, 1, 2, 5, 7, 7, 2, 5, 3, 1, 5, 5, 1, 1, 1, 0, 0, 4, 1, 5, 6, 7, 2, 5, 7, 5, 4, 5, 9, 2, 2, 9, 2, 0, 2, 9, 0, 2, 9, 7, 2, 9, 3, 6, 4, 2, 9, 5, 0, 8, 0, 7, 9, 4, 6, 0, 8, 5, 2, 1, 7, 1, 9, 5, 2, 6, 1, 2, 7, 3, 6, 5, 6, 8, 9, 2, 5, 9, 8, 2, 5, 4, 7, 7, 4, 3, 7, 0, 7, 9, 1, 4, 7, 7, 9, 4, 0, 9, 7, 5, 9, 6, 4, 7, 9, 2, 6, 7, 5, 2, 4, 9, 0, 6, 0, 1, 4, 5, 0, 9, 9, 3, 4, 7, 9, 1, 4, 2, 8, 5, 7, 3, 4, 7, 3, 8, 2, 4, 7, 5, 9, 9, 1, 5, 6, 2, 5, 9, 3, 1, 1, 0, 9, 1, 4, 3, 5, 6, 4, 7, 9, 5, 4, 2, 4, 2, 4, 7, 5, 4, 8, 1, 3, 7, 4, 7, 3, 1, 3, 3, 9, 5, 7, 4, 3, 0, 5, 1, 7, 5, 0, 6, 5, 6, 0, 8, 4, 8, 4, 8, 3, 4, 1, 7, 9, 5, 3, 1, 4, 1, 8, 3, 6, 9, 9, 4, 8, 9, 4, 7, 8, 5, 1, 8, 9, 4, 5, 9, 2, 2, 5, 4, 2, 2, 5, 7, 3, 3, 6, 8, 2, 5, 9, 5, 9, 7, 3, 4, 2, 8, 4, 4, 8, 8, 2, 7, 7, 0, 1, 5, 8, 9, 2, 7, 2, 8, 1, 2, 5, 4, 5, 2, 0, 2, 1, 4, 0, 9, 7, 0, 6, 1, 6, 9, 3, 3, 4, 7, 5, 4, 9, 1, 3, 3, 6, 4, 1, 9, 0, 8, 4, 4, 9, 4, 5, 8, 8, 7, 7, 1, 7, 7, 9, 9, 0, 7, 4, 9, 2, 0, 0, 2, 4, 6, 1, 5, 7, 7, 8, 8, 9, 0, 7, 8, 4, 4, 3, 5, 5, 8, 8, 3, 9, 0, 2, 1, 4, 0, 2, 3, 7, 7, 0, 2, 6, 9, 1, 9, 7, 6, 6, 1, 3, 2, 5, 5, 5, 6, 3, 2, 7, 1, 4, 1, 6, 2, 0, 4, 4, 5, 3, 5, 2, 9, 9, 7, 3, 3, 7, 6, 3, 9, 6, 2, 9, 7, 8, 5, 6, 6, 0, 1, 1, 2, 1, 9, 6, 4, 3, 0, 3, 4, 5, 5, 3, 1, 4, 7, 9, 0, 9, 2, 5, 9, 3, 8, 6, 0, 3, 7, 5, 5, 9, 7, 9, 2, 6, 3, 4, 4, 9, 2, 0, 8, 7, 4, 1, 0, 0, 6, 1, 0, 4, 4, 7, 6, 9, 2, 2, 7, 5, 7, 9, 2, 2, 4, 1, 1, 9, 2, 9, 4, 1, 2, 0, 3, 2, 4, 4, 5, 3, 3, 3, 0, 3, 4, 4, 1, 0, 7, 6, 5, 4, 4, 3, 5, 5, 5, 7, 4, 1, 6, 7, 0, 7, 3, 4, 3, 4, 9, 1, 2, 6, 8, 7, 8, 7, 9, 3, 4, 7, 9, 3, 1, 8, 2, 3, 7, 9, 5, 4, 4, 1, 8, 1, 3, 2, 5, 2, 0, 1, 5, 3, 8, 1, 1, 3, 3, 4, 9, 0, 5, 0, 8, 4, 5, 1, 4, 0, 9, 7, 5, 5, 9, 5, 8, 7, 6, 7, 3, 3, 9, 5, 0, 4, 4, 3, 5, 1, 9, 2, 2, 8, 9, 0, 4, 2, 0, 5, 3, 1, 1, 7, 1, 4, 0, 0, 2, 2, 7, 2, 6, 1, 3, 6, 2, 4, 7, 9, 8, 0, 8, 9, 9, 4, 9, 9, 5, 6, 5, 5, 5, 9, 3, 8, 6, 1, 5, 2, 6, 0, 5, 9, 3, 6, 7, 8, 9, 4, 6, 2, 9, 8, 1, 4, 2, 7, 0, 6, 5, 8, 6, 9, 7, 1, 5, 4, 6, 8, 5, 4, 6, 4, 4, 5, 2, 4, 9, 7, 5, 8, 2, 7, 5, 1, 6, 1, 1, 7, 3, 5, 4, 8, 7, 4, 3, 6, 0, 2, 4, 3, 1, 9, 7, 5, 7, 3, 0, 0, 0, 4, 4, 2, 0, 3, 3, 0, 9, 8, 6, 0, 9, 0, 3, 1, 5, 0, 5, 4, 1, 9, 8, 6, 7, 7, 4, 6, 4, 5, 9, 8, 5, 0, 4, 5, 5, 6, 1, 4, 3, 4, 4, 2, 9, 5, 6, 6, 3, 2, 2, 6, 4, 2, 7, 2, 9, 2, 3, 6, 0, 1, 4, 8, 4, 2, 4, 4, 5, 8, 0, 2, 2, 4, 4, 0, 6, 6, 7, 1, 8, 6, 1, 1, 7, 1, 4, 5, 8, 0, 2, 4, 4, 5, 2, 0, 9, 9, 3, 6, 9, 5, 7, 5, 4, 8, 0, 4, 4, 8, 0, 1, 7, 3, 8, 2, 8, 3, 1, 2, 4, 9, 2, 8, 9, 0, 0, 6, 2, 3, 2, 4, 3, 2, 8, 0, 6, 9, 7, 9, 6, 7, 9, 9, 0, 4, 7, 7, 9, 1, 6, 2, 4, 2, 9, 1, 7, 1, 3, 3, 2, 9, 9, 5, 9, 2, 9, 2, 6, 4, 2, 5, 2, 7, 1, 6, 9, 4, 3, 6, 1, 3, 0, 6, 6, 8, 4, 4, 8, 9, 9, 8, 3, 3, 8, 9, 0, 4, 1, 6, 1, 3, 4, 4, 4, 6, 5, 7, 7, 1, 7, 0, 0, 8, 3, 1, 8, 4, 0, 0, 4, 6, 4, 1, 6, 3, 5, 9, 8, 1, 7, 3, 4, 6, 8, 3, 4, 5, 3, 5, 6, 9, 8, 8, 5, 7, 3, 8, 9, 2, 5, 6, 5, 6, 0, 7, 3, 2, 2, 0, 6, 6, 5, 5, 5, 8, 9, 9, 9, 2, 7, 3, 8, 1, 5, 3, 0, 2, 2, 0, 9, 6, 1, 0, 5, 7, 5, 3, 8, 1, 9, 4, 9, 5, 2, 3, 4, 0, 4, 7, 8, 8, 2, 1, 1, 5, 9, 3, 3, 9, 2, 2, 6, 9, 6, 3, 2, 2, 1, 2, 8, 7, 0, 2, 0, 9, 3, 4, 9, 7, 4, 0, 3, 0, 3, 4, 7, 2, 6, 3, 6, 0, 1, 5, 5, 3, 1, 7, 7, 5, 0, 7, 3, 0, 7, 7, 8, 9, 9, 3, 4, 9, 4, 4, 9, 1, 6, 1, 2, 3, 5, 9, 9, 2, 4, 1, 6, 5, 5, 5, 9, 8, 1, 9, 9, 4, 0, 1, 9, 2, 4, 9, 5, 8, 9, 7, 2, 7, 2, 3, 7, 5, 1, 6, 3, 0, 5, 6, 5, 7, 9, 5, 8, 7, 8, 8, 6, 5, 2, 8, 4, 4, 7, 0, 8, 4, 4, 8, 0, 6, 8, 8, 5, 4, 8, 0, 2, 8, 2, 8, 0, 1, 5, 8, 1, 6, 0, 2, 4, 3, 2, 2, 5, 3, 6, 4, 7, 2, 5, 8, 8, 4, 9, 5, 4, 5, 5, 7, 2, 8, 4, 4, 9, 9, 0, 8, 5, 3, 1, 3, 9, 0, 3, 7, 0, 5, 7, 4, 7, 7, 9, 5, 8, 3, 4, 5, 4, 8, 5, 6, 6, 6, 7, 7, 0, 8, 6, 0, 4, 7, 6, 3, 4, 0, 5, 1, 5, 0, 5, 4, 5, 2, 9, 5, 7, 7, 1, 0, 8, 5, 9, 8, 9, 8, 0, 0, 3, 4, 9, 2, 3, 5, 7, 1, 6, 9, 2, 5, 9, 8, 5, 8, 9, 2, 0, 8, 9, 2, 7, 0, 7, 8, 1, 4, 5, 6, 3, 1, 9, 6, 9, 7, 5, 0, 1, 4, 0, 9, 1, 8, 5, 1, 0, 9, 6, 8, 4, 0, 7, 8, 0, 1, 9, 3, 6, 5, 7, 1, 0, 2, 1, 3, 3, 7, 2, 6, 0, 3, 0, 0, 8, 1, 4, 4, 1, 6, 2, 7, 1, 9, 5, 7, 4, 3, 2, 0, 9, 1, 3, 6, 2, 3, 1, 6, 6, 5, 0, 1, 9, 8, 3, 0, 5, 5, 9, 4, 7, 4, 3, 4, 1, 3, 5, 0, 1, 7, 3, 4, 8, 1, 7, 6, 1, 5, 3, 0, 5, 5, 2, 1, 4, 1, 5, 4, 7, 7, 8, 7, 1, 6, 2, 2, 3, 1, 7, 2, 0, 2, 8, 2, 7, 7, 9, 9, 3, 1, 9, 2, 8, 0, 1, 8, 9, 5, 3, 7, 0, 8, 3, 6, 1, 0, 6, 0, 9, 3, 6, 5, 7, 4, 5, 1, 3, 7, 4, 7, 8, 8, 3, 7, 3, 2, 9, 4, 2, 3, 1, 2, 4, 9, 4, 7, 6, 4, 6, 5, 2, 4, 1, 2, 6, 0, 0, 8, 6, 7, 1, 7, 0, 4, 1, 6, 9, 3, 4, 1, 1, 6, 7, 1, 7, 7, 9, 4, 7, 7, 6, 8, 8, 7, 9, 0, 3, 1, 7, 0, 4, 3, 9, 0, 5, 5, 4, 1, 5, 6, 0, 2, 2, 4, 2, 4, 9, 8, 0, 4, 9, 7, 9, 6, 3, 2, 8, 7, 5, 3, 7, 1, 1, 4, 5, 1, 7, 4, 5, 6, 3, 6, 4, 7, 7, 6, 9, 4, 9, 7, 5, 7, 1, 8, 0, 1, 8, 0, 4, 0, 0, 1, 6, 1, 6, 4, 8, 1, 2, 5, 5, 8, 9, 5, 8, 1, 4, 4, 2, 1, 7, 5, 8, 7, 1, 1, 5, 0, 2, 0, 6, 9, 0, 5, 2, 3, 9, 8, 0, 3, 4, 1, 4, 3, 4, 9, 4, 0, 5, 6, 8, 8, 6, 1, 2, 7, 9, 3, 3, 8, 2, 4, 1, 5, 9, 4, 5, 5, 5, 5, 2, 1, 2, 4, 1, 2, 4, 5, 9, 1, 9, 0, 6, 3, 2, 9, 9, 0, 3, 1, 0, 7, 9, 7, 6, 3, 7, 6, 9, 4, 3, 6, 4, 9, 2, 6, 9, 0, 1, 6, 1, 8, 7, 5, 4, 4, 5, 9, 9, 7, 1, 1, 6, 8, 2, 7, 2, 0, 0, 0, 2, 5, 9, 9, 4, 0, 5, 2, 5, 8, 6, 4, 9, 6, 1, 8, 3, 1, 6, 2, 3, 8, 5, 2, 5, 0, 7, 5, 8, 6, 3, 1, 8, 8, 3, 5, 5, 5, 1, 5, 2, 0, 6, 7, 3, 9, 0, 8, 9, 2, 7, 6, 7, 0, 3, 2, 9, 5, 8, 6, 7, 4, 7, 6, 0, 7, 0, 4, 5, 3, 7, 1, 5, 1, 3, 4, 2, 7, 6, 6, 9, 5, 4, 7, 0, 3, 4, 6, 8, 6, 8, 6, 9, 7, 2, 7, 8, 4, 6, 7, 6, 6, 5, 6, 8, 5, 4, 5, 9, 0, 3, 9, 0, 5, 2, 2, 5, 7, 2, 4, 3, 7, 0, 1, 9, 7, 3, 1, 5, 1, 6, 9, 1, 5, 8, 1, 1, 6, 1, 6, 9, 9, 2, 8, 9, 0, 9, 5, 2, 1, 7, 3, 4, 3, 2, 0, 1, 9, 4, 8, 3, 2, 6, 7, 9, 2, 7, 0, 9, 9, 7, 3, 5, 4, 4, 7, 7, 1, 9, 3, 4, 0, 1, 8, 3, 6, 7, 4, 9, 3, 2, 2, 5, 4, 3, 1, 8, 4, 9, 5, 4, 9, 1, 6, 6, 3, 3, 6, 2, 5, 4, 4, 1, 5, 1, 2, 0, 4, 6, 1, 1, 9, 0, 1, 0, 2, 5, 6, 3, 5, 5, 1, 9, 0, 7, 7, 7, 1, 2, 8, 1, 6, 2, 2, 4, 2, 4, 0, 6, 5, 0, 4, 1, 9, 3, 4, 5, 5, 5, 2, 6, 2, 0, 4, 2, 6, 3, 7, 1, 6, 2, 9, 0, 4, 5, 6, 5, 2, 0, 8, 8, 9, 1, 2, 8, 1, 2, 6, 5, 6, 5, 1, 7, 4, 3, 3, 0, 3, 9, 9, 0, 3, 2, 8, 8, 2, 9, 7, 4, 3, 9, 9, 7, 0, 3, 5, 7, 5, 7, 6, 5, 0, 3, 5, 7, 8, 4, 5, 3, 6, 0, 2, 7, 5, 6, 3, 4, 5, 5, 0, 8, 4, 6, 5, 9, 2, 6, 0, 4, 4, 9, 5, 4, 5, 5, 5, 7, 6, 1, 8, 1, 7, 0, 4, 0, 8, 4, 2, 7, 3, 3, 9, 8, 6, 5, 9, 5, 1, 9, 8, 9, 1, 4, 3, 3, 2, 4, 1, 0, 3, 4, 0, 4, 4, 4, 1, 4, 8, 7, 2, 4, 1, 1, 6, 8, 3, 4, 1, 3, 7, 3, 2, 7, 6, 0, 1, 3, 6, 1, 1, 4, 3, 5, 0, 2, 0, 8, 4, 5, 7, 0, 2, 3, 7, 4, 3, 3, 1, 8, 8, 5, 1, 5, 9, 1, 1, 2, 9, 5, 5, 7, 5, 8, 2, 5, 1, 6, 6, 1, 2, 9, 3, 0, 0, 2, 7, 6, 5, 9, 2, 1, 8, 4, 1, 5, 2, 9, 3, 4, 1, 0, 7, 4, 9, 0, 9, 5, 2, 3, 4, 2, 7, 7, 1, 0, 8, 9, 5, 9, 5, 4, 4, 7, 1, 9, 9, 5, 1, 7, 0, 4, 7, 9, 7, 0, 8, 0, 7, 0, 8, 7, 0, 6, 1, 2, 8, 8, 0, 9, 9, 2, 2, 2, 7, 1, 1, 4, 8, 1, 3, 6, 2, 7, 5, 5, 2, 9, 8, 7, 5, 3, 8, 8, 6, 1, 1, 9, 9, 5, 4, 1, 3, 7, 0, 5, 9, 7, 2, 4, 0, 5, 9, 1, 5, 7, 0, 8, 6, 1, 5, 3, 3, 8, 6, 7, 9, 1, 6, 3, 6, 6, 2, 5, 3, 5, 6, 5, 9, 3, 9, 0, 3, 2, 5, 1, 4, 6, 3, 3, 3, 9, 8, 3, 7, 7, 7, 1, 5, 3, 5, 1, 4, 9, 7, 8, 3, 1, 8, 5, 5, 2, 4, 7, 7, 5, 3, 0, 5, 4, 2, 9, 1, 9, 4, 7, 2, 1, 3, 8, 4, 0, 9, 8, 8, 0, 2, 9, 0, 5, 7, 6, 7, 4, 1, 8, 1, 4, 4, 4, 9, 9, 3, 8, 2, 5, 8, 2, 6, 7, 3, 4, 3, 9, 4, 2, 1, 6, 2, 9, 0, 6, 9, 6, 3, 6, 4, 0, 4, 4, 4, 6, 0, 9, 6, 6, 6, 3, 5, 4, 9, 3, 9, 9, 9, 1, 0, 6, 1, 1, 9, 6, 7, 4, 2, 5, 4, 4, 9, 4, 5, 1, 8, 2, 6, 7, 4, 3, 0, 6, 9, 1, 5, 5, 1, 8, 9, 1, 2, 0, 4, 0, 3, 7, 2, 9, 7, 3, 0, 4, 2, 4, 6, 3, 7, 9, 9, 9, 8, 1, 4, 0, 0, 8, 1, 3, 7, 9, 2, 2, 9, 4, 4, 7, 9, 3, 1, 0, 0, 6, 4, 9, 6, 7, 7, 9, 2, 8, 3, 3, 4, 1, 5, 1, 7, 9, 7, 1, 9, 7, 1, 3, 6, 3, 6, 6, 4, 0, 2, 9, 9, 6, 9, 0, 1, 8, 9, 2, 1, 1, 0, 6, 9, 3, 7, 4, 9, 8, 4, 6, 5, 2, 0, 7, 0, 3, 9, 2, 4, 5, 1, 6, 4, 3, 5, 0, 9, 6, 3, 1, 8, 3, 1, 4, 5, 4, 5, 2, 1, 5, 7, 3, 0, 1, 5, 1, 4, 6, 0, 7, 6, 1, 6, 1, 0, 8, 1, 0, 1, 4, 6, 0, 6, 0, 6, 2, 2, 1, 2, 9, 5, 2, 5, 7, 9, 0, 1, 1, 6, 1, 7, 3, 1, 1, 8, 8, 1, 8, 7, 5, 3, 7, 3, 1, 7, 6, 8, 4, 1, 7, 6, 8, 9, 9, 0, 3, 0, 6, 8, 0, 5, 0, 8, 2, 1, 1, 0, 9, 7, 2, 9, 4, 2, 7, 9, 6, 5, 7, 6, 4, 8, 2, 0, 7, 4, 0, 4, 7, 7, 8, 6, 5, 2, 6, 4, 4, 0, 2, 0, 6, 5, 6, 9, 6, 5, 7, 6, 2, 5, 6, 5, 5, 1, 3, 4, 3, 5, 8, 0, 9, 5, 2, 4, 4, 7, 8, 6, 1, 1, 5, 0, 0, 8, 2, 7, 2, 9, 4, 4, 8, 5, 3, 2, 5, 6, 6, 8, 1, 1, 9, 5, 2, 6, 9, 6, 8, 9, 3, 9, 7, 3, 7, 0, 4, 8, 1, 2, 3, 5, 3, 5, 7, 5, 8, 6, 6, 9, 5, 3, 7, 9, 5, 3, 6, 4, 3, 0, 1, 2, 4, 9, 1, 5, 8, 8, 8, 3, 8, 0, 7, 5, 2, 3, 1, 7, 0, 3, 4, 8, 5, 0, 8, 1, 9, 4, 0, 3, 7, 8, 2, 3, 2, 9, 0, 6, 9, 5, 5, 8, 2, 1, 0, 9, 0, 6, 2, 0, 9, 3, 5, 1, 3, 8, 4, 7, 1, 4, 9, 8, 2, 2, 7, 7, 7, 1, 8, 6, 4, 0, 2, 0, 1, 0, 1, 1, 6, 2, 5, 6, 9, 1, 8, 5, 1, 8, 7, 5, 8, 6, 3, 5, 2, 8, 9, 5, 3, 6, 3, 2, 1, 6, 6, 9, 5, 1, 5, 0, 5, 9, 2, 4, 3, 8, 9, 7, 0, 7, 1, 9, 1, 7, 0, 2, 2, 0, 4, 8, 0, 8, 8, 9, 5, 9, 4, 0, 3, 5, 9, 4, 2, 2, 4, 7, 5, 1, 8, 7, 7, 0, 7, 7, 0, 5, 2, 7, 6, 9, 4, 5, 5, 4, 1, 0, 4, 2, 2, 3, 1, 6, 0, 9, 3, 7, 2, 7, 8, 7, 5, 2, 9, 7, 0, 3, 0, 7, 4, 2, 0, 5, 8, 3, 4, 7, 0, 0, 7, 9, 7, 4, 7, 9, 2, 8, 1, 8, 6, 2, 4, 6, 2, 2, 5, 3, 3, 7, 6, 7, 8, 8, 6, 3, 1, 8, 8, 6, 9, 4, 1, 9, 3, 7, 1, 0, 3, 2, 2, 8, 2, 1, 1, 5, 5, 2, 2, 1, 0, 7, 7, 6, 9, 8, 4, 0, 8, 8, 7, 2, 0, 2, 6, 0, 7, 8, 0, 6, 4, 4, 9, 7, 7, 2, 4, 1, 7, 8, 8, 0, 6, 9, 6, 6, 9, 0, 5, 4, 5, 5, 0, 5, 1, 8, 1, 8, 1, 8, 6, 3, 5, 4, 4, 0, 8, 5, 5, 9, 1, 7, 2, 3, 8, 8, 0, 9, 5, 8, 4, 8, 7, 6, 1, 1, 3, 1, 5, 5, 6, 6, 4, 7, 1, 6, 0, 5, 9, 1, 1, 1, 1, 3, 8, 2, 1, 2, 6, 5, 5, 5, 0, 9, 4, 1, 7, 7, 9, 8, 4, 1, 1, 4, 6, 5, 6, 3, 4, 5, 0, 6, 3, 7, 4, 5, 9, 0, 2, 6, 6, 3, 4, 8, 9, 4, 2, 0, 3, 0, 5, 5, 7, 0, 3, 4, 8, 0, 3, 3, 9, 8, 4, 2, 3, 7, 8, 1, 1, 1, 8, 6, 0, 0, 0, 8, 5, 0, 2, 7, 3, 0, 6, 5, 4, 7, 0, 1, 8, 5, 2, 6, 7, 7, 1, 2, 8, 7, 1, 2, 2, 1, 9, 7, 1, 2, 6, 7, 8, 7, 0, 9, 8, 2, 5, 4, 3, 9, 2, 9, 0, 8, 8, 8, 6, 1, 8, 8, 6, 3, 7, 9, 4, 0, 0, 2, 2, 0, 5, 5, 4, 2, 8, 3, 8, 1, 1, 8, 5, 9, 7, 6, 1, 3, 5, 7, 1, 8, 6, 1, 1, 8, 5, 5, 6, 9, 6, 1, 7, 6, 0, 9, 3, 0, 8, 3, 4, 8, 9, 1, 9, 2, 2, 9, 8, 9, 7, 6, 2, 5, 3, 7, 1, 0, 6, 0, 2, 7, 2, 1, 2, 4, 1, 5, 6, 6, 3, 1, 3, 5, 5, 8, 1, 4, 2, 3, 2, 1, 2, 8, 9, 5, 0, 7, 6, 7, 6, 8, 8, 7, 4, 9, 1, 2, 6, 5, 9, 4, 2, 5, 1, 0, 1, 1, 9, 0, 7, 5, 3, 9, 6, 3, 3, 3, 4, 1, 5, 9, 7, 7, 2, 9, 0, 2, 8, 5, 9, 6, 7, 8, 4, 0, 4, 9, 2, 7, 1, 0, 5, 1, 8, 1, 6, 5, 9, 7, 0, 4, 5, 2, 3, 5, 5, 6, 0, 2, 1, 1, 5, 8, 5, 2, 4, 2, 2, 5, 3, 0, 3, 0, 2, 9, 1, 1, 7, 3, 8, 5, 4, 5, 9, 6, 5, 6, 4, 4, 5, 5, 1, 1, 5, 6, 2, 5, 0, 8, 6, 2, 2, 6, 8, 8, 6, 7, 4, 0, 4, 1, 5, 4, 2, 0, 3, 0, 9, 5, 7, 8, 1, 1, 7, 8, 8, 3, 0, 0, 4, 7, 9, 6, 0, 9, 9, 9, 2, 1, 1, 7, 4, 3, 7, 5, 5, 7, 9, 3, 6, 9, 7, 5, 7, 1, 7, 0, 5, 6, 7, 3, 0, 4, 5, 1, 1, 8, 8, 6, 3, 2, 9, 7, 8, 1, 3, 9, 8, 6, 9, 2, 4, 4, 1, 4, 2, 4, 5, 2, 0, 1, 5, 1, 2, 1, 2, 0, 2, 4, 4, 1, 1, 2, 9, 5, 6, 4, 2, 8, 7, 2, 7, 4, 0, 2, 6, 5, 8, 8, 9, 7, 7, 3, 0, 4, 1, 3, 0, 0, 8, 7, 5, 9, 8, 7, 5, 0, 1, 4, 5, 6, 9, 2, 2, 3, 4, 5, 4, 6, 1, 8, 0, 7, 0, 7, 8, 4, 5, 6, 8, 0, 3, 4, 4, 5, 9, 5, 3, 2, 1, 1, 2, 1, 2, 3, 7, 8, 0, 8, 6, 0, 2, 4, 9, 8, 8, 7, 0, 3, 2, 6, 8, 6, 5, 3, 3, 7, 4, 5, 9, 1, 4, 3, 3, 7, 5, 6, 9, 2, 4, 4, 0, 5, 8, 4, 5, 9, 3, 1, 9, 9, 2, 8, 6, 7, 9, 5, 2, 5, 8, 1, 5, 0, 2, 0, 9, 8, 5, 7, 0, 4, 7, 3, 5, 8, 3, 6, 2, 9, 5, 6, 5, 2, 7, 8, 1, 0, 7, 2, 2, 9, 2, 8, 1, 0, 7, 7, 8, 9, 4, 4, 0, 9, 7, 1, 7, 9, 7, 7, 8, 3, 4, 0, 6, 0, 0, 7, 7, 3, 8, 7, 4, 4, 2, 8, 1, 0, 5, 4, 8, 8, 1, 1, 7, 8, 4, 4, 2, 3, 2, 2, 7, 5, 1, 1, 3, 8, 3, 9, 1, 4, 9, 2, 0, 4, 6, 2, 1, 8, 5, 4, 2, 3, 5, 2, 3, 2, 6, 5, 8, 7, 6, 1, 0, 8, 1, 3, 6, 1, 2, 6, 1, 6, 0, 7, 4, 5, 4, 5, 9, 8, 2, 5, 4, 8, 8, 8, 2, 6, 2, 8, 8, 1, 0, 4, 5, 0, 0, 4, 5, 2, 9, 6, 4, 4, 8, 1, 2, 2, 8, 1, 0, 6, 0, 7, 0, 5, 3, 2, 5, 8, 1, 9, 4, 7, 7, 8, 4, 7, 1, 5, 9, 7, 8, 9, 4, 1, 4, 7, 6, 0, 9, 9, 5, 7, 6, 1, 3, 2, 3, 3, 0, 6, 8, 9, 5, 9, 7, 1, 6, 2, 4, 3, 3, 6, 4, 5, 0, 7, 4, 6, 0, 2, 0, 9, 7, 4, 8, 2, 6, 0, 0, 3, 8, 6, 0, 6, 3, 2, 1, 4, 9, 4, 7, 5, 9, 9, 6, 5, 9, 3, 6, 6, 4, 2, 5, 4, 2, 2, 8, 3, 0, 0, 9, 4, 8, 8, 1, 5, 0, 6, 0, 1, 8, 9, 9, 1, 7, 0, 3, 2, 4, 9, 5, 9, 7, 8, 1, 5, 2, 8, 2, 6, 0, 3, 2, 7, 7, 2, 1, 4, 9, 1, 4, 9, 7, 2, 4, 6, 3, 5, 6, 8, 3, 2, 5, 2, 8, 9, 1, 2, 0, 1, 9, 5, 0, 2, 5, 9, 5, 3, 2, 6, 4, 3, 0, 0, 5, 1, 5, 1, 4, 1, 9, 5, 4, 7, 3, 9, 5, 6, 4, 2, 6, 9, 9, 0, 2, 5, 9, 4, 5, 9, 3, 1, 6, 2, 6, 5, 0, 0, 8, 2, 1, 6, 0, 1, 2, 1, 3, 3, 8, 3, 5, 9, 6, 7, 7, 8, 5, 9, 2, 5, 2, 1, 0, 8, 9, 3, 9, 3, 9, 9, 3, 2, 3, 9, 7, 1, 1, 3, 9, 2, 2, 8, 3, 4, 2, 1, 5, 4, 2, 9, 7, 6, 4, 6, 4, 4, 7, 1, 7, 3, 8, 8, 3, 1, 0, 6, 6, 1, 4, 6, 3, 2, 5, 0, 1, 4, 9, 7, 7, 4, 0, 6, 0, 0, 5, 4, 6, 2, 8, 2, 0, 3, 3, 1, 4, 6, 9, 8, 7, 8, 5, 3, 2, 9, 1, 7, 9, 8, 2, 1, 4, 2, 8, 8, 9, 3, 8, 6, 1, 3, 5, 3, 4, 4, 5, 8, 9, 2, 4, 7, 6, 2, 1, 3, 4, 8, 7, 4, 4, 3, 2, 0, 5, 7, 1, 4, 2, 2, 0, 3, 7, 9, 9, 4, 9, 1, 9, 0, 2, 6, 4, 6, 0, 6, 4, 1, 0, 0, 4, 8, 4, 6, 7, 6, 4, 6, 1, 0, 7, 8, 5, 7, 0, 0, 5, 9, 3, 9, 7, 9, 8, 6, 7, 2, 8, 4, 1, 6, 1, 9, 3, 8, 1, 4, 1, 5, 6, 9, 8, 7, 8, 4, 0, 3, 8, 4, 0, 3, 5, 9, 4, 0, 2, 4, 0, 7, 9, 2, 3, 6, 0, 5, 0, 2, 7, 6, 3, 7, 9, 3, 7, 2, 5, 8, 7, 1, 7, 5, 3, 7, 8, 9, 1, 0, 8, 2, 4, 0, 2, 4, 2, 9, 9, 9, 1, 9, 3, 9, 0, 3, 5, 8, 1, 2, 5, 3, 0, 7, 6, 2, 4, 5, 0, 4, 5, 8, 4, 7, 2, 7, 8, 5, 9, 2, 2, 6, 5, 5, 2, 1, 5, 0, 7, 3, 8, 8, 4, 2, 5, 9, 2, 2, 5, 4, 4, 5, 2, 5, 3, 8, 9, 9, 8, 8, 6, 1, 7, 2, 4, 8, 9, 3, 1, 6, 3, 7, 0, 4, 8, 0, 0, 4, 9, 2, 5, 4, 7, 3, 9, 9, 8, 0, 6, 1, 1, 1, 3, 8, 0, 9, 1, 6, 5, 1, 5, 6, 1, 9, 9, 5, 7, 6, 0, 5, 8, 1, 7, 4, 8, 1, 0, 6, 5, 2, 8, 5, 6, 3, 6, 3, 5, 1, 6, 6, 3, 6, 4, 0, 5, 3, 1, 3, 5, 3, 1, 1, 4, 7, 5, 7, 8, 1, 6, 4, 3, 9, 4, 0, 0, 1, 4, 8, 2, 8, 2, 7, 2, 9, 6, 9, 2, 3, 3, 5, 6, 8, 8, 8, 5, 9, 8, 8, 8, 5, 2, 7, 1, 3, 1, 8, 6, 3, 3, 5, 0, 8, 1, 3, 9, 7, 0, 1, 1, 9, 4, 7, 0, 0, 7, 9, 7, 5, 8, 8, 5, 5, 2, 7, 5, 5, 4, 6, 2, 2, 2, 6, 9, 5, 6, 7, 2, 6, 4, 5, 1, 3, 5, 8, 1, 0, 7, 5, 0, 8, 1, 9, 1, 3, 5, 4, 6, 8, 8, 3, 3, 7, 7, 5, 7, 8, 8, 1, 2, 6, 4, 2, 5, 1, 2, 7, 4, 8, 6, 2, 4, 1, 9, 0, 2, 0, 9, 1, 2, 4, 9, 5, 2, 2, 3, 9, 1, 9, 6, 1, 6, 5, 5, 7, 4, 4, 2, 2, 5, 4, 1, 6, 8, 8, 6, 7, 8, 2, 1, 7, 7, 1, 1, 9, 6, 7, 8, 8, 1, 5, 7, 8, 2, 6, 9, 7, 3, 1, 0, 8, 7, 6, 2, 3, 1, 3, 5, 1, 4, 7, 1, 1, 6, 8, 5, 6, 7, 0, 7, 7, 2, 8, 1, 7, 4, 3, 8, 7, 0, 8, 2, 8, 6, 2, 2, 5, 2, 9, 8, 3, 7, 6, 3, 6, 9, 8, 9, 9, 7, 8, 0, 8, 4, 2, 1, 6, 0, 6, 9, 3, 2, 3, 9, 3, 6, 3, 1, 6, 5, 2, 2, 0, 6, 3, 3, 6, 8, 2, 2, 2, 6, 9, 8, 8, 8, 8, 6, 2, 4, 6, 4, 7, 4, 4, 0, 7, 3, 2, 5, 3, 9, 5, 8, 7, 1, 4, 6, 6, 3, 0, 6, 7, 9, 2, 6, 8, 6, 9, 0, 3, 7, 8, 3, 4, 6, 6, 2, 7, 2, 4, 0, 7, 1, 5, 2, 4, 7, 2, 3, 8, 0, 7, 9, 4, 5, 2, 6, 0, 8, 9, 7, 2, 2, 5, 2, 2, 8, 8, 3, 6, 2, 1, 3, 7, 4, 0, 4, 6, 9, 1, 8, 1, 7, 4, 4, 5, 9, 7, 2, 7, 0, 1, 1, 9, 5, 8, 3, 7, 7, 8, 2, 2, 9, 1, 3, 4, 8, 9, 1, 9, 8, 3, 5, 3, 9, 2, 4, 5, 4, 2, 5, 1, 8, 7, 5, 0, 5, 6, 5, 3, 5, 2, 8, 6, 8, 9, 3, 5, 7, 6, 9, 2, 7, 5, 6, 8, 6, 5, 4, 6, 8, 5, 1, 3, 4, 0, 1, 4, 7, 8, 0, 5, 0, 8, 7, 8, 7, 6, 1, 0, 6, 3, 3, 1, 9, 3, 1, 8, 4, 3, 5, 4, 9, 2, 4, 6, 8, 9, 1, 5, 2, 6, 2, 7, 8, 3, 4, 8, 6, 9, 5, 3, 3, 1, 0, 2, 9, 9, 6, 8, 5, 4, 9, 8, 1, 5, 5, 0, 3, 5, 6, 8, 7, 0, 1, 6, 1, 0, 7, 6, 8, 9, 8, 9, 1, 4, 5, 4, 1, 8, 7, 6, 5, 0, 8, 3, 2, 0, 4, 8, 6, 6, 4, 2, 6, 9, 2, 5, 4, 9, 2, 8, 0, 1, 8, 5, 8, 3, 4, 0, 4, 4, 1, 2, 2, 6, 2, 5, 4, 5, 1, 3, 9, 8, 0, 5, 8, 7, 7, 1, 2, 9, 7, 1, 8, 0, 6, 0, 5, 8, 3, 8, 4, 6, 4, 7, 1, 7, 7, 3, 2, 9, 2, 9, 8, 7, 1, 6, 1, 4, 4, 6, 6, 3, 4, 0, 0, 9, 2, 9, 1, 8, 8, 7, 1, 2, 4, 9, 4, 2, 9, 9, 2, 9, 4, 1, 7, 8, 7, 6, 5, 5, 1, 6, 2, 1, 8, 3, 7, 9, 5, 6, 5, 6, 8, 4, 3, 6, 4, 7, 5, 2, 2, 4, 9, 6, 7, 6, 2, 8, 9, 6, 2, 8, 9, 8, 5, 7, 0, 6, 2, 7, 2, 9, 3, 6, 9, 7, 9, 1, 1, 8, 5, 6, 6, 5, 0, 9, 7, 4, 8, 6, 4, 3, 9, 8, 7, 4, 4, 2, 7, 6, 8, 1, 0, 5, 6, 6, 6, 4, 3, 9, 0, 5, 0, 4, 5, 3, 9, 9, 7, 8, 7, 2, 5, 7, 5, 9, 8, 0, 9, 2, 5, 2, 9, 3, 2, 0, 6, 1, 6, 5, 4, 6, 6, 0, 2, 4, 1, 3, 5, 4, 8, 0, 9, 6, 3, 3, 9, 3, 9, 3, 3, 7, 8, 4, 8, 9, 8, 9, 7, 5, 3, 7, 1, 2, 0, 6, 8, 8, 6, 4, 6, 3, 1, 3, 9, 8, 4, 3, 2, 6, 6, 7, 1, 8, 0, 6, 5, 8, 1, 7, 4, 4, 0, 9, 1, 7, 1, 5, 0, 9, 6, 6, 7, 8, 7, 8, 1, 0, 9, 6, 5, 3, 3, 0, 5, 3, 2, 7, 8, 7, 9, 6, 1, 9, 0, 1, 9, 7, 0, 7, 4, 5, 5, 8, 2, 4, 2, 7, 5, 0, 1, 7, 4, 3, 4, 9, 0, 6, 1, 5, 2, 8, 5, 0, 4, 4, 8, 7, 3, 0, 8, 4, 0, 4, 6, 2, 4, 2, 5, 7, 0, 8, 6, 2, 8, 8, 9, 9, 9, 1, 3, 5, 2, 3, 2, 5, 2, 4, 8, 3, 7, 3, 5, 0, 2, 0, 2, 6, 7, 0, 6, 9, 9, 4, 2, 7, 4, 0, 2, 9, 7, 6, 3, 0, 8, 0, 5, 6, 0, 6, 1, 9, 3, 8, 1, 4, 8, 0, 0, 8, 5, 4, 4, 9, 7, 3, 1, 4, 2, 9, 2, 9, 6, 2, 0, 3, 0, 9, 8, 9, 3, 8, 9, 7, 4, 5, 4, 4, 1, 5, 9, 5, 6, 6, 2, 3, 9, 4, 0, 8, 9, 3, 1, 2, 5, 8, 3, 0, 2, 3, 3, 0, 3, 9, 1, 7, 0, 7, 2, 7, 2, 7, 3, 9, 7, 9, 1, 3, 1, 7, 9, 9, 8, 2, 2, 1, 4, 6, 8, 3, 0, 6, 9, 9, 7, 8, 4, 3, 2, 8, 8, 5, 7, 4, 7, 0, 1, 0, 6, 9, 6, 0, 5, 5, 6, 6, 5, 8, 4, 1, 8, 0, 8, 0, 8, 7, 9, 1, 7, 6, 8, 4, 3, 5, 0, 0, 3, 0, 9, 3, 9, 4, 4, 1, 5, 6, 4, 3, 5, 0, 0, 8, 1, 7, 6, 5, 7, 6, 7, 9, 8, 4, 9, 8, 0, 6, 9, 3, 0, 1, 4, 9, 5, 0, 2, 1, 8, 4, 3, 1, 0, 3, 8, 9, 0, 4, 7, 4, 8, 5, 9, 2, 8, 4, 5, 2, 8, 4, 8, 7, 0, 4, 4, 7, 7, 4, 2, 0, 2, 9, 3, 1, 1, 7, 3, 7, 2, 4, 9, 4, 4, 3, 1, 8, 7, 2, 0, 2, 1, 3, 8, 6, 4, 0, 7, 0, 1, 3, 2, 8, 8, 5, 3, 0, 8, 2, 7, 2, 8, 2, 5, 6, 7, 5, 9, 6, 6, 6, 0, 5, 7, 6, 6, 0, 7, 1, 8, 3, 8, 5, 2, 7, 9, 8, 8, 3, 6, 8, 2, 6, 0, 5, 0, 1, 1, 4, 0, 8, 3, 3, 4, 7, 2, 0, 2, 0, 3, 9, 6, 7, 7, 4, 6, 5, 2, 4, 3, 6, 4, 3, 5, 8, 7, 6, 6, 0, 7, 3, 0, 1, 0, 3, 3, 2, 9, 7, 2, 1, 0, 6, 4, 7, 4, 3, 7, 1, 2, 2, 8, 6, 3, 8, 5, 8, 5, 7, 8, 2, 5, 0, 7, 6, 6, 0, 2, 1, 9, 7, 8, 9, 3, 0, 4, 4, 8, 8, 3, 4, 3, 5, 1, 6, 0, 2, 2, 1, 4, 0, 8, 1, 8, 8, 8, 9, 2, 5, 7, 2, 0, 1, 9, 1, 8, 9, 2, 4, 0, 2, 5, 2, 0, 0, 7, 1, 7, 1, 9, 7, 4, 1, 6, 4, 9, 4, 6, 7, 2, 6, 8, 1, 7, 3, 0, 8, 7, 0, 3, 3, 5, 8, 2, 7, 6, 5, 3, 4, 4, 3, 6, 0, 4, 3, 4, 2, 3, 7, 5, 5, 7, 8, 4, 6, 4, 6, 6, 0, 4, 8, 3, 4, 8, 2, 7, 7, 8, 5, 9, 9, 8, 9, 4, 5, 3, 5, 3, 3, 5, 8, 7, 8, 9, 1, 6, 5, 8, 7, 6, 2, 4, 6, 0, 8, 9, 5, 8, 8, 7, 1, 6, 2, 3, 1, 4, 7, 2, 9, 9, 4, 9, 0, 4, 7, 9, 3, 7, 5, 6, 9, 1, 0, 1, 2, 9, 6, 3, 4, 8, 7, 8, 9, 0, 3, 4, 6, 0, 8, 8, 4, 3, 8, 1, 1, 5, 0, 0, 6, 0, 3, 0, 7, 7, 4, 9, 5, 6, 7, 2, 7, 5, 2, 4, 8, 4, 7, 1, 6, 3, 4, 8, 1, 9, 4, 4, 5, 4, 5, 0, 7, 0, 0, 8, 9, 1, 9, 5, 7, 0, 0, 8, 3, 7, 6, 6, 8, 5, 2, 1, 4, 1, 3, 0, 1, 3, 3, 2, 7, 6, 6, 8, 4, 2, 6, 3, 7, 2, 8, 6, 7, 9, 3, 0, 7, 2, 2, 6, 0, 6, 6, 2, 9, 0, 8, 3, 8, 9, 0, 5, 1, 0, 4, 2, 9, 3, 8, 8, 8, 9, 2, 4, 3, 7, 0, 9, 1, 1, 8, 6, 7, 2, 9, 1, 0, 9, 6, 5, 8, 1, 7, 5, 6, 5, 4, 9, 4, 4, 5, 6, 8, 0, 6, 2, 5, 8, 9, 8, 6, 5, 5, 1, 6, 5, 3, 0, 4, 8, 9, 7, 5, 6, 5, 8, 4, 5, 4, 1, 5, 4, 0, 2, 2, 6, 3, 5, 5, 4, 5, 4, 8, 5, 6, 4, 5, 5, 1, 2, 3, 2, 9, 1, 6, 3, 8, 7, 2, 5, 4, 8, 9, 5, 4, 8, 5, 3, 3, 1, 6, 2, 0, 0, 8, 5, 8, 5, 8, 1, 9, 0, 8, 9, 4, 3, 3, 5, 3, 1, 9, 5, 2, 9, 8, 6, 4, 6, 6, 0, 2, 6, 1, 8, 5, 5, 5, 8, 6, 4, 6, 6, 0, 6, 8, 0, 0, 7, 8, 5, 9, 9, 6, 3, 4, 1, 0, 0, 1, 8, 7, 5, 4, 5, 4, 4, 6, 5, 8, 8, 7, 2, 5, 4, 9, 0, 6, 0, 5, 6, 2, 4, 5, 7, 5, 1, 3, 8, 2, 3, 6, 5, 7, 9, 6, 3, 5, 9, 5, 8, 4, 4, 4, 0, 7, 8, 0, 5, 3, 1, 3, 3, 9, 1, 5, 2, 5, 9, 5, 4, 7, 6, 5, 2, 9, 6, 0, 8, 2, 5, 6, 1, 4, 4, 9, 3, 9, 9, 6, 0, 0, 4, 6, 0, 2, 7, 8, 6, 5, 8, 5, 1, 3, 2, 3, 1, 9, 6, 3, 8, 1, 4, 0, 2, 7, 6, 1, 7, 2, 4, 3, 5, 0, 5, 4, 0, 4, 8, 5, 3, 3, 7, 9, 0, 6, 4, 8, 4, 4, 5, 6, 7, 4, 2, 8, 2, 9, 9, 7, 4, 9, 8, 2, 3, 2, 3, 1, 5, 7, 4, 4, 5, 7, 3, 2, 3, 6, 7, 7, 2, 7, 3, 1, 2, 0, 9, 2, 8, 5, 4, 0, 1, 6, 8, 0, 1, 5, 6, 4, 5, 4, 6, 4, 7, 8, 4, 7, 9, 0, 9, 8, 5, 4, 2, 7, 2, 2, 1, 6, 0, 9, 9, 2, 6, 3, 8, 4, 4, 7, 1, 3, 4, 3, 3, 7, 2, 8, 1, 7, 2, 2, 8, 9, 8, 1, 3, 1, 4, 5, 0, 1, 8, 7, 2, 1, 6, 8, 5, 1, 0, 0, 4, 0, 3, 3, 3, 2, 2, 5, 2, 5, 7, 4, 6, 5, 8, 9, 8, 0, 9, 0, 9, 7, 7, 2, 0, 5, 7, 8, 9, 8, 3, 0, 5, 0, 5, 1, 8, 5, 4, 3, 3, 2, 4, 5, 6, 7, 2, 7, 3, 6, 0, 4, 1, 9, 2, 8, 4, 0, 4, 1, 7, 8, 7, 6, 5, 1, 8, 1, 4, 1, 5, 9, 6, 0, 7, 2, 2, 1, 1, 9, 4, 3, 3, 6, 6, 0, 4, 6, 1, 2, 9, 7, 4, 4, 4, 9, 8, 4, 8, 1, 0, 1, 8, 4, 2, 2, 0, 3, 1, 3, 4, 8, 1, 0, 0, 6, 4, 5, 6, 9, 0, 1, 6, 1, 4, 7, 0, 6, 1, 0, 5, 6, 1, 3, 2, 8, 7, 4, 3, 0, 5, 2, 1, 4, 4, 6, 3, 2, 2, 6, 4, 3, 9, 2, 5, 9, 1, 2, 8, 4, 5, 4, 2, 1, 2, 5, 5, 4, 5, 6, 7, 2, 3, 4, 2, 5, 1, 5, 1, 7, 6, 2, 5, 4, 5, 1, 0, 9, 8, 3, 5, 5, 1, 8, 2, 7, 0, 9, 1, 0, 3, 7, 5, 6, 5, 4, 8, 0, 3, 5, 0, 7, 7, 4, 7, 9, 3, 3, 0, 7, 7, 2, 1, 4, 3, 5, 3, 8, 4, 3, 4, 0, 2, 9, 0, 6, 4, 6, 6, 0, 4, 4, 3, 8, 4, 7, 3, 9, 2, 4, 2, 0, 6, 7, 4, 8, 8, 0, 3, 7, 7, 1, 9, 1, 3, 5, 2, 2, 7, 8, 1, 6, 4, 6, 2, 9, 6, 8, 8, 4, 3, 8, 6, 2, 9, 0, 1, 0, 9, 8, 0, 6, 0, 3, 5, 5, 6, 1, 3, 3, 5, 5, 9, 9, 9, 4, 5, 6, 9, 0, 7, 1, 8, 2, 3, 9, 2, 8, 0, 2, 2, 7, 0, 1, 0, 5, 5, 8, 2, 4, 8, 9, 0, 2, 3, 5, 4, 6, 5, 6, 7, 6, 0, 9, 4, 2, 7, 5, 5, 0, 4, 4, 2, 4, 9, 3, 7, 9, 9, 6, 0, 2, 6, 6, 2, 5, 7, 7, 6, 2, 4, 8, 4, 0, 2, 5, 1, 6, 4, 2, 0, 0, 3, 4, 2, 0, 4, 0, 6, 2, 2, 9, 8, 7, 4, 7, 3, 3, 7, 6, 4, 0, 2, 1, 8, 5, 2, 6, 8, 9, 1, 1, 6, 0, 6, 2, 1, 3, 9, 6, 8, 2, 6, 5, 7, 8, 5, 7, 6, 0, 7, 3, 1, 8, 9, 2, 6, 6, 5, 9, 1, 8, 8, 0, 0, 4, 2, 5, 8, 5, 5, 2, 4, 3, 7, 0, 7, 4, 2, 9, 0, 4, 7, 7, 9, 6, 6, 0, 4, 1, 1, 3, 3, 2, 0, 6, 7, 5, 3, 6, 5, 4, 1, 3, 8, 4, 1, 2, 0, 7, 6, 9, 2, 5, 6, 1, 1, 8, 6, 5, 5, 6, 5, 2, 3, 5, 3, 7, 9, 0, 9, 1, 8, 3, 1, 2, 5, 1, 0, 7, 2, 1, 8, 7, 3, 0, 8, 9, 4, 1, 7, 7, 8, 0, 6, 4, 9, 4, 4, 9, 4, 0, 9, 9, 4, 4, 4, 9, 2, 7, 9, 2, 7, 5, 0, 7, 4, 1, 6, 4, 7, 6, 3, 4, 1, 0, 8, 6, 4, 7, 2, 0, 6, 5, 4, 6, 1, 5, 5, 2, 3, 5, 0, 7, 8, 3, 6, 8, 3, 1, 4, 5, 3, 7, 5, 1, 4, 6, 7, 0, 9, 2, 6, 0, 6, 1, 4, 9, 5, 6, 9, 4, 2, 1, 4, 4, 1, 9, 5, 1, 4, 0, 1, 8, 4, 1, 7, 8, 5, 6, 6, 8, 8, 1, 7, 0, 5, 9, 0, 5, 6, 0, 2, 1, 7, 9, 7, 2, 2, 9, 3, 0, 0, 9, 8, 9, 6, 9, 6, 3, 3, 9, 6, 2, 2, 9, 5, 4, 0, 4, 6, 5, 3, 8, 4, 7, 7, 9, 4, 1, 9, 3, 2, 6, 9, 3, 8, 4, 8, 5, 0, 5, 7, 2, 4, 6, 7, 4, 4, 3, 2, 9, 0, 1, 3, 2, 5, 2, 5, 1, 9, 8, 3, 2, 7, 7, 1, 2, 1, 6, 2, 7, 2, 8, 5, 2, 7, 9, 0, 9, 1, 7, 8, 4, 4, 0, 9, 1, 0, 9, 8, 1, 2, 4, 5, 3, 5, 3, 7, 5, 3, 3, 2, 3, 6, 7, 6, 9, 9, 8, 5, 2, 5, 8, 9, 3, 0, 9, 1, 9, 2, 9, 2, 7, 3, 7, 0, 4, 1, 7, 9, 1, 2, 5, 9, 3, 3, 3, 3, 5, 0, 4, 7, 0, 0, 6, 3, 0, 5, 9, 2, 9, 5, 2, 0, 0, 7, 7, 9, 6, 1, 3, 1, 8, 0, 3, 7, 8, 4, 6, 7, 0, 1, 3, 6, 8, 3, 3, 5, 9, 4, 0, 4, 5, 1, 3, 5, 9, 6, 7, 8, 1, 4, 3, 6, 1, 0, 3, 2, 3, 4, 3, 7, 9, 0, 2, 1, 5, 2, 6, 5, 6, 9, 8, 4, 9, 7, 0, 5, 4, 0, 3, 8, 0, 5, 8, 3, 9, 5, 5, 0, 7, 3, 0, 6, 3, 7, 3, 0, 0, 0, 6, 8, 0, 2, 9, 7, 0, 5, 6, 3, 8, 6, 0, 6, 9, 6, 0, 0, 4, 6, 0, 8, 3, 1, 7, 6, 7, 3, 5, 9, 2, 4, 1, 2, 5, 3, 6, 5, 6, 5, 4, 3, 2, 1, 1, 1, 1, 7, 1, 1, 0, 2, 9, 9, 5, 6, 6, 9, 9, 2, 1, 1, 4, 0, 5, 9, 2, 4, 2, 8, 1, 6, 6, 8, 8, 5, 8, 1, 8, 3, 8, 0, 2, 4, 8, 5, 0, 7, 1, 0, 9, 5, 5, 7, 4, 2, 3, 5, 1, 4, 8, 0, 5, 0, 2, 0, 7, 4, 1, 9, 2, 0, 5, 5, 9, 8, 3, 8, 1, 6, 8, 6, 6, 6, 4, 1, 3, 9, 6, 2, 0, 7, 8, 1, 9, 3, 6, 6, 9, 3, 3, 7, 1, 1, 1, 7, 2, 4, 0, 4, 3, 8, 3, 0, 4, 9, 1, 9, 2, 1, 5, 2, 4, 5, 3, 3, 5, 2, 5, 0, 0, 7, 5, 4, 1, 6, 2, 3, 8, 3, 2, 0, 1, 2, 3, 9, 1, 5, 8, 6, 8, 6, 8, 4, 9, 4, 5, 4, 2, 2, 5, 5, 2, 9, 8, 3, 7, 4, 7, 4, 6, 0, 9, 1, 0, 0, 3, 5, 1, 7, 7, 7, 6, 3, 3, 6, 1, 4, 8, 1, 0, 9, 5, 7, 2, 4, 2, 7, 1, 0, 7, 4, 2, 1, 6, 6, 2, 4, 2, 1, 0, 9, 6, 7, 8, 7, 8, 7, 1, 0, 0, 3, 7, 0, 8, 9, 6, 1, 6, 0, 9, 7, 8, 2, 3, 8, 8, 3, 4, 5, 1, 1, 5, 5, 6, 2, 4, 2, 7, 9, 8, 6, 5, 0, 9, 8, 4, 3, 0, 8, 2, 0, 6, 5, 6, 2, 6, 1, 4, 7, 3, 4, 7, 8, 3, 7, 1, 4, 6, 7, 2, 0, 8, 4, 4, 3, 2, 1, 9, 1, 4, 8, 4, 5, 3, 9, 7, 7, 1, 8, 3, 3, 6, 2, 1, 4, 9, 7, 6, 8, 9, 8, 7, 2, 5, 1, 1, 2, 7, 3, 7, 0, 5, 5, 4, 1, 9, 8, 6, 5, 9, 5, 7, 2, 6, 9, 2, 3, 2, 9, 1, 7, 9, 5, 8, 8, 4, 3, 2, 9, 4, 5, 7, 2, 2, 6, 1, 0, 4, 8, 1, 0, 6, 9, 5, 4, 1, 9, 7, 1, 6, 4, 6, 2, 0, 9, 5, 3, 7, 3, 7, 8, 1, 6, 5, 1, 7, 6, 0, 2, 4, 5, 3, 1, 0, 8, 9, 2, 5, 0, 0, 3, 8, 2, 4, 3, 2, 6, 8, 7, 7, 8, 5, 8, 9, 9, 5, 4, 5, 3, 9, 9, 2, 9, 1, 9, 3, 7, 2, 1, 3, 8, 3, 1, 5, 2, 3, 2, 3, 2, 0, 3, 9, 2, 4, 6, 7, 9, 2, 7, 3, 7, 5, 2, 8, 9, 5, 3, 7, 1, 7, 8, 8, 8, 5, 9, 9, 8, 7, 2, 1, 5, 9, 1, 5, 9, 3, 0, 9, 6, 1, 5, 6, 6, 7, 3, 8, 0, 1, 9, 6, 5, 6, 2, 1, 2, 4, 9, 0, 7, 8, 4, 4, 6, 6, 5, 2, 0, 0, 7, 4, 1, 9, 9, 4, 4, 8, 8, 0, 3, 2, 3, 8, 7, 7, 4, 9, 9, 1, 4, 3, 7, 7, 3, 6, 1, 1, 2, 1, 7, 2, 0, 6, 6, 4, 7, 3, 0, 2, 2, 8, 2, 6, 7, 2, 8, 1, 4, 1, 8, 2, 6, 9, 3, 2, 9, 5, 0, 9, 1, 2, 7, 6, 9, 5, 5, 8, 1, 4, 2, 9, 8, 4, 6, 6, 9, 0, 3, 7, 3, 3, 2, 6, 2, 2, 8, 8, 8, 3, 5, 5, 3, 6, 2, 0, 9, 9, 9, 4, 2, 4, 4, 7, 1, 6, 1, 0, 8, 6, 6, 4, 8, 3, 8, 6, 2, 6, 5, 7, 3, 1, 8, 4, 0, 6, 8, 6, 1, 2, 4, 1, 1, 5, 3, 5, 0, 6, 7, 7, 7, 3, 0, 8, 9, 3, 0, 6, 7, 8, 7, 1, 1, 0, 1, 0, 6, 9, 4, 5, 2, 9, 9, 5, 7, 2, 2, 5, 4, 5, 5, 6, 3, 3, 8, 4, 0, 0, 2, 0, 8, 0, 4, 4, 9, 6, 5, 3, 5, 0, 8, 4, 0, 6, 5, 6, 6, 0, 9, 3, 2, 4, 3, 9, 9, 9, 6, 4, 4, 1, 3, 0, 0, 7, 0, 4, 8, 6, 0, 7, 2, 5, 1, 8, 4, 1, 6, 9, 5, 6, 0, 9, 3, 1, 5, 6, 6, 3, 7, 4, 1, 1, 9, 5, 1, 8, 8, 4, 6, 5, 4, 6, 1, 3, 6, 4, 8, 7, 2, 0, 6, 1, 0, 1, 5, 8, 3, 2, 5, 5, 5, 4, 5, 9, 9, 7, 1, 5, 7, 7, 6, 1, 3, 4, 3, 5, 0, 0, 6, 3, 5, 9, 6, 1, 9, 7, 3, 2, 9, 7, 8, 8, 1, 9, 2, 6, 6, 7, 5, 9, 5, 5, 4, 4, 9, 5, 2, 3, 5, 5, 3, 1, 5, 8, 8, 8, 4, 2, 8, 6, 7, 7, 3, 1, 9, 7, 1, 1, 2, 9, 1, 8, 1, 6, 1, 3, 7, 9, 0, 7, 0, 6, 6, 6, 1, 5, 2, 6, 1, 2, 7, 2, 5, 6, 3, 3, 5, 4, 7, 0, 4, 1, 5, 6, 9, 0, 5, 3, 4, 0, 0, 4, 6, 3, 6, 5, 7, 4, 9, 9, 2, 2, 6, 1, 8, 0, 6, 9, 3, 2, 4, 9, 2, 5, 9, 2, 9, 6, 8, 3, 8, 3, 2, 1, 8, 3, 2, 6, 3, 5, 0, 7, 9, 6, 1, 4, 9, 2, 3, 0, 3, 5, 6, 7, 7, 1, 7, 9, 3, 7, 3, 2, 1, 1, 8, 8, 5, 3, 6, 8, 9, 7, 1, 2, 4, 3, 7, 3, 4, 0, 5, 9, 2, 3, 1, 5, 8, 8, 1, 9, 0, 3, 1, 0, 9, 5, 4, 7, 9, 1, 5, 4, 1, 5, 5, 4, 5, 7, 9, 1, 0, 6, 5, 7, 2, 9, 2, 4, 7, 1, 2, 1, 3, 4, 9, 8, 2, 1, 4, 8, 0, 9, 1, 7, 3, 8, 9, 1, 6, 8, 0, 6, 6, 3, 7, 6, 0, 2, 9, 6, 6, 3, 3, 3, 6, 2, 1, 1, 2, 7, 8, 7, 2, 5, 4, 6, 8, 9, 6, 6, 6, 7, 0, 7, 6, 3, 5, 2, 9, 3, 1, 3, 6, 0, 7, 1, 4, 6, 7, 9, 8, 2, 3, 8, 4, 3, 1, 2, 0, 2, 0, 8, 4, 5, 7, 3, 5, 4, 2, 7, 9, 8, 2, 0, 3, 7, 5, 5, 9, 2, 8, 6, 8, 2, 8, 1, 4, 7, 8, 9, 0, 4, 8, 0, 9, 9, 4, 4, 4, 1, 5, 5, 2, 8, 5, 5, 0, 0, 9, 4, 8, 5, 0, 0, 9, 3, 3, 9, 1, 6, 0, 8, 8, 4, 6, 7, 3, 2, 7, 9, 6, 7, 6, 6, 3, 8, 6, 2, 5, 4, 3, 2, 9, 5, 9, 5, 1, 8, 5, 7, 7, 6, 7, 4, 2, 8, 3, 3, 5, 0, 8, 4, 9, 7, 7, 5, 2, 0, 9, 0, 2, 9, 6, 9, 0, 1, 5, 8, 2, 8, 0, 6, 3, 3, 5, 8, 7, 4, 7, 6, 0, 9, 0, 0, 0, 7, 0, 0, 3, 9, 5, 7, 1, 3, 3, 2, 8, 3, 9, 3, 3, 8, 8, 8, 6, 4, 9, 2, 3, 4, 2, 2, 2, 6, 3, 3, 8, 7, 0, 4, 2, 2, 8, 1, 3, 4, 0, 0, 0, 5, 7, 9, 9, 6, 7, 5, 1, 7, 2, 1, 1, 6, 7, 6, 0, 1, 8, 9, 2, 2, 6, 2, 6, 8, 2, 0, 1, 1, 1, 9, 3, 2, 8, 2, 2, 1, 8, 1, 8, 3, 0, 6, 1, 9, 0, 8, 3, 7, 0, 4, 9, 3, 0, 9, 7, 9, 7, 5, 2, 8, 5, 5, 0, 7, 9, 5, 4, 6, 4, 3, 1, 7, 1, 9, 0, 1, 2, 1, 7, 8, 5, 5, 0, 6, 4, 0, 4, 8, 0, 0, 8, 2, 7, 0, 9, 5, 8, 7, 3, 3, 4, 0, 4, 4, 9, 0, 6, 8, 3, 5, 6, 1, 8, 3, 4, 6, 5, 0, 8, 2, 3, 4, 2, 5, 1, 1, 6, 0, 4, 6, 3, 2, 9, 7, 3, 3, 1, 2, 4, 8, 5, 0, 5, 3, 7, 4, 0, 9, 2, 3, 3, 6, 3, 2, 7, 4, 7, 2, 5, 2, 8, 0, 8, 6, 2, 4, 5, 8, 5, 9, 6, 3, 5, 7, 2, 9, 8, 6, 5, 1, 0, 5, 7, 7, 5, 4, 4, 1, 4, 8, 2, 9, 9, 4, 7, 0, 3, 4, 7, 0, 0, 1, 1, 3, 9, 5, 6, 8, 2, 4, 8, 8, 3, 9, 5, 0, 9, 0, 5, 0, 3, 1, 0, 5, 0, 0, 3, 1, 3, 9, 6, 4, 6, 8, 4, 4, 6, 4, 1, 9, 2, 0, 6, 8, 4, 9, 2, 1, 6, 8, 9, 5, 3, 3, 3, 7, 6, 8, 1, 8, 7, 5, 6, 9, 8, 0, 3, 2, 2, 4, 0, 6, 4, 5, 0, 5, 1, 5, 9, 0, 5, 9, 4, 9, 1, 6, 6, 2, 8, 9, 8, 6, 8, 4, 7, 4, 9, 0, 5, 8, 3, 4, 7, 7, 0, 4, 1, 9, 6, 2, 5, 5, 4, 9, 2, 1, 2, 8, 7, 4, 1, 7, 1, 5, 2, 9, 2, 2, 9, 0, 6, 5, 8, 0, 8, 6, 0, 1, 9, 1, 3, 9, 8, 6, 2, 1, 4, 9, 2, 8, 8, 5, 2, 7, 0, 5, 0, 2, 8, 1, 7, 0, 1, 1, 8, 1, 5, 7, 3, 7, 9, 0, 0, 9, 6, 3, 1, 9, 8, 2, 7, 7, 2, 5, 0, 4, 3, 6, 9, 2, 8, 9, 2, 2, 2, 7, 0, 8, 8, 1, 7, 8, 0, 6, 9, 2, 5, 8, 9, 0, 6, 2, 9, 6, 4, 0, 6, 9, 6, 5, 9, 0, 5, 5, 1, 3, 3, 1, 1, 0, 3, 4, 0, 5, 0, 2, 2, 8, 7, 7, 3, 3, 2, 3, 9, 4, 5, 7, 4, 8, 1, 6, 6, 0, 1, 7, 2, 5, 2, 0, 1, 3, 4, 2, 7, 3, 9, 0, 4, 0, 1, 2, 5, 5, 1, 3, 1, 4, 9, 8, 4, 1, 4, 7, 9, 7, 7, 7, 6, 7, 5, 0, 5, 5, 2, 2, 8, 8, 1, 8, 9, 6, 6, 3, 2, 2, 0, 3, 2, 6, 4, 1, 2, 5, 4, 9, 6, 0, 1, 6, 2, 1, 6, 9, 2, 4, 0, 9, 2, 0, 0, 2, 1, 2, 1, 8, 7, 1, 5, 4, 7, 2, 2, 6, 0, 2, 3, 8, 4, 1, 5, 2, 8, 2, 0, 1, 8, 9, 2, 7, 3, 7, 6, 5, 9, 8, 8, 8, 9, 5, 3, 6, 2, 5, 6, 6, 5, 5, 4, 7, 8, 1, 8, 8, 3, 1, 4, 0, 8, 5, 3, 6, 6, 7, 3, 7, 4, 1, 0, 6, 0, 6, 3, 5, 1, 0, 3, 2, 3, 8, 1, 2, 5, 4, 9, 5, 1, 4, 2, 1, 5, 6, 6, 0, 1, 4, 2, 4, 2, 2, 2, 3, 9, 7, 0, 5, 1, 1, 2, 4, 7, 4, 6, 7, 0, 9, 7, 3, 6, 4, 1, 7, 9, 7, 6, 9, 8, 7, 7, 7, 5, 1, 0, 8, 5, 3, 8, 0, 4, 3, 8, 3, 8, 5, 4, 0, 1, 2, 0, 4, 2, 9, 2, 6, 8, 3, 1, 5, 7, 0, 4, 2, 1, 5, 6, 8, 2, 3, 3, 1, 9, 5, 9, 4, 1, 7, 5, 3, 7, 0, 1, 1, 5, 9, 3, 6, 9, 1, 4, 5, 0, 9, 3, 0, 1, 3, 0, 5, 5, 1, 9, 6, 6, 6, 3, 9, 7, 3, 1, 0, 6, 2, 4, 2, 5, 3, 5, 9, 3, 7, 6, 3, 1, 5, 4, 4, 1, 1, 3, 9, 6, 4, 8, 2, 5, 2, 2, 4, 8, 7, 9, 0, 1, 1, 5, 5, 4, 0, 1, 8, 9, 6, 6, 2, 3, 7, 9, 2, 9, 9, 0, 5, 5, 2, 5, 3, 2, 5, 5, 1, 1, 2, 8, 5, 7, 0, 7, 7, 2, 2, 5, 3, 2, 4, 9, 7, 3, 8, 6, 0, 0, 5, 8, 2, 1, 2, 0, 4, 3, 1, 3, 4, 3, 2, 0, 6, 9, 5, 4, 4, 2, 2, 5, 7, 2, 7, 0, 6, 4, 4, 9, 0, 1, 4, 0, 2, 2, 2, 8, 6, 7, 7, 5, 6, 2, 1, 0, 5, 2, 9, 4, 8, 0, 5, 7, 4, 7, 5, 5, 1, 8, 9, 3, 3, 2, 8, 1, 3, 5, 9, 3, 8, 8, 3, 9, 5, 4, 3, 5, 0, 8, 3, 0, 6, 5, 4, 5, 1, 1, 1, 7, 3, 6, 2, 6, 3, 2, 5, 4, 7, 3, 9, 1, 0, 8, 0, 8, 7, 6, 1, 5, 7, 2, 8, 6, 3, 7, 9, 8, 2, 3, 7, 9, 4, 3, 6, 3, 4, 9, 7, 0, 9, 7, 6, 9, 6, 6, 0, 0, 9, 0, 6, 9, 4, 2, 4, 8, 6, 8, 1, 8, 2, 5, 4, 7, 6, 2, 7, 2, 5, 9, 6, 0, 0, 6, 0, 9, 2, 4, 6, 4, 3, 9, 0, 0, 8, 0, 4, 4, 7, 9, 2, 1, 5, 1, 1, 5, 4, 0, 7, 2, 2, 8, 7, 1, 2, 4, 7, 5, 6, 2, 5, 3, 7, 0, 5, 2, 0, 0, 0, 1, 6, 4, 5, 0, 7, 6, 3, 2, 6, 7, 0, 8, 4, 6, 0, 8, 1, 2, 5, 1, 6, 9, 2, 4, 9, 2, 0, 5, 1, 0, 8, 8, 5, 0, 7, 0, 6, 9, 2, 7, 1, 9, 2, 8, 0, 8, 4, 7, 2, 7, 2, 5, 7, 9, 3, 0, 5, 7, 3, 6, 4, 5, 3, 2, 8, 3, 2, 0, 4, 7, 6, 3, 9, 7, 9, 5, 2, 4, 8, 5, 3, 2, 4, 8, 8, 1, 0, 2, 3, 2, 2, 8, 7, 5, 5, 1, 9, 4, 9, 9, 6, 9, 6, 6, 0, 2, 4, 4, 2, 2, 0, 5, 6, 1, 3, 9, 3, 3, 6, 9, 4, 2, 0, 1, 8, 1, 6, 5, 4, 3, 1, 0, 2, 6, 2, 7, 2, 0, 8, 7, 1, 0, 2, 3, 9, 8, 0, 9, 9, 1, 2, 3, 9, 7, 4, 6, 2, 4, 3, 9, 1, 9, 6, 4, 2, 6, 8, 3, 5, 9, 0, 0, 5, 4, 8, 7, 4, 1, 7, 2, 5, 9, 1, 3, 6, 0, 1, 8, 3, 9, 1, 8, 4, 8, 3, 8, 5, 9, 0, 9, 8, 6, 7, 6, 6, 7, 4, 3, 1, 7, 2, 8, 4, 0, 0, 4, 6, 9, 1, 8, 7, 2, 6, 2, 8, 2, 6, 5, 3, 7, 9, 1, 7, 1, 1, 1, 6, 7, 2, 3, 4, 3, 6, 5, 3, 3, 0, 6, 7, 3, 0, 1, 7, 6, 1, 0, 2, 5, 1, 7, 6, 0, 2, 0, 3, 6, 2, 0, 8, 5, 4, 4, 0, 3, 0, 2, 8, 7, 6, 2, 9, 1, 6, 3, 8, 6, 4, 3, 1, 9, 8, 2, 4, 5, 7, 4, 6, 2, 2, 9, 5, 6, 4, 1, 3, 4, 6, 4, 9, 5, 8, 4, 1, 5, 9, 2, 3, 7, 8, 1, 7, 2, 2, 9, 9, 3, 1, 6, 6, 6, 4, 7, 5, 0, 4, 9, 6, 9, 0, 2, 2, 4, 6, 1, 6, 9, 0, 3, 8, 3, 2, 4, 6, 9, 3, 1, 6, 9, 7, 9, 6, 1, 8, 0, 6, 3, 2, 2, 3, 7, 7, 4, 1, 8, 9, 8, 1, 0, 3, 8, 4, 9, 8, 3, 8, 3, 8, 8, 9, 6, 0, 1, 2, 9, 9, 4, 2, 5, 8, 2, 8, 3, 3, 0, 4, 8, 8, 3, 6, 5, 8, 0, 3, 7, 1, 7, 7, 4, 2, 3, 8, 3, 5, 8, 7, 2, 0, 9, 6, 0, 6, 1, 8, 4, 9, 3, 5, 9, 8, 8, 3, 2, 8, 8, 8, 7, 7, 9, 6, 3, 5, 7, 3, 1, 5, 7, 6, 4, 9, 0, 7, 6, 3, 6, 7, 2, 6, 9, 3, 7, 5, 7, 2, 7, 9, 2, 0, 9, 1, 7, 5, 6, 6, 4, 1, 2, 9, 6, 1, 2, 1, 5, 3, 1, 5, 4, 8, 5, 0, 9, 2, 6, 0, 2, 8, 9, 9, 4, 1, 5, 3, 5, 1, 4, 8, 9, 8, 6, 9, 1, 6, 6, 8, 2, 4, 2, 0, 9, 9, 0, 3, 1, 8, 8, 3, 7, 4, 7, 9, 5, 3, 0, 8, 6, 7, 1, 6, 1, 6, 0, 9, 8, 5, 6, 4, 4, 4, 3, 9, 2, 2, 2, 6, 4, 0, 0, 3, 0, 9, 1, 3, 8, 7, 8, 4, 1, 7, 4, 1, 8, 8, 1, 8, 6, 5, 4, 3, 6, 3, 8, 1, 3, 5, 8, 5, 0, 5, 7, 5, 7, 4, 3, 5, 7, 5, 4, 8, 9, 4, 3, 3, 7, 2, 3, 8, 1, 4, 7, 9, 3, 3, 0, 4, 9, 6, 8, 6, 7, 5, 4, 3, 1, 4, 0, 2, 6, 4, 5, 6, 7, 7, 7, 8, 5, 4, 3, 5, 1, 2, 2, 7, 5, 1, 6, 9, 2, 7, 9, 4, 7, 9, 6, 0, 8, 1, 4, 2, 1, 4, 8, 1, 9, 0, 6, 0, 0, 8, 7, 3, 0, 9, 0, 8, 1, 8, 6, 5, 1, 6, 0, 9, 8, 8, 4, 2, 7, 5, 3, 9, 5, 8, 0, 0, 0, 8, 0, 0, 9, 0, 4, 9, 9, 8, 4, 9, 4, 2, 6, 0, 0, 3, 1, 7, 0, 6, 5, 5, 0, 9, 4, 9, 3, 1, 4, 9, 3, 5, 6, 1, 5, 7, 5, 0, 0, 8, 3, 6, 6, 5, 3, 3, 2, 9, 6, 5, 9, 4, 3, 7, 6, 3, 2, 7, 4, 4, 5, 9, 2, 2, 2, 0, 7, 9, 3, 6, 3, 1, 2, 9, 9, 6, 9, 7, 2, 8, 1, 0, 8, 8, 6, 7, 5, 5, 1, 4, 9, 3, 9, 7, 7, 0, 3, 3, 3, 2, 0, 2, 3, 4, 5, 9, 4, 4, 3, 5, 3, 3, 0, 0, 1, 3, 0, 0, 1, 5, 2, 7, 3, 6, 0, 7, 0, 4, 4, 3, 9, 5, 9, 2, 0, 7, 9, 7, 1, 3, 7, 6, 8, 2, 3, 5, 7, 2, 1, 4, 3, 5, 3, 5, 6, 9, 6, 7, 3, 5, 9, 9, 6, 7, 5, 7, 6, 2, 0, 4, 1, 3, 4, 6, 1, 0, 4, 9, 2, 7, 9, 0, 2, 1, 9, 0, 3, 5, 1, 7, 2, 6, 1, 8, 1, 1, 6, 7, 3, 1, 0, 7, 7, 2, 1, 6, 3, 5, 7, 4, 6, 0, 2, 2, 0, 2, 4, 5, 2, 6, 9, 7, 6, 4, 6, 4, 5, 7, 7, 4, 9, 1, 3, 2, 8, 3, 1, 7, 1, 3, 2, 7, 8, 8, 1, 5, 3, 5, 4, 9, 2, 5, 5, 8, 7, 1, 2, 0, 8, 0, 0, 9, 1, 0, 8, 0, 5, 6, 2, 0, 8, 2, 2, 5, 2, 4, 5, 4, 2, 6, 4, 7, 9, 8, 9, 3, 6, 2, 2, 1, 0, 6, 3, 0, 5, 5, 2, 8, 9, 5, 1, 5, 3, 2, 5, 3, 0, 6, 2, 2, 5, 9, 0, 6, 7, 6, 5, 1, 9, 8, 1, 4, 9, 4, 4, 1, 5, 9, 8, 8, 5, 5, 2, 8, 3, 9, 1, 5, 2, 6, 7, 8, 9, 3, 2, 3, 8, 1, 9, 3, 3, 8, 3, 1, 5, 8, 3, 1, 7, 2, 3, 6, 9, 1, 3, 7, 4, 0, 9, 5, 2, 5, 8, 4, 0, 1, 5, 4, 9, 9, 3, 2, 9, 7, 7, 4, 5, 9, 3, 9, 1, 0, 6, 7, 7, 1, 1, 5, 4, 2, 4, 4, 7, 1, 4, 5, 5, 7, 6, 7, 3, 1, 8, 9, 6, 1, 6, 7, 8, 5, 2, 5, 6, 2, 7, 9, 1, 8, 0, 1, 0, 7, 7, 5, 9, 3, 5, 2, 2, 0, 1, 1, 4, 5, 9, 3, 2, 1, 3, 3, 2, 8, 0, 6, 0, 7, 5, 0, 3, 8, 7, 8, 5, 4, 7, 4, 5, 0, 1, 8, 9, 9, 5, 9, 9, 9, 5, 6, 6, 9, 2, 3, 9, 3, 2, 8, 1, 9, 4, 3, 8, 7, 8, 0, 5, 2, 0, 3, 4, 6, 8, 0, 8, 5, 4, 1, 9, 2, 7, 6, 9, 4, 4, 2, 6, 9, 2, 9, 8, 3, 4, 2, 8, 1, 5, 1, 4, 1, 6, 2, 7, 1, 9, 5, 4, 9, 7, 4, 6, 9, 0, 9, 9, 7, 6, 5, 1, 5, 2, 4, 2, 1, 6, 1, 0, 1, 5, 5, 5, 7, 6, 2, 4, 0, 9, 1, 3, 5, 8, 9, 7, 7, 7, 6, 4, 3, 8, 8, 8, 3, 2, 0, 2, 0, 4, 1, 7, 1, 8, 6, 7, 4, 3, 7, 8, 7, 7, 3, 2, 0, 4, 1, 9, 3, 3, 7, 7, 0, 0, 0, 3, 5, 4, 9, 7, 5, 8, 6, 7, 2, 5, 2, 1, 4, 1, 0, 4, 8, 0, 6, 7, 4, 3, 1, 6, 3, 6, 1, 8, 0, 6, 5, 4, 5, 9, 8, 8, 0, 2, 6, 6, 7, 6, 0, 4, 5, 4, 8, 9, 7, 6, 8, 1, 0, 0, 9, 4, 5, 3, 6, 6, 5, 9, 0, 9, 5, 4, 2, 1, 7, 2, 5, 0, 6, 5, 5, 9, 3, 3, 2, 1, 3, 4, 0, 6, 7, 0, 9, 7, 6, 3, 2, 7, 5, 3, 3, 8, 0, 3, 6, 4, 3, 4, 4, 1, 9, 2, 9, 0, 5, 3, 8, 7, 0, 6, 5, 7, 1, 9, 8, 5, 6, 2, 8, 1, 7, 1, 7, 8, 3, 4, 0, 7, 8, 3, 7, 2, 3, 5, 8, 5, 2, 3, 6, 9, 2, 2, 6, 8, 9, 6, 1, 4, 2, 3, 1, 6, 8, 9, 5, 6, 7, 7, 2, 4, 2, 0, 7, 0, 1, 8, 6, 1, 2, 1, 4, 6, 5, 4, 4, 2, 2, 9, 8, 7, 5, 3, 7, 3, 9, 6, 1, 0, 5, 0, 0, 4, 0, 8, 5, 4, 5, 0, 2, 0, 5, 0, 7, 0, 7, 5, 4, 6, 8, 7, 6, 4, 7, 7, 5, 2, 7, 7, 7, 5, 5, 4, 7, 4, 3, 0, 3, 6, 7, 0, 3, 5, 3, 1, 5, 5, 1, 6, 6, 7, 1, 5, 6, 4, 3, 2, 6, 9, 4, 1, 7, 0, 2, 6, 2, 7, 5, 1, 1, 3, 6, 2, 4, 2, 0, 0, 5, 2, 7, 0, 0, 3, 2, 8, 4, 0, 6, 7, 5, 8, 4, 9, 0, 4, 3, 3, 3, 3, 9, 2, 6, 7, 2, 3, 6, 9, 0, 4, 0, 1, 7, 1, 3, 3, 0, 7, 5, 4, 8, 1, 2, 8, 6, 9, 8, 1, 4, 6, 3, 0, 0, 2, 8, 0, 5, 9, 3, 2, 8, 8, 0, 0, 3, 5, 4, 4, 2, 9, 9, 4, 6, 5, 2, 0, 9, 7, 6, 9, 1, 0, 2, 1, 2, 4, 8, 9, 0, 1, 2, 0, 3, 0, 7, 0, 0, 8, 2, 1, 3, 2, 6, 0, 0, 0, 2, 2, 9, 7, 2, 5, 2, 6, 7, 2, 1, 8, 3, 7, 3, 6, 4, 9, 2, 7, 5, 1, 4, 4, 1, 5, 2, 8, 9, 0, 1, 3, 1, 3, 6, 8, 4, 0, 4, 3, 7, 3, 2, 3, 0, 5, 3, 4, 2, 4, 7, 8, 5, 8, 5, 7, 7, 8, 0, 7, 5, 4, 9, 9, 5, 4, 8, 7, 6, 4, 4, 6, 3, 3, 7, 2, 0, 7, 9, 8, 4, 4, 8, 6, 8, 9, 5, 6, 7, 7, 5, 7, 4, 3, 6, 3, 2, 6, 1, 9, 0, 7, 6, 1, 8, 9, 5, 4, 8, 7, 8, 5, 6, 1, 9, 6, 2, 3, 5, 4, 1, 1, 7, 1, 7, 0, 7, 6, 2, 1, 8, 0, 2, 0, 4, 6, 0, 9, 1, 3, 7, 7, 7, 6, 0, 5, 3, 7, 5, 7, 1, 0, 8, 1, 0, 3, 5, 1, 7, 4, 8, 3, 2, 0, 8, 2, 7, 8, 0, 1, 0, 7, 9, 6, 4, 3, 6, 1, 7, 0, 2, 0, 7, 8, 0, 8, 5, 5, 4, 7, 2, 5, 3, 4, 4, 7, 6, 6, 7, 5, 0, 8, 7, 1, 5, 4, 1, 1, 1, 4, 8, 7, 1, 9, 6, 4, 1, 1, 5, 9, 8, 3, 8, 9, 1, 7, 9, 4, 1, 4, 7, 0, 7, 2, 8, 0, 6, 2, 3, 4, 4, 5, 4, 6, 6, 0, 9, 8, 5, 5, 3, 5, 5, 0, 7, 6, 6, 2, 0, 5, 9, 8, 4, 3, 6, 3, 0, 0, 8, 8, 9, 7, 0, 1, 9, 2, 1, 9, 8, 1, 0, 0, 6, 6, 3, 8, 0, 0, 0, 5, 0, 0, 5, 1, 8, 2, 4, 4, 2, 4, 4, 6, 7, 9, 7, 5, 3, 5, 8, 9, 3, 2, 5, 7, 0, 5, 9, 8, 6, 5, 8, 4, 4, 3, 9, 9, 9, 8, 8, 3, 8, 5, 4, 0, 7, 2, 3, 6, 5, 9, 7, 4, 6, 6, 2, 2, 3, 6, 9, 5, 4, 9, 9, 2, 8, 6, 0, 5, 8, 8, 9, 7, 8, 5, 4, 0, 1, 8, 7, 3, 5, 7, 9, 5, 6, 3, 9, 0, 3, 0, 2, 7, 8, 5, 6, 2, 7, 8, 3, 8, 3, 3, 1, 5, 1, 3, 6, 2, 1, 8, 4, 4, 2, 2, 8, 2, 8, 6, 6, 1, 1, 4, 0, 8, 7, 8, 6, 5, 3, 9, 7, 6, 2, 8, 0, 0, 2, 9, 1, 9, 1, 3, 7, 1, 2, 5, 6, 1, 4, 1, 9, 8, 4, 4, 5, 0, 7, 9, 2, 5, 3, 7, 8, 5, 6, 2, 7, 4, 7, 5, 1, 1, 9, 4, 0, 0, 2, 3, 1, 8, 8, 8, 4, 6, 7, 5, 9, 2, 9, 0, 6, 2, 0, 6, 7, 7, 8, 9, 1, 4, 8, 0, 2, 0, 6, 1, 7, 0, 3, 7, 8, 5, 2, 3, 2, 6, 2, 9, 1, 2, 5, 2, 0, 8, 6, 9, 5, 1, 6, 2, 0, 7, 0, 1, 4, 1, 0, 0, 5, 6, 4, 9, 0, 8, 6, 8, 1, 0, 2, 4, 2, 7, 1, 7, 4, 8, 5, 9, 9, 4, 7, 2, 6, 8, 8, 3, 1, 7, 6, 0, 3, 7, 7, 0, 0, 8, 3, 9, 2, 2, 5, 8, 3, 5, 0, 5, 1, 8, 5, 0, 3, 0, 5, 1, 2, 0, 4, 6, 1, 1, 9, 8, 1, 3, 3, 3, 1, 9, 3, 7, 3, 2, 0, 5, 1, 6, 4, 4, 6, 9, 2, 6, 8, 7, 4, 9, 0, 6, 5, 3, 6, 0, 2, 6, 7, 3, 5, 0, 1, 0, 3, 4, 8, 9, 7, 8, 6, 1, 5, 7, 8, 5, 5, 3, 6, 3, 8, 4, 3, 7, 2, 2, 3, 6, 4, 5, 1, 0, 4, 7, 4, 8, 0, 5, 0, 1, 4, 6, 2, 6, 8, 1, 8, 8, 4, 7, 4, 2, 7, 8, 8, 1, 6, 7, 6, 5, 9, 2, 9, 8, 1, 2, 2, 6, 0, 7, 2, 6, 9, 0, 8, 4, 1, 6, 5, 9, 7, 3, 4, 6, 3, 2, 2, 7, 9, 6, 0, 6, 0, 6, 4, 5, 4, 9, 9, 8, 7, 3, 0, 0, 5, 1, 6, 4, 5, 9, 5, 0, 5, 9, 4, 1, 0, 8, 7, 1, 8, 2, 4, 7, 1, 4, 2, 5, 8, 8, 4, 3, 1, 2, 7, 8, 1, 8, 1, 5, 9, 4, 1, 0, 4, 3, 7, 9, 0, 3, 2, 6, 8, 7, 6, 8, 9, 7, 1, 5, 5, 1, 1, 6, 6, 6, 5, 0, 9, 0, 8, 5, 4, 6, 5, 0, 6, 8, 1, 5, 5, 2, 8, 9, 6, 6, 6, 8, 9, 4, 8, 9, 1, 9, 5, 7, 4, 4, 1, 3, 3, 8, 5, 2, 7, 0, 5, 3, 5, 2, 7, 3, 1, 6, 3, 4, 5, 3, 0, 8, 0, 8, 1, 3, 8, 2, 4, 2, 1, 4, 4, 1, 3, 0, 8, 7, 9, 6, 7, 1, 7, 0, 6, 4, 5, 8, 9, 8, 9, 1, 4, 3, 3, 9, 7, 1, 6, 0, 7, 2, 4, 4, 3, 0, 5, 3, 1, 7, 0, 8, 1, 3, 8, 4, 5, 7, 3, 6, 1, 6, 3, 9, 7, 0, 4, 7, 5, 4, 6, 8, 0, 2, 4, 6, 1, 5, 3, 0, 8, 4, 0, 2, 3, 4, 3, 9, 9, 8, 5, 2, 5, 2, 3, 6, 3, 4, 2, 5, 9, 3, 6, 2, 5, 4, 5, 4, 0, 6, 2, 4, 6, 8, 0, 3, 9, 8, 9, 7, 5, 2, 6, 3, 8, 1, 3, 9, 0, 0, 6, 5, 7, 6, 8, 3, 6, 8, 4, 0, 8, 1, 1, 9, 5, 9, 0, 3, 6, 4, 9, 0, 9, 2, 6, 7, 6, 2, 0, 6, 1, 0, 2, 4, 2, 9, 7, 9, 5, 4, 6, 8, 5, 3, 8, 3, 3, 8, 0, 7, 7, 8, 0, 7, 2, 0, 9, 7, 6, 6, 7, 8, 5, 6, 5, 9, 8, 3, 2, 1, 8, 9, 3, 3, 1, 5, 0, 4, 8, 7, 3, 1, 2, 7, 2, 0, 8, 9, 5, 9, 1, 8, 6, 0, 6, 5, 5, 4, 4, 4, 2, 3, 3, 5, 1, 6, 6, 3, 7, 9, 0, 8, 3, 1, 8, 4, 7, 2, 4, 5, 6, 0, 3, 3, 3, 0, 8, 7, 9, 5, 3, 6, 5, 6, 4, 3, 7, 3, 3, 5, 7, 4, 0, 3, 7, 4, 9, 3, 5, 4, 2, 0, 7, 7, 4, 9, 8, 2, 4, 3, 6, 6, 6, 8, 1, 8, 3, 1, 0, 6, 8, 9, 6, 0, 4, 6, 1, 6, 6, 8, 1, 4, 8, 3, 9, 0, 5, 7, 5, 4, 1, 7, 3, 4, 2, 0, 6, 5, 6, 6, 5, 5, 0, 7, 8, 2, 1, 3, 0, 2, 9, 8, 1, 0, 2, 8, 4, 0, 7, 7, 2, 4, 1, 7, 6, 8, 8, 7, 1, 7, 6, 7, 0, 7, 7, 8, 9, 4, 7, 8, 1, 2, 7, 0, 3, 2, 9, 1, 7, 1, 8, 1, 9, 0, 5, 8, 4, 5, 0, 3, 0, 3, 4, 1, 4, 4, 3, 6, 4, 7, 8, 8, 3, 0, 4, 7, 7, 6, 7, 7, 2, 2, 2, 0, 2, 3, 7, 6, 5, 8, 5, 9, 9, 3, 1, 6, 2, 3, 6, 9, 7, 0, 9, 9, 5, 1, 8, 8, 8, 6, 1, 2, 1, 3, 8, 6, 4, 7, 5, 5, 4, 1, 8, 7, 1, 1, 7, 3, 4, 6, 8, 9, 2, 9, 8, 1, 8, 8, 3, 8, 2, 4, 6, 9, 0, 1, 3, 3, 9, 4, 7, 0, 0, 5, 2, 8, 3, 8, 0, 1, 4, 2, 2, 1, 0, 8, 5, 7, 0, 0, 3, 3, 7, 6, 1, 5, 1, 1, 7, 2, 7, 0, 3, 5, 2, 4, 5, 6, 4, 6, 9, 8, 3, 7, 1, 3, 8, 7, 2, 9, 3, 7, 4, 0, 7, 8, 9, 0, 2, 1, 3, 4, 9, 5, 8, 7, 8, 5, 5, 0, 8, 9, 9, 4, 6, 9, 8, 1, 5, 6, 5, 4, 8, 3, 8, 5, 6, 7, 2, 4, 8, 6, 4, 0, 7, 4, 1, 5, 1, 0, 2, 5, 0, 4, 3, 6, 1, 7, 0, 5, 4, 1, 1, 4, 2, 9, 7, 4, 3, 5, 7, 2, 3, 4, 8, 7, 0, 4, 3, 8, 2, 4, 9, 6, 6, 7, 2, 2, 6, 9, 7, 0, 2, 0, 9, 6, 1, 5, 3, 6, 2, 7, 0, 0, 1, 3, 8, 2, 7, 6, 5, 5, 2, 4, 6, 3, 6, 8, 9, 7, 9, 1, 2, 5, 3, 0, 3, 6, 9, 9, 5, 6, 1, 4, 6, 8, 9, 4, 1, 9, 6, 5, 9, 8, 9, 4, 0, 3, 4, 8, 8, 8, 2, 9, 7, 9, 0, 9, 9, 5, 4, 0, 8, 5, 8, 8, 2, 7, 4, 9, 8, 3, 9, 0, 5, 5, 3, 8, 0, 4, 3, 3, 2, 9, 8, 8, 3, 4, 3, 6, 4, 0, 9, 8, 1, 9, 5, 9, 4, 8, 0, 7, 6, 0, 2, 7, 3, 9, 6, 6, 1, 6, 3, 3, 5, 6, 3, 5, 2, 5, 2, 5, 0, 3, 1, 8, 1, 2, 4, 6, 8, 3, 5, 2, 5, 5, 0, 3, 0, 7, 1, 5, 0, 2, 9, 9, 1, 2, 4, 5, 6, 1, 6, 3, 5, 2, 8, 9, 2, 2, 9, 3, 4, 0, 1, 2, 5, 5, 1, 6, 4, 9, 7, 4, 8, 4, 8, 4, 5, 8, 7, 0, 6, 7, 5, 9, 5, 8, 0, 7, 5, 0, 7, 9, 5, 0, 1, 0, 7, 7, 2, 2, 5, 9, 2, 5, 4, 1, 9, 1, 8, 0, 4, 9, 5, 9, 2, 1, 9, 2, 5, 1, 7, 3, 4, 2, 9, 7, 6, 5, 7, 6, 0, 3, 7, 0, 9, 2, 8, 7, 4, 1, 8, 1, 4, 3, 0, 9, 8, 3, 3, 5, 0, 9, 7, 5, 9, 4, 2, 8, 5, 3, 5, 6, 1, 0, 2, 8, 7, 7, 7, 7, 1, 9, 8, 4, 9, 1, 9, 7, 6, 2, 7, 1, 7, 9, 6, 0, 9, 5, 1, 0, 1, 2, 3, 6, 1, 1, 0, 9, 1, 4, 9, 9, 9, 4, 2, 7, 2, 9, 8, 9, 8, 9, 6, 1, 9, 5, 5, 2, 1, 4, 3, 5, 3, 4, 2, 9, 9, 2, 6, 9, 9, 2, 3, 0, 8, 3, 4, 6, 3, 5, 9, 3, 9, 6, 6, 0, 9, 0, 4, 9, 5, 2, 2, 0, 9, 3, 0, 2, 7, 6, 9, 4, 1, 5, 9, 8, 8, 3, 3, 0, 6, 2, 1, 3, 0, 1, 1, 0, 8, 6, 3, 1, 1, 6, 0, 8, 8, 9, 8, 3, 5, 3, 6, 5, 3, 2, 0, 0, 2, 5, 9, 2, 4, 1, 9, 2, 1, 8, 6, 6, 1, 3, 4, 2, 7, 4, 4, 4, 1, 7, 3, 2, 2, 1, 6, 9, 8, 0, 4, 0, 2, 7, 7, 6, 1, 1, 0, 5, 6, 6, 8, 8, 3, 5, 1, 5, 2, 4, 6, 3, 3, 8, 6, 2, 9, 7, 6, 1, 7, 3, 1, 2, 8, 9, 6, 0, 1, 6, 2, 8, 1, 8, 5, 1, 5, 7, 4, 3, 8, 2, 7, 2, 0, 1, 5, 9, 6, 2, 0, 8, 2, 7, 0, 4, 1, 7, 7, 4, 4, 9, 9, 6, 2, 4, 1, 6, 4, 9, 6, 6, 9, 6, 9, 9, 5, 7, 1, 6, 8, 2, 9, 5, 9, 5, 3, 7, 1, 3, 3, 9, 1, 7, 8, 9, 7, 4, 3, 4, 9, 5, 8, 4, 9, 3, 6, 1, 1, 4, 3, 9, 9, 1, 9, 9, 2, 4, 3, 2, 4, 7, 1, 5, 1, 8, 6, 3, 6, 3, 4, 4, 9, 9, 9, 7, 0, 5, 7, 7, 4, 8, 8, 4, 2, 0, 5, 2, 4, 9, 1, 7, 7, 4, 8, 8, 8, 0, 2, 3, 6, 3, 9, 0, 8, 2, 2, 4, 8, 8, 1, 8, 5, 7, 6, 0, 9, 1, 4, 8, 2, 1, 0, 5, 1, 6, 5, 3, 4, 9, 9, 0, 3, 5, 4, 2, 6, 3, 9, 4, 9, 8, 6, 4, 1, 1, 9, 8, 2, 2, 1, 8, 5, 9, 7, 8, 1, 1, 4, 2, 4, 2, 0, 8, 8, 0, 0, 4, 3, 0, 7, 7, 6, 1, 6, 7, 1, 5, 6, 1, 7, 2, 4, 0, 2, 2, 5, 9, 3, 2, 1, 4, 1, 2, 9, 8, 5, 2, 3, 3, 4, 9, 7, 2, 3, 9, 7, 6, 2, 9, 7, 5, 4, 0, 8, 7, 2, 0, 3, 5, 1, 3, 1, 7, 8, 7, 9, 8, 2, 9, 1, 4, 8, 6, 7, 3, 6, 9, 7, 9, 4, 5, 8, 0, 5, 6, 6, 0, 8, 4, 6, 1, 4, 2, 2, 1, 8, 4, 4, 0, 2, 4, 1, 9, 8, 9, 0, 7, 1, 1, 6, 4, 7, 4, 6, 9, 3, 2, 7, 3, 7, 4, 5, 1, 9, 6, 3, 9, 6, 0, 7, 0, 0, 0, 6, 6, 9, 7, 3, 2, 0, 6, 7, 5, 0, 2, 0, 3, 8, 6, 9, 9, 7, 1, 2, 0, 8, 8, 0, 8, 2, 0, 9, 5, 1, 3, 3, 0, 7, 6, 1, 0, 7, 9, 3, 1, 6, 3, 5, 1, 8, 3, 3, 2, 2, 5, 7, 4, 8, 4, 3, 0, 5, 9, 5, 4, 3, 2, 1, 9, 2, 8, 7, 8, 2, 9, 1, 8, 6, 4, 2, 3, 3, 0, 8, 2, 3, 5, 7, 1, 8, 8, 1, 0, 9, 9, 9, 8, 7, 5, 0, 5, 0, 5, 1, 1, 4, 6, 7, 1, 2, 8, 5, 1, 0, 3, 5, 8, 6, 6, 6, 7, 7, 4, 0, 5, 2, 8, 3, 7, 0, 1, 9, 9, 2, 1, 7, 6, 5, 3, 8, 3, 0, 7, 6, 2, 7, 7, 6, 5, 6, 4, 8, 5, 1, 4, 9, 1, 0, 5, 7, 0, 2, 5, 0, 8, 1, 0, 4, 2, 2, 5, 5, 8, 0, 8, 9, 8, 4, 7, 6, 4, 8, 6, 7, 5, 0, 1, 3, 9, 9, 1, 4, 3, 8, 6, 6, 2, 0, 7, 1, 6, 1, 6, 4, 4, 8, 0, 0, 2, 5, 4, 4, 4, 3, 7, 2, 0, 5, 1, 5, 7, 9, 7, 0, 5, 6, 2, 3, 8, 0, 6, 4, 6, 8, 4, 1, 5, 0, 6, 3, 9, 4, 5, 4, 7, 9, 6, 2, 7, 6, 1, 7, 8, 5, 1, 9, 8, 1, 3, 8, 7, 4, 8, 1, 2, 3, 7, 0, 3, 4, 0, 0, 4, 8, 4, 1, 1, 9, 4, 8, 9, 5, 8, 1, 3, 7, 9, 8, 0, 5, 8, 4, 3, 0, 6, 8, 1, 5, 6, 0, 0, 5, 0, 9, 2, 3, 2, 7, 6, 6, 4, 7, 4, 5, 1, 3, 0, 8, 7, 9, 0, 6, 8, 4, 3, 0, 8, 7, 4, 0, 0, 4, 3, 0, 6, 0, 1, 1, 5, 4, 7, 4, 2, 5, 4, 6, 4, 6, 8, 3, 8, 3, 8, 7, 6, 4, 6, 9, 6, 1, 0, 0, 5, 4, 8, 7, 6, 5, 2, 5, 7, 3, 8, 7, 9, 7, 8, 6, 5, 9, 9, 8, 2, 8, 0, 2, 4, 2, 4, 0, 7, 6, 9, 3, 1, 2, 6, 2, 5, 4, 9, 2, 5, 9, 7, 9, 6, 3, 2, 8, 9, 7, 7, 3, 0, 9, 9, 2, 3, 8, 4, 0, 0, 9, 7, 7, 4, 0, 0, 6, 1, 9, 1, 0, 9, 5, 6, 3, 4, 1, 1, 6, 0, 1, 5, 3, 5, 9, 6, 0, 4, 4, 5, 5, 5, 9, 3, 5, 9, 8, 5, 8, 9, 6, 5, 8, 8, 2, 2, 3, 8, 9, 2, 3, 4, 4, 9, 0, 6, 4, 5, 5, 9, 0, 4, 6, 8, 0, 0, 1, 3, 9, 6, 9, 5, 1, 1, 7, 7, 0, 9, 7, 7, 1, 6, 6, 9, 3, 4, 2, 7, 0, 5, 2, 9, 7, 4, 6, 7, 1, 3, 4, 2, 4, 0, 4, 9, 4, 3, 4, 2, 6, 0, 3, 7, 4, 9, 6, 5, 9, 7, 2, 0, 4, 3, 8, 2, 7, 0, 5, 3, 3, 5, 0, 0, 6, 9, 0, 3, 5, 6, 1, 8, 6, 8, 6, 9, 8, 5, 3, 5, 0, 3, 7, 7, 6, 9, 0, 7, 9, 8, 2, 7, 9, 9, 5, 5, 0, 3, 2, 6, 0, 2, 7, 8, 3, 9, 7, 2, 2, 8, 6, 6, 3, 9, 2, 8, 8, 6, 0, 6, 7, 9, 5, 4, 5, 1, 1, 4, 5, 8, 5, 2, 7, 4, 5, 0, 6, 8, 9, 4, 3, 5, 6, 1, 3, 7, 0, 5, 1, 6, 2, 2, 4, 8, 1, 2, 2, 1, 2, 5, 9, 1, 1, 3, 4, 2, 9, 7, 0, 8, 2, 4, 6, 8, 0, 3, 7, 1, 8, 5, 8, 6, 5, 6, 2, 2, 3, 5, 7, 7, 7, 7, 8, 4, 6, 4, 1, 2, 8, 6, 1, 9, 3, 3, 2, 1, 3, 1, 2, 0, 3, 3, 5, 4, 2, 5, 1, 3, 8, 6, 0, 4, 1, 4, 5, 3, 0, 5, 0, 7, 0, 8, 8, 4, 9, 6, 5, 8, 8, 6, 7, 1, 7, 3, 9, 0, 4, 3, 4, 8, 3, 1, 5, 1, 6, 7, 3, 1, 0, 5, 8, 2, 1, 0, 6, 1, 7, 4, 8, 9, 2, 5, 5, 8, 2, 2, 4, 1, 6, 9, 6, 1, 1, 4, 5, 7, 5, 4, 5, 5, 4, 4, 3, 4, 2, 1, 6, 4, 3, 8, 1, 7, 8, 5, 1, 5, 3, 3, 0, 5, 4, 0, 8, 7, 0, 2, 9, 4, 9, 7, 5, 0, 8, 1, 3, 9, 4, 3, 1, 5, 6, 5, 6, 2, 3, 2, 0, 1, 4, 9, 7, 0, 0, 1, 3, 1, 9, 2, 3, 3, 6, 9, 4, 8, 0, 8, 9, 0, 3, 9, 1, 4, 8, 9, 2, 5, 5, 6, 4, 0, 7, 9, 3, 9, 6, 7, 4, 8, 6, 1, 5, 4, 1, 4, 2, 7, 6, 7, 2, 2, 0, 8, 4, 6, 9, 7, 5, 8, 2, 1, 5, 2, 0, 3, 2, 1, 4, 1, 8, 4, 0, 5, 0, 2, 8, 8, 9, 7, 9, 3, 1, 2, 5, 0, 0, 0, 2, 4, 0, 7, 8, 1, 0, 0, 9, 9, 4, 8, 1, 4, 8, 8, 4, 8, 1, 2, 8, 1, 0, 1, 6, 9, 1, 4, 8, 4, 0, 9, 4, 3, 4, 3, 6, 2, 0, 6, 9, 0, 9, 1, 9, 8, 9, 4, 9, 3, 4, 6, 8, 1, 6, 1, 8, 6, 4, 2, 1, 6, 8, 2, 0, 4, 4, 6, 7, 4, 3, 1, 2, 6, 9, 6, 2, 9, 8, 8, 9, 7, 5, 7, 6, 2, 1, 3, 0, 2, 6, 6, 6, 9, 3, 6, 7, 2, 3, 8, 1, 4, 1, 5, 5, 6, 2, 3, 7, 0, 2, 7, 9, 3, 6, 3, 0, 3, 9, 0, 1, 9, 5, 9, 5, 9, 2, 9, 3, 5, 8, 5, 1, 3, 7, 5, 3, 8, 6, 8, 5, 4, 1, 6, 4, 7, 4, 9, 3, 2, 9, 6, 4, 3, 7, 9, 1, 7, 3, 9, 9, 7, 1, 6, 5, 2, 4, 8, 1, 2, 5, 2, 9, 9, 0, 2, 3, 8, 0, 9, 7, 4, 7, 9, 5, 3, 2, 2, 8, 5, 7, 9, 3, 8, 7, 6, 0, 1, 8, 0, 9, 7, 7, 1, 8, 4, 5, 6, 6, 1, 3, 8, 6, 7, 8, 4, 0, 4, 2, 1, 0, 0, 2, 2, 0, 3, 7, 1, 6, 8, 6, 0, 9, 2, 2, 1, 1, 7, 2, 5, 6, 9, 3, 7, 5, 2, 4, 4, 0, 8, 3, 6, 2, 1, 0, 6, 7, 3, 9, 9, 7, 3, 2, 5, 4, 5, 1, 9, 9, 9, 7, 8, 9, 8, 0, 3, 2, 3, 3, 6, 6, 7, 4, 1, 1, 3, 4, 4, 0, 1, 7, 3, 6, 1, 4, 5, 1, 6, 6, 9, 3, 6, 2, 9, 3, 9, 2, 8, 9, 3, 0, 4, 2, 6, 1, 2, 6, 6, 4, 8, 2, 0, 6, 5, 9, 6, 2, 1, 5, 5, 5, 8, 1, 3, 8, 9, 8, 4, 0, 7, 1, 2, 3, 1, 9, 3, 4, 5, 7, 8, 1, 5, 0, 3, 4, 2, 9, 6, 3, 4, 7, 3, 8, 2, 0, 3, 1, 6, 2, 9, 0, 1, 4, 0, 4, 9, 8, 0, 9, 8, 8, 1, 4, 2, 7, 6, 6, 4, 7, 4, 7, 1, 0, 8, 9, 9, 6, 9, 9, 4, 0, 1, 5, 3, 9, 6, 4, 1, 2, 6, 5, 8, 4, 4, 6, 0, 6, 1, 1, 7, 6, 4, 3, 4, 7, 2, 2, 1, 0, 4, 1, 2, 6, 4, 7, 6, 6, 3, 8, 4, 8, 0, 8, 7, 5, 2, 0, 9, 6, 8, 1, 5, 4, 8, 1, 4, 5, 7, 3, 1, 0, 5, 9, 4, 7, 1, 0, 5, 7, 3, 1, 6, 5, 6, 1, 4, 8, 3, 8, 3, 2, 7, 5, 3, 5, 2, 6, 1, 7, 3, 4, 8, 5, 7, 8, 0, 8, 1, 3, 7, 1, 4, 3, 1, 0, 0, 1, 5, 8, 0, 9, 3, 1, 6, 4, 0, 5, 8, 7, 7, 0, 8, 7, 5, 1, 8, 0, 2, 2, 9, 4, 2, 1, 8, 4, 9, 0, 8, 0, 2, 9, 4, 6, 8, 7, 7, 3, 7, 7, 6, 9, 9, 4, 5, 2, 7, 0, 5, 1, 7, 6, 0, 5, 6, 0, 6, 2, 7, 4, 7, 0, 1, 8, 6, 4, 9, 5, 9, 4, 3, 7, 5, 0, 4, 4, 0, 4, 4, 4, 4, 3, 3, 5, 8, 6, 3, 5, 8, 2, 8, 4, 1, 7, 4, 9, 7, 0, 7, 1, 3, 7, 1, 0, 1, 7, 0, 4, 3, 7, 0, 2, 1, 0, 1, 2, 1, 1, 0, 8, 2, 3, 8, 0, 1, 6, 3, 3, 6, 3, 5, 9, 7, 4, 0, 0, 7, 0, 7, 2, 9, 5, 6, 1, 8, 2, 2, 3, 8, 2, 9, 1, 4, 7, 9, 0, 9, 8, 3, 9, 9, 9, 0, 1, 6, 3, 1, 2, 8, 3, 5, 6, 3, 3, 4, 9, 6, 1, 6, 6, 2, 9, 4, 5, 0, 2, 4, 0, 2, 4, 8, 6, 3, 5, 2, 6, 8, 5, 8, 3, 3, 1, 2, 1, 7, 8, 3, 3, 4, 8, 4, 7, 8, 4, 7, 0, 4, 8, 1, 1, 6, 1, 9, 7, 6, 2, 0, 2, 7, 7, 0, 9, 9, 1, 1, 8, 6, 4, 6, 1, 7, 1, 4, 8, 3, 2, 2, 3, 3, 9, 2, 9, 5, 3, 2, 9, 5, 8, 7, 8, 5, 8, 1, 3, 6, 0, 3, 3, 6, 2, 6, 5, 8, 7, 0, 2, 3, 4, 3, 8, 9, 0, 6, 3, 3, 4, 1, 8, 5, 7, 4, 4, 3, 5, 0, 4, 5, 9, 2, 0, 2, 6, 9, 8, 6, 8, 7, 7, 1, 5, 9, 3, 0, 9, 4, 1, 7, 2, 7, 5, 1, 8, 6, 8, 0, 4, 3, 4, 0, 3, 7, 5, 6, 7, 6, 4, 1, 7, 0, 3, 1, 3, 4, 5, 5, 2, 2, 5, 6, 2, 7, 4, 7, 2, 6, 5, 9, 9, 0, 4, 0, 9, 2, 6, 4, 0, 5, 2, 1, 7, 5, 1, 7, 7, 1, 2, 1, 3, 9, 1, 7, 7, 9, 9, 3, 1, 3, 2, 3, 3, 8, 6, 7, 4, 9, 9, 3, 4, 1, 2, 6, 4, 2, 0, 9, 1, 0, 5, 3, 9, 2, 6, 9, 2, 9, 4, 8, 8, 1, 4, 0, 0, 6, 2, 6, 5, 1, 2, 9, 5, 0, 3, 5, 5, 0, 2, 2, 8, 0, 7, 2, 6, 3, 1, 3, 0, 9, 3, 2, 5, 3, 6, 2, 3, 0, 2, 0, 8, 8, 0, 0, 3, 8, 9, 6, 1, 1, 5, 9, 9, 8, 4, 2, 5, 4, 8, 1, 5, 3, 9, 4, 0, 2, 1, 4, 2, 0, 6, 3, 2, 0, 8, 1, 7, 1, 5, 0, 5, 5, 9, 8, 9, 8, 0, 8, 6, 7, 3, 9, 8, 7, 5, 6, 3, 7, 1, 6, 9, 9, 9, 8, 8, 2, 7, 2, 8, 2, 0, 5, 5, 8, 1, 4, 9, 9, 8, 1, 1, 0, 7, 4, 5, 1, 0, 9, 7, 6, 1, 5, 1, 9, 4, 6, 0, 7, 8, 0, 2, 4, 7, 1, 9, 1, 6, 0, 4, 6, 4, 4, 4, 4, 8, 5, 1, 4, 0, 3, 7, 5, 8, 8, 9, 6, 2, 2, 7, 8, 0, 8, 6, 1, 3, 5, 7, 7, 6, 1, 4, 9, 5, 2, 9, 1, 5, 9, 4, 3, 1, 7, 3, 7, 5, 3, 6, 8, 7, 0, 9, 5, 0, 3, 7, 8, 7, 9, 3, 8, 0, 3, 6, 4, 0, 5, 7, 0, 6, 7, 3, 4, 5, 9, 7, 9, 8, 8, 7, 6, 1, 5, 2, 9, 5, 5, 4, 0, 0, 4, 1, 4, 6, 5, 9, 9, 3, 5, 1, 3, 2, 1, 9, 6, 6, 3, 4, 4, 9, 7, 9, 7, 1, 1, 7, 2, 2, 8, 2, 4, 5, 3, 4, 0, 6, 1, 1, 0, 7, 9, 4, 1, 6, 3, 0, 6, 1, 8, 2, 5, 9, 7, 9, 3, 0, 7, 9, 6, 6, 5, 9, 7, 1, 0, 7, 8, 2, 8, 7, 9, 2, 9, 3, 1, 0, 8, 7, 3, 2, 3, 3, 2, 6, 7, 4, 4, 8, 2, 1, 5, 3, 0, 5, 9, 3, 8, 1, 8, 7, 3, 8, 5, 3, 5, 8, 1, 3, 6, 6, 5, 4, 5, 7, 8, 4, 0, 5, 0, 5, 8, 3, 2, 5, 6, 4, 6, 5, 6, 5, 1, 2, 5, 8, 4, 2, 5, 5, 1, 6, 3, 2, 0, 4, 3, 7, 3, 3, 5, 7, 3, 6, 4, 9, 7, 9, 8, 3, 0, 9, 9, 6, 0, 2, 6, 0, 6, 2, 0, 4, 8, 0, 0, 8, 4, 0, 6, 5, 8, 5, 2, 5, 8, 6, 3, 9, 0, 2, 0, 3, 9, 6, 7, 2, 7, 7, 0, 7, 9, 2, 2, 2, 4, 3, 2, 1, 8, 7, 8, 6, 8, 7, 5, 6, 2, 6, 8, 0, 6, 5, 0, 0, 5, 9, 1, 7, 9, 0, 4, 0, 4, 9, 3, 7, 5, 4, 1, 9, 2, 4, 6, 5, 4, 0, 5, 3, 3, 2, 0, 3, 7, 1, 4, 3, 1, 4, 3, 1, 7, 6, 2, 4, 1, 4, 4, 1, 9, 7, 1, 3, 6, 9, 1, 0, 4, 8, 8, 0, 6, 7, 9, 3, 8, 1, 7, 5, 2, 0, 9, 6, 5, 8, 8, 2, 4, 2, 1, 5, 8, 4, 8, 4, 9, 9, 8, 2, 1, 3, 1, 1, 0, 6, 8, 9, 1, 4, 2, 4, 7, 8, 5, 0, 6, 6, 4, 1, 9, 5, 4, 8, 5, 6, 9, 1, 1, 3, 3, 3, 9, 3, 9, 6, 2, 3, 5, 2, 7, 6, 8, 4, 7, 3, 1, 0, 0, 6, 3, 1, 0, 4, 1, 6, 8, 9, 2, 3, 9, 8, 4, 8, 7, 5, 3, 2, 2, 5, 6, 6, 3, 6, 8, 5, 3, 0, 1, 0, 3, 7, 3, 6, 6, 2, 1, 8, 4, 0, 0, 5, 8, 3, 3, 1, 2, 0, 1, 3, 8, 0, 4, 8, 4, 7, 5, 7, 2, 7, 5, 5, 6, 5, 2, 8, 1, 9, 3, 8, 3, 5, 0, 4, 7, 2, 1, 1, 8, 6, 3, 5, 2, 8, 9, 8, 9, 0, 3, 5, 8, 2, 4, 6, 9, 0, 3, 2, 9, 2, 9, 6, 6, 1, 2, 5, 4, 8, 3, 5, 0, 7, 0, 8, 4, 6, 6, 7, 9, 6, 1, 0, 1, 3, 6, 3, 0, 8, 9, 7, 7, 6, 2, 9, 2, 0, 6, 2, 7, 6, 8, 8, 1, 9, 6, 5, 4, 4, 9, 6, 4, 0, 7, 4, 9, 1, 1, 3, 4, 1, 8, 1, 5, 3, 1, 8, 6, 5, 1, 8, 1, 2, 0, 3, 0, 5, 8, 0, 1, 7, 5, 4, 7, 5, 9, 2, 5, 8, 0, 5, 2, 6, 3, 5, 7, 0, 3, 1, 7, 6, 8, 1, 7, 6, 5, 7, 8, 7, 8, 5, 4, 6, 4, 3, 9, 0, 9, 4, 6, 1, 4, 1, 4, 6, 9, 4, 4, 0, 4, 2, 5, 2, 5, 2, 1, 0, 2, 9, 2, 7, 3, 0, 3, 5, 8, 0, 8, 6, 5, 1, 8, 9, 5, 2, 5, 0, 3, 8, 1, 9, 3, 3, 2, 1, 6, 6, 6, 4, 5, 6, 6, 6, 8, 4, 4, 4, 4, 3, 8, 7, 0, 5, 9, 3, 2, 9, 3, 4, 0, 8, 8, 8, 4, 1, 7, 3, 5, 0, 4, 5, 2, 5, 2, 7, 1, 9, 5, 1, 3, 7, 9, 1, 6, 6, 5, 3, 0, 6, 5, 0, 0, 2, 7, 2, 9, 2, 7, 3, 1, 8, 5, 5, 1, 4, 7, 0, 5, 7, 2, 8, 4, 1, 2, 8, 8, 1, 5, 9, 3, 2, 5, 9, 8, 3, 6, 9, 8, 6, 5, 2, 6, 2, 8, 5, 9, 2, 3, 7, 0, 3, 2, 7, 5, 7, 9, 1, 5, 2, 2, 8, 9, 0, 4, 5, 9, 5, 6, 7, 1, 4, 4, 1, 8, 7, 4, 7, 5, 2, 6, 5, 6, 7, 8, 0, 8, 2, 7, 1, 9, 6, 1, 7, 9, 4, 9, 4, 2, 6, 8, 9, 2, 1, 2, 4, 5, 6, 8, 0, 7, 1, 3, 4, 5, 2, 8, 2, 7, 0, 1, 4, 9, 8, 9, 9, 6, 4, 4, 3, 1, 1, 1, 5, 5, 6, 0, 8, 5, 1, 7, 2, 1, 9, 0, 0, 5, 4, 7, 4, 5, 9, 7, 4, 7, 7, 4, 1, 3, 4, 1, 6, 3, 4, 4, 1, 4, 7, 3, 2, 0, 7, 7, 5, 5, 6, 1, 0, 0, 3, 7, 7, 3, 6, 5, 7, 2, 3, 2, 6, 9, 0, 1, 6, 6, 7, 9, 7, 5, 1, 5, 4, 0, 8, 0, 1, 9, 9, 3, 6, 2, 2, 2, 0, 0, 1, 8, 0, 7, 4, 3, 4, 1, 6, 4, 2, 0, 6, 0, 4, 7, 4, 5, 6, 7, 9, 9, 2, 3, 2, 5, 7, 1, 3, 2, 7, 5, 7, 5, 0, 9, 9, 4, 3, 9, 5, 2, 9, 9, 8, 4, 3, 4, 5, 3, 5, 9, 0, 7, 8, 5, 9, 5, 8, 3, 8, 4, 3, 6, 9, 7, 1, 8, 7, 1, 7, 2, 8, 0, 4, 2, 5, 2, 0, 1, 7, 1, 1, 6, 4, 0, 9, 9, 0, 6, 6, 8, 3, 8, 9, 3, 4, 5, 6, 6, 6, 4, 6, 7, 1, 5, 7, 5, 1, 5, 8, 9, 3, 0, 5, 9, 9, 6, 8, 8, 4, 3, 5, 1, 6, 6, 1, 1, 5, 9, 4, 2, 2, 8, 6, 5, 6, 0, 3, 8, 3, 6, 8, 5, 6, 7, 7, 9, 3, 6, 3, 2, 0, 2, 8, 7, 5, 1, 4, 7, 2, 0, 6, 1, 0, 5, 3, 1, 0, 6, 4, 6, 3, 7, 3, 2, 5, 5, 5, 2, 4, 8, 3, 4, 9, 0, 2, 6, 2, 0, 1, 6, 6, 0, 2, 8, 4, 3, 6, 8, 3, 7, 8, 3, 4, 5, 9, 3, 7, 4, 3, 6, 4, 2, 0, 8, 4, 2, 0, 4, 7, 9, 7, 2, 1, 7, 4, 4, 1, 1, 1, 6, 9, 2, 4, 0, 5, 2, 7, 4, 7, 7, 7, 3, 8, 5, 7, 7, 6, 9, 8, 2, 0, 5, 7, 2, 6, 1, 0, 4, 4, 3, 9, 4, 3, 1, 7, 4, 9, 9, 9, 6, 3, 4, 0, 3, 9, 4, 7, 2, 2, 2, 2, 3, 2, 4, 3, 6, 9, 7, 7, 6, 4, 1, 4, 1, 4, 7, 6, 2, 5, 9, 0, 2, 6, 4, 9, 6, 3, 5, 1, 6, 1, 6, 9, 1, 3, 2, 1, 1, 0, 6, 8, 5, 9, 5, 9, 7, 1, 9, 4, 4, 8, 8, 6, 7, 3, 4, 0, 7, 3, 2, 4, 3, 9, 9, 1, 4, 1, 0, 4, 1, 9, 7, 8, 6, 1, 7, 9, 0, 4, 5, 9, 5, 5, 1, 7, 0, 2, 0, 0, 6, 8, 6, 0, 2, 6, 0, 1, 1, 0, 7, 2, 9, 8, 8, 6, 7, 8, 9, 2, 4, 4, 4, 1, 3, 5, 1, 6, 9, 3, 6, 2, 5, 4, 9, 9, 6, 0, 8, 0, 3, 2, 5, 3, 8, 7, 3, 0, 0, 1, 1, 6, 8, 4, 2, 3, 7, 4, 9, 3, 9, 3, 7, 7, 8, 3, 0, 1, 9, 3, 0, 4, 3, 6, 3, 6, 3, 2, 9, 0, 4, 3, 4, 3, 2, 4, 2, 7, 3, 0, 3, 3, 5, 0, 8, 4, 0, 4, 5, 9, 6, 3, 2, 6, 4, 2, 3, 7, 6, 5, 0, 8, 3, 7, 0, 3, 0, 4, 3, 9, 2, 7, 0, 3, 9, 1, 9, 9, 1, 5, 7, 7, 4, 8, 2, 5, 1, 5, 3, 3, 5, 9, 9, 1, 8, 1, 8, 4, 5, 4, 0, 3, 3, 0, 9, 5, 8, 1, 5, 6, 9, 2, 2, 9, 1, 2, 3, 0, 0, 7, 0, 3, 7, 4, 4, 3, 6, 0, 9, 5, 3, 5, 3, 7, 3, 8, 1, 7, 0, 3, 5, 5, 1, 1, 8, 2, 4, 8, 1, 4, 1, 6, 9, 6, 1, 5, 0, 5, 6, 4, 6, 8, 2, 4, 0, 7, 3, 5, 5, 6, 5, 9, 8, 7, 4, 5, 6, 6, 8, 5, 1, 7, 1, 7, 8, 7, 4, 2, 8, 9, 9, 7, 9, 2, 6, 7, 0, 1, 0, 9, 1, 6, 8, 4, 7, 8, 6, 1, 7, 5, 9, 3, 4, 0, 4, 4, 4, 4, 7, 2, 7, 1, 6, 4, 1, 7, 6, 9, 8, 7, 7, 9, 9, 0, 0, 9, 0, 1, 0, 4, 0, 7, 3, 1, 3, 5, 4, 6, 2, 9, 2, 5, 0, 7, 0, 2, 0, 3, 1, 2, 3, 1, 6, 4, 4, 1, 6, 3, 5, 0, 3, 8, 4, 1, 8, 6, 2, 1, 0, 2, 5, 0, 0, 5, 6, 0, 9, 0, 5, 7, 0, 4, 4, 1, 2, 7, 4, 2, 9, 9, 6, 6, 9, 6, 6, 7, 0, 6, 1, 3, 5, 8, 6, 5, 7, 1, 0, 6, 3, 1, 0, 4, 5, 1, 0, 9, 0, 2, 3, 4, 6, 7, 8, 4, 0, 5, 3, 2, 7, 9, 1, 9, 2, 8, 6, 9, 8, 9, 8, 8, 4, 6, 7, 7, 9, 9, 0, 6, 6, 2, 4, 9, 6, 0, 2, 7, 6, 6, 4, 1, 7, 0, 8, 3, 5, 7, 5, 9, 5, 2, 7, 8, 3, 5, 4, 6, 1, 7, 6, 8, 7, 1, 3, 5, 7, 5, 1, 3, 1, 3, 7, 5, 2, 8, 7, 0, 1, 5, 5, 3, 2, 0, 7, 3, 4, 0, 3, 6, 8, 7, 6, 9, 7, 1, 7, 0, 8, 1, 3, 2, 0, 3, 0, 3, 0, 1, 4, 0, 0, 5, 7, 3, 3, 5, 9, 8, 9, 1, 2, 5, 2, 4, 6, 5, 0, 7, 0, 1, 7, 0, 4, 4, 3, 2, 0, 0, 2, 0, 5, 8, 2, 9, 1, 6, 1, 2, 6, 9, 5, 9, 3, 3, 2, 6, 2, 5, 3, 1, 8, 4, 9, 4, 2, 1, 8, 9, 2, 2, 6, 1, 5, 9, 8, 5, 4, 2, 1, 2, 3, 1, 7, 7, 5, 6, 1, 3, 5, 7, 5, 2, 1, 3, 3, 3, 1, 8, 5, 2, 6, 9, 2, 9, 0, 6, 0, 1, 9, 6, 7, 6, 6, 3, 2, 4, 6, 2, 0, 6, 6, 5, 7, 7, 3, 9, 5, 1, 3, 5, 1, 4, 8, 1, 1, 6, 0, 3, 2, 7, 2, 9, 1, 1, 4, 5, 8, 7, 9, 2, 9, 5, 4, 7, 5, 0, 7, 0, 7, 0, 0, 5, 5, 2, 0, 8, 2, 5, 0, 1, 1, 8, 1, 5, 3, 6, 9, 4, 8, 3, 0, 0, 9, 3, 3, 4, 5, 7, 2, 2, 6, 5, 8, 9, 8, 2, 2, 4, 5, 7, 9, 2, 1, 6, 5, 2, 5, 6, 7, 7, 5, 0, 2, 9, 7, 3, 3, 7, 8, 5, 1, 4, 5, 8, 7, 8, 6, 7, 1, 4, 0, 4, 5, 9, 8, 7, 8, 3, 5, 7, 6, 9, 3, 8, 3, 8, 1, 7, 6, 5, 4, 3, 9, 2, 6, 9, 1, 5, 4, 7, 3, 4, 9, 6, 5, 9, 6, 7, 5, 3, 3, 9, 1, 1, 7, 8, 1, 8, 6, 1, 3, 8, 5, 6, 1, 7, 1, 0, 2, 6, 3, 0, 6, 5, 1, 5, 5, 1, 5, 8, 5, 7, 5, 8, 0, 8, 5, 4, 7, 1, 9, 4, 3, 5, 7, 0, 3, 3, 7, 8, 5, 9, 0, 9, 0, 0, 4, 1, 2, 0, 9, 0, 7, 1, 4, 1, 1, 0, 8, 6, 9, 2, 3, 2, 1, 0, 5, 6, 1, 1, 6, 8, 2, 6, 7, 0, 2, 5, 5, 0, 1, 0, 8, 9, 4, 8, 7, 5, 3, 0, 7, 2, 9, 2, 3, 7, 9, 4, 4, 6, 4, 1, 9, 6, 2, 1, 4, 1, 8, 8, 1, 3, 7, 5, 6, 8, 2, 6, 1, 5, 2, 2, 1, 2, 3, 2, 0, 0, 9, 9, 1, 3, 5, 0, 4, 9, 5, 8, 1, 4, 7, 7, 5, 3, 4, 9, 4, 6, 7, 0, 8, 8, 1, 4, 6, 2, 1, 3, 8, 7, 6, 0, 5, 0, 5, 2, 3, 4, 4, 9, 1, 6, 1, 0, 5, 8, 2, 5, 6, 1, 0, 6, 1, 6, 5, 7, 9, 9, 7, 2, 0, 7, 6, 6, 1, 4, 8, 0, 7, 0, 0, 1, 3, 2, 5, 0, 1, 6, 2, 3, 4, 0, 3, 5, 8, 2, 3, 3, 0, 9, 6, 9, 4, 7, 1, 2, 0, 9, 1, 2, 8, 6, 9, 2, 0, 6, 7, 4, 3, 2, 8, 2, 7, 0, 3, 7, 5, 0, 5, 0, 9, 2, 1, 8, 3, 1, 6, 5, 3, 9, 1, 0, 8, 9, 9, 6, 8, 1, 5, 2, 4, 8, 8, 9, 3, 7, 6, 6, 4, 9, 9, 5, 8, 7, 4, 3, 4, 5, 3, 6, 0, 9, 8, 6, 9, 9, 0, 9, 4, 7, 0, 8, 0, 9, 9, 8, 1, 1, 8, 8, 4, 2, 0, 2, 6, 5, 6, 2, 4, 5, 2, 5, 0, 0, 0, 9, 3, 0, 4, 5, 0, 4, 1, 4, 7, 1, 9, 5, 1, 2, 8, 4, 4, 7, 8, 0, 2, 2, 1, 3, 7, 0, 0, 6, 0, 2, 9, 2, 1, 0, 6, 4, 5, 8, 2, 7, 0, 9, 8, 5, 7, 4, 5, 5, 9, 0, 6, 7, 2, 7, 0, 3, 7, 3, 4, 4, 0, 0, 8, 3, 9, 9, 8, 9, 5, 6, 7, 4, 6, 1, 3, 0, 5, 8, 5, 1, 6, 7, 1, 1, 9, 0, 2, 5, 8, 4, 1, 9, 2, 5, 7, 4, 1, 2, 7, 4, 7, 4, 5, 5, 0, 4, 4, 3, 5, 1, 3, 3, 4, 7, 3, 9, 2, 6, 4, 0, 3, 0, 2, 3, 1, 1, 9, 6, 9, 7, 0, 1, 8, 7, 2, 8, 9, 8, 6, 0, 2, 1, 0, 8, 1, 8, 4, 7, 3, 4, 9, 3, 3, 3, 5, 4, 9, 9, 5, 5, 2, 0, 8, 9, 2, 2, 7, 9, 3, 5, 6, 4, 6, 2, 9, 9, 7, 7, 7, 0, 0, 3, 8, 9, 5, 0, 5, 0, 5, 5, 7, 1, 8, 2, 4, 0, 4, 4, 3, 3, 9, 0, 9, 2, 9, 3, 8, 9, 3, 1, 5, 0, 3, 7, 6, 1, 0, 4, 4, 9, 1, 1, 0, 0, 9, 0, 1, 6, 3, 4, 0, 3, 4, 4, 5, 3, 8, 7, 9, 8, 6, 7, 3, 5, 6, 5, 1, 1, 1, 4, 2, 9, 1, 5, 6, 7, 1, 4, 1, 0, 2, 2, 5, 9, 6, 0, 1, 3, 1, 1, 2, 1, 8, 5, 6, 9, 2, 4, 2, 8, 8, 3, 7, 1, 7, 1, 7, 5, 9, 7, 0, 7, 8, 3, 6, 1, 2, 2, 5, 9, 8, 4, 8, 9, 4, 2, 5, 9, 3, 7, 9, 9, 3, 7, 9, 2, 7, 8, 9, 0, 7, 3, 0, 1, 7, 1, 4, 6, 8, 2, 3, 4, 1, 6, 2, 6, 0, 3, 5, 1, 0, 9, 7, 0, 0, 9, 3, 4, 9, 8, 8, 0, 1, 6, 1, 4, 9, 0, 7, 8, 1, 0, 9, 5, 2, 4, 4, 7, 0, 4, 8, 9, 3, 1, 2, 2, 4, 4, 0, 4, 5, 1, 7, 3, 5, 7, 2, 4, 4, 5, 6, 4, 3, 8, 4, 6, 6, 5, 0, 4, 9, 9, 7, 8, 6, 7, 3, 3, 5, 9, 6, 0, 1, 3, 8, 9, 8, 8, 0, 6, 6, 0, 9, 8, 6, 4, 7, 7, 9, 9, 3, 0, 9, 5, 5, 6, 5, 0, 9, 5, 8, 0, 1, 0, 4, 0, 3, 3, 2, 1, 1, 4, 9, 9, 4, 2, 1, 1, 2, 7, 4, 5, 5, 6, 3, 1, 3, 1, 2, 1, 5, 3, 3, 2, 5, 6, 4, 5, 2, 7, 6, 4, 6, 1, 2, 7, 9, 0, 0, 4, 9, 3, 5, 2, 4, 8, 9, 0, 8, 2, 5, 1, 6, 6, 3, 3, 3, 2, 6, 6, 4, 7, 5, 1, 0, 5, 9, 0, 4, 0, 0, 6, 6, 1, 5, 0, 5, 2, 5, 4, 3, 7, 2, 5, 4, 6, 7, 3, 1, 9, 7, 4, 9, 0, 1, 5, 1, 7, 4, 7, 6, 1, 0, 6, 4, 6, 0, 9, 2, 0, 6, 2, 9, 1, 8, 3, 4, 5, 0, 0, 4, 1, 1, 8, 3, 2, 5, 1, 4, 1, 8, 5, 8, 2, 1, 3, 5, 1, 4, 2, 2, 7, 7, 8, 0, 4, 2, 2, 7, 0, 5, 2, 0, 0, 0, 6, 3, 7, 7, 8, 6, 9, 0, 0, 2, 2, 6, 3, 4, 0, 7, 6, 2, 5, 6, 1, 8, 8, 0, 5, 8, 7, 1, 9, 3, 3, 4, 3, 6, 0, 6, 8, 0, 9, 3, 0, 0, 6, 0, 7, 3, 4, 4, 8, 1, 4, 9, 3, 1, 2, 9, 1, 7, 4, 7, 4, 2, 0, 0, 2, 3, 7, 5, 9, 0, 6, 5, 5, 0, 2, 1, 9, 1, 2, 6, 6, 9, 7, 3, 1, 9, 5, 2, 0, 3, 5, 4, 8, 6, 1, 0, 8, 8, 5, 7, 5, 2, 6, 6, 3, 1, 3, 0, 3, 7, 2, 8, 8, 9, 9, 9, 1, 3, 7, 5, 1, 3, 9, 5, 6, 1, 7, 5, 8, 3, 7, 5, 5, 1, 0, 1, 8, 1, 1, 2, 7, 4, 5, 7, 2, 9, 4, 9, 9, 5, 1, 5, 3, 5, 5, 7, 7, 0, 3, 0, 4, 5, 4, 0, 3, 4, 0, 4, 6, 5, 9, 2, 2, 7, 6, 0, 6, 7, 9, 2, 7, 5, 2, 2, 6, 1, 8, 8, 9, 9, 7, 4, 3, 6, 5, 5, 0, 9, 1, 7, 2, 8, 3, 5, 5, 4, 0, 5, 2, 0, 9, 7, 9, 7, 0, 1, 4, 1, 3, 1, 2, 4, 7, 9, 1, 6, 7, 9, 8, 5, 1, 5, 6, 5, 1, 6, 4, 5, 2, 7, 3, 4, 6, 9, 0, 4, 7, 6, 4, 1, 1, 0, 1, 4, 0, 4, 2, 6, 8, 4, 7, 4, 9, 1, 9, 0, 4, 8, 4, 8, 8, 0, 6, 4, 4, 3, 8, 5, 1, 5, 7, 3, 3, 5, 3, 8, 5, 6, 6, 2, 9, 3, 1, 7, 4, 4, 3, 2, 8, 8, 8, 8, 0, 5, 2, 1, 0, 7, 9, 8, 2, 3, 2, 6, 5, 4, 0, 3, 4, 7, 3, 9, 1, 9, 5, 1, 6, 1, 5, 0, 8, 2, 7, 4, 9, 1, 6, 1, 4, 4, 4, 3, 2, 6, 4, 8, 9, 8, 5, 7, 3, 4, 4, 2, 1, 5, 8, 9, 7, 2, 2, 3, 4, 2, 1, 1, 0, 8, 8, 6, 6, 4, 7, 4, 7, 7, 8, 8, 5, 4, 6, 5, 3, 8, 9, 9, 1, 0, 2, 6, 9, 6, 5, 8, 2, 7, 5, 7, 2, 4, 6, 6, 3, 6, 3, 9, 4, 3, 7, 6, 8, 2, 5, 0, 4, 6, 9, 4, 1, 1, 6, 8, 5, 4, 6, 4, 8, 8, 3, 8, 1, 9, 4, 3, 8, 2, 4, 1, 8, 3, 7, 9, 9, 6, 6, 2, 6, 9, 9, 6, 0, 4, 9, 2, 4, 2, 6, 8, 7, 8, 1, 4, 4, 9, 5, 8, 3, 7, 2, 5, 4, 1, 2, 6, 7, 9, 6, 0, 5, 9, 8, 5, 9, 7, 1, 6, 6, 2, 2, 8, 9, 9, 9, 7, 9, 0, 7, 2, 9, 2, 3, 7, 2, 8, 3, 2, 1, 3, 7, 1, 9, 7, 6, 6, 2, 9, 1, 4, 8, 4, 5, 9, 8, 4, 7, 2, 9, 1, 6, 8, 9, 4, 5, 7, 5, 3, 0, 5, 7, 6, 8, 5, 8, 2, 4, 6, 3, 3, 8, 1, 6, 3, 4, 5, 0, 9, 9, 8, 3, 3, 1, 4, 8, 4, 3, 5, 7, 8, 6, 0, 9, 3, 9, 1, 8, 6, 2, 0, 3, 7, 4, 3, 7, 3, 7, 4, 0, 8, 4, 7, 2, 5, 5, 9, 6, 7, 1, 3, 3, 3, 7, 2, 5, 2, 8, 7, 0, 4, 6, 9, 5, 9, 4, 5, 6, 4, 8, 2, 1, 2, 6, 6, 1, 5, 8, 9, 6, 1, 6, 1, 2, 4, 0, 5, 9, 8, 5, 4, 1, 5, 2, 5, 5, 9, 8, 7, 9, 2, 2, 7, 2, 8, 3, 1, 9, 2, 5, 6, 8, 6, 5, 4, 8, 3, 2, 8, 2, 5, 7, 0, 8, 4, 5, 3, 9, 7, 1, 7, 8, 8, 5, 8, 7, 8, 7, 5, 4, 3, 8, 9, 7, 0, 6, 6, 8, 7, 0, 4, 8, 4, 6, 1, 6, 2, 0, 7, 3, 5, 3, 9, 1, 4, 3, 5, 7, 5, 6, 7, 8, 5, 3, 5, 9, 6, 5, 6, 4, 4, 1, 9, 3, 3, 2, 5, 5, 3, 0, 5, 2, 2, 9, 8, 6, 4, 3, 5, 5, 7, 7, 1, 8, 8, 8, 7, 9, 6, 2, 1, 0, 3, 3, 8, 5, 0, 2, 2, 0, 7, 2, 4, 8, 3, 6, 6, 6, 2, 6, 1, 8, 7, 5, 9, 4, 4, 6, 1, 3, 0, 8, 8, 1, 3, 8, 5, 6, 4, 5, 1, 0, 3, 4, 8, 8, 4, 7, 3, 6, 3, 7, 0, 3, 7, 1, 9, 4, 5, 9, 7, 7, 5, 6, 9, 7, 1, 4, 8, 8, 1, 9, 2, 6, 9, 3, 2, 7, 4, 9, 5, 6, 9, 9, 6, 0, 6, 1, 9, 3, 8, 3, 8, 0, 5, 2, 5, 3, 3, 1, 1, 6, 5, 8, 7, 8, 1, 2, 3, 2, 5, 4, 1, 4, 9, 5, 8, 0, 9, 3, 9, 7, 3, 3, 3, 3, 1, 4, 2, 9, 1, 1, 5, 1, 4, 2, 9, 2, 4, 5, 5, 8, 8, 4, 4, 6, 4, 2, 4, 6, 6, 2, 1, 8, 2, 3, 6, 5, 3, 7, 5, 1, 9, 7, 6, 8, 6, 5, 5, 4, 0, 9, 1, 9, 1, 7, 7, 2, 4, 3, 0, 5, 5, 3, 2, 8, 2, 0, 3, 9, 0, 9, 2, 7, 7, 9, 0, 1, 9, 6, 6, 3, 8, 5, 6, 6, 8, 8, 2, 5, 6, 5, 4, 6, 4, 6, 1, 0, 3, 2, 9, 1, 5, 1, 4, 1, 4, 6, 9, 6, 3, 0, 4, 6, 3, 6, 0, 0, 9, 9, 3, 7, 3, 5, 9, 3, 7, 3, 9, 9, 1, 1, 1, 5, 5, 0, 8, 7, 2, 0, 0, 7, 0, 7, 3, 4, 2, 3, 9, 1, 6, 5, 6, 0, 5, 4, 7, 4, 6, 8, 8, 6, 2, 9, 7, 8, 5, 0, 8, 1, 7, 4, 3, 7, 9, 3, 6, 6, 2, 1, 6, 1, 0, 2, 3, 7, 8, 3, 4, 4, 3, 6, 0, 0, 1, 5, 3, 3, 3, 9, 1, 5, 6, 0, 8, 3, 3, 0, 8, 5, 3, 9, 0, 5, 5, 8, 3, 8, 8, 4, 6, 1, 8, 2, 2, 4, 8, 7, 7, 7, 2, 0, 3, 4, 1, 8, 1, 8, 7, 3, 2, 3, 6, 4, 5, 3, 6, 0, 2, 4, 8, 2, 8, 0, 2, 5, 5, 7, 9, 0, 5, 8, 5, 4, 2, 6, 3, 5, 6, 3, 4, 8, 8, 3, 2, 4, 3, 8, 8, 4, 1, 7, 2, 5, 4, 3, 0, 1, 3, 2, 7, 7, 1, 1, 4, 2, 0, 7, 5, 4, 2, 4, 3, 2, 4, 5, 6, 5, 6, 5, 9, 8, 6, 8, 2, 3, 8, 1, 6, 5, 1, 0, 7, 6, 8, 8, 0, 0, 3, 7, 7, 6, 9, 2, 3, 2, 2, 2, 5, 4, 9, 3, 8, 4, 3, 7, 4, 9, 2, 0, 6, 4, 9, 8, 7, 8, 7, 2, 0, 0, 6, 1, 2, 3, 4, 1, 0, 3, 3, 3, 5, 1, 9, 6, 7, 6, 0, 3, 3, 5, 2, 5, 6, 1, 9, 6, 0, 0, 8, 4, 8, 4, 0, 7, 5, 6, 9, 8, 0, 8, 3, 5, 9, 2, 0, 0, 2, 1, 5, 8, 0, 5, 9, 7, 7, 2, 1, 4, 9, 9, 9, 4, 1, 4, 9, 2, 3, 9, 0, 9, 3, 1, 3, 4, 2, 9, 4, 9, 2, 7, 5, 8, 5, 8, 7, 7, 2, 1, 8, 5, 6, 0, 1, 0, 2, 3, 2, 5, 9, 2, 9, 3, 0, 5, 7, 0, 1, 7, 4, 9, 3, 9, 8, 5, 0, 2, 4, 8, 9, 0, 8, 5, 7, 8, 7, 3, 9, 8, 5, 5, 1, 1, 7, 5, 6, 4, 9, 2, 0, 7, 3, 2, 3, 1, 1, 1, 2, 5, 8, 8, 8, 0, 8, 0, 1, 3, 6, 9, 3, 4, 7, 1, 0, 0, 8, 9, 4, 7, 9, 0, 3, 8, 2, 6, 8, 5, 0, 8, 6, 2, 5, 8, 4, 0, 2, 6, 4, 9, 9, 4, 9, 4, 4, 5, 9, 0, 7, 2, 5, 1, 8, 9, 4, 4, 6, 7, 5, 1, 2, 1, 7, 2, 3, 2, 3, 0, 4, 6, 3, 7, 0, 9, 5, 2, 5, 3, 2, 4, 3, 7, 3, 7, 2, 5, 8, 0, 4, 4, 3, 2, 1, 1, 8, 9, 0, 2, 9, 7, 6, 5, 2, 3, 0, 1, 3, 5, 0, 9, 4, 6, 5, 9, 7, 6, 4, 9, 5, 8, 3, 6, 7, 1, 1, 7, 9, 3, 8, 0, 1, 1, 5, 6, 7, 2, 1, 0, 0, 2, 7, 0, 2, 9, 2, 3, 0, 3, 4, 4, 6, 3, 2, 8, 1, 5, 4, 8, 1, 3, 2, 7, 0, 0, 5, 1, 5, 0, 5, 1, 6, 1, 2, 1, 2, 0, 5, 6, 6, 1, 6, 5, 8, 5, 3, 1, 6, 0, 3, 5, 5, 8, 5, 1, 5, 5, 2, 3, 2, 0, 0, 0, 8, 8, 3, 4, 7, 7, 2, 8, 0, 7, 4, 6, 0, 3, 6, 6, 1, 7, 9, 1, 2, 3, 9, 6, 5, 3, 8, 0, 9, 1, 2, 4, 0, 6, 6, 2, 5, 6, 8, 3, 3, 9, 6, 5, 0, 7, 2, 5, 8, 9, 0, 7, 3, 0, 6, 0, 1, 4, 6, 7, 5, 4, 9, 8, 1, 9, 7, 4, 9, 6, 9, 3, 2, 2, 5, 5, 9, 3, 4, 2, 0, 5, 8, 9, 8, 0, 8, 5, 9, 1, 7, 9, 5, 1, 9, 8, 1, 2, 1, 9, 5, 5, 7, 1, 7, 0, 5, 3, 4, 7, 6, 0, 3, 0, 7, 8, 4, 5, 7, 7, 5, 7, 5, 1, 0, 3, 8, 4, 5, 9, 3, 0, 9, 5, 6, 4, 9, 2, 3, 9, 8, 9, 4, 5, 9, 7, 9, 9, 9, 9, 7, 1, 0, 5, 8, 7, 0, 8, 5, 6, 8, 3, 7, 3, 9, 0, 5, 0, 0, 0, 5, 1, 1, 7, 5, 8, 1, 8, 6, 6, 7, 8, 8, 4, 9, 2, 2, 9, 7, 4, 2, 9, 7, 8, 3, 3, 2, 5, 6, 1, 7, 3, 4, 0, 4, 2, 0, 4, 6, 3, 4, 9, 4, 6, 1, 2, 7, 9, 4, 9, 5, 5, 9, 5, 6, 1, 0, 8, 6, 4, 5, 1, 7, 7, 2, 2, 5, 9, 9, 0, 9, 1, 8, 2, 8, 1, 5, 7, 7, 8, 9, 4, 7, 1, 6, 5, 8, 2, 2, 3, 7, 3, 2, 2, 0, 8, 5, 3, 4, 8, 0, 1, 5, 3, 5, 8, 1, 8, 0, 4, 3, 5, 3, 0, 5, 6, 5, 2, 5, 1, 0, 4, 5, 5, 4, 4, 7, 3, 5, 8, 1, 9, 4, 6, 7, 0, 0, 4, 8, 7, 9, 2, 7, 3, 8, 2, 0, 1, 2, 1, 4, 5, 8, 2, 5, 9, 7, 1, 8, 1, 0, 5, 9, 7, 0, 7, 2, 0, 7, 6, 1, 9, 1, 1, 2, 2, 6, 3, 7, 7, 4, 1, 5, 1, 8, 3, 4, 2, 4, 9, 6, 0, 9, 4, 7, 6, 9, 2, 4, 3, 9, 7, 2, 1, 4, 4, 3, 1, 9, 2, 0, 4, 7, 0, 7, 3, 7, 0, 7, 0, 3, 0, 0, 3, 6, 0, 5, 5, 2, 0, 0, 9, 0, 9, 8, 8, 9, 4, 4, 7, 6, 4, 1, 8, 5, 6, 2, 6, 0, 7, 5, 5, 5, 2, 6, 1, 9, 1, 1, 7, 9, 2, 6, 1, 2, 7, 8, 4, 0, 8, 1, 8, 0, 8, 0, 7, 7, 4, 4, 5, 7, 5, 8, 1, 8, 2, 8, 3, 8, 6, 2, 0, 4, 8, 0, 0, 4, 0, 9, 7, 6, 4, 8, 3, 2, 9, 3, 8, 4, 5, 7, 0, 9, 9, 0, 7, 1, 5, 4, 9, 9, 0, 9, 8, 0, 2, 0, 6, 9, 4, 9, 7, 3, 5, 4, 4, 6, 0, 8, 0, 5, 9, 2, 2, 6, 2, 1, 6, 7, 0, 1, 0, 7, 7, 9, 3, 5, 6, 6, 7, 3, 0, 9, 1, 6, 6, 0, 6, 3, 8, 5, 3, 6, 5, 2, 4, 0, 6, 5, 0, 4, 4, 5, 3, 2, 2, 5, 3, 1, 5, 6, 2, 6, 2, 9, 3, 4, 9, 5, 8, 5, 2, 5, 4, 9, 9, 6, 7, 9, 7, 4, 3, 1, 0, 9, 7, 3, 5, 0, 3, 8, 5, 1, 4, 8, 1, 2, 4, 1, 6, 9, 4, 3, 1, 3, 1, 8, 5, 6, 6, 3, 2, 1, 0, 7, 6, 3, 3, 5, 7, 0, 7, 7, 0, 8, 8, 2, 1, 2, 1, 6, 1, 9, 4, 4, 7, 4, 9, 7, 4, 9, 6, 0, 6, 0, 1, 9, 2, 0, 3, 2, 1, 2, 7, 4, 9, 2, 2, 6, 8, 8, 7, 0, 6, 2, 5, 3, 7, 4, 1, 7, 8, 8, 8, 4, 8, 4, 9, 8, 1, 0, 1, 9, 5, 5, 4, 4, 6, 5, 4, 6, 8, 5, 4, 2, 2, 1, 6, 8, 9, 9, 7, 1, 6, 9, 1, 3, 4, 0, 8, 5, 9, 6, 6, 0, 8, 6, 3, 8, 9, 7, 8, 5, 9, 5, 5, 9, 4, 7, 3, 3, 2, 8, 1, 6, 5, 7, 2, 2, 0, 0, 0, 8, 1, 3, 7, 3, 3, 0, 1, 9, 5, 0, 9, 0, 9, 0, 8, 2, 7, 9, 2, 9, 9, 1, 3, 1, 1, 3, 1, 6, 8, 9, 2, 0, 6, 8, 5, 9, 4, 3, 2, 2, 5, 3, 3, 8, 7, 5, 0, 2, 6, 5, 2, 7, 5, 8, 6, 4, 3, 3, 4, 5, 0, 3, 2, 9, 8, 1, 8, 7, 7, 1, 2, 8, 6, 5, 0, 9, 6, 5, 8, 9, 6, 1, 8, 0, 6, 9, 0, 9, 5, 5, 8, 0, 1, 5, 1, 3, 8, 7, 5, 1, 8, 5, 8, 5, 8, 9, 5, 9, 3, 9, 6, 8, 6, 8, 7, 4, 4, 3, 4, 0, 2, 3, 0, 2, 3, 0, 8, 8, 2, 6, 5, 6, 3, 4, 8, 5, 2, 7, 8, 3, 5, 6, 8, 3, 1, 8, 2, 8, 7, 8, 3, 9, 8, 6, 0, 7, 1, 4, 3, 1, 3, 9, 8, 8, 7, 1, 2, 5, 3, 0, 2, 3, 0, 2, 8, 4, 7, 4, 6, 4, 8, 4, 0, 1, 7, 0, 3, 4, 4, 4, 6, 8, 2, 6, 6, 9, 9, 8, 6, 8, 7, 8, 0, 4, 5, 2, 8, 7, 6, 8, 7, 4, 3, 5, 8, 9, 9, 3, 7, 5, 1, 3, 3, 2, 2, 5, 0, 4, 4, 4, 2, 5, 0, 5, 6, 3, 0, 4, 3, 5, 5, 4, 4, 7, 7, 0, 1, 9, 4, 5, 1, 0, 2, 3, 6, 2, 2, 6, 5, 1, 2, 7, 3, 0, 9, 8, 0, 8, 2, 5, 3, 4, 5, 6, 5, 1, 2, 2, 2, 9, 8, 6, 6, 3, 5, 6, 0, 9, 1, 0, 3, 8, 4, 3, 8, 4, 6, 5, 8, 6, 1, 0, 3, 7, 6, 9, 8, 1, 5, 1, 8, 0, 8, 8, 0, 3, 7, 3, 3, 8, 1, 0, 2, 1, 5, 3, 5, 3, 4, 0, 5, 5, 2, 0, 2, 2, 4, 9, 4, 3, 7, 1, 6, 4, 0, 2, 0, 6, 3, 7, 1, 9, 0, 9, 9, 7, 1, 3, 4, 3, 3, 7, 8, 6, 8, 3, 4, 6, 5, 6, 5, 9, 3, 1, 0, 7, 5, 6, 3, 0, 7, 9, 3, 3, 2, 6, 7, 6, 4, 0, 6, 0, 6, 2, 2, 1, 8, 5, 1, 6, 4, 8, 2, 5, 9, 3, 1, 4, 3, 2, 2, 4, 2, 2, 0, 2, 0, 3, 9, 7, 0, 2, 2, 6, 7, 0, 9, 8, 0, 0, 5, 7, 3, 1, 5, 1, 9, 2, 3, 0, 8, 9, 1, 9, 8, 8, 9, 8, 1, 9, 0, 3, 3, 8, 3, 5, 0, 2, 1, 5, 9, 1, 6, 4, 3, 0, 2, 0, 0, 7, 9, 9, 9, 7, 6, 5, 8, 3, 8, 4, 6, 5, 3, 4, 8, 9, 7, 6, 8, 2, 3, 9, 4, 1, 0, 8, 6, 7, 9, 4, 7, 5, 1, 3, 6, 1, 3, 0, 6, 5, 6, 4, 9, 5, 2, 4, 9, 0, 7, 5, 3, 6, 4, 6, 7, 2, 6, 5, 5, 0, 9, 4, 0, 8, 6, 1, 4, 0, 6, 7, 5, 4, 2, 4, 1, 8, 9, 8, 4, 6, 6, 9, 2, 3, 1, 4, 7, 7, 9, 0, 5, 6, 2, 3, 2, 5, 0, 8, 3, 8, 2, 2, 0, 8, 0, 7, 7, 0, 7, 2, 9, 8, 3, 1, 1, 7, 0, 6, 9, 1, 2, 8, 7, 8, 5, 1, 9, 6, 9, 1, 0, 8, 2, 7, 9, 3, 8, 2, 2, 0, 2, 0, 9, 1, 1, 0, 3, 8, 6, 8, 2, 5, 5, 5, 7, 4, 3, 7, 9, 4, 1, 8, 1, 9, 2, 3, 8, 0, 0, 5, 8, 2, 1, 2, 0, 6, 3, 0, 5, 9, 5, 3, 9, 8, 4, 8, 8, 6, 4, 9, 9, 5, 8, 7, 2, 9, 3, 0, 2, 7, 0, 4, 6, 9, 2, 0, 5, 7, 1, 0, 4, 6, 5, 0, 2, 2, 2, 4, 3, 6, 2, 9, 8, 6, 8, 1, 3, 3, 0, 8, 8, 5, 7, 5, 2, 9, 7, 9, 2, 0, 3, 2, 2, 8, 4, 5, 6, 5, 5, 4, 6, 6, 3, 5, 2, 9, 6, 4, 9, 3, 3, 5, 5, 4, 2, 0, 0, 2, 5, 0, 7, 5, 5, 7, 0, 4, 3, 2, 0, 4, 0, 9, 8, 4, 9, 9, 7, 5, 7, 9, 8, 1, 9, 3, 5, 8, 6, 4, 6, 9, 9, 9, 3, 7, 5, 9, 7, 8, 0, 8, 6, 9, 8, 6, 7, 1, 7, 7, 9, 8, 0, 9, 2, 6, 5, 8, 0, 5, 4, 3, 2, 8, 2, 6, 4, 0, 7, 7, 4, 0, 7, 8, 0, 2, 3, 5, 1, 6, 2, 2, 8, 2, 4, 9, 2, 4, 3, 3, 0, 9, 5, 6, 6, 4, 0, 1, 0, 3, 2, 6, 0, 4, 2, 7, 3, 6, 6, 7, 1, 4, 2, 2, 6, 4, 8, 5, 3, 5, 4, 1, 3, 8, 6, 3, 9, 2, 0, 2, 7, 2, 8, 7, 8, 2, 0, 5, 0, 0, 8, 9, 0, 3, 8, 4, 1, 6, 5, 7, 9, 8, 1, 5, 3, 5, 1, 6, 7, 9, 7, 7, 0, 7, 6, 8, 1, 3, 7, 0, 4, 2, 9, 4, 3, 6, 2, 1, 7, 8, 2, 3, 6, 3, 8, 1, 8, 4, 9, 6, 2, 3, 1, 8, 1, 4, 3, 9, 4, 1, 0, 6, 7, 4, 9, 9, 5, 5, 9, 6, 2, 3, 5, 1, 5, 9, 4, 0, 1, 4, 3, 1, 1, 8, 7, 0, 1, 5, 9, 8, 9, 7, 6, 2, 9, 0, 9, 1, 1, 3, 6, 6, 5, 7, 9, 0, 6, 6, 5, 1, 8, 1, 8, 0, 9, 5, 5, 1, 2, 0, 8, 7, 9, 1, 9, 5, 7, 5, 3, 0, 7, 4, 8, 0, 2, 5, 2, 7, 9, 7, 8, 4, 8, 5, 2, 2, 5, 9, 1, 4, 5, 1, 6, 5, 2, 9, 7, 5, 4, 7, 9, 3, 7, 2, 3, 6, 5, 8, 8, 7, 1, 0, 5, 4, 7, 2, 9, 2, 5, 8, 4, 2, 1, 7, 3, 9, 8, 2, 1, 6, 0, 1, 5, 9, 8, 6, 5, 8, 8, 8, 3, 7, 4, 3, 3, 3, 2, 6, 9, 7, 3, 9, 6, 6, 3, 7, 8, 5, 3, 0, 0, 2, 4, 4, 0, 2, 2, 5, 5, 4, 0, 6, 2, 1, 0, 8, 8, 6, 4, 5, 3, 1, 2, 4, 6, 7, 6, 8, 1, 4, 3, 9, 9, 7, 4, 7, 3, 7, 9, 5, 1, 6, 1, 8, 5, 7, 4, 4, 7, 9, 5, 7, 3, 2, 5, 2, 3, 2, 8, 7, 8, 9, 1, 6, 0, 5, 0, 1, 3, 0, 7, 3, 0, 0, 0, 7, 6, 6, 0, 7, 7, 0, 4, 0, 4, 9, 8, 7, 6, 3, 9, 0, 2, 8, 8, 2, 8, 4, 4, 8, 4, 4, 3, 4, 5, 5, 4, 2, 6, 9, 6, 4, 5, 0, 4, 2, 2, 6, 4, 6, 1, 1, 5, 1, 4, 7, 6, 8, 2, 3, 0, 3, 5, 8, 3, 6, 3, 1, 9, 1, 7, 9, 8, 9, 2, 7, 0, 6, 0, 7, 3, 6, 0, 3, 6, 3, 5, 5, 8, 4, 7, 0, 6, 6, 6, 8, 2, 4, 3, 6, 7, 9, 4, 2, 3, 8, 1, 4, 6, 3, 0, 8, 7, 4, 1, 9, 8, 8, 3, 5, 0, 4, 1, 0, 1, 2, 6, 1, 3, 6, 0, 0, 5, 6, 9, 6, 8, 4, 0, 9, 2, 2, 8, 5, 5, 3, 2, 1, 9, 4, 9, 3, 8, 9, 4, 9, 0, 5, 0, 8, 2, 3, 7, 8, 9, 4, 5, 3, 2, 5, 0, 7, 2, 1, 1, 4, 4, 8, 9, 4, 6, 9, 4, 9, 3, 5, 6, 9, 9, 7, 7, 6, 1, 6, 8, 8, 3, 1, 6, 7, 7, 2, 0, 7, 5, 2, 3, 4, 6, 9, 7, 6, 1, 6, 6, 7, 9, 9, 1, 0, 2, 2, 5, 7, 9, 9, 9, 1, 6, 4, 3, 3, 1, 3, 6, 3, 1, 1, 9, 9, 6, 3, 8, 0, 0, 2, 6, 6, 1, 4, 4, 2, 0, 2, 8, 7, 2, 5, 2, 0, 8, 7, 6, 5, 9, 5, 4, 8, 7, 3, 5, 6, 5, 1, 1, 9, 9, 9, 7, 8, 0, 6, 0, 3, 7, 7, 8, 6, 1, 1, 4, 7, 3, 7, 3, 3, 8, 6, 3, 9, 1, 0, 1, 1, 8, 2, 4, 5, 2, 3, 9, 2, 8, 8, 7, 1, 0, 8, 8, 9, 0, 0, 3, 6, 5, 1, 0, 7, 0, 8, 3, 2, 8, 9, 8, 7, 8, 5, 1, 4, 5, 0, 3, 8, 6, 9, 9, 8, 1, 3, 7, 4, 6, 8, 7, 7, 4, 0, 9, 4, 9, 6, 6, 9, 6, 4, 6, 5, 8, 9, 3, 0, 8, 1, 3, 3, 2, 1, 7, 3, 9, 7, 1, 7, 1, 3, 1, 8, 0, 4, 9, 1, 3, 7, 5, 4, 9, 0, 7, 8, 2, 9, 8, 4, 4, 8, 5, 0, 2, 8, 8, 5, 9, 6, 7, 0, 7, 6, 9, 5, 2, 1, 7, 5, 7, 3, 2, 2, 0, 7, 9, 6, 3, 7, 2, 1, 9, 6, 1, 9, 5, 6, 2, 8, 4, 7, 5, 9, 6, 2, 3, 3, 9, 5, 6, 0, 5, 6, 3, 6, 0, 7, 7, 6, 6, 1, 1, 5, 5, 4, 4, 3, 6, 8, 3, 7, 5, 3, 1, 5, 2, 2, 8, 2, 7, 5, 5, 7, 3, 1, 9, 0, 0, 7, 2, 6, 0, 1, 0, 8, 1, 0, 7, 6, 4, 6, 1, 4, 1, 2, 8, 0, 9, 6, 1, 7, 6, 4, 3, 3, 3, 9, 9, 0, 8, 0, 8, 0, 1, 7, 8, 8, 5, 1, 6, 1, 3, 9, 3, 0, 8, 8, 4, 7, 1, 8, 6, 2, 7, 2, 9, 5, 8, 1, 4, 9, 6, 9, 6, 7, 3, 1, 0, 1, 6, 7, 4, 8, 1, 9, 6, 2, 0, 4, 5, 0, 3, 9, 1, 9, 5, 8, 3, 5, 2, 6, 8, 1, 1, 5, 1, 0, 6, 0, 9, 3, 3, 8, 8, 1, 3, 2, 2, 7, 5, 9, 7, 5, 7, 2, 2, 6, 9, 9, 6, 3, 6, 8, 3, 5, 3, 1, 7, 2, 5, 8, 5, 4, 7, 9, 3, 8, 4, 3, 5, 1, 5, 7, 1, 1, 4, 1, 0, 1, 3, 5, 1, 5, 6, 0, 0, 3, 3, 8, 9, 1, 4, 1, 4, 0, 5, 1, 0, 0, 6, 0, 5, 4, 6, 0, 4, 5, 9, 8, 5, 5, 7, 0, 1, 2, 0, 7, 0, 5, 8, 6, 9, 0, 2, 6, 2, 1, 9, 5, 8, 8, 3, 3, 9, 5, 5, 2, 6, 8, 5, 8, 1, 0, 0, 0, 2, 0, 2, 1, 1, 3, 4, 5, 1, 8, 8, 1, 8, 8, 1, 2, 3, 4, 3, 5, 7, 5, 9, 6, 3, 9, 6, 1, 4, 1, 1, 1, 1, 8, 7, 1, 1, 4, 9, 4, 4, 3, 3, 9, 3, 6, 1, 4, 7, 6, 4, 3, 7, 9, 5, 1, 3, 0, 1, 2, 3, 3, 7, 6, 4, 6, 6, 8, 3, 7, 0, 1, 7, 8, 3, 0, 9, 0, 6, 9, 5, 6, 7, 0, 9, 1, 5, 4, 3, 5, 7, 5, 7, 0, 1, 6, 8, 6, 0, 8, 1, 7, 0, 5, 9, 1, 9, 5, 2, 6, 3, 4, 9, 0, 0, 7, 1, 5, 1, 8, 2, 8, 5, 8, 5, 2, 2, 4, 2, 4, 9, 7, 4, 3, 3, 2, 9, 7, 8, 8, 6, 4, 2, 3, 1, 5, 6, 1, 7, 5, 6, 5, 2, 0, 8, 3, 5, 5, 1, 0, 4, 4, 5, 2, 5, 0, 2, 2, 3, 4, 7, 5, 2, 7, 9, 1, 0, 0, 2, 7, 7, 0, 4, 3, 3, 4, 8, 7, 8, 6, 1, 4, 9, 4, 8, 5, 6, 2, 2, 8, 4, 1, 7, 0, 3, 7, 8, 7, 9, 8, 1, 1, 3, 6, 7, 3, 7, 3, 6, 1, 8, 9, 9, 2, 8, 9, 2, 9, 3, 1, 8, 8, 3, 3, 3, 9, 7, 1, 7, 5, 6, 0, 2, 7, 2, 5, 6, 4, 4, 3, 6, 7, 5, 7, 4, 6, 7, 7, 9, 2, 6, 3, 1, 8, 3, 9, 4, 3, 5, 8, 8, 6, 8, 9, 3, 9, 6, 3, 6, 0, 8, 3, 3, 7, 9, 7, 9, 5, 7, 1, 5, 1, 7, 8, 8, 6, 6, 3, 0, 8, 2, 5, 9, 8, 6, 0, 9, 8, 5, 5, 0, 0, 2, 1, 3, 1, 6, 1, 8, 2, 9, 9, 9, 2, 5, 5, 5, 7, 1, 8, 2, 9, 5, 0, 6, 7, 1, 4, 3, 8, 4, 8, 3, 3, 4, 7, 9, 8, 3, 7, 9, 6, 8, 9, 7, 1, 2, 8, 8, 9, 3, 1, 5, 0, 3, 6, 8, 7, 9, 5, 6, 6, 0, 9, 1, 1, 3, 7, 8, 1, 5, 7, 3, 0, 7, 7, 3, 9, 4, 4, 6, 6, 4, 4, 6, 8, 4, 8, 2, 5, 3, 1, 8, 7, 6, 9, 5, 7, 6, 8, 8, 2, 3, 9, 2, 1, 4, 3, 8, 1, 7, 3, 5, 4, 3, 3, 4, 8, 7, 2, 5, 1, 4, 2, 0, 1, 0, 2, 6, 9, 1, 1]\n"
          ]
        }
      ]
    },
    {
      "cell_type": "code",
      "source": [
        "print(train_data.classes)"
      ],
      "metadata": {
        "colab": {
          "base_uri": "https://localhost:8080/"
        },
        "id": "EUtqC4xkYKzI",
        "outputId": "92369866-4501-4905-a0d6-ec83a3f8abb9"
      },
      "execution_count": 5,
      "outputs": [
        {
          "output_type": "stream",
          "name": "stdout",
          "text": [
            "['airplane', 'automobile', 'bird', 'cat', 'deer', 'dog', 'frog', 'horse', 'ship', 'truck']\n"
          ]
        }
      ]
    },
    {
      "cell_type": "code",
      "source": [
        "print(train_data.class_to_idx)"
      ],
      "metadata": {
        "colab": {
          "base_uri": "https://localhost:8080/"
        },
        "id": "31lmcVwzVd91",
        "outputId": "608074bc-3ce1-4396-a1c9-a7f02cc290a3"
      },
      "execution_count": 6,
      "outputs": [
        {
          "output_type": "stream",
          "name": "stdout",
          "text": [
            "{'airplane': 0, 'automobile': 1, 'bird': 2, 'cat': 3, 'deer': 4, 'dog': 5, 'frog': 6, 'horse': 7, 'ship': 8, 'truck': 9}\n"
          ]
        }
      ]
    },
    {
      "cell_type": "code",
      "source": [
        "test_data = CIFAR10(root=\"./test/\",train=False,download=True)\n",
        "print(test_data)"
      ],
      "metadata": {
        "colab": {
          "base_uri": "https://localhost:8080/",
          "height": 153,
          "referenced_widgets": [
            "d7561062823440708d5a5ce4f44df3ff",
            "d8a73ada9ce8485abb47de6e39785b6e",
            "e5d3b6d90b384d16a727cfa5810da088",
            "a0ce5717bc29447bae0fca51d0f2dde7",
            "f605792ade7442e1898cf808d6ec7623",
            "ea660b0b8dea41d8a3837ffcaedccdd3",
            "efc3fa9bbaf1493894bbcc4d3337c9a1",
            "8027ffc85045465fbfba65d58fac3951",
            "491d14e43519499991d11cab41c8e843",
            "33cbdfa8ad584d08b447c2074cc1f128",
            "47abfaa030f34c4a947c9f18bcf473e8"
          ]
        },
        "id": "Ytfj4KqfVQND",
        "outputId": "256eb3fe-3a58-4fc6-faff-bf113d742f61"
      },
      "execution_count": 7,
      "outputs": [
        {
          "output_type": "stream",
          "name": "stdout",
          "text": [
            "Downloading https://www.cs.toronto.edu/~kriz/cifar-10-python.tar.gz to ./test/cifar-10-python.tar.gz\n"
          ]
        },
        {
          "output_type": "display_data",
          "data": {
            "text/plain": [
              "  0%|          | 0/170498071 [00:00<?, ?it/s]"
            ],
            "application/vnd.jupyter.widget-view+json": {
              "version_major": 2,
              "version_minor": 0,
              "model_id": "d7561062823440708d5a5ce4f44df3ff"
            }
          },
          "metadata": {}
        },
        {
          "output_type": "stream",
          "name": "stdout",
          "text": [
            "Extracting ./test/cifar-10-python.tar.gz to ./test/\n",
            "Dataset CIFAR10\n",
            "    Number of datapoints: 10000\n",
            "    Root location: ./test/\n",
            "    Split: Test\n"
          ]
        }
      ]
    },
    {
      "cell_type": "code",
      "source": [
        "print(test_data.data.shape)"
      ],
      "metadata": {
        "colab": {
          "base_uri": "https://localhost:8080/"
        },
        "id": "IJARfWMyVZWl",
        "outputId": "ab077a49-9cbb-42df-b262-7bda74d37034"
      },
      "execution_count": 8,
      "outputs": [
        {
          "output_type": "stream",
          "name": "stdout",
          "text": [
            "(10000, 32, 32, 3)\n"
          ]
        }
      ]
    },
    {
      "cell_type": "markdown",
      "source": [
        "## Taking a close look at training dataset"
      ],
      "metadata": {
        "id": "SKhGjR59aZlQ"
      }
    },
    {
      "cell_type": "code",
      "source": [
        "print(type(train_data[0]))"
      ],
      "metadata": {
        "colab": {
          "base_uri": "https://localhost:8080/"
        },
        "id": "GpxicU55MMvL",
        "outputId": "bab424d3-311a-424c-d88c-c8e9664b299f"
      },
      "execution_count": 9,
      "outputs": [
        {
          "output_type": "stream",
          "name": "stdout",
          "text": [
            "<class 'tuple'>\n"
          ]
        }
      ]
    },
    {
      "cell_type": "code",
      "source": [
        "print(len(train_data[0]))"
      ],
      "metadata": {
        "colab": {
          "base_uri": "https://localhost:8080/"
        },
        "id": "iZPQolojMRie",
        "outputId": "318a6c38-1030-4f9f-bd2d-33fe150ef2bc"
      },
      "execution_count": 10,
      "outputs": [
        {
          "output_type": "stream",
          "name": "stdout",
          "text": [
            "2\n"
          ]
        }
      ]
    },
    {
      "cell_type": "code",
      "source": [
        "train_data[0]"
      ],
      "metadata": {
        "colab": {
          "base_uri": "https://localhost:8080/"
        },
        "id": "qHdj8JSEMTay",
        "outputId": "884b580d-b75b-4019-cff8-5a98c6c005b5"
      },
      "execution_count": 11,
      "outputs": [
        {
          "output_type": "execute_result",
          "data": {
            "text/plain": [
              "(<PIL.Image.Image image mode=RGB size=32x32 at 0x7F90D14DF7D0>, 6)"
            ]
          },
          "metadata": {},
          "execution_count": 11
        }
      ]
    },
    {
      "cell_type": "code",
      "source": [
        "data, label = train_data[0]"
      ],
      "metadata": {
        "id": "-P85Wbe0M3Ci"
      },
      "execution_count": 12,
      "outputs": []
    },
    {
      "cell_type": "code",
      "source": [
        "print(type(data))"
      ],
      "metadata": {
        "colab": {
          "base_uri": "https://localhost:8080/"
        },
        "id": "OsLWsn5GM73W",
        "outputId": "2efbda00-b763-4caa-d07f-9ebd7ccb0d18"
      },
      "execution_count": 13,
      "outputs": [
        {
          "output_type": "stream",
          "name": "stdout",
          "text": [
            "<class 'PIL.Image.Image'>\n"
          ]
        }
      ]
    },
    {
      "cell_type": "code",
      "source": [
        "print(data)"
      ],
      "metadata": {
        "colab": {
          "base_uri": "https://localhost:8080/"
        },
        "id": "zDaFmHdmNEiU",
        "outputId": "f321b7f7-d364-4462-e8d9-fe1ea5545cf1"
      },
      "execution_count": 14,
      "outputs": [
        {
          "output_type": "stream",
          "name": "stdout",
          "text": [
            "<PIL.Image.Image image mode=RGB size=32x32 at 0x7F90D2299F90>\n"
          ]
        }
      ]
    },
    {
      "cell_type": "code",
      "source": [
        "print(label)"
      ],
      "metadata": {
        "colab": {
          "base_uri": "https://localhost:8080/"
        },
        "id": "sJrDIPPdPI9z",
        "outputId": "8dc0fedf-038c-43a7-9b94-0277216faeef"
      },
      "execution_count": 16,
      "outputs": [
        {
          "output_type": "stream",
          "name": "stdout",
          "text": [
            "6\n"
          ]
        }
      ]
    },
    {
      "cell_type": "code",
      "source": [
        "from PIL import Image\n",
        "import matplotlib.pyplot as plt\n",
        "plt.imshow(data)\n",
        "plt.title(train_data.classes[label])\n",
        "plt.show()"
      ],
      "metadata": {
        "colab": {
          "base_uri": "https://localhost:8080/",
          "height": 281
        },
        "id": "0UFRrZL7NJdA",
        "outputId": "1bec0b16-8680-4149-9922-9328339b6535"
      },
      "execution_count": 18,
      "outputs": [
        {
          "output_type": "display_data",
          "data": {
            "text/plain": [
              "<Figure size 432x288 with 1 Axes>"
            ],
            "image/png": "[encoded data removed]"
          },
          "metadata": {
            "needs_background": "light"
          }
        }
      ]
    },
    {
      "cell_type": "markdown",
      "source": [
        "## Data Transforms"
      ],
      "metadata": {
        "id": "U6IbriigPoMg"
      }
    },
    {
      "cell_type": "code",
      "source": [
        "from torchvision import transforms\n",
        "train_transforms = transforms.Compose([\n",
        "                        transforms.RandomCrop(32, padding=4),\n",
        "                        transforms.RandomHorizontalFlip(),\n",
        "                        transforms.ToTensor(),\n",
        "                        transforms.Normalize(mean=(0.4914, 0.4822, 0.4465),std=(0.2023, 0.1994, 0.2010))])"
      ],
      "metadata": {
        "id": "MTjTiZwNNota"
      },
      "execution_count": 20,
      "outputs": []
    },
    {
      "cell_type": "code",
      "source": [
        "train_data = CIFAR10(root=\"./train/\",train=True,download=True,transform=train_transforms)\n"
      ],
      "metadata": {
        "colab": {
          "base_uri": "https://localhost:8080/"
        },
        "id": "ZNk_r9geQKNf",
        "outputId": "203d7d1f-9f13-47ad-d3cf-54fa1dd87afb"
      },
      "execution_count": 21,
      "outputs": [
        {
          "output_type": "stream",
          "name": "stdout",
          "text": [
            "Files already downloaded and verified\n",
            "Files already downloaded and verified\n"
          ]
        }
      ]
    },
    {
      "cell_type": "code",
      "source": [
        "print(train_data)"
      ],
      "metadata": {
        "colab": {
          "base_uri": "https://localhost:8080/"
        },
        "id": "6a29v2FqRAgE",
        "outputId": "ff5b6e1b-4d9e-4587-d6e9-d02eac82816b"
      },
      "execution_count": 22,
      "outputs": [
        {
          "output_type": "stream",
          "name": "stdout",
          "text": [
            "Dataset CIFAR10\n",
            "    Number of datapoints: 50000\n",
            "    Root location: ./train/\n",
            "    Split: Train\n",
            "    StandardTransform\n",
            "Transform: Compose(\n",
            "               RandomCrop(size=(32, 32), padding=4)\n",
            "               RandomHorizontalFlip(p=0.5)\n",
            "               ToTensor()\n",
            "               Normalize(mean=(0.4914, 0.4822, 0.4465), std=(0.2023, 0.1994, 0.201))\n",
            "           )\n"
          ]
        }
      ]
    },
    {
      "cell_type": "code",
      "source": [
        "print(test_data)"
      ],
      "metadata": {
        "colab": {
          "base_uri": "https://localhost:8080/"
        },
        "id": "udy6f2lPRDuq",
        "outputId": "4c25e803-3c46-4fb2-a95c-393918e3e1a5"
      },
      "execution_count": 23,
      "outputs": [
        {
          "output_type": "stream",
          "name": "stdout",
          "text": [
            "Dataset CIFAR10\n",
            "    Number of datapoints: 10000\n",
            "    Root location: ./test/\n",
            "    Split: Test\n",
            "    StandardTransform\n",
            "Transform: Compose(\n",
            "               RandomCrop(size=(32, 32), padding=4)\n",
            "               RandomHorizontalFlip(p=0.5)\n",
            "               ToTensor()\n",
            "               Normalize(mean=(0.4914, 0.4822, 0.4465), std=(0.2023, 0.1994, 0.201))\n",
            "           )\n"
          ]
        }
      ]
    },
    {
      "cell_type": "code",
      "source": [
        "print(train_data.transforms)"
      ],
      "metadata": {
        "colab": {
          "base_uri": "https://localhost:8080/"
        },
        "id": "_hah3tmrRF2S",
        "outputId": "7a999e2c-2fd6-4a3c-fc5c-0d93cd5ea8e4"
      },
      "execution_count": 24,
      "outputs": [
        {
          "output_type": "stream",
          "name": "stdout",
          "text": [
            "StandardTransform\n",
            "Transform: Compose(\n",
            "               RandomCrop(size=(32, 32), padding=4)\n",
            "               RandomHorizontalFlip(p=0.5)\n",
            "               ToTensor()\n",
            "               Normalize(mean=(0.4914, 0.4822, 0.4465), std=(0.2023, 0.1994, 0.201))\n",
            "           )\n"
          ]
        }
      ]
    },
    {
      "cell_type": "code",
      "source": [
        "print(test_data.transforms)"
      ],
      "metadata": {
        "colab": {
          "base_uri": "https://localhost:8080/"
        },
        "id": "rcwfJncSRJZC",
        "outputId": "ba6669eb-d605-4fa9-eb00-52c94c03b894"
      },
      "execution_count": 25,
      "outputs": [
        {
          "output_type": "stream",
          "name": "stdout",
          "text": [
            "StandardTransform\n",
            "Transform: Compose(\n",
            "               RandomCrop(size=(32, 32), padding=4)\n",
            "               RandomHorizontalFlip(p=0.5)\n",
            "               ToTensor()\n",
            "               Normalize(mean=(0.4914, 0.4822, 0.4465), std=(0.2023, 0.1994, 0.201))\n",
            "           )\n"
          ]
        }
      ]
    },
    {
      "cell_type": "code",
      "source": [
        "data, label = train_data[0]"
      ],
      "metadata": {
        "id": "munSNblRRLuj"
      },
      "execution_count": 26,
      "outputs": []
    },
    {
      "cell_type": "code",
      "source": [
        "print(type(data))"
      ],
      "metadata": {
        "colab": {
          "base_uri": "https://localhost:8080/"
        },
        "id": "SFPa8IazRivY",
        "outputId": "6422441d-e633-4320-dbd0-00c88c87ec2c"
      },
      "execution_count": 28,
      "outputs": [
        {
          "output_type": "stream",
          "name": "stdout",
          "text": [
            "<class 'torch.Tensor'>\n"
          ]
        }
      ]
    },
    {
      "cell_type": "code",
      "source": [
        "data.shape"
      ],
      "metadata": {
        "colab": {
          "base_uri": "https://localhost:8080/"
        },
        "id": "Jc5LTu_RSycY",
        "outputId": "ba6bc4b0-6ef8-4cd1-b68f-9bdc1bfa825d"
      },
      "execution_count": 36,
      "outputs": [
        {
          "output_type": "execute_result",
          "data": {
            "text/plain": [
              "torch.Size([3, 32, 32])"
            ]
          },
          "metadata": {},
          "execution_count": 36
        }
      ]
    },
    {
      "cell_type": "code",
      "source": [
        "from PIL import Image\n",
        "import matplotlib.pyplot as plt\n",
        "# Set the color channel as the third dimension\n",
        "image = data.numpy().transpose((1, 2, 0))\n",
        "plt.imshow(image)\n",
        "plt.title(train_data.classes[label])\n",
        "plt.show()"
      ],
      "metadata": {
        "colab": {
          "base_uri": "https://localhost:8080/",
          "height": 298
        },
        "id": "d4HwPbdtRZFk",
        "outputId": "3fdcb291-fe4d-4d22-f1e7-632a24be7a7a"
      },
      "execution_count": 35,
      "outputs": [
        {
          "output_type": "stream",
          "name": "stderr",
          "text": [
            "WARNING:matplotlib.image:Clipping input data to the valid range for imshow with RGB data ([0..1] for floats or [0..255] for integers).\n"
          ]
        },
        {
          "output_type": "display_data",
          "data": {
            "text/plain": [
              "<Figure size 432x288 with 1 Axes>"
            ],
            "image/png": "[encoded data removed]"
          },
          "metadata": {
            "needs_background": "light"
          }
        }
      ]
    },
    {
      "cell_type": "markdown",
      "source": [
        "## Test Transforms"
      ],
      "metadata": {
        "id": "X20nbkD6iPe0"
      }
    },
    {
      "cell_type": "markdown",
      "source": [
        "* In the case of test data, we do not\n",
        "want to crop or flip the image.\n",
        "* We just need to convert the\n",
        "image to tensors and normalize the tensor values."
      ],
      "metadata": {
        "id": "fQtYOviPiiOj"
      }
    },
    {
      "cell_type": "code",
      "source": [
        "test_transforms = transforms.Compose([\n",
        "                                      transforms.ToTensor(),\n",
        "                                      transforms.Normalize((0.4914, 0.4822, 0.4465),(0.2023, 0.1994, 0.2010))])\n",
        "test_data = CIFAR10(root=\"./test/\",train=False,download=True,transform=test_transforms)"
      ],
      "metadata": {
        "colab": {
          "base_uri": "https://localhost:8080/"
        },
        "id": "gSFiG7DCTVtc",
        "outputId": "7746bd0e-6f66-4551-9771-60e33598a12b"
      },
      "execution_count": 37,
      "outputs": [
        {
          "output_type": "stream",
          "name": "stdout",
          "text": [
            "Files already downloaded and verified\n"
          ]
        }
      ]
    },
    {
      "cell_type": "code",
      "source": [
        "test_data"
      ],
      "metadata": {
        "colab": {
          "base_uri": "https://localhost:8080/"
        },
        "id": "wprHRru2ieVT",
        "outputId": "9bcb7a61-c575-4bc4-9e7e-c10a23143fb9"
      },
      "execution_count": 38,
      "outputs": [
        {
          "output_type": "execute_result",
          "data": {
            "text/plain": [
              "Dataset CIFAR10\n",
              "    Number of datapoints: 10000\n",
              "    Root location: ./test/\n",
              "    Split: Test\n",
              "    StandardTransform\n",
              "Transform: Compose(\n",
              "               ToTensor()\n",
              "               Normalize(mean=(0.4914, 0.4822, 0.4465), std=(0.2023, 0.1994, 0.201))\n",
              "           )"
            ]
          },
          "metadata": {},
          "execution_count": 38
        }
      ]
    },
    {
      "cell_type": "markdown",
      "source": [
        "## Data Batching"
      ],
      "metadata": {
        "id": "Lnxoi8m2iyYx"
      }
    },
    {
      "cell_type": "markdown",
      "source": [
        "* when we train your model, we will want to pass in small batches of data at each iteration\n",
        "* Sending data in batches not only allows more efficient\n",
        "training but also takes advantage of the parallel nature of\n",
        "GPUs to accelerate training\n",
        "* Batch processing can easily be implemented using the **torch.utils.data.DataLoader** class."
      ],
      "metadata": {
        "id": "VStDziuFi6kI"
      }
    },
    {
      "cell_type": "code",
      "source": [
        "import torch\n",
        "trainloader = torch.utils.data.DataLoader(train_data,batch_size=16,shuffle=True)"
      ],
      "metadata": {
        "id": "jUbt_Iewie47"
      },
      "execution_count": 40,
      "outputs": []
    },
    {
      "cell_type": "markdown",
      "source": [
        "## retrieve a batch of samplesfrom the trainloader:"
      ],
      "metadata": {
        "id": "Sejg6uZvpQxv"
      }
    },
    {
      "cell_type": "markdown",
      "source": [
        "* We need to use iter() to cast the trainloader to an iterator\n",
        "and \n",
        "* then use next() to iterate over the data one more time.\n",
        "* This is only necessary when accessing one batch"
      ],
      "metadata": {
        "id": "H6kq9UqLplbs"
      }
    },
    {
      "cell_type": "code",
      "source": [
        "data_batch, labels_batch = next(iter(trainloader))\n",
        "print(data_batch.size())"
      ],
      "metadata": {
        "colab": {
          "base_uri": "https://localhost:8080/"
        },
        "id": "bDgIg-8npMw5",
        "outputId": "f9c99720-7a7a-4734-a8ba-9516a80bb500"
      },
      "execution_count": 41,
      "outputs": [
        {
          "output_type": "stream",
          "name": "stdout",
          "text": [
            "torch.Size([16, 3, 32, 32])\n"
          ]
        }
      ]
    },
    {
      "cell_type": "code",
      "source": [
        "print(labels_batch.size())"
      ],
      "metadata": {
        "colab": {
          "base_uri": "https://localhost:8080/"
        },
        "id": "imIwiYLgpbGU",
        "outputId": "b62526c7-4551-4194-83b5-287a54594270"
      },
      "execution_count": 42,
      "outputs": [
        {
          "output_type": "stream",
          "name": "stdout",
          "text": [
            "torch.Size([16])\n"
          ]
        }
      ]
    },
    {
      "cell_type": "code",
      "source": [
        "testloader = torch.utils.data.DataLoader(test_data,batch_size=16,shuffle=False) # no need to shuffle test data"
      ],
      "metadata": {
        "id": "IU_N2_-Gpd0s"
      },
      "execution_count": 44,
      "outputs": []
    },
    {
      "cell_type": "markdown",
      "source": [
        "## General Data Preparation (torch.utils.data)"
      ],
      "metadata": {
        "id": "Du65HUZ8qTu6"
      }
    },
    {
      "cell_type": "markdown",
      "source": [
        "* We can use PyTorch to prepare\n",
        "other types of data as well. \n",
        "* PyTorch libraries such as\n",
        "**Torchtext** and **Torchaudio** provide dataset and dataloader\n",
        "classes for text and audio data\n",
        "* PyTorch also provides a submodule called torch.utils.data\n",
        "that you can use to create your own dataset and dataloader\n",
        "classes.\n",
        "* It consists of **Dataset, Sampler, and DataLoader classes**.\n",
        "* The simplest way to create your own dataset class is to subclass the map-style **torch.utils.data.Dataset** class and\n",
        "override the getitem() and len() functions with your\n",
        "own code.\n",
        "* TensorDataset(tensors) - Creates a dataset object from a tensor\n",
        "* ConcatDataset(datasets) - Creates a dataset from multiple datasets\n",
        "* ChainDataset(datasets) - Chains multiple IterableDatasets\n",
        "* Subset(dataset, indices) - Creates a subset of a dataset from specified indices"
      ],
      "metadata": {
        "id": "80TgB7GOqdfP"
      }
    },
    {
      "cell_type": "markdown",
      "source": [
        "## Sampler Class - Offers a way to iterate over indices of dataset samples.\n",
        "* Every Sampler subclass needs to implement an iter() method\n",
        "to provide a way to iterate over indices of dataset elements and\n",
        "a len() method that returns the length of the returned iterators.\n",
        "\n",
        "* SequentialSampler(data_source) -Samples data in\n",
        "sequence\n",
        "* RandomSampler(data_source, replace\n",
        "ment=False, num_samples=None,\n",
        "generator=None)\n",
        "Samples data\n",
        "randomly\n",
        "* SubsetRandomSampler(indices,\n",
        "generator=None)\n",
        "Samples data\n",
        "randomly from a\n",
        "subset of the\n",
        "dataset\n",
        "* WeightedRandomSampler(weights,\n",
        "num_samples, replacement=True,\n",
        "generator=None)\n",
        "Samples randomly\n",
        "from a weighted\n",
        "distribution\n",
        "* BatchSampler(sampler, batch_size,\n",
        "drop_last)\n",
        "Returns a batch of\n",
        "samples\n",
        "distributed.\n",
        "*DistributedSampler(dataset,\n",
        "num_replicas=None, rank=None,\n",
        "shuffle=True, seed=0)\n",
        "Samples across\n",
        "distributed\n",
        "datasets"
      ],
      "metadata": {
        "id": "FYrKG4lVwtik"
      }
    },
    {
      "cell_type": "markdown",
      "source": [
        "##DataLoader classes\n",
        "\n",
        "* The dataset and sampler objects are not iterables, meaning you\n",
        "cannot run a for loop on them. \n",
        "* The dataloader object solves\n",
        "this problem."
      ],
      "metadata": {
        "id": "CZIUB9Er6ztE"
      }
    },
    {
      "cell_type": "code",
      "source": [
        "torch.utils.data.DataLoader(\n",
        "train_data,\n",
        "batch_size=1,\n",
        "shuffle=False,\n",
        "sampler=None,\n",
        "batch_sampler=None,\n",
        "num_workers=0,\n",
        "collate_fn=None,\n",
        "pin_memory=False,\n",
        "drop_last=False,\n",
        "timeout=0,\n",
        "worker_init_fn=None,\n",
        "multiprocessing_context=None,\n",
        "generator=None)"
      ],
      "metadata": {
        "colab": {
          "base_uri": "https://localhost:8080/"
        },
        "id": "dIeRs3XsqVFa",
        "outputId": "3d393f3f-0019-49b9-8556-0b079c93836e"
      },
      "execution_count": 46,
      "outputs": [
        {
          "output_type": "execute_result",
          "data": {
            "text/plain": [
              "<torch.utils.data.dataloader.DataLoader at 0x7f90cedee450>"
            ]
          },
          "metadata": {},
          "execution_count": 46
        }
      ]
    },
    {
      "cell_type": "markdown",
      "source": [
        "* If we write your own dataset class, all you need to do is call the\n",
        "built-in DataLoader to generate an iterable for your data.\n",
        "* There\n",
        "is no need to create a dataloader class from scratch"
      ],
      "metadata": {
        "id": "40xaYS-C8v7l"
      }
    },
    {
      "cell_type": "markdown",
      "source": [
        "## Using existing and pretrained models"
      ],
      "metadata": {
        "id": "C0_1AdkG-JyL"
      }
    },
    {
      "cell_type": "markdown",
      "source": [
        "* By default, the model will be untrained and have randomly initialized\n",
        "weights. \n",
        "* However, in our situation we want to use a\n",
        "pretrained model, so we set pretrained = True"
      ],
      "metadata": {
        "id": "WKquwDHs_HbE"
      }
    },
    {
      "cell_type": "code",
      "source": [
        "from torchvision import models\n",
        "vgg16 = models.vgg16(pretrained=True)"
      ],
      "metadata": {
        "colab": {
          "base_uri": "https://localhost:8080/",
          "height": 156,
          "referenced_widgets": [
            "81dcfe23b17848939f8983f2d39c88eb",
            "a31fd6dfdcd54a3ba34de6973a314759",
            "e7febcda257545d897016d00981ce314",
            "21a87fd2d7a1453ba37ac7fa5d0eca86",
            "9bbd53d7271a42b692f6908b3d628244",
            "726a5f4e919647fb85b0f706b5030ec2",
            "3c3527a7339b4799aeffd1eda2375ecf",
            "ab59d13890a84063888b226feba7ab16",
            "538430c898864815bfec7fe13d306151",
            "afae98020e7442b4a4e9724a015e587b",
            "a4a1ed24f65a4c61beeae1e2eca39ae4"
          ]
        },
        "id": "422kNi9W8M32",
        "outputId": "2402e5bc-f13b-467c-dfad-300ae9576339"
      },
      "execution_count": 47,
      "outputs": [
        {
          "output_type": "stream",
          "name": "stderr",
          "text": [
            "/usr/local/lib/python3.7/dist-packages/torchvision/models/_utils.py:209: UserWarning: The parameter 'pretrained' is deprecated since 0.13 and will be removed in 0.15, please use 'weights' instead.\n",
            "  f\"The parameter '{pretrained_param}' is deprecated since 0.13 and will be removed in 0.15, \"\n",
            "/usr/local/lib/python3.7/dist-packages/torchvision/models/_utils.py:223: UserWarning: Arguments other than a weight enum or `None` for 'weights' are deprecated since 0.13 and will be removed in 0.15. The current behavior is equivalent to passing `weights=VGG16_Weights.IMAGENET1K_V1`. You can also use `weights=VGG16_Weights.DEFAULT` to get the most up-to-date weights.\n",
            "  warnings.warn(msg)\n",
            "Downloading: \"https://download.pytorch.org/models/vgg16-397923af.pth\" to /root/.cache/torch/hub/checkpoints/vgg16-397923af.pth\n"
          ]
        },
        {
          "output_type": "display_data",
          "data": {
            "text/plain": [
              "  0%|          | 0.00/528M [00:00<?, ?B/s]"
            ],
            "application/vnd.jupyter.widget-view+json": {
              "version_major": 2,
              "version_minor": 0,
              "model_id": "81dcfe23b17848939f8983f2d39c88eb"
            }
          },
          "metadata": {}
        }
      ]
    },
    {
      "cell_type": "markdown",
      "source": [
        "The VGG16 model consists of\n",
        "three parts: \n",
        "* features, \n",
        "* avgpool, and \n",
        "* classifier"
      ],
      "metadata": {
        "id": "0XS7A1rW_7rT"
      }
    },
    {
      "cell_type": "code",
      "source": [
        "print(vgg16.classifier)"
      ],
      "metadata": {
        "colab": {
          "base_uri": "https://localhost:8080/"
        },
        "id": "w2aK-WM7_2Rl",
        "outputId": "c94f7e43-ebed-4093-e47f-1235a5a976a7"
      },
      "execution_count": 48,
      "outputs": [
        {
          "output_type": "stream",
          "name": "stdout",
          "text": [
            "Sequential(\n",
            "  (0): Linear(in_features=25088, out_features=4096, bias=True)\n",
            "  (1): ReLU(inplace=True)\n",
            "  (2): Dropout(p=0.5, inplace=False)\n",
            "  (3): Linear(in_features=4096, out_features=4096, bias=True)\n",
            "  (4): ReLU(inplace=True)\n",
            "  (5): Dropout(p=0.5, inplace=False)\n",
            "  (6): Linear(in_features=4096, out_features=1000, bias=True)\n",
            ")\n"
          ]
        }
      ]
    },
    {
      "cell_type": "markdown",
      "source": [
        "Linear, ReLU, and Dropout are torch.nn modules. torch.nn is\n",
        "used to create NN layers, activations, loss functions, and other\n",
        "NN component"
      ],
      "metadata": {
        "id": "65AnyD4vDHr0"
      }
    },
    {
      "cell_type": "markdown",
      "source": [
        "* PyTorch Hub is another excellent resource for existing and pretrained\n",
        "PyTorch models. \n",
        "* You can load models from another\n",
        "repository using the torch.hub.load() API."
      ],
      "metadata": {
        "id": "PDNHYbGCGMrW"
      }
    },
    {
      "cell_type": "code",
      "source": [
        "# WaveGlow that is used to generate speech from the NVIDIA DeepLearningExamples repository\n",
        "waveglow = torch.hub.load('nvidia/DeepLearningExamples:torchhub','nvidia_waveglow')"
      ],
      "metadata": {
        "colab": {
          "base_uri": "https://localhost:8080/"
        },
        "id": "baXdvtMCGP3n",
        "outputId": "ffecd284-778b-418e-a7b1-0997fed936ff"
      },
      "execution_count": 50,
      "outputs": [
        {
          "output_type": "stream",
          "name": "stderr",
          "text": [
            "/usr/local/lib/python3.7/dist-packages/torch/hub.py:267: UserWarning: You are about to download and run code from an untrusted repository. In a future release, this won't be allowed. To add the repository to your trusted list, change the command to {calling_fn}(..., trust_repo=False) and a command prompt will appear asking for an explicit confirmation of trust, or load(..., trust_repo=True), which will assume that the prompt is to be answered with 'yes'. You can also use load(..., trust_repo='check') which will only prompt for confirmation if the repo is not already trusted. This will eventually be the default behaviour\n",
            "  \"You are about to download and run code from an untrusted repository. In a future release, this won't \"\n",
            "Downloading: \"https://github.com/nvidia/DeepLearningExamples/zipball/torchhub\" to /root/.cache/torch/hub/torchhub.zip\n",
            "/root/.cache/torch/hub/nvidia_DeepLearningExamples_torchhub/PyTorch/Classification/ConvNets/image_classification/models/common.py:14: UserWarning: pytorch_quantization module not found, quantization will not be available\n",
            "  \"pytorch_quantization module not found, quantization will not be available\"\n",
            "/root/.cache/torch/hub/nvidia_DeepLearningExamples_torchhub/PyTorch/Classification/ConvNets/image_classification/models/efficientnet.py:18: UserWarning: pytorch_quantization module not found, quantization will not be available\n",
            "  \"pytorch_quantization module not found, quantization will not be available\"\n",
            "Downloading checkpoint from https://api.ngc.nvidia.com/v2/models/nvidia/waveglow_ckpt_fp32/versions/19.09.0/files/nvidia_waveglowpyt_fp32_20190427\n"
          ]
        }
      ]
    },
    {
      "cell_type": "markdown",
      "source": [
        "## The PyTorch NN module (torch.nn)\n",
        "One of the most powerful features of PyTorch is its Python\n",
        "module torch.nn, which makes it easy to design and experiment\n",
        "with new models"
      ],
      "metadata": {
        "id": "j1Xce9xuGwUG"
      }
    },
    {
      "cell_type": "code",
      "source": [
        "import torch.nn as nn\n",
        "import torch.nn.functional as F\n",
        "class SimpleNet(nn.Module):\n",
        "  def __init__(self):\n",
        "    super(SimpleNet, self).__init__()\n",
        "    self.fc1 = nn.Linear(2048, 256)\n",
        "    self.fc2 = nn.Linear(256, 64)\n",
        "    self.fc3 = nn.Linear(64,2)\n",
        "  #The forward() function defines how data is passed through the network\n",
        "  def forward(self, x):\n",
        "    #we first use view() to reshape the input into a 2,048-element vector\n",
        "    x = x.view(-1, 2048)\n",
        "    x = F.relu(self.fc1(x))\n",
        "    x = F.relu(self.fc2(x))\n",
        "    x = F.softmax(self.fc3(x),dim=1)\n",
        "    return x"
      ],
      "metadata": {
        "id": "4jKYw_A6GydS"
      },
      "execution_count": 51,
      "outputs": []
    },
    {
      "cell_type": "code",
      "source": [
        "simplenet = SimpleNet()\n",
        "print(simplenet)"
      ],
      "metadata": {
        "colab": {
          "base_uri": "https://localhost:8080/"
        },
        "id": "75k1o_6jH1bq",
        "outputId": "64145db6-1198-41c0-ff8c-67e60018b97d"
      },
      "execution_count": 52,
      "outputs": [
        {
          "output_type": "stream",
          "name": "stdout",
          "text": [
            "SimpleNet(\n",
            "  (fc1): Linear(in_features=2048, out_features=256, bias=True)\n",
            "  (fc2): Linear(in_features=256, out_features=64, bias=True)\n",
            "  (fc3): Linear(in_features=64, out_features=2, bias=True)\n",
            ")\n"
          ]
        }
      ]
    },
    {
      "cell_type": "code",
      "source": [
        "input = torch.rand(2048)\n",
        "output = simplenet(input)"
      ],
      "metadata": {
        "id": "CF5dpxNyJJiJ"
      },
      "execution_count": 53,
      "outputs": []
    },
    {
      "cell_type": "code",
      "source": [
        "input"
      ],
      "metadata": {
        "colab": {
          "base_uri": "https://localhost:8080/"
        },
        "id": "NlYhzIAaJOt1",
        "outputId": "3a9af2c0-7e6e-4a9c-8099-1ec32241eee1"
      },
      "execution_count": 55,
      "outputs": [
        {
          "output_type": "execute_result",
          "data": {
            "text/plain": [
              "tensor([0.2858, 0.1387, 0.1158,  ..., 0.7350, 0.4782, 0.8434])"
            ]
          },
          "metadata": {},
          "execution_count": 55
        }
      ]
    },
    {
      "cell_type": "code",
      "source": [
        "output"
      ],
      "metadata": {
        "colab": {
          "base_uri": "https://localhost:8080/"
        },
        "id": "XApEATdDJLjC",
        "outputId": "8cbd47cc-a5e0-4418-e664-0c005481470c"
      },
      "execution_count": 54,
      "outputs": [
        {
          "output_type": "execute_result",
          "data": {
            "text/plain": [
              "tensor([[0.5149, 0.4851]], grad_fn=<SoftmaxBackward0>)"
            ]
          },
          "metadata": {},
          "execution_count": 54
        }
      ]
    },
    {
      "cell_type": "markdown",
      "source": [
        "![image.png](data:image/png;base64,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)"
      ],
      "metadata": {
        "id": "306j3IsOJlWb"
      }
    },
    {
      "cell_type": "markdown",
      "source": [
        "![image.png](data:image/png;base64,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)"
      ],
      "metadata": {
        "id": "UilriPahJtMz"
      }
    },
    {
      "cell_type": "markdown",
      "source": [
        "## Fundamental training loop"
      ],
      "metadata": {
        "id": "ZjtsNX5WJ3Ec"
      }
    },
    {
      "cell_type": "code",
      "source": [
        "from torch import nn\n",
        "import torch.nn.functional as F\n",
        "class LeNet5(nn.Module):\n",
        "  def __init__(self):\n",
        "    super(LeNet5, self).__init__()\n",
        "    self.conv1 = nn.Conv2d(3, 6, 5)\n",
        "    self.conv2 = nn.Conv2d(6, 16, 5)\n",
        "    self.fc1 = nn.Linear(16 * 5 * 5, 120)\n",
        "    self.fc2 = nn.Linear(120, 84)\n",
        "    self.fc3 = nn.Linear(84, 10)\n",
        "  def forward(self, x):\n",
        "    x = F.max_pool2d(F.relu(self.conv1(x)),(2, 2))\n",
        "    x = F.max_pool2d(F.relu(self.conv2(x)), 2)\n",
        "    x = x.view(-1,int(x.nelement() / x.shape[0]))\n",
        "    x = F.relu(self.fc1(x))\n",
        "    x = F.relu(self.fc2(x))\n",
        "    x = self.fc3(x)\n",
        "    return x"
      ],
      "metadata": {
        "id": "OzMHyt9AJMlA"
      },
      "execution_count": 56,
      "outputs": []
    },
    {
      "cell_type": "code",
      "source": [
        "device = ('cuda' if torch.cuda.is_available()else 'cpu')\n",
        "model = LeNet5().to(device=device)"
      ],
      "metadata": {
        "id": "so21XSYaLVoa"
      },
      "execution_count": 57,
      "outputs": []
    },
    {
      "cell_type": "code",
      "source": [
        "from torch import optim\n",
        "from torch import nn\n",
        "criterion = nn.CrossEntropyLoss()\n",
        "optimizer = optim.SGD(model.parameters(),lr=0.001,momentum=0.9)"
      ],
      "metadata": {
        "id": "DcCQuEoJLa9M"
      },
      "execution_count": 58,
      "outputs": []
    },
    {
      "cell_type": "markdown",
      "source": [
        "* Outer training loop; loop over 10 epochs.\n",
        "* Move inputs and labels to GPU if available.\n",
        "* Zero out gradients before each backpropagation pass, or\n",
        "they’ll accumulate.\n",
        "* Perform forward pass.\n",
        "* Compute loss.\n",
        "* Perform backpropagation; compute gradients.\n",
        "* Adjust parameters based on gradients.\n",
        "* Accumulate batch loss so we can average over the epoch."
      ],
      "metadata": {
        "id": "qIDonqBhNoyY"
      }
    },
    {
      "cell_type": "code",
      "source": [
        "N_EPOCHS = 10\n",
        "for epoch in range(N_EPOCHS):\n",
        "  epoch_loss = 0.0\n",
        "  for inputs, labels in trainloader:\n",
        "    inputs = inputs.to(device)\n",
        "    labels = labels.to(device)\n",
        "    optimizer.zero_grad()\n",
        "    outputs = model(inputs)\n",
        "    loss = criterion(outputs, labels)\n",
        "    loss.backward()\n",
        "    optimizer.step()\n",
        "    epoch_loss += loss.item()\n",
        "print(\"Epoch: {} Loss: {}\".format(epoch,epoch_loss/len(trainloader)))"
      ],
      "metadata": {
        "colab": {
          "base_uri": "https://localhost:8080/"
        },
        "id": "BJ3D6mGyMc6Z",
        "outputId": "1bc1b6d0-ea34-4b89-e0b0-751c6503992d"
      },
      "execution_count": 59,
      "outputs": [
        {
          "output_type": "stream",
          "name": "stdout",
          "text": [
            "Epoch: 9 Loss: 1.1648161047554015\n"
          ]
        }
      ]
    },
    {
      "cell_type": "markdown",
      "source": [
        "* The CrossEntropyLoss() function includes the softmax\n",
        "calculation, which is usually performed in the last step of\n",
        "an NN classifier model. When using CrossEntropyLoss(),\n",
        "do not include Softmax() in the output layer of your\n",
        "model definition."
      ],
      "metadata": {
        "id": "iFueyLf2PAoJ"
      }
    },
    {
      "cell_type": "markdown",
      "source": [
        "![image.png](data:image/png;base64,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)"
      ],
      "metadata": {
        "id": "-7rm9C2FP3Ru"
      }
    },
    {
      "cell_type": "markdown",
      "source": [
        "## Validation"
      ],
      "metadata": {
        "id": "CUHi-iy8P4TV"
      }
    },
    {
      "cell_type": "code",
      "source": [
        "from torch.utils.data import random_split\n",
        "train_set, val_set = random_split(train_data,[40000, 10000])\n",
        "trainloader = torch.utils.data.DataLoader(train_set,batch_size=512,shuffle=True)\n",
        "valloader = torch.utils.data.DataLoader(val_set,batch_size=1512,shuffle=True)\n",
        "print(len(trainloader))"
      ],
      "metadata": {
        "colab": {
          "base_uri": "https://localhost:8080/"
        },
        "id": "YjdYwn24P_Jh",
        "outputId": "a1eaa319-0000-4bea-9864-1116cad2f586"
      },
      "execution_count": 67,
      "outputs": [
        {
          "output_type": "stream",
          "name": "stdout",
          "text": [
            "79\n"
          ]
        }
      ]
    },
    {
      "cell_type": "code",
      "source": [
        "print(len(valloader))"
      ],
      "metadata": {
        "colab": {
          "base_uri": "https://localhost:8080/"
        },
        "id": "xe4Zg0AkQjAF",
        "outputId": "0354ba53-7515-40e5-89f4-7060d4cb060d"
      },
      "execution_count": 68,
      "outputs": [
        {
          "output_type": "stream",
          "name": "stdout",
          "text": [
            "7\n"
          ]
        }
      ]
    },
    {
      "cell_type": "code",
      "source": [
        "from torch import optim\n",
        "from torch import nn\n",
        "model = LeNet5().to(device)\n",
        "criterion = nn.CrossEntropyLoss()\n",
        "optimizer = optim.SGD(model.parameters(),lr=0.001,momentum=0.9)"
      ],
      "metadata": {
        "id": "iaMiqlWIQjag"
      },
      "execution_count": 69,
      "outputs": []
    },
    {
      "cell_type": "code",
      "source": [
        "N_EPOCHS = 10\n",
        "for epoch in range(N_EPOCHS):\n",
        "  # Training\n",
        "  train_loss = 0.0\n",
        "  model.train()\n",
        "  for inputs, labels in trainloader:\n",
        "    inputs = inputs.to(device)\n",
        "    labels = labels.to(device)\n",
        "    optimizer.zero_grad()\n",
        "    outputs = model(inputs)\n",
        "    loss = criterion(outputs, labels)\n",
        "    loss.backward()\n",
        "    optimizer.step()\n",
        "    train_loss += loss.item()\n",
        "    # Validation\n",
        "    val_loss = 0.0\n",
        "    model.eval()\n",
        "    for inputs, labels in valloader:\n",
        "      inputs = inputs.to(device)\n",
        "      labels = labels.to(device)\n",
        "      outputs = model(inputs)\n",
        "      loss = criterion(outputs, labels)\n",
        "      val_loss += loss.item()\n",
        "  print(\"Epoch: {} Train Loss: {} Val Loss: {}\".format(epoch,train_loss/len(trainloader),val_loss/len(valloader)))"
      ],
      "metadata": {
        "colab": {
          "base_uri": "https://localhost:8080/"
        },
        "id": "GyibqyLjQs1E",
        "outputId": "2ba234e7-3498-40ca-c127-39a81631ed5d"
      },
      "execution_count": 70,
      "outputs": [
        {
          "output_type": "stream",
          "name": "stdout",
          "text": [
            "Epoch: 0 Train Loss: 2.303408206263675 Val Loss: 2.301523889814104\n",
            "Epoch: 1 Train Loss: 2.300256623497492 Val Loss: 2.298623664038522\n",
            "Epoch: 2 Train Loss: 2.2967697246165217 Val Loss: 2.2945592403411865\n",
            "Epoch: 3 Train Loss: 2.2911272562002836 Val Loss: 2.286679301943098\n",
            "Epoch: 4 Train Loss: 2.2789421202261235 Val Loss: 2.268791879926409\n",
            "Epoch: 5 Train Loss: 2.2488997073113164 Val Loss: 2.2246549810682024\n",
            "Epoch: 6 Train Loss: 2.1896681695044795 Val Loss: 2.158351182937622\n",
            "Epoch: 7 Train Loss: 2.1243385121792175 Val Loss: 2.0990657806396484\n",
            "Epoch: 8 Train Loss: 2.077928905245624 Val Loss: 2.063817467008318\n",
            "Epoch: 9 Train Loss: 2.04359555998935 Val Loss: 2.0385115827832903\n"
          ]
        }
      ]
    },
    {
      "cell_type": "markdown",
      "source": [
        "## Testing"
      ],
      "metadata": {
        "id": "rUio3TXDYqYm"
      }
    },
    {
      "cell_type": "code",
      "source": [
        "num_correct = 0.0\n",
        "for x_test_batch, y_test_batch in testloader:\n",
        "  model.eval()\n",
        "  y_test_batch = y_test_batch.to(device)\n",
        "  x_test_batch = x_test_batch.to(device)\n",
        "  y_pred_batch = model(x_test_batch)\n",
        "  _, predicted = torch.max(y_pred_batch, 1)\n",
        "  num_correct += (predicted ==y_test_batch).float().sum()\n",
        "accuracy = num_correct/(len(testloader)*testloader.batch_size)\n",
        "print(len(testloader), testloader.batch_size)\n",
        "print(\"Test Accuracy: {}\".format(accuracy))"
      ],
      "metadata": {
        "colab": {
          "base_uri": "https://localhost:8080/"
        },
        "id": "T8oypXU9YrpY",
        "outputId": "3e4deb80-eae4-414e-811d-649a57d4ee95"
      },
      "execution_count": 80,
      "outputs": [
        {
          "output_type": "stream",
          "name": "stdout",
          "text": [
            "625 16\n",
            "Test Accuracy: 0.27730000019073486\n"
          ]
        }
      ]
    },
    {
      "cell_type": "code",
      "source": [
        "accuracy"
      ],
      "metadata": {
        "colab": {
          "base_uri": "https://localhost:8080/"
        },
        "id": "WnQNAN4b3Hx4",
        "outputId": "152773f9-cb5c-4653-9882-031e6209c96d"
      },
      "execution_count": 78,
      "outputs": [
        {
          "output_type": "execute_result",
          "data": {
            "text/plain": [
              "tensor(0.2773, device='cuda:0')"
            ]
          },
          "metadata": {},
          "execution_count": 78
        }
      ]
    },
    {
      "cell_type": "markdown",
      "source": [
        "## Saving Models"
      ],
      "metadata": {
        "id": "hRSvRwj0Y7J6"
      }
    },
    {
      "cell_type": "markdown",
      "source": [
        "* A common PyTorch convention is to save models using\n",
        "either a .pt or .pth file extension."
      ],
      "metadata": {
        "id": "JTFrmJDeZGa6"
      }
    },
    {
      "cell_type": "code",
      "source": [
        "torch.save(model.state_dict(), \"./lenet5_model.pt\")\n",
        "model = LeNet5().to(device)\n",
        "model.load_state_dict(torch.load(\"./lenet5_model.pt\"))"
      ],
      "metadata": {
        "colab": {
          "base_uri": "https://localhost:8080/"
        },
        "id": "qyZBu1o5Y8a7",
        "outputId": "e83aedd6-678f-4f64-99eb-9863fdd30871"
      },
      "execution_count": 72,
      "outputs": [
        {
          "output_type": "execute_result",
          "data": {
            "text/plain": [
              "<All keys matched successfully>"
            ]
          },
          "metadata": {},
          "execution_count": 72
        }
      ]
    },
    {
      "cell_type": "markdown",
      "source": [
        "## Deploying to PyTorch Hub"
      ],
      "metadata": {
        "id": "jjdj5sdCZZKX"
      }
    },
    {
      "cell_type": "markdown",
      "source": [
        "* PyTorch Hub is a pretrained model repository designed to\n",
        "facilitate research reproducibility"
      ],
      "metadata": {
        "id": "pJr4GfXXZeTc"
      }
    },
    {
      "cell_type": "code",
      "source": [
        "import torch\n",
        "from torchvision.models import *\n",
        "vgg16 = torch.hub.load(\"pytorch/vision:v0.13.0\",'vgg16', pretrained=True)"
      ],
      "metadata": {
        "colab": {
          "base_uri": "https://localhost:8080/"
        },
        "id": "m-Bx54dDZaHW",
        "outputId": "8f7e02a7-5648-4ced-afb7-79802de6cf27"
      },
      "execution_count": 76,
      "outputs": [
        {
          "output_type": "stream",
          "name": "stderr",
          "text": [
            "Downloading: \"https://github.com/pytorch/vision/zipball/v0.13.0\" to /root/.cache/torch/hub/v0.13.0.zip\n",
            "/usr/local/lib/python3.7/dist-packages/torchvision/models/_utils.py:209: UserWarning: The parameter 'pretrained' is deprecated since 0.13 and will be removed in 0.15, please use 'weights' instead.\n",
            "  f\"The parameter '{pretrained_param}' is deprecated since 0.13 and will be removed in 0.15, \"\n",
            "/usr/local/lib/python3.7/dist-packages/torchvision/models/_utils.py:223: UserWarning: Arguments other than a weight enum or `None` for 'weights' are deprecated since 0.13 and will be removed in 0.15. The current behavior is equivalent to passing `weights=VGG16_Weights.IMAGENET1K_V1`. You can also use `weights=VGG16_Weights.DEFAULT` to get the most up-to-date weights.\n",
            "  warnings.warn(msg)\n"
          ]
        }
      ]
    },
    {
      "cell_type": "markdown",
      "source": [
        "##The hubconf.py\n",
        "\n",
        "* This is a configuration file sets torch as a dependency. \n",
        "* Any function\n",
        "defined in this file will act as an endpoint, so simply importing\n",
        "the VGG16 function does the job:\n"
      ],
      "metadata": {
        "id": "8c63Sn0HZpUx"
      }
    },
    {
      "cell_type": "code",
      "source": [
        "dependencies = ['torch']\n",
        "from torchvision.models.vgg import vgg16\n",
        "# vgg16 is the name of the entrypoint\n",
        "def vgg16(pretrained=False, **kwargs):\n",
        "  \"\"\" # This docstring shows up in hub.help():\n",
        "      VGG16 model\n",
        "    pretrained (bool): kwargs,\n",
        "      load pretrained weights into the model\n",
        "  \"\"\"\n",
        "  # Call the model; load pretrained weights\n",
        "  model = _vgg16(pretrained=pretrained, **kwargs)\n",
        "  return model"
      ],
      "metadata": {
        "id": "ONNkfdb_ZzCi"
      },
      "execution_count": 77,
      "outputs": []
    }
  ]
}